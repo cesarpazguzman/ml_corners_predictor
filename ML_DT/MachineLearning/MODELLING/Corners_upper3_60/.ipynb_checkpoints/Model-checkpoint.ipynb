{
 "cells": [
  {
   "cell_type": "code",
   "execution_count": 1,
   "id": "0705929c",
   "metadata": {},
   "outputs": [],
   "source": [
    "import pymysql\n",
    "from sklearn.ensemble import RandomForestClassifier\n",
    "from sqlalchemy import create_engine\n",
    "import pandas as pd\n",
    "import matplotlib.pyplot as plt\n",
    "%matplotlib inline\n",
    "import numpy as np\n",
    "from pandasql import sqldf\n",
    "from sklearn import metrics\n",
    "\n",
    "import xgboost as xgb\n",
    "from sklearn.metrics import accuracy_score, confusion_matrix"
   ]
  },
  {
   "cell_type": "code",
   "execution_count": 2,
   "id": "0121f51f",
   "metadata": {},
   "outputs": [],
   "source": [
    "data = pd.read_csv(\"../../FEATURE_ENGINEER/tablon_uppert_60_q3.csv\")\n",
    "\n",
    "tablon = data[data.YEARMONTH<202109][[\"AVG_CORNERSHOMED1_L3\",\n",
    "                                                                 \"AVG_CORNERSHOMED2_L5\", \"AVG_CORNERSAWAYD1_L5\",\n",
    "                                      \"CORNERS_DIV_SHOTS\",\"AVG_CORNERSAWAYD2_L5\", \"LEAGUE_INGLATERRA\", \"TOTAL_CORNERS\",\n",
    "                                      \"LAST_MINUTECORNER_H_L60\", \"LAST_MINUTECORNER_A_L60\", \"SUM_CORNERS_L60\",\n",
    "                                      \"AVG_CORNERS_LOSE_HOME\",\"CORNERS_A\", \"AVG_CORNERSHOMED1_L5\", \n",
    "                                      \"output\",\"TOTAL_CORNERS_45_60\"]]\n",
    "\n",
    "\n",
    "X_validation = data[(data.YEARMONTH>=202109) & (data.YEARMONTH<202111)][[\"AVG_CORNERSHOMED1_L3\",\"AVG_CORNERSHOMED2_L5\",\n",
    "                                                                          \"AVG_CORNERSAWAYD1_L5\",\n",
    "                                      \"CORNERS_DIV_SHOTS\",\"AVG_CORNERSAWAYD2_L5\", \"LEAGUE_INGLATERRA\", \"TOTAL_CORNERS\",\n",
    "                                      \"LAST_MINUTECORNER_H_L60\", \"LAST_MINUTECORNER_A_L60\", \"SUM_CORNERS_L60\",\n",
    "                                      \"AVG_CORNERS_LOSE_HOME\",\"CORNERS_A\", \"AVG_CORNERSHOMED1_L5\", \n",
    "                                      \"output\",\"TOTAL_CORNERS_45_60\"]]\n",
    "y_validation = X_validation.pop(\"output\")\n",
    "\n",
    "\n",
    "X_validation_november = data[data.YEARMONTH>=202111][[\"AVG_CORNERSHOMED1_L3\",\"AVG_CORNERSHOMED2_L5\", \"AVG_CORNERSAWAYD1_L5\",\n",
    "                                      \"CORNERS_DIV_SHOTS\",\"AVG_CORNERSAWAYD2_L5\", \"LEAGUE_INGLATERRA\", \"TOTAL_CORNERS\",\n",
    "                                      \"LAST_MINUTECORNER_H_L60\", \"LAST_MINUTECORNER_A_L60\", \"SUM_CORNERS_L60\",\n",
    "                                      \"AVG_CORNERS_LOSE_HOME\",\"CORNERS_A\", \"AVG_CORNERSHOMED1_L5\", \n",
    "                                      \"output\",\"TOTAL_CORNERS_45_60\"]]\n",
    "y_validation_november = X_validation_november.pop(\"output\")"
   ]
  },
  {
   "cell_type": "code",
   "execution_count": 3,
   "id": "5ad0b69b",
   "metadata": {},
   "outputs": [],
   "source": [
    "len_test = int(round(len(tablon)*0.3, 0))\n",
    "len_train = int(round(len(tablon)*0.7, 0))"
   ]
  },
  {
   "cell_type": "code",
   "execution_count": 4,
   "id": "b3d8b56c",
   "metadata": {},
   "outputs": [],
   "source": [
    "X_train = tablon[:len_train]\n",
    "y_train = X_train.pop(\"output\")\n",
    "X_test = tablon[len_train:(len_train+len_test)]\n",
    "y_test = X_test.pop(\"output\")"
   ]
  },
  {
   "cell_type": "code",
   "execution_count": 5,
   "id": "3fe938f9",
   "metadata": {},
   "outputs": [
    {
     "data": {
      "text/plain": [
       "((7818, 14), (3351, 14), (378, 14))"
      ]
     },
     "execution_count": 5,
     "metadata": {},
     "output_type": "execute_result"
    }
   ],
   "source": [
    "X_train.shape, X_test.shape, X_validation.shape"
   ]
  },
  {
   "cell_type": "code",
   "execution_count": 6,
   "id": "e4371695",
   "metadata": {},
   "outputs": [
    {
     "data": {
      "text/plain": [
       "0    4579\n",
       "1    3239\n",
       "Name: output, dtype: int64"
      ]
     },
     "execution_count": 6,
     "metadata": {},
     "output_type": "execute_result"
    }
   ],
   "source": [
    "y_train.value_counts()"
   ]
  },
  {
   "cell_type": "code",
   "execution_count": 7,
   "id": "f73ee8e1",
   "metadata": {},
   "outputs": [
    {
     "data": {
      "text/plain": [
       "0    2071\n",
       "1    1280\n",
       "Name: output, dtype: int64"
      ]
     },
     "execution_count": 7,
     "metadata": {},
     "output_type": "execute_result"
    }
   ],
   "source": [
    "y_test.value_counts()"
   ]
  },
  {
   "cell_type": "code",
   "execution_count": 8,
   "id": "b178d2af",
   "metadata": {},
   "outputs": [
    {
     "data": {
      "text/plain": [
       "0    250\n",
       "1    128\n",
       "Name: output, dtype: int64"
      ]
     },
     "execution_count": 8,
     "metadata": {},
     "output_type": "execute_result"
    }
   ],
   "source": [
    "y_validation.value_counts()"
   ]
  },
  {
   "cell_type": "markdown",
   "id": "35058c53",
   "metadata": {},
   "source": [
    "## EXECUTING BEST MODEL"
   ]
  },
  {
   "cell_type": "code",
   "execution_count": 9,
   "id": "9353c5e4",
   "metadata": {},
   "outputs": [
    {
     "name": "stdout",
     "output_type": "stream",
     "text": [
      "[0]\tvalidation_0-auc:0.59879\tvalidation_0-logloss:0.69176\tvalidation_0-error:0.38138\n"
     ]
    },
    {
     "name": "stderr",
     "output_type": "stream",
     "text": [
      "/home/root/opt/python3.7.11/lib/python3.7/site-packages/xgboost/sklearn.py:1224: UserWarning: The use of label encoder in XGBClassifier is deprecated and will be removed in a future release. To remove this warning, do the following: 1) Pass option use_label_encoder=False when constructing XGBClassifier object; and 2) Encode your labels (y) as integers starting with 0, i.e. 0, 1, 2, ..., [num_class - 1].\n",
      "  warnings.warn(label_encoder_deprecation_msg, UserWarning)\n"
     ]
    },
    {
     "name": "stdout",
     "output_type": "stream",
     "text": [
      "[1]\tvalidation_0-auc:0.60927\tvalidation_0-logloss:0.69038\tvalidation_0-error:0.38615\n",
      "[2]\tvalidation_0-auc:0.61937\tvalidation_0-logloss:0.68899\tvalidation_0-error:0.38317\n",
      "[3]\tvalidation_0-auc:0.62128\tvalidation_0-logloss:0.68778\tvalidation_0-error:0.38108\n",
      "[4]\tvalidation_0-auc:0.61940\tvalidation_0-logloss:0.68655\tvalidation_0-error:0.38317\n",
      "[5]\tvalidation_0-auc:0.61569\tvalidation_0-logloss:0.68536\tvalidation_0-error:0.38556\n",
      "[6]\tvalidation_0-auc:0.61545\tvalidation_0-logloss:0.68418\tvalidation_0-error:0.38406\n",
      "[7]\tvalidation_0-auc:0.61885\tvalidation_0-logloss:0.68298\tvalidation_0-error:0.38138\n",
      "[8]\tvalidation_0-auc:0.61994\tvalidation_0-logloss:0.68189\tvalidation_0-error:0.37959\n",
      "[9]\tvalidation_0-auc:0.61983\tvalidation_0-logloss:0.68076\tvalidation_0-error:0.38227\n",
      "[10]\tvalidation_0-auc:0.62050\tvalidation_0-logloss:0.67964\tvalidation_0-error:0.38406\n",
      "[11]\tvalidation_0-auc:0.61961\tvalidation_0-logloss:0.67862\tvalidation_0-error:0.38287\n",
      "[12]\tvalidation_0-auc:0.62030\tvalidation_0-logloss:0.67757\tvalidation_0-error:0.38556\n",
      "[13]\tvalidation_0-auc:0.62065\tvalidation_0-logloss:0.67655\tvalidation_0-error:0.38586\n",
      "[14]\tvalidation_0-auc:0.62104\tvalidation_0-logloss:0.67556\tvalidation_0-error:0.38466\n",
      "[15]\tvalidation_0-auc:0.61967\tvalidation_0-logloss:0.67465\tvalidation_0-error:0.38406\n",
      "[16]\tvalidation_0-auc:0.62000\tvalidation_0-logloss:0.67372\tvalidation_0-error:0.38257\n",
      "[17]\tvalidation_0-auc:0.62049\tvalidation_0-logloss:0.67280\tvalidation_0-error:0.38377\n",
      "[18]\tvalidation_0-auc:0.62057\tvalidation_0-logloss:0.67190\tvalidation_0-error:0.38466\n",
      "[19]\tvalidation_0-auc:0.61937\tvalidation_0-logloss:0.67108\tvalidation_0-error:0.38496\n",
      "[20]\tvalidation_0-auc:0.61859\tvalidation_0-logloss:0.67028\tvalidation_0-error:0.38586\n",
      "[21]\tvalidation_0-auc:0.61856\tvalidation_0-logloss:0.66948\tvalidation_0-error:0.38556\n",
      "[22]\tvalidation_0-auc:0.61860\tvalidation_0-logloss:0.66875\tvalidation_0-error:0.38317\n",
      "[23]\tvalidation_0-auc:0.61952\tvalidation_0-logloss:0.66793\tvalidation_0-error:0.38377\n",
      "[24]\tvalidation_0-auc:0.61899\tvalidation_0-logloss:0.66722\tvalidation_0-error:0.38317\n",
      "[25]\tvalidation_0-auc:0.61970\tvalidation_0-logloss:0.66644\tvalidation_0-error:0.38406\n",
      "[26]\tvalidation_0-auc:0.61986\tvalidation_0-logloss:0.66569\tvalidation_0-error:0.38287\n",
      "[27]\tvalidation_0-auc:0.61888\tvalidation_0-logloss:0.66503\tvalidation_0-error:0.38257\n",
      "[28]\tvalidation_0-auc:0.61875\tvalidation_0-logloss:0.66433\tvalidation_0-error:0.38078\n",
      "[29]\tvalidation_0-auc:0.61844\tvalidation_0-logloss:0.66367\tvalidation_0-error:0.38406\n",
      "[30]\tvalidation_0-auc:0.61843\tvalidation_0-logloss:0.66301\tvalidation_0-error:0.38406\n",
      "[31]\tvalidation_0-auc:0.61863\tvalidation_0-logloss:0.66235\tvalidation_0-error:0.38198\n",
      "[32]\tvalidation_0-auc:0.61821\tvalidation_0-logloss:0.66175\tvalidation_0-error:0.38466\n",
      "[33]\tvalidation_0-auc:0.61874\tvalidation_0-logloss:0.66111\tvalidation_0-error:0.38466\n",
      "[34]\tvalidation_0-auc:0.61895\tvalidation_0-logloss:0.66050\tvalidation_0-error:0.38317\n",
      "[35]\tvalidation_0-auc:0.61898\tvalidation_0-logloss:0.65993\tvalidation_0-error:0.38556\n",
      "[36]\tvalidation_0-auc:0.61920\tvalidation_0-logloss:0.65933\tvalidation_0-error:0.38466\n",
      "[37]\tvalidation_0-auc:0.61952\tvalidation_0-logloss:0.65874\tvalidation_0-error:0.38436\n",
      "[38]\tvalidation_0-auc:0.61917\tvalidation_0-logloss:0.65823\tvalidation_0-error:0.38496\n",
      "[39]\tvalidation_0-auc:0.61864\tvalidation_0-logloss:0.65774\tvalidation_0-error:0.38586\n",
      "[40]\tvalidation_0-auc:0.61886\tvalidation_0-logloss:0.65719\tvalidation_0-error:0.38526\n",
      "[41]\tvalidation_0-auc:0.61884\tvalidation_0-logloss:0.65670\tvalidation_0-error:0.38496\n",
      "[42]\tvalidation_0-auc:0.61857\tvalidation_0-logloss:0.65623\tvalidation_0-error:0.38496\n",
      "[43]\tvalidation_0-auc:0.61851\tvalidation_0-logloss:0.65577\tvalidation_0-error:0.38377\n",
      "[44]\tvalidation_0-auc:0.61878\tvalidation_0-logloss:0.65526\tvalidation_0-error:0.38347\n",
      "[45]\tvalidation_0-auc:0.61864\tvalidation_0-logloss:0.65485\tvalidation_0-error:0.38436\n",
      "[46]\tvalidation_0-auc:0.61827\tvalidation_0-logloss:0.65440\tvalidation_0-error:0.38287\n",
      "[47]\tvalidation_0-auc:0.61810\tvalidation_0-logloss:0.65397\tvalidation_0-error:0.38406\n",
      "[48]\tvalidation_0-auc:0.61839\tvalidation_0-logloss:0.65350\tvalidation_0-error:0.38406\n",
      "[49]\tvalidation_0-auc:0.61848\tvalidation_0-logloss:0.65308\tvalidation_0-error:0.38496\n",
      "[50]\tvalidation_0-auc:0.61862\tvalidation_0-logloss:0.65264\tvalidation_0-error:0.38466\n",
      "[51]\tvalidation_0-auc:0.61841\tvalidation_0-logloss:0.65226\tvalidation_0-error:0.38645\n",
      "[52]\tvalidation_0-auc:0.61845\tvalidation_0-logloss:0.65187\tvalidation_0-error:0.38526\n",
      "[53]\tvalidation_0-auc:0.61821\tvalidation_0-logloss:0.65148\tvalidation_0-error:0.38556\n",
      "[54]\tvalidation_0-auc:0.61805\tvalidation_0-logloss:0.65113\tvalidation_0-error:0.38586\n",
      "[55]\tvalidation_0-auc:0.61800\tvalidation_0-logloss:0.65077\tvalidation_0-error:0.38556\n",
      "[56]\tvalidation_0-auc:0.61832\tvalidation_0-logloss:0.65038\tvalidation_0-error:0.38675\n",
      "[57]\tvalidation_0-auc:0.61811\tvalidation_0-logloss:0.65004\tvalidation_0-error:0.38586\n",
      "[58]\tvalidation_0-auc:0.61802\tvalidation_0-logloss:0.64971\tvalidation_0-error:0.38556\n",
      "[59]\tvalidation_0-auc:0.61793\tvalidation_0-logloss:0.64939\tvalidation_0-error:0.38556\n",
      "[60]\tvalidation_0-auc:0.61833\tvalidation_0-logloss:0.64902\tvalidation_0-error:0.38556\n",
      "[61]\tvalidation_0-auc:0.61818\tvalidation_0-logloss:0.64872\tvalidation_0-error:0.38675\n",
      "[62]\tvalidation_0-auc:0.61813\tvalidation_0-logloss:0.64842\tvalidation_0-error:0.38645\n",
      "[63]\tvalidation_0-auc:0.61850\tvalidation_0-logloss:0.64809\tvalidation_0-error:0.38556\n",
      "[64]\tvalidation_0-auc:0.61864\tvalidation_0-logloss:0.64775\tvalidation_0-error:0.38645\n",
      "[65]\tvalidation_0-auc:0.61882\tvalidation_0-logloss:0.64745\tvalidation_0-error:0.38645\n",
      "[66]\tvalidation_0-auc:0.61878\tvalidation_0-logloss:0.64717\tvalidation_0-error:0.38645\n",
      "[67]\tvalidation_0-auc:0.61890\tvalidation_0-logloss:0.64687\tvalidation_0-error:0.38794\n",
      "[68]\tvalidation_0-auc:0.61930\tvalidation_0-logloss:0.64656\tvalidation_0-error:0.38824\n",
      "[69]\tvalidation_0-auc:0.61955\tvalidation_0-logloss:0.64626\tvalidation_0-error:0.38914\n",
      "[70]\tvalidation_0-auc:0.61936\tvalidation_0-logloss:0.64600\tvalidation_0-error:0.38884\n",
      "[71]\tvalidation_0-auc:0.61965\tvalidation_0-logloss:0.64571\tvalidation_0-error:0.38824\n",
      "[72]\tvalidation_0-auc:0.61974\tvalidation_0-logloss:0.64547\tvalidation_0-error:0.38794\n",
      "[73]\tvalidation_0-auc:0.61992\tvalidation_0-logloss:0.64521\tvalidation_0-error:0.38765\n",
      "[74]\tvalidation_0-auc:0.62006\tvalidation_0-logloss:0.64496\tvalidation_0-error:0.38735\n",
      "[75]\tvalidation_0-auc:0.62013\tvalidation_0-logloss:0.64470\tvalidation_0-error:0.38794\n",
      "[76]\tvalidation_0-auc:0.61996\tvalidation_0-logloss:0.64450\tvalidation_0-error:0.38824\n",
      "[77]\tvalidation_0-auc:0.62016\tvalidation_0-logloss:0.64426\tvalidation_0-error:0.38765\n",
      "[78]\tvalidation_0-auc:0.62009\tvalidation_0-logloss:0.64404\tvalidation_0-error:0.38705\n",
      "[79]\tvalidation_0-auc:0.62007\tvalidation_0-logloss:0.64382\tvalidation_0-error:0.38794\n",
      "[80]\tvalidation_0-auc:0.62018\tvalidation_0-logloss:0.64360\tvalidation_0-error:0.38675\n",
      "[81]\tvalidation_0-auc:0.62020\tvalidation_0-logloss:0.64336\tvalidation_0-error:0.38645\n",
      "[82]\tvalidation_0-auc:0.61983\tvalidation_0-logloss:0.64320\tvalidation_0-error:0.38675\n",
      "[83]\tvalidation_0-auc:0.61971\tvalidation_0-logloss:0.64301\tvalidation_0-error:0.38735\n",
      "[84]\tvalidation_0-auc:0.62000\tvalidation_0-logloss:0.64279\tvalidation_0-error:0.38705\n",
      "[85]\tvalidation_0-auc:0.61981\tvalidation_0-logloss:0.64262\tvalidation_0-error:0.38735\n",
      "[86]\tvalidation_0-auc:0.61989\tvalidation_0-logloss:0.64243\tvalidation_0-error:0.38645\n",
      "[87]\tvalidation_0-auc:0.61973\tvalidation_0-logloss:0.64227\tvalidation_0-error:0.38735\n",
      "[88]\tvalidation_0-auc:0.61980\tvalidation_0-logloss:0.64208\tvalidation_0-error:0.38735\n",
      "[89]\tvalidation_0-auc:0.61994\tvalidation_0-logloss:0.64187\tvalidation_0-error:0.38735\n",
      "[90]\tvalidation_0-auc:0.62007\tvalidation_0-logloss:0.64170\tvalidation_0-error:0.38765\n",
      "[91]\tvalidation_0-auc:0.62023\tvalidation_0-logloss:0.64150\tvalidation_0-error:0.38824\n",
      "[92]\tvalidation_0-auc:0.61992\tvalidation_0-logloss:0.64137\tvalidation_0-error:0.38824\n",
      "[93]\tvalidation_0-auc:0.61988\tvalidation_0-logloss:0.64123\tvalidation_0-error:0.38794\n",
      "[94]\tvalidation_0-auc:0.61997\tvalidation_0-logloss:0.64106\tvalidation_0-error:0.38824\n",
      "[95]\tvalidation_0-auc:0.62010\tvalidation_0-logloss:0.64088\tvalidation_0-error:0.38765\n",
      "[96]\tvalidation_0-auc:0.62017\tvalidation_0-logloss:0.64074\tvalidation_0-error:0.38794\n"
     ]
    },
    {
     "name": "stdout",
     "output_type": "stream",
     "text": [
      "[97]\tvalidation_0-auc:0.62015\tvalidation_0-logloss:0.64057\tvalidation_0-error:0.38735\n",
      "[98]\tvalidation_0-auc:0.62029\tvalidation_0-logloss:0.64037\tvalidation_0-error:0.38675\n",
      "[99]\tvalidation_0-auc:0.61999\tvalidation_0-logloss:0.64026\tvalidation_0-error:0.38794\n",
      "[100]\tvalidation_0-auc:0.62015\tvalidation_0-logloss:0.64007\tvalidation_0-error:0.38615\n",
      "[101]\tvalidation_0-auc:0.61988\tvalidation_0-logloss:0.63997\tvalidation_0-error:0.38675\n",
      "[102]\tvalidation_0-auc:0.61962\tvalidation_0-logloss:0.63987\tvalidation_0-error:0.38765\n",
      "[103]\tvalidation_0-auc:0.61962\tvalidation_0-logloss:0.63975\tvalidation_0-error:0.38705\n",
      "[104]\tvalidation_0-auc:0.61980\tvalidation_0-logloss:0.63960\tvalidation_0-error:0.38735\n",
      "[105]\tvalidation_0-auc:0.61976\tvalidation_0-logloss:0.63946\tvalidation_0-error:0.38645\n",
      "[106]\tvalidation_0-auc:0.61993\tvalidation_0-logloss:0.63932\tvalidation_0-error:0.38705\n",
      "[107]\tvalidation_0-auc:0.61997\tvalidation_0-logloss:0.63918\tvalidation_0-error:0.38705\n",
      "[108]\tvalidation_0-auc:0.61983\tvalidation_0-logloss:0.63908\tvalidation_0-error:0.38705\n",
      "[109]\tvalidation_0-auc:0.61975\tvalidation_0-logloss:0.63900\tvalidation_0-error:0.38675\n",
      "[110]\tvalidation_0-auc:0.61993\tvalidation_0-logloss:0.63886\tvalidation_0-error:0.38675\n",
      "[111]\tvalidation_0-auc:0.61991\tvalidation_0-logloss:0.63878\tvalidation_0-error:0.38735\n",
      "[112]\tvalidation_0-auc:0.62001\tvalidation_0-logloss:0.63867\tvalidation_0-error:0.38586\n",
      "[113]\tvalidation_0-auc:0.62001\tvalidation_0-logloss:0.63858\tvalidation_0-error:0.38765\n",
      "[114]\tvalidation_0-auc:0.62006\tvalidation_0-logloss:0.63844\tvalidation_0-error:0.38675\n",
      "[115]\tvalidation_0-auc:0.62017\tvalidation_0-logloss:0.63831\tvalidation_0-error:0.38645\n",
      "[116]\tvalidation_0-auc:0.62011\tvalidation_0-logloss:0.63821\tvalidation_0-error:0.38556\n",
      "[117]\tvalidation_0-auc:0.62004\tvalidation_0-logloss:0.63811\tvalidation_0-error:0.38645\n",
      "[118]\tvalidation_0-auc:0.62016\tvalidation_0-logloss:0.63802\tvalidation_0-error:0.38645\n",
      "[119]\tvalidation_0-auc:0.62030\tvalidation_0-logloss:0.63790\tvalidation_0-error:0.38675\n",
      "[120]\tvalidation_0-auc:0.62011\tvalidation_0-logloss:0.63785\tvalidation_0-error:0.38675\n",
      "[121]\tvalidation_0-auc:0.62007\tvalidation_0-logloss:0.63776\tvalidation_0-error:0.38675\n",
      "[122]\tvalidation_0-auc:0.61999\tvalidation_0-logloss:0.63768\tvalidation_0-error:0.38615\n",
      "[123]\tvalidation_0-auc:0.62006\tvalidation_0-logloss:0.63756\tvalidation_0-error:0.38615\n",
      "[124]\tvalidation_0-auc:0.62003\tvalidation_0-logloss:0.63749\tvalidation_0-error:0.38615\n",
      "[125]\tvalidation_0-auc:0.61986\tvalidation_0-logloss:0.63742\tvalidation_0-error:0.38765\n",
      "[126]\tvalidation_0-auc:0.61961\tvalidation_0-logloss:0.63739\tvalidation_0-error:0.38824\n",
      "[127]\tvalidation_0-auc:0.61953\tvalidation_0-logloss:0.63734\tvalidation_0-error:0.38854\n",
      "[128]\tvalidation_0-auc:0.61962\tvalidation_0-logloss:0.63726\tvalidation_0-error:0.38824\n",
      "[129]\tvalidation_0-auc:0.61949\tvalidation_0-logloss:0.63721\tvalidation_0-error:0.38824\n"
     ]
    },
    {
     "data": {
      "text/plain": [
       "XGBClassifier(base_score=0.5, booster='gbtree', colsample_bylevel=1,\n",
       "              colsample_bynode=1, colsample_bytree=0.65,\n",
       "              enable_categorical=False, eta=0.015,\n",
       "              eval_metric=['auc', 'logloss', 'error'], gamma=1.25, gpu_id=-1,\n",
       "              importance_type=None, interaction_constraints='',\n",
       "              learning_rate=0.0149999997, max_delta_step=0, max_depth=6,\n",
       "              min_child_weight=30, missing=nan, monotone_constraints='()',\n",
       "              n_estimators=130, n_jobs=12, num_parallel_tree=1,\n",
       "              predictor='auto', random_state=123, reg_alpha=0, reg_lambda=1,\n",
       "              scale_pos_weight=1, subsample=1, tree_method='exact',\n",
       "              validate_parameters=1, verbosity=None)"
      ]
     },
     "execution_count": 9,
     "metadata": {},
     "output_type": "execute_result"
    }
   ],
   "source": [
    "model = xgb.XGBClassifier(objective='binary:logistic', n_estimators=130, max_depth=6, gamma=1.25, eta=0.015,\n",
    "                          min_child_weight=30, colsample_bytree=0.65, \n",
    "                          random_state=123, eval_metric=[\"auc\", \"logloss\", \"error\"])\n",
    "model.fit(X_train, y_train, eval_set=[(X_test, y_test)])"
   ]
  },
  {
   "cell_type": "code",
   "execution_count": 10,
   "id": "fd60cb85",
   "metadata": {},
   "outputs": [
    {
     "data": {
      "text/plain": [
       "<AxesSubplot:>"
      ]
     },
     "execution_count": 10,
     "metadata": {},
     "output_type": "execute_result"
    },
    {
     "data": {
      "image/png": "[encoded data removed]",
      "text/plain": [
       "<Figure size 432x288 with 1 Axes>"
      ]
     },
     "metadata": {
      "needs_background": "light"
     },
     "output_type": "display_data"
    }
   ],
   "source": [
    "fu_dict = dict(zip(X_train.columns, model.feature_importances_))\n",
    "fi = pd.DataFrame(fu_dict.values(), index=fu_dict.keys(), columns=[\"importance\"])\n",
    "fi = fi.sort_values(by=\"importance\", ascending=False)\n",
    "\n",
    "fi.plot.bar()"
   ]
  },
  {
   "cell_type": "code",
   "execution_count": 11,
   "id": "ff8a7a70",
   "metadata": {},
   "outputs": [
    {
     "data": {
      "text/plain": [
       "array([[1849,  222],\n",
       "       [1079,  201]])"
      ]
     },
     "execution_count": 11,
     "metadata": {},
     "output_type": "execute_result"
    }
   ],
   "source": [
    "y_pred1 = model.predict(X_test)\n",
    "confusion_matrix(y_test, y_pred1)"
   ]
  },
  {
   "cell_type": "code",
   "execution_count": 12,
   "id": "55f7e0eb",
   "metadata": {},
   "outputs": [],
   "source": [
    "y_pred_proba = model.predict_proba(X_test)[:,1]\n",
    "predict_mine = np.where(y_pred_proba < 0.4, 0, 1)\n",
    "cm1 = confusion_matrix(y_test, predict_mine)"
   ]
  },
  {
   "cell_type": "code",
   "execution_count": 13,
   "id": "71778a66",
   "metadata": {},
   "outputs": [
    {
     "data": {
      "text/plain": [
       "array([[ 499, 1572],\n",
       "       [ 101, 1179]])"
      ]
     },
     "execution_count": 13,
     "metadata": {},
     "output_type": "execute_result"
    }
   ],
   "source": [
    "cm1"
   ]
  },
  {
   "cell_type": "code",
   "execution_count": 14,
   "id": "2a080435",
   "metadata": {},
   "outputs": [
    {
     "data": {
      "text/plain": [
       "0.6117576842733512"
      ]
     },
     "execution_count": 14,
     "metadata": {},
     "output_type": "execute_result"
    }
   ],
   "source": [
    "metrics.accuracy_score(y_test, y_pred1)"
   ]
  },
  {
   "cell_type": "code",
   "execution_count": 15,
   "id": "2a85372f",
   "metadata": {},
   "outputs": [
    {
     "data": {
      "text/plain": [
       "0.8316666666666667"
      ]
     },
     "execution_count": 15,
     "metadata": {},
     "output_type": "execute_result"
    }
   ],
   "source": [
    "cm1[0][0]/(cm1[0][0]+cm1[1][0])"
   ]
  },
  {
   "cell_type": "code",
   "execution_count": 16,
   "id": "7e46167a",
   "metadata": {},
   "outputs": [
    {
     "data": {
      "text/plain": [
       "17.905102954341988"
      ]
     },
     "execution_count": 16,
     "metadata": {},
     "output_type": "execute_result"
    }
   ],
   "source": [
    "(cm1[0][0]+cm1[1][0])/len(y_test)*100"
   ]
  },
  {
   "cell_type": "markdown",
   "id": "bd2cf07a",
   "metadata": {},
   "source": [
    "# VALIDATION - BEST MODEL --> 70% accuracy in 17% of matches"
   ]
  },
  {
   "cell_type": "code",
   "execution_count": 17,
   "id": "31566b6c",
   "metadata": {},
   "outputs": [
    {
     "data": {
      "text/plain": [
       "array([[231,  19],\n",
       "       [111,  17]])"
      ]
     },
     "execution_count": 17,
     "metadata": {},
     "output_type": "execute_result"
    }
   ],
   "source": [
    "y_pred = model.predict(X_validation)\n",
    "confusion_matrix(y_validation, y_pred)"
   ]
  },
  {
   "cell_type": "code",
   "execution_count": 18,
   "id": "960fa297",
   "metadata": {},
   "outputs": [
    {
     "data": {
      "text/plain": [
       "0.656084656084656"
      ]
     },
     "execution_count": 18,
     "metadata": {},
     "output_type": "execute_result"
    }
   ],
   "source": [
    "metrics.accuracy_score(y_validation, y_pred)"
   ]
  },
  {
   "cell_type": "code",
   "execution_count": 19,
   "id": "e849fc15",
   "metadata": {},
   "outputs": [],
   "source": [
    "y_pred_proba = model.predict_proba(X_validation)[:,1]\n",
    "predict_mine = np.where(y_pred_proba < 0.4, 0, 1)\n",
    "cm1 = confusion_matrix(y_validation, predict_mine)"
   ]
  },
  {
   "cell_type": "code",
   "execution_count": 20,
   "id": "8792d422",
   "metadata": {},
   "outputs": [
    {
     "data": {
      "text/plain": [
       "0.8493150684931506"
      ]
     },
     "execution_count": 20,
     "metadata": {},
     "output_type": "execute_result"
    }
   ],
   "source": [
    "cm1[0][0]/(cm1[0][0]+cm1[1][0])"
   ]
  },
  {
   "cell_type": "code",
   "execution_count": 21,
   "id": "e19d4fb4",
   "metadata": {},
   "outputs": [
    {
     "data": {
      "text/plain": [
       "19.31216931216931"
      ]
     },
     "execution_count": 21,
     "metadata": {},
     "output_type": "execute_result"
    }
   ],
   "source": [
    "(cm1[0][0]+cm1[1][0])/len(y_validation)*100"
   ]
  },
  {
   "cell_type": "code",
   "execution_count": 22,
   "id": "dbd587ba",
   "metadata": {},
   "outputs": [
    {
     "data": {
      "text/plain": [
       "array([[ 62, 188],\n",
       "       [ 11, 117]])"
      ]
     },
     "execution_count": 22,
     "metadata": {},
     "output_type": "execute_result"
    }
   ],
   "source": [
    "cm1"
   ]
  },
  {
   "cell_type": "code",
   "execution_count": null,
   "id": "dc64bac5",
   "metadata": {},
   "outputs": [],
   "source": []
  },
  {
   "cell_type": "markdown",
   "id": "ad7f885b",
   "metadata": {},
   "source": [
    "## FINAL VALIDATION - NOVEMBER 2021"
   ]
  },
  {
   "cell_type": "code",
   "execution_count": 23,
   "id": "2ff81e36",
   "metadata": {},
   "outputs": [
    {
     "data": {
      "text/plain": [
       "array([[50, 12],\n",
       "       [35,  7]])"
      ]
     },
     "execution_count": 23,
     "metadata": {},
     "output_type": "execute_result"
    }
   ],
   "source": [
    "y_pred = model.predict(X_validation_november)\n",
    "confusion_matrix(y_validation_november, y_pred)"
   ]
  },
  {
   "cell_type": "code",
   "execution_count": 24,
   "id": "6d5e72bf",
   "metadata": {},
   "outputs": [
    {
     "data": {
      "text/plain": [
       "0.5480769230769231"
      ]
     },
     "execution_count": 24,
     "metadata": {},
     "output_type": "execute_result"
    }
   ],
   "source": [
    "metrics.accuracy_score(y_validation_november, y_pred)"
   ]
  },
  {
   "cell_type": "code",
   "execution_count": 25,
   "id": "2bd44841",
   "metadata": {},
   "outputs": [],
   "source": [
    "y_pred_proba = model.predict_proba(X_validation_november)[:,1]\n",
    "predict_mine = np.where(y_pred_proba < 0.4, 0, 1)\n",
    "cm1 = confusion_matrix(y_validation_november, predict_mine)"
   ]
  },
  {
   "cell_type": "code",
   "execution_count": 26,
   "id": "b0f47d24",
   "metadata": {},
   "outputs": [
    {
     "data": {
      "text/plain": [
       "array([[ 9, 53],\n",
       "       [ 2, 40]])"
      ]
     },
     "execution_count": 26,
     "metadata": {},
     "output_type": "execute_result"
    }
   ],
   "source": [
    "cm1"
   ]
  },
  {
   "cell_type": "code",
   "execution_count": 27,
   "id": "8c44788e",
   "metadata": {},
   "outputs": [
    {
     "data": {
      "text/plain": [
       "0.8181818181818182"
      ]
     },
     "execution_count": 27,
     "metadata": {},
     "output_type": "execute_result"
    }
   ],
   "source": [
    "cm1[0][0]/(cm1[0][0]+cm1[1][0])"
   ]
  },
  {
   "cell_type": "code",
   "execution_count": 28,
   "id": "9f8859f0",
   "metadata": {},
   "outputs": [
    {
     "data": {
      "text/plain": [
       "10.576923076923077"
      ]
     },
     "execution_count": 28,
     "metadata": {},
     "output_type": "execute_result"
    }
   ],
   "source": [
    "(cm1[0][0]+cm1[1][0])/len(y_validation_november)*100"
   ]
  },
  {
   "cell_type": "code",
   "execution_count": 29,
   "id": "433abf23",
   "metadata": {},
   "outputs": [],
   "source": [
    "#umbral --> 0.58; Condition --> TOTAL_CORNERS > 3\n",
    "import pickle\n",
    "file_name = \"model_under4_60_v2.pkl\"\n",
    "\n",
    "# save\n",
    "pickle.dump(model, open(file_name, \"wb\"))\n",
    "\n",
    "# load\n",
    "#xgb_model_loaded = pickle.load(open(file_name, \"rb\"))\n"
   ]
  },
  {
   "cell_type": "code",
   "execution_count": null,
   "id": "f25fdcba",
   "metadata": {},
   "outputs": [],
   "source": []
  },
  {
   "cell_type": "markdown",
   "id": "ef16707d",
   "metadata": {},
   "source": [
    "# OUTPUT"
   ]
  },
  {
   "cell_type": "code",
   "execution_count": 303,
   "id": "e1cdbdb9",
   "metadata": {},
   "outputs": [],
   "source": [
    "output = data[(data.YEARMONTH>=202111 )& (data.TOTAL_CORNERS>3)][[\"ID\", \"output\", \"CORNERS_H\", \"CORNERS_A\", \"TOTAL_CORNERS\"]].reset_index(drop=True)"
   ]
  },
  {
   "cell_type": "code",
   "execution_count": 307,
   "id": "7bd76e73",
   "metadata": {},
   "outputs": [],
   "source": [
    "output[\"PROB_CORNERS\"] = pd.DataFrame(model.predict_proba(X_validation_november)[:,1]).iloc[:, 0]\\\n",
    "    .apply(lambda x: 0 if x<0.401 else 1)"
   ]
  },
  {
   "cell_type": "code",
   "execution_count": 308,
   "id": "8e57c2cd",
   "metadata": {},
   "outputs": [
    {
     "data": {
      "text/html": [
       "<div>\n",
       "<style scoped>\n",
       "    .dataframe tbody tr th:only-of-type {\n",
       "        vertical-align: middle;\n",
       "    }\n",
       "\n",
       "    .dataframe tbody tr th {\n",
       "        vertical-align: top;\n",
       "    }\n",
       "\n",
       "    .dataframe thead th {\n",
       "        text-align: right;\n",
       "    }\n",
       "</style>\n",
       "<table border=\"1\" class=\"dataframe\">\n",
       "  <thead>\n",
       "    <tr style=\"text-align: right;\">\n",
       "      <th></th>\n",
       "      <th>ID</th>\n",
       "      <th>output</th>\n",
       "      <th>CORNERS_H</th>\n",
       "      <th>CORNERS_A</th>\n",
       "      <th>TOTAL_CORNERS</th>\n",
       "      <th>PROB_CORNERS</th>\n",
       "    </tr>\n",
       "  </thead>\n",
       "  <tbody>\n",
       "    <tr>\n",
       "      <th>13</th>\n",
       "      <td>S0oXCjk1</td>\n",
       "      <td>0</td>\n",
       "      <td>4</td>\n",
       "      <td>0</td>\n",
       "      <td>4</td>\n",
       "      <td>0</td>\n",
       "    </tr>\n",
       "    <tr>\n",
       "      <th>37</th>\n",
       "      <td>4Y8aXZPg</td>\n",
       "      <td>0</td>\n",
       "      <td>4</td>\n",
       "      <td>0</td>\n",
       "      <td>4</td>\n",
       "      <td>0</td>\n",
       "    </tr>\n",
       "    <tr>\n",
       "      <th>81</th>\n",
       "      <td>Y54DQS1n</td>\n",
       "      <td>0</td>\n",
       "      <td>0</td>\n",
       "      <td>4</td>\n",
       "      <td>4</td>\n",
       "      <td>0</td>\n",
       "    </tr>\n",
       "  </tbody>\n",
       "</table>\n",
       "</div>"
      ],
      "text/plain": [
       "          ID  output  CORNERS_H  CORNERS_A  TOTAL_CORNERS  PROB_CORNERS\n",
       "13  S0oXCjk1       0          4          0              4             0\n",
       "37  4Y8aXZPg       0          4          0              4             0\n",
       "81  Y54DQS1n       0          0          4              4             0"
      ]
     },
     "execution_count": 308,
     "metadata": {},
     "output_type": "execute_result"
    }
   ],
   "source": [
    "output[output.PROB_CORNERS==0]"
   ]
  },
  {
   "cell_type": "code",
   "execution_count": null,
   "id": "f6d7611c",
   "metadata": {},
   "outputs": [],
   "source": []
  }
 ],
 "metadata": {
  "kernelspec": {
   "display_name": "Python 3 (ipykernel)",
   "language": "python",
   "name": "python3"
  },
  "language_info": {
   "codemirror_mode": {
    "name": "ipython",
    "version": 3
   },
   "file_extension": ".py",
   "mimetype": "text/x-python",
   "name": "python",
   "nbconvert_exporter": "python",
   "pygments_lexer": "ipython3",
   "version": "3.7.11"
  }
 },
 "nbformat": 4,
 "nbformat_minor": 5
}
