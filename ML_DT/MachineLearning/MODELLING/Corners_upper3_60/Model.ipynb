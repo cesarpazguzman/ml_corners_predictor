{
 "cells": [
  {
   "cell_type": "code",
   "execution_count": 1,
   "id": "0705929c",
   "metadata": {},
   "outputs": [],
   "source": [
    "import pymysql\n",
    "from sklearn.ensemble import RandomForestClassifier\n",
    "from sqlalchemy import create_engine\n",
    "import pandas as pd\n",
    "import matplotlib.pyplot as plt\n",
    "%matplotlib inline\n",
    "import numpy as np\n",
    "from pandasql import sqldf\n",
    "from sklearn import metrics\n",
    "\n",
    "import xgboost as xgb\n",
    "from sklearn.metrics import accuracy_score, confusion_matrix"
   ]
  },
  {
   "cell_type": "code",
   "execution_count": 2,
   "id": "0121f51f",
   "metadata": {},
   "outputs": [],
   "source": [
    "data = pd.read_csv(\"../../FEATURE_ENGINEER/tablon_uppert_60_q3.csv\").drop(\n",
    "    columns=[\"ID\", \"DATE_MATCH\", \"TEAM_HOME\", \"TEAM_AWAY\", \"LEAGUE_INGLATERRA\", \"Unnamed: 0\",\n",
    "            \"FAVOURITE_IS_HOME\", \"LEAGUE_ALEMANIA\", \"FAVOURITE_IS_AWAY\", \"LEAGUE_FRANCIA\", \"LEAGUE_ITALIA\",\n",
    "            \"NUM_SAVESAWAY_L45\", \"AVG_CORNERSAWAY2_L3\", \"CORNERS_H_45_60\", \"CORNERS_DANGATTACKS_L45\", \"CORNERS_A\",\n",
    "            \"TEMPERATURE\", \"NUM_DANGATTACKSAWAY_L45\", \"NUM_DANGATTACKSHOME_L45\", \"NUM_FOULSAWAY_L45\", \"NUM_ATTACKSHOME_L45\",\n",
    "            \"NUM_TACKLEHOME_L45\", \"POSESSION_AWAY_L45\", \"IS_FAVOURITE_DRAWING\", \"SUM_GOALS_L60\", \"AVG_CORNERS_LOSE_AWAY\",\n",
    "            \"AVG_CORNERSAWAYR2_L5\", \"AVG_CORNERSHOME2_L3\",\"AVG_CORNERSHOMER2_L5\",\"CORNERS_A_45_60\",\"AVG_CORNERSHOME1_L3\",\n",
    "            \"AVG_CORNERSHOME2_L5\", \"AVG_CORNERSAWAYR1_L3\", \"LEAGUE_ESPANA\", \"GOALS_A\",\n",
    "            \"NUM_MATCHESAWAY_POSITIVE_L5\", \"NUM_SHOTSHOME_L45\",\"WIND\",\"RAIN\"], \n",
    "    axis=1)\n",
    "\n",
    "data = data[data.TOTAL_CORNERS<9].drop(columns=[\"TOTAL_CORNERS\"],axis=1)\n",
    "\n",
    "tablon = data[data.YEARMONTH<202109].drop(columns=[\"YEARMONTH\"],axis=1)\n",
    "\n",
    "\n",
    "X_validation = data[(data.YEARMONTH>=202109) & (data.YEARMONTH<202111)].drop(columns=[\"YEARMONTH\"],axis=1)\n",
    "y_validation = X_validation.pop(\"output\")\n",
    "\n",
    "\n",
    "X_validation_november = data[data.YEARMONTH>=202111].drop(columns=[\"YEARMONTH\"],axis=1)\n",
    "y_validation_november = X_validation_november.pop(\"output\")"
   ]
  },
  {
   "cell_type": "code",
   "execution_count": 4,
   "id": "b3d8b56c",
   "metadata": {},
   "outputs": [],
   "source": [
    "len_test = int(round(len(tablon)*0.2, 0))\n",
    "len_train = int(round(len(tablon)*0.8, 0))\n",
    "\n",
    "X_train = tablon[len_test:]\n",
    "y_train = X_train.pop(\"output\")\n",
    "X_test = tablon[:len_test]\n",
    "y_test = X_test.pop(\"output\")"
   ]
  },
  {
   "cell_type": "code",
   "execution_count": 5,
   "id": "3fe938f9",
   "metadata": {},
   "outputs": [
    {
     "data": {
      "text/plain": [
       "((7843, 56), (1961, 56), (346, 56))"
      ]
     },
     "execution_count": 5,
     "metadata": {},
     "output_type": "execute_result"
    }
   ],
   "source": [
    "X_train.shape, X_test.shape, X_validation.shape"
   ]
  },
  {
   "cell_type": "code",
   "execution_count": 6,
   "id": "e4371695",
   "metadata": {},
   "outputs": [
    {
     "data": {
      "text/plain": [
       "0    4826\n",
       "1    3017\n",
       "Name: output, dtype: int64"
      ]
     },
     "execution_count": 6,
     "metadata": {},
     "output_type": "execute_result"
    }
   ],
   "source": [
    "y_train.value_counts()"
   ]
  },
  {
   "cell_type": "code",
   "execution_count": 7,
   "id": "f73ee8e1",
   "metadata": {},
   "outputs": [
    {
     "data": {
      "text/plain": [
       "0    1135\n",
       "1     826\n",
       "Name: output, dtype: int64"
      ]
     },
     "execution_count": 7,
     "metadata": {},
     "output_type": "execute_result"
    }
   ],
   "source": [
    "y_test.value_counts()"
   ]
  },
  {
   "cell_type": "code",
   "execution_count": 8,
   "id": "b178d2af",
   "metadata": {},
   "outputs": [
    {
     "data": {
      "text/plain": [
       "0    230\n",
       "1    116\n",
       "Name: output, dtype: int64"
      ]
     },
     "execution_count": 8,
     "metadata": {},
     "output_type": "execute_result"
    }
   ],
   "source": [
    "y_validation.value_counts()"
   ]
  },
  {
   "cell_type": "markdown",
   "id": "35058c53",
   "metadata": {},
   "source": [
    "## EXECUTING BEST MODEL"
   ]
  },
  {
   "cell_type": "code",
   "execution_count": 9,
   "id": "9353c5e4",
   "metadata": {},
   "outputs": [
    {
     "name": "stdout",
     "output_type": "stream",
     "text": [
      "[0]\tvalidation_0-auc:0.59241\tvalidation_0-logloss:0.69185\tvalidation_0-error:0.42631\n",
      "[1]\tvalidation_0-auc:0.59669\tvalidation_0-logloss:0.69060\tvalidation_0-error:0.42121\n",
      "[2]\tvalidation_0-auc:0.59760\tvalidation_0-logloss:0.68937\tvalidation_0-error:0.42121\n",
      "[3]\tvalidation_0-auc:0.59576\tvalidation_0-logloss:0.68817\tvalidation_0-error:0.41968\n",
      "[4]\tvalidation_0-auc:0.59996\tvalidation_0-logloss:0.68701\tvalidation_0-error:0.41713\n",
      "[5]\tvalidation_0-auc:0.60235\tvalidation_0-logloss:0.68586\tvalidation_0-error:0.41815\n",
      "[6]\tvalidation_0-auc:0.60517\tvalidation_0-logloss:0.68479\tvalidation_0-error:0.42172\n",
      "[7]\tvalidation_0-auc:0.61053\tvalidation_0-logloss:0.68366\tvalidation_0-error:0.42172\n",
      "[8]\tvalidation_0-auc:0.61131\tvalidation_0-logloss:0.68264\tvalidation_0-error:0.42070\n",
      "[9]\tvalidation_0-auc:0.61328\tvalidation_0-logloss:0.68167\tvalidation_0-error:0.42121\n",
      "[10]\tvalidation_0-auc:0.61630\tvalidation_0-logloss:0.68065\tvalidation_0-error:0.42070\n"
     ]
    },
    {
     "name": "stderr",
     "output_type": "stream",
     "text": [
      "/home/root/opt/python3.7.11/lib/python3.7/site-packages/xgboost/sklearn.py:1224: UserWarning: The use of label encoder in XGBClassifier is deprecated and will be removed in a future release. To remove this warning, do the following: 1) Pass option use_label_encoder=False when constructing XGBClassifier object; and 2) Encode your labels (y) as integers starting with 0, i.e. 0, 1, 2, ..., [num_class - 1].\n",
      "  warnings.warn(label_encoder_deprecation_msg, UserWarning)\n"
     ]
    },
    {
     "name": "stdout",
     "output_type": "stream",
     "text": [
      "[11]\tvalidation_0-auc:0.61687\tvalidation_0-logloss:0.67970\tvalidation_0-error:0.41917\n",
      "[12]\tvalidation_0-auc:0.61751\tvalidation_0-logloss:0.67875\tvalidation_0-error:0.42274\n",
      "[13]\tvalidation_0-auc:0.61650\tvalidation_0-logloss:0.67785\tvalidation_0-error:0.41968\n",
      "[14]\tvalidation_0-auc:0.61654\tvalidation_0-logloss:0.67696\tvalidation_0-error:0.41866\n",
      "[15]\tvalidation_0-auc:0.61609\tvalidation_0-logloss:0.67612\tvalidation_0-error:0.41917\n",
      "[16]\tvalidation_0-auc:0.61592\tvalidation_0-logloss:0.67531\tvalidation_0-error:0.41815\n",
      "[17]\tvalidation_0-auc:0.61642\tvalidation_0-logloss:0.67449\tvalidation_0-error:0.41713\n",
      "[18]\tvalidation_0-auc:0.61748\tvalidation_0-logloss:0.67368\tvalidation_0-error:0.41764\n",
      "[19]\tvalidation_0-auc:0.61746\tvalidation_0-logloss:0.67290\tvalidation_0-error:0.41866\n",
      "[20]\tvalidation_0-auc:0.61689\tvalidation_0-logloss:0.67221\tvalidation_0-error:0.42019\n",
      "[21]\tvalidation_0-auc:0.61736\tvalidation_0-logloss:0.67151\tvalidation_0-error:0.41866\n",
      "[22]\tvalidation_0-auc:0.61789\tvalidation_0-logloss:0.67081\tvalidation_0-error:0.41968\n",
      "[23]\tvalidation_0-auc:0.61837\tvalidation_0-logloss:0.67015\tvalidation_0-error:0.42121\n",
      "[24]\tvalidation_0-auc:0.61874\tvalidation_0-logloss:0.66948\tvalidation_0-error:0.42223\n",
      "[25]\tvalidation_0-auc:0.61860\tvalidation_0-logloss:0.66883\tvalidation_0-error:0.42376\n",
      "[26]\tvalidation_0-auc:0.61889\tvalidation_0-logloss:0.66821\tvalidation_0-error:0.42274\n",
      "[27]\tvalidation_0-auc:0.61990\tvalidation_0-logloss:0.66757\tvalidation_0-error:0.42121\n",
      "[28]\tvalidation_0-auc:0.62022\tvalidation_0-logloss:0.66694\tvalidation_0-error:0.42070\n",
      "[29]\tvalidation_0-auc:0.61945\tvalidation_0-logloss:0.66643\tvalidation_0-error:0.42172\n",
      "[30]\tvalidation_0-auc:0.62023\tvalidation_0-logloss:0.66582\tvalidation_0-error:0.42172\n",
      "[31]\tvalidation_0-auc:0.61989\tvalidation_0-logloss:0.66526\tvalidation_0-error:0.41968\n",
      "[32]\tvalidation_0-auc:0.61986\tvalidation_0-logloss:0.66472\tvalidation_0-error:0.41968\n",
      "[33]\tvalidation_0-auc:0.61948\tvalidation_0-logloss:0.66423\tvalidation_0-error:0.41713\n",
      "[34]\tvalidation_0-auc:0.61840\tvalidation_0-logloss:0.66380\tvalidation_0-error:0.41713\n",
      "[35]\tvalidation_0-auc:0.61744\tvalidation_0-logloss:0.66339\tvalidation_0-error:0.41764\n",
      "[36]\tvalidation_0-auc:0.61746\tvalidation_0-logloss:0.66293\tvalidation_0-error:0.42070\n",
      "[37]\tvalidation_0-auc:0.61759\tvalidation_0-logloss:0.66250\tvalidation_0-error:0.41713\n",
      "[38]\tvalidation_0-auc:0.61810\tvalidation_0-logloss:0.66203\tvalidation_0-error:0.41917\n",
      "[39]\tvalidation_0-auc:0.61789\tvalidation_0-logloss:0.66163\tvalidation_0-error:0.41764\n",
      "[40]\tvalidation_0-auc:0.61767\tvalidation_0-logloss:0.66120\tvalidation_0-error:0.41662\n",
      "[41]\tvalidation_0-auc:0.61714\tvalidation_0-logloss:0.66081\tvalidation_0-error:0.41713\n",
      "[42]\tvalidation_0-auc:0.61706\tvalidation_0-logloss:0.66044\tvalidation_0-error:0.41815\n",
      "[43]\tvalidation_0-auc:0.61801\tvalidation_0-logloss:0.66002\tvalidation_0-error:0.41764\n",
      "[44]\tvalidation_0-auc:0.61857\tvalidation_0-logloss:0.65962\tvalidation_0-error:0.41815\n",
      "[45]\tvalidation_0-auc:0.61807\tvalidation_0-logloss:0.65931\tvalidation_0-error:0.42019\n",
      "[46]\tvalidation_0-auc:0.61846\tvalidation_0-logloss:0.65896\tvalidation_0-error:0.42070\n",
      "[47]\tvalidation_0-auc:0.61884\tvalidation_0-logloss:0.65860\tvalidation_0-error:0.41968\n",
      "[48]\tvalidation_0-auc:0.61875\tvalidation_0-logloss:0.65826\tvalidation_0-error:0.42121\n",
      "[49]\tvalidation_0-auc:0.61999\tvalidation_0-logloss:0.65783\tvalidation_0-error:0.42172\n",
      "[50]\tvalidation_0-auc:0.61914\tvalidation_0-logloss:0.65758\tvalidation_0-error:0.42223\n",
      "[51]\tvalidation_0-auc:0.61922\tvalidation_0-logloss:0.65726\tvalidation_0-error:0.42172\n",
      "[52]\tvalidation_0-auc:0.61937\tvalidation_0-logloss:0.65696\tvalidation_0-error:0.42019\n",
      "[53]\tvalidation_0-auc:0.61893\tvalidation_0-logloss:0.65670\tvalidation_0-error:0.41866\n",
      "[54]\tvalidation_0-auc:0.61890\tvalidation_0-logloss:0.65643\tvalidation_0-error:0.41713\n",
      "[55]\tvalidation_0-auc:0.61860\tvalidation_0-logloss:0.65620\tvalidation_0-error:0.42121\n",
      "[56]\tvalidation_0-auc:0.61894\tvalidation_0-logloss:0.65589\tvalidation_0-error:0.42121\n",
      "[57]\tvalidation_0-auc:0.61988\tvalidation_0-logloss:0.65555\tvalidation_0-error:0.41968\n",
      "[58]\tvalidation_0-auc:0.62016\tvalidation_0-logloss:0.65526\tvalidation_0-error:0.42019\n",
      "[59]\tvalidation_0-auc:0.62071\tvalidation_0-logloss:0.65497\tvalidation_0-error:0.42121\n",
      "[60]\tvalidation_0-auc:0.62100\tvalidation_0-logloss:0.65472\tvalidation_0-error:0.41815\n",
      "[61]\tvalidation_0-auc:0.62076\tvalidation_0-logloss:0.65449\tvalidation_0-error:0.42019\n",
      "[62]\tvalidation_0-auc:0.62042\tvalidation_0-logloss:0.65431\tvalidation_0-error:0.41866\n",
      "[63]\tvalidation_0-auc:0.62117\tvalidation_0-logloss:0.65404\tvalidation_0-error:0.41815\n",
      "[64]\tvalidation_0-auc:0.62083\tvalidation_0-logloss:0.65386\tvalidation_0-error:0.41815\n",
      "[65]\tvalidation_0-auc:0.62111\tvalidation_0-logloss:0.65366\tvalidation_0-error:0.41866\n",
      "[66]\tvalidation_0-auc:0.62136\tvalidation_0-logloss:0.65340\tvalidation_0-error:0.41968\n",
      "[67]\tvalidation_0-auc:0.62139\tvalidation_0-logloss:0.65323\tvalidation_0-error:0.41917\n",
      "[68]\tvalidation_0-auc:0.62152\tvalidation_0-logloss:0.65305\tvalidation_0-error:0.41917\n",
      "[69]\tvalidation_0-auc:0.62131\tvalidation_0-logloss:0.65291\tvalidation_0-error:0.41815\n",
      "[70]\tvalidation_0-auc:0.62105\tvalidation_0-logloss:0.65277\tvalidation_0-error:0.41866\n",
      "[71]\tvalidation_0-auc:0.62100\tvalidation_0-logloss:0.65264\tvalidation_0-error:0.41764\n",
      "[72]\tvalidation_0-auc:0.62160\tvalidation_0-logloss:0.65240\tvalidation_0-error:0.41713\n",
      "[73]\tvalidation_0-auc:0.62157\tvalidation_0-logloss:0.65223\tvalidation_0-error:0.41764\n",
      "[74]\tvalidation_0-auc:0.62153\tvalidation_0-logloss:0.65210\tvalidation_0-error:0.41764\n",
      "[75]\tvalidation_0-auc:0.62147\tvalidation_0-logloss:0.65195\tvalidation_0-error:0.41611\n",
      "[76]\tvalidation_0-auc:0.62191\tvalidation_0-logloss:0.65178\tvalidation_0-error:0.41560\n",
      "[77]\tvalidation_0-auc:0.62204\tvalidation_0-logloss:0.65161\tvalidation_0-error:0.41509\n",
      "[78]\tvalidation_0-auc:0.62196\tvalidation_0-logloss:0.65150\tvalidation_0-error:0.41509\n",
      "[79]\tvalidation_0-auc:0.62203\tvalidation_0-logloss:0.65137\tvalidation_0-error:0.41407\n",
      "[80]\tvalidation_0-auc:0.62207\tvalidation_0-logloss:0.65125\tvalidation_0-error:0.41509\n",
      "[81]\tvalidation_0-auc:0.62175\tvalidation_0-logloss:0.65113\tvalidation_0-error:0.41458\n",
      "[82]\tvalidation_0-auc:0.62095\tvalidation_0-logloss:0.65112\tvalidation_0-error:0.41407\n",
      "[83]\tvalidation_0-auc:0.62058\tvalidation_0-logloss:0.65106\tvalidation_0-error:0.41458\n",
      "[84]\tvalidation_0-auc:0.62076\tvalidation_0-logloss:0.65094\tvalidation_0-error:0.41458\n",
      "[85]\tvalidation_0-auc:0.62121\tvalidation_0-logloss:0.65081\tvalidation_0-error:0.41560\n",
      "[86]\tvalidation_0-auc:0.62115\tvalidation_0-logloss:0.65068\tvalidation_0-error:0.41509\n",
      "[87]\tvalidation_0-auc:0.62136\tvalidation_0-logloss:0.65051\tvalidation_0-error:0.41611\n",
      "[88]\tvalidation_0-auc:0.62140\tvalidation_0-logloss:0.65043\tvalidation_0-error:0.41611\n",
      "[89]\tvalidation_0-auc:0.62158\tvalidation_0-logloss:0.65030\tvalidation_0-error:0.41509\n",
      "[90]\tvalidation_0-auc:0.62172\tvalidation_0-logloss:0.65023\tvalidation_0-error:0.41458\n",
      "[91]\tvalidation_0-auc:0.62199\tvalidation_0-logloss:0.65012\tvalidation_0-error:0.41407\n",
      "[92]\tvalidation_0-auc:0.62200\tvalidation_0-logloss:0.65002\tvalidation_0-error:0.41509\n",
      "[93]\tvalidation_0-auc:0.62192\tvalidation_0-logloss:0.64993\tvalidation_0-error:0.41357\n",
      "[94]\tvalidation_0-auc:0.62140\tvalidation_0-logloss:0.64993\tvalidation_0-error:0.41560\n",
      "[95]\tvalidation_0-auc:0.62102\tvalidation_0-logloss:0.64991\tvalidation_0-error:0.41662\n",
      "[96]\tvalidation_0-auc:0.62049\tvalidation_0-logloss:0.64995\tvalidation_0-error:0.41509\n",
      "[97]\tvalidation_0-auc:0.62061\tvalidation_0-logloss:0.64988\tvalidation_0-error:0.41458\n",
      "[98]\tvalidation_0-auc:0.62057\tvalidation_0-logloss:0.64982\tvalidation_0-error:0.41560\n",
      "[99]\tvalidation_0-auc:0.62093\tvalidation_0-logloss:0.64972\tvalidation_0-error:0.41509\n",
      "[100]\tvalidation_0-auc:0.62073\tvalidation_0-logloss:0.64968\tvalidation_0-error:0.41509\n",
      "[101]\tvalidation_0-auc:0.62081\tvalidation_0-logloss:0.64961\tvalidation_0-error:0.41306\n",
      "[102]\tvalidation_0-auc:0.62111\tvalidation_0-logloss:0.64949\tvalidation_0-error:0.41357\n",
      "[103]\tvalidation_0-auc:0.62134\tvalidation_0-logloss:0.64941\tvalidation_0-error:0.41407\n",
      "[104]\tvalidation_0-auc:0.62164\tvalidation_0-logloss:0.64930\tvalidation_0-error:0.41407\n",
      "[105]\tvalidation_0-auc:0.62178\tvalidation_0-logloss:0.64925\tvalidation_0-error:0.41458\n",
      "[106]\tvalidation_0-auc:0.62169\tvalidation_0-logloss:0.64922\tvalidation_0-error:0.41306\n"
     ]
    },
    {
     "name": "stdout",
     "output_type": "stream",
     "text": [
      "[107]\tvalidation_0-auc:0.62166\tvalidation_0-logloss:0.64919\tvalidation_0-error:0.41203\n",
      "[108]\tvalidation_0-auc:0.62159\tvalidation_0-logloss:0.64915\tvalidation_0-error:0.41254\n",
      "[109]\tvalidation_0-auc:0.62145\tvalidation_0-logloss:0.64914\tvalidation_0-error:0.41407\n",
      "[110]\tvalidation_0-auc:0.62137\tvalidation_0-logloss:0.64912\tvalidation_0-error:0.41357\n",
      "[111]\tvalidation_0-auc:0.62132\tvalidation_0-logloss:0.64907\tvalidation_0-error:0.41458\n",
      "[112]\tvalidation_0-auc:0.62172\tvalidation_0-logloss:0.64899\tvalidation_0-error:0.41560\n",
      "[113]\tvalidation_0-auc:0.62161\tvalidation_0-logloss:0.64898\tvalidation_0-error:0.41611\n",
      "[114]\tvalidation_0-auc:0.62128\tvalidation_0-logloss:0.64898\tvalidation_0-error:0.41560\n",
      "[115]\tvalidation_0-auc:0.62140\tvalidation_0-logloss:0.64894\tvalidation_0-error:0.41509\n",
      "[116]\tvalidation_0-auc:0.62128\tvalidation_0-logloss:0.64890\tvalidation_0-error:0.41357\n",
      "[117]\tvalidation_0-auc:0.62132\tvalidation_0-logloss:0.64887\tvalidation_0-error:0.41458\n",
      "[118]\tvalidation_0-auc:0.62153\tvalidation_0-logloss:0.64879\tvalidation_0-error:0.41357\n",
      "[119]\tvalidation_0-auc:0.62177\tvalidation_0-logloss:0.64876\tvalidation_0-error:0.41306\n",
      "[120]\tvalidation_0-auc:0.62156\tvalidation_0-logloss:0.64876\tvalidation_0-error:0.41357\n",
      "[121]\tvalidation_0-auc:0.62153\tvalidation_0-logloss:0.64875\tvalidation_0-error:0.41509\n",
      "[122]\tvalidation_0-auc:0.62163\tvalidation_0-logloss:0.64873\tvalidation_0-error:0.41662\n",
      "[123]\tvalidation_0-auc:0.62177\tvalidation_0-logloss:0.64872\tvalidation_0-error:0.41560\n",
      "[124]\tvalidation_0-auc:0.62170\tvalidation_0-logloss:0.64870\tvalidation_0-error:0.41458\n",
      "[125]\tvalidation_0-auc:0.62173\tvalidation_0-logloss:0.64868\tvalidation_0-error:0.41407\n",
      "[126]\tvalidation_0-auc:0.62177\tvalidation_0-logloss:0.64861\tvalidation_0-error:0.41357\n",
      "[127]\tvalidation_0-auc:0.62179\tvalidation_0-logloss:0.64856\tvalidation_0-error:0.41357\n",
      "[128]\tvalidation_0-auc:0.62173\tvalidation_0-logloss:0.64848\tvalidation_0-error:0.41407\n",
      "[129]\tvalidation_0-auc:0.62188\tvalidation_0-logloss:0.64845\tvalidation_0-error:0.41306\n"
     ]
    },
    {
     "data": {
      "text/plain": [
       "XGBClassifier(base_score=0.5, booster='gbtree', colsample_bylevel=1,\n",
       "              colsample_bynode=1, colsample_bytree=0.65,\n",
       "              enable_categorical=False, eta=0.015,\n",
       "              eval_metric=['auc', 'logloss', 'error'], gamma=1.25, gpu_id=-1,\n",
       "              importance_type=None, interaction_constraints='',\n",
       "              learning_rate=0.0149999997, max_delta_step=0, max_depth=6,\n",
       "              min_child_weight=30, missing=nan, monotone_constraints='()',\n",
       "              n_estimators=130, n_jobs=12, num_parallel_tree=1,\n",
       "              predictor='auto', random_state=123, reg_alpha=0, reg_lambda=1,\n",
       "              scale_pos_weight=1, subsample=1, tree_method='exact',\n",
       "              validate_parameters=1, verbosity=None)"
      ]
     },
     "execution_count": 9,
     "metadata": {},
     "output_type": "execute_result"
    }
   ],
   "source": [
    "model = xgb.XGBClassifier(objective='binary:logistic', n_estimators=130, max_depth=6, gamma=1.25, eta=0.015,\n",
    "                          min_child_weight=30, colsample_bytree=0.65, \n",
    "                          random_state=123, eval_metric=[\"auc\", \"logloss\", \"error\"])\n",
    "model.fit(X_train, y_train, eval_set=[(X_test, y_test)])"
   ]
  },
  {
   "cell_type": "code",
   "execution_count": 10,
   "id": "fd60cb85",
   "metadata": {},
   "outputs": [
    {
     "data": {
      "text/plain": [
       "<AxesSubplot:>"
      ]
     },
     "execution_count": 10,
     "metadata": {},
     "output_type": "execute_result"
    },
    {
     "data": {
      "image/png": "[encoded data removed]",
      "text/plain": [
       "<Figure size 432x288 with 1 Axes>"
      ]
     },
     "metadata": {
      "needs_background": "light"
     },
     "output_type": "display_data"
    }
   ],
   "source": [
    "fu_dict = dict(zip(X_train.columns, model.feature_importances_))\n",
    "fi = pd.DataFrame(fu_dict.values(), index=fu_dict.keys(), columns=[\"importance\"])\n",
    "fi = fi.sort_values(by=\"importance\", ascending=False)\n",
    "\n",
    "fi.plot.bar()"
   ]
  },
  {
   "cell_type": "code",
   "execution_count": 11,
   "id": "ff8a7a70",
   "metadata": {},
   "outputs": [
    {
     "data": {
      "text/plain": [
       "array([[1054,   81],\n",
       "       [ 729,   97]])"
      ]
     },
     "execution_count": 11,
     "metadata": {},
     "output_type": "execute_result"
    }
   ],
   "source": [
    "y_pred1 = model.predict(X_test)\n",
    "confusion_matrix(y_test, y_pred1)"
   ]
  },
  {
   "cell_type": "code",
   "execution_count": 12,
   "id": "55f7e0eb",
   "metadata": {},
   "outputs": [],
   "source": [
    "y_pred_proba = model.predict_proba(X_test)[:,1]\n",
    "predict_mine = np.where(y_pred_proba < 0.4, 0, 1)\n",
    "cm1 = confusion_matrix(y_test, predict_mine)"
   ]
  },
  {
   "cell_type": "code",
   "execution_count": 13,
   "id": "71778a66",
   "metadata": {},
   "outputs": [
    {
     "data": {
      "text/plain": [
       "array([[404, 731],\n",
       "       [152, 674]])"
      ]
     },
     "execution_count": 13,
     "metadata": {},
     "output_type": "execute_result"
    }
   ],
   "source": [
    "cm1"
   ]
  },
  {
   "cell_type": "code",
   "execution_count": 14,
   "id": "2a080435",
   "metadata": {},
   "outputs": [
    {
     "data": {
      "text/plain": [
       "0.5869454360020397"
      ]
     },
     "execution_count": 14,
     "metadata": {},
     "output_type": "execute_result"
    }
   ],
   "source": [
    "metrics.accuracy_score(y_test, y_pred1)"
   ]
  },
  {
   "cell_type": "code",
   "execution_count": 15,
   "id": "2a85372f",
   "metadata": {},
   "outputs": [
    {
     "data": {
      "text/plain": [
       "0.7266187050359713"
      ]
     },
     "execution_count": 15,
     "metadata": {},
     "output_type": "execute_result"
    }
   ],
   "source": [
    "cm1[0][0]/(cm1[0][0]+cm1[1][0])"
   ]
  },
  {
   "cell_type": "code",
   "execution_count": 16,
   "id": "7e46167a",
   "metadata": {},
   "outputs": [
    {
     "data": {
      "text/plain": [
       "28.35288118306986"
      ]
     },
     "execution_count": 16,
     "metadata": {},
     "output_type": "execute_result"
    }
   ],
   "source": [
    "(cm1[0][0]+cm1[1][0])/len(y_test)*100"
   ]
  },
  {
   "cell_type": "markdown",
   "id": "bd2cf07a",
   "metadata": {},
   "source": [
    "# VALIDATION - BEST MODEL --> 70% accuracy in 17% of matches"
   ]
  },
  {
   "cell_type": "code",
   "execution_count": 17,
   "id": "31566b6c",
   "metadata": {},
   "outputs": [
    {
     "data": {
      "text/plain": [
       "array([[222,   8],\n",
       "       [105,  11]])"
      ]
     },
     "execution_count": 17,
     "metadata": {},
     "output_type": "execute_result"
    }
   ],
   "source": [
    "y_pred = model.predict(X_validation)\n",
    "confusion_matrix(y_validation, y_pred)"
   ]
  },
  {
   "cell_type": "code",
   "execution_count": 18,
   "id": "960fa297",
   "metadata": {},
   "outputs": [
    {
     "data": {
      "text/plain": [
       "0.6734104046242775"
      ]
     },
     "execution_count": 18,
     "metadata": {},
     "output_type": "execute_result"
    }
   ],
   "source": [
    "metrics.accuracy_score(y_validation, y_pred)"
   ]
  },
  {
   "cell_type": "code",
   "execution_count": 19,
   "id": "e849fc15",
   "metadata": {},
   "outputs": [],
   "source": [
    "y_pred_proba = model.predict_proba(X_validation)[:,1]\n",
    "predict_mine = np.where(y_pred_proba < 0.4, 0, 1)\n",
    "cm1 = confusion_matrix(y_validation, predict_mine)"
   ]
  },
  {
   "cell_type": "code",
   "execution_count": 20,
   "id": "8792d422",
   "metadata": {},
   "outputs": [
    {
     "data": {
      "text/plain": [
       "0.8064516129032258"
      ]
     },
     "execution_count": 20,
     "metadata": {},
     "output_type": "execute_result"
    }
   ],
   "source": [
    "cm1[0][0]/(cm1[0][0]+cm1[1][0])"
   ]
  },
  {
   "cell_type": "code",
   "execution_count": 21,
   "id": "e19d4fb4",
   "metadata": {},
   "outputs": [
    {
     "data": {
      "text/plain": [
       "26.878612716763005"
      ]
     },
     "execution_count": 21,
     "metadata": {},
     "output_type": "execute_result"
    }
   ],
   "source": [
    "(cm1[0][0]+cm1[1][0])/len(y_validation)*100"
   ]
  },
  {
   "cell_type": "code",
   "execution_count": 22,
   "id": "dbd587ba",
   "metadata": {},
   "outputs": [
    {
     "data": {
      "text/plain": [
       "array([[ 75, 155],\n",
       "       [ 18,  98]])"
      ]
     },
     "execution_count": 22,
     "metadata": {},
     "output_type": "execute_result"
    }
   ],
   "source": [
    "cm1"
   ]
  },
  {
   "cell_type": "code",
   "execution_count": null,
   "id": "dc64bac5",
   "metadata": {},
   "outputs": [],
   "source": []
  },
  {
   "cell_type": "markdown",
   "id": "ad7f885b",
   "metadata": {},
   "source": [
    "## FINAL VALIDATION - NOVEMBER 2021"
   ]
  },
  {
   "cell_type": "code",
   "execution_count": 23,
   "id": "2ff81e36",
   "metadata": {},
   "outputs": [
    {
     "data": {
      "text/plain": [
       "array([[119,   7],\n",
       "       [ 71,   5]])"
      ]
     },
     "execution_count": 23,
     "metadata": {},
     "output_type": "execute_result"
    }
   ],
   "source": [
    "y_pred = model.predict(X_validation_november)\n",
    "confusion_matrix(y_validation_november, y_pred)"
   ]
  },
  {
   "cell_type": "code",
   "execution_count": 24,
   "id": "6d5e72bf",
   "metadata": {},
   "outputs": [
    {
     "data": {
      "text/plain": [
       "0.6138613861386139"
      ]
     },
     "execution_count": 24,
     "metadata": {},
     "output_type": "execute_result"
    }
   ],
   "source": [
    "metrics.accuracy_score(y_validation_november, y_pred)"
   ]
  },
  {
   "cell_type": "code",
   "execution_count": 25,
   "id": "2bd44841",
   "metadata": {},
   "outputs": [],
   "source": [
    "y_pred_proba = model.predict_proba(X_validation_november)[:,1]\n",
    "predict_mine = np.where(y_pred_proba < 0.4, 0, 1)\n",
    "cm1 = confusion_matrix(y_validation_november, predict_mine)"
   ]
  },
  {
   "cell_type": "code",
   "execution_count": 26,
   "id": "b0f47d24",
   "metadata": {},
   "outputs": [
    {
     "data": {
      "text/plain": [
       "array([[41, 85],\n",
       "       [10, 66]])"
      ]
     },
     "execution_count": 26,
     "metadata": {},
     "output_type": "execute_result"
    }
   ],
   "source": [
    "cm1"
   ]
  },
  {
   "cell_type": "code",
   "execution_count": 27,
   "id": "8c44788e",
   "metadata": {},
   "outputs": [
    {
     "data": {
      "text/plain": [
       "0.803921568627451"
      ]
     },
     "execution_count": 27,
     "metadata": {},
     "output_type": "execute_result"
    }
   ],
   "source": [
    "cm1[0][0]/(cm1[0][0]+cm1[1][0])"
   ]
  },
  {
   "cell_type": "code",
   "execution_count": 28,
   "id": "9f8859f0",
   "metadata": {},
   "outputs": [
    {
     "data": {
      "text/plain": [
       "25.247524752475247"
      ]
     },
     "execution_count": 28,
     "metadata": {},
     "output_type": "execute_result"
    }
   ],
   "source": [
    "(cm1[0][0]+cm1[1][0])/len(y_validation_november)*100"
   ]
  },
  {
   "cell_type": "code",
   "execution_count": 29,
   "id": "433abf23",
   "metadata": {},
   "outputs": [],
   "source": [
    "#umbral --> 0.58; Condition --> TOTAL_CORNERS > 3\n",
    "import pickle\n",
    "file_name = \"model_under4_60_v2.pkl\"\n",
    "\n",
    "# save\n",
    "pickle.dump(model, open(file_name, \"wb\"))\n",
    "\n",
    "# load\n",
    "#xgb_model_loaded = pickle.load(open(file_name, \"rb\"))\n"
   ]
  },
  {
   "cell_type": "code",
   "execution_count": null,
   "id": "f25fdcba",
   "metadata": {},
   "outputs": [],
   "source": []
  },
  {
   "cell_type": "markdown",
   "id": "ef16707d",
   "metadata": {},
   "source": [
    "# OUTPUT"
   ]
  },
  {
   "cell_type": "code",
   "execution_count": 303,
   "id": "e1cdbdb9",
   "metadata": {},
   "outputs": [],
   "source": [
    "output = data[(data.YEARMONTH>=202111 )& (data.TOTAL_CORNERS>3)][[\"ID\", \"output\", \"CORNERS_H\", \"CORNERS_A\", \"TOTAL_CORNERS\"]].reset_index(drop=True)"
   ]
  },
  {
   "cell_type": "code",
   "execution_count": 307,
   "id": "7bd76e73",
   "metadata": {},
   "outputs": [],
   "source": [
    "output[\"PROB_CORNERS\"] = pd.DataFrame(model.predict_proba(X_validation_november)[:,1]).iloc[:, 0]\\\n",
    "    .apply(lambda x: 0 if x<0.401 else 1)"
   ]
  },
  {
   "cell_type": "code",
   "execution_count": 308,
   "id": "8e57c2cd",
   "metadata": {},
   "outputs": [
    {
     "data": {
      "text/html": [
       "<div>\n",
       "<style scoped>\n",
       "    .dataframe tbody tr th:only-of-type {\n",
       "        vertical-align: middle;\n",
       "    }\n",
       "\n",
       "    .dataframe tbody tr th {\n",
       "        vertical-align: top;\n",
       "    }\n",
       "\n",
       "    .dataframe thead th {\n",
       "        text-align: right;\n",
       "    }\n",
       "</style>\n",
       "<table border=\"1\" class=\"dataframe\">\n",
       "  <thead>\n",
       "    <tr style=\"text-align: right;\">\n",
       "      <th></th>\n",
       "      <th>ID</th>\n",
       "      <th>output</th>\n",
       "      <th>CORNERS_H</th>\n",
       "      <th>CORNERS_A</th>\n",
       "      <th>TOTAL_CORNERS</th>\n",
       "      <th>PROB_CORNERS</th>\n",
       "    </tr>\n",
       "  </thead>\n",
       "  <tbody>\n",
       "    <tr>\n",
       "      <th>13</th>\n",
       "      <td>S0oXCjk1</td>\n",
       "      <td>0</td>\n",
       "      <td>4</td>\n",
       "      <td>0</td>\n",
       "      <td>4</td>\n",
       "      <td>0</td>\n",
       "    </tr>\n",
       "    <tr>\n",
       "      <th>37</th>\n",
       "      <td>4Y8aXZPg</td>\n",
       "      <td>0</td>\n",
       "      <td>4</td>\n",
       "      <td>0</td>\n",
       "      <td>4</td>\n",
       "      <td>0</td>\n",
       "    </tr>\n",
       "    <tr>\n",
       "      <th>81</th>\n",
       "      <td>Y54DQS1n</td>\n",
       "      <td>0</td>\n",
       "      <td>0</td>\n",
       "      <td>4</td>\n",
       "      <td>4</td>\n",
       "      <td>0</td>\n",
       "    </tr>\n",
       "  </tbody>\n",
       "</table>\n",
       "</div>"
      ],
      "text/plain": [
       "          ID  output  CORNERS_H  CORNERS_A  TOTAL_CORNERS  PROB_CORNERS\n",
       "13  S0oXCjk1       0          4          0              4             0\n",
       "37  4Y8aXZPg       0          4          0              4             0\n",
       "81  Y54DQS1n       0          0          4              4             0"
      ]
     },
     "execution_count": 308,
     "metadata": {},
     "output_type": "execute_result"
    }
   ],
   "source": [
    "output[output.PROB_CORNERS==0]"
   ]
  },
  {
   "cell_type": "code",
   "execution_count": null,
   "id": "f6d7611c",
   "metadata": {},
   "outputs": [],
   "source": []
  }
 ],
 "metadata": {
  "kernelspec": {
   "display_name": "Python 3 (ipykernel)",
   "language": "python",
   "name": "python3"
  },
  "language_info": {
   "codemirror_mode": {
    "name": "ipython",
    "version": 3
   },
   "file_extension": ".py",
   "mimetype": "text/x-python",
   "name": "python",
   "nbconvert_exporter": "python",
   "pygments_lexer": "ipython3",
   "version": "3.7.11"
  }
 },
 "nbformat": 4,
 "nbformat_minor": 5
}
