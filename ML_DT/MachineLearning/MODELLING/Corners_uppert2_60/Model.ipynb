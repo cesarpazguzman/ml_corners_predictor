{
 "cells": [
  {
   "cell_type": "code",
   "execution_count": 1,
   "id": "0705929c",
   "metadata": {},
   "outputs": [],
   "source": [
    "import pymysql\n",
    "from sklearn.ensemble import RandomForestClassifier\n",
    "from sqlalchemy import create_engine\n",
    "import pandas as pd\n",
    "import matplotlib.pyplot as plt\n",
    "%matplotlib inline\n",
    "import numpy as np\n",
    "from pandasql import sqldf\n",
    "from sklearn import metrics\n",
    "\n",
    "import xgboost as xgb\n",
    "from sklearn.metrics import accuracy_score, confusion_matrix"
   ]
  },
  {
   "cell_type": "code",
   "execution_count": 2,
   "id": "0121f51f",
   "metadata": {},
   "outputs": [],
   "source": [
    "data = pd.read_csv(\"../../FEATURE_ENGINEER/tablon_uppert_60_q2.csv\").drop(\n",
    "    columns=[\"ID\", \"DATE_MATCH\", \"TEAM_HOME\", \"TEAM_AWAY\", \"LEAGUE_INGLATERRA\", \"Unnamed: 0\",\n",
    "            \"FAVOURITE_IS_HOME\", \"LEAGUE_ALEMANIA\", \"FAVOURITE_IS_AWAY\", \"LEAGUE_FRANCIA\", \"LEAGUE_ITALIA\",\n",
    "            \"NUM_SAVESAWAY_L45\", \"AVG_CORNERSAWAY2_L3\", \"CORNERS_H_45_60\", \"CORNERS_DANGATTACKS_L45\", \"CORNERS_A\",\n",
    "            \"TEMPERATURE\", \"NUM_DANGATTACKSAWAY_L45\", \"NUM_DANGATTACKSHOME_L45\", \"NUM_FOULSAWAY_L45\", \"NUM_ATTACKSHOME_L45\",\n",
    "            \"NUM_TACKLEHOME_L45\", \"POSESSION_AWAY_L45\", \"IS_FAVOURITE_DRAWING\", \"SUM_GOALS_L60\", \"AVG_CORNERS_LOSE_AWAY\",\n",
    "            \"AVG_CORNERSAWAYR2_L5\", \"AVG_CORNERSHOME2_L3\",\"AVG_CORNERSHOMER2_L5\",\"CORNERS_A_45_60\",\"AVG_CORNERSHOME1_L3\",\n",
    "            \"AVG_CORNERSHOME2_L5\", \"AVG_CORNERSAWAYR1_L3\", \"LEAGUE_ESPANA\", \"GOALS_A\",\n",
    "            \"NUM_MATCHESAWAY_POSITIVE_L5\", \"NUM_SHOTSHOME_L45\",\"WIND\",\"RAIN\"], \n",
    "    axis=1)\n",
    "\n",
    "data = data[(data.TOTAL_CORNERS>2) &(data.TOTAL_CORNERS<9)].drop(columns=[\"TOTAL_CORNERS\"],axis=1)\n",
    "\n",
    "tablon = data[data.YEARMONTH<202109].drop(columns=[\"YEARMONTH\"],axis=1)\n",
    "\n",
    "\n",
    "X_validation = data[(data.YEARMONTH>=202109) & (data.YEARMONTH<202111)].drop(columns=[\"YEARMONTH\"],axis=1)\n",
    "y_validation = X_validation.pop(\"output\")\n",
    "\n",
    "\n",
    "X_validation_november = data[data.YEARMONTH>=202111].drop(columns=[\"YEARMONTH\"],axis=1)\n",
    "y_validation_november = X_validation_november.pop(\"output\")"
   ]
  },
  {
   "cell_type": "code",
   "execution_count": 24,
   "id": "5ad0b69b",
   "metadata": {},
   "outputs": [],
   "source": [
    "len_test = int(round(len(tablon)*0.3, 0))\n",
    "len_train = int(round(len(tablon)*0.7, 0))"
   ]
  },
  {
   "cell_type": "code",
   "execution_count": 25,
   "id": "b3d8b56c",
   "metadata": {},
   "outputs": [],
   "source": [
    "len_test = int(round(len(tablon)*0.2, 0))\n",
    "len_train = int(round(len(tablon)*0.8, 0))\n",
    "\n",
    "X_train = tablon[len_test:]\n",
    "y_train = X_train.pop(\"output\")\n",
    "X_test = tablon[:len_test]\n",
    "y_test = X_test.pop(\"output\")"
   ]
  },
  {
   "cell_type": "code",
   "execution_count": 26,
   "id": "3fe938f9",
   "metadata": {},
   "outputs": [
    {
     "data": {
      "text/plain": [
       "((6176, 14), (2647, 14), (305, 14))"
      ]
     },
     "execution_count": 26,
     "metadata": {},
     "output_type": "execute_result"
    }
   ],
   "source": [
    "X_train.shape, X_test.shape, X_validation.shape"
   ]
  },
  {
   "cell_type": "code",
   "execution_count": 27,
   "id": "e4371695",
   "metadata": {},
   "outputs": [
    {
     "data": {
      "text/plain": [
       "1    3945\n",
       "0    2231\n",
       "Name: output, dtype: int64"
      ]
     },
     "execution_count": 27,
     "metadata": {},
     "output_type": "execute_result"
    }
   ],
   "source": [
    "y_train.value_counts()"
   ]
  },
  {
   "cell_type": "code",
   "execution_count": 28,
   "id": "f73ee8e1",
   "metadata": {},
   "outputs": [
    {
     "data": {
      "text/plain": [
       "1    1587\n",
       "0    1060\n",
       "Name: output, dtype: int64"
      ]
     },
     "execution_count": 28,
     "metadata": {},
     "output_type": "execute_result"
    }
   ],
   "source": [
    "y_test.value_counts()"
   ]
  },
  {
   "cell_type": "code",
   "execution_count": 29,
   "id": "b178d2af",
   "metadata": {},
   "outputs": [
    {
     "data": {
      "text/plain": [
       "1    181\n",
       "0    124\n",
       "Name: output, dtype: int64"
      ]
     },
     "execution_count": 29,
     "metadata": {},
     "output_type": "execute_result"
    }
   ],
   "source": [
    "y_validation.value_counts()"
   ]
  },
  {
   "cell_type": "markdown",
   "id": "35058c53",
   "metadata": {},
   "source": [
    "## EXECUTING BEST MODEL"
   ]
  },
  {
   "cell_type": "code",
   "execution_count": 30,
   "id": "9353c5e4",
   "metadata": {},
   "outputs": [
    {
     "name": "stderr",
     "output_type": "stream",
     "text": [
      "/home/root/opt/python3.7.11/lib/python3.7/site-packages/xgboost/sklearn.py:1224: UserWarning: The use of label encoder in XGBClassifier is deprecated and will be removed in a future release. To remove this warning, do the following: 1) Pass option use_label_encoder=False when constructing XGBClassifier object; and 2) Encode your labels (y) as integers starting with 0, i.e. 0, 1, 2, ..., [num_class - 1].\n",
      "  warnings.warn(label_encoder_deprecation_msg, UserWarning)\n"
     ]
    },
    {
     "name": "stdout",
     "output_type": "stream",
     "text": [
      "[0]\tvalidation_0-auc:0.56176\tvalidation_0-logloss:0.69181\tvalidation_0-error:0.36570\n",
      "[1]\tvalidation_0-auc:0.57011\tvalidation_0-logloss:0.69052\tvalidation_0-error:0.36607\n",
      "[2]\tvalidation_0-auc:0.56947\tvalidation_0-logloss:0.68930\tvalidation_0-error:0.36570\n",
      "[3]\tvalidation_0-auc:0.57050\tvalidation_0-logloss:0.68828\tvalidation_0-error:0.36834\n",
      "[4]\tvalidation_0-auc:0.56884\tvalidation_0-logloss:0.68714\tvalidation_0-error:0.36872\n",
      "[5]\tvalidation_0-auc:0.57278\tvalidation_0-logloss:0.68598\tvalidation_0-error:0.36607\n",
      "[6]\tvalidation_0-auc:0.57400\tvalidation_0-logloss:0.68489\tvalidation_0-error:0.36645\n",
      "[7]\tvalidation_0-auc:0.57659\tvalidation_0-logloss:0.68382\tvalidation_0-error:0.36721\n",
      "[8]\tvalidation_0-auc:0.57299\tvalidation_0-logloss:0.68298\tvalidation_0-error:0.36721\n",
      "[9]\tvalidation_0-auc:0.57393\tvalidation_0-logloss:0.68199\tvalidation_0-error:0.36683\n",
      "[10]\tvalidation_0-auc:0.57389\tvalidation_0-logloss:0.68108\tvalidation_0-error:0.36607\n",
      "[11]\tvalidation_0-auc:0.57290\tvalidation_0-logloss:0.68019\tvalidation_0-error:0.36721\n",
      "[12]\tvalidation_0-auc:0.57315\tvalidation_0-logloss:0.67930\tvalidation_0-error:0.36721\n",
      "[13]\tvalidation_0-auc:0.57402\tvalidation_0-logloss:0.67842\tvalidation_0-error:0.36721\n",
      "[14]\tvalidation_0-auc:0.57400\tvalidation_0-logloss:0.67760\tvalidation_0-error:0.36721\n",
      "[15]\tvalidation_0-auc:0.57337\tvalidation_0-logloss:0.67681\tvalidation_0-error:0.36721\n",
      "[16]\tvalidation_0-auc:0.57338\tvalidation_0-logloss:0.67604\tvalidation_0-error:0.36645\n",
      "[17]\tvalidation_0-auc:0.57377\tvalidation_0-logloss:0.67527\tvalidation_0-error:0.36683\n",
      "[18]\tvalidation_0-auc:0.57446\tvalidation_0-logloss:0.67453\tvalidation_0-error:0.36645\n",
      "[19]\tvalidation_0-auc:0.57368\tvalidation_0-logloss:0.67384\tvalidation_0-error:0.36683\n",
      "[20]\tvalidation_0-auc:0.57334\tvalidation_0-logloss:0.67316\tvalidation_0-error:0.36721\n",
      "[21]\tvalidation_0-auc:0.57300\tvalidation_0-logloss:0.67250\tvalidation_0-error:0.36721\n",
      "[22]\tvalidation_0-auc:0.57077\tvalidation_0-logloss:0.67200\tvalidation_0-error:0.36721\n",
      "[23]\tvalidation_0-auc:0.57003\tvalidation_0-logloss:0.67140\tvalidation_0-error:0.36721\n",
      "[24]\tvalidation_0-auc:0.56997\tvalidation_0-logloss:0.67080\tvalidation_0-error:0.36721\n",
      "[25]\tvalidation_0-auc:0.56981\tvalidation_0-logloss:0.67021\tvalidation_0-error:0.36645\n",
      "[26]\tvalidation_0-auc:0.57025\tvalidation_0-logloss:0.66963\tvalidation_0-error:0.36607\n",
      "[27]\tvalidation_0-auc:0.56862\tvalidation_0-logloss:0.66912\tvalidation_0-error:0.36607\n",
      "[28]\tvalidation_0-auc:0.56932\tvalidation_0-logloss:0.66856\tvalidation_0-error:0.36607\n",
      "[29]\tvalidation_0-auc:0.57002\tvalidation_0-logloss:0.66801\tvalidation_0-error:0.36570\n",
      "[30]\tvalidation_0-auc:0.57120\tvalidation_0-logloss:0.66748\tvalidation_0-error:0.36570\n",
      "[31]\tvalidation_0-auc:0.57077\tvalidation_0-logloss:0.66703\tvalidation_0-error:0.36570\n",
      "[32]\tvalidation_0-auc:0.57035\tvalidation_0-logloss:0.66660\tvalidation_0-error:0.36570\n",
      "[33]\tvalidation_0-auc:0.57095\tvalidation_0-logloss:0.66613\tvalidation_0-error:0.36570\n",
      "[34]\tvalidation_0-auc:0.57048\tvalidation_0-logloss:0.66574\tvalidation_0-error:0.36570\n",
      "[35]\tvalidation_0-auc:0.57066\tvalidation_0-logloss:0.66533\tvalidation_0-error:0.36570\n",
      "[36]\tvalidation_0-auc:0.57021\tvalidation_0-logloss:0.66494\tvalidation_0-error:0.36570\n",
      "[37]\tvalidation_0-auc:0.57000\tvalidation_0-logloss:0.66456\tvalidation_0-error:0.36570\n",
      "[38]\tvalidation_0-auc:0.56950\tvalidation_0-logloss:0.66422\tvalidation_0-error:0.36570\n",
      "[39]\tvalidation_0-auc:0.56954\tvalidation_0-logloss:0.66386\tvalidation_0-error:0.36570\n",
      "[40]\tvalidation_0-auc:0.57068\tvalidation_0-logloss:0.66346\tvalidation_0-error:0.36570\n",
      "[41]\tvalidation_0-auc:0.57088\tvalidation_0-logloss:0.66311\tvalidation_0-error:0.36570\n",
      "[42]\tvalidation_0-auc:0.57058\tvalidation_0-logloss:0.66282\tvalidation_0-error:0.36570\n",
      "[43]\tvalidation_0-auc:0.57093\tvalidation_0-logloss:0.66249\tvalidation_0-error:0.36570\n",
      "[44]\tvalidation_0-auc:0.57075\tvalidation_0-logloss:0.66220\tvalidation_0-error:0.36570\n",
      "[45]\tvalidation_0-auc:0.57001\tvalidation_0-logloss:0.66202\tvalidation_0-error:0.36570\n",
      "[46]\tvalidation_0-auc:0.56985\tvalidation_0-logloss:0.66176\tvalidation_0-error:0.36570\n",
      "[47]\tvalidation_0-auc:0.56986\tvalidation_0-logloss:0.66147\tvalidation_0-error:0.36570\n",
      "[48]\tvalidation_0-auc:0.57022\tvalidation_0-logloss:0.66118\tvalidation_0-error:0.36570\n",
      "[49]\tvalidation_0-auc:0.57011\tvalidation_0-logloss:0.66095\tvalidation_0-error:0.36570\n",
      "[50]\tvalidation_0-auc:0.57025\tvalidation_0-logloss:0.66072\tvalidation_0-error:0.36570\n",
      "[51]\tvalidation_0-auc:0.57010\tvalidation_0-logloss:0.66052\tvalidation_0-error:0.36570\n",
      "[52]\tvalidation_0-auc:0.56995\tvalidation_0-logloss:0.66032\tvalidation_0-error:0.36570\n",
      "[53]\tvalidation_0-auc:0.56965\tvalidation_0-logloss:0.66012\tvalidation_0-error:0.36570\n",
      "[54]\tvalidation_0-auc:0.56967\tvalidation_0-logloss:0.65995\tvalidation_0-error:0.36570\n",
      "[55]\tvalidation_0-auc:0.56964\tvalidation_0-logloss:0.65974\tvalidation_0-error:0.36570\n",
      "[56]\tvalidation_0-auc:0.56993\tvalidation_0-logloss:0.65954\tvalidation_0-error:0.36570\n",
      "[57]\tvalidation_0-auc:0.57004\tvalidation_0-logloss:0.65937\tvalidation_0-error:0.36570\n",
      "[58]\tvalidation_0-auc:0.56990\tvalidation_0-logloss:0.65922\tvalidation_0-error:0.36570\n",
      "[59]\tvalidation_0-auc:0.56954\tvalidation_0-logloss:0.65907\tvalidation_0-error:0.36570\n",
      "[60]\tvalidation_0-auc:0.56987\tvalidation_0-logloss:0.65887\tvalidation_0-error:0.36570\n",
      "[61]\tvalidation_0-auc:0.56964\tvalidation_0-logloss:0.65872\tvalidation_0-error:0.36570\n",
      "[62]\tvalidation_0-auc:0.56929\tvalidation_0-logloss:0.65860\tvalidation_0-error:0.36570\n",
      "[63]\tvalidation_0-auc:0.56954\tvalidation_0-logloss:0.65842\tvalidation_0-error:0.36570\n",
      "[64]\tvalidation_0-auc:0.56976\tvalidation_0-logloss:0.65825\tvalidation_0-error:0.36570\n",
      "[65]\tvalidation_0-auc:0.56944\tvalidation_0-logloss:0.65815\tvalidation_0-error:0.36570\n",
      "[66]\tvalidation_0-auc:0.56930\tvalidation_0-logloss:0.65806\tvalidation_0-error:0.36570\n",
      "[67]\tvalidation_0-auc:0.56920\tvalidation_0-logloss:0.65794\tvalidation_0-error:0.36570\n",
      "[68]\tvalidation_0-auc:0.56914\tvalidation_0-logloss:0.65780\tvalidation_0-error:0.36570\n",
      "[69]\tvalidation_0-auc:0.56928\tvalidation_0-logloss:0.65769\tvalidation_0-error:0.36570\n",
      "[70]\tvalidation_0-auc:0.56887\tvalidation_0-logloss:0.65762\tvalidation_0-error:0.36570\n",
      "[71]\tvalidation_0-auc:0.56854\tvalidation_0-logloss:0.65754\tvalidation_0-error:0.36570\n",
      "[72]\tvalidation_0-auc:0.56826\tvalidation_0-logloss:0.65745\tvalidation_0-error:0.36570\n",
      "[73]\tvalidation_0-auc:0.56827\tvalidation_0-logloss:0.65738\tvalidation_0-error:0.36570\n",
      "[74]\tvalidation_0-auc:0.56794\tvalidation_0-logloss:0.65730\tvalidation_0-error:0.36570\n",
      "[75]\tvalidation_0-auc:0.56818\tvalidation_0-logloss:0.65718\tvalidation_0-error:0.36570\n",
      "[76]\tvalidation_0-auc:0.56805\tvalidation_0-logloss:0.65709\tvalidation_0-error:0.36570\n",
      "[77]\tvalidation_0-auc:0.56854\tvalidation_0-logloss:0.65700\tvalidation_0-error:0.36570\n",
      "[78]\tvalidation_0-auc:0.56793\tvalidation_0-logloss:0.65693\tvalidation_0-error:0.36570\n",
      "[79]\tvalidation_0-auc:0.56820\tvalidation_0-logloss:0.65686\tvalidation_0-error:0.36570\n",
      "[80]\tvalidation_0-auc:0.56832\tvalidation_0-logloss:0.65682\tvalidation_0-error:0.36570\n",
      "[81]\tvalidation_0-auc:0.56840\tvalidation_0-logloss:0.65675\tvalidation_0-error:0.36570\n",
      "[82]\tvalidation_0-auc:0.56809\tvalidation_0-logloss:0.65671\tvalidation_0-error:0.36570\n",
      "[83]\tvalidation_0-auc:0.56805\tvalidation_0-logloss:0.65666\tvalidation_0-error:0.36570\n",
      "[84]\tvalidation_0-auc:0.56745\tvalidation_0-logloss:0.65664\tvalidation_0-error:0.36570\n",
      "[85]\tvalidation_0-auc:0.56763\tvalidation_0-logloss:0.65655\tvalidation_0-error:0.36570\n",
      "[86]\tvalidation_0-auc:0.56767\tvalidation_0-logloss:0.65650\tvalidation_0-error:0.36570\n",
      "[87]\tvalidation_0-auc:0.56754\tvalidation_0-logloss:0.65647\tvalidation_0-error:0.36570\n",
      "[88]\tvalidation_0-auc:0.56728\tvalidation_0-logloss:0.65643\tvalidation_0-error:0.36570\n",
      "[89]\tvalidation_0-auc:0.56758\tvalidation_0-logloss:0.65638\tvalidation_0-error:0.36570\n",
      "[90]\tvalidation_0-auc:0.56764\tvalidation_0-logloss:0.65633\tvalidation_0-error:0.36570\n",
      "[91]\tvalidation_0-auc:0.56727\tvalidation_0-logloss:0.65631\tvalidation_0-error:0.36570\n",
      "[92]\tvalidation_0-auc:0.56719\tvalidation_0-logloss:0.65629\tvalidation_0-error:0.36570\n",
      "[93]\tvalidation_0-auc:0.56735\tvalidation_0-logloss:0.65626\tvalidation_0-error:0.36570\n",
      "[94]\tvalidation_0-auc:0.56727\tvalidation_0-logloss:0.65626\tvalidation_0-error:0.36570\n",
      "[95]\tvalidation_0-auc:0.56718\tvalidation_0-logloss:0.65625\tvalidation_0-error:0.36570\n"
     ]
    },
    {
     "name": "stdout",
     "output_type": "stream",
     "text": [
      "[96]\tvalidation_0-auc:0.56635\tvalidation_0-logloss:0.65626\tvalidation_0-error:0.36570\n",
      "[97]\tvalidation_0-auc:0.56632\tvalidation_0-logloss:0.65624\tvalidation_0-error:0.36570\n",
      "[98]\tvalidation_0-auc:0.56644\tvalidation_0-logloss:0.65617\tvalidation_0-error:0.36570\n",
      "[99]\tvalidation_0-auc:0.56644\tvalidation_0-logloss:0.65615\tvalidation_0-error:0.36570\n",
      "[100]\tvalidation_0-auc:0.56600\tvalidation_0-logloss:0.65614\tvalidation_0-error:0.36570\n",
      "[101]\tvalidation_0-auc:0.56610\tvalidation_0-logloss:0.65612\tvalidation_0-error:0.36570\n",
      "[102]\tvalidation_0-auc:0.56625\tvalidation_0-logloss:0.65609\tvalidation_0-error:0.36570\n",
      "[103]\tvalidation_0-auc:0.56619\tvalidation_0-logloss:0.65609\tvalidation_0-error:0.36570\n",
      "[104]\tvalidation_0-auc:0.56675\tvalidation_0-logloss:0.65605\tvalidation_0-error:0.36570\n",
      "[105]\tvalidation_0-auc:0.56679\tvalidation_0-logloss:0.65603\tvalidation_0-error:0.36570\n",
      "[106]\tvalidation_0-auc:0.56703\tvalidation_0-logloss:0.65599\tvalidation_0-error:0.36570\n",
      "[107]\tvalidation_0-auc:0.56707\tvalidation_0-logloss:0.65597\tvalidation_0-error:0.36570\n",
      "[108]\tvalidation_0-auc:0.56716\tvalidation_0-logloss:0.65595\tvalidation_0-error:0.36570\n",
      "[109]\tvalidation_0-auc:0.56713\tvalidation_0-logloss:0.65595\tvalidation_0-error:0.36570\n",
      "[110]\tvalidation_0-auc:0.56736\tvalidation_0-logloss:0.65593\tvalidation_0-error:0.36570\n",
      "[111]\tvalidation_0-auc:0.56744\tvalidation_0-logloss:0.65591\tvalidation_0-error:0.36607\n",
      "[112]\tvalidation_0-auc:0.56749\tvalidation_0-logloss:0.65590\tvalidation_0-error:0.36607\n",
      "[113]\tvalidation_0-auc:0.56744\tvalidation_0-logloss:0.65590\tvalidation_0-error:0.36607\n",
      "[114]\tvalidation_0-auc:0.56779\tvalidation_0-logloss:0.65586\tvalidation_0-error:0.36607\n",
      "[115]\tvalidation_0-auc:0.56759\tvalidation_0-logloss:0.65585\tvalidation_0-error:0.36607\n",
      "[116]\tvalidation_0-auc:0.56722\tvalidation_0-logloss:0.65587\tvalidation_0-error:0.36607\n",
      "[117]\tvalidation_0-auc:0.56764\tvalidation_0-logloss:0.65585\tvalidation_0-error:0.36607\n",
      "[118]\tvalidation_0-auc:0.56760\tvalidation_0-logloss:0.65585\tvalidation_0-error:0.36607\n",
      "[119]\tvalidation_0-auc:0.56761\tvalidation_0-logloss:0.65582\tvalidation_0-error:0.36570\n",
      "[120]\tvalidation_0-auc:0.56759\tvalidation_0-logloss:0.65584\tvalidation_0-error:0.36570\n",
      "[121]\tvalidation_0-auc:0.56699\tvalidation_0-logloss:0.65590\tvalidation_0-error:0.36570\n",
      "[122]\tvalidation_0-auc:0.56698\tvalidation_0-logloss:0.65591\tvalidation_0-error:0.36570\n",
      "[123]\tvalidation_0-auc:0.56699\tvalidation_0-logloss:0.65590\tvalidation_0-error:0.36570\n",
      "[124]\tvalidation_0-auc:0.56656\tvalidation_0-logloss:0.65594\tvalidation_0-error:0.36570\n",
      "[125]\tvalidation_0-auc:0.56665\tvalidation_0-logloss:0.65592\tvalidation_0-error:0.36570\n",
      "[126]\tvalidation_0-auc:0.56632\tvalidation_0-logloss:0.65596\tvalidation_0-error:0.36570\n",
      "[127]\tvalidation_0-auc:0.56612\tvalidation_0-logloss:0.65598\tvalidation_0-error:0.36570\n",
      "[128]\tvalidation_0-auc:0.56620\tvalidation_0-logloss:0.65600\tvalidation_0-error:0.36570\n",
      "[129]\tvalidation_0-auc:0.56614\tvalidation_0-logloss:0.65600\tvalidation_0-error:0.36570\n"
     ]
    },
    {
     "data": {
      "text/plain": [
       "XGBClassifier(base_score=0.5, booster='gbtree', colsample_bylevel=1,\n",
       "              colsample_bynode=1, colsample_bytree=0.65,\n",
       "              enable_categorical=False, eta=0.015,\n",
       "              eval_metric=['auc', 'logloss', 'error'], gamma=1.25, gpu_id=-1,\n",
       "              importance_type=None, interaction_constraints='',\n",
       "              learning_rate=0.0149999997, max_delta_step=0, max_depth=6,\n",
       "              min_child_weight=30, missing=nan, monotone_constraints='()',\n",
       "              n_estimators=130, n_jobs=12, num_parallel_tree=1,\n",
       "              predictor='auto', random_state=123, reg_alpha=0, reg_lambda=1,\n",
       "              scale_pos_weight=1, subsample=1, tree_method='exact',\n",
       "              validate_parameters=1, verbosity=None)"
      ]
     },
     "execution_count": 30,
     "metadata": {},
     "output_type": "execute_result"
    }
   ],
   "source": [
    "model = xgb.XGBClassifier(objective='binary:logistic', n_estimators=130, max_depth=6, gamma=1.25, eta=0.015,\n",
    "                          min_child_weight=30, colsample_bytree=0.65, \n",
    "                          random_state=123, eval_metric=[\"auc\", \"logloss\", \"error\"])\n",
    "model.fit(X_train, y_train, eval_set=[(X_test, y_test)])"
   ]
  },
  {
   "cell_type": "code",
   "execution_count": 31,
   "id": "fd60cb85",
   "metadata": {},
   "outputs": [
    {
     "data": {
      "text/plain": [
       "<AxesSubplot:>"
      ]
     },
     "execution_count": 31,
     "metadata": {},
     "output_type": "execute_result"
    },
    {
     "data": {
      "image/png": "[encoded data removed]",
      "text/plain": [
       "<Figure size 432x288 with 1 Axes>"
      ]
     },
     "metadata": {
      "needs_background": "light"
     },
     "output_type": "display_data"
    }
   ],
   "source": [
    "fu_dict = dict(zip(X_train.columns, model.feature_importances_))\n",
    "fi = pd.DataFrame(fu_dict.values(), index=fu_dict.keys(), columns=[\"importance\"])\n",
    "fi = fi.sort_values(by=\"importance\", ascending=False)\n",
    "\n",
    "fi.plot.bar()"
   ]
  },
  {
   "cell_type": "code",
   "execution_count": 32,
   "id": "ff8a7a70",
   "metadata": {},
   "outputs": [
    {
     "data": {
      "text/plain": [
       "array([[ 143,  917],\n",
       "       [  51, 1536]])"
      ]
     },
     "execution_count": 32,
     "metadata": {},
     "output_type": "execute_result"
    }
   ],
   "source": [
    "y_pred1 = model.predict(X_test)\n",
    "cm = confusion_matrix(y_test, y_pred1)\n",
    "cm"
   ]
  },
  {
   "cell_type": "code",
   "execution_count": 33,
   "id": "2a85372f",
   "metadata": {},
   "outputs": [
    {
     "data": {
      "text/plain": [
       "0.7371134020618557"
      ]
     },
     "execution_count": 33,
     "metadata": {},
     "output_type": "execute_result"
    }
   ],
   "source": [
    "cm[0][0]/(cm[1][0]+cm[0][0])"
   ]
  },
  {
   "cell_type": "code",
   "execution_count": 34,
   "id": "7e46167a",
   "metadata": {},
   "outputs": [
    {
     "data": {
      "text/plain": [
       "7.329051756705704"
      ]
     },
     "execution_count": 34,
     "metadata": {},
     "output_type": "execute_result"
    }
   ],
   "source": [
    "(cm[0][0]+cm[1][0])/len(y_test)*100"
   ]
  },
  {
   "cell_type": "markdown",
   "id": "bd2cf07a",
   "metadata": {},
   "source": [
    "# VALIDATION - BEST MODEL --> 70% accuracy in 17% of matches"
   ]
  },
  {
   "cell_type": "code",
   "execution_count": 35,
   "id": "31566b6c",
   "metadata": {},
   "outputs": [
    {
     "data": {
      "text/plain": [
       "array([[ 24, 100],\n",
       "       [  3, 178]])"
      ]
     },
     "execution_count": 35,
     "metadata": {},
     "output_type": "execute_result"
    }
   ],
   "source": [
    "y_pred = model.predict(X_validation)\n",
    "cm = confusion_matrix(y_validation, y_pred)\n",
    "cm"
   ]
  },
  {
   "cell_type": "code",
   "execution_count": 36,
   "id": "8792d422",
   "metadata": {},
   "outputs": [
    {
     "data": {
      "text/plain": [
       "0.8888888888888888"
      ]
     },
     "execution_count": 36,
     "metadata": {},
     "output_type": "execute_result"
    }
   ],
   "source": [
    "cm[0][0]/(cm[1][0]+cm[0][0])"
   ]
  },
  {
   "cell_type": "code",
   "execution_count": 37,
   "id": "e19d4fb4",
   "metadata": {},
   "outputs": [
    {
     "data": {
      "text/plain": [
       "8.852459016393443"
      ]
     },
     "execution_count": 37,
     "metadata": {},
     "output_type": "execute_result"
    }
   ],
   "source": [
    "(cm[0][0]+cm[1][0])/len(y_validation)*100"
   ]
  },
  {
   "cell_type": "markdown",
   "id": "ad7f885b",
   "metadata": {},
   "source": [
    "## FINAL VALIDATION - NOVEMBER 2021"
   ]
  },
  {
   "cell_type": "code",
   "execution_count": 38,
   "id": "2ff81e36",
   "metadata": {},
   "outputs": [
    {
     "data": {
      "text/plain": [
       "array([[10, 70],\n",
       "       [ 1, 99]])"
      ]
     },
     "execution_count": 38,
     "metadata": {},
     "output_type": "execute_result"
    }
   ],
   "source": [
    "y_pred = model.predict(X_validation_november)\n",
    "cm = confusion_matrix(y_validation_november, y_pred)\n",
    "cm"
   ]
  },
  {
   "cell_type": "code",
   "execution_count": 39,
   "id": "8c44788e",
   "metadata": {},
   "outputs": [
    {
     "data": {
      "text/plain": [
       "0.9090909090909091"
      ]
     },
     "execution_count": 39,
     "metadata": {},
     "output_type": "execute_result"
    }
   ],
   "source": [
    "cm[0][0]/(cm[1][0]+cm[0][0])"
   ]
  },
  {
   "cell_type": "code",
   "execution_count": 40,
   "id": "9f8859f0",
   "metadata": {},
   "outputs": [
    {
     "data": {
      "text/plain": [
       "6.111111111111111"
      ]
     },
     "execution_count": 40,
     "metadata": {},
     "output_type": "execute_result"
    }
   ],
   "source": [
    "(cm[0][0]+cm[1][0])/len(y_validation_november)*100"
   ]
  },
  {
   "cell_type": "code",
   "execution_count": 22,
   "id": "433abf23",
   "metadata": {},
   "outputs": [],
   "source": [
    "#umbral --> 0.58; Condition --> TOTAL_CORNERS > 3\n",
    "import pickle\n",
    "file_name = \"model_under3_60.pkl\"\n",
    "\n",
    "# save\n",
    "pickle.dump(model, open(file_name, \"wb\"))\n",
    "\n",
    "# load\n",
    "#xgb_model_loaded = pickle.load(open(file_name, \"rb\"))\n"
   ]
  },
  {
   "cell_type": "code",
   "execution_count": null,
   "id": "74594fdf",
   "metadata": {},
   "outputs": [],
   "source": []
  },
  {
   "cell_type": "markdown",
   "id": "fd483e1a",
   "metadata": {},
   "source": [
    "# OUTPUT"
   ]
  },
  {
   "cell_type": "code",
   "execution_count": 69,
   "id": "e438cbca",
   "metadata": {},
   "outputs": [],
   "source": [
    "output = data[(data.YEARMONTH>=202111 )& (data.TOTAL_CORNERS>3)][[\"ID\", \"output\", \"CORNERS_H\", \"CORNERS_A\", \"TOTAL_CORNERS\"]].reset_index(drop=True)"
   ]
  },
  {
   "cell_type": "code",
   "execution_count": 70,
   "id": "a9ace64f",
   "metadata": {},
   "outputs": [],
   "source": [
    "output[\"PROB_CORNERS\"] = pd.DataFrame(model.predict_proba(X_validation_november)[:,1]).iloc[:, 0]\\\n",
    "    .apply(lambda x: 1 if x>0.6 else 0)"
   ]
  },
  {
   "cell_type": "code",
   "execution_count": 71,
   "id": "a8486cc5",
   "metadata": {},
   "outputs": [
    {
     "data": {
      "text/html": [
       "<div>\n",
       "<style scoped>\n",
       "    .dataframe tbody tr th:only-of-type {\n",
       "        vertical-align: middle;\n",
       "    }\n",
       "\n",
       "    .dataframe tbody tr th {\n",
       "        vertical-align: top;\n",
       "    }\n",
       "\n",
       "    .dataframe thead th {\n",
       "        text-align: right;\n",
       "    }\n",
       "</style>\n",
       "<table border=\"1\" class=\"dataframe\">\n",
       "  <thead>\n",
       "    <tr style=\"text-align: right;\">\n",
       "      <th></th>\n",
       "      <th>ID</th>\n",
       "      <th>output</th>\n",
       "      <th>CORNERS_H</th>\n",
       "      <th>CORNERS_A</th>\n",
       "      <th>TOTAL_CORNERS</th>\n",
       "      <th>PROB_CORNERS</th>\n",
       "    </tr>\n",
       "  </thead>\n",
       "  <tbody>\n",
       "    <tr>\n",
       "      <th>1</th>\n",
       "      <td>nsYoAO57</td>\n",
       "      <td>0</td>\n",
       "      <td>5</td>\n",
       "      <td>1</td>\n",
       "      <td>6</td>\n",
       "      <td>1</td>\n",
       "    </tr>\n",
       "    <tr>\n",
       "      <th>2</th>\n",
       "      <td>p0AwSvlE</td>\n",
       "      <td>0</td>\n",
       "      <td>4</td>\n",
       "      <td>5</td>\n",
       "      <td>9</td>\n",
       "      <td>1</td>\n",
       "    </tr>\n",
       "    <tr>\n",
       "      <th>3</th>\n",
       "      <td>My8ONsz7</td>\n",
       "      <td>0</td>\n",
       "      <td>10</td>\n",
       "      <td>7</td>\n",
       "      <td>17</td>\n",
       "      <td>1</td>\n",
       "    </tr>\n",
       "    <tr>\n",
       "      <th>4</th>\n",
       "      <td>G2atNzD8</td>\n",
       "      <td>1</td>\n",
       "      <td>7</td>\n",
       "      <td>5</td>\n",
       "      <td>12</td>\n",
       "      <td>1</td>\n",
       "    </tr>\n",
       "    <tr>\n",
       "      <th>5</th>\n",
       "      <td>CUhkLEsL</td>\n",
       "      <td>0</td>\n",
       "      <td>2</td>\n",
       "      <td>7</td>\n",
       "      <td>9</td>\n",
       "      <td>1</td>\n",
       "    </tr>\n",
       "    <tr>\n",
       "      <th>...</th>\n",
       "      <td>...</td>\n",
       "      <td>...</td>\n",
       "      <td>...</td>\n",
       "      <td>...</td>\n",
       "      <td>...</td>\n",
       "      <td>...</td>\n",
       "    </tr>\n",
       "    <tr>\n",
       "      <th>85</th>\n",
       "      <td>xI3tKroU</td>\n",
       "      <td>1</td>\n",
       "      <td>4</td>\n",
       "      <td>5</td>\n",
       "      <td>9</td>\n",
       "      <td>1</td>\n",
       "    </tr>\n",
       "    <tr>\n",
       "      <th>86</th>\n",
       "      <td>lG5l5XHe</td>\n",
       "      <td>1</td>\n",
       "      <td>2</td>\n",
       "      <td>2</td>\n",
       "      <td>4</td>\n",
       "      <td>1</td>\n",
       "    </tr>\n",
       "    <tr>\n",
       "      <th>88</th>\n",
       "      <td>EFCLO6Wb</td>\n",
       "      <td>1</td>\n",
       "      <td>6</td>\n",
       "      <td>2</td>\n",
       "      <td>8</td>\n",
       "      <td>1</td>\n",
       "    </tr>\n",
       "    <tr>\n",
       "      <th>89</th>\n",
       "      <td>445YL4GH</td>\n",
       "      <td>1</td>\n",
       "      <td>5</td>\n",
       "      <td>1</td>\n",
       "      <td>6</td>\n",
       "      <td>1</td>\n",
       "    </tr>\n",
       "    <tr>\n",
       "      <th>90</th>\n",
       "      <td>Ewe8F2go</td>\n",
       "      <td>0</td>\n",
       "      <td>6</td>\n",
       "      <td>3</td>\n",
       "      <td>9</td>\n",
       "      <td>1</td>\n",
       "    </tr>\n",
       "  </tbody>\n",
       "</table>\n",
       "<p>81 rows × 6 columns</p>\n",
       "</div>"
      ],
      "text/plain": [
       "          ID  output  CORNERS_H  CORNERS_A  TOTAL_CORNERS  PROB_CORNERS\n",
       "1   nsYoAO57       0          5          1              6             1\n",
       "2   p0AwSvlE       0          4          5              9             1\n",
       "3   My8ONsz7       0         10          7             17             1\n",
       "4   G2atNzD8       1          7          5             12             1\n",
       "5   CUhkLEsL       0          2          7              9             1\n",
       "..       ...     ...        ...        ...            ...           ...\n",
       "85  xI3tKroU       1          4          5              9             1\n",
       "86  lG5l5XHe       1          2          2              4             1\n",
       "88  EFCLO6Wb       1          6          2              8             1\n",
       "89  445YL4GH       1          5          1              6             1\n",
       "90  Ewe8F2go       0          6          3              9             1\n",
       "\n",
       "[81 rows x 6 columns]"
      ]
     },
     "execution_count": 71,
     "metadata": {},
     "output_type": "execute_result"
    }
   ],
   "source": [
    "output[output.PROB_CORNERS==1]"
   ]
  },
  {
   "cell_type": "code",
   "execution_count": null,
   "id": "c616056a",
   "metadata": {},
   "outputs": [],
   "source": []
  }
 ],
 "metadata": {
  "kernelspec": {
   "display_name": "Python 3 (ipykernel)",
   "language": "python",
   "name": "python3"
  },
  "language_info": {
   "codemirror_mode": {
    "name": "ipython",
    "version": 3
   },
   "file_extension": ".py",
   "mimetype": "text/x-python",
   "name": "python",
   "nbconvert_exporter": "python",
   "pygments_lexer": "ipython3",
   "version": "3.7.11"
  }
 },
 "nbformat": 4,
 "nbformat_minor": 5
}
