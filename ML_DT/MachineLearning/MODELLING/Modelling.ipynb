{
 "cells": [
  {
   "cell_type": "code",
   "execution_count": 62,
   "id": "0705929c",
   "metadata": {},
   "outputs": [],
   "source": [
    "import pymysql\n",
    "from sklearn.ensemble import RandomForestClassifier\n",
    "from sqlalchemy import create_engine\n",
    "import pandas as pd\n",
    "import matplotlib.pyplot as plt\n",
    "%matplotlib inline\n",
    "import numpy as np\n",
    "from pandasql import sqldf\n",
    "\n",
    "import xgboost as xgb\n",
    "from sklearn.metrics import accuracy_score, confusion_matrix"
   ]
  },
  {
   "cell_type": "code",
   "execution_count": 558,
   "id": "8c9eb2dc",
   "metadata": {},
   "outputs": [],
   "source": [
    "tablon = pd.read_csv(\"../FEATURE_ENGINEER/tablon3.csv\")[[\"AVG_CORNERSHOMED1_L3\",\"AVG_CORNERSHOMED2_L5\",\n",
    "                                                         \"AVG_CORNERSAWAYD1_L5\",\"CORNERS_DIV_SHOTS\",\"AVG_CORNERSAWAYD2_L5\",\n",
    "                                                         \"LEAGUE_INGLATERRA\",\"TOTAL_CORNERS\",\"LAST_MINUTECORNER_H_L60\",\n",
    "                                                         \"LEAGUE_ESPANA\",\"CORNERS_DIV_DANGATTACKS\",\n",
    "                                                         \"LAST_MINUTECORNER_A_L60\",\"AVG_CORNERSHOMER2_L5\",\n",
    "                                                         \"AVG_CORNERS_LOSE_HOME\",\"CORNERS_A\",\n",
    "                                                         \"AVG_CORNERSHOMER1_L3\",\"GOALS/DANGATTACKS_L45\",\"ODDS_AWAY\",\n",
    "                                                         \"AVG_CORNERSHOMED1_L5\",\"RANK_HOMELEAGUE_L5\",\n",
    "                                                         \"NUM_MATCHESHOME_POSITIVE_L5\",\"NUM_ATTACKSHOME_L45\",\"DIF_ODDS\",\n",
    "                                                         \"GOALS_A\",\"output\"]]"
   ]
  },
  {
   "cell_type": "code",
   "execution_count": 559,
   "id": "5ad0b69b",
   "metadata": {},
   "outputs": [],
   "source": [
    "len_test = int(round(len(tablon)*0.25, 0))\n",
    "len_train = int(round(len(tablon)*0.6, 0))"
   ]
  },
  {
   "cell_type": "code",
   "execution_count": 560,
   "id": "b3d8b56c",
   "metadata": {},
   "outputs": [],
   "source": [
    "X_train = tablon[:len_train]\n",
    "y_train = X_train.pop(\"output\")\n",
    "X_test = tablon[len_train:(len_train+len_test)]\n",
    "y_test = X_test.pop(\"output\")\n",
    "X_validation = tablon[(len_train+len_test):]\n",
    "y_validation = X_validation.pop(\"output\")"
   ]
  },
  {
   "cell_type": "code",
   "execution_count": 561,
   "id": "3fe938f9",
   "metadata": {},
   "outputs": [
    {
     "data": {
      "text/plain": [
       "((6919, 23), (2883, 23), (1730, 23))"
      ]
     },
     "execution_count": 561,
     "metadata": {},
     "output_type": "execute_result"
    }
   ],
   "source": [
    "X_train.shape, X_test.shape, X_validation.shape"
   ]
  },
  {
   "cell_type": "code",
   "execution_count": 562,
   "id": "e4371695",
   "metadata": {},
   "outputs": [
    {
     "data": {
      "text/plain": [
       "1    4233\n",
       "0    2686\n",
       "Name: output, dtype: int64"
      ]
     },
     "execution_count": 562,
     "metadata": {},
     "output_type": "execute_result"
    }
   ],
   "source": [
    "y_train.value_counts()"
   ]
  },
  {
   "cell_type": "code",
   "execution_count": 563,
   "id": "f73ee8e1",
   "metadata": {},
   "outputs": [
    {
     "data": {
      "text/plain": [
       "1    1663\n",
       "0    1220\n",
       "Name: output, dtype: int64"
      ]
     },
     "execution_count": 563,
     "metadata": {},
     "output_type": "execute_result"
    }
   ],
   "source": [
    "y_test.value_counts()"
   ]
  },
  {
   "cell_type": "code",
   "execution_count": 564,
   "id": "b178d2af",
   "metadata": {},
   "outputs": [
    {
     "data": {
      "text/plain": [
       "1    985\n",
       "0    745\n",
       "Name: output, dtype: int64"
      ]
     },
     "execution_count": 564,
     "metadata": {},
     "output_type": "execute_result"
    }
   ],
   "source": [
    "y_validation.value_counts()"
   ]
  },
  {
   "cell_type": "markdown",
   "id": "35058c53",
   "metadata": {},
   "source": [
    "## EXECUTING BEST MODEL"
   ]
  },
  {
   "cell_type": "code",
   "execution_count": 565,
   "id": "9353c5e4",
   "metadata": {},
   "outputs": [
    {
     "name": "stdout",
     "output_type": "stream",
     "text": [
      "[0]\tvalidation_0-auc:0.61635\tvalidation_0-logloss:0.69154\tvalidation_0-error:0.34859\n",
      "[1]\tvalidation_0-auc:0.61740\tvalidation_0-logloss:0.68997\tvalidation_0-error:0.34859\n",
      "[2]\tvalidation_0-auc:0.62752\tvalidation_0-logloss:0.68834\tvalidation_0-error:0.34859\n",
      "[3]\tvalidation_0-auc:0.63366\tvalidation_0-logloss:0.68675\tvalidation_0-error:0.34825\n",
      "[4]\tvalidation_0-auc:0.63528\tvalidation_0-logloss:0.68528\tvalidation_0-error:0.34859\n",
      "[5]\tvalidation_0-auc:0.63484\tvalidation_0-logloss:0.68381\tvalidation_0-error:0.34790\n",
      "[6]\tvalidation_0-auc:0.63318\tvalidation_0-logloss:0.68251\tvalidation_0-error:0.34721\n",
      "[7]\tvalidation_0-auc:0.63363\tvalidation_0-logloss:0.68110\tvalidation_0-error:0.34790\n"
     ]
    },
    {
     "name": "stderr",
     "output_type": "stream",
     "text": [
      "/home/root/opt/python3.7.11/lib/python3.7/site-packages/xgboost/sklearn.py:1224: UserWarning: The use of label encoder in XGBClassifier is deprecated and will be removed in a future release. To remove this warning, do the following: 1) Pass option use_label_encoder=False when constructing XGBClassifier object; and 2) Encode your labels (y) as integers starting with 0, i.e. 0, 1, 2, ..., [num_class - 1].\n",
      "  warnings.warn(label_encoder_deprecation_msg, UserWarning)\n"
     ]
    },
    {
     "name": "stdout",
     "output_type": "stream",
     "text": [
      "[8]\tvalidation_0-auc:0.63343\tvalidation_0-logloss:0.67982\tvalidation_0-error:0.34756\n",
      "[9]\tvalidation_0-auc:0.63378\tvalidation_0-logloss:0.67849\tvalidation_0-error:0.34790\n",
      "[10]\tvalidation_0-auc:0.63516\tvalidation_0-logloss:0.67720\tvalidation_0-error:0.34790\n",
      "[11]\tvalidation_0-auc:0.63565\tvalidation_0-logloss:0.67609\tvalidation_0-error:0.34756\n",
      "[12]\tvalidation_0-auc:0.63622\tvalidation_0-logloss:0.67486\tvalidation_0-error:0.34756\n",
      "[13]\tvalidation_0-auc:0.63677\tvalidation_0-logloss:0.67383\tvalidation_0-error:0.34686\n",
      "[14]\tvalidation_0-auc:0.63648\tvalidation_0-logloss:0.67271\tvalidation_0-error:0.34756\n",
      "[15]\tvalidation_0-auc:0.63587\tvalidation_0-logloss:0.67168\tvalidation_0-error:0.34756\n",
      "[16]\tvalidation_0-auc:0.63661\tvalidation_0-logloss:0.67070\tvalidation_0-error:0.34756\n",
      "[17]\tvalidation_0-auc:0.63719\tvalidation_0-logloss:0.66974\tvalidation_0-error:0.34756\n",
      "[18]\tvalidation_0-auc:0.63768\tvalidation_0-logloss:0.66885\tvalidation_0-error:0.34721\n",
      "[19]\tvalidation_0-auc:0.63903\tvalidation_0-logloss:0.66788\tvalidation_0-error:0.34721\n",
      "[20]\tvalidation_0-auc:0.63936\tvalidation_0-logloss:0.66693\tvalidation_0-error:0.34721\n",
      "[21]\tvalidation_0-auc:0.64005\tvalidation_0-logloss:0.66600\tvalidation_0-error:0.34686\n",
      "[22]\tvalidation_0-auc:0.64038\tvalidation_0-logloss:0.66517\tvalidation_0-error:0.34617\n",
      "[23]\tvalidation_0-auc:0.64021\tvalidation_0-logloss:0.66431\tvalidation_0-error:0.34686\n",
      "[24]\tvalidation_0-auc:0.63993\tvalidation_0-logloss:0.66353\tvalidation_0-error:0.34686\n",
      "[25]\tvalidation_0-auc:0.64003\tvalidation_0-logloss:0.66274\tvalidation_0-error:0.34686\n",
      "[26]\tvalidation_0-auc:0.64038\tvalidation_0-logloss:0.66192\tvalidation_0-error:0.34686\n",
      "[27]\tvalidation_0-auc:0.64048\tvalidation_0-logloss:0.66116\tvalidation_0-error:0.34617\n",
      "[28]\tvalidation_0-auc:0.64057\tvalidation_0-logloss:0.66044\tvalidation_0-error:0.34686\n",
      "[29]\tvalidation_0-auc:0.64139\tvalidation_0-logloss:0.65972\tvalidation_0-error:0.34651\n",
      "[30]\tvalidation_0-auc:0.64148\tvalidation_0-logloss:0.65904\tvalidation_0-error:0.34686\n",
      "[31]\tvalidation_0-auc:0.64138\tvalidation_0-logloss:0.65844\tvalidation_0-error:0.34617\n",
      "[32]\tvalidation_0-auc:0.64110\tvalidation_0-logloss:0.65780\tvalidation_0-error:0.34686\n",
      "[33]\tvalidation_0-auc:0.64113\tvalidation_0-logloss:0.65732\tvalidation_0-error:0.34617\n",
      "[34]\tvalidation_0-auc:0.64131\tvalidation_0-logloss:0.65668\tvalidation_0-error:0.34651\n",
      "[35]\tvalidation_0-auc:0.64135\tvalidation_0-logloss:0.65611\tvalidation_0-error:0.34651\n",
      "[36]\tvalidation_0-auc:0.64126\tvalidation_0-logloss:0.65554\tvalidation_0-error:0.34686\n",
      "[37]\tvalidation_0-auc:0.64161\tvalidation_0-logloss:0.65501\tvalidation_0-error:0.34721\n",
      "[38]\tvalidation_0-auc:0.64196\tvalidation_0-logloss:0.65446\tvalidation_0-error:0.34721\n",
      "[39]\tvalidation_0-auc:0.64262\tvalidation_0-logloss:0.65399\tvalidation_0-error:0.34721\n",
      "[40]\tvalidation_0-auc:0.64322\tvalidation_0-logloss:0.65339\tvalidation_0-error:0.34651\n",
      "[41]\tvalidation_0-auc:0.64360\tvalidation_0-logloss:0.65289\tvalidation_0-error:0.34686\n",
      "[42]\tvalidation_0-auc:0.64352\tvalidation_0-logloss:0.65243\tvalidation_0-error:0.34651\n",
      "[43]\tvalidation_0-auc:0.64362\tvalidation_0-logloss:0.65195\tvalidation_0-error:0.34686\n",
      "[44]\tvalidation_0-auc:0.64340\tvalidation_0-logloss:0.65148\tvalidation_0-error:0.34721\n",
      "[45]\tvalidation_0-auc:0.64382\tvalidation_0-logloss:0.65101\tvalidation_0-error:0.34721\n",
      "[46]\tvalidation_0-auc:0.64388\tvalidation_0-logloss:0.65050\tvalidation_0-error:0.34686\n",
      "[47]\tvalidation_0-auc:0.64394\tvalidation_0-logloss:0.65006\tvalidation_0-error:0.34651\n",
      "[48]\tvalidation_0-auc:0.64397\tvalidation_0-logloss:0.64967\tvalidation_0-error:0.34686\n",
      "[49]\tvalidation_0-auc:0.64416\tvalidation_0-logloss:0.64927\tvalidation_0-error:0.34651\n",
      "[50]\tvalidation_0-auc:0.64440\tvalidation_0-logloss:0.64885\tvalidation_0-error:0.34651\n",
      "[51]\tvalidation_0-auc:0.64468\tvalidation_0-logloss:0.64847\tvalidation_0-error:0.34651\n",
      "[52]\tvalidation_0-auc:0.64495\tvalidation_0-logloss:0.64811\tvalidation_0-error:0.34651\n",
      "[53]\tvalidation_0-auc:0.64469\tvalidation_0-logloss:0.64777\tvalidation_0-error:0.34686\n",
      "[54]\tvalidation_0-auc:0.64466\tvalidation_0-logloss:0.64743\tvalidation_0-error:0.34686\n",
      "[55]\tvalidation_0-auc:0.64434\tvalidation_0-logloss:0.64709\tvalidation_0-error:0.34686\n",
      "[56]\tvalidation_0-auc:0.64472\tvalidation_0-logloss:0.64672\tvalidation_0-error:0.34686\n",
      "[57]\tvalidation_0-auc:0.64432\tvalidation_0-logloss:0.64647\tvalidation_0-error:0.34651\n",
      "[58]\tvalidation_0-auc:0.64444\tvalidation_0-logloss:0.64610\tvalidation_0-error:0.34651\n",
      "[59]\tvalidation_0-auc:0.64482\tvalidation_0-logloss:0.64578\tvalidation_0-error:0.34651\n",
      "[60]\tvalidation_0-auc:0.64490\tvalidation_0-logloss:0.64543\tvalidation_0-error:0.34617\n",
      "[61]\tvalidation_0-auc:0.64497\tvalidation_0-logloss:0.64514\tvalidation_0-error:0.34582\n",
      "[62]\tvalidation_0-auc:0.64557\tvalidation_0-logloss:0.64481\tvalidation_0-error:0.34582\n",
      "[63]\tvalidation_0-auc:0.64554\tvalidation_0-logloss:0.64454\tvalidation_0-error:0.34547\n",
      "[64]\tvalidation_0-auc:0.64550\tvalidation_0-logloss:0.64423\tvalidation_0-error:0.34547\n",
      "[65]\tvalidation_0-auc:0.64561\tvalidation_0-logloss:0.64393\tvalidation_0-error:0.34547\n",
      "[66]\tvalidation_0-auc:0.64545\tvalidation_0-logloss:0.64368\tvalidation_0-error:0.34547\n",
      "[67]\tvalidation_0-auc:0.64554\tvalidation_0-logloss:0.64340\tvalidation_0-error:0.34547\n",
      "[68]\tvalidation_0-auc:0.64592\tvalidation_0-logloss:0.64312\tvalidation_0-error:0.34547\n",
      "[69]\tvalidation_0-auc:0.64607\tvalidation_0-logloss:0.64286\tvalidation_0-error:0.34547\n",
      "[70]\tvalidation_0-auc:0.64608\tvalidation_0-logloss:0.64262\tvalidation_0-error:0.34547\n",
      "[71]\tvalidation_0-auc:0.64602\tvalidation_0-logloss:0.64239\tvalidation_0-error:0.34547\n",
      "[72]\tvalidation_0-auc:0.64580\tvalidation_0-logloss:0.64217\tvalidation_0-error:0.34547\n",
      "[73]\tvalidation_0-auc:0.64564\tvalidation_0-logloss:0.64192\tvalidation_0-error:0.34547\n",
      "[74]\tvalidation_0-auc:0.64567\tvalidation_0-logloss:0.64170\tvalidation_0-error:0.34547\n",
      "[75]\tvalidation_0-auc:0.64591\tvalidation_0-logloss:0.64151\tvalidation_0-error:0.34547\n",
      "[76]\tvalidation_0-auc:0.64589\tvalidation_0-logloss:0.64134\tvalidation_0-error:0.34547\n",
      "[77]\tvalidation_0-auc:0.64606\tvalidation_0-logloss:0.64110\tvalidation_0-error:0.34547\n",
      "[78]\tvalidation_0-auc:0.64612\tvalidation_0-logloss:0.64089\tvalidation_0-error:0.34547\n",
      "[79]\tvalidation_0-auc:0.64624\tvalidation_0-logloss:0.64065\tvalidation_0-error:0.34547\n",
      "[80]\tvalidation_0-auc:0.64602\tvalidation_0-logloss:0.64050\tvalidation_0-error:0.34547\n",
      "[81]\tvalidation_0-auc:0.64603\tvalidation_0-logloss:0.64034\tvalidation_0-error:0.34547\n",
      "[82]\tvalidation_0-auc:0.64613\tvalidation_0-logloss:0.64014\tvalidation_0-error:0.34547\n",
      "[83]\tvalidation_0-auc:0.64585\tvalidation_0-logloss:0.64003\tvalidation_0-error:0.34582\n",
      "[84]\tvalidation_0-auc:0.64586\tvalidation_0-logloss:0.63985\tvalidation_0-error:0.34582\n",
      "[85]\tvalidation_0-auc:0.64610\tvalidation_0-logloss:0.63971\tvalidation_0-error:0.34582\n",
      "[86]\tvalidation_0-auc:0.64615\tvalidation_0-logloss:0.63958\tvalidation_0-error:0.34547\n",
      "[87]\tvalidation_0-auc:0.64648\tvalidation_0-logloss:0.63941\tvalidation_0-error:0.34547\n",
      "[88]\tvalidation_0-auc:0.64662\tvalidation_0-logloss:0.63922\tvalidation_0-error:0.34547\n",
      "[89]\tvalidation_0-auc:0.64650\tvalidation_0-logloss:0.63909\tvalidation_0-error:0.34582\n",
      "[90]\tvalidation_0-auc:0.64649\tvalidation_0-logloss:0.63892\tvalidation_0-error:0.34547\n",
      "[91]\tvalidation_0-auc:0.64632\tvalidation_0-logloss:0.63884\tvalidation_0-error:0.34617\n",
      "[92]\tvalidation_0-auc:0.64626\tvalidation_0-logloss:0.63869\tvalidation_0-error:0.34617\n",
      "[93]\tvalidation_0-auc:0.64611\tvalidation_0-logloss:0.63852\tvalidation_0-error:0.34617\n",
      "[94]\tvalidation_0-auc:0.64608\tvalidation_0-logloss:0.63838\tvalidation_0-error:0.34582\n",
      "[95]\tvalidation_0-auc:0.64660\tvalidation_0-logloss:0.63827\tvalidation_0-error:0.34617\n",
      "[96]\tvalidation_0-auc:0.64674\tvalidation_0-logloss:0.63816\tvalidation_0-error:0.34617\n",
      "[97]\tvalidation_0-auc:0.64678\tvalidation_0-logloss:0.63803\tvalidation_0-error:0.34617\n",
      "[98]\tvalidation_0-auc:0.64693\tvalidation_0-logloss:0.63792\tvalidation_0-error:0.34617\n",
      "[99]\tvalidation_0-auc:0.64718\tvalidation_0-logloss:0.63776\tvalidation_0-error:0.34617\n",
      "[100]\tvalidation_0-auc:0.64687\tvalidation_0-logloss:0.63769\tvalidation_0-error:0.34617\n",
      "[101]\tvalidation_0-auc:0.64708\tvalidation_0-logloss:0.63754\tvalidation_0-error:0.34617\n",
      "[102]\tvalidation_0-auc:0.64732\tvalidation_0-logloss:0.63739\tvalidation_0-error:0.34617\n",
      "[103]\tvalidation_0-auc:0.64737\tvalidation_0-logloss:0.63729\tvalidation_0-error:0.34617\n"
     ]
    },
    {
     "name": "stdout",
     "output_type": "stream",
     "text": [
      "[104]\tvalidation_0-auc:0.64753\tvalidation_0-logloss:0.63718\tvalidation_0-error:0.34651\n",
      "[105]\tvalidation_0-auc:0.64728\tvalidation_0-logloss:0.63711\tvalidation_0-error:0.34651\n",
      "[106]\tvalidation_0-auc:0.64719\tvalidation_0-logloss:0.63705\tvalidation_0-error:0.34651\n",
      "[107]\tvalidation_0-auc:0.64692\tvalidation_0-logloss:0.63694\tvalidation_0-error:0.34651\n",
      "[108]\tvalidation_0-auc:0.64692\tvalidation_0-logloss:0.63683\tvalidation_0-error:0.34651\n",
      "[109]\tvalidation_0-auc:0.64714\tvalidation_0-logloss:0.63674\tvalidation_0-error:0.34617\n",
      "[110]\tvalidation_0-auc:0.64715\tvalidation_0-logloss:0.63666\tvalidation_0-error:0.34617\n",
      "[111]\tvalidation_0-auc:0.64716\tvalidation_0-logloss:0.63659\tvalidation_0-error:0.34651\n",
      "[112]\tvalidation_0-auc:0.64726\tvalidation_0-logloss:0.63651\tvalidation_0-error:0.34617\n",
      "[113]\tvalidation_0-auc:0.64705\tvalidation_0-logloss:0.63643\tvalidation_0-error:0.34617\n",
      "[114]\tvalidation_0-auc:0.64689\tvalidation_0-logloss:0.63638\tvalidation_0-error:0.34617\n",
      "[115]\tvalidation_0-auc:0.64673\tvalidation_0-logloss:0.63633\tvalidation_0-error:0.34582\n",
      "[116]\tvalidation_0-auc:0.64692\tvalidation_0-logloss:0.63627\tvalidation_0-error:0.34582\n",
      "[117]\tvalidation_0-auc:0.64676\tvalidation_0-logloss:0.63623\tvalidation_0-error:0.34582\n",
      "[118]\tvalidation_0-auc:0.64633\tvalidation_0-logloss:0.63621\tvalidation_0-error:0.34582\n",
      "[119]\tvalidation_0-auc:0.64643\tvalidation_0-logloss:0.63614\tvalidation_0-error:0.34582\n",
      "[120]\tvalidation_0-auc:0.64642\tvalidation_0-logloss:0.63609\tvalidation_0-error:0.34582\n",
      "[121]\tvalidation_0-auc:0.64657\tvalidation_0-logloss:0.63602\tvalidation_0-error:0.34582\n",
      "[122]\tvalidation_0-auc:0.64673\tvalidation_0-logloss:0.63596\tvalidation_0-error:0.34582\n",
      "[123]\tvalidation_0-auc:0.64705\tvalidation_0-logloss:0.63584\tvalidation_0-error:0.34582\n",
      "[124]\tvalidation_0-auc:0.64704\tvalidation_0-logloss:0.63577\tvalidation_0-error:0.34582\n",
      "[125]\tvalidation_0-auc:0.64710\tvalidation_0-logloss:0.63573\tvalidation_0-error:0.34582\n",
      "[126]\tvalidation_0-auc:0.64683\tvalidation_0-logloss:0.63574\tvalidation_0-error:0.34617\n",
      "[127]\tvalidation_0-auc:0.64697\tvalidation_0-logloss:0.63565\tvalidation_0-error:0.34617\n",
      "[128]\tvalidation_0-auc:0.64694\tvalidation_0-logloss:0.63561\tvalidation_0-error:0.34617\n",
      "[129]\tvalidation_0-auc:0.64684\tvalidation_0-logloss:0.63558\tvalidation_0-error:0.34582\n",
      "[130]\tvalidation_0-auc:0.64677\tvalidation_0-logloss:0.63556\tvalidation_0-error:0.34617\n",
      "[131]\tvalidation_0-auc:0.64656\tvalidation_0-logloss:0.63554\tvalidation_0-error:0.34582\n",
      "[132]\tvalidation_0-auc:0.64660\tvalidation_0-logloss:0.63550\tvalidation_0-error:0.34582\n",
      "[133]\tvalidation_0-auc:0.64641\tvalidation_0-logloss:0.63549\tvalidation_0-error:0.34582\n",
      "[134]\tvalidation_0-auc:0.64646\tvalidation_0-logloss:0.63542\tvalidation_0-error:0.34582\n",
      "[135]\tvalidation_0-auc:0.64631\tvalidation_0-logloss:0.63540\tvalidation_0-error:0.34582\n",
      "[136]\tvalidation_0-auc:0.64630\tvalidation_0-logloss:0.63533\tvalidation_0-error:0.34582\n",
      "[137]\tvalidation_0-auc:0.64643\tvalidation_0-logloss:0.63528\tvalidation_0-error:0.34582\n",
      "[138]\tvalidation_0-auc:0.64636\tvalidation_0-logloss:0.63524\tvalidation_0-error:0.34582\n",
      "[139]\tvalidation_0-auc:0.64636\tvalidation_0-logloss:0.63520\tvalidation_0-error:0.34582\n",
      "[140]\tvalidation_0-auc:0.64643\tvalidation_0-logloss:0.63509\tvalidation_0-error:0.34582\n",
      "[141]\tvalidation_0-auc:0.64671\tvalidation_0-logloss:0.63501\tvalidation_0-error:0.34582\n",
      "[142]\tvalidation_0-auc:0.64688\tvalidation_0-logloss:0.63496\tvalidation_0-error:0.34582\n",
      "[143]\tvalidation_0-auc:0.64680\tvalidation_0-logloss:0.63492\tvalidation_0-error:0.34547\n",
      "[144]\tvalidation_0-auc:0.64688\tvalidation_0-logloss:0.63489\tvalidation_0-error:0.34547\n",
      "[145]\tvalidation_0-auc:0.64691\tvalidation_0-logloss:0.63484\tvalidation_0-error:0.34547\n",
      "[146]\tvalidation_0-auc:0.64682\tvalidation_0-logloss:0.63482\tvalidation_0-error:0.34547\n",
      "[147]\tvalidation_0-auc:0.64719\tvalidation_0-logloss:0.63475\tvalidation_0-error:0.34547\n",
      "[148]\tvalidation_0-auc:0.64724\tvalidation_0-logloss:0.63470\tvalidation_0-error:0.34547\n",
      "[149]\tvalidation_0-auc:0.64736\tvalidation_0-logloss:0.63468\tvalidation_0-error:0.34547\n"
     ]
    },
    {
     "data": {
      "text/plain": [
       "XGBClassifier(base_score=0.5, booster='gbtree', colsample_bylevel=1,\n",
       "              colsample_bynode=1, colsample_bytree=0.65,\n",
       "              enable_categorical=False, eta=0.015,\n",
       "              eval_metric=['auc', 'logloss', 'error'], gamma=1.25, gpu_id=-1,\n",
       "              importance_type=None, interaction_constraints='',\n",
       "              learning_rate=0.0149999997, max_delta_step=0, max_depth=6,\n",
       "              min_child_weight=30, missing=nan, monotone_constraints='()',\n",
       "              n_estimators=150, n_jobs=12, num_parallel_tree=1,\n",
       "              predictor='auto', random_state=123, reg_alpha=0, reg_lambda=1,\n",
       "              scale_pos_weight=1, subsample=1, tree_method='exact',\n",
       "              validate_parameters=1, verbosity=None)"
      ]
     },
     "execution_count": 565,
     "metadata": {},
     "output_type": "execute_result"
    }
   ],
   "source": [
    "model1 = xgb.XGBClassifier(objective='binary:logistic', n_estimators=150, max_depth=6, gamma=1.25, eta=0.015,\n",
    "                          min_child_weight=30, colsample_bytree=0.65, \n",
    "                          random_state=123, eval_metric=[\"auc\", \"logloss\", \"error\"])\n",
    "model1.fit(X_train, y_train, eval_set=[(X_test, y_test)])"
   ]
  },
  {
   "cell_type": "code",
   "execution_count": 566,
   "id": "4f3c1421",
   "metadata": {},
   "outputs": [
    {
     "name": "stdout",
     "output_type": "stream",
     "text": [
      "[0]\tvalidation_0-auc:0.61635\tvalidation_0-logloss:0.69180\tvalidation_0-error:0.34859\n",
      "[1]\tvalidation_0-auc:0.62224\tvalidation_0-logloss:0.69045\tvalidation_0-error:0.34929\n",
      "[2]\tvalidation_0-auc:0.62792\tvalidation_0-logloss:0.68908\tvalidation_0-error:0.34859\n",
      "[3]\tvalidation_0-auc:0.63343\tvalidation_0-logloss:0.68771\tvalidation_0-error:0.34859\n",
      "[4]\tvalidation_0-auc:0.63408\tvalidation_0-logloss:0.68639\tvalidation_0-error:0.34859\n",
      "[5]\tvalidation_0-auc:0.63713\tvalidation_0-logloss:0.68510\tvalidation_0-error:0.34964\n",
      "[6]\tvalidation_0-auc:0.63558\tvalidation_0-logloss:0.68394\tvalidation_0-error:0.34929\n",
      "[7]\tvalidation_0-auc:0.63594\tvalidation_0-logloss:0.68267\tvalidation_0-error:0.34998\n",
      "[8]\tvalidation_0-auc:0.63574\tvalidation_0-logloss:0.68156\tvalidation_0-error:0.34998\n",
      "[9]\tvalidation_0-auc:0.63665\tvalidation_0-logloss:0.68040\tvalidation_0-error:0.34998\n",
      "[10]\tvalidation_0-auc:0.63740\tvalidation_0-logloss:0.67928\tvalidation_0-error:0.34964\n",
      "[11]\tvalidation_0-auc:0.63721\tvalidation_0-logloss:0.67828\tvalidation_0-error:0.34998\n",
      "[12]\tvalidation_0-auc:0.63798\tvalidation_0-logloss:0.67717\tvalidation_0-error:0.34964\n",
      "[13]\tvalidation_0-auc:0.63911\tvalidation_0-logloss:0.67627\tvalidation_0-error:0.34894\n",
      "[14]\tvalidation_0-auc:0.63972\tvalidation_0-logloss:0.67527\tvalidation_0-error:0.34859\n",
      "[15]\tvalidation_0-auc:0.64137\tvalidation_0-logloss:0.67431\tvalidation_0-error:0.34825\n",
      "[16]\tvalidation_0-auc:0.64182\tvalidation_0-logloss:0.67339\tvalidation_0-error:0.34894\n",
      "[17]\tvalidation_0-auc:0.64207\tvalidation_0-logloss:0.67255\tvalidation_0-error:0.34894\n",
      "[18]\tvalidation_0-auc:0.64216\tvalidation_0-logloss:0.67175\tvalidation_0-error:0.34894\n",
      "[19]\tvalidation_0-auc:0.64311\tvalidation_0-logloss:0.67087\tvalidation_0-error:0.34894\n",
      "[20]\tvalidation_0-auc:0.64358\tvalidation_0-logloss:0.67008\tvalidation_0-error:0.34894\n",
      "[21]\tvalidation_0-auc:0.64411\tvalidation_0-logloss:0.66924\tvalidation_0-error:0.34859\n",
      "[22]\tvalidation_0-auc:0.64437\tvalidation_0-logloss:0.66852\tvalidation_0-error:0.34859\n",
      "[23]\tvalidation_0-auc:0.64399\tvalidation_0-logloss:0.66772\tvalidation_0-error:0.34894\n",
      "[24]\tvalidation_0-auc:0.64377\tvalidation_0-logloss:0.66698\tvalidation_0-error:0.34894\n",
      "[25]\tvalidation_0-auc:0.64328\tvalidation_0-logloss:0.66627\tvalidation_0-error:0.34929\n",
      "[26]\tvalidation_0-auc:0.64396\tvalidation_0-logloss:0.66550\tvalidation_0-error:0.34859\n",
      "[27]\tvalidation_0-auc:0.64422\tvalidation_0-logloss:0.66483\tvalidation_0-error:0.34859\n",
      "[28]\tvalidation_0-auc:0.64419\tvalidation_0-logloss:0.66416\tvalidation_0-error:0.34859\n",
      "[29]\tvalidation_0-auc:0.64458\tvalidation_0-logloss:0.66351\tvalidation_0-error:0.34825\n",
      "[30]\tvalidation_0-auc:0.64471\tvalidation_0-logloss:0.66282\tvalidation_0-error:0.34790\n",
      "[31]\tvalidation_0-auc:0.64426\tvalidation_0-logloss:0.66225\tvalidation_0-error:0.34790\n",
      "[32]\tvalidation_0-auc:0.64422\tvalidation_0-logloss:0.66166\tvalidation_0-error:0.34825\n",
      "[33]\tvalidation_0-auc:0.64411\tvalidation_0-logloss:0.66117\tvalidation_0-error:0.34825\n",
      "[34]\tvalidation_0-auc:0.64418\tvalidation_0-logloss:0.66056\tvalidation_0-error:0.34790\n",
      "[35]\tvalidation_0-auc:0.64418\tvalidation_0-logloss:0.66003\tvalidation_0-error:0.34756\n",
      "[36]\tvalidation_0-auc:0.64401\tvalidation_0-logloss:0.65949\tvalidation_0-error:0.34756\n",
      "[37]\tvalidation_0-auc:0.64409\tvalidation_0-logloss:0.65898\tvalidation_0-error:0.34756\n",
      "[38]\tvalidation_0-auc:0.64424\tvalidation_0-logloss:0.65845\tvalidation_0-error:0.34790\n",
      "[39]\tvalidation_0-auc:0.64472\tvalidation_0-logloss:0.65797\tvalidation_0-error:0.34790\n",
      "[40]\tvalidation_0-auc:0.64482\tvalidation_0-logloss:0.65750\tvalidation_0-error:0.34790\n",
      "[41]\tvalidation_0-auc:0.64524\tvalidation_0-logloss:0.65701\tvalidation_0-error:0.34825\n",
      "[42]\tvalidation_0-auc:0.64525\tvalidation_0-logloss:0.65655\tvalidation_0-error:0.34790\n",
      "[43]\tvalidation_0-auc:0.64501\tvalidation_0-logloss:0.65611\tvalidation_0-error:0.34790\n",
      "[44]\tvalidation_0-auc:0.64477\tvalidation_0-logloss:0.65568\tvalidation_0-error:0.34790\n",
      "[45]\tvalidation_0-auc:0.64518\tvalidation_0-logloss:0.65519\tvalidation_0-error:0.34825\n",
      "[46]\tvalidation_0-auc:0.64523\tvalidation_0-logloss:0.65469\tvalidation_0-error:0.34859\n",
      "[47]\tvalidation_0-auc:0.64504\tvalidation_0-logloss:0.65422\tvalidation_0-error:0.34825\n",
      "[48]\tvalidation_0-auc:0.64506\tvalidation_0-logloss:0.65376\tvalidation_0-error:0.34859\n",
      "[49]\tvalidation_0-auc:0.64519\tvalidation_0-logloss:0.65337\tvalidation_0-error:0.34859\n",
      "[50]\tvalidation_0-auc:0.64543\tvalidation_0-logloss:0.65297\tvalidation_0-error:0.34859\n",
      "[51]\tvalidation_0-auc:0.64564\tvalidation_0-logloss:0.65257\tvalidation_0-error:0.34859\n",
      "[52]\tvalidation_0-auc:0.64587\tvalidation_0-logloss:0.65221\tvalidation_0-error:0.34859\n",
      "[53]\tvalidation_0-auc:0.64561\tvalidation_0-logloss:0.65184\tvalidation_0-error:0.34859\n",
      "[54]\tvalidation_0-auc:0.64539\tvalidation_0-logloss:0.65149\tvalidation_0-error:0.34859\n",
      "[55]\tvalidation_0-auc:0.64516\tvalidation_0-logloss:0.65110\tvalidation_0-error:0.34859\n",
      "[56]\tvalidation_0-auc:0.64534\tvalidation_0-logloss:0.65073\tvalidation_0-error:0.34825\n",
      "[57]\tvalidation_0-auc:0.64547\tvalidation_0-logloss:0.65036\tvalidation_0-error:0.34825\n",
      "[58]\tvalidation_0-auc:0.64540\tvalidation_0-logloss:0.65002\tvalidation_0-error:0.34790\n",
      "[59]\tvalidation_0-auc:0.64582\tvalidation_0-logloss:0.64967\tvalidation_0-error:0.34790\n",
      "[60]\tvalidation_0-auc:0.64592\tvalidation_0-logloss:0.64932\tvalidation_0-error:0.34790\n",
      "[61]\tvalidation_0-auc:0.64632\tvalidation_0-logloss:0.64893\tvalidation_0-error:0.34790\n",
      "[62]\tvalidation_0-auc:0.64621\tvalidation_0-logloss:0.64864\tvalidation_0-error:0.34790\n",
      "[63]\tvalidation_0-auc:0.64612\tvalidation_0-logloss:0.64833\tvalidation_0-error:0.34756\n",
      "[64]\tvalidation_0-auc:0.64636\tvalidation_0-logloss:0.64800\tvalidation_0-error:0.34756\n",
      "[65]\tvalidation_0-auc:0.64611\tvalidation_0-logloss:0.64769\tvalidation_0-error:0.34756\n",
      "[66]\tvalidation_0-auc:0.64609\tvalidation_0-logloss:0.64744\tvalidation_0-error:0.34756\n",
      "[67]\tvalidation_0-auc:0.64625\tvalidation_0-logloss:0.64712\tvalidation_0-error:0.34756\n",
      "[68]\tvalidation_0-auc:0.64639\tvalidation_0-logloss:0.64684\tvalidation_0-error:0.34756\n",
      "[69]\tvalidation_0-auc:0.64662\tvalidation_0-logloss:0.64653\tvalidation_0-error:0.34790\n",
      "[70]\tvalidation_0-auc:0.64631\tvalidation_0-logloss:0.64623\tvalidation_0-error:0.34825\n",
      "[71]\tvalidation_0-auc:0.64637\tvalidation_0-logloss:0.64596\tvalidation_0-error:0.34825\n",
      "[72]\tvalidation_0-auc:0.64651\tvalidation_0-logloss:0.64570\tvalidation_0-error:0.34825\n",
      "[73]\tvalidation_0-auc:0.64629\tvalidation_0-logloss:0.64542\tvalidation_0-error:0.34825\n",
      "[74]\tvalidation_0-auc:0.64634\tvalidation_0-logloss:0.64517\tvalidation_0-error:0.34790\n",
      "[75]\tvalidation_0-auc:0.64671\tvalidation_0-logloss:0.64497\tvalidation_0-error:0.34825\n",
      "[76]\tvalidation_0-auc:0.64642\tvalidation_0-logloss:0.64480\tvalidation_0-error:0.34825\n",
      "[77]\tvalidation_0-auc:0.64651\tvalidation_0-logloss:0.64454\tvalidation_0-error:0.34790\n",
      "[78]\tvalidation_0-auc:0.64643\tvalidation_0-logloss:0.64431\tvalidation_0-error:0.34825\n",
      "[79]\tvalidation_0-auc:0.64657\tvalidation_0-logloss:0.64401\tvalidation_0-error:0.34790\n",
      "[80]\tvalidation_0-auc:0.64633\tvalidation_0-logloss:0.64382\tvalidation_0-error:0.34790\n",
      "[81]\tvalidation_0-auc:0.64634\tvalidation_0-logloss:0.64364\tvalidation_0-error:0.34790\n",
      "[82]\tvalidation_0-auc:0.64648\tvalidation_0-logloss:0.64340\tvalidation_0-error:0.34790\n",
      "[83]\tvalidation_0-auc:0.64623\tvalidation_0-logloss:0.64325\tvalidation_0-error:0.34721\n",
      "[84]\tvalidation_0-auc:0.64614\tvalidation_0-logloss:0.64304\tvalidation_0-error:0.34721\n",
      "[85]\tvalidation_0-auc:0.64648\tvalidation_0-logloss:0.64288\tvalidation_0-error:0.34686\n",
      "[86]\tvalidation_0-auc:0.64639\tvalidation_0-logloss:0.64271\tvalidation_0-error:0.34790\n",
      "[87]\tvalidation_0-auc:0.64628\tvalidation_0-logloss:0.64254\tvalidation_0-error:0.34721\n",
      "[88]\tvalidation_0-auc:0.64620\tvalidation_0-logloss:0.64232\tvalidation_0-error:0.34756\n",
      "[89]\tvalidation_0-auc:0.64640\tvalidation_0-logloss:0.64213\tvalidation_0-error:0.34617\n",
      "[90]\tvalidation_0-auc:0.64651\tvalidation_0-logloss:0.64192\tvalidation_0-error:0.34651\n",
      "[91]\tvalidation_0-auc:0.64647\tvalidation_0-logloss:0.64182\tvalidation_0-error:0.34686\n",
      "[92]\tvalidation_0-auc:0.64633\tvalidation_0-logloss:0.64164\tvalidation_0-error:0.34651\n",
      "[93]\tvalidation_0-auc:0.64616\tvalidation_0-logloss:0.64145\tvalidation_0-error:0.34651\n",
      "[94]\tvalidation_0-auc:0.64613\tvalidation_0-logloss:0.64129\tvalidation_0-error:0.34651\n",
      "[95]\tvalidation_0-auc:0.64646\tvalidation_0-logloss:0.64115\tvalidation_0-error:0.34617\n"
     ]
    },
    {
     "name": "stdout",
     "output_type": "stream",
     "text": [
      "[96]\tvalidation_0-auc:0.64641\tvalidation_0-logloss:0.64104\tvalidation_0-error:0.34651\n",
      "[97]\tvalidation_0-auc:0.64653\tvalidation_0-logloss:0.64087\tvalidation_0-error:0.34686\n",
      "[98]\tvalidation_0-auc:0.64660\tvalidation_0-logloss:0.64073\tvalidation_0-error:0.34686\n",
      "[99]\tvalidation_0-auc:0.64686\tvalidation_0-logloss:0.64054\tvalidation_0-error:0.34721\n",
      "[100]\tvalidation_0-auc:0.64649\tvalidation_0-logloss:0.64044\tvalidation_0-error:0.34721\n",
      "[101]\tvalidation_0-auc:0.64670\tvalidation_0-logloss:0.64025\tvalidation_0-error:0.34721\n",
      "[102]\tvalidation_0-auc:0.64685\tvalidation_0-logloss:0.64006\tvalidation_0-error:0.34721\n",
      "[103]\tvalidation_0-auc:0.64682\tvalidation_0-logloss:0.63994\tvalidation_0-error:0.34790\n",
      "[104]\tvalidation_0-auc:0.64688\tvalidation_0-logloss:0.63979\tvalidation_0-error:0.34686\n",
      "[105]\tvalidation_0-auc:0.64690\tvalidation_0-logloss:0.63969\tvalidation_0-error:0.34756\n",
      "[106]\tvalidation_0-auc:0.64685\tvalidation_0-logloss:0.63958\tvalidation_0-error:0.34686\n",
      "[107]\tvalidation_0-auc:0.64696\tvalidation_0-logloss:0.63948\tvalidation_0-error:0.34686\n",
      "[108]\tvalidation_0-auc:0.64702\tvalidation_0-logloss:0.63933\tvalidation_0-error:0.34721\n",
      "[109]\tvalidation_0-auc:0.64726\tvalidation_0-logloss:0.63918\tvalidation_0-error:0.34756\n",
      "[110]\tvalidation_0-auc:0.64749\tvalidation_0-logloss:0.63908\tvalidation_0-error:0.34721\n",
      "[111]\tvalidation_0-auc:0.64755\tvalidation_0-logloss:0.63894\tvalidation_0-error:0.34721\n",
      "[112]\tvalidation_0-auc:0.64763\tvalidation_0-logloss:0.63885\tvalidation_0-error:0.34651\n",
      "[113]\tvalidation_0-auc:0.64785\tvalidation_0-logloss:0.63872\tvalidation_0-error:0.34686\n",
      "[114]\tvalidation_0-auc:0.64794\tvalidation_0-logloss:0.63862\tvalidation_0-error:0.34686\n",
      "[115]\tvalidation_0-auc:0.64785\tvalidation_0-logloss:0.63849\tvalidation_0-error:0.34721\n",
      "[116]\tvalidation_0-auc:0.64792\tvalidation_0-logloss:0.63842\tvalidation_0-error:0.34686\n",
      "[117]\tvalidation_0-auc:0.64803\tvalidation_0-logloss:0.63835\tvalidation_0-error:0.34617\n",
      "[118]\tvalidation_0-auc:0.64791\tvalidation_0-logloss:0.63823\tvalidation_0-error:0.34651\n",
      "[119]\tvalidation_0-auc:0.64794\tvalidation_0-logloss:0.63814\tvalidation_0-error:0.34721\n",
      "[120]\tvalidation_0-auc:0.64765\tvalidation_0-logloss:0.63809\tvalidation_0-error:0.34686\n",
      "[121]\tvalidation_0-auc:0.64783\tvalidation_0-logloss:0.63798\tvalidation_0-error:0.34582\n",
      "[122]\tvalidation_0-auc:0.64814\tvalidation_0-logloss:0.63784\tvalidation_0-error:0.34651\n",
      "[123]\tvalidation_0-auc:0.64828\tvalidation_0-logloss:0.63769\tvalidation_0-error:0.34721\n",
      "[124]\tvalidation_0-auc:0.64852\tvalidation_0-logloss:0.63754\tvalidation_0-error:0.34686\n",
      "[125]\tvalidation_0-auc:0.64840\tvalidation_0-logloss:0.63746\tvalidation_0-error:0.34721\n",
      "[126]\tvalidation_0-auc:0.64828\tvalidation_0-logloss:0.63743\tvalidation_0-error:0.34721\n",
      "[127]\tvalidation_0-auc:0.64843\tvalidation_0-logloss:0.63731\tvalidation_0-error:0.34721\n",
      "[128]\tvalidation_0-auc:0.64827\tvalidation_0-logloss:0.63724\tvalidation_0-error:0.34686\n",
      "[129]\tvalidation_0-auc:0.64820\tvalidation_0-logloss:0.63718\tvalidation_0-error:0.34651\n",
      "[130]\tvalidation_0-auc:0.64811\tvalidation_0-logloss:0.63711\tvalidation_0-error:0.34686\n",
      "[131]\tvalidation_0-auc:0.64813\tvalidation_0-logloss:0.63703\tvalidation_0-error:0.34651\n",
      "[132]\tvalidation_0-auc:0.64812\tvalidation_0-logloss:0.63699\tvalidation_0-error:0.34721\n",
      "[133]\tvalidation_0-auc:0.64820\tvalidation_0-logloss:0.63693\tvalidation_0-error:0.34651\n",
      "[134]\tvalidation_0-auc:0.64816\tvalidation_0-logloss:0.63684\tvalidation_0-error:0.34686\n",
      "[135]\tvalidation_0-auc:0.64825\tvalidation_0-logloss:0.63676\tvalidation_0-error:0.34686\n",
      "[136]\tvalidation_0-auc:0.64831\tvalidation_0-logloss:0.63665\tvalidation_0-error:0.34686\n",
      "[137]\tvalidation_0-auc:0.64838\tvalidation_0-logloss:0.63655\tvalidation_0-error:0.34651\n",
      "[138]\tvalidation_0-auc:0.64824\tvalidation_0-logloss:0.63652\tvalidation_0-error:0.34651\n",
      "[139]\tvalidation_0-auc:0.64841\tvalidation_0-logloss:0.63642\tvalidation_0-error:0.34651\n",
      "[140]\tvalidation_0-auc:0.64870\tvalidation_0-logloss:0.63631\tvalidation_0-error:0.34721\n",
      "[141]\tvalidation_0-auc:0.64875\tvalidation_0-logloss:0.63622\tvalidation_0-error:0.34686\n",
      "[142]\tvalidation_0-auc:0.64889\tvalidation_0-logloss:0.63613\tvalidation_0-error:0.34686\n",
      "[143]\tvalidation_0-auc:0.64882\tvalidation_0-logloss:0.63610\tvalidation_0-error:0.34721\n",
      "[144]\tvalidation_0-auc:0.64882\tvalidation_0-logloss:0.63606\tvalidation_0-error:0.34686\n",
      "[145]\tvalidation_0-auc:0.64865\tvalidation_0-logloss:0.63608\tvalidation_0-error:0.34582\n",
      "[146]\tvalidation_0-auc:0.64867\tvalidation_0-logloss:0.63605\tvalidation_0-error:0.34582\n",
      "[147]\tvalidation_0-auc:0.64889\tvalidation_0-logloss:0.63595\tvalidation_0-error:0.34617\n",
      "[148]\tvalidation_0-auc:0.64892\tvalidation_0-logloss:0.63591\tvalidation_0-error:0.34582\n",
      "[149]\tvalidation_0-auc:0.64872\tvalidation_0-logloss:0.63589\tvalidation_0-error:0.34513\n"
     ]
    },
    {
     "data": {
      "text/plain": [
       "XGBClassifier(base_score=0.5, booster='gbtree', colsample_bylevel=1,\n",
       "              colsample_bynode=1, colsample_bytree=0.65,\n",
       "              enable_categorical=False, eta=0.015,\n",
       "              eval_metric=['auc', 'logloss', 'error'], gamma=1.25, gpu_id=-1,\n",
       "              importance_type=None, interaction_constraints='',\n",
       "              learning_rate=0.0149999997, max_delta_step=0, max_depth=6,\n",
       "              min_child_weight=30, missing=nan, monotone_constraints='()',\n",
       "              n_estimators=150, n_jobs=12, num_parallel_tree=1,\n",
       "              predictor='auto', random_state=123, reg_alpha=0, reg_lambda=1,\n",
       "              scale_pos_weight=0.8, subsample=1, tree_method='exact',\n",
       "              validate_parameters=1, verbosity=None)"
      ]
     },
     "execution_count": 566,
     "metadata": {},
     "output_type": "execute_result"
    }
   ],
   "source": [
    "model2 = xgb.XGBClassifier(objective='binary:logistic', n_estimators=150, max_depth=6, gamma=1.25, eta=0.015,\n",
    "                          min_child_weight=30, colsample_bytree=0.65, scale_pos_weight=0.8,\n",
    "                          random_state=123, eval_metric=[\"auc\", \"logloss\", \"error\"])\n",
    "model2.fit(X_train, y_train, eval_set=[(X_test, y_test)])"
   ]
  },
  {
   "cell_type": "code",
   "execution_count": 567,
   "id": "fd60cb85",
   "metadata": {},
   "outputs": [
    {
     "data": {
      "text/plain": [
       "<AxesSubplot:>"
      ]
     },
     "execution_count": 567,
     "metadata": {},
     "output_type": "execute_result"
    },
    {
     "data": {
      "image/png": "[encoded data removed]",
      "text/plain": [
       "<Figure size 432x288 with 1 Axes>"
      ]
     },
     "metadata": {
      "needs_background": "light"
     },
     "output_type": "display_data"
    }
   ],
   "source": [
    "fu_dict = dict(zip(X_train.columns, model1.feature_importances_))\n",
    "fi = pd.DataFrame(fu_dict.values(), index=fu_dict.keys(), columns=[\"importance\"])\n",
    "fi = fi.sort_values(by=\"importance\", ascending=False)\n",
    "fi = fi[fi.importance > 0.01]\n",
    "\n",
    "fi.plot.bar()"
   ]
  },
  {
   "cell_type": "code",
   "execution_count": 134,
   "id": "b08d57a7",
   "metadata": {},
   "outputs": [],
   "source": [
    "fi.to_csv(\"feature_importance.csv\")"
   ]
  },
  {
   "cell_type": "code",
   "execution_count": 568,
   "id": "ff8a7a70",
   "metadata": {},
   "outputs": [
    {
     "data": {
      "text/plain": [
       "array([[ 322,  898],\n",
       "       [  98, 1565]])"
      ]
     },
     "execution_count": 568,
     "metadata": {},
     "output_type": "execute_result"
    }
   ],
   "source": [
    "y_pred1 = model1.predict(X_test)\n",
    "confusion_matrix(y_test, y_pred1)"
   ]
  },
  {
   "cell_type": "code",
   "execution_count": 569,
   "id": "2d85978f",
   "metadata": {},
   "outputs": [
    {
     "data": {
      "text/plain": [
       "array([[ 352,  868],\n",
       "       [ 127, 1536]])"
      ]
     },
     "execution_count": 569,
     "metadata": {},
     "output_type": "execute_result"
    }
   ],
   "source": [
    "y_pred2 = model2.predict(X_test)\n",
    "confusion_matrix(y_test, y_pred2)"
   ]
  },
  {
   "cell_type": "code",
   "execution_count": 584,
   "id": "55f7e0eb",
   "metadata": {},
   "outputs": [],
   "source": [
    "y_pred_proba = model1.predict_proba(X_test)[:,1]\n",
    "predict_mine = np.where(y_pred_proba > 0.657, 1, 0)\n",
    "cm1 = confusion_matrix(y_test, predict_mine)"
   ]
  },
  {
   "cell_type": "code",
   "execution_count": 585,
   "id": "83ea3557",
   "metadata": {},
   "outputs": [],
   "source": [
    "y_pred_proba = model2.predict_proba(X_test)[:,1]\n",
    "predict_mine = np.where(y_pred_proba > 0.62, 1, 0)\n",
    "cm2 = confusion_matrix(y_test, predict_mine)"
   ]
  },
  {
   "cell_type": "code",
   "execution_count": 586,
   "id": "2a080435",
   "metadata": {},
   "outputs": [
    {
     "data": {
      "text/plain": [
       "(0.6545265348595213, 0.654873395768297)"
      ]
     },
     "execution_count": 586,
     "metadata": {},
     "output_type": "execute_result"
    }
   ],
   "source": [
    "metrics.accuracy_score(y_test, y_pred1), metrics.accuracy_score(y_test, y_pred2)"
   ]
  },
  {
   "cell_type": "code",
   "execution_count": 587,
   "id": "2a85372f",
   "metadata": {},
   "outputs": [
    {
     "data": {
      "text/plain": [
       "(0.7032332563510393, 0.7065527065527065)"
      ]
     },
     "execution_count": 587,
     "metadata": {},
     "output_type": "execute_result"
    }
   ],
   "source": [
    "cm1[1][1]/(cm1[1][1]+cm1[0][1]), cm2[1][1]/(cm2[1][1]+cm2[0][1])"
   ]
  },
  {
   "cell_type": "code",
   "execution_count": 588,
   "id": "b16d9568",
   "metadata": {},
   "outputs": [
    {
     "data": {
      "text/plain": [
       "(50.05780346820809, 40.578034682080926)"
      ]
     },
     "execution_count": 588,
     "metadata": {},
     "output_type": "execute_result"
    }
   ],
   "source": [
    "(cm1[1][1]+cm1[0][1])/len(y_validation)*100, (cm2[1][1]+cm2[0][1])/len(y_validation)*100"
   ]
  },
  {
   "cell_type": "markdown",
   "id": "bd2cf07a",
   "metadata": {},
   "source": [
    "# VALIDATION - BEST MODEL --> 70% accuracy in 17% of matches"
   ]
  },
  {
   "cell_type": "code",
   "execution_count": 578,
   "id": "31566b6c",
   "metadata": {},
   "outputs": [
    {
     "data": {
      "text/plain": [
       "array([[190, 555],\n",
       "       [ 56, 929]])"
      ]
     },
     "execution_count": 578,
     "metadata": {},
     "output_type": "execute_result"
    }
   ],
   "source": [
    "y_pred = model1.predict(X_validation)\n",
    "confusion_matrix(y_validation, y_pred)"
   ]
  },
  {
   "cell_type": "code",
   "execution_count": 579,
   "id": "960fa297",
   "metadata": {},
   "outputs": [
    {
     "data": {
      "text/plain": [
       "0.6468208092485549"
      ]
     },
     "execution_count": 579,
     "metadata": {},
     "output_type": "execute_result"
    }
   ],
   "source": [
    "metrics.accuracy_score(y_validation, y_pred)"
   ]
  },
  {
   "cell_type": "code",
   "execution_count": 580,
   "id": "e849fc15",
   "metadata": {},
   "outputs": [],
   "source": [
    "y_pred_proba = model1.predict_proba(X_validation)[:,1]\n",
    "predict_mine = np.where(y_pred_proba > 0.665, 1, 0)\n",
    "cm1 = confusion_matrix(y_validation, predict_mine)"
   ]
  },
  {
   "cell_type": "code",
   "execution_count": 581,
   "id": "9fe60820",
   "metadata": {},
   "outputs": [],
   "source": [
    "y_pred_proba = model2.predict_proba(X_validation)[:,1]\n",
    "predict_mine = np.where(y_pred_proba > 0.62, 1, 0)\n",
    "cm2=confusion_matrix(y_validation, predict_mine)"
   ]
  },
  {
   "cell_type": "code",
   "execution_count": 582,
   "id": "76b6feb6",
   "metadata": {},
   "outputs": [
    {
     "data": {
      "text/plain": [
       "(0.7003367003367004, 0.6895424836601307)"
      ]
     },
     "execution_count": 582,
     "metadata": {},
     "output_type": "execute_result"
    }
   ],
   "source": [
    "cm1[1][1]/(cm1[1][1]+cm1[0][1]), cm2[1][1]/(cm2[1][1]+cm2[0][1])"
   ]
  },
  {
   "cell_type": "code",
   "execution_count": 583,
   "id": "3d7ddf60",
   "metadata": {},
   "outputs": [
    {
     "data": {
      "text/plain": [
       "(17.167630057803468, 17.6878612716763)"
      ]
     },
     "execution_count": 583,
     "metadata": {},
     "output_type": "execute_result"
    }
   ],
   "source": [
    "(cm1[1][1]+cm1[0][1])/len(y_validation)*100, (cm2[1][1]+cm2[0][1])/len(y_validation)*100"
   ]
  },
  {
   "cell_type": "code",
   "execution_count": null,
   "id": "321b157b",
   "metadata": {},
   "outputs": [],
   "source": []
  }
 ],
 "metadata": {
  "kernelspec": {
   "display_name": "Python 3 (ipykernel)",
   "language": "python",
   "name": "python3"
  },
  "language_info": {
   "codemirror_mode": {
    "name": "ipython",
    "version": 3
   },
   "file_extension": ".py",
   "mimetype": "text/x-python",
   "name": "python",
   "nbconvert_exporter": "python",
   "pygments_lexer": "ipython3",
   "version": "3.7.11"
  }
 },
 "nbformat": 4,
 "nbformat_minor": 5
}
