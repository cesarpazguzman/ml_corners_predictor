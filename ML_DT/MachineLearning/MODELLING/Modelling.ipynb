{
 "cells": [
  {
   "cell_type": "code",
   "execution_count": 21,
   "id": "0705929c",
   "metadata": {},
   "outputs": [],
   "source": [
    "import pymysql\n",
    "from sklearn.ensemble import RandomForestClassifier\n",
    "from sqlalchemy import create_engine\n",
    "import pandas as pd\n",
    "import matplotlib.pyplot as plt\n",
    "%matplotlib inline\n",
    "import numpy as np\n",
    "from pandasql import sqldf\n",
    "from sklearn import metrics\n",
    "\n",
    "import xgboost as xgb\n",
    "from sklearn.metrics import accuracy_score, confusion_matrix"
   ]
  },
  {
   "cell_type": "code",
   "execution_count": 124,
   "id": "8c9eb2dc",
   "metadata": {},
   "outputs": [],
   "source": [
    "data = pd.read_csv(\"../FEATURE_ENGINEER/tablon3.csv\")\n",
    "\n",
    "tablon = data[data.YEARMONTH<202111][[\"AVG_CORNERSHOMED1_L3\",\"AVG_CORNERSHOMED2_L5\",\n",
    "                                                         \"AVG_CORNERSAWAYD1_L5\",\"CORNERS_DIV_SHOTS\",\"AVG_CORNERSAWAYD2_L5\",\n",
    "                                                         \"LEAGUE_INGLATERRA\",\"TOTAL_CORNERS\",\"LAST_MINUTECORNER_H_L60\",\n",
    "                                                         \"LEAGUE_ESPANA\",\"CORNERS_DIV_DANGATTACKS\",\n",
    "                                                         \"LAST_MINUTECORNER_A_L60\",\"AVG_CORNERSHOMER2_L5\",\n",
    "                                                         \"AVG_CORNERS_LOSE_HOME\",\"CORNERS_A\",\n",
    "                                                         \"AVG_CORNERSHOMER1_L3\",\"GOALS/DANGATTACKS_L45\",\"ODDS_AWAY\",\n",
    "                                                         \"AVG_CORNERSHOMED1_L5\",\"RANK_HOMELEAGUE_L5\",\n",
    "                                                         \"NUM_MATCHESHOME_POSITIVE_L5\",\"NUM_ATTACKSHOME_L45\",\"DIF_ODDS\",\n",
    "                                                         \"GOALS_A\",\"output\"]]\n",
    "\n",
    "X_validation_november = data[data.YEARMONTH>=202111][[\"AVG_CORNERSHOMED1_L3\",\"AVG_CORNERSHOMED2_L5\",\n",
    "                                                         \"AVG_CORNERSAWAYD1_L5\",\"CORNERS_DIV_SHOTS\",\"AVG_CORNERSAWAYD2_L5\",\n",
    "                                                         \"LEAGUE_INGLATERRA\",\"TOTAL_CORNERS\",\"LAST_MINUTECORNER_H_L60\",\n",
    "                                                         \"LEAGUE_ESPANA\",\"CORNERS_DIV_DANGATTACKS\",\n",
    "                                                         \"LAST_MINUTECORNER_A_L60\",\"AVG_CORNERSHOMER2_L5\",\n",
    "                                                         \"AVG_CORNERS_LOSE_HOME\",\"CORNERS_A\",\n",
    "                                                         \"AVG_CORNERSHOMER1_L3\",\"GOALS/DANGATTACKS_L45\",\"ODDS_AWAY\",\n",
    "                                                         \"AVG_CORNERSHOMED1_L5\",\"RANK_HOMELEAGUE_L5\",\n",
    "                                                         \"NUM_MATCHESHOME_POSITIVE_L5\",\"NUM_ATTACKSHOME_L45\",\"DIF_ODDS\",\n",
    "                                                         \"GOALS_A\",\"output\"]]"
   ]
  },
  {
   "cell_type": "code",
   "execution_count": 590,
   "id": "6e3c5301",
   "metadata": {},
   "outputs": [
    {
     "data": {
      "text/plain": [
       "['AVG_CORNERSHOMED1_L3',\n",
       " 'AVG_CORNERSHOMED2_L5',\n",
       " 'AVG_CORNERSAWAYD1_L5',\n",
       " 'CORNERS_DIV_SHOTS',\n",
       " 'AVG_CORNERSAWAYD2_L5',\n",
       " 'LEAGUE_INGLATERRA',\n",
       " 'TOTAL_CORNERS',\n",
       " 'LAST_MINUTECORNER_H_L60',\n",
       " 'LEAGUE_ESPANA',\n",
       " 'CORNERS_DIV_DANGATTACKS',\n",
       " 'LAST_MINUTECORNER_A_L60',\n",
       " 'AVG_CORNERSHOMER2_L5',\n",
       " 'AVG_CORNERS_LOSE_HOME',\n",
       " 'CORNERS_A',\n",
       " 'AVG_CORNERSHOMER1_L3',\n",
       " 'GOALS/DANGATTACKS_L45',\n",
       " 'ODDS_AWAY',\n",
       " 'AVG_CORNERSHOMED1_L5',\n",
       " 'RANK_HOMELEAGUE_L5',\n",
       " 'NUM_MATCHESHOME_POSITIVE_L5',\n",
       " 'NUM_ATTACKSHOME_L45',\n",
       " 'DIF_ODDS',\n",
       " 'GOALS_A',\n",
       " 'output']"
      ]
     },
     "execution_count": 590,
     "metadata": {},
     "output_type": "execute_result"
    }
   ],
   "source": [
    "tablon.columns.tolist()"
   ]
  },
  {
   "cell_type": "code",
   "execution_count": 125,
   "id": "5ad0b69b",
   "metadata": {},
   "outputs": [],
   "source": [
    "len_test = int(round(len(tablon)*0.25, 0))\n",
    "len_train = int(round(len(tablon)*0.6, 0))"
   ]
  },
  {
   "cell_type": "code",
   "execution_count": 126,
   "id": "b3d8b56c",
   "metadata": {},
   "outputs": [],
   "source": [
    "X_train = tablon[:len_train]\n",
    "y_train = X_train.pop(\"output\")\n",
    "X_test = tablon[len_train:(len_train+len_test)]\n",
    "y_test = X_test.pop(\"output\")\n",
    "X_validation = tablon[(len_train+len_test):]\n",
    "y_validation = X_validation.pop(\"output\")"
   ]
  },
  {
   "cell_type": "code",
   "execution_count": 127,
   "id": "3fe938f9",
   "metadata": {},
   "outputs": [
    {
     "data": {
      "text/plain": [
       "((6928, 23), (2887, 23), (1732, 23))"
      ]
     },
     "execution_count": 127,
     "metadata": {},
     "output_type": "execute_result"
    }
   ],
   "source": [
    "X_train.shape, X_test.shape, X_validation.shape"
   ]
  },
  {
   "cell_type": "code",
   "execution_count": 128,
   "id": "e4371695",
   "metadata": {},
   "outputs": [
    {
     "data": {
      "text/plain": [
       "1    5000\n",
       "0    1928\n",
       "Name: output, dtype: int64"
      ]
     },
     "execution_count": 128,
     "metadata": {},
     "output_type": "execute_result"
    }
   ],
   "source": [
    "y_train.value_counts()"
   ]
  },
  {
   "cell_type": "code",
   "execution_count": 129,
   "id": "f73ee8e1",
   "metadata": {},
   "outputs": [
    {
     "data": {
      "text/plain": [
       "1    2041\n",
       "0     846\n",
       "Name: output, dtype: int64"
      ]
     },
     "execution_count": 129,
     "metadata": {},
     "output_type": "execute_result"
    }
   ],
   "source": [
    "y_test.value_counts()"
   ]
  },
  {
   "cell_type": "code",
   "execution_count": 130,
   "id": "b178d2af",
   "metadata": {},
   "outputs": [
    {
     "data": {
      "text/plain": [
       "1    1204\n",
       "0     528\n",
       "Name: output, dtype: int64"
      ]
     },
     "execution_count": 130,
     "metadata": {},
     "output_type": "execute_result"
    }
   ],
   "source": [
    "y_validation.value_counts()"
   ]
  },
  {
   "cell_type": "markdown",
   "id": "35058c53",
   "metadata": {},
   "source": [
    "## EXECUTING BEST MODEL"
   ]
  },
  {
   "cell_type": "code",
   "execution_count": 76,
   "id": "9353c5e4",
   "metadata": {},
   "outputs": [
    {
     "name": "stdout",
     "output_type": "stream",
     "text": [
      "[0]\tvalidation_0-auc:0.60143\tvalidation_0-logloss:0.69146\tvalidation_0-error:0.32525\n",
      "[1]\tvalidation_0-auc:0.61398\tvalidation_0-logloss:0.68972\tvalidation_0-error:0.32871\n"
     ]
    },
    {
     "name": "stderr",
     "output_type": "stream",
     "text": [
      "/home/root/opt/python3.7.11/lib/python3.7/site-packages/xgboost/sklearn.py:1224: UserWarning: The use of label encoder in XGBClassifier is deprecated and will be removed in a future release. To remove this warning, do the following: 1) Pass option use_label_encoder=False when constructing XGBClassifier object; and 2) Encode your labels (y) as integers starting with 0, i.e. 0, 1, 2, ..., [num_class - 1].\n",
      "  warnings.warn(label_encoder_deprecation_msg, UserWarning)\n"
     ]
    },
    {
     "name": "stdout",
     "output_type": "stream",
     "text": [
      "[2]\tvalidation_0-auc:0.62317\tvalidation_0-logloss:0.68796\tvalidation_0-error:0.32733\n",
      "[3]\tvalidation_0-auc:0.62352\tvalidation_0-logloss:0.68634\tvalidation_0-error:0.32664\n",
      "[4]\tvalidation_0-auc:0.62471\tvalidation_0-logloss:0.68479\tvalidation_0-error:0.32560\n",
      "[5]\tvalidation_0-auc:0.62291\tvalidation_0-logloss:0.68330\tvalidation_0-error:0.32594\n",
      "[6]\tvalidation_0-auc:0.62303\tvalidation_0-logloss:0.68183\tvalidation_0-error:0.32594\n",
      "[7]\tvalidation_0-auc:0.62133\tvalidation_0-logloss:0.68036\tvalidation_0-error:0.32594\n",
      "[8]\tvalidation_0-auc:0.62090\tvalidation_0-logloss:0.67896\tvalidation_0-error:0.32594\n",
      "[9]\tvalidation_0-auc:0.62137\tvalidation_0-logloss:0.67759\tvalidation_0-error:0.32594\n",
      "[10]\tvalidation_0-auc:0.62245\tvalidation_0-logloss:0.67621\tvalidation_0-error:0.32698\n",
      "[11]\tvalidation_0-auc:0.62414\tvalidation_0-logloss:0.67490\tvalidation_0-error:0.32698\n",
      "[12]\tvalidation_0-auc:0.62411\tvalidation_0-logloss:0.67367\tvalidation_0-error:0.32733\n",
      "[13]\tvalidation_0-auc:0.62547\tvalidation_0-logloss:0.67255\tvalidation_0-error:0.32698\n",
      "[14]\tvalidation_0-auc:0.62529\tvalidation_0-logloss:0.67137\tvalidation_0-error:0.32664\n",
      "[15]\tvalidation_0-auc:0.62631\tvalidation_0-logloss:0.67021\tvalidation_0-error:0.32664\n",
      "[16]\tvalidation_0-auc:0.62538\tvalidation_0-logloss:0.66907\tvalidation_0-error:0.32802\n",
      "[17]\tvalidation_0-auc:0.62474\tvalidation_0-logloss:0.66807\tvalidation_0-error:0.32768\n",
      "[18]\tvalidation_0-auc:0.62432\tvalidation_0-logloss:0.66712\tvalidation_0-error:0.32802\n",
      "[19]\tvalidation_0-auc:0.62391\tvalidation_0-logloss:0.66608\tvalidation_0-error:0.32733\n",
      "[20]\tvalidation_0-auc:0.62370\tvalidation_0-logloss:0.66509\tvalidation_0-error:0.32733\n",
      "[21]\tvalidation_0-auc:0.62343\tvalidation_0-logloss:0.66408\tvalidation_0-error:0.32733\n",
      "[22]\tvalidation_0-auc:0.62478\tvalidation_0-logloss:0.66313\tvalidation_0-error:0.32768\n",
      "[23]\tvalidation_0-auc:0.62468\tvalidation_0-logloss:0.66223\tvalidation_0-error:0.32733\n",
      "[24]\tvalidation_0-auc:0.62488\tvalidation_0-logloss:0.66127\tvalidation_0-error:0.32768\n",
      "[25]\tvalidation_0-auc:0.62473\tvalidation_0-logloss:0.66044\tvalidation_0-error:0.32768\n",
      "[26]\tvalidation_0-auc:0.62430\tvalidation_0-logloss:0.65951\tvalidation_0-error:0.32768\n",
      "[27]\tvalidation_0-auc:0.62516\tvalidation_0-logloss:0.65857\tvalidation_0-error:0.32768\n",
      "[28]\tvalidation_0-auc:0.62517\tvalidation_0-logloss:0.65782\tvalidation_0-error:0.32768\n",
      "[29]\tvalidation_0-auc:0.62466\tvalidation_0-logloss:0.65706\tvalidation_0-error:0.32837\n",
      "[30]\tvalidation_0-auc:0.62431\tvalidation_0-logloss:0.65622\tvalidation_0-error:0.32768\n",
      "[31]\tvalidation_0-auc:0.62421\tvalidation_0-logloss:0.65551\tvalidation_0-error:0.32768\n",
      "[32]\tvalidation_0-auc:0.62444\tvalidation_0-logloss:0.65477\tvalidation_0-error:0.32664\n",
      "[33]\tvalidation_0-auc:0.62388\tvalidation_0-logloss:0.65409\tvalidation_0-error:0.32768\n",
      "[34]\tvalidation_0-auc:0.62361\tvalidation_0-logloss:0.65338\tvalidation_0-error:0.32802\n",
      "[35]\tvalidation_0-auc:0.62354\tvalidation_0-logloss:0.65278\tvalidation_0-error:0.32871\n",
      "[36]\tvalidation_0-auc:0.62343\tvalidation_0-logloss:0.65216\tvalidation_0-error:0.32906\n",
      "[37]\tvalidation_0-auc:0.62317\tvalidation_0-logloss:0.65155\tvalidation_0-error:0.32906\n",
      "[38]\tvalidation_0-auc:0.62337\tvalidation_0-logloss:0.65097\tvalidation_0-error:0.32871\n",
      "[39]\tvalidation_0-auc:0.62350\tvalidation_0-logloss:0.65046\tvalidation_0-error:0.32941\n",
      "[40]\tvalidation_0-auc:0.62296\tvalidation_0-logloss:0.64983\tvalidation_0-error:0.32906\n",
      "[41]\tvalidation_0-auc:0.62301\tvalidation_0-logloss:0.64937\tvalidation_0-error:0.33010\n",
      "[42]\tvalidation_0-auc:0.62318\tvalidation_0-logloss:0.64878\tvalidation_0-error:0.33010\n",
      "[43]\tvalidation_0-auc:0.62293\tvalidation_0-logloss:0.64824\tvalidation_0-error:0.33010\n",
      "[44]\tvalidation_0-auc:0.62261\tvalidation_0-logloss:0.64774\tvalidation_0-error:0.33045\n",
      "[45]\tvalidation_0-auc:0.62273\tvalidation_0-logloss:0.64727\tvalidation_0-error:0.33010\n",
      "[46]\tvalidation_0-auc:0.62228\tvalidation_0-logloss:0.64681\tvalidation_0-error:0.33010\n",
      "[47]\tvalidation_0-auc:0.62200\tvalidation_0-logloss:0.64636\tvalidation_0-error:0.33010\n",
      "[48]\tvalidation_0-auc:0.62208\tvalidation_0-logloss:0.64581\tvalidation_0-error:0.32975\n",
      "[49]\tvalidation_0-auc:0.62240\tvalidation_0-logloss:0.64536\tvalidation_0-error:0.33010\n",
      "[50]\tvalidation_0-auc:0.62311\tvalidation_0-logloss:0.64484\tvalidation_0-error:0.32975\n",
      "[51]\tvalidation_0-auc:0.62298\tvalidation_0-logloss:0.64448\tvalidation_0-error:0.32975\n",
      "[52]\tvalidation_0-auc:0.62280\tvalidation_0-logloss:0.64402\tvalidation_0-error:0.32975\n",
      "[53]\tvalidation_0-auc:0.62289\tvalidation_0-logloss:0.64361\tvalidation_0-error:0.32975\n",
      "[54]\tvalidation_0-auc:0.62285\tvalidation_0-logloss:0.64324\tvalidation_0-error:0.33010\n",
      "[55]\tvalidation_0-auc:0.62269\tvalidation_0-logloss:0.64289\tvalidation_0-error:0.32975\n",
      "[56]\tvalidation_0-auc:0.62301\tvalidation_0-logloss:0.64253\tvalidation_0-error:0.33010\n",
      "[57]\tvalidation_0-auc:0.62277\tvalidation_0-logloss:0.64212\tvalidation_0-error:0.32975\n",
      "[58]\tvalidation_0-auc:0.62261\tvalidation_0-logloss:0.64177\tvalidation_0-error:0.32975\n",
      "[59]\tvalidation_0-auc:0.62332\tvalidation_0-logloss:0.64141\tvalidation_0-error:0.32975\n",
      "[60]\tvalidation_0-auc:0.62345\tvalidation_0-logloss:0.64104\tvalidation_0-error:0.32975\n",
      "[61]\tvalidation_0-auc:0.62354\tvalidation_0-logloss:0.64077\tvalidation_0-error:0.33010\n",
      "[62]\tvalidation_0-auc:0.62347\tvalidation_0-logloss:0.64046\tvalidation_0-error:0.32975\n",
      "[63]\tvalidation_0-auc:0.62357\tvalidation_0-logloss:0.64017\tvalidation_0-error:0.32975\n",
      "[64]\tvalidation_0-auc:0.62363\tvalidation_0-logloss:0.63986\tvalidation_0-error:0.32941\n",
      "[65]\tvalidation_0-auc:0.62408\tvalidation_0-logloss:0.63957\tvalidation_0-error:0.32906\n",
      "[66]\tvalidation_0-auc:0.62446\tvalidation_0-logloss:0.63928\tvalidation_0-error:0.32906\n",
      "[67]\tvalidation_0-auc:0.62489\tvalidation_0-logloss:0.63896\tvalidation_0-error:0.32906\n",
      "[68]\tvalidation_0-auc:0.62455\tvalidation_0-logloss:0.63876\tvalidation_0-error:0.32906\n",
      "[69]\tvalidation_0-auc:0.62474\tvalidation_0-logloss:0.63845\tvalidation_0-error:0.32906\n",
      "[70]\tvalidation_0-auc:0.62479\tvalidation_0-logloss:0.63818\tvalidation_0-error:0.32906\n",
      "[71]\tvalidation_0-auc:0.62486\tvalidation_0-logloss:0.63790\tvalidation_0-error:0.32906\n",
      "[72]\tvalidation_0-auc:0.62462\tvalidation_0-logloss:0.63773\tvalidation_0-error:0.32906\n",
      "[73]\tvalidation_0-auc:0.62456\tvalidation_0-logloss:0.63755\tvalidation_0-error:0.32906\n",
      "[74]\tvalidation_0-auc:0.62481\tvalidation_0-logloss:0.63734\tvalidation_0-error:0.32906\n",
      "[75]\tvalidation_0-auc:0.62507\tvalidation_0-logloss:0.63707\tvalidation_0-error:0.32906\n",
      "[76]\tvalidation_0-auc:0.62512\tvalidation_0-logloss:0.63690\tvalidation_0-error:0.32906\n",
      "[77]\tvalidation_0-auc:0.62504\tvalidation_0-logloss:0.63674\tvalidation_0-error:0.32906\n",
      "[78]\tvalidation_0-auc:0.62523\tvalidation_0-logloss:0.63650\tvalidation_0-error:0.32906\n",
      "[79]\tvalidation_0-auc:0.62499\tvalidation_0-logloss:0.63633\tvalidation_0-error:0.32941\n",
      "[80]\tvalidation_0-auc:0.62539\tvalidation_0-logloss:0.63610\tvalidation_0-error:0.32975\n",
      "[81]\tvalidation_0-auc:0.62544\tvalidation_0-logloss:0.63594\tvalidation_0-error:0.33045\n",
      "[82]\tvalidation_0-auc:0.62553\tvalidation_0-logloss:0.63579\tvalidation_0-error:0.33010\n",
      "[83]\tvalidation_0-auc:0.62559\tvalidation_0-logloss:0.63564\tvalidation_0-error:0.33010\n",
      "[84]\tvalidation_0-auc:0.62580\tvalidation_0-logloss:0.63546\tvalidation_0-error:0.33045\n",
      "[85]\tvalidation_0-auc:0.62614\tvalidation_0-logloss:0.63528\tvalidation_0-error:0.33010\n",
      "[86]\tvalidation_0-auc:0.62650\tvalidation_0-logloss:0.63513\tvalidation_0-error:0.33045\n",
      "[87]\tvalidation_0-auc:0.62648\tvalidation_0-logloss:0.63500\tvalidation_0-error:0.33045\n",
      "[88]\tvalidation_0-auc:0.62649\tvalidation_0-logloss:0.63483\tvalidation_0-error:0.33079\n",
      "[89]\tvalidation_0-auc:0.62641\tvalidation_0-logloss:0.63469\tvalidation_0-error:0.33079\n",
      "[90]\tvalidation_0-auc:0.62640\tvalidation_0-logloss:0.63450\tvalidation_0-error:0.33045\n",
      "[91]\tvalidation_0-auc:0.62616\tvalidation_0-logloss:0.63440\tvalidation_0-error:0.33045\n",
      "[92]\tvalidation_0-auc:0.62678\tvalidation_0-logloss:0.63424\tvalidation_0-error:0.33045\n",
      "[93]\tvalidation_0-auc:0.62698\tvalidation_0-logloss:0.63406\tvalidation_0-error:0.33045\n",
      "[94]\tvalidation_0-auc:0.62685\tvalidation_0-logloss:0.63394\tvalidation_0-error:0.33079\n",
      "[95]\tvalidation_0-auc:0.62685\tvalidation_0-logloss:0.63383\tvalidation_0-error:0.33079\n",
      "[96]\tvalidation_0-auc:0.62674\tvalidation_0-logloss:0.63375\tvalidation_0-error:0.33079\n",
      "[97]\tvalidation_0-auc:0.62699\tvalidation_0-logloss:0.63360\tvalidation_0-error:0.33079\n"
     ]
    },
    {
     "name": "stdout",
     "output_type": "stream",
     "text": [
      "[98]\tvalidation_0-auc:0.62670\tvalidation_0-logloss:0.63352\tvalidation_0-error:0.33045\n",
      "[99]\tvalidation_0-auc:0.62657\tvalidation_0-logloss:0.63340\tvalidation_0-error:0.33079\n",
      "[100]\tvalidation_0-auc:0.62622\tvalidation_0-logloss:0.63335\tvalidation_0-error:0.33045\n",
      "[101]\tvalidation_0-auc:0.62617\tvalidation_0-logloss:0.63333\tvalidation_0-error:0.33045\n",
      "[102]\tvalidation_0-auc:0.62653\tvalidation_0-logloss:0.63316\tvalidation_0-error:0.32975\n",
      "[103]\tvalidation_0-auc:0.62659\tvalidation_0-logloss:0.63306\tvalidation_0-error:0.32941\n",
      "[104]\tvalidation_0-auc:0.62653\tvalidation_0-logloss:0.63296\tvalidation_0-error:0.32941\n",
      "[105]\tvalidation_0-auc:0.62588\tvalidation_0-logloss:0.63297\tvalidation_0-error:0.32975\n",
      "[106]\tvalidation_0-auc:0.62591\tvalidation_0-logloss:0.63286\tvalidation_0-error:0.33010\n",
      "[107]\tvalidation_0-auc:0.62627\tvalidation_0-logloss:0.63275\tvalidation_0-error:0.33010\n",
      "[108]\tvalidation_0-auc:0.62659\tvalidation_0-logloss:0.63265\tvalidation_0-error:0.32941\n",
      "[109]\tvalidation_0-auc:0.62652\tvalidation_0-logloss:0.63258\tvalidation_0-error:0.32941\n",
      "[110]\tvalidation_0-auc:0.62633\tvalidation_0-logloss:0.63252\tvalidation_0-error:0.32941\n",
      "[111]\tvalidation_0-auc:0.62612\tvalidation_0-logloss:0.63247\tvalidation_0-error:0.32941\n",
      "[112]\tvalidation_0-auc:0.62568\tvalidation_0-logloss:0.63243\tvalidation_0-error:0.32941\n",
      "[113]\tvalidation_0-auc:0.62591\tvalidation_0-logloss:0.63239\tvalidation_0-error:0.32941\n",
      "[114]\tvalidation_0-auc:0.62517\tvalidation_0-logloss:0.63244\tvalidation_0-error:0.32941\n",
      "[115]\tvalidation_0-auc:0.62515\tvalidation_0-logloss:0.63236\tvalidation_0-error:0.32941\n",
      "[116]\tvalidation_0-auc:0.62487\tvalidation_0-logloss:0.63232\tvalidation_0-error:0.32975\n",
      "[117]\tvalidation_0-auc:0.62484\tvalidation_0-logloss:0.63229\tvalidation_0-error:0.32941\n",
      "[118]\tvalidation_0-auc:0.62492\tvalidation_0-logloss:0.63220\tvalidation_0-error:0.32975\n",
      "[119]\tvalidation_0-auc:0.62438\tvalidation_0-logloss:0.63218\tvalidation_0-error:0.32975\n",
      "[120]\tvalidation_0-auc:0.62413\tvalidation_0-logloss:0.63217\tvalidation_0-error:0.32975\n",
      "[121]\tvalidation_0-auc:0.62386\tvalidation_0-logloss:0.63215\tvalidation_0-error:0.32975\n",
      "[122]\tvalidation_0-auc:0.62387\tvalidation_0-logloss:0.63208\tvalidation_0-error:0.32941\n",
      "[123]\tvalidation_0-auc:0.62377\tvalidation_0-logloss:0.63203\tvalidation_0-error:0.32975\n",
      "[124]\tvalidation_0-auc:0.62403\tvalidation_0-logloss:0.63197\tvalidation_0-error:0.32975\n",
      "[125]\tvalidation_0-auc:0.62412\tvalidation_0-logloss:0.63195\tvalidation_0-error:0.32975\n",
      "[126]\tvalidation_0-auc:0.62427\tvalidation_0-logloss:0.63189\tvalidation_0-error:0.32975\n",
      "[127]\tvalidation_0-auc:0.62441\tvalidation_0-logloss:0.63183\tvalidation_0-error:0.32941\n",
      "[128]\tvalidation_0-auc:0.62445\tvalidation_0-logloss:0.63178\tvalidation_0-error:0.32941\n",
      "[129]\tvalidation_0-auc:0.62440\tvalidation_0-logloss:0.63173\tvalidation_0-error:0.32941\n",
      "[130]\tvalidation_0-auc:0.62393\tvalidation_0-logloss:0.63171\tvalidation_0-error:0.32941\n",
      "[131]\tvalidation_0-auc:0.62435\tvalidation_0-logloss:0.63165\tvalidation_0-error:0.32906\n",
      "[132]\tvalidation_0-auc:0.62434\tvalidation_0-logloss:0.63160\tvalidation_0-error:0.32906\n",
      "[133]\tvalidation_0-auc:0.62449\tvalidation_0-logloss:0.63153\tvalidation_0-error:0.32906\n",
      "[134]\tvalidation_0-auc:0.62459\tvalidation_0-logloss:0.63146\tvalidation_0-error:0.32906\n",
      "[135]\tvalidation_0-auc:0.62428\tvalidation_0-logloss:0.63144\tvalidation_0-error:0.32906\n",
      "[136]\tvalidation_0-auc:0.62411\tvalidation_0-logloss:0.63140\tvalidation_0-error:0.32906\n",
      "[137]\tvalidation_0-auc:0.62434\tvalidation_0-logloss:0.63137\tvalidation_0-error:0.32837\n",
      "[138]\tvalidation_0-auc:0.62400\tvalidation_0-logloss:0.63140\tvalidation_0-error:0.32837\n",
      "[139]\tvalidation_0-auc:0.62418\tvalidation_0-logloss:0.63136\tvalidation_0-error:0.32802\n",
      "[140]\tvalidation_0-auc:0.62438\tvalidation_0-logloss:0.63129\tvalidation_0-error:0.32802\n",
      "[141]\tvalidation_0-auc:0.62462\tvalidation_0-logloss:0.63122\tvalidation_0-error:0.32802\n",
      "[142]\tvalidation_0-auc:0.62459\tvalidation_0-logloss:0.63118\tvalidation_0-error:0.32802\n",
      "[143]\tvalidation_0-auc:0.62487\tvalidation_0-logloss:0.63109\tvalidation_0-error:0.32802\n",
      "[144]\tvalidation_0-auc:0.62477\tvalidation_0-logloss:0.63106\tvalidation_0-error:0.32802\n",
      "[145]\tvalidation_0-auc:0.62495\tvalidation_0-logloss:0.63103\tvalidation_0-error:0.32802\n",
      "[146]\tvalidation_0-auc:0.62512\tvalidation_0-logloss:0.63098\tvalidation_0-error:0.32802\n",
      "[147]\tvalidation_0-auc:0.62520\tvalidation_0-logloss:0.63094\tvalidation_0-error:0.32802\n",
      "[148]\tvalidation_0-auc:0.62544\tvalidation_0-logloss:0.63090\tvalidation_0-error:0.32802\n",
      "[149]\tvalidation_0-auc:0.62543\tvalidation_0-logloss:0.63086\tvalidation_0-error:0.32802\n"
     ]
    },
    {
     "data": {
      "text/plain": [
       "XGBClassifier(base_score=0.5, booster='gbtree', colsample_bylevel=1,\n",
       "              colsample_bynode=1, colsample_bytree=0.65,\n",
       "              enable_categorical=False, eta=0.015,\n",
       "              eval_metric=['auc', 'logloss', 'error'], gamma=1.25, gpu_id=-1,\n",
       "              importance_type=None, interaction_constraints='',\n",
       "              learning_rate=0.0149999997, max_delta_step=0, max_depth=6,\n",
       "              min_child_weight=30, missing=nan, monotone_constraints='()',\n",
       "              n_estimators=150, n_jobs=12, num_parallel_tree=1,\n",
       "              predictor='auto', random_state=123, reg_alpha=0, reg_lambda=1,\n",
       "              scale_pos_weight=1, subsample=1, tree_method='exact',\n",
       "              validate_parameters=1, verbosity=None)"
      ]
     },
     "execution_count": 76,
     "metadata": {},
     "output_type": "execute_result"
    }
   ],
   "source": [
    "model1 = xgb.XGBClassifier(objective='binary:logistic', n_estimators=150, max_depth=6, gamma=1.25, eta=0.015,\n",
    "                          min_child_weight=30, colsample_bytree=0.65, \n",
    "                          random_state=123, eval_metric=[\"auc\", \"logloss\", \"error\"])\n",
    "model1.fit(X_train, y_train, eval_set=[(X_test, y_test)])"
   ]
  },
  {
   "cell_type": "code",
   "execution_count": 77,
   "id": "4f3c1421",
   "metadata": {},
   "outputs": [
    {
     "name": "stdout",
     "output_type": "stream",
     "text": [
      "[0]\tvalidation_0-auc:0.60876\tvalidation_0-logloss:0.69177\tvalidation_0-error:0.33737\n",
      "[1]\tvalidation_0-auc:0.61388\tvalidation_0-logloss:0.69042\tvalidation_0-error:0.33183\n",
      "[2]\tvalidation_0-auc:0.61928\tvalidation_0-logloss:0.68897\tvalidation_0-error:0.32560\n",
      "[3]\tvalidation_0-auc:0.62011\tvalidation_0-logloss:0.68767\tvalidation_0-error:0.32560\n",
      "[4]\tvalidation_0-auc:0.62050\tvalidation_0-logloss:0.68640\tvalidation_0-error:0.32664\n",
      "[5]\tvalidation_0-auc:0.61935\tvalidation_0-logloss:0.68521\tvalidation_0-error:0.32941\n",
      "[6]\tvalidation_0-auc:0.62025\tvalidation_0-logloss:0.68402\tvalidation_0-error:0.32837\n",
      "[7]\tvalidation_0-auc:0.61897\tvalidation_0-logloss:0.68284\tvalidation_0-error:0.32733\n",
      "[8]\tvalidation_0-auc:0.61867\tvalidation_0-logloss:0.68166\tvalidation_0-error:0.32629\n",
      "[9]\tvalidation_0-auc:0.61931\tvalidation_0-logloss:0.68051\tvalidation_0-error:0.32941\n",
      "[10]\tvalidation_0-auc:0.62015\tvalidation_0-logloss:0.67940\tvalidation_0-error:0.32871\n",
      "[11]\tvalidation_0-auc:0.62194\tvalidation_0-logloss:0.67831\tvalidation_0-error:0.32802\n",
      "[12]\tvalidation_0-auc:0.62133\tvalidation_0-logloss:0.67716\tvalidation_0-error:0.32975\n",
      "[13]\tvalidation_0-auc:0.62380\tvalidation_0-logloss:0.67624\tvalidation_0-error:0.33045\n",
      "[14]\tvalidation_0-auc:0.62268\tvalidation_0-logloss:0.67512\tvalidation_0-error:0.32941\n",
      "[15]\tvalidation_0-auc:0.62324\tvalidation_0-logloss:0.67415\tvalidation_0-error:0.32975\n",
      "[16]\tvalidation_0-auc:0.62209\tvalidation_0-logloss:0.67320\tvalidation_0-error:0.33045\n",
      "[17]\tvalidation_0-auc:0.62246\tvalidation_0-logloss:0.67231\tvalidation_0-error:0.33114\n",
      "[18]\tvalidation_0-auc:0.62229\tvalidation_0-logloss:0.67149\tvalidation_0-error:0.32871\n",
      "[19]\tvalidation_0-auc:0.62216\tvalidation_0-logloss:0.67059\tvalidation_0-error:0.33079\n",
      "[20]\tvalidation_0-auc:0.62170\tvalidation_0-logloss:0.66970\tvalidation_0-error:0.33183\n",
      "[21]\tvalidation_0-auc:0.62098\tvalidation_0-logloss:0.66877\tvalidation_0-error:0.33045\n",
      "[22]\tvalidation_0-auc:0.62146\tvalidation_0-logloss:0.66796\tvalidation_0-error:0.33045\n",
      "[23]\tvalidation_0-auc:0.62075\tvalidation_0-logloss:0.66714\tvalidation_0-error:0.33079\n",
      "[24]\tvalidation_0-auc:0.62081\tvalidation_0-logloss:0.66629\tvalidation_0-error:0.32975\n",
      "[25]\tvalidation_0-auc:0.62051\tvalidation_0-logloss:0.66555\tvalidation_0-error:0.32975\n",
      "[26]\tvalidation_0-auc:0.62043\tvalidation_0-logloss:0.66473\tvalidation_0-error:0.32837\n",
      "[27]\tvalidation_0-auc:0.62024\tvalidation_0-logloss:0.66393\tvalidation_0-error:0.32871\n",
      "[28]\tvalidation_0-auc:0.62010\tvalidation_0-logloss:0.66326\tvalidation_0-error:0.32871\n",
      "[29]\tvalidation_0-auc:0.61986\tvalidation_0-logloss:0.66257\tvalidation_0-error:0.32837\n",
      "[30]\tvalidation_0-auc:0.61960\tvalidation_0-logloss:0.66182\tvalidation_0-error:0.32906\n",
      "[31]\tvalidation_0-auc:0.61979\tvalidation_0-logloss:0.66116\tvalidation_0-error:0.32837\n",
      "[32]\tvalidation_0-auc:0.61979\tvalidation_0-logloss:0.66051\tvalidation_0-error:0.32871\n",
      "[33]\tvalidation_0-auc:0.61961\tvalidation_0-logloss:0.65989\tvalidation_0-error:0.32941\n",
      "[34]\tvalidation_0-auc:0.61954\tvalidation_0-logloss:0.65924\tvalidation_0-error:0.32975\n",
      "[35]\tvalidation_0-auc:0.61928\tvalidation_0-logloss:0.65871\tvalidation_0-error:0.32906\n",
      "[36]\tvalidation_0-auc:0.61940\tvalidation_0-logloss:0.65812\tvalidation_0-error:0.32975\n",
      "[37]\tvalidation_0-auc:0.61926\tvalidation_0-logloss:0.65757\tvalidation_0-error:0.33114\n",
      "[38]\tvalidation_0-auc:0.61939\tvalidation_0-logloss:0.65706\tvalidation_0-error:0.32975\n",
      "[39]\tvalidation_0-auc:0.61937\tvalidation_0-logloss:0.65660\tvalidation_0-error:0.33010\n",
      "[40]\tvalidation_0-auc:0.61914\tvalidation_0-logloss:0.65601\tvalidation_0-error:0.33010\n",
      "[41]\tvalidation_0-auc:0.61903\tvalidation_0-logloss:0.65559\tvalidation_0-error:0.33114\n",
      "[42]\tvalidation_0-auc:0.61936\tvalidation_0-logloss:0.65502\tvalidation_0-error:0.33079\n",
      "[43]\tvalidation_0-auc:0.61924\tvalidation_0-logloss:0.65449\tvalidation_0-error:0.33114\n",
      "[44]\tvalidation_0-auc:0.61904\tvalidation_0-logloss:0.65397\tvalidation_0-error:0.33149\n",
      "[45]\tvalidation_0-auc:0.61966\tvalidation_0-logloss:0.65349\tvalidation_0-error:0.33045\n",
      "[46]\tvalidation_0-auc:0.61907\tvalidation_0-logloss:0.65306\tvalidation_0-error:0.33010\n",
      "[47]\tvalidation_0-auc:0.61882\tvalidation_0-logloss:0.65263\tvalidation_0-error:0.33010\n",
      "[48]\tvalidation_0-auc:0.61892\tvalidation_0-logloss:0.65207\tvalidation_0-error:0.33010\n",
      "[49]\tvalidation_0-auc:0.61940\tvalidation_0-logloss:0.65165\tvalidation_0-error:0.33045\n",
      "[50]\tvalidation_0-auc:0.61984\tvalidation_0-logloss:0.65114\tvalidation_0-error:0.33114\n",
      "[51]\tvalidation_0-auc:0.61994\tvalidation_0-logloss:0.65077\tvalidation_0-error:0.33114\n",
      "[52]\tvalidation_0-auc:0.61996\tvalidation_0-logloss:0.65031\tvalidation_0-error:0.33149\n",
      "[53]\tvalidation_0-auc:0.61981\tvalidation_0-logloss:0.64992\tvalidation_0-error:0.33114\n",
      "[54]\tvalidation_0-auc:0.61978\tvalidation_0-logloss:0.64957\tvalidation_0-error:0.33218\n",
      "[55]\tvalidation_0-auc:0.62015\tvalidation_0-logloss:0.64921\tvalidation_0-error:0.33218\n",
      "[56]\tvalidation_0-auc:0.62054\tvalidation_0-logloss:0.64883\tvalidation_0-error:0.33218\n",
      "[57]\tvalidation_0-auc:0.62072\tvalidation_0-logloss:0.64845\tvalidation_0-error:0.33149\n",
      "[58]\tvalidation_0-auc:0.62122\tvalidation_0-logloss:0.64804\tvalidation_0-error:0.33045\n",
      "[59]\tvalidation_0-auc:0.62177\tvalidation_0-logloss:0.64766\tvalidation_0-error:0.33045\n",
      "[60]\tvalidation_0-auc:0.62207\tvalidation_0-logloss:0.64729\tvalidation_0-error:0.33114\n",
      "[61]\tvalidation_0-auc:0.62225\tvalidation_0-logloss:0.64702\tvalidation_0-error:0.33183\n",
      "[62]\tvalidation_0-auc:0.62205\tvalidation_0-logloss:0.64676\tvalidation_0-error:0.33183\n",
      "[63]\tvalidation_0-auc:0.62252\tvalidation_0-logloss:0.64646\tvalidation_0-error:0.33149\n",
      "[64]\tvalidation_0-auc:0.62256\tvalidation_0-logloss:0.64612\tvalidation_0-error:0.33183\n",
      "[65]\tvalidation_0-auc:0.62312\tvalidation_0-logloss:0.64581\tvalidation_0-error:0.33183\n",
      "[66]\tvalidation_0-auc:0.62338\tvalidation_0-logloss:0.64559\tvalidation_0-error:0.33149\n",
      "[67]\tvalidation_0-auc:0.62357\tvalidation_0-logloss:0.64524\tvalidation_0-error:0.33149\n",
      "[68]\tvalidation_0-auc:0.62334\tvalidation_0-logloss:0.64502\tvalidation_0-error:0.33183\n",
      "[69]\tvalidation_0-auc:0.62341\tvalidation_0-logloss:0.64469\tvalidation_0-error:0.33114\n",
      "[70]\tvalidation_0-auc:0.62341\tvalidation_0-logloss:0.64437\tvalidation_0-error:0.33079\n",
      "[71]\tvalidation_0-auc:0.62345\tvalidation_0-logloss:0.64408\tvalidation_0-error:0.33079\n",
      "[72]\tvalidation_0-auc:0.62312\tvalidation_0-logloss:0.64390\tvalidation_0-error:0.33114\n",
      "[73]\tvalidation_0-auc:0.62272\tvalidation_0-logloss:0.64365\tvalidation_0-error:0.33114\n",
      "[74]\tvalidation_0-auc:0.62272\tvalidation_0-logloss:0.64340\tvalidation_0-error:0.33114\n",
      "[75]\tvalidation_0-auc:0.62308\tvalidation_0-logloss:0.64312\tvalidation_0-error:0.33218\n",
      "[76]\tvalidation_0-auc:0.62317\tvalidation_0-logloss:0.64293\tvalidation_0-error:0.33114\n",
      "[77]\tvalidation_0-auc:0.62297\tvalidation_0-logloss:0.64275\tvalidation_0-error:0.33149\n",
      "[78]\tvalidation_0-auc:0.62294\tvalidation_0-logloss:0.64252\tvalidation_0-error:0.33149\n",
      "[79]\tvalidation_0-auc:0.62281\tvalidation_0-logloss:0.64232\tvalidation_0-error:0.33218\n",
      "[80]\tvalidation_0-auc:0.62312\tvalidation_0-logloss:0.64207\tvalidation_0-error:0.33149\n",
      "[81]\tvalidation_0-auc:0.62309\tvalidation_0-logloss:0.64194\tvalidation_0-error:0.33218\n",
      "[82]\tvalidation_0-auc:0.62255\tvalidation_0-logloss:0.64188\tvalidation_0-error:0.33183\n",
      "[83]\tvalidation_0-auc:0.62268\tvalidation_0-logloss:0.64172\tvalidation_0-error:0.33183\n",
      "[84]\tvalidation_0-auc:0.62235\tvalidation_0-logloss:0.64156\tvalidation_0-error:0.33218\n",
      "[85]\tvalidation_0-auc:0.62265\tvalidation_0-logloss:0.64139\tvalidation_0-error:0.33149\n",
      "[86]\tvalidation_0-auc:0.62314\tvalidation_0-logloss:0.64117\tvalidation_0-error:0.33114\n",
      "[87]\tvalidation_0-auc:0.62305\tvalidation_0-logloss:0.64099\tvalidation_0-error:0.33079\n",
      "[88]\tvalidation_0-auc:0.62279\tvalidation_0-logloss:0.64082\tvalidation_0-error:0.33079\n",
      "[89]\tvalidation_0-auc:0.62272\tvalidation_0-logloss:0.64066\tvalidation_0-error:0.33079\n",
      "[90]\tvalidation_0-auc:0.62257\tvalidation_0-logloss:0.64049\tvalidation_0-error:0.33114\n",
      "[91]\tvalidation_0-auc:0.62278\tvalidation_0-logloss:0.64030\tvalidation_0-error:0.33079\n",
      "[92]\tvalidation_0-auc:0.62311\tvalidation_0-logloss:0.64014\tvalidation_0-error:0.33114\n",
      "[93]\tvalidation_0-auc:0.62302\tvalidation_0-logloss:0.63997\tvalidation_0-error:0.33045\n",
      "[94]\tvalidation_0-auc:0.62301\tvalidation_0-logloss:0.63975\tvalidation_0-error:0.33079\n",
      "[95]\tvalidation_0-auc:0.62305\tvalidation_0-logloss:0.63964\tvalidation_0-error:0.33045\n"
     ]
    },
    {
     "name": "stdout",
     "output_type": "stream",
     "text": [
      "[96]\tvalidation_0-auc:0.62308\tvalidation_0-logloss:0.63951\tvalidation_0-error:0.33079\n",
      "[97]\tvalidation_0-auc:0.62325\tvalidation_0-logloss:0.63935\tvalidation_0-error:0.33079\n",
      "[98]\tvalidation_0-auc:0.62309\tvalidation_0-logloss:0.63924\tvalidation_0-error:0.33079\n",
      "[99]\tvalidation_0-auc:0.62345\tvalidation_0-logloss:0.63909\tvalidation_0-error:0.32975\n",
      "[100]\tvalidation_0-auc:0.62295\tvalidation_0-logloss:0.63903\tvalidation_0-error:0.32941\n",
      "[101]\tvalidation_0-auc:0.62278\tvalidation_0-logloss:0.63901\tvalidation_0-error:0.32941\n",
      "[102]\tvalidation_0-auc:0.62301\tvalidation_0-logloss:0.63884\tvalidation_0-error:0.32975\n",
      "[103]\tvalidation_0-auc:0.62288\tvalidation_0-logloss:0.63872\tvalidation_0-error:0.32975\n",
      "[104]\tvalidation_0-auc:0.62297\tvalidation_0-logloss:0.63867\tvalidation_0-error:0.33010\n",
      "[105]\tvalidation_0-auc:0.62238\tvalidation_0-logloss:0.63863\tvalidation_0-error:0.33010\n",
      "[106]\tvalidation_0-auc:0.62207\tvalidation_0-logloss:0.63852\tvalidation_0-error:0.33010\n",
      "[107]\tvalidation_0-auc:0.62241\tvalidation_0-logloss:0.63838\tvalidation_0-error:0.32941\n",
      "[108]\tvalidation_0-auc:0.62293\tvalidation_0-logloss:0.63822\tvalidation_0-error:0.33010\n",
      "[109]\tvalidation_0-auc:0.62287\tvalidation_0-logloss:0.63812\tvalidation_0-error:0.32941\n",
      "[110]\tvalidation_0-auc:0.62286\tvalidation_0-logloss:0.63803\tvalidation_0-error:0.33010\n",
      "[111]\tvalidation_0-auc:0.62276\tvalidation_0-logloss:0.63796\tvalidation_0-error:0.32941\n",
      "[112]\tvalidation_0-auc:0.62282\tvalidation_0-logloss:0.63784\tvalidation_0-error:0.33010\n",
      "[113]\tvalidation_0-auc:0.62305\tvalidation_0-logloss:0.63774\tvalidation_0-error:0.32975\n",
      "[114]\tvalidation_0-auc:0.62270\tvalidation_0-logloss:0.63775\tvalidation_0-error:0.33045\n",
      "[115]\tvalidation_0-auc:0.62283\tvalidation_0-logloss:0.63767\tvalidation_0-error:0.33114\n",
      "[116]\tvalidation_0-auc:0.62269\tvalidation_0-logloss:0.63760\tvalidation_0-error:0.33149\n",
      "[117]\tvalidation_0-auc:0.62304\tvalidation_0-logloss:0.63751\tvalidation_0-error:0.33010\n",
      "[118]\tvalidation_0-auc:0.62305\tvalidation_0-logloss:0.63740\tvalidation_0-error:0.33114\n",
      "[119]\tvalidation_0-auc:0.62314\tvalidation_0-logloss:0.63728\tvalidation_0-error:0.33149\n",
      "[120]\tvalidation_0-auc:0.62337\tvalidation_0-logloss:0.63721\tvalidation_0-error:0.33045\n",
      "[121]\tvalidation_0-auc:0.62313\tvalidation_0-logloss:0.63714\tvalidation_0-error:0.33045\n",
      "[122]\tvalidation_0-auc:0.62311\tvalidation_0-logloss:0.63705\tvalidation_0-error:0.33010\n",
      "[123]\tvalidation_0-auc:0.62301\tvalidation_0-logloss:0.63696\tvalidation_0-error:0.33010\n",
      "[124]\tvalidation_0-auc:0.62304\tvalidation_0-logloss:0.63690\tvalidation_0-error:0.33045\n",
      "[125]\tvalidation_0-auc:0.62304\tvalidation_0-logloss:0.63683\tvalidation_0-error:0.33045\n",
      "[126]\tvalidation_0-auc:0.62320\tvalidation_0-logloss:0.63670\tvalidation_0-error:0.33079\n",
      "[127]\tvalidation_0-auc:0.62292\tvalidation_0-logloss:0.63670\tvalidation_0-error:0.33045\n",
      "[128]\tvalidation_0-auc:0.62295\tvalidation_0-logloss:0.63664\tvalidation_0-error:0.33045\n",
      "[129]\tvalidation_0-auc:0.62268\tvalidation_0-logloss:0.63657\tvalidation_0-error:0.33045\n",
      "[130]\tvalidation_0-auc:0.62228\tvalidation_0-logloss:0.63653\tvalidation_0-error:0.33010\n",
      "[131]\tvalidation_0-auc:0.62218\tvalidation_0-logloss:0.63651\tvalidation_0-error:0.32941\n",
      "[132]\tvalidation_0-auc:0.62210\tvalidation_0-logloss:0.63644\tvalidation_0-error:0.32941\n",
      "[133]\tvalidation_0-auc:0.62242\tvalidation_0-logloss:0.63634\tvalidation_0-error:0.32941\n",
      "[134]\tvalidation_0-auc:0.62236\tvalidation_0-logloss:0.63626\tvalidation_0-error:0.32941\n",
      "[135]\tvalidation_0-auc:0.62192\tvalidation_0-logloss:0.63621\tvalidation_0-error:0.32941\n",
      "[136]\tvalidation_0-auc:0.62186\tvalidation_0-logloss:0.63613\tvalidation_0-error:0.33010\n",
      "[137]\tvalidation_0-auc:0.62192\tvalidation_0-logloss:0.63611\tvalidation_0-error:0.32871\n",
      "[138]\tvalidation_0-auc:0.62177\tvalidation_0-logloss:0.63614\tvalidation_0-error:0.32906\n",
      "[139]\tvalidation_0-auc:0.62166\tvalidation_0-logloss:0.63610\tvalidation_0-error:0.32906\n",
      "[140]\tvalidation_0-auc:0.62183\tvalidation_0-logloss:0.63603\tvalidation_0-error:0.32975\n",
      "[141]\tvalidation_0-auc:0.62154\tvalidation_0-logloss:0.63603\tvalidation_0-error:0.32941\n",
      "[142]\tvalidation_0-auc:0.62127\tvalidation_0-logloss:0.63600\tvalidation_0-error:0.32975\n",
      "[143]\tvalidation_0-auc:0.62128\tvalidation_0-logloss:0.63594\tvalidation_0-error:0.33010\n",
      "[144]\tvalidation_0-auc:0.62131\tvalidation_0-logloss:0.63587\tvalidation_0-error:0.33045\n",
      "[145]\tvalidation_0-auc:0.62105\tvalidation_0-logloss:0.63585\tvalidation_0-error:0.33010\n",
      "[146]\tvalidation_0-auc:0.62080\tvalidation_0-logloss:0.63585\tvalidation_0-error:0.33010\n",
      "[147]\tvalidation_0-auc:0.62093\tvalidation_0-logloss:0.63578\tvalidation_0-error:0.32975\n",
      "[148]\tvalidation_0-auc:0.62107\tvalidation_0-logloss:0.63576\tvalidation_0-error:0.33045\n",
      "[149]\tvalidation_0-auc:0.62089\tvalidation_0-logloss:0.63575\tvalidation_0-error:0.33045\n"
     ]
    },
    {
     "data": {
      "text/plain": [
       "XGBClassifier(base_score=0.5, booster='gbtree', colsample_bylevel=1,\n",
       "              colsample_bynode=1, colsample_bytree=0.65,\n",
       "              enable_categorical=False, eta=0.015,\n",
       "              eval_metric=['auc', 'logloss', 'error'], gamma=1.25, gpu_id=-1,\n",
       "              importance_type=None, interaction_constraints='',\n",
       "              learning_rate=0.0149999997, max_delta_step=0, max_depth=6,\n",
       "              min_child_weight=30, missing=nan, monotone_constraints='()',\n",
       "              n_estimators=150, n_jobs=12, num_parallel_tree=1,\n",
       "              predictor='auto', random_state=123, reg_alpha=0, reg_lambda=1,\n",
       "              scale_pos_weight=0.8, subsample=1, tree_method='exact',\n",
       "              validate_parameters=1, verbosity=None)"
      ]
     },
     "execution_count": 77,
     "metadata": {},
     "output_type": "execute_result"
    }
   ],
   "source": [
    "model2 = xgb.XGBClassifier(objective='binary:logistic', n_estimators=150, max_depth=6, gamma=1.25, eta=0.015,\n",
    "                          min_child_weight=30, colsample_bytree=0.65, scale_pos_weight=0.8,\n",
    "                          random_state=123, eval_metric=[\"auc\", \"logloss\", \"error\"])\n",
    "model2.fit(X_train, y_train, eval_set=[(X_test, y_test)])"
   ]
  },
  {
   "cell_type": "code",
   "execution_count": 672,
   "id": "fd60cb85",
   "metadata": {},
   "outputs": [
    {
     "data": {
      "text/plain": [
       "<AxesSubplot:>"
      ]
     },
     "execution_count": 672,
     "metadata": {},
     "output_type": "execute_result"
    },
    {
     "data": {
      "image/png": "[encoded data removed]",
      "text/plain": [
       "<Figure size 432x288 with 1 Axes>"
      ]
     },
     "metadata": {
      "needs_background": "light"
     },
     "output_type": "display_data"
    }
   ],
   "source": [
    "fu_dict = dict(zip(X_train.columns, model1.feature_importances_))\n",
    "fi = pd.DataFrame(fu_dict.values(), index=fu_dict.keys(), columns=[\"importance\"])\n",
    "fi = fi.sort_values(by=\"importance\", ascending=False)\n",
    "fi = fi[fi.importance > 0.01]\n",
    "\n",
    "fi.plot.bar()"
   ]
  },
  {
   "cell_type": "code",
   "execution_count": 134,
   "id": "b08d57a7",
   "metadata": {},
   "outputs": [],
   "source": [
    "fi.to_csv(\"feature_importance.csv\")"
   ]
  },
  {
   "cell_type": "code",
   "execution_count": 78,
   "id": "ff8a7a70",
   "metadata": {},
   "outputs": [
    {
     "data": {
      "text/plain": [
       "array([[ 278,  851],\n",
       "       [  96, 1662]])"
      ]
     },
     "execution_count": 78,
     "metadata": {},
     "output_type": "execute_result"
    }
   ],
   "source": [
    "y_pred1 = model1.predict(X_test)\n",
    "confusion_matrix(y_test, y_pred1)"
   ]
  },
  {
   "cell_type": "code",
   "execution_count": 79,
   "id": "2d85978f",
   "metadata": {},
   "outputs": [
    {
     "data": {
      "text/plain": [
       "array([[ 311,  818],\n",
       "       [ 136, 1622]])"
      ]
     },
     "execution_count": 79,
     "metadata": {},
     "output_type": "execute_result"
    }
   ],
   "source": [
    "y_pred2 = model2.predict(X_test)\n",
    "confusion_matrix(y_test, y_pred2)"
   ]
  },
  {
   "cell_type": "code",
   "execution_count": 101,
   "id": "55f7e0eb",
   "metadata": {},
   "outputs": [],
   "source": [
    "y_pred_proba = model1.predict_proba(X_test)[:,1]\n",
    "predict_mine = np.where(y_pred_proba > 0.65, 1, 0)\n",
    "cm1 = confusion_matrix(y_test, predict_mine)"
   ]
  },
  {
   "cell_type": "code",
   "execution_count": 102,
   "id": "904e7b1e",
   "metadata": {},
   "outputs": [
    {
     "data": {
      "text/plain": [
       "array([[716, 413],\n",
       "       [839, 919]])"
      ]
     },
     "execution_count": 102,
     "metadata": {},
     "output_type": "execute_result"
    }
   ],
   "source": [
    "cm1"
   ]
  },
  {
   "cell_type": "code",
   "execution_count": 103,
   "id": "83ea3557",
   "metadata": {},
   "outputs": [],
   "source": [
    "y_pred_proba = model2.predict_proba(X_test)[:,1]\n",
    "predict_mine = np.where(y_pred_proba > 0.61, 1, 0)\n",
    "cm2 = confusion_matrix(y_test, predict_mine)"
   ]
  },
  {
   "cell_type": "code",
   "execution_count": 104,
   "id": "28e4db7f",
   "metadata": {},
   "outputs": [
    {
     "data": {
      "text/plain": [
       "array([[754, 375],\n",
       "       [930, 828]])"
      ]
     },
     "execution_count": 104,
     "metadata": {},
     "output_type": "execute_result"
    }
   ],
   "source": [
    "cm2"
   ]
  },
  {
   "cell_type": "code",
   "execution_count": 105,
   "id": "2a080435",
   "metadata": {},
   "outputs": [
    {
     "data": {
      "text/plain": [
       "(0.6719778316591618, 0.6695531693799792)"
      ]
     },
     "execution_count": 105,
     "metadata": {},
     "output_type": "execute_result"
    }
   ],
   "source": [
    "metrics.accuracy_score(y_test, y_pred1), metrics.accuracy_score(y_test, y_pred2)"
   ]
  },
  {
   "cell_type": "code",
   "execution_count": 106,
   "id": "2a85372f",
   "metadata": {},
   "outputs": [
    {
     "data": {
      "text/plain": [
       "(0.68993993993994, 0.6882793017456359)"
      ]
     },
     "execution_count": 106,
     "metadata": {},
     "output_type": "execute_result"
    }
   ],
   "source": [
    "cm1[1][1]/(cm1[1][1]+cm1[0][1]), cm2[1][1]/(cm2[1][1]+cm2[0][1])"
   ]
  },
  {
   "cell_type": "code",
   "execution_count": 107,
   "id": "d8e4474c",
   "metadata": {},
   "outputs": [
    {
     "data": {
      "text/plain": [
       "(46.13785936958781, 41.66955316937998)"
      ]
     },
     "execution_count": 107,
     "metadata": {},
     "output_type": "execute_result"
    }
   ],
   "source": [
    "(cm1[1][1]+cm1[0][1])/len(y_test)*100, (cm2[1][1]+cm2[0][1])/len(y_test)*100"
   ]
  },
  {
   "cell_type": "markdown",
   "id": "bd2cf07a",
   "metadata": {},
   "source": [
    "# VALIDATION - BEST MODEL --> 70% accuracy in 17% of matches"
   ]
  },
  {
   "cell_type": "code",
   "execution_count": 108,
   "id": "31566b6c",
   "metadata": {},
   "outputs": [
    {
     "data": {
      "text/plain": [
       "array([[150, 565],\n",
       "       [ 58, 959]])"
      ]
     },
     "execution_count": 108,
     "metadata": {},
     "output_type": "execute_result"
    }
   ],
   "source": [
    "y_pred = model1.predict(X_validation)\n",
    "confusion_matrix(y_validation, y_pred)"
   ]
  },
  {
   "cell_type": "code",
   "execution_count": 109,
   "id": "960fa297",
   "metadata": {},
   "outputs": [
    {
     "data": {
      "text/plain": [
       "0.6403002309468823"
      ]
     },
     "execution_count": 109,
     "metadata": {},
     "output_type": "execute_result"
    }
   ],
   "source": [
    "metrics.accuracy_score(y_validation, y_pred)"
   ]
  },
  {
   "cell_type": "code",
   "execution_count": 110,
   "id": "e849fc15",
   "metadata": {},
   "outputs": [],
   "source": [
    "y_pred_proba = model1.predict_proba(X_validation)[:,1]\n",
    "predict_mine = np.where(y_pred_proba > 0.65, 1, 0)\n",
    "cm1 = confusion_matrix(y_validation, predict_mine)"
   ]
  },
  {
   "cell_type": "code",
   "execution_count": 111,
   "id": "9fe60820",
   "metadata": {},
   "outputs": [],
   "source": [
    "y_pred_proba = model2.predict_proba(X_validation)[:,1]\n",
    "predict_mine = np.where(y_pred_proba > 0.61, 1, 0)\n",
    "cm2=confusion_matrix(y_validation, predict_mine)"
   ]
  },
  {
   "cell_type": "code",
   "execution_count": 112,
   "id": "c3fd27d4",
   "metadata": {},
   "outputs": [
    {
     "data": {
      "text/plain": [
       "(0.65625, 0.6565217391304348)"
      ]
     },
     "execution_count": 112,
     "metadata": {},
     "output_type": "execute_result"
    }
   ],
   "source": [
    "cm1[1][1]/(cm1[1][1]+cm1[0][1]), cm2[1][1]/(cm2[1][1]+cm2[0][1])"
   ]
  },
  {
   "cell_type": "code",
   "execution_count": 113,
   "id": "ef502fb9",
   "metadata": {},
   "outputs": [
    {
     "data": {
      "text/plain": [
       "(44.34180138568129, 39.838337182448036)"
      ]
     },
     "execution_count": 113,
     "metadata": {},
     "output_type": "execute_result"
    }
   ],
   "source": [
    "(cm1[1][1]+cm1[0][1])/len(y_validation)*100, (cm2[1][1]+cm2[0][1])/len(y_validation)*100"
   ]
  },
  {
   "cell_type": "code",
   "execution_count": null,
   "id": "b9d00bfb",
   "metadata": {},
   "outputs": [],
   "source": []
  },
  {
   "cell_type": "code",
   "execution_count": null,
   "id": "fac8b2f6",
   "metadata": {},
   "outputs": [],
   "source": []
  },
  {
   "cell_type": "markdown",
   "id": "7997fd3b",
   "metadata": {},
   "source": [
    "## FINAL VALIDATION - NOVEMBER 2021"
   ]
  },
  {
   "cell_type": "code",
   "execution_count": 114,
   "id": "d33bf08b",
   "metadata": {},
   "outputs": [],
   "source": [
    "y_validation_november = X_validation_november.pop(\"output\")"
   ]
  },
  {
   "cell_type": "code",
   "execution_count": 115,
   "id": "df6cd973",
   "metadata": {},
   "outputs": [
    {
     "data": {
      "text/plain": [
       "array([[ 6, 32],\n",
       "       [ 3, 63]])"
      ]
     },
     "execution_count": 115,
     "metadata": {},
     "output_type": "execute_result"
    }
   ],
   "source": [
    "y_pred = model1.predict(X_validation_november)\n",
    "confusion_matrix(y_validation_november, y_pred)"
   ]
  },
  {
   "cell_type": "code",
   "execution_count": 116,
   "id": "24c46783",
   "metadata": {},
   "outputs": [
    {
     "data": {
      "text/plain": [
       "0.6634615384615384"
      ]
     },
     "execution_count": 116,
     "metadata": {},
     "output_type": "execute_result"
    }
   ],
   "source": [
    "metrics.accuracy_score(y_validation_november, y_pred)"
   ]
  },
  {
   "cell_type": "code",
   "execution_count": 117,
   "id": "f8a0d0b1",
   "metadata": {},
   "outputs": [
    {
     "data": {
      "text/plain": [
       "array([[ 6, 32],\n",
       "       [ 3, 63]])"
      ]
     },
     "execution_count": 117,
     "metadata": {},
     "output_type": "execute_result"
    }
   ],
   "source": [
    "y_pred = model2.predict(X_validation_november)\n",
    "confusion_matrix(y_validation_november, y_pred)"
   ]
  },
  {
   "cell_type": "code",
   "execution_count": 118,
   "id": "9bacf6e9",
   "metadata": {},
   "outputs": [
    {
     "data": {
      "text/plain": [
       "0.6634615384615384"
      ]
     },
     "execution_count": 118,
     "metadata": {},
     "output_type": "execute_result"
    }
   ],
   "source": [
    "metrics.accuracy_score(y_validation_november, y_pred)"
   ]
  },
  {
   "cell_type": "code",
   "execution_count": 119,
   "id": "73c2c4d3",
   "metadata": {},
   "outputs": [],
   "source": [
    "y_pred_proba = model1.predict_proba(X_validation_november)[:,1]\n",
    "predict_mine = np.where(y_pred_proba > 0.65, 1, 0)\n",
    "cm1 = confusion_matrix(y_validation_november, predict_mine)\n",
    "\n",
    "y_pred_proba = model2.predict_proba(X_validation_november)[:,1]\n",
    "predict_mine = np.where(y_pred_proba > 0.61, 1, 0)\n",
    "cm2=confusion_matrix(y_validation_november, predict_mine)"
   ]
  },
  {
   "cell_type": "code",
   "execution_count": 120,
   "id": "9cbb629b",
   "metadata": {},
   "outputs": [
    {
     "data": {
      "text/plain": [
       "array([[10, 28],\n",
       "       [29, 37]])"
      ]
     },
     "execution_count": 120,
     "metadata": {},
     "output_type": "execute_result"
    }
   ],
   "source": [
    "cm1"
   ]
  },
  {
   "cell_type": "code",
   "execution_count": 121,
   "id": "98b13e21",
   "metadata": {},
   "outputs": [
    {
     "data": {
      "text/plain": [
       "array([[15, 23],\n",
       "       [31, 35]])"
      ]
     },
     "execution_count": 121,
     "metadata": {},
     "output_type": "execute_result"
    }
   ],
   "source": [
    "cm2"
   ]
  },
  {
   "cell_type": "code",
   "execution_count": 122,
   "id": "bb6184b6",
   "metadata": {},
   "outputs": [
    {
     "data": {
      "text/plain": [
       "(0.5692307692307692, 0.603448275862069)"
      ]
     },
     "execution_count": 122,
     "metadata": {},
     "output_type": "execute_result"
    }
   ],
   "source": [
    "cm1[1][1]/(cm1[1][1]+cm1[0][1]), cm2[1][1]/(cm2[1][1]+cm2[0][1])"
   ]
  },
  {
   "cell_type": "code",
   "execution_count": 123,
   "id": "2d27b1f0",
   "metadata": {},
   "outputs": [
    {
     "data": {
      "text/plain": [
       "(62.5, 55.769230769230774)"
      ]
     },
     "execution_count": 123,
     "metadata": {},
     "output_type": "execute_result"
    }
   ],
   "source": [
    "(cm1[1][1]+cm1[0][1])/len(y_validation_november)*100, (cm2[1][1]+cm2[0][1])/len(y_validation_november)*100"
   ]
  },
  {
   "cell_type": "code",
   "execution_count": null,
   "id": "cf91be4f",
   "metadata": {},
   "outputs": [],
   "source": []
  }
 ],
 "metadata": {
  "kernelspec": {
   "display_name": "Python 3 (ipykernel)",
   "language": "python",
   "name": "python3"
  },
  "language_info": {
   "codemirror_mode": {
    "name": "ipython",
    "version": 3
   },
   "file_extension": ".py",
   "mimetype": "text/x-python",
   "name": "python",
   "nbconvert_exporter": "python",
   "pygments_lexer": "ipython3",
   "version": "3.7.11"
  }
 },
 "nbformat": 4,
 "nbformat_minor": 5
}
