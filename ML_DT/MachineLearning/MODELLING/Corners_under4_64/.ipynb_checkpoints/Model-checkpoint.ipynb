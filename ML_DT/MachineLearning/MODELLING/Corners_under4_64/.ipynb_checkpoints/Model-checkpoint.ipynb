{
 "cells": [
  {
   "cell_type": "code",
   "execution_count": 1,
   "id": "0705929c",
   "metadata": {},
   "outputs": [],
   "source": [
    "import pymysql\n",
    "from sklearn.ensemble import RandomForestClassifier\n",
    "from sqlalchemy import create_engine\n",
    "import pandas as pd\n",
    "import matplotlib.pyplot as plt\n",
    "%matplotlib inline\n",
    "import numpy as np\n",
    "from pandasql import sqldf\n",
    "from sklearn import metrics\n",
    "\n",
    "import xgboost as xgb\n",
    "from sklearn.metrics import accuracy_score, confusion_matrix"
   ]
  },
  {
   "cell_type": "code",
   "execution_count": 310,
   "id": "0121f51f",
   "metadata": {},
   "outputs": [],
   "source": [
    "data = pd.read_csv(\"../../FEATURE_ENGINEER/tablon_undert_63_q4.csv\")\n",
    "\n",
    "data = data[data.TOTAL_CORNERS>3]\n",
    "\n",
    "tablon = data[data.YEARMONTH<202109][[\"AVG_CORNERSHOMED1_L3\",\n",
    "                                                                 \"AVG_CORNERSHOMED2_L5\", \"AVG_CORNERSAWAYD1_L5\",\n",
    "                                      \"CORNERS_DIV_SHOTS\",\"AVG_CORNERSAWAYD2_L5\", \"LEAGUE_INGLATERRA\", \"TOTAL_CORNERS\",\n",
    "                                      \"LAST_MINUTECORNER_H_L60\", \"LAST_MINUTECORNER_A_L60\", \"SUM_CORNERS_L60\",\n",
    "                                      \"AVG_CORNERS_LOSE_HOME\",\"CORNERS_A\", \"AVG_CORNERSHOMED1_L5\", \n",
    "                                      \"output\",\"TOTAL_CORNERS_45_60\"]]\n",
    "\n",
    "\n",
    "X_validation = data[(data.YEARMONTH>=202109) & (data.YEARMONTH<202111)][[\"AVG_CORNERSHOMED1_L3\",\"AVG_CORNERSHOMED2_L5\",\n",
    "                                                                          \"AVG_CORNERSAWAYD1_L5\",\n",
    "                                      \"CORNERS_DIV_SHOTS\",\"AVG_CORNERSAWAYD2_L5\", \"LEAGUE_INGLATERRA\", \"TOTAL_CORNERS\",\n",
    "                                      \"LAST_MINUTECORNER_H_L60\", \"LAST_MINUTECORNER_A_L60\", \"SUM_CORNERS_L60\",\n",
    "                                      \"AVG_CORNERS_LOSE_HOME\",\"CORNERS_A\", \"AVG_CORNERSHOMED1_L5\", \n",
    "                                      \"output\",\"TOTAL_CORNERS_45_60\"]]\n",
    "y_validation = X_validation.pop(\"output\")\n",
    "\n",
    "\n",
    "X_validation_november = data[data.YEARMONTH>=202111][[\"AVG_CORNERSHOMED1_L3\",\"AVG_CORNERSHOMED2_L5\", \"AVG_CORNERSAWAYD1_L5\",\n",
    "                                      \"CORNERS_DIV_SHOTS\",\"AVG_CORNERSAWAYD2_L5\", \"LEAGUE_INGLATERRA\", \"TOTAL_CORNERS\",\n",
    "                                      \"LAST_MINUTECORNER_H_L60\", \"LAST_MINUTECORNER_A_L60\", \"SUM_CORNERS_L60\",\n",
    "                                      \"AVG_CORNERS_LOSE_HOME\",\"CORNERS_A\", \"AVG_CORNERSHOMED1_L5\", \n",
    "                                      \"output\",\"TOTAL_CORNERS_45_60\"]]\n",
    "y_validation_november = X_validation_november.pop(\"output\")"
   ]
  },
  {
   "cell_type": "code",
   "execution_count": 311,
   "id": "5ad0b69b",
   "metadata": {},
   "outputs": [],
   "source": [
    "len_test = int(round(len(tablon)*0.3, 0))\n",
    "len_train = int(round(len(tablon)*0.7, 0))"
   ]
  },
  {
   "cell_type": "code",
   "execution_count": 312,
   "id": "b3d8b56c",
   "metadata": {},
   "outputs": [],
   "source": [
    "X_train = tablon[:len_train]\n",
    "y_train = X_train.pop(\"output\")\n",
    "X_test = tablon[len_train:(len_train+len_test)]\n",
    "y_test = X_test.pop(\"output\")"
   ]
  },
  {
   "cell_type": "code",
   "execution_count": 313,
   "id": "3fe938f9",
   "metadata": {},
   "outputs": [
    {
     "data": {
      "text/plain": [
       "((6131, 14), (2628, 14), (293, 14))"
      ]
     },
     "execution_count": 313,
     "metadata": {},
     "output_type": "execute_result"
    }
   ],
   "source": [
    "X_train.shape, X_test.shape, X_validation.shape"
   ]
  },
  {
   "cell_type": "code",
   "execution_count": 314,
   "id": "e4371695",
   "metadata": {},
   "outputs": [
    {
     "data": {
      "text/plain": [
       "1    3799\n",
       "0    2332\n",
       "Name: output, dtype: int64"
      ]
     },
     "execution_count": 314,
     "metadata": {},
     "output_type": "execute_result"
    }
   ],
   "source": [
    "y_train.value_counts()"
   ]
  },
  {
   "cell_type": "code",
   "execution_count": 315,
   "id": "f73ee8e1",
   "metadata": {},
   "outputs": [
    {
     "data": {
      "text/plain": [
       "1    1721\n",
       "0     907\n",
       "Name: output, dtype: int64"
      ]
     },
     "execution_count": 315,
     "metadata": {},
     "output_type": "execute_result"
    }
   ],
   "source": [
    "y_test.value_counts()"
   ]
  },
  {
   "cell_type": "code",
   "execution_count": 316,
   "id": "b178d2af",
   "metadata": {},
   "outputs": [
    {
     "data": {
      "text/plain": [
       "1    199\n",
       "0     94\n",
       "Name: output, dtype: int64"
      ]
     },
     "execution_count": 316,
     "metadata": {},
     "output_type": "execute_result"
    }
   ],
   "source": [
    "y_validation.value_counts()"
   ]
  },
  {
   "cell_type": "markdown",
   "id": "35058c53",
   "metadata": {},
   "source": [
    "## EXECUTING BEST MODEL"
   ]
  },
  {
   "cell_type": "code",
   "execution_count": 290,
   "id": "9353c5e4",
   "metadata": {},
   "outputs": [
    {
     "name": "stdout",
     "output_type": "stream",
     "text": [
      "[0]\tvalidation_0-auc:0.53765\tvalidation_0-logloss:0.69186\tvalidation_0-error:0.34501\n"
     ]
    },
    {
     "name": "stderr",
     "output_type": "stream",
     "text": [
      "/home/root/opt/python3.7.11/lib/python3.7/site-packages/xgboost/sklearn.py:1224: UserWarning: The use of label encoder in XGBClassifier is deprecated and will be removed in a future release. To remove this warning, do the following: 1) Pass option use_label_encoder=False when constructing XGBClassifier object; and 2) Encode your labels (y) as integers starting with 0, i.e. 0, 1, 2, ..., [num_class - 1].\n",
      "  warnings.warn(label_encoder_deprecation_msg, UserWarning)\n"
     ]
    },
    {
     "name": "stdout",
     "output_type": "stream",
     "text": [
      "[1]\tvalidation_0-auc:0.54389\tvalidation_0-logloss:0.69063\tvalidation_0-error:0.34501\n",
      "[2]\tvalidation_0-auc:0.55851\tvalidation_0-logloss:0.68939\tvalidation_0-error:0.34463\n",
      "[3]\tvalidation_0-auc:0.56225\tvalidation_0-logloss:0.68820\tvalidation_0-error:0.34463\n",
      "[4]\tvalidation_0-auc:0.56072\tvalidation_0-logloss:0.68706\tvalidation_0-error:0.34501\n",
      "[5]\tvalidation_0-auc:0.55618\tvalidation_0-logloss:0.68598\tvalidation_0-error:0.34501\n",
      "[6]\tvalidation_0-auc:0.55511\tvalidation_0-logloss:0.68492\tvalidation_0-error:0.34501\n",
      "[7]\tvalidation_0-auc:0.55728\tvalidation_0-logloss:0.68388\tvalidation_0-error:0.34501\n",
      "[8]\tvalidation_0-auc:0.55762\tvalidation_0-logloss:0.68285\tvalidation_0-error:0.34463\n",
      "[9]\tvalidation_0-auc:0.55698\tvalidation_0-logloss:0.68185\tvalidation_0-error:0.34463\n",
      "[10]\tvalidation_0-auc:0.55708\tvalidation_0-logloss:0.68086\tvalidation_0-error:0.34501\n",
      "[11]\tvalidation_0-auc:0.55627\tvalidation_0-logloss:0.67991\tvalidation_0-error:0.34463\n",
      "[12]\tvalidation_0-auc:0.55490\tvalidation_0-logloss:0.67900\tvalidation_0-error:0.34463\n",
      "[13]\tvalidation_0-auc:0.55573\tvalidation_0-logloss:0.67806\tvalidation_0-error:0.34463\n",
      "[14]\tvalidation_0-auc:0.55641\tvalidation_0-logloss:0.67714\tvalidation_0-error:0.34501\n",
      "[15]\tvalidation_0-auc:0.55594\tvalidation_0-logloss:0.67629\tvalidation_0-error:0.34501\n",
      "[16]\tvalidation_0-auc:0.55443\tvalidation_0-logloss:0.67548\tvalidation_0-error:0.34463\n",
      "[17]\tvalidation_0-auc:0.55448\tvalidation_0-logloss:0.67465\tvalidation_0-error:0.34501\n",
      "[18]\tvalidation_0-auc:0.55474\tvalidation_0-logloss:0.67385\tvalidation_0-error:0.34463\n",
      "[19]\tvalidation_0-auc:0.55339\tvalidation_0-logloss:0.67312\tvalidation_0-error:0.34501\n",
      "[20]\tvalidation_0-auc:0.55306\tvalidation_0-logloss:0.67237\tvalidation_0-error:0.34540\n",
      "[21]\tvalidation_0-auc:0.55364\tvalidation_0-logloss:0.67160\tvalidation_0-error:0.34463\n",
      "[22]\tvalidation_0-auc:0.55253\tvalidation_0-logloss:0.67093\tvalidation_0-error:0.34501\n",
      "[23]\tvalidation_0-auc:0.55211\tvalidation_0-logloss:0.67022\tvalidation_0-error:0.34501\n",
      "[24]\tvalidation_0-auc:0.55223\tvalidation_0-logloss:0.66953\tvalidation_0-error:0.34501\n",
      "[25]\tvalidation_0-auc:0.55240\tvalidation_0-logloss:0.66883\tvalidation_0-error:0.34501\n",
      "[26]\tvalidation_0-auc:0.55199\tvalidation_0-logloss:0.66819\tvalidation_0-error:0.34463\n",
      "[27]\tvalidation_0-auc:0.55205\tvalidation_0-logloss:0.66756\tvalidation_0-error:0.34501\n",
      "[28]\tvalidation_0-auc:0.55201\tvalidation_0-logloss:0.66694\tvalidation_0-error:0.34463\n",
      "[29]\tvalidation_0-auc:0.55285\tvalidation_0-logloss:0.66627\tvalidation_0-error:0.34463\n",
      "[30]\tvalidation_0-auc:0.55312\tvalidation_0-logloss:0.66565\tvalidation_0-error:0.34463\n",
      "[31]\tvalidation_0-auc:0.55334\tvalidation_0-logloss:0.66507\tvalidation_0-error:0.34501\n",
      "[32]\tvalidation_0-auc:0.55400\tvalidation_0-logloss:0.66445\tvalidation_0-error:0.34501\n",
      "[33]\tvalidation_0-auc:0.55370\tvalidation_0-logloss:0.66389\tvalidation_0-error:0.34463\n",
      "[34]\tvalidation_0-auc:0.55310\tvalidation_0-logloss:0.66334\tvalidation_0-error:0.34463\n",
      "[35]\tvalidation_0-auc:0.55434\tvalidation_0-logloss:0.66276\tvalidation_0-error:0.34501\n",
      "[36]\tvalidation_0-auc:0.55495\tvalidation_0-logloss:0.66219\tvalidation_0-error:0.34501\n",
      "[37]\tvalidation_0-auc:0.55540\tvalidation_0-logloss:0.66164\tvalidation_0-error:0.34463\n",
      "[38]\tvalidation_0-auc:0.55601\tvalidation_0-logloss:0.66110\tvalidation_0-error:0.34463\n",
      "[39]\tvalidation_0-auc:0.55628\tvalidation_0-logloss:0.66062\tvalidation_0-error:0.34463\n",
      "[40]\tvalidation_0-auc:0.55563\tvalidation_0-logloss:0.66015\tvalidation_0-error:0.34463\n",
      "[41]\tvalidation_0-auc:0.55600\tvalidation_0-logloss:0.65966\tvalidation_0-error:0.34463\n",
      "[42]\tvalidation_0-auc:0.55621\tvalidation_0-logloss:0.65917\tvalidation_0-error:0.34463\n",
      "[43]\tvalidation_0-auc:0.55610\tvalidation_0-logloss:0.65876\tvalidation_0-error:0.34463\n",
      "[44]\tvalidation_0-auc:0.55574\tvalidation_0-logloss:0.65832\tvalidation_0-error:0.34463\n",
      "[45]\tvalidation_0-auc:0.55538\tvalidation_0-logloss:0.65795\tvalidation_0-error:0.34463\n",
      "[46]\tvalidation_0-auc:0.55578\tvalidation_0-logloss:0.65752\tvalidation_0-error:0.34463\n",
      "[47]\tvalidation_0-auc:0.55572\tvalidation_0-logloss:0.65712\tvalidation_0-error:0.34463\n",
      "[48]\tvalidation_0-auc:0.55578\tvalidation_0-logloss:0.65672\tvalidation_0-error:0.34463\n",
      "[49]\tvalidation_0-auc:0.55591\tvalidation_0-logloss:0.65633\tvalidation_0-error:0.34501\n",
      "[50]\tvalidation_0-auc:0.55593\tvalidation_0-logloss:0.65593\tvalidation_0-error:0.34463\n",
      "[51]\tvalidation_0-auc:0.55588\tvalidation_0-logloss:0.65556\tvalidation_0-error:0.34463\n",
      "[52]\tvalidation_0-auc:0.55617\tvalidation_0-logloss:0.65521\tvalidation_0-error:0.34463\n",
      "[53]\tvalidation_0-auc:0.55591\tvalidation_0-logloss:0.65486\tvalidation_0-error:0.34501\n",
      "[54]\tvalidation_0-auc:0.55619\tvalidation_0-logloss:0.65450\tvalidation_0-error:0.34501\n",
      "[55]\tvalidation_0-auc:0.55588\tvalidation_0-logloss:0.65420\tvalidation_0-error:0.34463\n",
      "[56]\tvalidation_0-auc:0.55527\tvalidation_0-logloss:0.65392\tvalidation_0-error:0.34463\n",
      "[57]\tvalidation_0-auc:0.55546\tvalidation_0-logloss:0.65360\tvalidation_0-error:0.34463\n",
      "[58]\tvalidation_0-auc:0.55495\tvalidation_0-logloss:0.65333\tvalidation_0-error:0.34463\n",
      "[59]\tvalidation_0-auc:0.55454\tvalidation_0-logloss:0.65305\tvalidation_0-error:0.34463\n",
      "[60]\tvalidation_0-auc:0.55427\tvalidation_0-logloss:0.65277\tvalidation_0-error:0.34463\n",
      "[61]\tvalidation_0-auc:0.55382\tvalidation_0-logloss:0.65249\tvalidation_0-error:0.34463\n",
      "[62]\tvalidation_0-auc:0.55341\tvalidation_0-logloss:0.65225\tvalidation_0-error:0.34463\n",
      "[63]\tvalidation_0-auc:0.55333\tvalidation_0-logloss:0.65196\tvalidation_0-error:0.34463\n",
      "[64]\tvalidation_0-auc:0.55338\tvalidation_0-logloss:0.65170\tvalidation_0-error:0.34463\n",
      "[65]\tvalidation_0-auc:0.55352\tvalidation_0-logloss:0.65141\tvalidation_0-error:0.34463\n",
      "[66]\tvalidation_0-auc:0.55369\tvalidation_0-logloss:0.65113\tvalidation_0-error:0.34463\n",
      "[67]\tvalidation_0-auc:0.55382\tvalidation_0-logloss:0.65087\tvalidation_0-error:0.34463\n",
      "[68]\tvalidation_0-auc:0.55365\tvalidation_0-logloss:0.65063\tvalidation_0-error:0.34463\n",
      "[69]\tvalidation_0-auc:0.55425\tvalidation_0-logloss:0.65033\tvalidation_0-error:0.34463\n",
      "[70]\tvalidation_0-auc:0.55414\tvalidation_0-logloss:0.65009\tvalidation_0-error:0.34463\n",
      "[71]\tvalidation_0-auc:0.55429\tvalidation_0-logloss:0.64985\tvalidation_0-error:0.34463\n",
      "[72]\tvalidation_0-auc:0.55428\tvalidation_0-logloss:0.64962\tvalidation_0-error:0.34463\n",
      "[73]\tvalidation_0-auc:0.55462\tvalidation_0-logloss:0.64937\tvalidation_0-error:0.34501\n",
      "[74]\tvalidation_0-auc:0.55471\tvalidation_0-logloss:0.64917\tvalidation_0-error:0.34501\n",
      "[75]\tvalidation_0-auc:0.55483\tvalidation_0-logloss:0.64896\tvalidation_0-error:0.34501\n",
      "[76]\tvalidation_0-auc:0.55409\tvalidation_0-logloss:0.64880\tvalidation_0-error:0.34501\n",
      "[77]\tvalidation_0-auc:0.55476\tvalidation_0-logloss:0.64854\tvalidation_0-error:0.34501\n",
      "[78]\tvalidation_0-auc:0.55424\tvalidation_0-logloss:0.64837\tvalidation_0-error:0.34501\n",
      "[79]\tvalidation_0-auc:0.55451\tvalidation_0-logloss:0.64816\tvalidation_0-error:0.34540\n",
      "[80]\tvalidation_0-auc:0.55479\tvalidation_0-logloss:0.64794\tvalidation_0-error:0.34540\n",
      "[81]\tvalidation_0-auc:0.55489\tvalidation_0-logloss:0.64775\tvalidation_0-error:0.34540\n",
      "[82]\tvalidation_0-auc:0.55494\tvalidation_0-logloss:0.64758\tvalidation_0-error:0.34501\n",
      "[83]\tvalidation_0-auc:0.55491\tvalidation_0-logloss:0.64740\tvalidation_0-error:0.34501\n",
      "[84]\tvalidation_0-auc:0.55503\tvalidation_0-logloss:0.64723\tvalidation_0-error:0.34501\n",
      "[85]\tvalidation_0-auc:0.55468\tvalidation_0-logloss:0.64709\tvalidation_0-error:0.34501\n",
      "[86]\tvalidation_0-auc:0.55424\tvalidation_0-logloss:0.64695\tvalidation_0-error:0.34501\n",
      "[87]\tvalidation_0-auc:0.55410\tvalidation_0-logloss:0.64679\tvalidation_0-error:0.34501\n",
      "[88]\tvalidation_0-auc:0.55381\tvalidation_0-logloss:0.64665\tvalidation_0-error:0.34501\n",
      "[89]\tvalidation_0-auc:0.55366\tvalidation_0-logloss:0.64650\tvalidation_0-error:0.34501\n",
      "[90]\tvalidation_0-auc:0.55351\tvalidation_0-logloss:0.64636\tvalidation_0-error:0.34501\n",
      "[91]\tvalidation_0-auc:0.55346\tvalidation_0-logloss:0.64620\tvalidation_0-error:0.34501\n",
      "[92]\tvalidation_0-auc:0.55339\tvalidation_0-logloss:0.64606\tvalidation_0-error:0.34501\n",
      "[93]\tvalidation_0-auc:0.55312\tvalidation_0-logloss:0.64594\tvalidation_0-error:0.34501\n",
      "[94]\tvalidation_0-auc:0.55239\tvalidation_0-logloss:0.64587\tvalidation_0-error:0.34501\n",
      "[95]\tvalidation_0-auc:0.55195\tvalidation_0-logloss:0.64577\tvalidation_0-error:0.34501\n",
      "[96]\tvalidation_0-auc:0.55173\tvalidation_0-logloss:0.64565\tvalidation_0-error:0.34501\n"
     ]
    },
    {
     "name": "stdout",
     "output_type": "stream",
     "text": [
      "[97]\tvalidation_0-auc:0.55130\tvalidation_0-logloss:0.64554\tvalidation_0-error:0.34501\n",
      "[98]\tvalidation_0-auc:0.55103\tvalidation_0-logloss:0.64543\tvalidation_0-error:0.34501\n",
      "[99]\tvalidation_0-auc:0.55067\tvalidation_0-logloss:0.64534\tvalidation_0-error:0.34501\n",
      "[100]\tvalidation_0-auc:0.55065\tvalidation_0-logloss:0.64521\tvalidation_0-error:0.34501\n",
      "[101]\tvalidation_0-auc:0.55022\tvalidation_0-logloss:0.64513\tvalidation_0-error:0.34501\n",
      "[102]\tvalidation_0-auc:0.54971\tvalidation_0-logloss:0.64506\tvalidation_0-error:0.34501\n",
      "[103]\tvalidation_0-auc:0.54925\tvalidation_0-logloss:0.64501\tvalidation_0-error:0.34501\n",
      "[104]\tvalidation_0-auc:0.54957\tvalidation_0-logloss:0.64487\tvalidation_0-error:0.34501\n",
      "[105]\tvalidation_0-auc:0.54929\tvalidation_0-logloss:0.64478\tvalidation_0-error:0.34501\n",
      "[106]\tvalidation_0-auc:0.54965\tvalidation_0-logloss:0.64464\tvalidation_0-error:0.34501\n",
      "[107]\tvalidation_0-auc:0.54985\tvalidation_0-logloss:0.64453\tvalidation_0-error:0.34501\n",
      "[108]\tvalidation_0-auc:0.54950\tvalidation_0-logloss:0.64446\tvalidation_0-error:0.34540\n",
      "[109]\tvalidation_0-auc:0.54958\tvalidation_0-logloss:0.64435\tvalidation_0-error:0.34540\n",
      "[110]\tvalidation_0-auc:0.54920\tvalidation_0-logloss:0.64431\tvalidation_0-error:0.34540\n",
      "[111]\tvalidation_0-auc:0.54928\tvalidation_0-logloss:0.64421\tvalidation_0-error:0.34501\n",
      "[112]\tvalidation_0-auc:0.54943\tvalidation_0-logloss:0.64411\tvalidation_0-error:0.34501\n",
      "[113]\tvalidation_0-auc:0.54912\tvalidation_0-logloss:0.64405\tvalidation_0-error:0.34501\n",
      "[114]\tvalidation_0-auc:0.54904\tvalidation_0-logloss:0.64398\tvalidation_0-error:0.34540\n",
      "[115]\tvalidation_0-auc:0.54868\tvalidation_0-logloss:0.64393\tvalidation_0-error:0.34540\n",
      "[116]\tvalidation_0-auc:0.54851\tvalidation_0-logloss:0.64387\tvalidation_0-error:0.34540\n",
      "[117]\tvalidation_0-auc:0.54789\tvalidation_0-logloss:0.64382\tvalidation_0-error:0.34540\n",
      "[118]\tvalidation_0-auc:0.54739\tvalidation_0-logloss:0.64380\tvalidation_0-error:0.34540\n",
      "[119]\tvalidation_0-auc:0.54689\tvalidation_0-logloss:0.64378\tvalidation_0-error:0.34540\n",
      "[120]\tvalidation_0-auc:0.54717\tvalidation_0-logloss:0.64367\tvalidation_0-error:0.34540\n",
      "[121]\tvalidation_0-auc:0.54708\tvalidation_0-logloss:0.64360\tvalidation_0-error:0.34540\n",
      "[122]\tvalidation_0-auc:0.54703\tvalidation_0-logloss:0.64353\tvalidation_0-error:0.34540\n",
      "[123]\tvalidation_0-auc:0.54654\tvalidation_0-logloss:0.64351\tvalidation_0-error:0.34540\n",
      "[124]\tvalidation_0-auc:0.54642\tvalidation_0-logloss:0.64343\tvalidation_0-error:0.34540\n",
      "[125]\tvalidation_0-auc:0.54630\tvalidation_0-logloss:0.64339\tvalidation_0-error:0.34540\n",
      "[126]\tvalidation_0-auc:0.54614\tvalidation_0-logloss:0.64336\tvalidation_0-error:0.34540\n",
      "[127]\tvalidation_0-auc:0.54592\tvalidation_0-logloss:0.64331\tvalidation_0-error:0.34540\n",
      "[128]\tvalidation_0-auc:0.54588\tvalidation_0-logloss:0.64325\tvalidation_0-error:0.34540\n",
      "[129]\tvalidation_0-auc:0.54642\tvalidation_0-logloss:0.64312\tvalidation_0-error:0.34540\n"
     ]
    },
    {
     "data": {
      "text/plain": [
       "XGBClassifier(base_score=0.5, booster='gbtree', colsample_bylevel=1,\n",
       "              colsample_bynode=1, colsample_bytree=0.65,\n",
       "              enable_categorical=False, eta=0.015,\n",
       "              eval_metric=['auc', 'logloss', 'error'], gamma=1.25, gpu_id=-1,\n",
       "              importance_type=None, interaction_constraints='',\n",
       "              learning_rate=0.0149999997, max_delta_step=0, max_depth=6,\n",
       "              min_child_weight=30, missing=nan, monotone_constraints='()',\n",
       "              n_estimators=130, n_jobs=12, num_parallel_tree=1,\n",
       "              predictor='auto', random_state=123, reg_alpha=0, reg_lambda=1,\n",
       "              scale_pos_weight=1, subsample=1, tree_method='exact',\n",
       "              validate_parameters=1, verbosity=None)"
      ]
     },
     "execution_count": 290,
     "metadata": {},
     "output_type": "execute_result"
    }
   ],
   "source": [
    "model = xgb.XGBClassifier(objective='binary:logistic', n_estimators=130, max_depth=6, gamma=1.25, eta=0.015,\n",
    "                          min_child_weight=30, colsample_bytree=0.65, \n",
    "                          random_state=123, eval_metric=[\"auc\", \"logloss\", \"error\"])\n",
    "model.fit(X_train, y_train, eval_set=[(X_test, y_test)])"
   ]
  },
  {
   "cell_type": "code",
   "execution_count": 291,
   "id": "fd60cb85",
   "metadata": {},
   "outputs": [
    {
     "data": {
      "text/plain": [
       "<AxesSubplot:>"
      ]
     },
     "execution_count": 291,
     "metadata": {},
     "output_type": "execute_result"
    },
    {
     "data": {
      "image/png": "[encoded data removed]",
      "text/plain": [
       "<Figure size 432x288 with 1 Axes>"
      ]
     },
     "metadata": {
      "needs_background": "light"
     },
     "output_type": "display_data"
    }
   ],
   "source": [
    "fu_dict = dict(zip(X_train.columns, model.feature_importances_))\n",
    "fi = pd.DataFrame(fu_dict.values(), index=fu_dict.keys(), columns=[\"importance\"])\n",
    "fi = fi.sort_values(by=\"importance\", ascending=False)\n",
    "\n",
    "fi.plot.bar()"
   ]
  },
  {
   "cell_type": "code",
   "execution_count": 317,
   "id": "ff8a7a70",
   "metadata": {},
   "outputs": [
    {
     "data": {
      "text/plain": [
       "array([[   1,  906],\n",
       "       [   2, 1719]])"
      ]
     },
     "execution_count": 317,
     "metadata": {},
     "output_type": "execute_result"
    }
   ],
   "source": [
    "y_pred1 = model.predict(X_test)\n",
    "cm = confusion_matrix(y_test, y_pred1)\n",
    "cm"
   ]
  },
  {
   "cell_type": "code",
   "execution_count": 318,
   "id": "55f7e0eb",
   "metadata": {},
   "outputs": [],
   "source": [
    "y_pred_proba = model.predict_proba(X_test)[:,1]\n",
    "predict_mine = np.where(y_pred_proba > 0.63, 1, 0)\n",
    "cm1 = confusion_matrix(y_test, predict_mine)"
   ]
  },
  {
   "cell_type": "code",
   "execution_count": 319,
   "id": "2a080435",
   "metadata": {},
   "outputs": [
    {
     "data": {
      "text/plain": [
       "0.654490106544901"
      ]
     },
     "execution_count": 319,
     "metadata": {},
     "output_type": "execute_result"
    }
   ],
   "source": [
    "metrics.accuracy_score(y_test, y_pred1)"
   ]
  },
  {
   "cell_type": "code",
   "execution_count": 320,
   "id": "2a85372f",
   "metadata": {},
   "outputs": [
    {
     "data": {
      "text/plain": [
       "(0.7373493975903614, 0.3333333333333333)"
      ]
     },
     "execution_count": 320,
     "metadata": {},
     "output_type": "execute_result"
    }
   ],
   "source": [
    "cm1[1][1]/(cm1[1][1]+cm1[0][1]), cm[0][0]/(cm[1][0]+cm[0][0])"
   ]
  },
  {
   "cell_type": "code",
   "execution_count": 321,
   "id": "7e46167a",
   "metadata": {},
   "outputs": [
    {
     "data": {
      "text/plain": [
       "(15.791476407914764, 0.1141552511415525)"
      ]
     },
     "execution_count": 321,
     "metadata": {},
     "output_type": "execute_result"
    }
   ],
   "source": [
    "(cm1[1][1]+cm1[0][1])/len(y_test)*100, (cm[0][0]+cm[1][0])/len(y_test)*100"
   ]
  },
  {
   "cell_type": "markdown",
   "id": "bd2cf07a",
   "metadata": {},
   "source": [
    "# VALIDATION - BEST MODEL --> 70% accuracy in 17% of matches"
   ]
  },
  {
   "cell_type": "code",
   "execution_count": 322,
   "id": "31566b6c",
   "metadata": {},
   "outputs": [
    {
     "data": {
      "text/plain": [
       "array([[  0,  94],\n",
       "       [  0, 199]])"
      ]
     },
     "execution_count": 322,
     "metadata": {},
     "output_type": "execute_result"
    }
   ],
   "source": [
    "y_pred = model.predict(X_validation)\n",
    "cm = confusion_matrix(y_validation, y_pred)\n",
    "cm"
   ]
  },
  {
   "cell_type": "code",
   "execution_count": 323,
   "id": "960fa297",
   "metadata": {},
   "outputs": [
    {
     "data": {
      "text/plain": [
       "0.6791808873720137"
      ]
     },
     "execution_count": 323,
     "metadata": {},
     "output_type": "execute_result"
    }
   ],
   "source": [
    "metrics.accuracy_score(y_validation, y_pred)"
   ]
  },
  {
   "cell_type": "code",
   "execution_count": 324,
   "id": "e849fc15",
   "metadata": {},
   "outputs": [],
   "source": [
    "y_pred_proba = model.predict_proba(X_validation)[:,1]\n",
    "predict_mine = np.where(y_pred_proba > 0.63, 1, 0)\n",
    "cm1 = confusion_matrix(y_validation, predict_mine)"
   ]
  },
  {
   "cell_type": "code",
   "execution_count": 325,
   "id": "8792d422",
   "metadata": {},
   "outputs": [
    {
     "name": "stderr",
     "output_type": "stream",
     "text": [
      "/home/root/opt/python3.7.11/lib/python3.7/site-packages/ipykernel_launcher.py:1: RuntimeWarning: invalid value encountered in long_scalars\n",
      "  \"\"\"Entry point for launching an IPython kernel.\n"
     ]
    },
    {
     "data": {
      "text/plain": [
       "(0.7872340425531915, nan)"
      ]
     },
     "execution_count": 325,
     "metadata": {},
     "output_type": "execute_result"
    }
   ],
   "source": [
    "cm1[1][1]/(cm1[1][1]+cm1[0][1]), cm[0][0]/(cm[1][0]+cm[0][0])"
   ]
  },
  {
   "cell_type": "code",
   "execution_count": 326,
   "id": "e19d4fb4",
   "metadata": {},
   "outputs": [
    {
     "data": {
      "text/plain": [
       "(16.040955631399317, 0.0)"
      ]
     },
     "execution_count": 326,
     "metadata": {},
     "output_type": "execute_result"
    }
   ],
   "source": [
    "(cm1[1][1]+cm1[0][1])/len(y_validation)*100, (cm[0][0]+cm[1][0])/len(y_validation)*100"
   ]
  },
  {
   "cell_type": "code",
   "execution_count": 327,
   "id": "dbd587ba",
   "metadata": {},
   "outputs": [
    {
     "data": {
      "text/plain": [
       "array([[ 84,  10],\n",
       "       [162,  37]])"
      ]
     },
     "execution_count": 327,
     "metadata": {},
     "output_type": "execute_result"
    }
   ],
   "source": [
    "cm1"
   ]
  },
  {
   "cell_type": "code",
   "execution_count": null,
   "id": "ed65eb0a",
   "metadata": {},
   "outputs": [],
   "source": []
  },
  {
   "cell_type": "markdown",
   "id": "ad7f885b",
   "metadata": {},
   "source": [
    "## FINAL VALIDATION - NOVEMBER 2021"
   ]
  },
  {
   "cell_type": "code",
   "execution_count": 328,
   "id": "2ff81e36",
   "metadata": {},
   "outputs": [
    {
     "data": {
      "text/plain": [
       "array([[  0,  60],\n",
       "       [  0, 117]])"
      ]
     },
     "execution_count": 328,
     "metadata": {},
     "output_type": "execute_result"
    }
   ],
   "source": [
    "y_pred = model.predict(X_validation_november)\n",
    "cm = confusion_matrix(y_validation_november, y_pred)\n",
    "cm"
   ]
  },
  {
   "cell_type": "code",
   "execution_count": 329,
   "id": "6d5e72bf",
   "metadata": {},
   "outputs": [
    {
     "data": {
      "text/plain": [
       "0.6610169491525424"
      ]
     },
     "execution_count": 329,
     "metadata": {},
     "output_type": "execute_result"
    }
   ],
   "source": [
    "metrics.accuracy_score(y_validation_november, y_pred)"
   ]
  },
  {
   "cell_type": "code",
   "execution_count": 330,
   "id": "2bd44841",
   "metadata": {},
   "outputs": [],
   "source": [
    "y_pred_proba = model.predict_proba(X_validation_november)[:,1]\n",
    "predict_mine = np.where(y_pred_proba > 0.63, 1, 0)\n",
    "cm1 = confusion_matrix(y_validation_november, predict_mine)"
   ]
  },
  {
   "cell_type": "code",
   "execution_count": 331,
   "id": "b0f47d24",
   "metadata": {},
   "outputs": [
    {
     "data": {
      "text/plain": [
       "array([[53,  7],\n",
       "       [98, 19]])"
      ]
     },
     "execution_count": 331,
     "metadata": {},
     "output_type": "execute_result"
    }
   ],
   "source": [
    "cm1"
   ]
  },
  {
   "cell_type": "code",
   "execution_count": 332,
   "id": "8c44788e",
   "metadata": {},
   "outputs": [
    {
     "name": "stderr",
     "output_type": "stream",
     "text": [
      "/home/root/opt/python3.7.11/lib/python3.7/site-packages/ipykernel_launcher.py:1: RuntimeWarning: invalid value encountered in long_scalars\n",
      "  \"\"\"Entry point for launching an IPython kernel.\n"
     ]
    },
    {
     "data": {
      "text/plain": [
       "(0.7307692307692307, nan)"
      ]
     },
     "execution_count": 332,
     "metadata": {},
     "output_type": "execute_result"
    }
   ],
   "source": [
    "cm1[1][1]/(cm1[1][1]+cm1[0][1]), cm[0][0]/(cm[1][0]+cm[0][0])"
   ]
  },
  {
   "cell_type": "code",
   "execution_count": 333,
   "id": "9f8859f0",
   "metadata": {},
   "outputs": [
    {
     "data": {
      "text/plain": [
       "(14.689265536723164, 0.0)"
      ]
     },
     "execution_count": 333,
     "metadata": {},
     "output_type": "execute_result"
    }
   ],
   "source": [
    "(cm1[1][1]+cm1[0][1])/len(y_validation_november)*100, (cm[0][0]+cm[1][0])/len(y_validation_november)*100"
   ]
  },
  {
   "cell_type": "code",
   "execution_count": null,
   "id": "433abf23",
   "metadata": {},
   "outputs": [],
   "source": []
  },
  {
   "cell_type": "code",
   "execution_count": null,
   "id": "aba805c4",
   "metadata": {},
   "outputs": [],
   "source": []
  },
  {
   "cell_type": "code",
   "execution_count": 309,
   "id": "298f4916",
   "metadata": {},
   "outputs": [],
   "source": [
    "#umbral --> 0.63; Condition --> TOTAL_CORNERS > 3\n",
    "import pickle\n",
    "file_name = \"model_under4_63.pkl\"\n",
    "\n",
    "# save\n",
    "pickle.dump(model, open(file_name, \"wb\"))\n",
    "\n",
    "# load\n",
    "#xgb_model_loaded = pickle.load(open(file_name, \"rb\"))\n"
   ]
  },
  {
   "cell_type": "code",
   "execution_count": null,
   "id": "74594fdf",
   "metadata": {},
   "outputs": [],
   "source": []
  },
  {
   "cell_type": "markdown",
   "id": "fd483e1a",
   "metadata": {},
   "source": [
    "# OUTPUT"
   ]
  },
  {
   "cell_type": "code",
   "execution_count": 130,
   "id": "e438cbca",
   "metadata": {},
   "outputs": [],
   "source": [
    "output = data[(data.YEARMONTH>=202111 )& (data.TOTAL_CORNERS>3)][[\"ID\", \"output\", \"CORNERS_H\", \"CORNERS_A\", \"TOTAL_CORNERS\"]].reset_index(drop=True)"
   ]
  },
  {
   "cell_type": "code",
   "execution_count": 131,
   "id": "a9ace64f",
   "metadata": {},
   "outputs": [],
   "source": [
    "output[\"PROB_CORNERS\"] = pd.DataFrame(model.predict_proba(X_validation_november)[:,1]).iloc[:, 0]\\\n",
    "    .apply(lambda x: 1 if x>0.6 else 0)"
   ]
  },
  {
   "cell_type": "code",
   "execution_count": 132,
   "id": "a8486cc5",
   "metadata": {},
   "outputs": [
    {
     "data": {
      "text/html": [
       "<div>\n",
       "<style scoped>\n",
       "    .dataframe tbody tr th:only-of-type {\n",
       "        vertical-align: middle;\n",
       "    }\n",
       "\n",
       "    .dataframe tbody tr th {\n",
       "        vertical-align: top;\n",
       "    }\n",
       "\n",
       "    .dataframe thead th {\n",
       "        text-align: right;\n",
       "    }\n",
       "</style>\n",
       "<table border=\"1\" class=\"dataframe\">\n",
       "  <thead>\n",
       "    <tr style=\"text-align: right;\">\n",
       "      <th></th>\n",
       "      <th>ID</th>\n",
       "      <th>output</th>\n",
       "      <th>CORNERS_H</th>\n",
       "      <th>CORNERS_A</th>\n",
       "      <th>TOTAL_CORNERS</th>\n",
       "      <th>PROB_CORNERS</th>\n",
       "    </tr>\n",
       "  </thead>\n",
       "  <tbody>\n",
       "    <tr>\n",
       "      <th>0</th>\n",
       "      <td>E30fSmrc</td>\n",
       "      <td>1</td>\n",
       "      <td>5</td>\n",
       "      <td>0</td>\n",
       "      <td>5</td>\n",
       "      <td>1</td>\n",
       "    </tr>\n",
       "    <tr>\n",
       "      <th>1</th>\n",
       "      <td>nsYoAO57</td>\n",
       "      <td>1</td>\n",
       "      <td>5</td>\n",
       "      <td>1</td>\n",
       "      <td>6</td>\n",
       "      <td>1</td>\n",
       "    </tr>\n",
       "    <tr>\n",
       "      <th>2</th>\n",
       "      <td>p0AwSvlE</td>\n",
       "      <td>1</td>\n",
       "      <td>4</td>\n",
       "      <td>4</td>\n",
       "      <td>8</td>\n",
       "      <td>1</td>\n",
       "    </tr>\n",
       "    <tr>\n",
       "      <th>7</th>\n",
       "      <td>Oj9sRb3K</td>\n",
       "      <td>1</td>\n",
       "      <td>4</td>\n",
       "      <td>3</td>\n",
       "      <td>7</td>\n",
       "      <td>1</td>\n",
       "    </tr>\n",
       "    <tr>\n",
       "      <th>8</th>\n",
       "      <td>dCFxXoDK</td>\n",
       "      <td>1</td>\n",
       "      <td>2</td>\n",
       "      <td>4</td>\n",
       "      <td>6</td>\n",
       "      <td>1</td>\n",
       "    </tr>\n",
       "    <tr>\n",
       "      <th>9</th>\n",
       "      <td>vyLXXRcE</td>\n",
       "      <td>1</td>\n",
       "      <td>4</td>\n",
       "      <td>2</td>\n",
       "      <td>6</td>\n",
       "      <td>1</td>\n",
       "    </tr>\n",
       "    <tr>\n",
       "      <th>14</th>\n",
       "      <td>80vLFh5r</td>\n",
       "      <td>0</td>\n",
       "      <td>2</td>\n",
       "      <td>5</td>\n",
       "      <td>7</td>\n",
       "      <td>1</td>\n",
       "    </tr>\n",
       "    <tr>\n",
       "      <th>15</th>\n",
       "      <td>fZaDLxRs</td>\n",
       "      <td>0</td>\n",
       "      <td>1</td>\n",
       "      <td>7</td>\n",
       "      <td>8</td>\n",
       "      <td>1</td>\n",
       "    </tr>\n",
       "    <tr>\n",
       "      <th>16</th>\n",
       "      <td>ID8oQIIQ</td>\n",
       "      <td>1</td>\n",
       "      <td>5</td>\n",
       "      <td>1</td>\n",
       "      <td>6</td>\n",
       "      <td>1</td>\n",
       "    </tr>\n",
       "    <tr>\n",
       "      <th>17</th>\n",
       "      <td>GllMJGef</td>\n",
       "      <td>1</td>\n",
       "      <td>5</td>\n",
       "      <td>4</td>\n",
       "      <td>9</td>\n",
       "      <td>1</td>\n",
       "    </tr>\n",
       "    <tr>\n",
       "      <th>19</th>\n",
       "      <td>0S6SM1kD</td>\n",
       "      <td>1</td>\n",
       "      <td>2</td>\n",
       "      <td>2</td>\n",
       "      <td>4</td>\n",
       "      <td>1</td>\n",
       "    </tr>\n",
       "    <tr>\n",
       "      <th>20</th>\n",
       "      <td>0pMTY7r8</td>\n",
       "      <td>1</td>\n",
       "      <td>3</td>\n",
       "      <td>2</td>\n",
       "      <td>5</td>\n",
       "      <td>1</td>\n",
       "    </tr>\n",
       "    <tr>\n",
       "      <th>21</th>\n",
       "      <td>lAfHP35f</td>\n",
       "      <td>1</td>\n",
       "      <td>9</td>\n",
       "      <td>3</td>\n",
       "      <td>12</td>\n",
       "      <td>1</td>\n",
       "    </tr>\n",
       "    <tr>\n",
       "      <th>22</th>\n",
       "      <td>jRSOwxmQ</td>\n",
       "      <td>1</td>\n",
       "      <td>3</td>\n",
       "      <td>6</td>\n",
       "      <td>9</td>\n",
       "      <td>1</td>\n",
       "    </tr>\n",
       "    <tr>\n",
       "      <th>23</th>\n",
       "      <td>G8C3Wgu0</td>\n",
       "      <td>1</td>\n",
       "      <td>3</td>\n",
       "      <td>1</td>\n",
       "      <td>4</td>\n",
       "      <td>1</td>\n",
       "    </tr>\n",
       "    <tr>\n",
       "      <th>24</th>\n",
       "      <td>C6zouq5s</td>\n",
       "      <td>1</td>\n",
       "      <td>5</td>\n",
       "      <td>0</td>\n",
       "      <td>5</td>\n",
       "      <td>1</td>\n",
       "    </tr>\n",
       "    <tr>\n",
       "      <th>28</th>\n",
       "      <td>EVW1y146</td>\n",
       "      <td>0</td>\n",
       "      <td>3</td>\n",
       "      <td>3</td>\n",
       "      <td>6</td>\n",
       "      <td>1</td>\n",
       "    </tr>\n",
       "    <tr>\n",
       "      <th>29</th>\n",
       "      <td>zoLAZvZI</td>\n",
       "      <td>1</td>\n",
       "      <td>5</td>\n",
       "      <td>3</td>\n",
       "      <td>8</td>\n",
       "      <td>1</td>\n",
       "    </tr>\n",
       "    <tr>\n",
       "      <th>30</th>\n",
       "      <td>O0EhbOBJ</td>\n",
       "      <td>1</td>\n",
       "      <td>7</td>\n",
       "      <td>2</td>\n",
       "      <td>9</td>\n",
       "      <td>1</td>\n",
       "    </tr>\n",
       "    <tr>\n",
       "      <th>33</th>\n",
       "      <td>GhUwadeM</td>\n",
       "      <td>0</td>\n",
       "      <td>4</td>\n",
       "      <td>2</td>\n",
       "      <td>6</td>\n",
       "      <td>1</td>\n",
       "    </tr>\n",
       "    <tr>\n",
       "      <th>35</th>\n",
       "      <td>8MwJ3Kti</td>\n",
       "      <td>0</td>\n",
       "      <td>4</td>\n",
       "      <td>4</td>\n",
       "      <td>8</td>\n",
       "      <td>1</td>\n",
       "    </tr>\n",
       "    <tr>\n",
       "      <th>36</th>\n",
       "      <td>UySR1bB3</td>\n",
       "      <td>0</td>\n",
       "      <td>5</td>\n",
       "      <td>0</td>\n",
       "      <td>5</td>\n",
       "      <td>1</td>\n",
       "    </tr>\n",
       "    <tr>\n",
       "      <th>40</th>\n",
       "      <td>xO0CUX9C</td>\n",
       "      <td>1</td>\n",
       "      <td>4</td>\n",
       "      <td>4</td>\n",
       "      <td>8</td>\n",
       "      <td>1</td>\n",
       "    </tr>\n",
       "    <tr>\n",
       "      <th>41</th>\n",
       "      <td>dfM6zLJC</td>\n",
       "      <td>1</td>\n",
       "      <td>4</td>\n",
       "      <td>6</td>\n",
       "      <td>10</td>\n",
       "      <td>1</td>\n",
       "    </tr>\n",
       "    <tr>\n",
       "      <th>42</th>\n",
       "      <td>8YTgwNZg</td>\n",
       "      <td>1</td>\n",
       "      <td>7</td>\n",
       "      <td>0</td>\n",
       "      <td>7</td>\n",
       "      <td>1</td>\n",
       "    </tr>\n",
       "    <tr>\n",
       "      <th>43</th>\n",
       "      <td>ruWV0IQ9</td>\n",
       "      <td>0</td>\n",
       "      <td>2</td>\n",
       "      <td>6</td>\n",
       "      <td>8</td>\n",
       "      <td>1</td>\n",
       "    </tr>\n",
       "    <tr>\n",
       "      <th>44</th>\n",
       "      <td>nDxN2vdc</td>\n",
       "      <td>0</td>\n",
       "      <td>4</td>\n",
       "      <td>4</td>\n",
       "      <td>8</td>\n",
       "      <td>1</td>\n",
       "    </tr>\n",
       "    <tr>\n",
       "      <th>45</th>\n",
       "      <td>WKAiZees</td>\n",
       "      <td>1</td>\n",
       "      <td>1</td>\n",
       "      <td>5</td>\n",
       "      <td>6</td>\n",
       "      <td>1</td>\n",
       "    </tr>\n",
       "    <tr>\n",
       "      <th>46</th>\n",
       "      <td>ruh1GcQd</td>\n",
       "      <td>1</td>\n",
       "      <td>3</td>\n",
       "      <td>5</td>\n",
       "      <td>8</td>\n",
       "      <td>1</td>\n",
       "    </tr>\n",
       "    <tr>\n",
       "      <th>48</th>\n",
       "      <td>z19YlKY5</td>\n",
       "      <td>1</td>\n",
       "      <td>4</td>\n",
       "      <td>3</td>\n",
       "      <td>7</td>\n",
       "      <td>1</td>\n",
       "    </tr>\n",
       "    <tr>\n",
       "      <th>51</th>\n",
       "      <td>2iDdcrRP</td>\n",
       "      <td>1</td>\n",
       "      <td>3</td>\n",
       "      <td>2</td>\n",
       "      <td>5</td>\n",
       "      <td>1</td>\n",
       "    </tr>\n",
       "    <tr>\n",
       "      <th>53</th>\n",
       "      <td>UefDDeAF</td>\n",
       "      <td>1</td>\n",
       "      <td>1</td>\n",
       "      <td>6</td>\n",
       "      <td>7</td>\n",
       "      <td>1</td>\n",
       "    </tr>\n",
       "    <tr>\n",
       "      <th>55</th>\n",
       "      <td>CKqICFPL</td>\n",
       "      <td>1</td>\n",
       "      <td>3</td>\n",
       "      <td>6</td>\n",
       "      <td>9</td>\n",
       "      <td>1</td>\n",
       "    </tr>\n",
       "    <tr>\n",
       "      <th>56</th>\n",
       "      <td>MVj5FHu3</td>\n",
       "      <td>1</td>\n",
       "      <td>2</td>\n",
       "      <td>4</td>\n",
       "      <td>6</td>\n",
       "      <td>1</td>\n",
       "    </tr>\n",
       "    <tr>\n",
       "      <th>59</th>\n",
       "      <td>8YkPh2Zt</td>\n",
       "      <td>1</td>\n",
       "      <td>3</td>\n",
       "      <td>2</td>\n",
       "      <td>5</td>\n",
       "      <td>1</td>\n",
       "    </tr>\n",
       "    <tr>\n",
       "      <th>61</th>\n",
       "      <td>KjzAVVXp</td>\n",
       "      <td>0</td>\n",
       "      <td>3</td>\n",
       "      <td>3</td>\n",
       "      <td>6</td>\n",
       "      <td>1</td>\n",
       "    </tr>\n",
       "    <tr>\n",
       "      <th>62</th>\n",
       "      <td>zwBAgzJq</td>\n",
       "      <td>1</td>\n",
       "      <td>7</td>\n",
       "      <td>1</td>\n",
       "      <td>8</td>\n",
       "      <td>1</td>\n",
       "    </tr>\n",
       "    <tr>\n",
       "      <th>64</th>\n",
       "      <td>Y7ekMDA0</td>\n",
       "      <td>1</td>\n",
       "      <td>2</td>\n",
       "      <td>6</td>\n",
       "      <td>8</td>\n",
       "      <td>1</td>\n",
       "    </tr>\n",
       "    <tr>\n",
       "      <th>67</th>\n",
       "      <td>8CG4iDf4</td>\n",
       "      <td>0</td>\n",
       "      <td>2</td>\n",
       "      <td>3</td>\n",
       "      <td>5</td>\n",
       "      <td>1</td>\n",
       "    </tr>\n",
       "    <tr>\n",
       "      <th>70</th>\n",
       "      <td>lMOCkiPG</td>\n",
       "      <td>1</td>\n",
       "      <td>5</td>\n",
       "      <td>4</td>\n",
       "      <td>9</td>\n",
       "      <td>1</td>\n",
       "    </tr>\n",
       "    <tr>\n",
       "      <th>71</th>\n",
       "      <td>rqOGlBvN</td>\n",
       "      <td>1</td>\n",
       "      <td>3</td>\n",
       "      <td>4</td>\n",
       "      <td>7</td>\n",
       "      <td>1</td>\n",
       "    </tr>\n",
       "    <tr>\n",
       "      <th>72</th>\n",
       "      <td>6FGUr2cI</td>\n",
       "      <td>1</td>\n",
       "      <td>6</td>\n",
       "      <td>5</td>\n",
       "      <td>11</td>\n",
       "      <td>1</td>\n",
       "    </tr>\n",
       "    <tr>\n",
       "      <th>73</th>\n",
       "      <td>0nDdgZPi</td>\n",
       "      <td>1</td>\n",
       "      <td>3</td>\n",
       "      <td>10</td>\n",
       "      <td>13</td>\n",
       "      <td>1</td>\n",
       "    </tr>\n",
       "    <tr>\n",
       "      <th>74</th>\n",
       "      <td>MgZi6D2k</td>\n",
       "      <td>0</td>\n",
       "      <td>4</td>\n",
       "      <td>4</td>\n",
       "      <td>8</td>\n",
       "      <td>1</td>\n",
       "    </tr>\n",
       "    <tr>\n",
       "      <th>76</th>\n",
       "      <td>GSpmQYgL</td>\n",
       "      <td>1</td>\n",
       "      <td>5</td>\n",
       "      <td>0</td>\n",
       "      <td>5</td>\n",
       "      <td>1</td>\n",
       "    </tr>\n",
       "    <tr>\n",
       "      <th>77</th>\n",
       "      <td>xxnqREvF</td>\n",
       "      <td>0</td>\n",
       "      <td>6</td>\n",
       "      <td>6</td>\n",
       "      <td>12</td>\n",
       "      <td>1</td>\n",
       "    </tr>\n",
       "    <tr>\n",
       "      <th>83</th>\n",
       "      <td>xI3tKroU</td>\n",
       "      <td>0</td>\n",
       "      <td>4</td>\n",
       "      <td>5</td>\n",
       "      <td>9</td>\n",
       "      <td>1</td>\n",
       "    </tr>\n",
       "    <tr>\n",
       "      <th>84</th>\n",
       "      <td>lG5l5XHe</td>\n",
       "      <td>1</td>\n",
       "      <td>2</td>\n",
       "      <td>2</td>\n",
       "      <td>4</td>\n",
       "      <td>1</td>\n",
       "    </tr>\n",
       "    <tr>\n",
       "      <th>86</th>\n",
       "      <td>EFCLO6Wb</td>\n",
       "      <td>1</td>\n",
       "      <td>6</td>\n",
       "      <td>2</td>\n",
       "      <td>8</td>\n",
       "      <td>1</td>\n",
       "    </tr>\n",
       "    <tr>\n",
       "      <th>87</th>\n",
       "      <td>445YL4GH</td>\n",
       "      <td>1</td>\n",
       "      <td>5</td>\n",
       "      <td>1</td>\n",
       "      <td>6</td>\n",
       "      <td>1</td>\n",
       "    </tr>\n",
       "    <tr>\n",
       "      <th>88</th>\n",
       "      <td>Ewe8F2go</td>\n",
       "      <td>1</td>\n",
       "      <td>6</td>\n",
       "      <td>2</td>\n",
       "      <td>8</td>\n",
       "      <td>1</td>\n",
       "    </tr>\n",
       "  </tbody>\n",
       "</table>\n",
       "</div>"
      ],
      "text/plain": [
       "          ID  output  CORNERS_H  CORNERS_A  TOTAL_CORNERS  PROB_CORNERS\n",
       "0   E30fSmrc       1          5          0              5             1\n",
       "1   nsYoAO57       1          5          1              6             1\n",
       "2   p0AwSvlE       1          4          4              8             1\n",
       "7   Oj9sRb3K       1          4          3              7             1\n",
       "8   dCFxXoDK       1          2          4              6             1\n",
       "9   vyLXXRcE       1          4          2              6             1\n",
       "14  80vLFh5r       0          2          5              7             1\n",
       "15  fZaDLxRs       0          1          7              8             1\n",
       "16  ID8oQIIQ       1          5          1              6             1\n",
       "17  GllMJGef       1          5          4              9             1\n",
       "19  0S6SM1kD       1          2          2              4             1\n",
       "20  0pMTY7r8       1          3          2              5             1\n",
       "21  lAfHP35f       1          9          3             12             1\n",
       "22  jRSOwxmQ       1          3          6              9             1\n",
       "23  G8C3Wgu0       1          3          1              4             1\n",
       "24  C6zouq5s       1          5          0              5             1\n",
       "28  EVW1y146       0          3          3              6             1\n",
       "29  zoLAZvZI       1          5          3              8             1\n",
       "30  O0EhbOBJ       1          7          2              9             1\n",
       "33  GhUwadeM       0          4          2              6             1\n",
       "35  8MwJ3Kti       0          4          4              8             1\n",
       "36  UySR1bB3       0          5          0              5             1\n",
       "40  xO0CUX9C       1          4          4              8             1\n",
       "41  dfM6zLJC       1          4          6             10             1\n",
       "42  8YTgwNZg       1          7          0              7             1\n",
       "43  ruWV0IQ9       0          2          6              8             1\n",
       "44  nDxN2vdc       0          4          4              8             1\n",
       "45  WKAiZees       1          1          5              6             1\n",
       "46  ruh1GcQd       1          3          5              8             1\n",
       "48  z19YlKY5       1          4          3              7             1\n",
       "51  2iDdcrRP       1          3          2              5             1\n",
       "53  UefDDeAF       1          1          6              7             1\n",
       "55  CKqICFPL       1          3          6              9             1\n",
       "56  MVj5FHu3       1          2          4              6             1\n",
       "59  8YkPh2Zt       1          3          2              5             1\n",
       "61  KjzAVVXp       0          3          3              6             1\n",
       "62  zwBAgzJq       1          7          1              8             1\n",
       "64  Y7ekMDA0       1          2          6              8             1\n",
       "67  8CG4iDf4       0          2          3              5             1\n",
       "70  lMOCkiPG       1          5          4              9             1\n",
       "71  rqOGlBvN       1          3          4              7             1\n",
       "72  6FGUr2cI       1          6          5             11             1\n",
       "73  0nDdgZPi       1          3         10             13             1\n",
       "74  MgZi6D2k       0          4          4              8             1\n",
       "76  GSpmQYgL       1          5          0              5             1\n",
       "77  xxnqREvF       0          6          6             12             1\n",
       "83  xI3tKroU       0          4          5              9             1\n",
       "84  lG5l5XHe       1          2          2              4             1\n",
       "86  EFCLO6Wb       1          6          2              8             1\n",
       "87  445YL4GH       1          5          1              6             1\n",
       "88  Ewe8F2go       1          6          2              8             1"
      ]
     },
     "execution_count": 132,
     "metadata": {},
     "output_type": "execute_result"
    }
   ],
   "source": [
    "output[output.PROB_CORNERS==1]"
   ]
  },
  {
   "cell_type": "code",
   "execution_count": null,
   "id": "c616056a",
   "metadata": {},
   "outputs": [],
   "source": []
  }
 ],
 "metadata": {
  "kernelspec": {
   "display_name": "Python 3 (ipykernel)",
   "language": "python",
   "name": "python3"
  },
  "language_info": {
   "codemirror_mode": {
    "name": "ipython",
    "version": 3
   },
   "file_extension": ".py",
   "mimetype": "text/x-python",
   "name": "python",
   "nbconvert_exporter": "python",
   "pygments_lexer": "ipython3",
   "version": "3.7.11"
  }
 },
 "nbformat": 4,
 "nbformat_minor": 5
}
