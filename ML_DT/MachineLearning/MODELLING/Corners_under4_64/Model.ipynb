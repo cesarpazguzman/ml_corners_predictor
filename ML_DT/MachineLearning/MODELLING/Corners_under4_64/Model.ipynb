{
 "cells": [
  {
   "cell_type": "code",
   "execution_count": 1,
   "id": "0705929c",
   "metadata": {},
   "outputs": [],
   "source": [
    "import pymysql\n",
    "from sklearn.ensemble import RandomForestClassifier\n",
    "from sqlalchemy import create_engine\n",
    "import pandas as pd\n",
    "import matplotlib.pyplot as plt\n",
    "%matplotlib inline\n",
    "import numpy as np\n",
    "from pandasql import sqldf\n",
    "from sklearn import metrics\n",
    "\n",
    "import xgboost as xgb\n",
    "from sklearn.metrics import accuracy_score, confusion_matrix"
   ]
  },
  {
   "cell_type": "code",
   "execution_count": 583,
   "id": "0121f51f",
   "metadata": {},
   "outputs": [],
   "source": [
    "data = pd.read_csv(\"../../FEATURE_ENGINEER/tablon_undert_63_q4.csv\").drop(\n",
    "    columns=[\"ID\", \"DATE_MATCH\", \"TEAM_HOME\", \"TEAM_AWAY\", \"LEAGUE_INGLATERRA\", \"Unnamed: 0\",\n",
    "            \"FAVOURITE_IS_HOME\", \"LEAGUE_ALEMANIA\", \"FAVOURITE_IS_AWAY\", \"LEAGUE_FRANCIA\", \"LEAGUE_ITALIA\",\n",
    "            \"NUM_SAVESAWAY_L45\", \"AVG_CORNERSAWAY2_L3\", \"CORNERS_H_45_60\", \"CORNERS_DANGATTACKS_L45\", \"CORNERS_A\",\n",
    "            \"TEMPERATURE\", \"NUM_DANGATTACKSAWAY_L45\", \"NUM_DANGATTACKSHOME_L45\", \"NUM_FOULSAWAY_L45\", \"NUM_ATTACKSHOME_L45\",\n",
    "            \"NUM_TACKLEHOME_L45\", \"POSESSION_AWAY_L45\", \"IS_FAVOURITE_DRAWING\", \"SUM_GOALS_L60\", \"AVG_CORNERS_LOSE_AWAY\",\n",
    "            \"AVG_CORNERSAWAYR2_L5\", \"AVG_CORNERSHOME2_L3\",\"AVG_CORNERSHOMER2_L5\",\"CORNERS_A_45_60\",\"AVG_CORNERSHOME1_L3\",\n",
    "            \"AVG_CORNERSHOME2_L5\", \"AVG_CORNERSAWAYR1_L3\", \"LEAGUE_ESPANA\", \"GOALS_A\",\n",
    "            \"NUM_MATCHESAWAY_POSITIVE_L5\", \"NUM_SHOTSHOME_L45\",\"WIND\",\"RAIN\"], \n",
    "    axis=1)\n",
    "\n",
    "data = data[(data.TOTAL_CORNERS>2) & (data.TOTAL_CORNERS<7)].drop(columns=[\"TOTAL_CORNERS\"],axis=1)\n",
    "\n",
    "tablon = data[data.YEARMONTH<202109].drop(columns=[\"YEARMONTH\"],axis=1)\n",
    "\n",
    "\n",
    "X_validation = data[(data.YEARMONTH>=202109) & (data.YEARMONTH<202111)].drop(columns=[\"YEARMONTH\"],axis=1)\n",
    "y_validation = X_validation.pop(\"output\")\n",
    "\n",
    "\n",
    "X_validation_november = data[data.YEARMONTH>=202111].drop(columns=[\"YEARMONTH\"],axis=1)\n",
    "y_validation_november = X_validation_november.pop(\"output\")"
   ]
  },
  {
   "cell_type": "code",
   "execution_count": 584,
   "id": "5ad0b69b",
   "metadata": {},
   "outputs": [],
   "source": [
    "len_test = int(round(len(tablon)*0.2, 0))\n",
    "len_train = int(round(len(tablon)*0.8, 0))"
   ]
  },
  {
   "cell_type": "code",
   "execution_count": 585,
   "id": "b3d8b56c",
   "metadata": {},
   "outputs": [],
   "source": [
    "X_test = tablon[:len_test]\n",
    "y_test = X_test.pop(\"output\")\n",
    "X_train = tablon[len_test:]\n",
    "y_train = X_train.pop(\"output\")"
   ]
  },
  {
   "cell_type": "code",
   "execution_count": 586,
   "id": "3fe938f9",
   "metadata": {},
   "outputs": [
    {
     "data": {
      "text/plain": [
       "((4478, 56), (1120, 56), (205, 56))"
      ]
     },
     "execution_count": 586,
     "metadata": {},
     "output_type": "execute_result"
    }
   ],
   "source": [
    "X_train.shape, X_test.shape, X_validation.shape"
   ]
  },
  {
   "cell_type": "code",
   "execution_count": 587,
   "id": "e4371695",
   "metadata": {},
   "outputs": [
    {
     "data": {
      "text/plain": [
       "1    3027\n",
       "0    1451\n",
       "Name: output, dtype: int64"
      ]
     },
     "execution_count": 587,
     "metadata": {},
     "output_type": "execute_result"
    }
   ],
   "source": [
    "y_train.value_counts()"
   ]
  },
  {
   "cell_type": "code",
   "execution_count": 588,
   "id": "f73ee8e1",
   "metadata": {},
   "outputs": [
    {
     "data": {
      "text/plain": [
       "1    703\n",
       "0    417\n",
       "Name: output, dtype: int64"
      ]
     },
     "execution_count": 588,
     "metadata": {},
     "output_type": "execute_result"
    }
   ],
   "source": [
    "y_test.value_counts()"
   ]
  },
  {
   "cell_type": "code",
   "execution_count": 589,
   "id": "b178d2af",
   "metadata": {},
   "outputs": [
    {
     "data": {
      "text/plain": [
       "1    139\n",
       "0     66\n",
       "Name: output, dtype: int64"
      ]
     },
     "execution_count": 589,
     "metadata": {},
     "output_type": "execute_result"
    }
   ],
   "source": [
    "y_validation.value_counts()"
   ]
  },
  {
   "cell_type": "markdown",
   "id": "35058c53",
   "metadata": {},
   "source": [
    "## EXECUTING BEST MODEL"
   ]
  },
  {
   "cell_type": "code",
   "execution_count": 590,
   "id": "9353c5e4",
   "metadata": {},
   "outputs": [
    {
     "name": "stderr",
     "output_type": "stream",
     "text": [
      "/home/root/opt/python3.7.11/lib/python3.7/site-packages/xgboost/sklearn.py:1224: UserWarning: The use of label encoder in XGBClassifier is deprecated and will be removed in a future release. To remove this warning, do the following: 1) Pass option use_label_encoder=False when constructing XGBClassifier object; and 2) Encode your labels (y) as integers starting with 0, i.e. 0, 1, 2, ..., [num_class - 1].\n",
      "  warnings.warn(label_encoder_deprecation_msg, UserWarning)\n"
     ]
    },
    {
     "name": "stdout",
     "output_type": "stream",
     "text": [
      "[0]\tvalidation_0-auc:0.54775\tvalidation_0-logloss:0.69146\tvalidation_0-error:0.37946\n",
      "[1]\tvalidation_0-auc:0.56029\tvalidation_0-logloss:0.68976\tvalidation_0-error:0.37321\n",
      "[2]\tvalidation_0-auc:0.56392\tvalidation_0-logloss:0.68815\tvalidation_0-error:0.37411\n",
      "[3]\tvalidation_0-auc:0.56977\tvalidation_0-logloss:0.68649\tvalidation_0-error:0.37321\n",
      "[4]\tvalidation_0-auc:0.56928\tvalidation_0-logloss:0.68500\tvalidation_0-error:0.37232\n",
      "[5]\tvalidation_0-auc:0.57084\tvalidation_0-logloss:0.68359\tvalidation_0-error:0.37232\n",
      "[6]\tvalidation_0-auc:0.56936\tvalidation_0-logloss:0.68221\tvalidation_0-error:0.37232\n",
      "[7]\tvalidation_0-auc:0.57266\tvalidation_0-logloss:0.68085\tvalidation_0-error:0.37232\n",
      "[8]\tvalidation_0-auc:0.57335\tvalidation_0-logloss:0.67952\tvalidation_0-error:0.37232\n",
      "[9]\tvalidation_0-auc:0.57092\tvalidation_0-logloss:0.67835\tvalidation_0-error:0.37232\n",
      "[10]\tvalidation_0-auc:0.56639\tvalidation_0-logloss:0.67720\tvalidation_0-error:0.37232\n",
      "[11]\tvalidation_0-auc:0.56666\tvalidation_0-logloss:0.67600\tvalidation_0-error:0.37232\n",
      "[12]\tvalidation_0-auc:0.56898\tvalidation_0-logloss:0.67490\tvalidation_0-error:0.37232\n",
      "[13]\tvalidation_0-auc:0.56900\tvalidation_0-logloss:0.67380\tvalidation_0-error:0.37232\n",
      "[14]\tvalidation_0-auc:0.57135\tvalidation_0-logloss:0.67265\tvalidation_0-error:0.37232\n",
      "[15]\tvalidation_0-auc:0.57146\tvalidation_0-logloss:0.67164\tvalidation_0-error:0.37232\n",
      "[16]\tvalidation_0-auc:0.56983\tvalidation_0-logloss:0.67070\tvalidation_0-error:0.37232\n",
      "[17]\tvalidation_0-auc:0.56981\tvalidation_0-logloss:0.66979\tvalidation_0-error:0.37232\n",
      "[18]\tvalidation_0-auc:0.56937\tvalidation_0-logloss:0.66888\tvalidation_0-error:0.37232\n",
      "[19]\tvalidation_0-auc:0.57158\tvalidation_0-logloss:0.66793\tvalidation_0-error:0.37232\n",
      "[20]\tvalidation_0-auc:0.57212\tvalidation_0-logloss:0.66708\tvalidation_0-error:0.37232\n",
      "[21]\tvalidation_0-auc:0.57219\tvalidation_0-logloss:0.66616\tvalidation_0-error:0.37232\n",
      "[22]\tvalidation_0-auc:0.57286\tvalidation_0-logloss:0.66531\tvalidation_0-error:0.37232\n",
      "[23]\tvalidation_0-auc:0.57425\tvalidation_0-logloss:0.66444\tvalidation_0-error:0.37232\n",
      "[24]\tvalidation_0-auc:0.57482\tvalidation_0-logloss:0.66366\tvalidation_0-error:0.37232\n",
      "[25]\tvalidation_0-auc:0.57392\tvalidation_0-logloss:0.66293\tvalidation_0-error:0.37232\n",
      "[26]\tvalidation_0-auc:0.57403\tvalidation_0-logloss:0.66221\tvalidation_0-error:0.37232\n",
      "[27]\tvalidation_0-auc:0.57282\tvalidation_0-logloss:0.66156\tvalidation_0-error:0.37232\n",
      "[28]\tvalidation_0-auc:0.57185\tvalidation_0-logloss:0.66102\tvalidation_0-error:0.37232\n",
      "[29]\tvalidation_0-auc:0.57075\tvalidation_0-logloss:0.66044\tvalidation_0-error:0.37232\n",
      "[30]\tvalidation_0-auc:0.57157\tvalidation_0-logloss:0.65976\tvalidation_0-error:0.37232\n",
      "[31]\tvalidation_0-auc:0.57295\tvalidation_0-logloss:0.65910\tvalidation_0-error:0.37232\n",
      "[32]\tvalidation_0-auc:0.57313\tvalidation_0-logloss:0.65854\tvalidation_0-error:0.37232\n",
      "[33]\tvalidation_0-auc:0.57291\tvalidation_0-logloss:0.65801\tvalidation_0-error:0.37232\n",
      "[34]\tvalidation_0-auc:0.57269\tvalidation_0-logloss:0.65749\tvalidation_0-error:0.37232\n",
      "[35]\tvalidation_0-auc:0.57217\tvalidation_0-logloss:0.65698\tvalidation_0-error:0.37232\n",
      "[36]\tvalidation_0-auc:0.57296\tvalidation_0-logloss:0.65637\tvalidation_0-error:0.37232\n",
      "[37]\tvalidation_0-auc:0.57310\tvalidation_0-logloss:0.65591\tvalidation_0-error:0.37232\n",
      "[38]\tvalidation_0-auc:0.57301\tvalidation_0-logloss:0.65547\tvalidation_0-error:0.37232\n",
      "[39]\tvalidation_0-auc:0.57432\tvalidation_0-logloss:0.65494\tvalidation_0-error:0.37232\n",
      "[40]\tvalidation_0-auc:0.57365\tvalidation_0-logloss:0.65457\tvalidation_0-error:0.37232\n",
      "[41]\tvalidation_0-auc:0.57417\tvalidation_0-logloss:0.65407\tvalidation_0-error:0.37232\n",
      "[42]\tvalidation_0-auc:0.57460\tvalidation_0-logloss:0.65363\tvalidation_0-error:0.37232\n",
      "[43]\tvalidation_0-auc:0.57557\tvalidation_0-logloss:0.65318\tvalidation_0-error:0.37232\n",
      "[44]\tvalidation_0-auc:0.57509\tvalidation_0-logloss:0.65287\tvalidation_0-error:0.37232\n",
      "[45]\tvalidation_0-auc:0.57480\tvalidation_0-logloss:0.65249\tvalidation_0-error:0.37232\n",
      "[46]\tvalidation_0-auc:0.57454\tvalidation_0-logloss:0.65220\tvalidation_0-error:0.37232\n",
      "[47]\tvalidation_0-auc:0.57510\tvalidation_0-logloss:0.65183\tvalidation_0-error:0.37232\n",
      "[48]\tvalidation_0-auc:0.57442\tvalidation_0-logloss:0.65158\tvalidation_0-error:0.37232\n",
      "[49]\tvalidation_0-auc:0.57406\tvalidation_0-logloss:0.65135\tvalidation_0-error:0.37232\n",
      "[50]\tvalidation_0-auc:0.57413\tvalidation_0-logloss:0.65105\tvalidation_0-error:0.37232\n",
      "[51]\tvalidation_0-auc:0.57473\tvalidation_0-logloss:0.65073\tvalidation_0-error:0.37232\n",
      "[52]\tvalidation_0-auc:0.57546\tvalidation_0-logloss:0.65039\tvalidation_0-error:0.37232\n",
      "[53]\tvalidation_0-auc:0.57442\tvalidation_0-logloss:0.65019\tvalidation_0-error:0.37232\n",
      "[54]\tvalidation_0-auc:0.57446\tvalidation_0-logloss:0.64995\tvalidation_0-error:0.37232\n",
      "[55]\tvalidation_0-auc:0.57507\tvalidation_0-logloss:0.64963\tvalidation_0-error:0.37232\n",
      "[56]\tvalidation_0-auc:0.57525\tvalidation_0-logloss:0.64943\tvalidation_0-error:0.37232\n",
      "[57]\tvalidation_0-auc:0.57552\tvalidation_0-logloss:0.64919\tvalidation_0-error:0.37232\n",
      "[58]\tvalidation_0-auc:0.57561\tvalidation_0-logloss:0.64898\tvalidation_0-error:0.37232\n",
      "[59]\tvalidation_0-auc:0.57585\tvalidation_0-logloss:0.64875\tvalidation_0-error:0.37232\n",
      "[60]\tvalidation_0-auc:0.57595\tvalidation_0-logloss:0.64857\tvalidation_0-error:0.37232\n",
      "[61]\tvalidation_0-auc:0.57644\tvalidation_0-logloss:0.64833\tvalidation_0-error:0.37232\n",
      "[62]\tvalidation_0-auc:0.57598\tvalidation_0-logloss:0.64823\tvalidation_0-error:0.37232\n",
      "[63]\tvalidation_0-auc:0.57608\tvalidation_0-logloss:0.64805\tvalidation_0-error:0.37232\n",
      "[64]\tvalidation_0-auc:0.57626\tvalidation_0-logloss:0.64785\tvalidation_0-error:0.37232\n",
      "[65]\tvalidation_0-auc:0.57609\tvalidation_0-logloss:0.64774\tvalidation_0-error:0.37232\n",
      "[66]\tvalidation_0-auc:0.57576\tvalidation_0-logloss:0.64761\tvalidation_0-error:0.37232\n",
      "[67]\tvalidation_0-auc:0.57601\tvalidation_0-logloss:0.64745\tvalidation_0-error:0.37232\n",
      "[68]\tvalidation_0-auc:0.57646\tvalidation_0-logloss:0.64724\tvalidation_0-error:0.37232\n",
      "[69]\tvalidation_0-auc:0.57620\tvalidation_0-logloss:0.64711\tvalidation_0-error:0.37232\n",
      "[70]\tvalidation_0-auc:0.57604\tvalidation_0-logloss:0.64703\tvalidation_0-error:0.37232\n",
      "[71]\tvalidation_0-auc:0.57689\tvalidation_0-logloss:0.64682\tvalidation_0-error:0.37232\n",
      "[72]\tvalidation_0-auc:0.57718\tvalidation_0-logloss:0.64667\tvalidation_0-error:0.37232\n",
      "[73]\tvalidation_0-auc:0.57703\tvalidation_0-logloss:0.64656\tvalidation_0-error:0.37232\n",
      "[74]\tvalidation_0-auc:0.57725\tvalidation_0-logloss:0.64646\tvalidation_0-error:0.37232\n",
      "[75]\tvalidation_0-auc:0.57701\tvalidation_0-logloss:0.64638\tvalidation_0-error:0.37232\n",
      "[76]\tvalidation_0-auc:0.57720\tvalidation_0-logloss:0.64627\tvalidation_0-error:0.37232\n",
      "[77]\tvalidation_0-auc:0.57753\tvalidation_0-logloss:0.64611\tvalidation_0-error:0.37232\n",
      "[78]\tvalidation_0-auc:0.57720\tvalidation_0-logloss:0.64608\tvalidation_0-error:0.37232\n",
      "[79]\tvalidation_0-auc:0.57718\tvalidation_0-logloss:0.64604\tvalidation_0-error:0.37232\n",
      "[80]\tvalidation_0-auc:0.57702\tvalidation_0-logloss:0.64599\tvalidation_0-error:0.37232\n",
      "[81]\tvalidation_0-auc:0.57710\tvalidation_0-logloss:0.64589\tvalidation_0-error:0.37232\n",
      "[82]\tvalidation_0-auc:0.57703\tvalidation_0-logloss:0.64588\tvalidation_0-error:0.37232\n",
      "[83]\tvalidation_0-auc:0.57705\tvalidation_0-logloss:0.64581\tvalidation_0-error:0.37232\n",
      "[84]\tvalidation_0-auc:0.57684\tvalidation_0-logloss:0.64579\tvalidation_0-error:0.37232\n",
      "[85]\tvalidation_0-auc:0.57719\tvalidation_0-logloss:0.64569\tvalidation_0-error:0.37232\n",
      "[86]\tvalidation_0-auc:0.57688\tvalidation_0-logloss:0.64569\tvalidation_0-error:0.37232\n",
      "[87]\tvalidation_0-auc:0.57698\tvalidation_0-logloss:0.64562\tvalidation_0-error:0.37232\n",
      "[88]\tvalidation_0-auc:0.57723\tvalidation_0-logloss:0.64558\tvalidation_0-error:0.37232\n",
      "[89]\tvalidation_0-auc:0.57771\tvalidation_0-logloss:0.64547\tvalidation_0-error:0.37321\n",
      "[90]\tvalidation_0-auc:0.57798\tvalidation_0-logloss:0.64543\tvalidation_0-error:0.37321\n",
      "[91]\tvalidation_0-auc:0.57803\tvalidation_0-logloss:0.64539\tvalidation_0-error:0.37321\n",
      "[92]\tvalidation_0-auc:0.57866\tvalidation_0-logloss:0.64528\tvalidation_0-error:0.37321\n",
      "[93]\tvalidation_0-auc:0.57892\tvalidation_0-logloss:0.64523\tvalidation_0-error:0.37321\n",
      "[94]\tvalidation_0-auc:0.57911\tvalidation_0-logloss:0.64519\tvalidation_0-error:0.37321\n",
      "[95]\tvalidation_0-auc:0.57938\tvalidation_0-logloss:0.64515\tvalidation_0-error:0.37321\n"
     ]
    },
    {
     "name": "stdout",
     "output_type": "stream",
     "text": [
      "[96]\tvalidation_0-auc:0.58012\tvalidation_0-logloss:0.64503\tvalidation_0-error:0.37321\n",
      "[97]\tvalidation_0-auc:0.58072\tvalidation_0-logloss:0.64496\tvalidation_0-error:0.37321\n",
      "[98]\tvalidation_0-auc:0.58191\tvalidation_0-logloss:0.64478\tvalidation_0-error:0.37321\n",
      "[99]\tvalidation_0-auc:0.58221\tvalidation_0-logloss:0.64473\tvalidation_0-error:0.37321\n",
      "[100]\tvalidation_0-auc:0.58256\tvalidation_0-logloss:0.64467\tvalidation_0-error:0.37321\n",
      "[101]\tvalidation_0-auc:0.58311\tvalidation_0-logloss:0.64461\tvalidation_0-error:0.37321\n",
      "[102]\tvalidation_0-auc:0.58385\tvalidation_0-logloss:0.64453\tvalidation_0-error:0.37321\n",
      "[103]\tvalidation_0-auc:0.58427\tvalidation_0-logloss:0.64449\tvalidation_0-error:0.37321\n",
      "[104]\tvalidation_0-auc:0.58442\tvalidation_0-logloss:0.64447\tvalidation_0-error:0.37321\n",
      "[105]\tvalidation_0-auc:0.58543\tvalidation_0-logloss:0.64435\tvalidation_0-error:0.37321\n",
      "[106]\tvalidation_0-auc:0.58502\tvalidation_0-logloss:0.64443\tvalidation_0-error:0.37232\n",
      "[107]\tvalidation_0-auc:0.58526\tvalidation_0-logloss:0.64433\tvalidation_0-error:0.37232\n",
      "[108]\tvalidation_0-auc:0.58517\tvalidation_0-logloss:0.64436\tvalidation_0-error:0.37232\n",
      "[109]\tvalidation_0-auc:0.58550\tvalidation_0-logloss:0.64431\tvalidation_0-error:0.37232\n",
      "[110]\tvalidation_0-auc:0.58535\tvalidation_0-logloss:0.64434\tvalidation_0-error:0.37232\n",
      "[111]\tvalidation_0-auc:0.58542\tvalidation_0-logloss:0.64433\tvalidation_0-error:0.37232\n",
      "[112]\tvalidation_0-auc:0.58555\tvalidation_0-logloss:0.64434\tvalidation_0-error:0.37232\n",
      "[113]\tvalidation_0-auc:0.58569\tvalidation_0-logloss:0.64435\tvalidation_0-error:0.37143\n",
      "[114]\tvalidation_0-auc:0.58578\tvalidation_0-logloss:0.64437\tvalidation_0-error:0.37143\n",
      "[115]\tvalidation_0-auc:0.58668\tvalidation_0-logloss:0.64430\tvalidation_0-error:0.37143\n",
      "[116]\tvalidation_0-auc:0.58710\tvalidation_0-logloss:0.64427\tvalidation_0-error:0.37143\n",
      "[117]\tvalidation_0-auc:0.58741\tvalidation_0-logloss:0.64425\tvalidation_0-error:0.37143\n",
      "[118]\tvalidation_0-auc:0.58729\tvalidation_0-logloss:0.64427\tvalidation_0-error:0.37143\n",
      "[119]\tvalidation_0-auc:0.58692\tvalidation_0-logloss:0.64442\tvalidation_0-error:0.37143\n",
      "[120]\tvalidation_0-auc:0.58749\tvalidation_0-logloss:0.64436\tvalidation_0-error:0.37232\n",
      "[121]\tvalidation_0-auc:0.58743\tvalidation_0-logloss:0.64439\tvalidation_0-error:0.37232\n",
      "[122]\tvalidation_0-auc:0.58753\tvalidation_0-logloss:0.64441\tvalidation_0-error:0.37232\n",
      "[123]\tvalidation_0-auc:0.58764\tvalidation_0-logloss:0.64449\tvalidation_0-error:0.37232\n",
      "[124]\tvalidation_0-auc:0.58829\tvalidation_0-logloss:0.64446\tvalidation_0-error:0.37232\n",
      "[125]\tvalidation_0-auc:0.58841\tvalidation_0-logloss:0.64443\tvalidation_0-error:0.37232\n",
      "[126]\tvalidation_0-auc:0.58878\tvalidation_0-logloss:0.64446\tvalidation_0-error:0.37232\n",
      "[127]\tvalidation_0-auc:0.58860\tvalidation_0-logloss:0.64448\tvalidation_0-error:0.37232\n",
      "[128]\tvalidation_0-auc:0.58867\tvalidation_0-logloss:0.64451\tvalidation_0-error:0.37232\n",
      "[129]\tvalidation_0-auc:0.58851\tvalidation_0-logloss:0.64464\tvalidation_0-error:0.37232\n",
      "[130]\tvalidation_0-auc:0.58897\tvalidation_0-logloss:0.64460\tvalidation_0-error:0.37143\n",
      "[131]\tvalidation_0-auc:0.58968\tvalidation_0-logloss:0.64457\tvalidation_0-error:0.37232\n",
      "[132]\tvalidation_0-auc:0.58966\tvalidation_0-logloss:0.64472\tvalidation_0-error:0.37232\n",
      "[133]\tvalidation_0-auc:0.59010\tvalidation_0-logloss:0.64470\tvalidation_0-error:0.37232\n",
      "[134]\tvalidation_0-auc:0.58990\tvalidation_0-logloss:0.64468\tvalidation_0-error:0.37232\n",
      "[135]\tvalidation_0-auc:0.59011\tvalidation_0-logloss:0.64467\tvalidation_0-error:0.37232\n",
      "[136]\tvalidation_0-auc:0.59016\tvalidation_0-logloss:0.64474\tvalidation_0-error:0.37143\n",
      "[137]\tvalidation_0-auc:0.59042\tvalidation_0-logloss:0.64474\tvalidation_0-error:0.37143\n",
      "[138]\tvalidation_0-auc:0.59046\tvalidation_0-logloss:0.64476\tvalidation_0-error:0.37232\n",
      "[139]\tvalidation_0-auc:0.59065\tvalidation_0-logloss:0.64478\tvalidation_0-error:0.37232\n",
      "[140]\tvalidation_0-auc:0.59002\tvalidation_0-logloss:0.64493\tvalidation_0-error:0.37232\n",
      "[141]\tvalidation_0-auc:0.59022\tvalidation_0-logloss:0.64498\tvalidation_0-error:0.37321\n",
      "[142]\tvalidation_0-auc:0.59060\tvalidation_0-logloss:0.64499\tvalidation_0-error:0.37232\n",
      "[143]\tvalidation_0-auc:0.59039\tvalidation_0-logloss:0.64507\tvalidation_0-error:0.37232\n",
      "[144]\tvalidation_0-auc:0.59085\tvalidation_0-logloss:0.64501\tvalidation_0-error:0.37321\n",
      "[145]\tvalidation_0-auc:0.59076\tvalidation_0-logloss:0.64507\tvalidation_0-error:0.37321\n",
      "[146]\tvalidation_0-auc:0.59061\tvalidation_0-logloss:0.64514\tvalidation_0-error:0.37321\n",
      "[147]\tvalidation_0-auc:0.59071\tvalidation_0-logloss:0.64507\tvalidation_0-error:0.37321\n",
      "[148]\tvalidation_0-auc:0.59024\tvalidation_0-logloss:0.64522\tvalidation_0-error:0.37321\n",
      "[149]\tvalidation_0-auc:0.59073\tvalidation_0-logloss:0.64519\tvalidation_0-error:0.37321\n"
     ]
    },
    {
     "data": {
      "text/plain": [
       "XGBClassifier(base_score=0.5, booster='gbtree', colsample_bylevel=1,\n",
       "              colsample_bynode=1, colsample_bytree=0.65,\n",
       "              enable_categorical=False, eta=0.015,\n",
       "              eval_metric=['auc', 'logloss', 'error'], gamma=1.25, gpu_id=-1,\n",
       "              importance_type=None, interaction_constraints='',\n",
       "              learning_rate=0.0149999997, max_delta_step=0, max_depth=6,\n",
       "              min_child_weight=30, missing=nan, monotone_constraints='()',\n",
       "              n_estimators=150, n_jobs=12, num_parallel_tree=1,\n",
       "              predictor='auto', random_state=123, reg_alpha=0, reg_lambda=1,\n",
       "              scale_pos_weight=1, subsample=1, tree_method='exact',\n",
       "              validate_parameters=1, verbosity=None)"
      ]
     },
     "execution_count": 590,
     "metadata": {},
     "output_type": "execute_result"
    }
   ],
   "source": [
    "model = xgb.XGBClassifier(objective='binary:logistic', n_estimators=150, max_depth=6, gamma=1.25, eta=0.015,\n",
    "                          min_child_weight=30, colsample_bytree=0.65, \n",
    "                          random_state=123, eval_metric=[\"auc\", \"logloss\", \"error\"])\n",
    "model.fit(X_train, y_train, eval_set=[(X_test, y_test)])"
   ]
  },
  {
   "cell_type": "code",
   "execution_count": 591,
   "id": "fd60cb85",
   "metadata": {},
   "outputs": [
    {
     "data": {
      "text/plain": [
       "<AxesSubplot:>"
      ]
     },
     "execution_count": 591,
     "metadata": {},
     "output_type": "execute_result"
    },
    {
     "data": {
      "image/png": "[encoded data removed]",
      "text/plain": [
       "<Figure size 432x288 with 1 Axes>"
      ]
     },
     "metadata": {
      "needs_background": "light"
     },
     "output_type": "display_data"
    }
   ],
   "source": [
    "fu_dict = dict(zip(X_train.columns, model.feature_importances_))\n",
    "fi = pd.DataFrame(fu_dict.values(), index=fu_dict.keys(), columns=[\"importance\"])\n",
    "fi = fi.sort_values(by=\"importance\", ascending=False)\n",
    "\n",
    "fi.plot.bar()"
   ]
  },
  {
   "cell_type": "code",
   "execution_count": 593,
   "id": "ff8a7a70",
   "metadata": {},
   "outputs": [
    {
     "data": {
      "text/plain": [
       "array([[  1, 416],\n",
       "       [  2, 701]])"
      ]
     },
     "execution_count": 593,
     "metadata": {},
     "output_type": "execute_result"
    }
   ],
   "source": [
    "y_pred1 = model.predict(X_test)\n",
    "cm = confusion_matrix(y_test, y_pred1)\n",
    "cm"
   ]
  },
  {
   "cell_type": "code",
   "execution_count": 649,
   "id": "55f7e0eb",
   "metadata": {},
   "outputs": [],
   "source": [
    "y_pred_proba = model.predict_proba(X_test)[:,1]\n",
    "predict_mine = np.where(y_pred_proba > 0.7, 1, 0)\n",
    "cm1 = confusion_matrix(y_test, predict_mine)"
   ]
  },
  {
   "cell_type": "code",
   "execution_count": 650,
   "id": "2a080435",
   "metadata": {},
   "outputs": [
    {
     "data": {
      "text/plain": [
       "0.6267857142857143"
      ]
     },
     "execution_count": 650,
     "metadata": {},
     "output_type": "execute_result"
    }
   ],
   "source": [
    "metrics.accuracy_score(y_test, y_pred1)"
   ]
  },
  {
   "cell_type": "code",
   "execution_count": 651,
   "id": "2a85372f",
   "metadata": {},
   "outputs": [
    {
     "data": {
      "text/plain": [
       "(0.7321428571428571, 0.0)"
      ]
     },
     "execution_count": 651,
     "metadata": {},
     "output_type": "execute_result"
    }
   ],
   "source": [
    "cm1[1][1]/(cm1[1][1]+cm1[0][1]), cm[0][0]/(cm[1][0]+cm[0][0])"
   ]
  },
  {
   "cell_type": "code",
   "execution_count": 652,
   "id": "7e46167a",
   "metadata": {},
   "outputs": [
    {
     "data": {
      "text/plain": [
       "(20.0, 0.08928571428571429)"
      ]
     },
     "execution_count": 652,
     "metadata": {},
     "output_type": "execute_result"
    }
   ],
   "source": [
    "(cm1[1][1]+cm1[0][1])/len(y_test)*100, (cm[0][0]+cm[1][0])/len(y_test)*100"
   ]
  },
  {
   "cell_type": "markdown",
   "id": "bd2cf07a",
   "metadata": {},
   "source": [
    "# VALIDATION - BEST MODEL --> 70% accuracy in 17% of matches"
   ]
  },
  {
   "cell_type": "code",
   "execution_count": 598,
   "id": "31566b6c",
   "metadata": {},
   "outputs": [
    {
     "data": {
      "text/plain": [
       "array([[  1,  65],\n",
       "       [  2, 137]])"
      ]
     },
     "execution_count": 598,
     "metadata": {},
     "output_type": "execute_result"
    }
   ],
   "source": [
    "y_pred = model.predict(X_validation)\n",
    "cm = confusion_matrix(y_validation, y_pred)\n",
    "cm"
   ]
  },
  {
   "cell_type": "code",
   "execution_count": 599,
   "id": "960fa297",
   "metadata": {},
   "outputs": [
    {
     "data": {
      "text/plain": [
       "0.6731707317073171"
      ]
     },
     "execution_count": 599,
     "metadata": {},
     "output_type": "execute_result"
    }
   ],
   "source": [
    "metrics.accuracy_score(y_validation, y_pred)"
   ]
  },
  {
   "cell_type": "code",
   "execution_count": 646,
   "id": "e849fc15",
   "metadata": {},
   "outputs": [],
   "source": [
    "y_pred_proba = model.predict_proba(X_validation)[:,1]\n",
    "predict_mine = np.where(y_pred_proba > 0.7, 1, 0)\n",
    "cm1 = confusion_matrix(y_validation, predict_mine)"
   ]
  },
  {
   "cell_type": "code",
   "execution_count": 647,
   "id": "8792d422",
   "metadata": {},
   "outputs": [
    {
     "data": {
      "text/plain": [
       "(0.7441860465116279, 0.0)"
      ]
     },
     "execution_count": 647,
     "metadata": {},
     "output_type": "execute_result"
    }
   ],
   "source": [
    "cm1[1][1]/(cm1[1][1]+cm1[0][1]), cm[0][0]/(cm[1][0]+cm[0][0])"
   ]
  },
  {
   "cell_type": "code",
   "execution_count": 648,
   "id": "e19d4fb4",
   "metadata": {},
   "outputs": [
    {
     "data": {
      "text/plain": [
       "(20.975609756097562, 0.4878048780487805)"
      ]
     },
     "execution_count": 648,
     "metadata": {},
     "output_type": "execute_result"
    }
   ],
   "source": [
    "(cm1[1][1]+cm1[0][1])/len(y_validation)*100, (cm[0][0]+cm[1][0])/len(y_validation)*100"
   ]
  },
  {
   "cell_type": "code",
   "execution_count": 603,
   "id": "dbd587ba",
   "metadata": {},
   "outputs": [
    {
     "data": {
      "text/plain": [
       "array([[ 55,  11],\n",
       "       [107,  32]])"
      ]
     },
     "execution_count": 603,
     "metadata": {},
     "output_type": "execute_result"
    }
   ],
   "source": [
    "cm1"
   ]
  },
  {
   "cell_type": "code",
   "execution_count": null,
   "id": "ed65eb0a",
   "metadata": {},
   "outputs": [],
   "source": []
  },
  {
   "cell_type": "markdown",
   "id": "ad7f885b",
   "metadata": {},
   "source": [
    "## FINAL VALIDATION - NOVEMBER 2021"
   ]
  },
  {
   "cell_type": "code",
   "execution_count": 604,
   "id": "2ff81e36",
   "metadata": {},
   "outputs": [
    {
     "data": {
      "text/plain": [
       "array([[ 0, 40],\n",
       "       [ 1, 81]])"
      ]
     },
     "execution_count": 604,
     "metadata": {},
     "output_type": "execute_result"
    }
   ],
   "source": [
    "y_pred = model.predict(X_validation_november)\n",
    "cm = confusion_matrix(y_validation_november, y_pred)\n",
    "cm"
   ]
  },
  {
   "cell_type": "code",
   "execution_count": 605,
   "id": "6d5e72bf",
   "metadata": {},
   "outputs": [
    {
     "data": {
      "text/plain": [
       "0.6639344262295082"
      ]
     },
     "execution_count": 605,
     "metadata": {},
     "output_type": "execute_result"
    }
   ],
   "source": [
    "metrics.accuracy_score(y_validation_november, y_pred)"
   ]
  },
  {
   "cell_type": "code",
   "execution_count": 642,
   "id": "2bd44841",
   "metadata": {},
   "outputs": [],
   "source": [
    "y_pred_proba = model.predict_proba(X_validation_november)[:,1]\n",
    "predict_mine = np.where(y_pred_proba > 0.71, 1, 0)\n",
    "cm1 = confusion_matrix(y_validation_november, predict_mine)"
   ]
  },
  {
   "cell_type": "code",
   "execution_count": 643,
   "id": "b0f47d24",
   "metadata": {},
   "outputs": [
    {
     "data": {
      "text/plain": [
       "array([[38,  2],\n",
       "       [69, 13]])"
      ]
     },
     "execution_count": 643,
     "metadata": {},
     "output_type": "execute_result"
    }
   ],
   "source": [
    "cm1"
   ]
  },
  {
   "cell_type": "code",
   "execution_count": 644,
   "id": "8c44788e",
   "metadata": {},
   "outputs": [
    {
     "data": {
      "text/plain": [
       "(0.8666666666666667, 0.0)"
      ]
     },
     "execution_count": 644,
     "metadata": {},
     "output_type": "execute_result"
    }
   ],
   "source": [
    "cm1[1][1]/(cm1[1][1]+cm1[0][1]), cm[0][0]/(cm[1][0]+cm[0][0])"
   ]
  },
  {
   "cell_type": "code",
   "execution_count": 645,
   "id": "9f8859f0",
   "metadata": {},
   "outputs": [
    {
     "data": {
      "text/plain": [
       "(12.295081967213115, 0.819672131147541)"
      ]
     },
     "execution_count": 645,
     "metadata": {},
     "output_type": "execute_result"
    }
   ],
   "source": [
    "(cm1[1][1]+cm1[0][1])/len(y_validation_november)*100, (cm[0][0]+cm[1][0])/len(y_validation_november)*100"
   ]
  },
  {
   "cell_type": "code",
   "execution_count": null,
   "id": "433abf23",
   "metadata": {},
   "outputs": [],
   "source": []
  },
  {
   "cell_type": "code",
   "execution_count": null,
   "id": "e05056de",
   "metadata": {},
   "outputs": [],
   "source": []
  },
  {
   "cell_type": "code",
   "execution_count": null,
   "id": "9622d525",
   "metadata": {},
   "outputs": [],
   "source": [
    "#umbral --> 0.63; Condition --> TOTAL_CORNERS > 3\n",
    "import pickle\n",
    "file_name = \"model_under4_63.pkl\"\n",
    "\n",
    "# save\n",
    "pickle.dump(model, open(file_name, \"wb\"))\n",
    "\n",
    "# load\n",
    "#xgb_model_loaded = pickle.load(open(file_name, \"rb\"))\n"
   ]
  },
  {
   "cell_type": "code",
   "execution_count": null,
   "id": "74594fdf",
   "metadata": {},
   "outputs": [],
   "source": []
  },
  {
   "cell_type": "markdown",
   "id": "fd483e1a",
   "metadata": {},
   "source": [
    "# OUTPUT"
   ]
  },
  {
   "cell_type": "code",
   "execution_count": 130,
   "id": "e438cbca",
   "metadata": {},
   "outputs": [],
   "source": [
    "output = data[(data.YEARMONTH>=202111 )& (data.TOTAL_CORNERS>3)][[\"ID\", \"output\", \"CORNERS_H\", \"CORNERS_A\", \"TOTAL_CORNERS\"]].reset_index(drop=True)"
   ]
  },
  {
   "cell_type": "code",
   "execution_count": 131,
   "id": "a9ace64f",
   "metadata": {},
   "outputs": [],
   "source": [
    "output[\"PROB_CORNERS\"] = pd.DataFrame(model.predict_proba(X_validation_november)[:,1]).iloc[:, 0]\\\n",
    "    .apply(lambda x: 1 if x>0.6 else 0)"
   ]
  },
  {
   "cell_type": "code",
   "execution_count": 132,
   "id": "a8486cc5",
   "metadata": {},
   "outputs": [
    {
     "data": {
      "text/html": [
       "<div>\n",
       "<style scoped>\n",
       "    .dataframe tbody tr th:only-of-type {\n",
       "        vertical-align: middle;\n",
       "    }\n",
       "\n",
       "    .dataframe tbody tr th {\n",
       "        vertical-align: top;\n",
       "    }\n",
       "\n",
       "    .dataframe thead th {\n",
       "        text-align: right;\n",
       "    }\n",
       "</style>\n",
       "<table border=\"1\" class=\"dataframe\">\n",
       "  <thead>\n",
       "    <tr style=\"text-align: right;\">\n",
       "      <th></th>\n",
       "      <th>ID</th>\n",
       "      <th>output</th>\n",
       "      <th>CORNERS_H</th>\n",
       "      <th>CORNERS_A</th>\n",
       "      <th>TOTAL_CORNERS</th>\n",
       "      <th>PROB_CORNERS</th>\n",
       "    </tr>\n",
       "  </thead>\n",
       "  <tbody>\n",
       "    <tr>\n",
       "      <th>0</th>\n",
       "      <td>E30fSmrc</td>\n",
       "      <td>1</td>\n",
       "      <td>5</td>\n",
       "      <td>0</td>\n",
       "      <td>5</td>\n",
       "      <td>1</td>\n",
       "    </tr>\n",
       "    <tr>\n",
       "      <th>1</th>\n",
       "      <td>nsYoAO57</td>\n",
       "      <td>1</td>\n",
       "      <td>5</td>\n",
       "      <td>1</td>\n",
       "      <td>6</td>\n",
       "      <td>1</td>\n",
       "    </tr>\n",
       "    <tr>\n",
       "      <th>2</th>\n",
       "      <td>p0AwSvlE</td>\n",
       "      <td>1</td>\n",
       "      <td>4</td>\n",
       "      <td>4</td>\n",
       "      <td>8</td>\n",
       "      <td>1</td>\n",
       "    </tr>\n",
       "    <tr>\n",
       "      <th>7</th>\n",
       "      <td>Oj9sRb3K</td>\n",
       "      <td>1</td>\n",
       "      <td>4</td>\n",
       "      <td>3</td>\n",
       "      <td>7</td>\n",
       "      <td>1</td>\n",
       "    </tr>\n",
       "    <tr>\n",
       "      <th>8</th>\n",
       "      <td>dCFxXoDK</td>\n",
       "      <td>1</td>\n",
       "      <td>2</td>\n",
       "      <td>4</td>\n",
       "      <td>6</td>\n",
       "      <td>1</td>\n",
       "    </tr>\n",
       "    <tr>\n",
       "      <th>9</th>\n",
       "      <td>vyLXXRcE</td>\n",
       "      <td>1</td>\n",
       "      <td>4</td>\n",
       "      <td>2</td>\n",
       "      <td>6</td>\n",
       "      <td>1</td>\n",
       "    </tr>\n",
       "    <tr>\n",
       "      <th>14</th>\n",
       "      <td>80vLFh5r</td>\n",
       "      <td>0</td>\n",
       "      <td>2</td>\n",
       "      <td>5</td>\n",
       "      <td>7</td>\n",
       "      <td>1</td>\n",
       "    </tr>\n",
       "    <tr>\n",
       "      <th>15</th>\n",
       "      <td>fZaDLxRs</td>\n",
       "      <td>0</td>\n",
       "      <td>1</td>\n",
       "      <td>7</td>\n",
       "      <td>8</td>\n",
       "      <td>1</td>\n",
       "    </tr>\n",
       "    <tr>\n",
       "      <th>16</th>\n",
       "      <td>ID8oQIIQ</td>\n",
       "      <td>1</td>\n",
       "      <td>5</td>\n",
       "      <td>1</td>\n",
       "      <td>6</td>\n",
       "      <td>1</td>\n",
       "    </tr>\n",
       "    <tr>\n",
       "      <th>17</th>\n",
       "      <td>GllMJGef</td>\n",
       "      <td>1</td>\n",
       "      <td>5</td>\n",
       "      <td>4</td>\n",
       "      <td>9</td>\n",
       "      <td>1</td>\n",
       "    </tr>\n",
       "    <tr>\n",
       "      <th>19</th>\n",
       "      <td>0S6SM1kD</td>\n",
       "      <td>1</td>\n",
       "      <td>2</td>\n",
       "      <td>2</td>\n",
       "      <td>4</td>\n",
       "      <td>1</td>\n",
       "    </tr>\n",
       "    <tr>\n",
       "      <th>20</th>\n",
       "      <td>0pMTY7r8</td>\n",
       "      <td>1</td>\n",
       "      <td>3</td>\n",
       "      <td>2</td>\n",
       "      <td>5</td>\n",
       "      <td>1</td>\n",
       "    </tr>\n",
       "    <tr>\n",
       "      <th>21</th>\n",
       "      <td>lAfHP35f</td>\n",
       "      <td>1</td>\n",
       "      <td>9</td>\n",
       "      <td>3</td>\n",
       "      <td>12</td>\n",
       "      <td>1</td>\n",
       "    </tr>\n",
       "    <tr>\n",
       "      <th>22</th>\n",
       "      <td>jRSOwxmQ</td>\n",
       "      <td>1</td>\n",
       "      <td>3</td>\n",
       "      <td>6</td>\n",
       "      <td>9</td>\n",
       "      <td>1</td>\n",
       "    </tr>\n",
       "    <tr>\n",
       "      <th>23</th>\n",
       "      <td>G8C3Wgu0</td>\n",
       "      <td>1</td>\n",
       "      <td>3</td>\n",
       "      <td>1</td>\n",
       "      <td>4</td>\n",
       "      <td>1</td>\n",
       "    </tr>\n",
       "    <tr>\n",
       "      <th>24</th>\n",
       "      <td>C6zouq5s</td>\n",
       "      <td>1</td>\n",
       "      <td>5</td>\n",
       "      <td>0</td>\n",
       "      <td>5</td>\n",
       "      <td>1</td>\n",
       "    </tr>\n",
       "    <tr>\n",
       "      <th>28</th>\n",
       "      <td>EVW1y146</td>\n",
       "      <td>0</td>\n",
       "      <td>3</td>\n",
       "      <td>3</td>\n",
       "      <td>6</td>\n",
       "      <td>1</td>\n",
       "    </tr>\n",
       "    <tr>\n",
       "      <th>29</th>\n",
       "      <td>zoLAZvZI</td>\n",
       "      <td>1</td>\n",
       "      <td>5</td>\n",
       "      <td>3</td>\n",
       "      <td>8</td>\n",
       "      <td>1</td>\n",
       "    </tr>\n",
       "    <tr>\n",
       "      <th>30</th>\n",
       "      <td>O0EhbOBJ</td>\n",
       "      <td>1</td>\n",
       "      <td>7</td>\n",
       "      <td>2</td>\n",
       "      <td>9</td>\n",
       "      <td>1</td>\n",
       "    </tr>\n",
       "    <tr>\n",
       "      <th>33</th>\n",
       "      <td>GhUwadeM</td>\n",
       "      <td>0</td>\n",
       "      <td>4</td>\n",
       "      <td>2</td>\n",
       "      <td>6</td>\n",
       "      <td>1</td>\n",
       "    </tr>\n",
       "    <tr>\n",
       "      <th>35</th>\n",
       "      <td>8MwJ3Kti</td>\n",
       "      <td>0</td>\n",
       "      <td>4</td>\n",
       "      <td>4</td>\n",
       "      <td>8</td>\n",
       "      <td>1</td>\n",
       "    </tr>\n",
       "    <tr>\n",
       "      <th>36</th>\n",
       "      <td>UySR1bB3</td>\n",
       "      <td>0</td>\n",
       "      <td>5</td>\n",
       "      <td>0</td>\n",
       "      <td>5</td>\n",
       "      <td>1</td>\n",
       "    </tr>\n",
       "    <tr>\n",
       "      <th>40</th>\n",
       "      <td>xO0CUX9C</td>\n",
       "      <td>1</td>\n",
       "      <td>4</td>\n",
       "      <td>4</td>\n",
       "      <td>8</td>\n",
       "      <td>1</td>\n",
       "    </tr>\n",
       "    <tr>\n",
       "      <th>41</th>\n",
       "      <td>dfM6zLJC</td>\n",
       "      <td>1</td>\n",
       "      <td>4</td>\n",
       "      <td>6</td>\n",
       "      <td>10</td>\n",
       "      <td>1</td>\n",
       "    </tr>\n",
       "    <tr>\n",
       "      <th>42</th>\n",
       "      <td>8YTgwNZg</td>\n",
       "      <td>1</td>\n",
       "      <td>7</td>\n",
       "      <td>0</td>\n",
       "      <td>7</td>\n",
       "      <td>1</td>\n",
       "    </tr>\n",
       "    <tr>\n",
       "      <th>43</th>\n",
       "      <td>ruWV0IQ9</td>\n",
       "      <td>0</td>\n",
       "      <td>2</td>\n",
       "      <td>6</td>\n",
       "      <td>8</td>\n",
       "      <td>1</td>\n",
       "    </tr>\n",
       "    <tr>\n",
       "      <th>44</th>\n",
       "      <td>nDxN2vdc</td>\n",
       "      <td>0</td>\n",
       "      <td>4</td>\n",
       "      <td>4</td>\n",
       "      <td>8</td>\n",
       "      <td>1</td>\n",
       "    </tr>\n",
       "    <tr>\n",
       "      <th>45</th>\n",
       "      <td>WKAiZees</td>\n",
       "      <td>1</td>\n",
       "      <td>1</td>\n",
       "      <td>5</td>\n",
       "      <td>6</td>\n",
       "      <td>1</td>\n",
       "    </tr>\n",
       "    <tr>\n",
       "      <th>46</th>\n",
       "      <td>ruh1GcQd</td>\n",
       "      <td>1</td>\n",
       "      <td>3</td>\n",
       "      <td>5</td>\n",
       "      <td>8</td>\n",
       "      <td>1</td>\n",
       "    </tr>\n",
       "    <tr>\n",
       "      <th>48</th>\n",
       "      <td>z19YlKY5</td>\n",
       "      <td>1</td>\n",
       "      <td>4</td>\n",
       "      <td>3</td>\n",
       "      <td>7</td>\n",
       "      <td>1</td>\n",
       "    </tr>\n",
       "    <tr>\n",
       "      <th>51</th>\n",
       "      <td>2iDdcrRP</td>\n",
       "      <td>1</td>\n",
       "      <td>3</td>\n",
       "      <td>2</td>\n",
       "      <td>5</td>\n",
       "      <td>1</td>\n",
       "    </tr>\n",
       "    <tr>\n",
       "      <th>53</th>\n",
       "      <td>UefDDeAF</td>\n",
       "      <td>1</td>\n",
       "      <td>1</td>\n",
       "      <td>6</td>\n",
       "      <td>7</td>\n",
       "      <td>1</td>\n",
       "    </tr>\n",
       "    <tr>\n",
       "      <th>55</th>\n",
       "      <td>CKqICFPL</td>\n",
       "      <td>1</td>\n",
       "      <td>3</td>\n",
       "      <td>6</td>\n",
       "      <td>9</td>\n",
       "      <td>1</td>\n",
       "    </tr>\n",
       "    <tr>\n",
       "      <th>56</th>\n",
       "      <td>MVj5FHu3</td>\n",
       "      <td>1</td>\n",
       "      <td>2</td>\n",
       "      <td>4</td>\n",
       "      <td>6</td>\n",
       "      <td>1</td>\n",
       "    </tr>\n",
       "    <tr>\n",
       "      <th>59</th>\n",
       "      <td>8YkPh2Zt</td>\n",
       "      <td>1</td>\n",
       "      <td>3</td>\n",
       "      <td>2</td>\n",
       "      <td>5</td>\n",
       "      <td>1</td>\n",
       "    </tr>\n",
       "    <tr>\n",
       "      <th>61</th>\n",
       "      <td>KjzAVVXp</td>\n",
       "      <td>0</td>\n",
       "      <td>3</td>\n",
       "      <td>3</td>\n",
       "      <td>6</td>\n",
       "      <td>1</td>\n",
       "    </tr>\n",
       "    <tr>\n",
       "      <th>62</th>\n",
       "      <td>zwBAgzJq</td>\n",
       "      <td>1</td>\n",
       "      <td>7</td>\n",
       "      <td>1</td>\n",
       "      <td>8</td>\n",
       "      <td>1</td>\n",
       "    </tr>\n",
       "    <tr>\n",
       "      <th>64</th>\n",
       "      <td>Y7ekMDA0</td>\n",
       "      <td>1</td>\n",
       "      <td>2</td>\n",
       "      <td>6</td>\n",
       "      <td>8</td>\n",
       "      <td>1</td>\n",
       "    </tr>\n",
       "    <tr>\n",
       "      <th>67</th>\n",
       "      <td>8CG4iDf4</td>\n",
       "      <td>0</td>\n",
       "      <td>2</td>\n",
       "      <td>3</td>\n",
       "      <td>5</td>\n",
       "      <td>1</td>\n",
       "    </tr>\n",
       "    <tr>\n",
       "      <th>70</th>\n",
       "      <td>lMOCkiPG</td>\n",
       "      <td>1</td>\n",
       "      <td>5</td>\n",
       "      <td>4</td>\n",
       "      <td>9</td>\n",
       "      <td>1</td>\n",
       "    </tr>\n",
       "    <tr>\n",
       "      <th>71</th>\n",
       "      <td>rqOGlBvN</td>\n",
       "      <td>1</td>\n",
       "      <td>3</td>\n",
       "      <td>4</td>\n",
       "      <td>7</td>\n",
       "      <td>1</td>\n",
       "    </tr>\n",
       "    <tr>\n",
       "      <th>72</th>\n",
       "      <td>6FGUr2cI</td>\n",
       "      <td>1</td>\n",
       "      <td>6</td>\n",
       "      <td>5</td>\n",
       "      <td>11</td>\n",
       "      <td>1</td>\n",
       "    </tr>\n",
       "    <tr>\n",
       "      <th>73</th>\n",
       "      <td>0nDdgZPi</td>\n",
       "      <td>1</td>\n",
       "      <td>3</td>\n",
       "      <td>10</td>\n",
       "      <td>13</td>\n",
       "      <td>1</td>\n",
       "    </tr>\n",
       "    <tr>\n",
       "      <th>74</th>\n",
       "      <td>MgZi6D2k</td>\n",
       "      <td>0</td>\n",
       "      <td>4</td>\n",
       "      <td>4</td>\n",
       "      <td>8</td>\n",
       "      <td>1</td>\n",
       "    </tr>\n",
       "    <tr>\n",
       "      <th>76</th>\n",
       "      <td>GSpmQYgL</td>\n",
       "      <td>1</td>\n",
       "      <td>5</td>\n",
       "      <td>0</td>\n",
       "      <td>5</td>\n",
       "      <td>1</td>\n",
       "    </tr>\n",
       "    <tr>\n",
       "      <th>77</th>\n",
       "      <td>xxnqREvF</td>\n",
       "      <td>0</td>\n",
       "      <td>6</td>\n",
       "      <td>6</td>\n",
       "      <td>12</td>\n",
       "      <td>1</td>\n",
       "    </tr>\n",
       "    <tr>\n",
       "      <th>83</th>\n",
       "      <td>xI3tKroU</td>\n",
       "      <td>0</td>\n",
       "      <td>4</td>\n",
       "      <td>5</td>\n",
       "      <td>9</td>\n",
       "      <td>1</td>\n",
       "    </tr>\n",
       "    <tr>\n",
       "      <th>84</th>\n",
       "      <td>lG5l5XHe</td>\n",
       "      <td>1</td>\n",
       "      <td>2</td>\n",
       "      <td>2</td>\n",
       "      <td>4</td>\n",
       "      <td>1</td>\n",
       "    </tr>\n",
       "    <tr>\n",
       "      <th>86</th>\n",
       "      <td>EFCLO6Wb</td>\n",
       "      <td>1</td>\n",
       "      <td>6</td>\n",
       "      <td>2</td>\n",
       "      <td>8</td>\n",
       "      <td>1</td>\n",
       "    </tr>\n",
       "    <tr>\n",
       "      <th>87</th>\n",
       "      <td>445YL4GH</td>\n",
       "      <td>1</td>\n",
       "      <td>5</td>\n",
       "      <td>1</td>\n",
       "      <td>6</td>\n",
       "      <td>1</td>\n",
       "    </tr>\n",
       "    <tr>\n",
       "      <th>88</th>\n",
       "      <td>Ewe8F2go</td>\n",
       "      <td>1</td>\n",
       "      <td>6</td>\n",
       "      <td>2</td>\n",
       "      <td>8</td>\n",
       "      <td>1</td>\n",
       "    </tr>\n",
       "  </tbody>\n",
       "</table>\n",
       "</div>"
      ],
      "text/plain": [
       "          ID  output  CORNERS_H  CORNERS_A  TOTAL_CORNERS  PROB_CORNERS\n",
       "0   E30fSmrc       1          5          0              5             1\n",
       "1   nsYoAO57       1          5          1              6             1\n",
       "2   p0AwSvlE       1          4          4              8             1\n",
       "7   Oj9sRb3K       1          4          3              7             1\n",
       "8   dCFxXoDK       1          2          4              6             1\n",
       "9   vyLXXRcE       1          4          2              6             1\n",
       "14  80vLFh5r       0          2          5              7             1\n",
       "15  fZaDLxRs       0          1          7              8             1\n",
       "16  ID8oQIIQ       1          5          1              6             1\n",
       "17  GllMJGef       1          5          4              9             1\n",
       "19  0S6SM1kD       1          2          2              4             1\n",
       "20  0pMTY7r8       1          3          2              5             1\n",
       "21  lAfHP35f       1          9          3             12             1\n",
       "22  jRSOwxmQ       1          3          6              9             1\n",
       "23  G8C3Wgu0       1          3          1              4             1\n",
       "24  C6zouq5s       1          5          0              5             1\n",
       "28  EVW1y146       0          3          3              6             1\n",
       "29  zoLAZvZI       1          5          3              8             1\n",
       "30  O0EhbOBJ       1          7          2              9             1\n",
       "33  GhUwadeM       0          4          2              6             1\n",
       "35  8MwJ3Kti       0          4          4              8             1\n",
       "36  UySR1bB3       0          5          0              5             1\n",
       "40  xO0CUX9C       1          4          4              8             1\n",
       "41  dfM6zLJC       1          4          6             10             1\n",
       "42  8YTgwNZg       1          7          0              7             1\n",
       "43  ruWV0IQ9       0          2          6              8             1\n",
       "44  nDxN2vdc       0          4          4              8             1\n",
       "45  WKAiZees       1          1          5              6             1\n",
       "46  ruh1GcQd       1          3          5              8             1\n",
       "48  z19YlKY5       1          4          3              7             1\n",
       "51  2iDdcrRP       1          3          2              5             1\n",
       "53  UefDDeAF       1          1          6              7             1\n",
       "55  CKqICFPL       1          3          6              9             1\n",
       "56  MVj5FHu3       1          2          4              6             1\n",
       "59  8YkPh2Zt       1          3          2              5             1\n",
       "61  KjzAVVXp       0          3          3              6             1\n",
       "62  zwBAgzJq       1          7          1              8             1\n",
       "64  Y7ekMDA0       1          2          6              8             1\n",
       "67  8CG4iDf4       0          2          3              5             1\n",
       "70  lMOCkiPG       1          5          4              9             1\n",
       "71  rqOGlBvN       1          3          4              7             1\n",
       "72  6FGUr2cI       1          6          5             11             1\n",
       "73  0nDdgZPi       1          3         10             13             1\n",
       "74  MgZi6D2k       0          4          4              8             1\n",
       "76  GSpmQYgL       1          5          0              5             1\n",
       "77  xxnqREvF       0          6          6             12             1\n",
       "83  xI3tKroU       0          4          5              9             1\n",
       "84  lG5l5XHe       1          2          2              4             1\n",
       "86  EFCLO6Wb       1          6          2              8             1\n",
       "87  445YL4GH       1          5          1              6             1\n",
       "88  Ewe8F2go       1          6          2              8             1"
      ]
     },
     "execution_count": 132,
     "metadata": {},
     "output_type": "execute_result"
    }
   ],
   "source": [
    "output[output.PROB_CORNERS==1]"
   ]
  },
  {
   "cell_type": "code",
   "execution_count": null,
   "id": "c616056a",
   "metadata": {},
   "outputs": [],
   "source": []
  }
 ],
 "metadata": {
  "kernelspec": {
   "display_name": "Python 3 (ipykernel)",
   "language": "python",
   "name": "python3"
  },
  "language_info": {
   "codemirror_mode": {
    "name": "ipython",
    "version": 3
   },
   "file_extension": ".py",
   "mimetype": "text/x-python",
   "name": "python",
   "nbconvert_exporter": "python",
   "pygments_lexer": "ipython3",
   "version": "3.7.11"
  }
 },
 "nbformat": 4,
 "nbformat_minor": 5
}
