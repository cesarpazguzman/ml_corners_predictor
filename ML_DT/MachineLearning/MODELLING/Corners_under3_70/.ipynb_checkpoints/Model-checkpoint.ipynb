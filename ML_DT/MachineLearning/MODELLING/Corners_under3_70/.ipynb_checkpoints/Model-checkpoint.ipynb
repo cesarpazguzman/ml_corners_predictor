{
 "cells": [
  {
   "cell_type": "code",
   "execution_count": 149,
   "id": "0705929c",
   "metadata": {},
   "outputs": [],
   "source": [
    "import pymysql\n",
    "from sklearn.ensemble import RandomForestClassifier\n",
    "from sqlalchemy import create_engine\n",
    "import pandas as pd\n",
    "import matplotlib.pyplot as plt\n",
    "%matplotlib inline\n",
    "import numpy as np\n",
    "from pandasql import sqldf\n",
    "from sklearn import metrics\n",
    "from sklearn.model_selection import train_test_split\n",
    "\n",
    "import xgboost as xgb\n",
    "from sklearn.metrics import accuracy_score, confusion_matrix"
   ]
  },
  {
   "cell_type": "code",
   "execution_count": 239,
   "id": "0121f51f",
   "metadata": {},
   "outputs": [],
   "source": [
    "data = pd.read_csv(\"../../FEATURE_ENGINEER/tablon_uppert_70_q3.csv\")\n",
    "\n",
    "data = data[data.TOTAL_CORNERS > 2]\n",
    "\n",
    "tablon = data[data.YEARMONTH<202109][[\"AVG_CORNERSHOMED1_L3\",\n",
    "                                                                 \"AVG_CORNERSHOMED2_L5\", \"AVG_CORNERSAWAYD1_L5\",\n",
    "                                      \"CORNERS_DIV_SHOTS\",\"AVG_CORNERSAWAYD2_L5\", \"LEAGUE_INGLATERRA\", \"TOTAL_CORNERS\",\n",
    "                                      \"LAST_MINUTECORNER_H_L60\", \"LAST_MINUTECORNER_A_L60\", \"SUM_CORNERS_L60\",\n",
    "                                      \"AVG_CORNERS_LOSE_HOME\",\"CORNERS_A\", \"AVG_CORNERSHOMED1_L5\", \n",
    "                                      \"output\",\"TOTAL_CORNERS_45_60\"]]\n",
    "\n",
    "\n",
    "X_validation = data[(data.YEARMONTH>=202109) & (data.YEARMONTH<202111)][[\"AVG_CORNERSHOMED1_L3\",\"AVG_CORNERSHOMED2_L5\",\n",
    "                                                                          \"AVG_CORNERSAWAYD1_L5\",\n",
    "                                      \"CORNERS_DIV_SHOTS\",\"AVG_CORNERSAWAYD2_L5\", \"LEAGUE_INGLATERRA\", \"TOTAL_CORNERS\",\n",
    "                                      \"LAST_MINUTECORNER_H_L60\", \"LAST_MINUTECORNER_A_L60\", \"SUM_CORNERS_L60\",\n",
    "                                      \"AVG_CORNERS_LOSE_HOME\",\"CORNERS_A\", \"AVG_CORNERSHOMED1_L5\", \n",
    "                                      \"output\",\"TOTAL_CORNERS_45_60\"]]\n",
    "y_validation = X_validation.pop(\"output\")\n",
    "\n",
    "\n",
    "X_validation_november = data[data.YEARMONTH>=202111][[\"AVG_CORNERSHOMED1_L3\",\"AVG_CORNERSHOMED2_L5\", \"AVG_CORNERSAWAYD1_L5\",\n",
    "                                      \"CORNERS_DIV_SHOTS\",\"AVG_CORNERSAWAYD2_L5\", \"LEAGUE_INGLATERRA\", \"TOTAL_CORNERS\",\n",
    "                                      \"LAST_MINUTECORNER_H_L60\", \"LAST_MINUTECORNER_A_L60\", \"SUM_CORNERS_L60\",\n",
    "                                      \"AVG_CORNERS_LOSE_HOME\",\"CORNERS_A\", \"AVG_CORNERSHOMED1_L5\", \n",
    "                                      \"output\",\"TOTAL_CORNERS_45_60\"]]\n",
    "y_validation_november = X_validation_november.pop(\"output\")"
   ]
  },
  {
   "cell_type": "code",
   "execution_count": 258,
   "id": "b3d8b56c",
   "metadata": {},
   "outputs": [],
   "source": [
    "len_test = int(round(len(tablon)*0.3, 0))\n",
    "len_train = int(round(len(tablon)*0.7, 0))\n",
    "\n",
    "X_train = tablon[:len_train]\n",
    "y_train = X_train.pop(\"output\")\n",
    "X_test = tablon[len_train:(len_train+len_test)]\n",
    "y_test = X_test.pop(\"output\")"
   ]
  },
  {
   "cell_type": "code",
   "execution_count": 259,
   "id": "3fe938f9",
   "metadata": {},
   "outputs": [
    {
     "data": {
      "text/plain": [
       "((7136, 14), (3058, 14), (347, 14))"
      ]
     },
     "execution_count": 259,
     "metadata": {},
     "output_type": "execute_result"
    }
   ],
   "source": [
    "X_train.shape, X_test.shape, X_validation.shape"
   ]
  },
  {
   "cell_type": "code",
   "execution_count": 210,
   "id": "e4371695",
   "metadata": {},
   "outputs": [
    {
     "data": {
      "text/plain": [
       "1    4187\n",
       "0    2867\n",
       "Name: output, dtype: int64"
      ]
     },
     "execution_count": 210,
     "metadata": {},
     "output_type": "execute_result"
    }
   ],
   "source": [
    "y_train.value_counts()"
   ]
  },
  {
   "cell_type": "code",
   "execution_count": 211,
   "id": "f73ee8e1",
   "metadata": {},
   "outputs": [
    {
     "data": {
      "text/plain": [
       "1    1905\n",
       "0    1118\n",
       "Name: output, dtype: int64"
      ]
     },
     "execution_count": 211,
     "metadata": {},
     "output_type": "execute_result"
    }
   ],
   "source": [
    "y_test.value_counts()"
   ]
  },
  {
   "cell_type": "code",
   "execution_count": 212,
   "id": "b178d2af",
   "metadata": {},
   "outputs": [
    {
     "data": {
      "text/plain": [
       "1    220\n",
       "0    120\n",
       "Name: output, dtype: int64"
      ]
     },
     "execution_count": 212,
     "metadata": {},
     "output_type": "execute_result"
    }
   ],
   "source": [
    "y_validation.value_counts()"
   ]
  },
  {
   "cell_type": "markdown",
   "id": "35058c53",
   "metadata": {},
   "source": [
    "## EXECUTING BEST MODEL"
   ]
  },
  {
   "cell_type": "code",
   "execution_count": 213,
   "id": "9353c5e4",
   "metadata": {},
   "outputs": [
    {
     "name": "stdout",
     "output_type": "stream",
     "text": [
      "[0]\tvalidation_0-auc:0.53370\tvalidation_0-logloss:0.69213\tvalidation_0-error:0.37678\n",
      "[1]\tvalidation_0-auc:0.55776\tvalidation_0-logloss:0.69105\tvalidation_0-error:0.37579\n"
     ]
    },
    {
     "name": "stderr",
     "output_type": "stream",
     "text": [
      "/home/root/opt/python3.7.11/lib/python3.7/site-packages/xgboost/sklearn.py:1224: UserWarning: The use of label encoder in XGBClassifier is deprecated and will be removed in a future release. To remove this warning, do the following: 1) Pass option use_label_encoder=False when constructing XGBClassifier object; and 2) Encode your labels (y) as integers starting with 0, i.e. 0, 1, 2, ..., [num_class - 1].\n",
      "  warnings.warn(label_encoder_deprecation_msg, UserWarning)\n"
     ]
    },
    {
     "name": "stdout",
     "output_type": "stream",
     "text": [
      "[2]\tvalidation_0-auc:0.56857\tvalidation_0-logloss:0.69004\tvalidation_0-error:0.37512\n",
      "[3]\tvalidation_0-auc:0.57461\tvalidation_0-logloss:0.68910\tvalidation_0-error:0.37115\n",
      "[4]\tvalidation_0-auc:0.57594\tvalidation_0-logloss:0.68810\tvalidation_0-error:0.36983\n",
      "[5]\tvalidation_0-auc:0.57651\tvalidation_0-logloss:0.68719\tvalidation_0-error:0.37115\n",
      "[6]\tvalidation_0-auc:0.57123\tvalidation_0-logloss:0.68638\tvalidation_0-error:0.37115\n",
      "[7]\tvalidation_0-auc:0.57242\tvalidation_0-logloss:0.68550\tvalidation_0-error:0.36917\n",
      "[8]\tvalidation_0-auc:0.57074\tvalidation_0-logloss:0.68472\tvalidation_0-error:0.37082\n",
      "[9]\tvalidation_0-auc:0.56889\tvalidation_0-logloss:0.68390\tvalidation_0-error:0.37182\n",
      "[10]\tvalidation_0-auc:0.57004\tvalidation_0-logloss:0.68304\tvalidation_0-error:0.37281\n",
      "[11]\tvalidation_0-auc:0.56867\tvalidation_0-logloss:0.68230\tvalidation_0-error:0.37248\n",
      "[12]\tvalidation_0-auc:0.56656\tvalidation_0-logloss:0.68161\tvalidation_0-error:0.37182\n",
      "[13]\tvalidation_0-auc:0.56632\tvalidation_0-logloss:0.68085\tvalidation_0-error:0.37314\n",
      "[14]\tvalidation_0-auc:0.56664\tvalidation_0-logloss:0.68013\tvalidation_0-error:0.37281\n",
      "[15]\tvalidation_0-auc:0.56590\tvalidation_0-logloss:0.67944\tvalidation_0-error:0.37380\n",
      "[16]\tvalidation_0-auc:0.56593\tvalidation_0-logloss:0.67874\tvalidation_0-error:0.37413\n",
      "[17]\tvalidation_0-auc:0.56537\tvalidation_0-logloss:0.67808\tvalidation_0-error:0.37446\n",
      "[18]\tvalidation_0-auc:0.56561\tvalidation_0-logloss:0.67741\tvalidation_0-error:0.37446\n",
      "[19]\tvalidation_0-auc:0.56536\tvalidation_0-logloss:0.67678\tvalidation_0-error:0.37612\n",
      "[20]\tvalidation_0-auc:0.56622\tvalidation_0-logloss:0.67612\tvalidation_0-error:0.37347\n",
      "[21]\tvalidation_0-auc:0.56541\tvalidation_0-logloss:0.67555\tvalidation_0-error:0.37645\n",
      "[22]\tvalidation_0-auc:0.56543\tvalidation_0-logloss:0.67498\tvalidation_0-error:0.37479\n",
      "[23]\tvalidation_0-auc:0.56544\tvalidation_0-logloss:0.67439\tvalidation_0-error:0.37479\n",
      "[24]\tvalidation_0-auc:0.56481\tvalidation_0-logloss:0.67388\tvalidation_0-error:0.37479\n",
      "[25]\tvalidation_0-auc:0.56541\tvalidation_0-logloss:0.67331\tvalidation_0-error:0.37545\n",
      "[26]\tvalidation_0-auc:0.56530\tvalidation_0-logloss:0.67277\tvalidation_0-error:0.37545\n",
      "[27]\tvalidation_0-auc:0.56501\tvalidation_0-logloss:0.67229\tvalidation_0-error:0.37579\n",
      "[28]\tvalidation_0-auc:0.56529\tvalidation_0-logloss:0.67180\tvalidation_0-error:0.37413\n",
      "[29]\tvalidation_0-auc:0.56525\tvalidation_0-logloss:0.67130\tvalidation_0-error:0.37413\n",
      "[30]\tvalidation_0-auc:0.56441\tvalidation_0-logloss:0.67086\tvalidation_0-error:0.37380\n",
      "[31]\tvalidation_0-auc:0.56462\tvalidation_0-logloss:0.67041\tvalidation_0-error:0.37347\n",
      "[32]\tvalidation_0-auc:0.56497\tvalidation_0-logloss:0.66997\tvalidation_0-error:0.37545\n",
      "[33]\tvalidation_0-auc:0.56490\tvalidation_0-logloss:0.66951\tvalidation_0-error:0.37512\n",
      "[34]\tvalidation_0-auc:0.56466\tvalidation_0-logloss:0.66910\tvalidation_0-error:0.37612\n",
      "[35]\tvalidation_0-auc:0.56461\tvalidation_0-logloss:0.66868\tvalidation_0-error:0.37579\n",
      "[36]\tvalidation_0-auc:0.56461\tvalidation_0-logloss:0.66822\tvalidation_0-error:0.37512\n",
      "[37]\tvalidation_0-auc:0.56519\tvalidation_0-logloss:0.66776\tvalidation_0-error:0.37446\n",
      "[38]\tvalidation_0-auc:0.56521\tvalidation_0-logloss:0.66737\tvalidation_0-error:0.37579\n",
      "[39]\tvalidation_0-auc:0.56430\tvalidation_0-logloss:0.66699\tvalidation_0-error:0.37645\n",
      "[40]\tvalidation_0-auc:0.56481\tvalidation_0-logloss:0.66659\tvalidation_0-error:0.37579\n",
      "[41]\tvalidation_0-auc:0.56484\tvalidation_0-logloss:0.66622\tvalidation_0-error:0.37545\n",
      "[42]\tvalidation_0-auc:0.56488\tvalidation_0-logloss:0.66588\tvalidation_0-error:0.37545\n",
      "[43]\tvalidation_0-auc:0.56512\tvalidation_0-logloss:0.66551\tvalidation_0-error:0.37612\n",
      "[44]\tvalidation_0-auc:0.56457\tvalidation_0-logloss:0.66517\tvalidation_0-error:0.37479\n",
      "[45]\tvalidation_0-auc:0.56434\tvalidation_0-logloss:0.66485\tvalidation_0-error:0.37612\n",
      "[46]\tvalidation_0-auc:0.56375\tvalidation_0-logloss:0.66456\tvalidation_0-error:0.37545\n",
      "[47]\tvalidation_0-auc:0.56336\tvalidation_0-logloss:0.66428\tvalidation_0-error:0.37479\n",
      "[48]\tvalidation_0-auc:0.56295\tvalidation_0-logloss:0.66396\tvalidation_0-error:0.37446\n",
      "[49]\tvalidation_0-auc:0.56332\tvalidation_0-logloss:0.66362\tvalidation_0-error:0.37545\n",
      "[50]\tvalidation_0-auc:0.56377\tvalidation_0-logloss:0.66328\tvalidation_0-error:0.37579\n",
      "[51]\tvalidation_0-auc:0.56359\tvalidation_0-logloss:0.66299\tvalidation_0-error:0.37579\n",
      "[52]\tvalidation_0-auc:0.56395\tvalidation_0-logloss:0.66268\tvalidation_0-error:0.37612\n",
      "[53]\tvalidation_0-auc:0.56369\tvalidation_0-logloss:0.66242\tvalidation_0-error:0.37479\n",
      "[54]\tvalidation_0-auc:0.56369\tvalidation_0-logloss:0.66215\tvalidation_0-error:0.37545\n",
      "[55]\tvalidation_0-auc:0.56368\tvalidation_0-logloss:0.66187\tvalidation_0-error:0.37579\n",
      "[56]\tvalidation_0-auc:0.56407\tvalidation_0-logloss:0.66156\tvalidation_0-error:0.37579\n",
      "[57]\tvalidation_0-auc:0.56383\tvalidation_0-logloss:0.66134\tvalidation_0-error:0.37545\n",
      "[58]\tvalidation_0-auc:0.56387\tvalidation_0-logloss:0.66107\tvalidation_0-error:0.37446\n",
      "[59]\tvalidation_0-auc:0.56382\tvalidation_0-logloss:0.66081\tvalidation_0-error:0.37413\n",
      "[60]\tvalidation_0-auc:0.56373\tvalidation_0-logloss:0.66057\tvalidation_0-error:0.37413\n",
      "[61]\tvalidation_0-auc:0.56402\tvalidation_0-logloss:0.66032\tvalidation_0-error:0.37446\n",
      "[62]\tvalidation_0-auc:0.56391\tvalidation_0-logloss:0.66010\tvalidation_0-error:0.37446\n",
      "[63]\tvalidation_0-auc:0.56391\tvalidation_0-logloss:0.65987\tvalidation_0-error:0.37347\n",
      "[64]\tvalidation_0-auc:0.56394\tvalidation_0-logloss:0.65963\tvalidation_0-error:0.37380\n",
      "[65]\tvalidation_0-auc:0.56395\tvalidation_0-logloss:0.65942\tvalidation_0-error:0.37281\n",
      "[66]\tvalidation_0-auc:0.56358\tvalidation_0-logloss:0.65923\tvalidation_0-error:0.37215\n",
      "[67]\tvalidation_0-auc:0.56363\tvalidation_0-logloss:0.65900\tvalidation_0-error:0.37182\n",
      "[68]\tvalidation_0-auc:0.56397\tvalidation_0-logloss:0.65878\tvalidation_0-error:0.37182\n",
      "[69]\tvalidation_0-auc:0.56376\tvalidation_0-logloss:0.65859\tvalidation_0-error:0.37115\n",
      "[70]\tvalidation_0-auc:0.56365\tvalidation_0-logloss:0.65843\tvalidation_0-error:0.37149\n",
      "[71]\tvalidation_0-auc:0.56332\tvalidation_0-logloss:0.65826\tvalidation_0-error:0.37182\n",
      "[72]\tvalidation_0-auc:0.56390\tvalidation_0-logloss:0.65805\tvalidation_0-error:0.37182\n",
      "[73]\tvalidation_0-auc:0.56461\tvalidation_0-logloss:0.65783\tvalidation_0-error:0.37149\n",
      "[74]\tvalidation_0-auc:0.56457\tvalidation_0-logloss:0.65767\tvalidation_0-error:0.37149\n",
      "[75]\tvalidation_0-auc:0.56474\tvalidation_0-logloss:0.65748\tvalidation_0-error:0.37149\n",
      "[76]\tvalidation_0-auc:0.56451\tvalidation_0-logloss:0.65733\tvalidation_0-error:0.37082\n",
      "[77]\tvalidation_0-auc:0.56443\tvalidation_0-logloss:0.65717\tvalidation_0-error:0.37082\n",
      "[78]\tvalidation_0-auc:0.56431\tvalidation_0-logloss:0.65703\tvalidation_0-error:0.37082\n",
      "[79]\tvalidation_0-auc:0.56471\tvalidation_0-logloss:0.65685\tvalidation_0-error:0.37049\n",
      "[80]\tvalidation_0-auc:0.56520\tvalidation_0-logloss:0.65668\tvalidation_0-error:0.37016\n",
      "[81]\tvalidation_0-auc:0.56525\tvalidation_0-logloss:0.65652\tvalidation_0-error:0.36983\n",
      "[82]\tvalidation_0-auc:0.56502\tvalidation_0-logloss:0.65638\tvalidation_0-error:0.37016\n",
      "[83]\tvalidation_0-auc:0.56504\tvalidation_0-logloss:0.65622\tvalidation_0-error:0.37016\n",
      "[84]\tvalidation_0-auc:0.56517\tvalidation_0-logloss:0.65606\tvalidation_0-error:0.37016\n",
      "[85]\tvalidation_0-auc:0.56458\tvalidation_0-logloss:0.65598\tvalidation_0-error:0.37016\n",
      "[86]\tvalidation_0-auc:0.56431\tvalidation_0-logloss:0.65588\tvalidation_0-error:0.37049\n",
      "[87]\tvalidation_0-auc:0.56417\tvalidation_0-logloss:0.65576\tvalidation_0-error:0.37082\n",
      "[88]\tvalidation_0-auc:0.56432\tvalidation_0-logloss:0.65562\tvalidation_0-error:0.37016\n",
      "[89]\tvalidation_0-auc:0.56468\tvalidation_0-logloss:0.65547\tvalidation_0-error:0.36950\n",
      "[90]\tvalidation_0-auc:0.56470\tvalidation_0-logloss:0.65533\tvalidation_0-error:0.37016\n",
      "[91]\tvalidation_0-auc:0.56430\tvalidation_0-logloss:0.65523\tvalidation_0-error:0.36983\n",
      "[92]\tvalidation_0-auc:0.56449\tvalidation_0-logloss:0.65510\tvalidation_0-error:0.36983\n",
      "[93]\tvalidation_0-auc:0.56473\tvalidation_0-logloss:0.65496\tvalidation_0-error:0.36983\n",
      "[94]\tvalidation_0-auc:0.56420\tvalidation_0-logloss:0.65492\tvalidation_0-error:0.36950\n",
      "[95]\tvalidation_0-auc:0.56441\tvalidation_0-logloss:0.65478\tvalidation_0-error:0.36983\n",
      "[96]\tvalidation_0-auc:0.56436\tvalidation_0-logloss:0.65469\tvalidation_0-error:0.36983\n",
      "[97]\tvalidation_0-auc:0.56445\tvalidation_0-logloss:0.65457\tvalidation_0-error:0.36983\n"
     ]
    },
    {
     "name": "stdout",
     "output_type": "stream",
     "text": [
      "[98]\tvalidation_0-auc:0.56425\tvalidation_0-logloss:0.65447\tvalidation_0-error:0.37016\n",
      "[99]\tvalidation_0-auc:0.56436\tvalidation_0-logloss:0.65436\tvalidation_0-error:0.36950\n",
      "[100]\tvalidation_0-auc:0.56402\tvalidation_0-logloss:0.65429\tvalidation_0-error:0.36983\n",
      "[101]\tvalidation_0-auc:0.56390\tvalidation_0-logloss:0.65421\tvalidation_0-error:0.36950\n",
      "[102]\tvalidation_0-auc:0.56384\tvalidation_0-logloss:0.65411\tvalidation_0-error:0.36851\n",
      "[103]\tvalidation_0-auc:0.56378\tvalidation_0-logloss:0.65404\tvalidation_0-error:0.36983\n",
      "[104]\tvalidation_0-auc:0.56386\tvalidation_0-logloss:0.65394\tvalidation_0-error:0.36950\n",
      "[105]\tvalidation_0-auc:0.56358\tvalidation_0-logloss:0.65388\tvalidation_0-error:0.36884\n",
      "[106]\tvalidation_0-auc:0.56371\tvalidation_0-logloss:0.65378\tvalidation_0-error:0.36884\n",
      "[107]\tvalidation_0-auc:0.56359\tvalidation_0-logloss:0.65371\tvalidation_0-error:0.36884\n",
      "[108]\tvalidation_0-auc:0.56362\tvalidation_0-logloss:0.65365\tvalidation_0-error:0.36818\n",
      "[109]\tvalidation_0-auc:0.56381\tvalidation_0-logloss:0.65355\tvalidation_0-error:0.36785\n",
      "[110]\tvalidation_0-auc:0.56406\tvalidation_0-logloss:0.65346\tvalidation_0-error:0.36884\n",
      "[111]\tvalidation_0-auc:0.56421\tvalidation_0-logloss:0.65336\tvalidation_0-error:0.36785\n",
      "[112]\tvalidation_0-auc:0.56420\tvalidation_0-logloss:0.65329\tvalidation_0-error:0.36785\n",
      "[113]\tvalidation_0-auc:0.56434\tvalidation_0-logloss:0.65322\tvalidation_0-error:0.36752\n",
      "[114]\tvalidation_0-auc:0.56466\tvalidation_0-logloss:0.65313\tvalidation_0-error:0.36917\n",
      "[115]\tvalidation_0-auc:0.56464\tvalidation_0-logloss:0.65305\tvalidation_0-error:0.36818\n",
      "[116]\tvalidation_0-auc:0.56455\tvalidation_0-logloss:0.65300\tvalidation_0-error:0.36718\n",
      "[117]\tvalidation_0-auc:0.56455\tvalidation_0-logloss:0.65293\tvalidation_0-error:0.36718\n",
      "[118]\tvalidation_0-auc:0.56466\tvalidation_0-logloss:0.65284\tvalidation_0-error:0.36818\n",
      "[119]\tvalidation_0-auc:0.56463\tvalidation_0-logloss:0.65278\tvalidation_0-error:0.36818\n",
      "[120]\tvalidation_0-auc:0.56455\tvalidation_0-logloss:0.65273\tvalidation_0-error:0.36818\n",
      "[121]\tvalidation_0-auc:0.56450\tvalidation_0-logloss:0.65270\tvalidation_0-error:0.36851\n",
      "[122]\tvalidation_0-auc:0.56471\tvalidation_0-logloss:0.65262\tvalidation_0-error:0.36917\n",
      "[123]\tvalidation_0-auc:0.56475\tvalidation_0-logloss:0.65258\tvalidation_0-error:0.37016\n",
      "[124]\tvalidation_0-auc:0.56465\tvalidation_0-logloss:0.65253\tvalidation_0-error:0.36983\n",
      "[125]\tvalidation_0-auc:0.56456\tvalidation_0-logloss:0.65247\tvalidation_0-error:0.37016\n",
      "[126]\tvalidation_0-auc:0.56427\tvalidation_0-logloss:0.65245\tvalidation_0-error:0.36851\n",
      "[127]\tvalidation_0-auc:0.56401\tvalidation_0-logloss:0.65244\tvalidation_0-error:0.36818\n",
      "[128]\tvalidation_0-auc:0.56393\tvalidation_0-logloss:0.65240\tvalidation_0-error:0.36950\n",
      "[129]\tvalidation_0-auc:0.56366\tvalidation_0-logloss:0.65237\tvalidation_0-error:0.36950\n"
     ]
    },
    {
     "data": {
      "text/plain": [
       "XGBClassifier(base_score=0.5, booster='gbtree', colsample_bylevel=1,\n",
       "              colsample_bynode=1, colsample_bytree=0.65,\n",
       "              enable_categorical=False, eta=0.015,\n",
       "              eval_metric=['auc', 'logloss', 'error'], gamma=1.25, gpu_id=-1,\n",
       "              importance_type=None, interaction_constraints='',\n",
       "              learning_rate=0.0149999997, max_delta_step=0, max_depth=6,\n",
       "              min_child_weight=30, missing=nan, monotone_constraints='()',\n",
       "              n_estimators=130, n_jobs=12, num_parallel_tree=1,\n",
       "              predictor='auto', random_state=123, reg_alpha=0, reg_lambda=1,\n",
       "              scale_pos_weight=1, subsample=1, tree_method='exact',\n",
       "              validate_parameters=1, verbosity=None)"
      ]
     },
     "execution_count": 213,
     "metadata": {},
     "output_type": "execute_result"
    }
   ],
   "source": [
    "model = xgb.XGBClassifier(objective='binary:logistic', n_estimators=130, max_depth=6, gamma=1.25, eta=0.015,\n",
    "                          min_child_weight=30, colsample_bytree=0.65, \n",
    "                          random_state=123, eval_metric=[\"auc\", \"logloss\", \"error\"])\n",
    "model.fit(X_train, y_train, eval_set=[(X_test, y_test)])"
   ]
  },
  {
   "cell_type": "code",
   "execution_count": 214,
   "id": "fd60cb85",
   "metadata": {},
   "outputs": [
    {
     "data": {
      "text/plain": [
       "<AxesSubplot:>"
      ]
     },
     "execution_count": 214,
     "metadata": {},
     "output_type": "execute_result"
    },
    {
     "data": {
      "image/png": "[encoded data removed]",
      "text/plain": [
       "<Figure size 432x288 with 1 Axes>"
      ]
     },
     "metadata": {
      "needs_background": "light"
     },
     "output_type": "display_data"
    }
   ],
   "source": [
    "fu_dict = dict(zip(X_train.columns, model.feature_importances_))\n",
    "fi = pd.DataFrame(fu_dict.values(), index=fu_dict.keys(), columns=[\"importance\"])\n",
    "fi = fi.sort_values(by=\"importance\", ascending=False)\n",
    "\n",
    "fi.plot.bar()"
   ]
  },
  {
   "cell_type": "code",
   "execution_count": 260,
   "id": "ff8a7a70",
   "metadata": {},
   "outputs": [
    {
     "data": {
      "text/plain": [
       "array([[  37, 1098],\n",
       "       [  34, 1889]])"
      ]
     },
     "execution_count": 260,
     "metadata": {},
     "output_type": "execute_result"
    }
   ],
   "source": [
    "y_pred1 = model.predict(X_test)\n",
    "cm = confusion_matrix(y_test, y_pred1)\n",
    "cm"
   ]
  },
  {
   "cell_type": "code",
   "execution_count": 261,
   "id": "55f7e0eb",
   "metadata": {},
   "outputs": [],
   "source": [
    "y_pred_proba = model.predict_proba(X_test)[:,1]\n",
    "predict_mine = np.where(y_pred_proba > 0.61, 1, 0)\n",
    "cm1 = confusion_matrix(y_test, predict_mine)"
   ]
  },
  {
   "cell_type": "code",
   "execution_count": 262,
   "id": "38f19818",
   "metadata": {},
   "outputs": [
    {
     "data": {
      "text/plain": [
       "array([[1016,  119],\n",
       "       [1570,  353]])"
      ]
     },
     "execution_count": 262,
     "metadata": {},
     "output_type": "execute_result"
    }
   ],
   "source": [
    "cm1"
   ]
  },
  {
   "cell_type": "code",
   "execution_count": 263,
   "id": "2a080435",
   "metadata": {},
   "outputs": [
    {
     "data": {
      "text/plain": [
       "0.6298234139960759"
      ]
     },
     "execution_count": 263,
     "metadata": {},
     "output_type": "execute_result"
    }
   ],
   "source": [
    "metrics.accuracy_score(y_test, y_pred1)"
   ]
  },
  {
   "cell_type": "code",
   "execution_count": 264,
   "id": "2a85372f",
   "metadata": {},
   "outputs": [
    {
     "data": {
      "text/plain": [
       "(0.7478813559322034, 0.5211267605633803)"
      ]
     },
     "execution_count": 264,
     "metadata": {},
     "output_type": "execute_result"
    }
   ],
   "source": [
    "cm1[1][1]/(cm1[1][1]+cm1[0][1]), cm[0][0]/(cm[1][0]+cm[0][0])"
   ]
  },
  {
   "cell_type": "code",
   "execution_count": 265,
   "id": "7e46167a",
   "metadata": {},
   "outputs": [
    {
     "data": {
      "text/plain": [
       "(15.434924787442771, 2.3217789404839766)"
      ]
     },
     "execution_count": 265,
     "metadata": {},
     "output_type": "execute_result"
    }
   ],
   "source": [
    "(cm1[1][1]+cm1[0][1])/len(y_test)*100, (cm[0][0]+cm[1][0])/len(y_test)*100"
   ]
  },
  {
   "cell_type": "markdown",
   "id": "bd2cf07a",
   "metadata": {},
   "source": [
    "# VALIDATION - BEST MODEL --> 70% accuracy in 17% of matches"
   ]
  },
  {
   "cell_type": "code",
   "execution_count": 266,
   "id": "31566b6c",
   "metadata": {},
   "outputs": [
    {
     "data": {
      "text/plain": [
       "array([[  5, 120],\n",
       "       [  7, 215]])"
      ]
     },
     "execution_count": 266,
     "metadata": {},
     "output_type": "execute_result"
    }
   ],
   "source": [
    "y_pred = model.predict(X_validation)\n",
    "cm = confusion_matrix(y_validation, y_pred)\n",
    "cm"
   ]
  },
  {
   "cell_type": "code",
   "execution_count": 267,
   "id": "960fa297",
   "metadata": {},
   "outputs": [
    {
     "data": {
      "text/plain": [
       "0.6340057636887608"
      ]
     },
     "execution_count": 267,
     "metadata": {},
     "output_type": "execute_result"
    }
   ],
   "source": [
    "metrics.accuracy_score(y_validation, y_pred)"
   ]
  },
  {
   "cell_type": "code",
   "execution_count": 268,
   "id": "e849fc15",
   "metadata": {},
   "outputs": [],
   "source": [
    "y_pred_proba = model.predict_proba(X_validation)[:,1]\n",
    "predict_mine = np.where(y_pred_proba > 0.615, 1, 0)\n",
    "cm1 = confusion_matrix(y_validation, predict_mine)"
   ]
  },
  {
   "cell_type": "code",
   "execution_count": 269,
   "id": "8792d422",
   "metadata": {},
   "outputs": [
    {
     "data": {
      "text/plain": [
       "(0.7636363636363637, 0.4166666666666667)"
      ]
     },
     "execution_count": 269,
     "metadata": {},
     "output_type": "execute_result"
    }
   ],
   "source": [
    "cm1[1][1]/(cm1[1][1]+cm1[0][1]), cm[0][0]/(cm[1][0]+cm[0][0])"
   ]
  },
  {
   "cell_type": "code",
   "execution_count": 270,
   "id": "e19d4fb4",
   "metadata": {},
   "outputs": [
    {
     "data": {
      "text/plain": [
       "(15.85014409221902, 3.45821325648415)"
      ]
     },
     "execution_count": 270,
     "metadata": {},
     "output_type": "execute_result"
    }
   ],
   "source": [
    "(cm1[1][1]+cm1[0][1])/len(y_validation)*100, (cm[0][0]+cm[1][0])/len(y_validation)*100"
   ]
  },
  {
   "cell_type": "code",
   "execution_count": 251,
   "id": "dbd587ba",
   "metadata": {},
   "outputs": [
    {
     "data": {
      "text/plain": [
       "array([[112,  13],\n",
       "       [180,  42]])"
      ]
     },
     "execution_count": 251,
     "metadata": {},
     "output_type": "execute_result"
    }
   ],
   "source": [
    "cm1"
   ]
  },
  {
   "cell_type": "code",
   "execution_count": null,
   "id": "ed65eb0a",
   "metadata": {},
   "outputs": [],
   "source": []
  },
  {
   "cell_type": "markdown",
   "id": "ad7f885b",
   "metadata": {},
   "source": [
    "## FINAL VALIDATION - NOVEMBER 2021"
   ]
  },
  {
   "cell_type": "code",
   "execution_count": 252,
   "id": "2ff81e36",
   "metadata": {},
   "outputs": [
    {
     "data": {
      "text/plain": [
       "array([[  2,  71],\n",
       "       [  4, 127]])"
      ]
     },
     "execution_count": 252,
     "metadata": {},
     "output_type": "execute_result"
    }
   ],
   "source": [
    "y_pred = model.predict(X_validation_november)\n",
    "cm = confusion_matrix(y_validation_november, y_pred)\n",
    "cm"
   ]
  },
  {
   "cell_type": "code",
   "execution_count": 253,
   "id": "6d5e72bf",
   "metadata": {},
   "outputs": [
    {
     "data": {
      "text/plain": [
       "0.6323529411764706"
      ]
     },
     "execution_count": 253,
     "metadata": {},
     "output_type": "execute_result"
    }
   ],
   "source": [
    "metrics.accuracy_score(y_validation_november, y_pred)"
   ]
  },
  {
   "cell_type": "code",
   "execution_count": 254,
   "id": "2bd44841",
   "metadata": {},
   "outputs": [],
   "source": [
    "y_pred_proba = model.predict_proba(X_validation_november)[:,1]\n",
    "predict_mine = np.where(y_pred_proba > 0.615, 1, 0)\n",
    "cm1 = confusion_matrix(y_validation_november, predict_mine)"
   ]
  },
  {
   "cell_type": "code",
   "execution_count": 255,
   "id": "b0f47d24",
   "metadata": {},
   "outputs": [
    {
     "data": {
      "text/plain": [
       "array([[ 67,   6],\n",
       "       [111,  20]])"
      ]
     },
     "execution_count": 255,
     "metadata": {},
     "output_type": "execute_result"
    }
   ],
   "source": [
    "cm1"
   ]
  },
  {
   "cell_type": "code",
   "execution_count": 256,
   "id": "8c44788e",
   "metadata": {},
   "outputs": [
    {
     "data": {
      "text/plain": [
       "(0.7692307692307693, 0.3333333333333333)"
      ]
     },
     "execution_count": 256,
     "metadata": {},
     "output_type": "execute_result"
    }
   ],
   "source": [
    "cm1[1][1]/(cm1[1][1]+cm1[0][1]), cm[0][0]/(cm[1][0]+cm[0][0])"
   ]
  },
  {
   "cell_type": "code",
   "execution_count": 257,
   "id": "9f8859f0",
   "metadata": {},
   "outputs": [
    {
     "data": {
      "text/plain": [
       "(12.745098039215685, 2.941176470588235)"
      ]
     },
     "execution_count": 257,
     "metadata": {},
     "output_type": "execute_result"
    }
   ],
   "source": [
    "(cm1[1][1]+cm1[0][1])/len(y_validation_november)*100, (cm[0][0]+cm[1][0])/len(y_validation_november)*100"
   ]
  },
  {
   "cell_type": "code",
   "execution_count": null,
   "id": "433abf23",
   "metadata": {},
   "outputs": [],
   "source": []
  },
  {
   "cell_type": "code",
   "execution_count": 238,
   "id": "74594fdf",
   "metadata": {},
   "outputs": [],
   "source": [
    "#umbral --> 0.605; Condition --> TOTAL_CORNERS > 2\n",
    "import pickle\n",
    "file_name = \"model_under3_70.pkl\"\n",
    "\n",
    "# save\n",
    "pickle.dump(model, open(file_name, \"wb\"))\n",
    "\n",
    "# load\n",
    "#xgb_model_loaded = pickle.load(open(file_name, \"rb\"))\n"
   ]
  },
  {
   "cell_type": "markdown",
   "id": "fd483e1a",
   "metadata": {},
   "source": [
    "# OUTPUT"
   ]
  },
  {
   "cell_type": "code",
   "execution_count": 130,
   "id": "e438cbca",
   "metadata": {},
   "outputs": [],
   "source": [
    "output = data[(data.YEARMONTH>=202111 )& (data.TOTAL_CORNERS>3)][[\"ID\", \"output\", \"CORNERS_H\", \"CORNERS_A\", \"TOTAL_CORNERS\"]].reset_index(drop=True)"
   ]
  },
  {
   "cell_type": "code",
   "execution_count": 131,
   "id": "a9ace64f",
   "metadata": {},
   "outputs": [],
   "source": [
    "output[\"PROB_CORNERS\"] = pd.DataFrame(model.predict_proba(X_validation_november)[:,1]).iloc[:, 0]\\\n",
    "    .apply(lambda x: 1 if x>0.6 else 0)"
   ]
  },
  {
   "cell_type": "code",
   "execution_count": 132,
   "id": "a8486cc5",
   "metadata": {},
   "outputs": [
    {
     "data": {
      "text/html": [
       "<div>\n",
       "<style scoped>\n",
       "    .dataframe tbody tr th:only-of-type {\n",
       "        vertical-align: middle;\n",
       "    }\n",
       "\n",
       "    .dataframe tbody tr th {\n",
       "        vertical-align: top;\n",
       "    }\n",
       "\n",
       "    .dataframe thead th {\n",
       "        text-align: right;\n",
       "    }\n",
       "</style>\n",
       "<table border=\"1\" class=\"dataframe\">\n",
       "  <thead>\n",
       "    <tr style=\"text-align: right;\">\n",
       "      <th></th>\n",
       "      <th>ID</th>\n",
       "      <th>output</th>\n",
       "      <th>CORNERS_H</th>\n",
       "      <th>CORNERS_A</th>\n",
       "      <th>TOTAL_CORNERS</th>\n",
       "      <th>PROB_CORNERS</th>\n",
       "    </tr>\n",
       "  </thead>\n",
       "  <tbody>\n",
       "    <tr>\n",
       "      <th>0</th>\n",
       "      <td>E30fSmrc</td>\n",
       "      <td>1</td>\n",
       "      <td>5</td>\n",
       "      <td>0</td>\n",
       "      <td>5</td>\n",
       "      <td>1</td>\n",
       "    </tr>\n",
       "    <tr>\n",
       "      <th>1</th>\n",
       "      <td>nsYoAO57</td>\n",
       "      <td>1</td>\n",
       "      <td>5</td>\n",
       "      <td>1</td>\n",
       "      <td>6</td>\n",
       "      <td>1</td>\n",
       "    </tr>\n",
       "    <tr>\n",
       "      <th>2</th>\n",
       "      <td>p0AwSvlE</td>\n",
       "      <td>1</td>\n",
       "      <td>4</td>\n",
       "      <td>4</td>\n",
       "      <td>8</td>\n",
       "      <td>1</td>\n",
       "    </tr>\n",
       "    <tr>\n",
       "      <th>7</th>\n",
       "      <td>Oj9sRb3K</td>\n",
       "      <td>1</td>\n",
       "      <td>4</td>\n",
       "      <td>3</td>\n",
       "      <td>7</td>\n",
       "      <td>1</td>\n",
       "    </tr>\n",
       "    <tr>\n",
       "      <th>8</th>\n",
       "      <td>dCFxXoDK</td>\n",
       "      <td>1</td>\n",
       "      <td>2</td>\n",
       "      <td>4</td>\n",
       "      <td>6</td>\n",
       "      <td>1</td>\n",
       "    </tr>\n",
       "    <tr>\n",
       "      <th>9</th>\n",
       "      <td>vyLXXRcE</td>\n",
       "      <td>1</td>\n",
       "      <td>4</td>\n",
       "      <td>2</td>\n",
       "      <td>6</td>\n",
       "      <td>1</td>\n",
       "    </tr>\n",
       "    <tr>\n",
       "      <th>14</th>\n",
       "      <td>80vLFh5r</td>\n",
       "      <td>0</td>\n",
       "      <td>2</td>\n",
       "      <td>5</td>\n",
       "      <td>7</td>\n",
       "      <td>1</td>\n",
       "    </tr>\n",
       "    <tr>\n",
       "      <th>15</th>\n",
       "      <td>fZaDLxRs</td>\n",
       "      <td>0</td>\n",
       "      <td>1</td>\n",
       "      <td>7</td>\n",
       "      <td>8</td>\n",
       "      <td>1</td>\n",
       "    </tr>\n",
       "    <tr>\n",
       "      <th>16</th>\n",
       "      <td>ID8oQIIQ</td>\n",
       "      <td>1</td>\n",
       "      <td>5</td>\n",
       "      <td>1</td>\n",
       "      <td>6</td>\n",
       "      <td>1</td>\n",
       "    </tr>\n",
       "    <tr>\n",
       "      <th>17</th>\n",
       "      <td>GllMJGef</td>\n",
       "      <td>1</td>\n",
       "      <td>5</td>\n",
       "      <td>4</td>\n",
       "      <td>9</td>\n",
       "      <td>1</td>\n",
       "    </tr>\n",
       "    <tr>\n",
       "      <th>19</th>\n",
       "      <td>0S6SM1kD</td>\n",
       "      <td>1</td>\n",
       "      <td>2</td>\n",
       "      <td>2</td>\n",
       "      <td>4</td>\n",
       "      <td>1</td>\n",
       "    </tr>\n",
       "    <tr>\n",
       "      <th>20</th>\n",
       "      <td>0pMTY7r8</td>\n",
       "      <td>1</td>\n",
       "      <td>3</td>\n",
       "      <td>2</td>\n",
       "      <td>5</td>\n",
       "      <td>1</td>\n",
       "    </tr>\n",
       "    <tr>\n",
       "      <th>21</th>\n",
       "      <td>lAfHP35f</td>\n",
       "      <td>1</td>\n",
       "      <td>9</td>\n",
       "      <td>3</td>\n",
       "      <td>12</td>\n",
       "      <td>1</td>\n",
       "    </tr>\n",
       "    <tr>\n",
       "      <th>22</th>\n",
       "      <td>jRSOwxmQ</td>\n",
       "      <td>1</td>\n",
       "      <td>3</td>\n",
       "      <td>6</td>\n",
       "      <td>9</td>\n",
       "      <td>1</td>\n",
       "    </tr>\n",
       "    <tr>\n",
       "      <th>23</th>\n",
       "      <td>G8C3Wgu0</td>\n",
       "      <td>1</td>\n",
       "      <td>3</td>\n",
       "      <td>1</td>\n",
       "      <td>4</td>\n",
       "      <td>1</td>\n",
       "    </tr>\n",
       "    <tr>\n",
       "      <th>24</th>\n",
       "      <td>C6zouq5s</td>\n",
       "      <td>1</td>\n",
       "      <td>5</td>\n",
       "      <td>0</td>\n",
       "      <td>5</td>\n",
       "      <td>1</td>\n",
       "    </tr>\n",
       "    <tr>\n",
       "      <th>28</th>\n",
       "      <td>EVW1y146</td>\n",
       "      <td>0</td>\n",
       "      <td>3</td>\n",
       "      <td>3</td>\n",
       "      <td>6</td>\n",
       "      <td>1</td>\n",
       "    </tr>\n",
       "    <tr>\n",
       "      <th>29</th>\n",
       "      <td>zoLAZvZI</td>\n",
       "      <td>1</td>\n",
       "      <td>5</td>\n",
       "      <td>3</td>\n",
       "      <td>8</td>\n",
       "      <td>1</td>\n",
       "    </tr>\n",
       "    <tr>\n",
       "      <th>30</th>\n",
       "      <td>O0EhbOBJ</td>\n",
       "      <td>1</td>\n",
       "      <td>7</td>\n",
       "      <td>2</td>\n",
       "      <td>9</td>\n",
       "      <td>1</td>\n",
       "    </tr>\n",
       "    <tr>\n",
       "      <th>33</th>\n",
       "      <td>GhUwadeM</td>\n",
       "      <td>0</td>\n",
       "      <td>4</td>\n",
       "      <td>2</td>\n",
       "      <td>6</td>\n",
       "      <td>1</td>\n",
       "    </tr>\n",
       "    <tr>\n",
       "      <th>35</th>\n",
       "      <td>8MwJ3Kti</td>\n",
       "      <td>0</td>\n",
       "      <td>4</td>\n",
       "      <td>4</td>\n",
       "      <td>8</td>\n",
       "      <td>1</td>\n",
       "    </tr>\n",
       "    <tr>\n",
       "      <th>36</th>\n",
       "      <td>UySR1bB3</td>\n",
       "      <td>0</td>\n",
       "      <td>5</td>\n",
       "      <td>0</td>\n",
       "      <td>5</td>\n",
       "      <td>1</td>\n",
       "    </tr>\n",
       "    <tr>\n",
       "      <th>40</th>\n",
       "      <td>xO0CUX9C</td>\n",
       "      <td>1</td>\n",
       "      <td>4</td>\n",
       "      <td>4</td>\n",
       "      <td>8</td>\n",
       "      <td>1</td>\n",
       "    </tr>\n",
       "    <tr>\n",
       "      <th>41</th>\n",
       "      <td>dfM6zLJC</td>\n",
       "      <td>1</td>\n",
       "      <td>4</td>\n",
       "      <td>6</td>\n",
       "      <td>10</td>\n",
       "      <td>1</td>\n",
       "    </tr>\n",
       "    <tr>\n",
       "      <th>42</th>\n",
       "      <td>8YTgwNZg</td>\n",
       "      <td>1</td>\n",
       "      <td>7</td>\n",
       "      <td>0</td>\n",
       "      <td>7</td>\n",
       "      <td>1</td>\n",
       "    </tr>\n",
       "    <tr>\n",
       "      <th>43</th>\n",
       "      <td>ruWV0IQ9</td>\n",
       "      <td>0</td>\n",
       "      <td>2</td>\n",
       "      <td>6</td>\n",
       "      <td>8</td>\n",
       "      <td>1</td>\n",
       "    </tr>\n",
       "    <tr>\n",
       "      <th>44</th>\n",
       "      <td>nDxN2vdc</td>\n",
       "      <td>0</td>\n",
       "      <td>4</td>\n",
       "      <td>4</td>\n",
       "      <td>8</td>\n",
       "      <td>1</td>\n",
       "    </tr>\n",
       "    <tr>\n",
       "      <th>45</th>\n",
       "      <td>WKAiZees</td>\n",
       "      <td>1</td>\n",
       "      <td>1</td>\n",
       "      <td>5</td>\n",
       "      <td>6</td>\n",
       "      <td>1</td>\n",
       "    </tr>\n",
       "    <tr>\n",
       "      <th>46</th>\n",
       "      <td>ruh1GcQd</td>\n",
       "      <td>1</td>\n",
       "      <td>3</td>\n",
       "      <td>5</td>\n",
       "      <td>8</td>\n",
       "      <td>1</td>\n",
       "    </tr>\n",
       "    <tr>\n",
       "      <th>48</th>\n",
       "      <td>z19YlKY5</td>\n",
       "      <td>1</td>\n",
       "      <td>4</td>\n",
       "      <td>3</td>\n",
       "      <td>7</td>\n",
       "      <td>1</td>\n",
       "    </tr>\n",
       "    <tr>\n",
       "      <th>51</th>\n",
       "      <td>2iDdcrRP</td>\n",
       "      <td>1</td>\n",
       "      <td>3</td>\n",
       "      <td>2</td>\n",
       "      <td>5</td>\n",
       "      <td>1</td>\n",
       "    </tr>\n",
       "    <tr>\n",
       "      <th>53</th>\n",
       "      <td>UefDDeAF</td>\n",
       "      <td>1</td>\n",
       "      <td>1</td>\n",
       "      <td>6</td>\n",
       "      <td>7</td>\n",
       "      <td>1</td>\n",
       "    </tr>\n",
       "    <tr>\n",
       "      <th>55</th>\n",
       "      <td>CKqICFPL</td>\n",
       "      <td>1</td>\n",
       "      <td>3</td>\n",
       "      <td>6</td>\n",
       "      <td>9</td>\n",
       "      <td>1</td>\n",
       "    </tr>\n",
       "    <tr>\n",
       "      <th>56</th>\n",
       "      <td>MVj5FHu3</td>\n",
       "      <td>1</td>\n",
       "      <td>2</td>\n",
       "      <td>4</td>\n",
       "      <td>6</td>\n",
       "      <td>1</td>\n",
       "    </tr>\n",
       "    <tr>\n",
       "      <th>59</th>\n",
       "      <td>8YkPh2Zt</td>\n",
       "      <td>1</td>\n",
       "      <td>3</td>\n",
       "      <td>2</td>\n",
       "      <td>5</td>\n",
       "      <td>1</td>\n",
       "    </tr>\n",
       "    <tr>\n",
       "      <th>61</th>\n",
       "      <td>KjzAVVXp</td>\n",
       "      <td>0</td>\n",
       "      <td>3</td>\n",
       "      <td>3</td>\n",
       "      <td>6</td>\n",
       "      <td>1</td>\n",
       "    </tr>\n",
       "    <tr>\n",
       "      <th>62</th>\n",
       "      <td>zwBAgzJq</td>\n",
       "      <td>1</td>\n",
       "      <td>7</td>\n",
       "      <td>1</td>\n",
       "      <td>8</td>\n",
       "      <td>1</td>\n",
       "    </tr>\n",
       "    <tr>\n",
       "      <th>64</th>\n",
       "      <td>Y7ekMDA0</td>\n",
       "      <td>1</td>\n",
       "      <td>2</td>\n",
       "      <td>6</td>\n",
       "      <td>8</td>\n",
       "      <td>1</td>\n",
       "    </tr>\n",
       "    <tr>\n",
       "      <th>67</th>\n",
       "      <td>8CG4iDf4</td>\n",
       "      <td>0</td>\n",
       "      <td>2</td>\n",
       "      <td>3</td>\n",
       "      <td>5</td>\n",
       "      <td>1</td>\n",
       "    </tr>\n",
       "    <tr>\n",
       "      <th>70</th>\n",
       "      <td>lMOCkiPG</td>\n",
       "      <td>1</td>\n",
       "      <td>5</td>\n",
       "      <td>4</td>\n",
       "      <td>9</td>\n",
       "      <td>1</td>\n",
       "    </tr>\n",
       "    <tr>\n",
       "      <th>71</th>\n",
       "      <td>rqOGlBvN</td>\n",
       "      <td>1</td>\n",
       "      <td>3</td>\n",
       "      <td>4</td>\n",
       "      <td>7</td>\n",
       "      <td>1</td>\n",
       "    </tr>\n",
       "    <tr>\n",
       "      <th>72</th>\n",
       "      <td>6FGUr2cI</td>\n",
       "      <td>1</td>\n",
       "      <td>6</td>\n",
       "      <td>5</td>\n",
       "      <td>11</td>\n",
       "      <td>1</td>\n",
       "    </tr>\n",
       "    <tr>\n",
       "      <th>73</th>\n",
       "      <td>0nDdgZPi</td>\n",
       "      <td>1</td>\n",
       "      <td>3</td>\n",
       "      <td>10</td>\n",
       "      <td>13</td>\n",
       "      <td>1</td>\n",
       "    </tr>\n",
       "    <tr>\n",
       "      <th>74</th>\n",
       "      <td>MgZi6D2k</td>\n",
       "      <td>0</td>\n",
       "      <td>4</td>\n",
       "      <td>4</td>\n",
       "      <td>8</td>\n",
       "      <td>1</td>\n",
       "    </tr>\n",
       "    <tr>\n",
       "      <th>76</th>\n",
       "      <td>GSpmQYgL</td>\n",
       "      <td>1</td>\n",
       "      <td>5</td>\n",
       "      <td>0</td>\n",
       "      <td>5</td>\n",
       "      <td>1</td>\n",
       "    </tr>\n",
       "    <tr>\n",
       "      <th>77</th>\n",
       "      <td>xxnqREvF</td>\n",
       "      <td>0</td>\n",
       "      <td>6</td>\n",
       "      <td>6</td>\n",
       "      <td>12</td>\n",
       "      <td>1</td>\n",
       "    </tr>\n",
       "    <tr>\n",
       "      <th>83</th>\n",
       "      <td>xI3tKroU</td>\n",
       "      <td>0</td>\n",
       "      <td>4</td>\n",
       "      <td>5</td>\n",
       "      <td>9</td>\n",
       "      <td>1</td>\n",
       "    </tr>\n",
       "    <tr>\n",
       "      <th>84</th>\n",
       "      <td>lG5l5XHe</td>\n",
       "      <td>1</td>\n",
       "      <td>2</td>\n",
       "      <td>2</td>\n",
       "      <td>4</td>\n",
       "      <td>1</td>\n",
       "    </tr>\n",
       "    <tr>\n",
       "      <th>86</th>\n",
       "      <td>EFCLO6Wb</td>\n",
       "      <td>1</td>\n",
       "      <td>6</td>\n",
       "      <td>2</td>\n",
       "      <td>8</td>\n",
       "      <td>1</td>\n",
       "    </tr>\n",
       "    <tr>\n",
       "      <th>87</th>\n",
       "      <td>445YL4GH</td>\n",
       "      <td>1</td>\n",
       "      <td>5</td>\n",
       "      <td>1</td>\n",
       "      <td>6</td>\n",
       "      <td>1</td>\n",
       "    </tr>\n",
       "    <tr>\n",
       "      <th>88</th>\n",
       "      <td>Ewe8F2go</td>\n",
       "      <td>1</td>\n",
       "      <td>6</td>\n",
       "      <td>2</td>\n",
       "      <td>8</td>\n",
       "      <td>1</td>\n",
       "    </tr>\n",
       "  </tbody>\n",
       "</table>\n",
       "</div>"
      ],
      "text/plain": [
       "          ID  output  CORNERS_H  CORNERS_A  TOTAL_CORNERS  PROB_CORNERS\n",
       "0   E30fSmrc       1          5          0              5             1\n",
       "1   nsYoAO57       1          5          1              6             1\n",
       "2   p0AwSvlE       1          4          4              8             1\n",
       "7   Oj9sRb3K       1          4          3              7             1\n",
       "8   dCFxXoDK       1          2          4              6             1\n",
       "9   vyLXXRcE       1          4          2              6             1\n",
       "14  80vLFh5r       0          2          5              7             1\n",
       "15  fZaDLxRs       0          1          7              8             1\n",
       "16  ID8oQIIQ       1          5          1              6             1\n",
       "17  GllMJGef       1          5          4              9             1\n",
       "19  0S6SM1kD       1          2          2              4             1\n",
       "20  0pMTY7r8       1          3          2              5             1\n",
       "21  lAfHP35f       1          9          3             12             1\n",
       "22  jRSOwxmQ       1          3          6              9             1\n",
       "23  G8C3Wgu0       1          3          1              4             1\n",
       "24  C6zouq5s       1          5          0              5             1\n",
       "28  EVW1y146       0          3          3              6             1\n",
       "29  zoLAZvZI       1          5          3              8             1\n",
       "30  O0EhbOBJ       1          7          2              9             1\n",
       "33  GhUwadeM       0          4          2              6             1\n",
       "35  8MwJ3Kti       0          4          4              8             1\n",
       "36  UySR1bB3       0          5          0              5             1\n",
       "40  xO0CUX9C       1          4          4              8             1\n",
       "41  dfM6zLJC       1          4          6             10             1\n",
       "42  8YTgwNZg       1          7          0              7             1\n",
       "43  ruWV0IQ9       0          2          6              8             1\n",
       "44  nDxN2vdc       0          4          4              8             1\n",
       "45  WKAiZees       1          1          5              6             1\n",
       "46  ruh1GcQd       1          3          5              8             1\n",
       "48  z19YlKY5       1          4          3              7             1\n",
       "51  2iDdcrRP       1          3          2              5             1\n",
       "53  UefDDeAF       1          1          6              7             1\n",
       "55  CKqICFPL       1          3          6              9             1\n",
       "56  MVj5FHu3       1          2          4              6             1\n",
       "59  8YkPh2Zt       1          3          2              5             1\n",
       "61  KjzAVVXp       0          3          3              6             1\n",
       "62  zwBAgzJq       1          7          1              8             1\n",
       "64  Y7ekMDA0       1          2          6              8             1\n",
       "67  8CG4iDf4       0          2          3              5             1\n",
       "70  lMOCkiPG       1          5          4              9             1\n",
       "71  rqOGlBvN       1          3          4              7             1\n",
       "72  6FGUr2cI       1          6          5             11             1\n",
       "73  0nDdgZPi       1          3         10             13             1\n",
       "74  MgZi6D2k       0          4          4              8             1\n",
       "76  GSpmQYgL       1          5          0              5             1\n",
       "77  xxnqREvF       0          6          6             12             1\n",
       "83  xI3tKroU       0          4          5              9             1\n",
       "84  lG5l5XHe       1          2          2              4             1\n",
       "86  EFCLO6Wb       1          6          2              8             1\n",
       "87  445YL4GH       1          5          1              6             1\n",
       "88  Ewe8F2go       1          6          2              8             1"
      ]
     },
     "execution_count": 132,
     "metadata": {},
     "output_type": "execute_result"
    }
   ],
   "source": [
    "output[output.PROB_CORNERS==1]"
   ]
  },
  {
   "cell_type": "code",
   "execution_count": null,
   "id": "c616056a",
   "metadata": {},
   "outputs": [],
   "source": []
  }
 ],
 "metadata": {
  "kernelspec": {
   "display_name": "Python 3 (ipykernel)",
   "language": "python",
   "name": "python3"
  },
  "language_info": {
   "codemirror_mode": {
    "name": "ipython",
    "version": 3
   },
   "file_extension": ".py",
   "mimetype": "text/x-python",
   "name": "python",
   "nbconvert_exporter": "python",
   "pygments_lexer": "ipython3",
   "version": "3.7.11"
  }
 },
 "nbformat": 4,
 "nbformat_minor": 5
}
