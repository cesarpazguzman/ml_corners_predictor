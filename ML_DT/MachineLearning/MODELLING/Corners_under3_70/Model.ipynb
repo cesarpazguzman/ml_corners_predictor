{
 "cells": [
  {
   "cell_type": "code",
   "execution_count": 299,
   "id": "0705929c",
   "metadata": {},
   "outputs": [],
   "source": [
    "import pymysql\n",
    "from sklearn.ensemble import RandomForestClassifier\n",
    "from sqlalchemy import create_engine\n",
    "import pandas as pd\n",
    "import matplotlib.pyplot as plt\n",
    "%matplotlib inline\n",
    "import numpy as np\n",
    "from pandasql import sqldf\n",
    "from sklearn import metrics\n",
    "from sklearn.model_selection import train_test_split\n",
    "\n",
    "import xgboost as xgb\n",
    "from sklearn.metrics import accuracy_score, confusion_matrix"
   ]
  },
  {
   "cell_type": "code",
   "execution_count": 812,
   "id": "0121f51f",
   "metadata": {},
   "outputs": [],
   "source": [
    "data = pd.read_csv(\"../../FEATURE_ENGINEER/tablon_uppert_70_q3.csv\").drop(\n",
    "    columns=[\"ID\", \"DATE_MATCH\", \"TEAM_HOME\", \"TEAM_AWAY\", \"LEAGUE_INGLATERRA\", \"Unnamed: 0\",\n",
    "            \"FAVOURITE_IS_HOME\", \"LEAGUE_ALEMANIA\", \"FAVOURITE_IS_AWAY\", \"LEAGUE_FRANCIA\", \"LEAGUE_ITALIA\",\n",
    "            \"NUM_SAVESAWAY_L45\", \"AVG_CORNERSAWAY2_L3\", \"CORNERS_H_45_60\", \"CORNERS_DANGATTACKS_L45\", \"CORNERS_A\",\n",
    "            \"TEMPERATURE\", \"NUM_DANGATTACKSAWAY_L45\", \"NUM_DANGATTACKSHOME_L45\", \"NUM_FOULSAWAY_L45\", \"NUM_ATTACKSHOME_L45\",\n",
    "            \"NUM_TACKLEHOME_L45\", \"POSESSION_AWAY_L45\", \"IS_FAVOURITE_DRAWING\", \"SUM_GOALS_L60\", \"AVG_CORNERS_LOSE_AWAY\",\n",
    "            \"AVG_CORNERSAWAYR2_L5\", \"AVG_CORNERSHOME2_L3\",\"AVG_CORNERSHOMER2_L5\",\"CORNERS_A_45_60\",\"AVG_CORNERSHOME1_L3\",\n",
    "            \"AVG_CORNERSHOME2_L5\", \"AVG_CORNERSAWAYR1_L3\", \"LEAGUE_ESPANA\", \"GOALS_A\",\n",
    "            \"NUM_MATCHESAWAY_POSITIVE_L5\", \"NUM_SHOTSHOME_L45\",\"WIND\",\"RAIN\"], \n",
    "    axis=1)\n",
    "\n",
    "data = data[(data.TOTAL_CORNERS>3) & (data.TOTAL_CORNERS<9)].drop(columns=[\"TOTAL_CORNERS\"],axis=1)\n",
    "\n",
    "tablon = data[data.YEARMONTH<202109].drop(columns=[\"YEARMONTH\"],axis=1)\n",
    "\n",
    "\n",
    "X_validation = data[(data.YEARMONTH>=202109) & (data.YEARMONTH<202111)].drop(columns=[\"YEARMONTH\"],axis=1)\n",
    "y_validation = X_validation.pop(\"output\")\n",
    "\n",
    "\n",
    "X_validation_november = data[data.YEARMONTH>=202111].drop(columns=[\"YEARMONTH\"],axis=1)\n",
    "y_validation_november = X_validation_november.pop(\"output\")"
   ]
  },
  {
   "cell_type": "code",
   "execution_count": 813,
   "id": "b3d8b56c",
   "metadata": {},
   "outputs": [],
   "source": [
    "len_test = int(round(len(tablon)*0.2, 0))\n",
    "len_train = int(round(len(tablon)*0.8, 0))\n",
    "\n",
    "X_train = tablon[len_test:]\n",
    "y_train = X_train.pop(\"output\")\n",
    "X_test = tablon[:len_test]\n",
    "y_test = X_test.pop(\"output\")"
   ]
  },
  {
   "cell_type": "code",
   "execution_count": 814,
   "id": "3fe938f9",
   "metadata": {},
   "outputs": [
    {
     "data": {
      "text/plain": [
       "((5326, 56), (1332, 56), (232, 56))"
      ]
     },
     "execution_count": 814,
     "metadata": {},
     "output_type": "execute_result"
    }
   ],
   "source": [
    "X_train.shape, X_test.shape, X_validation.shape"
   ]
  },
  {
   "cell_type": "code",
   "execution_count": 815,
   "id": "e4371695",
   "metadata": {},
   "outputs": [
    {
     "data": {
      "text/plain": [
       "1    3297\n",
       "0    2029\n",
       "Name: output, dtype: int64"
      ]
     },
     "execution_count": 815,
     "metadata": {},
     "output_type": "execute_result"
    }
   ],
   "source": [
    "y_train.value_counts()"
   ]
  },
  {
   "cell_type": "code",
   "execution_count": 816,
   "id": "f73ee8e1",
   "metadata": {},
   "outputs": [
    {
     "data": {
      "text/plain": [
       "1    783\n",
       "0    549\n",
       "Name: output, dtype: int64"
      ]
     },
     "execution_count": 816,
     "metadata": {},
     "output_type": "execute_result"
    }
   ],
   "source": [
    "y_test.value_counts()"
   ]
  },
  {
   "cell_type": "code",
   "execution_count": 817,
   "id": "b178d2af",
   "metadata": {},
   "outputs": [
    {
     "data": {
      "text/plain": [
       "1    146\n",
       "0     86\n",
       "Name: output, dtype: int64"
      ]
     },
     "execution_count": 817,
     "metadata": {},
     "output_type": "execute_result"
    }
   ],
   "source": [
    "y_validation.value_counts()"
   ]
  },
  {
   "cell_type": "markdown",
   "id": "35058c53",
   "metadata": {},
   "source": [
    "## EXECUTING BEST MODEL"
   ]
  },
  {
   "cell_type": "code",
   "execution_count": 818,
   "id": "9353c5e4",
   "metadata": {},
   "outputs": [
    {
     "name": "stderr",
     "output_type": "stream",
     "text": [
      "/home/root/opt/python3.7.11/lib/python3.7/site-packages/xgboost/sklearn.py:1224: UserWarning: The use of label encoder in XGBClassifier is deprecated and will be removed in a future release. To remove this warning, do the following: 1) Pass option use_label_encoder=False when constructing XGBClassifier object; and 2) Encode your labels (y) as integers starting with 0, i.e. 0, 1, 2, ..., [num_class - 1].\n",
      "  warnings.warn(label_encoder_deprecation_msg, UserWarning)\n"
     ]
    },
    {
     "name": "stdout",
     "output_type": "stream",
     "text": [
      "[0]\tvalidation_0-auc:0.56809\tvalidation_0-logloss:0.69217\tvalidation_0-error:0.41216\n",
      "[1]\tvalidation_0-auc:0.56650\tvalidation_0-logloss:0.69127\tvalidation_0-error:0.41366\n",
      "[2]\tvalidation_0-auc:0.56133\tvalidation_0-logloss:0.69041\tvalidation_0-error:0.41517\n",
      "[3]\tvalidation_0-auc:0.56369\tvalidation_0-logloss:0.68956\tvalidation_0-error:0.41216\n",
      "[4]\tvalidation_0-auc:0.56849\tvalidation_0-logloss:0.68869\tvalidation_0-error:0.41517\n",
      "[5]\tvalidation_0-auc:0.56705\tvalidation_0-logloss:0.68791\tvalidation_0-error:0.40916\n",
      "[6]\tvalidation_0-auc:0.56899\tvalidation_0-logloss:0.68714\tvalidation_0-error:0.40691\n",
      "[7]\tvalidation_0-auc:0.56695\tvalidation_0-logloss:0.68642\tvalidation_0-error:0.40691\n",
      "[8]\tvalidation_0-auc:0.56175\tvalidation_0-logloss:0.68576\tvalidation_0-error:0.40465\n",
      "[9]\tvalidation_0-auc:0.56367\tvalidation_0-logloss:0.68506\tvalidation_0-error:0.40315\n",
      "[10]\tvalidation_0-auc:0.56405\tvalidation_0-logloss:0.68444\tvalidation_0-error:0.40465\n",
      "[11]\tvalidation_0-auc:0.56705\tvalidation_0-logloss:0.68373\tvalidation_0-error:0.40841\n",
      "[12]\tvalidation_0-auc:0.56420\tvalidation_0-logloss:0.68323\tvalidation_0-error:0.41216\n",
      "[13]\tvalidation_0-auc:0.56453\tvalidation_0-logloss:0.68263\tvalidation_0-error:0.41366\n",
      "[14]\tvalidation_0-auc:0.56732\tvalidation_0-logloss:0.68194\tvalidation_0-error:0.41066\n",
      "[15]\tvalidation_0-auc:0.56654\tvalidation_0-logloss:0.68139\tvalidation_0-error:0.41216\n",
      "[16]\tvalidation_0-auc:0.56619\tvalidation_0-logloss:0.68083\tvalidation_0-error:0.41066\n",
      "[17]\tvalidation_0-auc:0.56557\tvalidation_0-logloss:0.68037\tvalidation_0-error:0.41517\n",
      "[18]\tvalidation_0-auc:0.56852\tvalidation_0-logloss:0.67972\tvalidation_0-error:0.41291\n",
      "[19]\tvalidation_0-auc:0.57162\tvalidation_0-logloss:0.67909\tvalidation_0-error:0.41366\n",
      "[20]\tvalidation_0-auc:0.57281\tvalidation_0-logloss:0.67852\tvalidation_0-error:0.41366\n",
      "[21]\tvalidation_0-auc:0.57410\tvalidation_0-logloss:0.67799\tvalidation_0-error:0.41216\n",
      "[22]\tvalidation_0-auc:0.57457\tvalidation_0-logloss:0.67752\tvalidation_0-error:0.41441\n",
      "[23]\tvalidation_0-auc:0.57384\tvalidation_0-logloss:0.67714\tvalidation_0-error:0.41517\n",
      "[24]\tvalidation_0-auc:0.57399\tvalidation_0-logloss:0.67665\tvalidation_0-error:0.41216\n",
      "[25]\tvalidation_0-auc:0.57380\tvalidation_0-logloss:0.67628\tvalidation_0-error:0.41291\n",
      "[26]\tvalidation_0-auc:0.57322\tvalidation_0-logloss:0.67594\tvalidation_0-error:0.41517\n",
      "[27]\tvalidation_0-auc:0.57472\tvalidation_0-logloss:0.67543\tvalidation_0-error:0.41291\n",
      "[28]\tvalidation_0-auc:0.57245\tvalidation_0-logloss:0.67510\tvalidation_0-error:0.41742\n",
      "[29]\tvalidation_0-auc:0.57178\tvalidation_0-logloss:0.67474\tvalidation_0-error:0.41892\n",
      "[30]\tvalidation_0-auc:0.57060\tvalidation_0-logloss:0.67443\tvalidation_0-error:0.41667\n",
      "[31]\tvalidation_0-auc:0.57138\tvalidation_0-logloss:0.67399\tvalidation_0-error:0.41742\n",
      "[32]\tvalidation_0-auc:0.57188\tvalidation_0-logloss:0.67360\tvalidation_0-error:0.41517\n",
      "[33]\tvalidation_0-auc:0.57061\tvalidation_0-logloss:0.67338\tvalidation_0-error:0.41667\n",
      "[34]\tvalidation_0-auc:0.56947\tvalidation_0-logloss:0.67312\tvalidation_0-error:0.41817\n",
      "[35]\tvalidation_0-auc:0.56902\tvalidation_0-logloss:0.67289\tvalidation_0-error:0.41892\n",
      "[36]\tvalidation_0-auc:0.56911\tvalidation_0-logloss:0.67261\tvalidation_0-error:0.41892\n",
      "[37]\tvalidation_0-auc:0.56971\tvalidation_0-logloss:0.67229\tvalidation_0-error:0.41967\n",
      "[38]\tvalidation_0-auc:0.57115\tvalidation_0-logloss:0.67191\tvalidation_0-error:0.41667\n",
      "[39]\tvalidation_0-auc:0.57084\tvalidation_0-logloss:0.67167\tvalidation_0-error:0.42042\n",
      "[40]\tvalidation_0-auc:0.57087\tvalidation_0-logloss:0.67143\tvalidation_0-error:0.41967\n",
      "[41]\tvalidation_0-auc:0.57054\tvalidation_0-logloss:0.67118\tvalidation_0-error:0.41667\n",
      "[42]\tvalidation_0-auc:0.57036\tvalidation_0-logloss:0.67096\tvalidation_0-error:0.41817\n",
      "[43]\tvalidation_0-auc:0.57144\tvalidation_0-logloss:0.67068\tvalidation_0-error:0.41892\n",
      "[44]\tvalidation_0-auc:0.57148\tvalidation_0-logloss:0.67046\tvalidation_0-error:0.41742\n",
      "[45]\tvalidation_0-auc:0.57046\tvalidation_0-logloss:0.67038\tvalidation_0-error:0.41742\n",
      "[46]\tvalidation_0-auc:0.57022\tvalidation_0-logloss:0.67021\tvalidation_0-error:0.41817\n",
      "[47]\tvalidation_0-auc:0.57039\tvalidation_0-logloss:0.66997\tvalidation_0-error:0.41517\n",
      "[48]\tvalidation_0-auc:0.57027\tvalidation_0-logloss:0.66978\tvalidation_0-error:0.41667\n",
      "[49]\tvalidation_0-auc:0.57119\tvalidation_0-logloss:0.66946\tvalidation_0-error:0.41441\n",
      "[50]\tvalidation_0-auc:0.57173\tvalidation_0-logloss:0.66924\tvalidation_0-error:0.41742\n",
      "[51]\tvalidation_0-auc:0.57158\tvalidation_0-logloss:0.66907\tvalidation_0-error:0.41667\n",
      "[52]\tvalidation_0-auc:0.57140\tvalidation_0-logloss:0.66892\tvalidation_0-error:0.41667\n",
      "[53]\tvalidation_0-auc:0.56995\tvalidation_0-logloss:0.66889\tvalidation_0-error:0.41592\n",
      "[54]\tvalidation_0-auc:0.57028\tvalidation_0-logloss:0.66872\tvalidation_0-error:0.41592\n",
      "[55]\tvalidation_0-auc:0.57208\tvalidation_0-logloss:0.66841\tvalidation_0-error:0.41742\n",
      "[56]\tvalidation_0-auc:0.57166\tvalidation_0-logloss:0.66828\tvalidation_0-error:0.41592\n",
      "[57]\tvalidation_0-auc:0.57341\tvalidation_0-logloss:0.66798\tvalidation_0-error:0.41366\n",
      "[58]\tvalidation_0-auc:0.57281\tvalidation_0-logloss:0.66786\tvalidation_0-error:0.41441\n",
      "[59]\tvalidation_0-auc:0.57273\tvalidation_0-logloss:0.66771\tvalidation_0-error:0.41441\n",
      "[60]\tvalidation_0-auc:0.57269\tvalidation_0-logloss:0.66763\tvalidation_0-error:0.41366\n",
      "[61]\tvalidation_0-auc:0.57211\tvalidation_0-logloss:0.66753\tvalidation_0-error:0.41592\n",
      "[62]\tvalidation_0-auc:0.57406\tvalidation_0-logloss:0.66725\tvalidation_0-error:0.41291\n",
      "[63]\tvalidation_0-auc:0.57356\tvalidation_0-logloss:0.66720\tvalidation_0-error:0.41517\n",
      "[64]\tvalidation_0-auc:0.57376\tvalidation_0-logloss:0.66706\tvalidation_0-error:0.41517\n",
      "[65]\tvalidation_0-auc:0.57305\tvalidation_0-logloss:0.66691\tvalidation_0-error:0.41592\n",
      "[66]\tvalidation_0-auc:0.57380\tvalidation_0-logloss:0.66670\tvalidation_0-error:0.41667\n",
      "[67]\tvalidation_0-auc:0.57414\tvalidation_0-logloss:0.66655\tvalidation_0-error:0.41517\n",
      "[68]\tvalidation_0-auc:0.57378\tvalidation_0-logloss:0.66649\tvalidation_0-error:0.41366\n",
      "[69]\tvalidation_0-auc:0.57386\tvalidation_0-logloss:0.66634\tvalidation_0-error:0.41291\n",
      "[70]\tvalidation_0-auc:0.57418\tvalidation_0-logloss:0.66621\tvalidation_0-error:0.41366\n",
      "[71]\tvalidation_0-auc:0.57393\tvalidation_0-logloss:0.66612\tvalidation_0-error:0.41291\n",
      "[72]\tvalidation_0-auc:0.57336\tvalidation_0-logloss:0.66609\tvalidation_0-error:0.41366\n",
      "[73]\tvalidation_0-auc:0.57386\tvalidation_0-logloss:0.66599\tvalidation_0-error:0.41441\n",
      "[74]\tvalidation_0-auc:0.57357\tvalidation_0-logloss:0.66592\tvalidation_0-error:0.41517\n",
      "[75]\tvalidation_0-auc:0.57365\tvalidation_0-logloss:0.66585\tvalidation_0-error:0.41517\n",
      "[76]\tvalidation_0-auc:0.57431\tvalidation_0-logloss:0.66570\tvalidation_0-error:0.41592\n",
      "[77]\tvalidation_0-auc:0.57358\tvalidation_0-logloss:0.66559\tvalidation_0-error:0.41517\n",
      "[78]\tvalidation_0-auc:0.57356\tvalidation_0-logloss:0.66553\tvalidation_0-error:0.41517\n",
      "[79]\tvalidation_0-auc:0.57342\tvalidation_0-logloss:0.66549\tvalidation_0-error:0.41366\n",
      "[80]\tvalidation_0-auc:0.57376\tvalidation_0-logloss:0.66533\tvalidation_0-error:0.41592\n",
      "[81]\tvalidation_0-auc:0.57473\tvalidation_0-logloss:0.66520\tvalidation_0-error:0.41441\n",
      "[82]\tvalidation_0-auc:0.57517\tvalidation_0-logloss:0.66510\tvalidation_0-error:0.41441\n",
      "[83]\tvalidation_0-auc:0.57591\tvalidation_0-logloss:0.66494\tvalidation_0-error:0.41517\n",
      "[84]\tvalidation_0-auc:0.57645\tvalidation_0-logloss:0.66482\tvalidation_0-error:0.41592\n",
      "[85]\tvalidation_0-auc:0.57646\tvalidation_0-logloss:0.66472\tvalidation_0-error:0.41441\n",
      "[86]\tvalidation_0-auc:0.57667\tvalidation_0-logloss:0.66466\tvalidation_0-error:0.41517\n",
      "[87]\tvalidation_0-auc:0.57581\tvalidation_0-logloss:0.66475\tvalidation_0-error:0.41592\n",
      "[88]\tvalidation_0-auc:0.57597\tvalidation_0-logloss:0.66471\tvalidation_0-error:0.41667\n",
      "[89]\tvalidation_0-auc:0.57617\tvalidation_0-logloss:0.66463\tvalidation_0-error:0.41441\n",
      "[90]\tvalidation_0-auc:0.57593\tvalidation_0-logloss:0.66464\tvalidation_0-error:0.41517\n",
      "[91]\tvalidation_0-auc:0.57572\tvalidation_0-logloss:0.66465\tvalidation_0-error:0.41517\n",
      "[92]\tvalidation_0-auc:0.57494\tvalidation_0-logloss:0.66469\tvalidation_0-error:0.41366\n",
      "[93]\tvalidation_0-auc:0.57511\tvalidation_0-logloss:0.66463\tvalidation_0-error:0.41366\n",
      "[94]\tvalidation_0-auc:0.57494\tvalidation_0-logloss:0.66459\tvalidation_0-error:0.41366\n",
      "[95]\tvalidation_0-auc:0.57443\tvalidation_0-logloss:0.66462\tvalidation_0-error:0.41216\n"
     ]
    },
    {
     "name": "stdout",
     "output_type": "stream",
     "text": [
      "[96]\tvalidation_0-auc:0.57477\tvalidation_0-logloss:0.66453\tvalidation_0-error:0.41291\n",
      "[97]\tvalidation_0-auc:0.57557\tvalidation_0-logloss:0.66431\tvalidation_0-error:0.41141\n",
      "[98]\tvalidation_0-auc:0.57563\tvalidation_0-logloss:0.66425\tvalidation_0-error:0.41216\n",
      "[99]\tvalidation_0-auc:0.57583\tvalidation_0-logloss:0.66424\tvalidation_0-error:0.41216\n",
      "[100]\tvalidation_0-auc:0.57593\tvalidation_0-logloss:0.66425\tvalidation_0-error:0.41216\n",
      "[101]\tvalidation_0-auc:0.57608\tvalidation_0-logloss:0.66417\tvalidation_0-error:0.41141\n",
      "[102]\tvalidation_0-auc:0.57598\tvalidation_0-logloss:0.66420\tvalidation_0-error:0.41216\n",
      "[103]\tvalidation_0-auc:0.57696\tvalidation_0-logloss:0.66402\tvalidation_0-error:0.41066\n",
      "[104]\tvalidation_0-auc:0.57653\tvalidation_0-logloss:0.66400\tvalidation_0-error:0.40991\n",
      "[105]\tvalidation_0-auc:0.57642\tvalidation_0-logloss:0.66402\tvalidation_0-error:0.41141\n",
      "[106]\tvalidation_0-auc:0.57691\tvalidation_0-logloss:0.66390\tvalidation_0-error:0.41291\n",
      "[107]\tvalidation_0-auc:0.57739\tvalidation_0-logloss:0.66384\tvalidation_0-error:0.41216\n",
      "[108]\tvalidation_0-auc:0.57741\tvalidation_0-logloss:0.66383\tvalidation_0-error:0.41141\n",
      "[109]\tvalidation_0-auc:0.57781\tvalidation_0-logloss:0.66371\tvalidation_0-error:0.41216\n",
      "[110]\tvalidation_0-auc:0.57758\tvalidation_0-logloss:0.66371\tvalidation_0-error:0.41216\n",
      "[111]\tvalidation_0-auc:0.57702\tvalidation_0-logloss:0.66377\tvalidation_0-error:0.41216\n",
      "[112]\tvalidation_0-auc:0.57707\tvalidation_0-logloss:0.66375\tvalidation_0-error:0.41216\n",
      "[113]\tvalidation_0-auc:0.57665\tvalidation_0-logloss:0.66383\tvalidation_0-error:0.41141\n",
      "[114]\tvalidation_0-auc:0.57685\tvalidation_0-logloss:0.66384\tvalidation_0-error:0.41517\n",
      "[115]\tvalidation_0-auc:0.57677\tvalidation_0-logloss:0.66386\tvalidation_0-error:0.41291\n",
      "[116]\tvalidation_0-auc:0.57719\tvalidation_0-logloss:0.66382\tvalidation_0-error:0.41291\n",
      "[117]\tvalidation_0-auc:0.57724\tvalidation_0-logloss:0.66382\tvalidation_0-error:0.41517\n",
      "[118]\tvalidation_0-auc:0.57689\tvalidation_0-logloss:0.66385\tvalidation_0-error:0.41291\n",
      "[119]\tvalidation_0-auc:0.57741\tvalidation_0-logloss:0.66385\tvalidation_0-error:0.41291\n",
      "[120]\tvalidation_0-auc:0.57757\tvalidation_0-logloss:0.66379\tvalidation_0-error:0.41141\n",
      "[121]\tvalidation_0-auc:0.57722\tvalidation_0-logloss:0.66386\tvalidation_0-error:0.41216\n",
      "[122]\tvalidation_0-auc:0.57697\tvalidation_0-logloss:0.66392\tvalidation_0-error:0.41141\n",
      "[123]\tvalidation_0-auc:0.57712\tvalidation_0-logloss:0.66389\tvalidation_0-error:0.41141\n",
      "[124]\tvalidation_0-auc:0.57725\tvalidation_0-logloss:0.66381\tvalidation_0-error:0.41366\n",
      "[125]\tvalidation_0-auc:0.57704\tvalidation_0-logloss:0.66383\tvalidation_0-error:0.41291\n",
      "[126]\tvalidation_0-auc:0.57683\tvalidation_0-logloss:0.66378\tvalidation_0-error:0.41216\n",
      "[127]\tvalidation_0-auc:0.57636\tvalidation_0-logloss:0.66388\tvalidation_0-error:0.41066\n",
      "[128]\tvalidation_0-auc:0.57617\tvalidation_0-logloss:0.66389\tvalidation_0-error:0.41291\n",
      "[129]\tvalidation_0-auc:0.57566\tvalidation_0-logloss:0.66400\tvalidation_0-error:0.41216\n"
     ]
    },
    {
     "data": {
      "text/plain": [
       "XGBClassifier(base_score=0.5, booster='gbtree', colsample_bylevel=1,\n",
       "              colsample_bynode=1, colsample_bytree=0.65,\n",
       "              enable_categorical=False, eta=0.015,\n",
       "              eval_metric=['auc', 'logloss', 'error'], gamma=1.25, gpu_id=-1,\n",
       "              importance_type=None, interaction_constraints='',\n",
       "              learning_rate=0.0149999997, max_delta_step=0, max_depth=6,\n",
       "              min_child_weight=30, missing=nan, monotone_constraints='()',\n",
       "              n_estimators=130, n_jobs=12, num_parallel_tree=1,\n",
       "              predictor='auto', random_state=123, reg_alpha=0, reg_lambda=1,\n",
       "              scale_pos_weight=1, subsample=1, tree_method='exact',\n",
       "              validate_parameters=1, verbosity=None)"
      ]
     },
     "execution_count": 818,
     "metadata": {},
     "output_type": "execute_result"
    }
   ],
   "source": [
    "model = xgb.XGBClassifier(objective='binary:logistic', n_estimators=130, max_depth=6, gamma=1.25, eta=0.015,\n",
    "                          min_child_weight=30, colsample_bytree=0.65, \n",
    "                          random_state=123, eval_metric=[\"auc\", \"logloss\", \"error\"])\n",
    "model.fit(X_train, y_train, eval_set=[(X_test, y_test)])"
   ]
  },
  {
   "cell_type": "code",
   "execution_count": 820,
   "id": "fd60cb85",
   "metadata": {},
   "outputs": [
    {
     "data": {
      "text/plain": [
       "<AxesSubplot:>"
      ]
     },
     "execution_count": 820,
     "metadata": {},
     "output_type": "execute_result"
    },
    {
     "data": {
      "image/png": "[encoded data removed]",
      "text/plain": [
       "<Figure size 432x288 with 1 Axes>"
      ]
     },
     "metadata": {
      "needs_background": "light"
     },
     "output_type": "display_data"
    }
   ],
   "source": [
    "fu_dict = dict(zip(X_train.columns, model.feature_importances_))\n",
    "fi = pd.DataFrame(fu_dict.values(), index=fu_dict.keys(), columns=[\"importance\"])\n",
    "fi = fi.sort_values(by=\"importance\", ascending=False)\n",
    "\n",
    "fi.plot.bar()"
   ]
  },
  {
   "cell_type": "code",
   "execution_count": null,
   "id": "c6aba0cd",
   "metadata": {},
   "outputs": [],
   "source": []
  },
  {
   "cell_type": "code",
   "execution_count": 821,
   "id": "ff8a7a70",
   "metadata": {},
   "outputs": [
    {
     "data": {
      "text/plain": [
       "array([[ 33, 516],\n",
       "       [ 33, 750]])"
      ]
     },
     "execution_count": 821,
     "metadata": {},
     "output_type": "execute_result"
    }
   ],
   "source": [
    "y_pred1 = model.predict(X_test)\n",
    "cm = confusion_matrix(y_test, y_pred1)\n",
    "cm"
   ]
  },
  {
   "cell_type": "code",
   "execution_count": 847,
   "id": "55f7e0eb",
   "metadata": {},
   "outputs": [],
   "source": [
    "y_pred_proba = model.predict_proba(X_test)[:,1]\n",
    "predict_mine = np.where(y_pred_proba > 0.625, 1, 0)\n",
    "cm1 = confusion_matrix(y_test, predict_mine)"
   ]
  },
  {
   "cell_type": "code",
   "execution_count": 848,
   "id": "38f19818",
   "metadata": {},
   "outputs": [
    {
     "data": {
      "text/plain": [
       "array([[463,  86],\n",
       "       [567, 216]])"
      ]
     },
     "execution_count": 848,
     "metadata": {},
     "output_type": "execute_result"
    }
   ],
   "source": [
    "cm1"
   ]
  },
  {
   "cell_type": "code",
   "execution_count": 849,
   "id": "2a080435",
   "metadata": {},
   "outputs": [
    {
     "data": {
      "text/plain": [
       "0.5878378378378378"
      ]
     },
     "execution_count": 849,
     "metadata": {},
     "output_type": "execute_result"
    }
   ],
   "source": [
    "metrics.accuracy_score(y_test, y_pred1)"
   ]
  },
  {
   "cell_type": "code",
   "execution_count": 850,
   "id": "2a85372f",
   "metadata": {},
   "outputs": [
    {
     "data": {
      "text/plain": [
       "(0.7152317880794702, 0.5)"
      ]
     },
     "execution_count": 850,
     "metadata": {},
     "output_type": "execute_result"
    }
   ],
   "source": [
    "cm1[1][1]/(cm1[1][1]+cm1[0][1]), cm[0][0]/(cm[1][0]+cm[0][0])"
   ]
  },
  {
   "cell_type": "code",
   "execution_count": 851,
   "id": "7e46167a",
   "metadata": {},
   "outputs": [
    {
     "data": {
      "text/plain": [
       "(22.67267267267267, 4.954954954954955)"
      ]
     },
     "execution_count": 851,
     "metadata": {},
     "output_type": "execute_result"
    }
   ],
   "source": [
    "(cm1[1][1]+cm1[0][1])/len(y_test)*100, (cm[0][0]+cm[1][0])/len(y_test)*100"
   ]
  },
  {
   "cell_type": "markdown",
   "id": "bd2cf07a",
   "metadata": {},
   "source": [
    "##### VALIDATION - BEST MODEL --> 70% accuracy in 17% of matches"
   ]
  },
  {
   "cell_type": "code",
   "execution_count": 852,
   "id": "31566b6c",
   "metadata": {},
   "outputs": [
    {
     "data": {
      "text/plain": [
       "array([[  5,  81],\n",
       "       [  4, 142]])"
      ]
     },
     "execution_count": 852,
     "metadata": {},
     "output_type": "execute_result"
    }
   ],
   "source": [
    "y_pred = model.predict(X_validation)\n",
    "cm = confusion_matrix(y_validation, y_pred)\n",
    "cm"
   ]
  },
  {
   "cell_type": "code",
   "execution_count": 853,
   "id": "960fa297",
   "metadata": {},
   "outputs": [
    {
     "data": {
      "text/plain": [
       "0.6336206896551724"
      ]
     },
     "execution_count": 853,
     "metadata": {},
     "output_type": "execute_result"
    }
   ],
   "source": [
    "metrics.accuracy_score(y_validation, y_pred)"
   ]
  },
  {
   "cell_type": "code",
   "execution_count": 854,
   "id": "e849fc15",
   "metadata": {},
   "outputs": [],
   "source": [
    "y_pred_proba = model.predict_proba(X_validation)[:,1]\n",
    "predict_mine = np.where(y_pred_proba > 0.625, 1, 0)\n",
    "cm1 = confusion_matrix(y_validation, predict_mine)"
   ]
  },
  {
   "cell_type": "code",
   "execution_count": 855,
   "id": "8792d422",
   "metadata": {},
   "outputs": [
    {
     "data": {
      "text/plain": [
       "(0.7558139534883721, 0.5555555555555556)"
      ]
     },
     "execution_count": 855,
     "metadata": {},
     "output_type": "execute_result"
    }
   ],
   "source": [
    "cm1[1][1]/(cm1[1][1]+cm1[0][1]), cm[0][0]/(cm[1][0]+cm[0][0])"
   ]
  },
  {
   "cell_type": "code",
   "execution_count": 856,
   "id": "e19d4fb4",
   "metadata": {},
   "outputs": [
    {
     "data": {
      "text/plain": [
       "(37.06896551724138, 3.8793103448275863)"
      ]
     },
     "execution_count": 856,
     "metadata": {},
     "output_type": "execute_result"
    }
   ],
   "source": [
    "(cm1[1][1]+cm1[0][1])/len(y_validation)*100, (cm[0][0]+cm[1][0])/len(y_validation)*100"
   ]
  },
  {
   "cell_type": "code",
   "execution_count": 857,
   "id": "dbd587ba",
   "metadata": {},
   "outputs": [
    {
     "data": {
      "text/plain": [
       "array([[65, 21],\n",
       "       [81, 65]])"
      ]
     },
     "execution_count": 857,
     "metadata": {},
     "output_type": "execute_result"
    }
   ],
   "source": [
    "cm1"
   ]
  },
  {
   "cell_type": "code",
   "execution_count": null,
   "id": "ed65eb0a",
   "metadata": {},
   "outputs": [],
   "source": []
  },
  {
   "cell_type": "markdown",
   "id": "ad7f885b",
   "metadata": {},
   "source": [
    "## FINAL VALIDATION - NOVEMBER 2021"
   ]
  },
  {
   "cell_type": "code",
   "execution_count": 858,
   "id": "2ff81e36",
   "metadata": {},
   "outputs": [
    {
     "data": {
      "text/plain": [
       "array([[ 0, 54],\n",
       "       [ 1, 83]])"
      ]
     },
     "execution_count": 858,
     "metadata": {},
     "output_type": "execute_result"
    }
   ],
   "source": [
    "y_pred = model.predict(X_validation_november)\n",
    "cm = confusion_matrix(y_validation_november, y_pred)\n",
    "cm"
   ]
  },
  {
   "cell_type": "code",
   "execution_count": 859,
   "id": "6d5e72bf",
   "metadata": {},
   "outputs": [
    {
     "data": {
      "text/plain": [
       "0.6014492753623188"
      ]
     },
     "execution_count": 859,
     "metadata": {},
     "output_type": "execute_result"
    }
   ],
   "source": [
    "metrics.accuracy_score(y_validation_november, y_pred)"
   ]
  },
  {
   "cell_type": "code",
   "execution_count": 860,
   "id": "2bd44841",
   "metadata": {},
   "outputs": [],
   "source": [
    "y_pred_proba = model.predict_proba(X_validation_november)[:,1]\n",
    "predict_mine = np.where(y_pred_proba > 0.62, 1, 0)\n",
    "cm1 = confusion_matrix(y_validation_november, predict_mine)"
   ]
  },
  {
   "cell_type": "code",
   "execution_count": 861,
   "id": "b0f47d24",
   "metadata": {},
   "outputs": [
    {
     "data": {
      "text/plain": [
       "array([[42, 12],\n",
       "       [55, 29]])"
      ]
     },
     "execution_count": 861,
     "metadata": {},
     "output_type": "execute_result"
    }
   ],
   "source": [
    "cm1"
   ]
  },
  {
   "cell_type": "code",
   "execution_count": 862,
   "id": "8c44788e",
   "metadata": {},
   "outputs": [
    {
     "data": {
      "text/plain": [
       "(0.7073170731707317, 0.0)"
      ]
     },
     "execution_count": 862,
     "metadata": {},
     "output_type": "execute_result"
    }
   ],
   "source": [
    "cm1[1][1]/(cm1[1][1]+cm1[0][1]), cm[0][0]/(cm[1][0]+cm[0][0])"
   ]
  },
  {
   "cell_type": "code",
   "execution_count": 863,
   "id": "9f8859f0",
   "metadata": {},
   "outputs": [
    {
     "data": {
      "text/plain": [
       "(29.71014492753623, 0.7246376811594203)"
      ]
     },
     "execution_count": 863,
     "metadata": {},
     "output_type": "execute_result"
    }
   ],
   "source": [
    "(cm1[1][1]+cm1[0][1])/len(y_validation_november)*100, (cm[0][0]+cm[1][0])/len(y_validation_november)*100"
   ]
  },
  {
   "cell_type": "code",
   "execution_count": null,
   "id": "433abf23",
   "metadata": {},
   "outputs": [],
   "source": []
  },
  {
   "cell_type": "code",
   "execution_count": 864,
   "id": "74594fdf",
   "metadata": {},
   "outputs": [],
   "source": [
    "#umbral --> 0.605; Condition --> TOTAL_CORNERS > 2\n",
    "import pickle\n",
    "file_name = \"model_under3_70.pkl\"\n",
    "\n",
    "# save\n",
    "pickle.dump(model, open(file_name, \"wb\"))\n",
    "\n",
    "# load\n",
    "#xgb_model_loaded = pickle.load(open(file_name, \"rb\"))\n"
   ]
  },
  {
   "cell_type": "markdown",
   "id": "fd483e1a",
   "metadata": {},
   "source": [
    "# OUTPUT"
   ]
  },
  {
   "cell_type": "code",
   "execution_count": 130,
   "id": "e438cbca",
   "metadata": {},
   "outputs": [],
   "source": [
    "output = data[(data.YEARMONTH>=202111 )& (data.TOTAL_CORNERS>3)][[\"ID\", \"output\", \"CORNERS_H\", \"CORNERS_A\", \"TOTAL_CORNERS\"]].reset_index(drop=True)"
   ]
  },
  {
   "cell_type": "code",
   "execution_count": 131,
   "id": "a9ace64f",
   "metadata": {},
   "outputs": [],
   "source": [
    "output[\"PROB_CORNERS\"] = pd.DataFrame(model.predict_proba(X_validation_november)[:,1]).iloc[:, 0]\\\n",
    "    .apply(lambda x: 1 if x>0.6 else 0)"
   ]
  },
  {
   "cell_type": "code",
   "execution_count": 132,
   "id": "a8486cc5",
   "metadata": {},
   "outputs": [
    {
     "data": {
      "text/html": [
       "<div>\n",
       "<style scoped>\n",
       "    .dataframe tbody tr th:only-of-type {\n",
       "        vertical-align: middle;\n",
       "    }\n",
       "\n",
       "    .dataframe tbody tr th {\n",
       "        vertical-align: top;\n",
       "    }\n",
       "\n",
       "    .dataframe thead th {\n",
       "        text-align: right;\n",
       "    }\n",
       "</style>\n",
       "<table border=\"1\" class=\"dataframe\">\n",
       "  <thead>\n",
       "    <tr style=\"text-align: right;\">\n",
       "      <th></th>\n",
       "      <th>ID</th>\n",
       "      <th>output</th>\n",
       "      <th>CORNERS_H</th>\n",
       "      <th>CORNERS_A</th>\n",
       "      <th>TOTAL_CORNERS</th>\n",
       "      <th>PROB_CORNERS</th>\n",
       "    </tr>\n",
       "  </thead>\n",
       "  <tbody>\n",
       "    <tr>\n",
       "      <th>0</th>\n",
       "      <td>E30fSmrc</td>\n",
       "      <td>1</td>\n",
       "      <td>5</td>\n",
       "      <td>0</td>\n",
       "      <td>5</td>\n",
       "      <td>1</td>\n",
       "    </tr>\n",
       "    <tr>\n",
       "      <th>1</th>\n",
       "      <td>nsYoAO57</td>\n",
       "      <td>1</td>\n",
       "      <td>5</td>\n",
       "      <td>1</td>\n",
       "      <td>6</td>\n",
       "      <td>1</td>\n",
       "    </tr>\n",
       "    <tr>\n",
       "      <th>2</th>\n",
       "      <td>p0AwSvlE</td>\n",
       "      <td>1</td>\n",
       "      <td>4</td>\n",
       "      <td>4</td>\n",
       "      <td>8</td>\n",
       "      <td>1</td>\n",
       "    </tr>\n",
       "    <tr>\n",
       "      <th>7</th>\n",
       "      <td>Oj9sRb3K</td>\n",
       "      <td>1</td>\n",
       "      <td>4</td>\n",
       "      <td>3</td>\n",
       "      <td>7</td>\n",
       "      <td>1</td>\n",
       "    </tr>\n",
       "    <tr>\n",
       "      <th>8</th>\n",
       "      <td>dCFxXoDK</td>\n",
       "      <td>1</td>\n",
       "      <td>2</td>\n",
       "      <td>4</td>\n",
       "      <td>6</td>\n",
       "      <td>1</td>\n",
       "    </tr>\n",
       "    <tr>\n",
       "      <th>9</th>\n",
       "      <td>vyLXXRcE</td>\n",
       "      <td>1</td>\n",
       "      <td>4</td>\n",
       "      <td>2</td>\n",
       "      <td>6</td>\n",
       "      <td>1</td>\n",
       "    </tr>\n",
       "    <tr>\n",
       "      <th>14</th>\n",
       "      <td>80vLFh5r</td>\n",
       "      <td>0</td>\n",
       "      <td>2</td>\n",
       "      <td>5</td>\n",
       "      <td>7</td>\n",
       "      <td>1</td>\n",
       "    </tr>\n",
       "    <tr>\n",
       "      <th>15</th>\n",
       "      <td>fZaDLxRs</td>\n",
       "      <td>0</td>\n",
       "      <td>1</td>\n",
       "      <td>7</td>\n",
       "      <td>8</td>\n",
       "      <td>1</td>\n",
       "    </tr>\n",
       "    <tr>\n",
       "      <th>16</th>\n",
       "      <td>ID8oQIIQ</td>\n",
       "      <td>1</td>\n",
       "      <td>5</td>\n",
       "      <td>1</td>\n",
       "      <td>6</td>\n",
       "      <td>1</td>\n",
       "    </tr>\n",
       "    <tr>\n",
       "      <th>17</th>\n",
       "      <td>GllMJGef</td>\n",
       "      <td>1</td>\n",
       "      <td>5</td>\n",
       "      <td>4</td>\n",
       "      <td>9</td>\n",
       "      <td>1</td>\n",
       "    </tr>\n",
       "    <tr>\n",
       "      <th>19</th>\n",
       "      <td>0S6SM1kD</td>\n",
       "      <td>1</td>\n",
       "      <td>2</td>\n",
       "      <td>2</td>\n",
       "      <td>4</td>\n",
       "      <td>1</td>\n",
       "    </tr>\n",
       "    <tr>\n",
       "      <th>20</th>\n",
       "      <td>0pMTY7r8</td>\n",
       "      <td>1</td>\n",
       "      <td>3</td>\n",
       "      <td>2</td>\n",
       "      <td>5</td>\n",
       "      <td>1</td>\n",
       "    </tr>\n",
       "    <tr>\n",
       "      <th>21</th>\n",
       "      <td>lAfHP35f</td>\n",
       "      <td>1</td>\n",
       "      <td>9</td>\n",
       "      <td>3</td>\n",
       "      <td>12</td>\n",
       "      <td>1</td>\n",
       "    </tr>\n",
       "    <tr>\n",
       "      <th>22</th>\n",
       "      <td>jRSOwxmQ</td>\n",
       "      <td>1</td>\n",
       "      <td>3</td>\n",
       "      <td>6</td>\n",
       "      <td>9</td>\n",
       "      <td>1</td>\n",
       "    </tr>\n",
       "    <tr>\n",
       "      <th>23</th>\n",
       "      <td>G8C3Wgu0</td>\n",
       "      <td>1</td>\n",
       "      <td>3</td>\n",
       "      <td>1</td>\n",
       "      <td>4</td>\n",
       "      <td>1</td>\n",
       "    </tr>\n",
       "    <tr>\n",
       "      <th>24</th>\n",
       "      <td>C6zouq5s</td>\n",
       "      <td>1</td>\n",
       "      <td>5</td>\n",
       "      <td>0</td>\n",
       "      <td>5</td>\n",
       "      <td>1</td>\n",
       "    </tr>\n",
       "    <tr>\n",
       "      <th>28</th>\n",
       "      <td>EVW1y146</td>\n",
       "      <td>0</td>\n",
       "      <td>3</td>\n",
       "      <td>3</td>\n",
       "      <td>6</td>\n",
       "      <td>1</td>\n",
       "    </tr>\n",
       "    <tr>\n",
       "      <th>29</th>\n",
       "      <td>zoLAZvZI</td>\n",
       "      <td>1</td>\n",
       "      <td>5</td>\n",
       "      <td>3</td>\n",
       "      <td>8</td>\n",
       "      <td>1</td>\n",
       "    </tr>\n",
       "    <tr>\n",
       "      <th>30</th>\n",
       "      <td>O0EhbOBJ</td>\n",
       "      <td>1</td>\n",
       "      <td>7</td>\n",
       "      <td>2</td>\n",
       "      <td>9</td>\n",
       "      <td>1</td>\n",
       "    </tr>\n",
       "    <tr>\n",
       "      <th>33</th>\n",
       "      <td>GhUwadeM</td>\n",
       "      <td>0</td>\n",
       "      <td>4</td>\n",
       "      <td>2</td>\n",
       "      <td>6</td>\n",
       "      <td>1</td>\n",
       "    </tr>\n",
       "    <tr>\n",
       "      <th>35</th>\n",
       "      <td>8MwJ3Kti</td>\n",
       "      <td>0</td>\n",
       "      <td>4</td>\n",
       "      <td>4</td>\n",
       "      <td>8</td>\n",
       "      <td>1</td>\n",
       "    </tr>\n",
       "    <tr>\n",
       "      <th>36</th>\n",
       "      <td>UySR1bB3</td>\n",
       "      <td>0</td>\n",
       "      <td>5</td>\n",
       "      <td>0</td>\n",
       "      <td>5</td>\n",
       "      <td>1</td>\n",
       "    </tr>\n",
       "    <tr>\n",
       "      <th>40</th>\n",
       "      <td>xO0CUX9C</td>\n",
       "      <td>1</td>\n",
       "      <td>4</td>\n",
       "      <td>4</td>\n",
       "      <td>8</td>\n",
       "      <td>1</td>\n",
       "    </tr>\n",
       "    <tr>\n",
       "      <th>41</th>\n",
       "      <td>dfM6zLJC</td>\n",
       "      <td>1</td>\n",
       "      <td>4</td>\n",
       "      <td>6</td>\n",
       "      <td>10</td>\n",
       "      <td>1</td>\n",
       "    </tr>\n",
       "    <tr>\n",
       "      <th>42</th>\n",
       "      <td>8YTgwNZg</td>\n",
       "      <td>1</td>\n",
       "      <td>7</td>\n",
       "      <td>0</td>\n",
       "      <td>7</td>\n",
       "      <td>1</td>\n",
       "    </tr>\n",
       "    <tr>\n",
       "      <th>43</th>\n",
       "      <td>ruWV0IQ9</td>\n",
       "      <td>0</td>\n",
       "      <td>2</td>\n",
       "      <td>6</td>\n",
       "      <td>8</td>\n",
       "      <td>1</td>\n",
       "    </tr>\n",
       "    <tr>\n",
       "      <th>44</th>\n",
       "      <td>nDxN2vdc</td>\n",
       "      <td>0</td>\n",
       "      <td>4</td>\n",
       "      <td>4</td>\n",
       "      <td>8</td>\n",
       "      <td>1</td>\n",
       "    </tr>\n",
       "    <tr>\n",
       "      <th>45</th>\n",
       "      <td>WKAiZees</td>\n",
       "      <td>1</td>\n",
       "      <td>1</td>\n",
       "      <td>5</td>\n",
       "      <td>6</td>\n",
       "      <td>1</td>\n",
       "    </tr>\n",
       "    <tr>\n",
       "      <th>46</th>\n",
       "      <td>ruh1GcQd</td>\n",
       "      <td>1</td>\n",
       "      <td>3</td>\n",
       "      <td>5</td>\n",
       "      <td>8</td>\n",
       "      <td>1</td>\n",
       "    </tr>\n",
       "    <tr>\n",
       "      <th>48</th>\n",
       "      <td>z19YlKY5</td>\n",
       "      <td>1</td>\n",
       "      <td>4</td>\n",
       "      <td>3</td>\n",
       "      <td>7</td>\n",
       "      <td>1</td>\n",
       "    </tr>\n",
       "    <tr>\n",
       "      <th>51</th>\n",
       "      <td>2iDdcrRP</td>\n",
       "      <td>1</td>\n",
       "      <td>3</td>\n",
       "      <td>2</td>\n",
       "      <td>5</td>\n",
       "      <td>1</td>\n",
       "    </tr>\n",
       "    <tr>\n",
       "      <th>53</th>\n",
       "      <td>UefDDeAF</td>\n",
       "      <td>1</td>\n",
       "      <td>1</td>\n",
       "      <td>6</td>\n",
       "      <td>7</td>\n",
       "      <td>1</td>\n",
       "    </tr>\n",
       "    <tr>\n",
       "      <th>55</th>\n",
       "      <td>CKqICFPL</td>\n",
       "      <td>1</td>\n",
       "      <td>3</td>\n",
       "      <td>6</td>\n",
       "      <td>9</td>\n",
       "      <td>1</td>\n",
       "    </tr>\n",
       "    <tr>\n",
       "      <th>56</th>\n",
       "      <td>MVj5FHu3</td>\n",
       "      <td>1</td>\n",
       "      <td>2</td>\n",
       "      <td>4</td>\n",
       "      <td>6</td>\n",
       "      <td>1</td>\n",
       "    </tr>\n",
       "    <tr>\n",
       "      <th>59</th>\n",
       "      <td>8YkPh2Zt</td>\n",
       "      <td>1</td>\n",
       "      <td>3</td>\n",
       "      <td>2</td>\n",
       "      <td>5</td>\n",
       "      <td>1</td>\n",
       "    </tr>\n",
       "    <tr>\n",
       "      <th>61</th>\n",
       "      <td>KjzAVVXp</td>\n",
       "      <td>0</td>\n",
       "      <td>3</td>\n",
       "      <td>3</td>\n",
       "      <td>6</td>\n",
       "      <td>1</td>\n",
       "    </tr>\n",
       "    <tr>\n",
       "      <th>62</th>\n",
       "      <td>zwBAgzJq</td>\n",
       "      <td>1</td>\n",
       "      <td>7</td>\n",
       "      <td>1</td>\n",
       "      <td>8</td>\n",
       "      <td>1</td>\n",
       "    </tr>\n",
       "    <tr>\n",
       "      <th>64</th>\n",
       "      <td>Y7ekMDA0</td>\n",
       "      <td>1</td>\n",
       "      <td>2</td>\n",
       "      <td>6</td>\n",
       "      <td>8</td>\n",
       "      <td>1</td>\n",
       "    </tr>\n",
       "    <tr>\n",
       "      <th>67</th>\n",
       "      <td>8CG4iDf4</td>\n",
       "      <td>0</td>\n",
       "      <td>2</td>\n",
       "      <td>3</td>\n",
       "      <td>5</td>\n",
       "      <td>1</td>\n",
       "    </tr>\n",
       "    <tr>\n",
       "      <th>70</th>\n",
       "      <td>lMOCkiPG</td>\n",
       "      <td>1</td>\n",
       "      <td>5</td>\n",
       "      <td>4</td>\n",
       "      <td>9</td>\n",
       "      <td>1</td>\n",
       "    </tr>\n",
       "    <tr>\n",
       "      <th>71</th>\n",
       "      <td>rqOGlBvN</td>\n",
       "      <td>1</td>\n",
       "      <td>3</td>\n",
       "      <td>4</td>\n",
       "      <td>7</td>\n",
       "      <td>1</td>\n",
       "    </tr>\n",
       "    <tr>\n",
       "      <th>72</th>\n",
       "      <td>6FGUr2cI</td>\n",
       "      <td>1</td>\n",
       "      <td>6</td>\n",
       "      <td>5</td>\n",
       "      <td>11</td>\n",
       "      <td>1</td>\n",
       "    </tr>\n",
       "    <tr>\n",
       "      <th>73</th>\n",
       "      <td>0nDdgZPi</td>\n",
       "      <td>1</td>\n",
       "      <td>3</td>\n",
       "      <td>10</td>\n",
       "      <td>13</td>\n",
       "      <td>1</td>\n",
       "    </tr>\n",
       "    <tr>\n",
       "      <th>74</th>\n",
       "      <td>MgZi6D2k</td>\n",
       "      <td>0</td>\n",
       "      <td>4</td>\n",
       "      <td>4</td>\n",
       "      <td>8</td>\n",
       "      <td>1</td>\n",
       "    </tr>\n",
       "    <tr>\n",
       "      <th>76</th>\n",
       "      <td>GSpmQYgL</td>\n",
       "      <td>1</td>\n",
       "      <td>5</td>\n",
       "      <td>0</td>\n",
       "      <td>5</td>\n",
       "      <td>1</td>\n",
       "    </tr>\n",
       "    <tr>\n",
       "      <th>77</th>\n",
       "      <td>xxnqREvF</td>\n",
       "      <td>0</td>\n",
       "      <td>6</td>\n",
       "      <td>6</td>\n",
       "      <td>12</td>\n",
       "      <td>1</td>\n",
       "    </tr>\n",
       "    <tr>\n",
       "      <th>83</th>\n",
       "      <td>xI3tKroU</td>\n",
       "      <td>0</td>\n",
       "      <td>4</td>\n",
       "      <td>5</td>\n",
       "      <td>9</td>\n",
       "      <td>1</td>\n",
       "    </tr>\n",
       "    <tr>\n",
       "      <th>84</th>\n",
       "      <td>lG5l5XHe</td>\n",
       "      <td>1</td>\n",
       "      <td>2</td>\n",
       "      <td>2</td>\n",
       "      <td>4</td>\n",
       "      <td>1</td>\n",
       "    </tr>\n",
       "    <tr>\n",
       "      <th>86</th>\n",
       "      <td>EFCLO6Wb</td>\n",
       "      <td>1</td>\n",
       "      <td>6</td>\n",
       "      <td>2</td>\n",
       "      <td>8</td>\n",
       "      <td>1</td>\n",
       "    </tr>\n",
       "    <tr>\n",
       "      <th>87</th>\n",
       "      <td>445YL4GH</td>\n",
       "      <td>1</td>\n",
       "      <td>5</td>\n",
       "      <td>1</td>\n",
       "      <td>6</td>\n",
       "      <td>1</td>\n",
       "    </tr>\n",
       "    <tr>\n",
       "      <th>88</th>\n",
       "      <td>Ewe8F2go</td>\n",
       "      <td>1</td>\n",
       "      <td>6</td>\n",
       "      <td>2</td>\n",
       "      <td>8</td>\n",
       "      <td>1</td>\n",
       "    </tr>\n",
       "  </tbody>\n",
       "</table>\n",
       "</div>"
      ],
      "text/plain": [
       "          ID  output  CORNERS_H  CORNERS_A  TOTAL_CORNERS  PROB_CORNERS\n",
       "0   E30fSmrc       1          5          0              5             1\n",
       "1   nsYoAO57       1          5          1              6             1\n",
       "2   p0AwSvlE       1          4          4              8             1\n",
       "7   Oj9sRb3K       1          4          3              7             1\n",
       "8   dCFxXoDK       1          2          4              6             1\n",
       "9   vyLXXRcE       1          4          2              6             1\n",
       "14  80vLFh5r       0          2          5              7             1\n",
       "15  fZaDLxRs       0          1          7              8             1\n",
       "16  ID8oQIIQ       1          5          1              6             1\n",
       "17  GllMJGef       1          5          4              9             1\n",
       "19  0S6SM1kD       1          2          2              4             1\n",
       "20  0pMTY7r8       1          3          2              5             1\n",
       "21  lAfHP35f       1          9          3             12             1\n",
       "22  jRSOwxmQ       1          3          6              9             1\n",
       "23  G8C3Wgu0       1          3          1              4             1\n",
       "24  C6zouq5s       1          5          0              5             1\n",
       "28  EVW1y146       0          3          3              6             1\n",
       "29  zoLAZvZI       1          5          3              8             1\n",
       "30  O0EhbOBJ       1          7          2              9             1\n",
       "33  GhUwadeM       0          4          2              6             1\n",
       "35  8MwJ3Kti       0          4          4              8             1\n",
       "36  UySR1bB3       0          5          0              5             1\n",
       "40  xO0CUX9C       1          4          4              8             1\n",
       "41  dfM6zLJC       1          4          6             10             1\n",
       "42  8YTgwNZg       1          7          0              7             1\n",
       "43  ruWV0IQ9       0          2          6              8             1\n",
       "44  nDxN2vdc       0          4          4              8             1\n",
       "45  WKAiZees       1          1          5              6             1\n",
       "46  ruh1GcQd       1          3          5              8             1\n",
       "48  z19YlKY5       1          4          3              7             1\n",
       "51  2iDdcrRP       1          3          2              5             1\n",
       "53  UefDDeAF       1          1          6              7             1\n",
       "55  CKqICFPL       1          3          6              9             1\n",
       "56  MVj5FHu3       1          2          4              6             1\n",
       "59  8YkPh2Zt       1          3          2              5             1\n",
       "61  KjzAVVXp       0          3          3              6             1\n",
       "62  zwBAgzJq       1          7          1              8             1\n",
       "64  Y7ekMDA0       1          2          6              8             1\n",
       "67  8CG4iDf4       0          2          3              5             1\n",
       "70  lMOCkiPG       1          5          4              9             1\n",
       "71  rqOGlBvN       1          3          4              7             1\n",
       "72  6FGUr2cI       1          6          5             11             1\n",
       "73  0nDdgZPi       1          3         10             13             1\n",
       "74  MgZi6D2k       0          4          4              8             1\n",
       "76  GSpmQYgL       1          5          0              5             1\n",
       "77  xxnqREvF       0          6          6             12             1\n",
       "83  xI3tKroU       0          4          5              9             1\n",
       "84  lG5l5XHe       1          2          2              4             1\n",
       "86  EFCLO6Wb       1          6          2              8             1\n",
       "87  445YL4GH       1          5          1              6             1\n",
       "88  Ewe8F2go       1          6          2              8             1"
      ]
     },
     "execution_count": 132,
     "metadata": {},
     "output_type": "execute_result"
    }
   ],
   "source": [
    "output[output.PROB_CORNERS==1]"
   ]
  },
  {
   "cell_type": "code",
   "execution_count": null,
   "id": "c616056a",
   "metadata": {},
   "outputs": [],
   "source": []
  }
 ],
 "metadata": {
  "kernelspec": {
   "display_name": "Python 3 (ipykernel)",
   "language": "python",
   "name": "python3"
  },
  "language_info": {
   "codemirror_mode": {
    "name": "ipython",
    "version": 3
   },
   "file_extension": ".py",
   "mimetype": "text/x-python",
   "name": "python",
   "nbconvert_exporter": "python",
   "pygments_lexer": "ipython3",
   "version": "3.7.11"
  }
 },
 "nbformat": 4,
 "nbformat_minor": 5
}
