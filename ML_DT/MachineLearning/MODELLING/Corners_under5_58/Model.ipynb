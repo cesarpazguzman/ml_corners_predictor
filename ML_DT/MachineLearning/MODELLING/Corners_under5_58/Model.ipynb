{
 "cells": [
  {
   "cell_type": "code",
   "execution_count": 1,
   "id": "0705929c",
   "metadata": {},
   "outputs": [],
   "source": [
    "import pymysql\n",
    "from sklearn.ensemble import RandomForestClassifier\n",
    "from sqlalchemy import create_engine\n",
    "import pandas as pd\n",
    "import matplotlib.pyplot as plt\n",
    "%matplotlib inline\n",
    "import numpy as np\n",
    "from pandasql import sqldf\n",
    "from sklearn import metrics\n",
    "\n",
    "import xgboost as xgb\n",
    "from sklearn.metrics import accuracy_score, confusion_matrix"
   ]
  },
  {
   "cell_type": "code",
   "execution_count": 2,
   "id": "0121f51f",
   "metadata": {},
   "outputs": [],
   "source": [
    "data = pd.read_csv(\"../../FEATURE_ENGINEER/tablon_undert_57_q5.csv\").drop(\n",
    "    columns=[\"ID\", \"DATE_MATCH\", \"TEAM_HOME\", \"TEAM_AWAY\", \"LEAGUE_INGLATERRA\", \"Unnamed: 0\",\n",
    "            \"FAVOURITE_IS_HOME\", \"LEAGUE_ALEMANIA\", \"FAVOURITE_IS_AWAY\", \"LEAGUE_FRANCIA\", \"LEAGUE_ITALIA\",\n",
    "            \"NUM_SAVESAWAY_L45\", \"AVG_CORNERSAWAY2_L3\", \"CORNERS_H_45_60\", \"CORNERS_DANGATTACKS_L45\", \"CORNERS_A\",\n",
    "            \"TEMPERATURE\", \"NUM_DANGATTACKSAWAY_L45\", \"NUM_DANGATTACKSHOME_L45\", \"NUM_FOULSAWAY_L45\", \"NUM_ATTACKSHOME_L45\",\n",
    "            \"NUM_TACKLEHOME_L45\", \"POSESSION_AWAY_L45\", \"IS_FAVOURITE_DRAWING\", \"SUM_GOALS_L60\", \"AVG_CORNERS_LOSE_AWAY\",\n",
    "            \"AVG_CORNERSAWAYR2_L5\", \"AVG_CORNERSHOME2_L3\",\"AVG_CORNERSHOMER2_L5\",\"CORNERS_A_45_60\",\"AVG_CORNERSHOME1_L3\",\n",
    "            \"AVG_CORNERSHOME2_L5\", \"AVG_CORNERSAWAYR1_L3\", \"LEAGUE_ESPANA\", \"GOALS_A\",\n",
    "            \"NUM_MATCHESAWAY_POSITIVE_L5\", \"NUM_SHOTSHOME_L45\",\"WIND\",\"RAIN\"], \n",
    "    axis=1)\n",
    "\n",
    "data = data[(data.TOTAL_CORNERS>4) &(data.TOTAL_CORNERS<9)].drop(columns=[\"TOTAL_CORNERS\"],axis=1)\n",
    "\n",
    "tablon = data[data.YEARMONTH<202109].drop(columns=[\"YEARMONTH\"],axis=1)\n",
    "\n",
    "\n",
    "X_validation = data[(data.YEARMONTH>=202109) & (data.YEARMONTH<202111)].drop(columns=[\"YEARMONTH\"],axis=1)\n",
    "y_validation = X_validation.pop(\"output\")\n",
    "\n",
    "\n",
    "X_validation_november = data[data.YEARMONTH>=202111].drop(columns=[\"YEARMONTH\"],axis=1)\n",
    "y_validation_november = X_validation_november.pop(\"output\")"
   ]
  },
  {
   "cell_type": "code",
   "execution_count": 3,
   "id": "b3d8b56c",
   "metadata": {},
   "outputs": [],
   "source": [
    "len_test = int(round(len(tablon)*0.2, 0))\n",
    "len_train = int(round(len(tablon)*0.8, 0))\n",
    "\n",
    "X_train = tablon[len_test:]\n",
    "y_train = X_train.pop(\"output\")\n",
    "X_test = tablon[:len_test]\n",
    "y_test = X_test.pop(\"output\")"
   ]
  },
  {
   "cell_type": "code",
   "execution_count": 4,
   "id": "3fe938f9",
   "metadata": {},
   "outputs": [
    {
     "data": {
      "text/plain": [
       "((4183, 56), (1046, 56), (185, 56))"
      ]
     },
     "execution_count": 4,
     "metadata": {},
     "output_type": "execute_result"
    }
   ],
   "source": [
    "X_train.shape, X_test.shape, X_validation.shape"
   ]
  },
  {
   "cell_type": "code",
   "execution_count": 5,
   "id": "e4371695",
   "metadata": {},
   "outputs": [
    {
     "data": {
      "text/plain": [
       "1    2857\n",
       "0    1326\n",
       "Name: output, dtype: int64"
      ]
     },
     "execution_count": 5,
     "metadata": {},
     "output_type": "execute_result"
    }
   ],
   "source": [
    "y_train.value_counts()"
   ]
  },
  {
   "cell_type": "code",
   "execution_count": 6,
   "id": "f73ee8e1",
   "metadata": {},
   "outputs": [
    {
     "data": {
      "text/plain": [
       "1    655\n",
       "0    391\n",
       "Name: output, dtype: int64"
      ]
     },
     "execution_count": 6,
     "metadata": {},
     "output_type": "execute_result"
    }
   ],
   "source": [
    "y_test.value_counts()"
   ]
  },
  {
   "cell_type": "code",
   "execution_count": 7,
   "id": "b178d2af",
   "metadata": {},
   "outputs": [
    {
     "data": {
      "text/plain": [
       "1    140\n",
       "0     45\n",
       "Name: output, dtype: int64"
      ]
     },
     "execution_count": 7,
     "metadata": {},
     "output_type": "execute_result"
    }
   ],
   "source": [
    "y_validation.value_counts()"
   ]
  },
  {
   "cell_type": "code",
   "execution_count": 8,
   "id": "3a03a4fe",
   "metadata": {},
   "outputs": [
    {
     "data": {
      "text/plain": [
       "1    72\n",
       "0    33\n",
       "Name: output, dtype: int64"
      ]
     },
     "execution_count": 8,
     "metadata": {},
     "output_type": "execute_result"
    }
   ],
   "source": [
    "y_validation_november.value_counts()"
   ]
  },
  {
   "cell_type": "markdown",
   "id": "35058c53",
   "metadata": {},
   "source": [
    "## EXECUTING BEST MODEL"
   ]
  },
  {
   "cell_type": "code",
   "execution_count": 88,
   "id": "9353c5e4",
   "metadata": {},
   "outputs": [
    {
     "name": "stdout",
     "output_type": "stream",
     "text": [
      "[0]\tvalidation_0-auc:0.50841\tvalidation_0-logloss:0.69183\tvalidation_0-error:0.38145\n",
      "[1]\tvalidation_0-auc:0.50500\tvalidation_0-logloss:0.69054\tvalidation_0-error:0.37380\n",
      "[2]\tvalidation_0-auc:0.50574\tvalidation_0-logloss:0.68944\tvalidation_0-error:0.37476\n",
      "[3]\tvalidation_0-auc:0.50786\tvalidation_0-logloss:0.68820\tvalidation_0-error:0.37380\n",
      "[4]\tvalidation_0-auc:0.50543\tvalidation_0-logloss:0.68714\tvalidation_0-error:0.37380\n",
      "[5]\tvalidation_0-auc:0.51679\tvalidation_0-logloss:0.68570\tvalidation_0-error:0.37380\n",
      "[6]\tvalidation_0-auc:0.51823\tvalidation_0-logloss:0.68456\tvalidation_0-error:0.37285\n",
      "[7]\tvalidation_0-auc:0.51872\tvalidation_0-logloss:0.68361\tvalidation_0-error:0.37285\n",
      "[8]\tvalidation_0-auc:0.51658\tvalidation_0-logloss:0.68268\tvalidation_0-error:0.37285\n",
      "[9]\tvalidation_0-auc:0.51726\tvalidation_0-logloss:0.68177\tvalidation_0-error:0.37285\n",
      "[10]\tvalidation_0-auc:0.51646\tvalidation_0-logloss:0.68081\tvalidation_0-error:0.37285\n",
      "[11]\tvalidation_0-auc:0.51161\tvalidation_0-logloss:0.67999\tvalidation_0-error:0.37285\n",
      "[12]\tvalidation_0-auc:0.51004\tvalidation_0-logloss:0.67929\tvalidation_0-error:0.37285\n",
      "[13]\tvalidation_0-auc:0.51541\tvalidation_0-logloss:0.67838\tvalidation_0-error:0.37285\n",
      "[14]\tvalidation_0-auc:0.51730\tvalidation_0-logloss:0.67766\tvalidation_0-error:0.37285\n",
      "[15]\tvalidation_0-auc:0.51858\tvalidation_0-logloss:0.67698\tvalidation_0-error:0.37285\n"
     ]
    },
    {
     "name": "stderr",
     "output_type": "stream",
     "text": [
      "/home/root/opt/python3.7.11/lib/python3.7/site-packages/xgboost/sklearn.py:1224: UserWarning: The use of label encoder in XGBClassifier is deprecated and will be removed in a future release. To remove this warning, do the following: 1) Pass option use_label_encoder=False when constructing XGBClassifier object; and 2) Encode your labels (y) as integers starting with 0, i.e. 0, 1, 2, ..., [num_class - 1].\n",
      "  warnings.warn(label_encoder_deprecation_msg, UserWarning)\n"
     ]
    },
    {
     "name": "stdout",
     "output_type": "stream",
     "text": [
      "[16]\tvalidation_0-auc:0.52082\tvalidation_0-logloss:0.67606\tvalidation_0-error:0.37285\n",
      "[17]\tvalidation_0-auc:0.51927\tvalidation_0-logloss:0.67549\tvalidation_0-error:0.37285\n",
      "[18]\tvalidation_0-auc:0.52054\tvalidation_0-logloss:0.67485\tvalidation_0-error:0.37285\n",
      "[19]\tvalidation_0-auc:0.52062\tvalidation_0-logloss:0.67432\tvalidation_0-error:0.37380\n",
      "[20]\tvalidation_0-auc:0.52213\tvalidation_0-logloss:0.67366\tvalidation_0-error:0.37380\n",
      "[21]\tvalidation_0-auc:0.52208\tvalidation_0-logloss:0.67299\tvalidation_0-error:0.37380\n",
      "[22]\tvalidation_0-auc:0.52429\tvalidation_0-logloss:0.67227\tvalidation_0-error:0.37380\n",
      "[23]\tvalidation_0-auc:0.52577\tvalidation_0-logloss:0.67170\tvalidation_0-error:0.37476\n",
      "[24]\tvalidation_0-auc:0.52650\tvalidation_0-logloss:0.67112\tvalidation_0-error:0.37380\n",
      "[25]\tvalidation_0-auc:0.52617\tvalidation_0-logloss:0.67056\tvalidation_0-error:0.37380\n",
      "[26]\tvalidation_0-auc:0.52477\tvalidation_0-logloss:0.67007\tvalidation_0-error:0.37285\n",
      "[27]\tvalidation_0-auc:0.52581\tvalidation_0-logloss:0.66952\tvalidation_0-error:0.37380\n",
      "[28]\tvalidation_0-auc:0.52498\tvalidation_0-logloss:0.66905\tvalidation_0-error:0.37285\n",
      "[29]\tvalidation_0-auc:0.52463\tvalidation_0-logloss:0.66857\tvalidation_0-error:0.37380\n",
      "[30]\tvalidation_0-auc:0.52484\tvalidation_0-logloss:0.66811\tvalidation_0-error:0.37380\n",
      "[31]\tvalidation_0-auc:0.52589\tvalidation_0-logloss:0.66770\tvalidation_0-error:0.37380\n",
      "[32]\tvalidation_0-auc:0.52657\tvalidation_0-logloss:0.66734\tvalidation_0-error:0.37380\n",
      "[33]\tvalidation_0-auc:0.52713\tvalidation_0-logloss:0.66688\tvalidation_0-error:0.37380\n",
      "[34]\tvalidation_0-auc:0.52796\tvalidation_0-logloss:0.66644\tvalidation_0-error:0.37285\n",
      "[35]\tvalidation_0-auc:0.52734\tvalidation_0-logloss:0.66612\tvalidation_0-error:0.37285\n",
      "[36]\tvalidation_0-auc:0.52692\tvalidation_0-logloss:0.66580\tvalidation_0-error:0.37380\n",
      "[37]\tvalidation_0-auc:0.52699\tvalidation_0-logloss:0.66548\tvalidation_0-error:0.37285\n",
      "[38]\tvalidation_0-auc:0.52714\tvalidation_0-logloss:0.66525\tvalidation_0-error:0.37285\n",
      "[39]\tvalidation_0-auc:0.52656\tvalidation_0-logloss:0.66500\tvalidation_0-error:0.37380\n",
      "[40]\tvalidation_0-auc:0.52575\tvalidation_0-logloss:0.66475\tvalidation_0-error:0.37285\n",
      "[41]\tvalidation_0-auc:0.52534\tvalidation_0-logloss:0.66453\tvalidation_0-error:0.37285\n",
      "[42]\tvalidation_0-auc:0.52473\tvalidation_0-logloss:0.66429\tvalidation_0-error:0.37285\n",
      "[43]\tvalidation_0-auc:0.52518\tvalidation_0-logloss:0.66409\tvalidation_0-error:0.37285\n",
      "[44]\tvalidation_0-auc:0.52529\tvalidation_0-logloss:0.66392\tvalidation_0-error:0.37380\n",
      "[45]\tvalidation_0-auc:0.52523\tvalidation_0-logloss:0.66372\tvalidation_0-error:0.37380\n",
      "[46]\tvalidation_0-auc:0.52447\tvalidation_0-logloss:0.66361\tvalidation_0-error:0.37380\n",
      "[47]\tvalidation_0-auc:0.52401\tvalidation_0-logloss:0.66345\tvalidation_0-error:0.37285\n",
      "[48]\tvalidation_0-auc:0.52438\tvalidation_0-logloss:0.66319\tvalidation_0-error:0.37285\n",
      "[49]\tvalidation_0-auc:0.52428\tvalidation_0-logloss:0.66306\tvalidation_0-error:0.37285\n",
      "[50]\tvalidation_0-auc:0.52484\tvalidation_0-logloss:0.66285\tvalidation_0-error:0.37380\n",
      "[51]\tvalidation_0-auc:0.52467\tvalidation_0-logloss:0.66280\tvalidation_0-error:0.37380\n",
      "[52]\tvalidation_0-auc:0.52484\tvalidation_0-logloss:0.66268\tvalidation_0-error:0.37380\n",
      "[53]\tvalidation_0-auc:0.52566\tvalidation_0-logloss:0.66241\tvalidation_0-error:0.37380\n",
      "[54]\tvalidation_0-auc:0.52579\tvalidation_0-logloss:0.66225\tvalidation_0-error:0.37380\n",
      "[55]\tvalidation_0-auc:0.52579\tvalidation_0-logloss:0.66218\tvalidation_0-error:0.37380\n",
      "[56]\tvalidation_0-auc:0.52699\tvalidation_0-logloss:0.66195\tvalidation_0-error:0.37476\n",
      "[57]\tvalidation_0-auc:0.52738\tvalidation_0-logloss:0.66182\tvalidation_0-error:0.37476\n",
      "[58]\tvalidation_0-auc:0.52812\tvalidation_0-logloss:0.66164\tvalidation_0-error:0.37476\n",
      "[59]\tvalidation_0-auc:0.52848\tvalidation_0-logloss:0.66150\tvalidation_0-error:0.37476\n",
      "[60]\tvalidation_0-auc:0.52844\tvalidation_0-logloss:0.66142\tvalidation_0-error:0.37476\n",
      "[61]\tvalidation_0-auc:0.52886\tvalidation_0-logloss:0.66139\tvalidation_0-error:0.37476\n",
      "[62]\tvalidation_0-auc:0.52856\tvalidation_0-logloss:0.66132\tvalidation_0-error:0.37476\n",
      "[63]\tvalidation_0-auc:0.52754\tvalidation_0-logloss:0.66132\tvalidation_0-error:0.37476\n",
      "[64]\tvalidation_0-auc:0.52730\tvalidation_0-logloss:0.66133\tvalidation_0-error:0.37476\n",
      "[65]\tvalidation_0-auc:0.52764\tvalidation_0-logloss:0.66127\tvalidation_0-error:0.37476\n",
      "[66]\tvalidation_0-auc:0.52731\tvalidation_0-logloss:0.66125\tvalidation_0-error:0.37476\n",
      "[67]\tvalidation_0-auc:0.52707\tvalidation_0-logloss:0.66125\tvalidation_0-error:0.37476\n",
      "[68]\tvalidation_0-auc:0.52698\tvalidation_0-logloss:0.66124\tvalidation_0-error:0.37476\n",
      "[69]\tvalidation_0-auc:0.52688\tvalidation_0-logloss:0.66129\tvalidation_0-error:0.37476\n",
      "[70]\tvalidation_0-auc:0.52750\tvalidation_0-logloss:0.66124\tvalidation_0-error:0.37476\n",
      "[71]\tvalidation_0-auc:0.52719\tvalidation_0-logloss:0.66129\tvalidation_0-error:0.37476\n",
      "[72]\tvalidation_0-auc:0.52860\tvalidation_0-logloss:0.66107\tvalidation_0-error:0.37476\n",
      "[73]\tvalidation_0-auc:0.52838\tvalidation_0-logloss:0.66111\tvalidation_0-error:0.37476\n",
      "[74]\tvalidation_0-auc:0.52767\tvalidation_0-logloss:0.66121\tvalidation_0-error:0.37476\n",
      "[75]\tvalidation_0-auc:0.52762\tvalidation_0-logloss:0.66122\tvalidation_0-error:0.37476\n",
      "[76]\tvalidation_0-auc:0.52862\tvalidation_0-logloss:0.66114\tvalidation_0-error:0.37476\n",
      "[77]\tvalidation_0-auc:0.52841\tvalidation_0-logloss:0.66113\tvalidation_0-error:0.37476\n",
      "[78]\tvalidation_0-auc:0.52844\tvalidation_0-logloss:0.66121\tvalidation_0-error:0.37572\n",
      "[79]\tvalidation_0-auc:0.52899\tvalidation_0-logloss:0.66112\tvalidation_0-error:0.37572\n",
      "[80]\tvalidation_0-auc:0.52940\tvalidation_0-logloss:0.66107\tvalidation_0-error:0.37572\n",
      "[81]\tvalidation_0-auc:0.52997\tvalidation_0-logloss:0.66104\tvalidation_0-error:0.37572\n",
      "[82]\tvalidation_0-auc:0.53023\tvalidation_0-logloss:0.66104\tvalidation_0-error:0.37572\n",
      "[83]\tvalidation_0-auc:0.52985\tvalidation_0-logloss:0.66105\tvalidation_0-error:0.37572\n",
      "[84]\tvalidation_0-auc:0.52970\tvalidation_0-logloss:0.66114\tvalidation_0-error:0.37572\n",
      "[85]\tvalidation_0-auc:0.53026\tvalidation_0-logloss:0.66104\tvalidation_0-error:0.37572\n",
      "[86]\tvalidation_0-auc:0.52985\tvalidation_0-logloss:0.66122\tvalidation_0-error:0.37476\n",
      "[87]\tvalidation_0-auc:0.53023\tvalidation_0-logloss:0.66114\tvalidation_0-error:0.37476\n",
      "[88]\tvalidation_0-auc:0.53157\tvalidation_0-logloss:0.66102\tvalidation_0-error:0.37476\n",
      "[89]\tvalidation_0-auc:0.53146\tvalidation_0-logloss:0.66106\tvalidation_0-error:0.37476\n",
      "[90]\tvalidation_0-auc:0.53150\tvalidation_0-logloss:0.66104\tvalidation_0-error:0.37476\n",
      "[91]\tvalidation_0-auc:0.53199\tvalidation_0-logloss:0.66102\tvalidation_0-error:0.37572\n",
      "[92]\tvalidation_0-auc:0.53175\tvalidation_0-logloss:0.66109\tvalidation_0-error:0.37572\n",
      "[93]\tvalidation_0-auc:0.53146\tvalidation_0-logloss:0.66113\tvalidation_0-error:0.37572\n",
      "[94]\tvalidation_0-auc:0.53221\tvalidation_0-logloss:0.66099\tvalidation_0-error:0.37572\n",
      "[95]\tvalidation_0-auc:0.53287\tvalidation_0-logloss:0.66091\tvalidation_0-error:0.37572\n",
      "[96]\tvalidation_0-auc:0.53241\tvalidation_0-logloss:0.66104\tvalidation_0-error:0.37572\n",
      "[97]\tvalidation_0-auc:0.53321\tvalidation_0-logloss:0.66096\tvalidation_0-error:0.37572\n",
      "[98]\tvalidation_0-auc:0.53407\tvalidation_0-logloss:0.66083\tvalidation_0-error:0.37572\n",
      "[99]\tvalidation_0-auc:0.53421\tvalidation_0-logloss:0.66088\tvalidation_0-error:0.37572\n"
     ]
    },
    {
     "data": {
      "text/plain": [
       "XGBClassifier(base_score=0.5, booster='gbtree', colsample_bylevel=1,\n",
       "              colsample_bynode=1, colsample_bytree=0.65,\n",
       "              enable_categorical=False, eta=0.015,\n",
       "              eval_metric=['auc', 'logloss', 'error'], gamma=1.25, gpu_id=-1,\n",
       "              importance_type=None, interaction_constraints='',\n",
       "              learning_rate=0.0149999997, max_delta_step=0, max_depth=6,\n",
       "              min_child_weight=30, missing=nan, monotone_constraints='()',\n",
       "              n_estimators=100, n_jobs=12, num_parallel_tree=1,\n",
       "              predictor='auto', random_state=123, reg_alpha=0, reg_lambda=1,\n",
       "              scale_pos_weight=1, subsample=1, tree_method='exact',\n",
       "              validate_parameters=1, verbosity=None)"
      ]
     },
     "execution_count": 88,
     "metadata": {},
     "output_type": "execute_result"
    }
   ],
   "source": [
    "model = xgb.XGBClassifier(objective='binary:logistic', n_estimators=100, max_depth=6, gamma=1.25, eta=0.015,\n",
    "                          min_child_weight=30, colsample_bytree=0.65, \n",
    "                          random_state=123, eval_metric=[\"auc\", \"logloss\", \"error\"])\n",
    "model.fit(X_train, y_train, eval_set=[(X_test, y_test)])"
   ]
  },
  {
   "cell_type": "code",
   "execution_count": 89,
   "id": "fd60cb85",
   "metadata": {},
   "outputs": [
    {
     "data": {
      "text/plain": [
       "<AxesSubplot:>"
      ]
     },
     "execution_count": 89,
     "metadata": {},
     "output_type": "execute_result"
    },
    {
     "data": {
      "image/png": "[encoded data removed]",
      "text/plain": [
       "<Figure size 432x288 with 1 Axes>"
      ]
     },
     "metadata": {
      "needs_background": "light"
     },
     "output_type": "display_data"
    }
   ],
   "source": [
    "fu_dict = dict(zip(X_train.columns, model.feature_importances_))\n",
    "fi = pd.DataFrame(fu_dict.values(), index=fu_dict.keys(), columns=[\"importance\"])\n",
    "fi = fi.sort_values(by=\"importance\", ascending=False)\n",
    "\n",
    "fi.plot.bar()"
   ]
  },
  {
   "cell_type": "code",
   "execution_count": 90,
   "id": "ff8a7a70",
   "metadata": {},
   "outputs": [
    {
     "data": {
      "text/plain": [
       "array([[  4, 387],\n",
       "       [  6, 649]])"
      ]
     },
     "execution_count": 90,
     "metadata": {},
     "output_type": "execute_result"
    }
   ],
   "source": [
    "y_pred1 = model.predict(X_test)\n",
    "cm = confusion_matrix(y_test, y_pred1)\n",
    "cm"
   ]
  },
  {
   "cell_type": "code",
   "execution_count": 101,
   "id": "55f7e0eb",
   "metadata": {},
   "outputs": [],
   "source": [
    "y_pred_proba = model.predict_proba(X_test)[:,1]\n",
    "predict_mine = np.where(y_pred_proba > 0.68, 1, 0)\n",
    "cm1 = confusion_matrix(y_test, predict_mine)"
   ]
  },
  {
   "cell_type": "code",
   "execution_count": 102,
   "id": "38f19818",
   "metadata": {},
   "outputs": [
    {
     "data": {
      "text/plain": [
       "array([[321,  70],\n",
       "       [503, 152]])"
      ]
     },
     "execution_count": 102,
     "metadata": {},
     "output_type": "execute_result"
    }
   ],
   "source": [
    "cm1"
   ]
  },
  {
   "cell_type": "code",
   "execution_count": 103,
   "id": "2a080435",
   "metadata": {},
   "outputs": [
    {
     "data": {
      "text/plain": [
       "0.624282982791587"
      ]
     },
     "execution_count": 103,
     "metadata": {},
     "output_type": "execute_result"
    }
   ],
   "source": [
    "metrics.accuracy_score(y_test, y_pred1)"
   ]
  },
  {
   "cell_type": "code",
   "execution_count": 104,
   "id": "2a85372f",
   "metadata": {},
   "outputs": [
    {
     "data": {
      "text/plain": [
       "(0.6846846846846847, 0.4)"
      ]
     },
     "execution_count": 104,
     "metadata": {},
     "output_type": "execute_result"
    }
   ],
   "source": [
    "cm1[1][1]/(cm1[1][1]+cm1[0][1]), cm[0][0]/(cm[1][0]+cm[0][0])"
   ]
  },
  {
   "cell_type": "code",
   "execution_count": 105,
   "id": "7e46167a",
   "metadata": {},
   "outputs": [
    {
     "data": {
      "text/plain": [
       "(21.223709369024856, 0.9560229445506693)"
      ]
     },
     "execution_count": 105,
     "metadata": {},
     "output_type": "execute_result"
    }
   ],
   "source": [
    "(cm1[1][1]+cm1[0][1])/len(y_test)*100, (cm[0][0]+cm[1][0])/len(y_test)*100"
   ]
  },
  {
   "cell_type": "markdown",
   "id": "bd2cf07a",
   "metadata": {},
   "source": [
    "###### VALIDATION - BEST MODEL --> 70% accuracy in 17% of matches"
   ]
  },
  {
   "cell_type": "code",
   "execution_count": 106,
   "id": "31566b6c",
   "metadata": {},
   "outputs": [
    {
     "data": {
      "text/plain": [
       "array([[  0,  45],\n",
       "       [  0, 140]])"
      ]
     },
     "execution_count": 106,
     "metadata": {},
     "output_type": "execute_result"
    }
   ],
   "source": [
    "y_pred = model.predict(X_validation)\n",
    "cm = confusion_matrix(y_validation, y_pred)\n",
    "cm"
   ]
  },
  {
   "cell_type": "code",
   "execution_count": 107,
   "id": "960fa297",
   "metadata": {},
   "outputs": [
    {
     "data": {
      "text/plain": [
       "0.7567567567567568"
      ]
     },
     "execution_count": 107,
     "metadata": {},
     "output_type": "execute_result"
    }
   ],
   "source": [
    "metrics.accuracy_score(y_validation, y_pred)"
   ]
  },
  {
   "cell_type": "code",
   "execution_count": 108,
   "id": "fa1b7039",
   "metadata": {},
   "outputs": [],
   "source": [
    "y_pred_proba = model.predict_proba(X_validation)[:,1]\n",
    "predict_mine = np.where(y_pred_proba > 0.68, 1, 0)\n",
    "cm1 = confusion_matrix(y_validation, predict_mine)"
   ]
  },
  {
   "cell_type": "code",
   "execution_count": 109,
   "id": "8792d422",
   "metadata": {},
   "outputs": [
    {
     "name": "stderr",
     "output_type": "stream",
     "text": [
      "/home/root/opt/python3.7.11/lib/python3.7/site-packages/ipykernel_launcher.py:1: RuntimeWarning: invalid value encountered in long_scalars\n",
      "  \"\"\"Entry point for launching an IPython kernel.\n"
     ]
    },
    {
     "data": {
      "text/plain": [
       "(0.85, nan)"
      ]
     },
     "execution_count": 109,
     "metadata": {},
     "output_type": "execute_result"
    }
   ],
   "source": [
    "cm1[1][1]/(cm1[1][1]+cm1[0][1]), cm[0][0]/(cm[1][0]+cm[0][0])"
   ]
  },
  {
   "cell_type": "code",
   "execution_count": 110,
   "id": "e19d4fb4",
   "metadata": {},
   "outputs": [
    {
     "data": {
      "text/plain": [
       "(21.62162162162162, 0.0)"
      ]
     },
     "execution_count": 110,
     "metadata": {},
     "output_type": "execute_result"
    }
   ],
   "source": [
    "(cm1[1][1]+cm1[0][1])/len(y_validation)*100, (cm[0][0]+cm[1][0])/len(y_validation)*100"
   ]
  },
  {
   "cell_type": "code",
   "execution_count": 111,
   "id": "dbd587ba",
   "metadata": {},
   "outputs": [
    {
     "data": {
      "text/plain": [
       "array([[ 39,   6],\n",
       "       [106,  34]])"
      ]
     },
     "execution_count": 111,
     "metadata": {},
     "output_type": "execute_result"
    }
   ],
   "source": [
    "cm1"
   ]
  },
  {
   "cell_type": "code",
   "execution_count": null,
   "id": "ed65eb0a",
   "metadata": {},
   "outputs": [],
   "source": []
  },
  {
   "cell_type": "markdown",
   "id": "ad7f885b",
   "metadata": {},
   "source": [
    "## FINAL VALIDATION - NOVEMBER 2021"
   ]
  },
  {
   "cell_type": "code",
   "execution_count": 112,
   "id": "2ff81e36",
   "metadata": {},
   "outputs": [
    {
     "data": {
      "text/plain": [
       "array([[ 0, 33],\n",
       "       [ 0, 72]])"
      ]
     },
     "execution_count": 112,
     "metadata": {},
     "output_type": "execute_result"
    }
   ],
   "source": [
    "y_pred = model.predict(X_validation_november)\n",
    "cm = confusion_matrix(y_validation_november, y_pred)\n",
    "cm"
   ]
  },
  {
   "cell_type": "code",
   "execution_count": 113,
   "id": "6d5e72bf",
   "metadata": {},
   "outputs": [
    {
     "data": {
      "text/plain": [
       "0.6857142857142857"
      ]
     },
     "execution_count": 113,
     "metadata": {},
     "output_type": "execute_result"
    }
   ],
   "source": [
    "metrics.accuracy_score(y_validation_november, y_pred)"
   ]
  },
  {
   "cell_type": "code",
   "execution_count": 114,
   "id": "2bd44841",
   "metadata": {},
   "outputs": [],
   "source": [
    "y_pred_proba = model.predict_proba(X_validation_november)[:,1]\n",
    "predict_mine = np.where(y_pred_proba > 0.68, 1, 0)\n",
    "cm1 = confusion_matrix(y_validation_november, predict_mine)"
   ]
  },
  {
   "cell_type": "code",
   "execution_count": 115,
   "id": "b0f47d24",
   "metadata": {},
   "outputs": [
    {
     "data": {
      "text/plain": [
       "array([[29,  4],\n",
       "       [57, 15]])"
      ]
     },
     "execution_count": 115,
     "metadata": {},
     "output_type": "execute_result"
    }
   ],
   "source": [
    "cm1"
   ]
  },
  {
   "cell_type": "code",
   "execution_count": 116,
   "id": "8c44788e",
   "metadata": {},
   "outputs": [
    {
     "name": "stderr",
     "output_type": "stream",
     "text": [
      "/home/root/opt/python3.7.11/lib/python3.7/site-packages/ipykernel_launcher.py:1: RuntimeWarning: invalid value encountered in long_scalars\n",
      "  \"\"\"Entry point for launching an IPython kernel.\n"
     ]
    },
    {
     "data": {
      "text/plain": [
       "(0.7894736842105263, nan)"
      ]
     },
     "execution_count": 116,
     "metadata": {},
     "output_type": "execute_result"
    }
   ],
   "source": [
    "cm1[1][1]/(cm1[1][1]+cm1[0][1]), cm[0][0]/(cm[1][0]+cm[0][0])"
   ]
  },
  {
   "cell_type": "code",
   "execution_count": 117,
   "id": "9f8859f0",
   "metadata": {},
   "outputs": [
    {
     "data": {
      "text/plain": [
       "(18.095238095238095, 0.0)"
      ]
     },
     "execution_count": 117,
     "metadata": {},
     "output_type": "execute_result"
    }
   ],
   "source": [
    "(cm1[1][1]+cm1[0][1])/len(y_validation_november)*100, (cm[0][0]+cm[1][0])/len(y_validation_november)*100"
   ]
  },
  {
   "cell_type": "code",
   "execution_count": 118,
   "id": "433abf23",
   "metadata": {},
   "outputs": [],
   "source": [
    "#umbral --> 0.68; Condition --> TOTAL_CORNERS > 3\n",
    "import pickle\n",
    "file_name = \"model_under5_58.pkl\"\n",
    "\n",
    "# save\n",
    "pickle.dump(model, open(file_name, \"wb\"))\n",
    "\n",
    "# load\n",
    "#xgb_model_loaded = pickle.load(open(file_name, \"rb\"))\n"
   ]
  },
  {
   "cell_type": "code",
   "execution_count": null,
   "id": "74594fdf",
   "metadata": {},
   "outputs": [],
   "source": []
  },
  {
   "cell_type": "markdown",
   "id": "fd483e1a",
   "metadata": {},
   "source": [
    "# OUTPUT"
   ]
  },
  {
   "cell_type": "code",
   "execution_count": 130,
   "id": "e438cbca",
   "metadata": {},
   "outputs": [],
   "source": [
    "output = data[(data.YEARMONTH>=202111 )& (data.TOTAL_CORNERS>3)][[\"ID\", \"output\", \"CORNERS_H\", \"CORNERS_A\", \"TOTAL_CORNERS\"]].reset_index(drop=True)"
   ]
  },
  {
   "cell_type": "code",
   "execution_count": 131,
   "id": "a9ace64f",
   "metadata": {},
   "outputs": [],
   "source": [
    "output[\"PROB_CORNERS\"] = pd.DataFrame(model.predict_proba(X_validation_november)[:,1]).iloc[:, 0]\\\n",
    "    .apply(lambda x: 1 if x>0.6 else 0)"
   ]
  },
  {
   "cell_type": "code",
   "execution_count": 132,
   "id": "a8486cc5",
   "metadata": {},
   "outputs": [
    {
     "data": {
      "text/html": [
       "<div>\n",
       "<style scoped>\n",
       "    .dataframe tbody tr th:only-of-type {\n",
       "        vertical-align: middle;\n",
       "    }\n",
       "\n",
       "    .dataframe tbody tr th {\n",
       "        vertical-align: top;\n",
       "    }\n",
       "\n",
       "    .dataframe thead th {\n",
       "        text-align: right;\n",
       "    }\n",
       "</style>\n",
       "<table border=\"1\" class=\"dataframe\">\n",
       "  <thead>\n",
       "    <tr style=\"text-align: right;\">\n",
       "      <th></th>\n",
       "      <th>ID</th>\n",
       "      <th>output</th>\n",
       "      <th>CORNERS_H</th>\n",
       "      <th>CORNERS_A</th>\n",
       "      <th>TOTAL_CORNERS</th>\n",
       "      <th>PROB_CORNERS</th>\n",
       "    </tr>\n",
       "  </thead>\n",
       "  <tbody>\n",
       "    <tr>\n",
       "      <th>0</th>\n",
       "      <td>E30fSmrc</td>\n",
       "      <td>1</td>\n",
       "      <td>5</td>\n",
       "      <td>0</td>\n",
       "      <td>5</td>\n",
       "      <td>1</td>\n",
       "    </tr>\n",
       "    <tr>\n",
       "      <th>1</th>\n",
       "      <td>nsYoAO57</td>\n",
       "      <td>1</td>\n",
       "      <td>5</td>\n",
       "      <td>1</td>\n",
       "      <td>6</td>\n",
       "      <td>1</td>\n",
       "    </tr>\n",
       "    <tr>\n",
       "      <th>2</th>\n",
       "      <td>p0AwSvlE</td>\n",
       "      <td>1</td>\n",
       "      <td>4</td>\n",
       "      <td>4</td>\n",
       "      <td>8</td>\n",
       "      <td>1</td>\n",
       "    </tr>\n",
       "    <tr>\n",
       "      <th>7</th>\n",
       "      <td>Oj9sRb3K</td>\n",
       "      <td>1</td>\n",
       "      <td>4</td>\n",
       "      <td>3</td>\n",
       "      <td>7</td>\n",
       "      <td>1</td>\n",
       "    </tr>\n",
       "    <tr>\n",
       "      <th>8</th>\n",
       "      <td>dCFxXoDK</td>\n",
       "      <td>1</td>\n",
       "      <td>2</td>\n",
       "      <td>4</td>\n",
       "      <td>6</td>\n",
       "      <td>1</td>\n",
       "    </tr>\n",
       "    <tr>\n",
       "      <th>9</th>\n",
       "      <td>vyLXXRcE</td>\n",
       "      <td>1</td>\n",
       "      <td>4</td>\n",
       "      <td>2</td>\n",
       "      <td>6</td>\n",
       "      <td>1</td>\n",
       "    </tr>\n",
       "    <tr>\n",
       "      <th>14</th>\n",
       "      <td>80vLFh5r</td>\n",
       "      <td>0</td>\n",
       "      <td>2</td>\n",
       "      <td>5</td>\n",
       "      <td>7</td>\n",
       "      <td>1</td>\n",
       "    </tr>\n",
       "    <tr>\n",
       "      <th>15</th>\n",
       "      <td>fZaDLxRs</td>\n",
       "      <td>0</td>\n",
       "      <td>1</td>\n",
       "      <td>7</td>\n",
       "      <td>8</td>\n",
       "      <td>1</td>\n",
       "    </tr>\n",
       "    <tr>\n",
       "      <th>16</th>\n",
       "      <td>ID8oQIIQ</td>\n",
       "      <td>1</td>\n",
       "      <td>5</td>\n",
       "      <td>1</td>\n",
       "      <td>6</td>\n",
       "      <td>1</td>\n",
       "    </tr>\n",
       "    <tr>\n",
       "      <th>17</th>\n",
       "      <td>GllMJGef</td>\n",
       "      <td>1</td>\n",
       "      <td>5</td>\n",
       "      <td>4</td>\n",
       "      <td>9</td>\n",
       "      <td>1</td>\n",
       "    </tr>\n",
       "    <tr>\n",
       "      <th>19</th>\n",
       "      <td>0S6SM1kD</td>\n",
       "      <td>1</td>\n",
       "      <td>2</td>\n",
       "      <td>2</td>\n",
       "      <td>4</td>\n",
       "      <td>1</td>\n",
       "    </tr>\n",
       "    <tr>\n",
       "      <th>20</th>\n",
       "      <td>0pMTY7r8</td>\n",
       "      <td>1</td>\n",
       "      <td>3</td>\n",
       "      <td>2</td>\n",
       "      <td>5</td>\n",
       "      <td>1</td>\n",
       "    </tr>\n",
       "    <tr>\n",
       "      <th>21</th>\n",
       "      <td>lAfHP35f</td>\n",
       "      <td>1</td>\n",
       "      <td>9</td>\n",
       "      <td>3</td>\n",
       "      <td>12</td>\n",
       "      <td>1</td>\n",
       "    </tr>\n",
       "    <tr>\n",
       "      <th>22</th>\n",
       "      <td>jRSOwxmQ</td>\n",
       "      <td>1</td>\n",
       "      <td>3</td>\n",
       "      <td>6</td>\n",
       "      <td>9</td>\n",
       "      <td>1</td>\n",
       "    </tr>\n",
       "    <tr>\n",
       "      <th>23</th>\n",
       "      <td>G8C3Wgu0</td>\n",
       "      <td>1</td>\n",
       "      <td>3</td>\n",
       "      <td>1</td>\n",
       "      <td>4</td>\n",
       "      <td>1</td>\n",
       "    </tr>\n",
       "    <tr>\n",
       "      <th>24</th>\n",
       "      <td>C6zouq5s</td>\n",
       "      <td>1</td>\n",
       "      <td>5</td>\n",
       "      <td>0</td>\n",
       "      <td>5</td>\n",
       "      <td>1</td>\n",
       "    </tr>\n",
       "    <tr>\n",
       "      <th>28</th>\n",
       "      <td>EVW1y146</td>\n",
       "      <td>0</td>\n",
       "      <td>3</td>\n",
       "      <td>3</td>\n",
       "      <td>6</td>\n",
       "      <td>1</td>\n",
       "    </tr>\n",
       "    <tr>\n",
       "      <th>29</th>\n",
       "      <td>zoLAZvZI</td>\n",
       "      <td>1</td>\n",
       "      <td>5</td>\n",
       "      <td>3</td>\n",
       "      <td>8</td>\n",
       "      <td>1</td>\n",
       "    </tr>\n",
       "    <tr>\n",
       "      <th>30</th>\n",
       "      <td>O0EhbOBJ</td>\n",
       "      <td>1</td>\n",
       "      <td>7</td>\n",
       "      <td>2</td>\n",
       "      <td>9</td>\n",
       "      <td>1</td>\n",
       "    </tr>\n",
       "    <tr>\n",
       "      <th>33</th>\n",
       "      <td>GhUwadeM</td>\n",
       "      <td>0</td>\n",
       "      <td>4</td>\n",
       "      <td>2</td>\n",
       "      <td>6</td>\n",
       "      <td>1</td>\n",
       "    </tr>\n",
       "    <tr>\n",
       "      <th>35</th>\n",
       "      <td>8MwJ3Kti</td>\n",
       "      <td>0</td>\n",
       "      <td>4</td>\n",
       "      <td>4</td>\n",
       "      <td>8</td>\n",
       "      <td>1</td>\n",
       "    </tr>\n",
       "    <tr>\n",
       "      <th>36</th>\n",
       "      <td>UySR1bB3</td>\n",
       "      <td>0</td>\n",
       "      <td>5</td>\n",
       "      <td>0</td>\n",
       "      <td>5</td>\n",
       "      <td>1</td>\n",
       "    </tr>\n",
       "    <tr>\n",
       "      <th>40</th>\n",
       "      <td>xO0CUX9C</td>\n",
       "      <td>1</td>\n",
       "      <td>4</td>\n",
       "      <td>4</td>\n",
       "      <td>8</td>\n",
       "      <td>1</td>\n",
       "    </tr>\n",
       "    <tr>\n",
       "      <th>41</th>\n",
       "      <td>dfM6zLJC</td>\n",
       "      <td>1</td>\n",
       "      <td>4</td>\n",
       "      <td>6</td>\n",
       "      <td>10</td>\n",
       "      <td>1</td>\n",
       "    </tr>\n",
       "    <tr>\n",
       "      <th>42</th>\n",
       "      <td>8YTgwNZg</td>\n",
       "      <td>1</td>\n",
       "      <td>7</td>\n",
       "      <td>0</td>\n",
       "      <td>7</td>\n",
       "      <td>1</td>\n",
       "    </tr>\n",
       "    <tr>\n",
       "      <th>43</th>\n",
       "      <td>ruWV0IQ9</td>\n",
       "      <td>0</td>\n",
       "      <td>2</td>\n",
       "      <td>6</td>\n",
       "      <td>8</td>\n",
       "      <td>1</td>\n",
       "    </tr>\n",
       "    <tr>\n",
       "      <th>44</th>\n",
       "      <td>nDxN2vdc</td>\n",
       "      <td>0</td>\n",
       "      <td>4</td>\n",
       "      <td>4</td>\n",
       "      <td>8</td>\n",
       "      <td>1</td>\n",
       "    </tr>\n",
       "    <tr>\n",
       "      <th>45</th>\n",
       "      <td>WKAiZees</td>\n",
       "      <td>1</td>\n",
       "      <td>1</td>\n",
       "      <td>5</td>\n",
       "      <td>6</td>\n",
       "      <td>1</td>\n",
       "    </tr>\n",
       "    <tr>\n",
       "      <th>46</th>\n",
       "      <td>ruh1GcQd</td>\n",
       "      <td>1</td>\n",
       "      <td>3</td>\n",
       "      <td>5</td>\n",
       "      <td>8</td>\n",
       "      <td>1</td>\n",
       "    </tr>\n",
       "    <tr>\n",
       "      <th>48</th>\n",
       "      <td>z19YlKY5</td>\n",
       "      <td>1</td>\n",
       "      <td>4</td>\n",
       "      <td>3</td>\n",
       "      <td>7</td>\n",
       "      <td>1</td>\n",
       "    </tr>\n",
       "    <tr>\n",
       "      <th>51</th>\n",
       "      <td>2iDdcrRP</td>\n",
       "      <td>1</td>\n",
       "      <td>3</td>\n",
       "      <td>2</td>\n",
       "      <td>5</td>\n",
       "      <td>1</td>\n",
       "    </tr>\n",
       "    <tr>\n",
       "      <th>53</th>\n",
       "      <td>UefDDeAF</td>\n",
       "      <td>1</td>\n",
       "      <td>1</td>\n",
       "      <td>6</td>\n",
       "      <td>7</td>\n",
       "      <td>1</td>\n",
       "    </tr>\n",
       "    <tr>\n",
       "      <th>55</th>\n",
       "      <td>CKqICFPL</td>\n",
       "      <td>1</td>\n",
       "      <td>3</td>\n",
       "      <td>6</td>\n",
       "      <td>9</td>\n",
       "      <td>1</td>\n",
       "    </tr>\n",
       "    <tr>\n",
       "      <th>56</th>\n",
       "      <td>MVj5FHu3</td>\n",
       "      <td>1</td>\n",
       "      <td>2</td>\n",
       "      <td>4</td>\n",
       "      <td>6</td>\n",
       "      <td>1</td>\n",
       "    </tr>\n",
       "    <tr>\n",
       "      <th>59</th>\n",
       "      <td>8YkPh2Zt</td>\n",
       "      <td>1</td>\n",
       "      <td>3</td>\n",
       "      <td>2</td>\n",
       "      <td>5</td>\n",
       "      <td>1</td>\n",
       "    </tr>\n",
       "    <tr>\n",
       "      <th>61</th>\n",
       "      <td>KjzAVVXp</td>\n",
       "      <td>0</td>\n",
       "      <td>3</td>\n",
       "      <td>3</td>\n",
       "      <td>6</td>\n",
       "      <td>1</td>\n",
       "    </tr>\n",
       "    <tr>\n",
       "      <th>62</th>\n",
       "      <td>zwBAgzJq</td>\n",
       "      <td>1</td>\n",
       "      <td>7</td>\n",
       "      <td>1</td>\n",
       "      <td>8</td>\n",
       "      <td>1</td>\n",
       "    </tr>\n",
       "    <tr>\n",
       "      <th>64</th>\n",
       "      <td>Y7ekMDA0</td>\n",
       "      <td>1</td>\n",
       "      <td>2</td>\n",
       "      <td>6</td>\n",
       "      <td>8</td>\n",
       "      <td>1</td>\n",
       "    </tr>\n",
       "    <tr>\n",
       "      <th>67</th>\n",
       "      <td>8CG4iDf4</td>\n",
       "      <td>0</td>\n",
       "      <td>2</td>\n",
       "      <td>3</td>\n",
       "      <td>5</td>\n",
       "      <td>1</td>\n",
       "    </tr>\n",
       "    <tr>\n",
       "      <th>70</th>\n",
       "      <td>lMOCkiPG</td>\n",
       "      <td>1</td>\n",
       "      <td>5</td>\n",
       "      <td>4</td>\n",
       "      <td>9</td>\n",
       "      <td>1</td>\n",
       "    </tr>\n",
       "    <tr>\n",
       "      <th>71</th>\n",
       "      <td>rqOGlBvN</td>\n",
       "      <td>1</td>\n",
       "      <td>3</td>\n",
       "      <td>4</td>\n",
       "      <td>7</td>\n",
       "      <td>1</td>\n",
       "    </tr>\n",
       "    <tr>\n",
       "      <th>72</th>\n",
       "      <td>6FGUr2cI</td>\n",
       "      <td>1</td>\n",
       "      <td>6</td>\n",
       "      <td>5</td>\n",
       "      <td>11</td>\n",
       "      <td>1</td>\n",
       "    </tr>\n",
       "    <tr>\n",
       "      <th>73</th>\n",
       "      <td>0nDdgZPi</td>\n",
       "      <td>1</td>\n",
       "      <td>3</td>\n",
       "      <td>10</td>\n",
       "      <td>13</td>\n",
       "      <td>1</td>\n",
       "    </tr>\n",
       "    <tr>\n",
       "      <th>74</th>\n",
       "      <td>MgZi6D2k</td>\n",
       "      <td>0</td>\n",
       "      <td>4</td>\n",
       "      <td>4</td>\n",
       "      <td>8</td>\n",
       "      <td>1</td>\n",
       "    </tr>\n",
       "    <tr>\n",
       "      <th>76</th>\n",
       "      <td>GSpmQYgL</td>\n",
       "      <td>1</td>\n",
       "      <td>5</td>\n",
       "      <td>0</td>\n",
       "      <td>5</td>\n",
       "      <td>1</td>\n",
       "    </tr>\n",
       "    <tr>\n",
       "      <th>77</th>\n",
       "      <td>xxnqREvF</td>\n",
       "      <td>0</td>\n",
       "      <td>6</td>\n",
       "      <td>6</td>\n",
       "      <td>12</td>\n",
       "      <td>1</td>\n",
       "    </tr>\n",
       "    <tr>\n",
       "      <th>83</th>\n",
       "      <td>xI3tKroU</td>\n",
       "      <td>0</td>\n",
       "      <td>4</td>\n",
       "      <td>5</td>\n",
       "      <td>9</td>\n",
       "      <td>1</td>\n",
       "    </tr>\n",
       "    <tr>\n",
       "      <th>84</th>\n",
       "      <td>lG5l5XHe</td>\n",
       "      <td>1</td>\n",
       "      <td>2</td>\n",
       "      <td>2</td>\n",
       "      <td>4</td>\n",
       "      <td>1</td>\n",
       "    </tr>\n",
       "    <tr>\n",
       "      <th>86</th>\n",
       "      <td>EFCLO6Wb</td>\n",
       "      <td>1</td>\n",
       "      <td>6</td>\n",
       "      <td>2</td>\n",
       "      <td>8</td>\n",
       "      <td>1</td>\n",
       "    </tr>\n",
       "    <tr>\n",
       "      <th>87</th>\n",
       "      <td>445YL4GH</td>\n",
       "      <td>1</td>\n",
       "      <td>5</td>\n",
       "      <td>1</td>\n",
       "      <td>6</td>\n",
       "      <td>1</td>\n",
       "    </tr>\n",
       "    <tr>\n",
       "      <th>88</th>\n",
       "      <td>Ewe8F2go</td>\n",
       "      <td>1</td>\n",
       "      <td>6</td>\n",
       "      <td>2</td>\n",
       "      <td>8</td>\n",
       "      <td>1</td>\n",
       "    </tr>\n",
       "  </tbody>\n",
       "</table>\n",
       "</div>"
      ],
      "text/plain": [
       "          ID  output  CORNERS_H  CORNERS_A  TOTAL_CORNERS  PROB_CORNERS\n",
       "0   E30fSmrc       1          5          0              5             1\n",
       "1   nsYoAO57       1          5          1              6             1\n",
       "2   p0AwSvlE       1          4          4              8             1\n",
       "7   Oj9sRb3K       1          4          3              7             1\n",
       "8   dCFxXoDK       1          2          4              6             1\n",
       "9   vyLXXRcE       1          4          2              6             1\n",
       "14  80vLFh5r       0          2          5              7             1\n",
       "15  fZaDLxRs       0          1          7              8             1\n",
       "16  ID8oQIIQ       1          5          1              6             1\n",
       "17  GllMJGef       1          5          4              9             1\n",
       "19  0S6SM1kD       1          2          2              4             1\n",
       "20  0pMTY7r8       1          3          2              5             1\n",
       "21  lAfHP35f       1          9          3             12             1\n",
       "22  jRSOwxmQ       1          3          6              9             1\n",
       "23  G8C3Wgu0       1          3          1              4             1\n",
       "24  C6zouq5s       1          5          0              5             1\n",
       "28  EVW1y146       0          3          3              6             1\n",
       "29  zoLAZvZI       1          5          3              8             1\n",
       "30  O0EhbOBJ       1          7          2              9             1\n",
       "33  GhUwadeM       0          4          2              6             1\n",
       "35  8MwJ3Kti       0          4          4              8             1\n",
       "36  UySR1bB3       0          5          0              5             1\n",
       "40  xO0CUX9C       1          4          4              8             1\n",
       "41  dfM6zLJC       1          4          6             10             1\n",
       "42  8YTgwNZg       1          7          0              7             1\n",
       "43  ruWV0IQ9       0          2          6              8             1\n",
       "44  nDxN2vdc       0          4          4              8             1\n",
       "45  WKAiZees       1          1          5              6             1\n",
       "46  ruh1GcQd       1          3          5              8             1\n",
       "48  z19YlKY5       1          4          3              7             1\n",
       "51  2iDdcrRP       1          3          2              5             1\n",
       "53  UefDDeAF       1          1          6              7             1\n",
       "55  CKqICFPL       1          3          6              9             1\n",
       "56  MVj5FHu3       1          2          4              6             1\n",
       "59  8YkPh2Zt       1          3          2              5             1\n",
       "61  KjzAVVXp       0          3          3              6             1\n",
       "62  zwBAgzJq       1          7          1              8             1\n",
       "64  Y7ekMDA0       1          2          6              8             1\n",
       "67  8CG4iDf4       0          2          3              5             1\n",
       "70  lMOCkiPG       1          5          4              9             1\n",
       "71  rqOGlBvN       1          3          4              7             1\n",
       "72  6FGUr2cI       1          6          5             11             1\n",
       "73  0nDdgZPi       1          3         10             13             1\n",
       "74  MgZi6D2k       0          4          4              8             1\n",
       "76  GSpmQYgL       1          5          0              5             1\n",
       "77  xxnqREvF       0          6          6             12             1\n",
       "83  xI3tKroU       0          4          5              9             1\n",
       "84  lG5l5XHe       1          2          2              4             1\n",
       "86  EFCLO6Wb       1          6          2              8             1\n",
       "87  445YL4GH       1          5          1              6             1\n",
       "88  Ewe8F2go       1          6          2              8             1"
      ]
     },
     "execution_count": 132,
     "metadata": {},
     "output_type": "execute_result"
    }
   ],
   "source": [
    "output[output.PROB_CORNERS==1]"
   ]
  },
  {
   "cell_type": "code",
   "execution_count": null,
   "id": "c616056a",
   "metadata": {},
   "outputs": [],
   "source": []
  }
 ],
 "metadata": {
  "kernelspec": {
   "display_name": "Python 3 (ipykernel)",
   "language": "python",
   "name": "python3"
  },
  "language_info": {
   "codemirror_mode": {
    "name": "ipython",
    "version": 3
   },
   "file_extension": ".py",
   "mimetype": "text/x-python",
   "name": "python",
   "nbconvert_exporter": "python",
   "pygments_lexer": "ipython3",
   "version": "3.7.11"
  }
 },
 "nbformat": 4,
 "nbformat_minor": 5
}
