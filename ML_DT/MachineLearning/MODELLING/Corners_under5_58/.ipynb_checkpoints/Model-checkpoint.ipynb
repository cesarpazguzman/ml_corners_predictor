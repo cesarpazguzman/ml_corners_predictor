{
 "cells": [
  {
   "cell_type": "code",
   "execution_count": 60,
   "id": "0705929c",
   "metadata": {},
   "outputs": [],
   "source": [
    "import pymysql\n",
    "from sklearn.ensemble import RandomForestClassifier\n",
    "from sqlalchemy import create_engine\n",
    "import pandas as pd\n",
    "import matplotlib.pyplot as plt\n",
    "%matplotlib inline\n",
    "import numpy as np\n",
    "from pandasql import sqldf\n",
    "from sklearn import metrics\n",
    "\n",
    "import xgboost as xgb\n",
    "from sklearn.metrics import accuracy_score, confusion_matrix"
   ]
  },
  {
   "cell_type": "code",
   "execution_count": 78,
   "id": "0121f51f",
   "metadata": {},
   "outputs": [],
   "source": [
    "data = pd.read_csv(\"../../FEATURE_ENGINEER/tablon_undert_58_q5.csv\")\n",
    "\n",
    "data = data[data.TOTAL_CORNERS>3]\n",
    "\n",
    "tablon = data[data.YEARMONTH<202111][[\"AVG_CORNERSHOMED1_L3\",\n",
    "                                                                 \"AVG_CORNERSHOMED2_L5\", \"AVG_CORNERSAWAYD1_L5\",\n",
    "                                      \"CORNERS_DIV_SHOTS\",\"AVG_CORNERSAWAYD2_L5\", \"LEAGUE_INGLATERRA\", \"TOTAL_CORNERS\",\n",
    "                                      \"LAST_MINUTECORNER_H_L60\", \"LAST_MINUTECORNER_A_L60\", \"SUM_CORNERS_L60\",\n",
    "                                      \"AVG_CORNERS_LOSE_HOME\",\"CORNERS_A\", \"AVG_CORNERSHOMED1_L5\", \n",
    "                                      \"NUM_MATCHESHOME_POSITIVE_L5\", \"output\",\"TOTAL_CORNERS_45_60\"]]\n",
    "\n",
    "X_validation_november = data[data.YEARMONTH>=202111][[\"AVG_CORNERSHOMED1_L3\",\"AVG_CORNERSHOMED2_L5\", \"AVG_CORNERSAWAYD1_L5\",\n",
    "                                      \"CORNERS_DIV_SHOTS\",\"AVG_CORNERSAWAYD2_L5\", \"LEAGUE_INGLATERRA\", \"TOTAL_CORNERS\",\n",
    "                                      \"LAST_MINUTECORNER_H_L60\", \"LAST_MINUTECORNER_A_L60\", \"SUM_CORNERS_L60\",\n",
    "                                      \"AVG_CORNERS_LOSE_HOME\",\"CORNERS_A\", \"AVG_CORNERSHOMED1_L5\", \n",
    "                                      \"NUM_MATCHESHOME_POSITIVE_L5\", \"output\",\"TOTAL_CORNERS_45_60\"]]"
   ]
  },
  {
   "cell_type": "code",
   "execution_count": 79,
   "id": "5ad0b69b",
   "metadata": {},
   "outputs": [],
   "source": [
    "len_test = int(round(len(tablon)*0.25, 0))\n",
    "len_train = int(round(len(tablon)*0.65, 0))"
   ]
  },
  {
   "cell_type": "code",
   "execution_count": 80,
   "id": "b3d8b56c",
   "metadata": {},
   "outputs": [],
   "source": [
    "X_train = tablon[:len_train]\n",
    "y_train = X_train.pop(\"output\")\n",
    "X_test = tablon[len_train:(len_train+len_test)]\n",
    "y_test = X_test.pop(\"output\")\n",
    "X_validation = tablon[(len_train+len_test):]\n",
    "y_validation = X_validation.pop(\"output\")"
   ]
  },
  {
   "cell_type": "code",
   "execution_count": 81,
   "id": "3fe938f9",
   "metadata": {},
   "outputs": [
    {
     "data": {
      "text/plain": [
       "((5665, 15), (2179, 15), (872, 15))"
      ]
     },
     "execution_count": 81,
     "metadata": {},
     "output_type": "execute_result"
    }
   ],
   "source": [
    "X_train.shape, X_test.shape, X_validation.shape"
   ]
  },
  {
   "cell_type": "code",
   "execution_count": 82,
   "id": "e4371695",
   "metadata": {},
   "outputs": [
    {
     "data": {
      "text/plain": [
       "1    3871\n",
       "0    1794\n",
       "Name: output, dtype: int64"
      ]
     },
     "execution_count": 82,
     "metadata": {},
     "output_type": "execute_result"
    }
   ],
   "source": [
    "y_train.value_counts()"
   ]
  },
  {
   "cell_type": "code",
   "execution_count": 83,
   "id": "f73ee8e1",
   "metadata": {},
   "outputs": [
    {
     "data": {
      "text/plain": [
       "1    1545\n",
       "0     634\n",
       "Name: output, dtype: int64"
      ]
     },
     "execution_count": 83,
     "metadata": {},
     "output_type": "execute_result"
    }
   ],
   "source": [
    "y_test.value_counts()"
   ]
  },
  {
   "cell_type": "code",
   "execution_count": 84,
   "id": "b178d2af",
   "metadata": {},
   "outputs": [
    {
     "data": {
      "text/plain": [
       "1    636\n",
       "0    236\n",
       "Name: output, dtype: int64"
      ]
     },
     "execution_count": 84,
     "metadata": {},
     "output_type": "execute_result"
    }
   ],
   "source": [
    "y_validation.value_counts()"
   ]
  },
  {
   "cell_type": "markdown",
   "id": "35058c53",
   "metadata": {},
   "source": [
    "## EXECUTING BEST MODEL"
   ]
  },
  {
   "cell_type": "code",
   "execution_count": 85,
   "id": "9353c5e4",
   "metadata": {},
   "outputs": [
    {
     "name": "stdout",
     "output_type": "stream",
     "text": [
      "[0]\tvalidation_0-auc:0.56749\tvalidation_0-logloss:0.69063\tvalidation_0-error:0.29096\n"
     ]
    },
    {
     "name": "stderr",
     "output_type": "stream",
     "text": [
      "/home/root/opt/python3.7.11/lib/python3.7/site-packages/xgboost/sklearn.py:1224: UserWarning: The use of label encoder in XGBClassifier is deprecated and will be removed in a future release. To remove this warning, do the following: 1) Pass option use_label_encoder=False when constructing XGBClassifier object; and 2) Encode your labels (y) as integers starting with 0, i.e. 0, 1, 2, ..., [num_class - 1].\n",
      "  warnings.warn(label_encoder_deprecation_msg, UserWarning)\n"
     ]
    },
    {
     "name": "stdout",
     "output_type": "stream",
     "text": [
      "[1]\tvalidation_0-auc:0.55492\tvalidation_0-logloss:0.68830\tvalidation_0-error:0.29096\n",
      "[2]\tvalidation_0-auc:0.56293\tvalidation_0-logloss:0.68591\tvalidation_0-error:0.29096\n",
      "[3]\tvalidation_0-auc:0.56369\tvalidation_0-logloss:0.68366\tvalidation_0-error:0.29096\n",
      "[4]\tvalidation_0-auc:0.56156\tvalidation_0-logloss:0.68147\tvalidation_0-error:0.29096\n",
      "[5]\tvalidation_0-auc:0.55943\tvalidation_0-logloss:0.67934\tvalidation_0-error:0.29096\n",
      "[6]\tvalidation_0-auc:0.56297\tvalidation_0-logloss:0.67727\tvalidation_0-error:0.29096\n",
      "[7]\tvalidation_0-auc:0.56345\tvalidation_0-logloss:0.67524\tvalidation_0-error:0.29096\n",
      "[8]\tvalidation_0-auc:0.56073\tvalidation_0-logloss:0.67333\tvalidation_0-error:0.29096\n",
      "[9]\tvalidation_0-auc:0.56307\tvalidation_0-logloss:0.67132\tvalidation_0-error:0.29096\n",
      "[10]\tvalidation_0-auc:0.56159\tvalidation_0-logloss:0.66948\tvalidation_0-error:0.29096\n",
      "[11]\tvalidation_0-auc:0.55970\tvalidation_0-logloss:0.66765\tvalidation_0-error:0.29096\n",
      "[12]\tvalidation_0-auc:0.55973\tvalidation_0-logloss:0.66584\tvalidation_0-error:0.29096\n",
      "[13]\tvalidation_0-auc:0.55890\tvalidation_0-logloss:0.66412\tvalidation_0-error:0.29096\n",
      "[14]\tvalidation_0-auc:0.55865\tvalidation_0-logloss:0.66247\tvalidation_0-error:0.29096\n",
      "[15]\tvalidation_0-auc:0.55651\tvalidation_0-logloss:0.66084\tvalidation_0-error:0.29096\n",
      "[16]\tvalidation_0-auc:0.55484\tvalidation_0-logloss:0.65926\tvalidation_0-error:0.29096\n",
      "[17]\tvalidation_0-auc:0.55531\tvalidation_0-logloss:0.65770\tvalidation_0-error:0.29096\n",
      "[18]\tvalidation_0-auc:0.55608\tvalidation_0-logloss:0.65620\tvalidation_0-error:0.29096\n",
      "[19]\tvalidation_0-auc:0.55541\tvalidation_0-logloss:0.65479\tvalidation_0-error:0.29096\n",
      "[20]\tvalidation_0-auc:0.55507\tvalidation_0-logloss:0.65339\tvalidation_0-error:0.29096\n",
      "[21]\tvalidation_0-auc:0.55586\tvalidation_0-logloss:0.65196\tvalidation_0-error:0.29096\n",
      "[22]\tvalidation_0-auc:0.55618\tvalidation_0-logloss:0.65059\tvalidation_0-error:0.29096\n",
      "[23]\tvalidation_0-auc:0.55523\tvalidation_0-logloss:0.64932\tvalidation_0-error:0.29096\n",
      "[24]\tvalidation_0-auc:0.55429\tvalidation_0-logloss:0.64803\tvalidation_0-error:0.29096\n",
      "[25]\tvalidation_0-auc:0.55525\tvalidation_0-logloss:0.64673\tvalidation_0-error:0.29096\n",
      "[26]\tvalidation_0-auc:0.55378\tvalidation_0-logloss:0.64555\tvalidation_0-error:0.29096\n",
      "[27]\tvalidation_0-auc:0.55407\tvalidation_0-logloss:0.64436\tvalidation_0-error:0.29096\n",
      "[28]\tvalidation_0-auc:0.55279\tvalidation_0-logloss:0.64325\tvalidation_0-error:0.29096\n",
      "[29]\tvalidation_0-auc:0.55281\tvalidation_0-logloss:0.64213\tvalidation_0-error:0.29096\n",
      "[30]\tvalidation_0-auc:0.55245\tvalidation_0-logloss:0.64108\tvalidation_0-error:0.29096\n",
      "[31]\tvalidation_0-auc:0.55282\tvalidation_0-logloss:0.64005\tvalidation_0-error:0.29096\n",
      "[32]\tvalidation_0-auc:0.55275\tvalidation_0-logloss:0.63903\tvalidation_0-error:0.29096\n",
      "[33]\tvalidation_0-auc:0.55300\tvalidation_0-logloss:0.63797\tvalidation_0-error:0.29096\n",
      "[34]\tvalidation_0-auc:0.55387\tvalidation_0-logloss:0.63696\tvalidation_0-error:0.29096\n",
      "[35]\tvalidation_0-auc:0.55349\tvalidation_0-logloss:0.63603\tvalidation_0-error:0.29096\n",
      "[36]\tvalidation_0-auc:0.55485\tvalidation_0-logloss:0.63500\tvalidation_0-error:0.29096\n",
      "[37]\tvalidation_0-auc:0.55561\tvalidation_0-logloss:0.63406\tvalidation_0-error:0.29096\n",
      "[38]\tvalidation_0-auc:0.55659\tvalidation_0-logloss:0.63312\tvalidation_0-error:0.29096\n",
      "[39]\tvalidation_0-auc:0.55714\tvalidation_0-logloss:0.63222\tvalidation_0-error:0.29096\n",
      "[40]\tvalidation_0-auc:0.55651\tvalidation_0-logloss:0.63141\tvalidation_0-error:0.29096\n",
      "[41]\tvalidation_0-auc:0.55648\tvalidation_0-logloss:0.63058\tvalidation_0-error:0.29096\n",
      "[42]\tvalidation_0-auc:0.55594\tvalidation_0-logloss:0.62982\tvalidation_0-error:0.29096\n",
      "[43]\tvalidation_0-auc:0.55605\tvalidation_0-logloss:0.62899\tvalidation_0-error:0.29096\n",
      "[44]\tvalidation_0-auc:0.55628\tvalidation_0-logloss:0.62820\tvalidation_0-error:0.29096\n",
      "[45]\tvalidation_0-auc:0.55611\tvalidation_0-logloss:0.62747\tvalidation_0-error:0.29096\n",
      "[46]\tvalidation_0-auc:0.55597\tvalidation_0-logloss:0.62674\tvalidation_0-error:0.29096\n",
      "[47]\tvalidation_0-auc:0.55580\tvalidation_0-logloss:0.62604\tvalidation_0-error:0.29096\n",
      "[48]\tvalidation_0-auc:0.55606\tvalidation_0-logloss:0.62535\tvalidation_0-error:0.29096\n",
      "[49]\tvalidation_0-auc:0.55693\tvalidation_0-logloss:0.62463\tvalidation_0-error:0.29096\n",
      "[50]\tvalidation_0-auc:0.55686\tvalidation_0-logloss:0.62399\tvalidation_0-error:0.29096\n",
      "[51]\tvalidation_0-auc:0.55624\tvalidation_0-logloss:0.62338\tvalidation_0-error:0.29096\n",
      "[52]\tvalidation_0-auc:0.55616\tvalidation_0-logloss:0.62274\tvalidation_0-error:0.29096\n",
      "[53]\tvalidation_0-auc:0.55492\tvalidation_0-logloss:0.62220\tvalidation_0-error:0.29096\n",
      "[54]\tvalidation_0-auc:0.55500\tvalidation_0-logloss:0.62158\tvalidation_0-error:0.29096\n",
      "[55]\tvalidation_0-auc:0.55509\tvalidation_0-logloss:0.62101\tvalidation_0-error:0.29096\n",
      "[56]\tvalidation_0-auc:0.55504\tvalidation_0-logloss:0.62043\tvalidation_0-error:0.29096\n",
      "[57]\tvalidation_0-auc:0.55488\tvalidation_0-logloss:0.61987\tvalidation_0-error:0.29096\n",
      "[58]\tvalidation_0-auc:0.55465\tvalidation_0-logloss:0.61936\tvalidation_0-error:0.29096\n",
      "[59]\tvalidation_0-auc:0.55475\tvalidation_0-logloss:0.61885\tvalidation_0-error:0.29096\n",
      "[60]\tvalidation_0-auc:0.55502\tvalidation_0-logloss:0.61831\tvalidation_0-error:0.29096\n",
      "[61]\tvalidation_0-auc:0.55488\tvalidation_0-logloss:0.61783\tvalidation_0-error:0.29096\n",
      "[62]\tvalidation_0-auc:0.55560\tvalidation_0-logloss:0.61726\tvalidation_0-error:0.29096\n",
      "[63]\tvalidation_0-auc:0.55583\tvalidation_0-logloss:0.61677\tvalidation_0-error:0.29096\n",
      "[64]\tvalidation_0-auc:0.55567\tvalidation_0-logloss:0.61632\tvalidation_0-error:0.29096\n",
      "[65]\tvalidation_0-auc:0.55572\tvalidation_0-logloss:0.61584\tvalidation_0-error:0.29096\n",
      "[66]\tvalidation_0-auc:0.55588\tvalidation_0-logloss:0.61538\tvalidation_0-error:0.29096\n",
      "[67]\tvalidation_0-auc:0.55588\tvalidation_0-logloss:0.61494\tvalidation_0-error:0.29096\n",
      "[68]\tvalidation_0-auc:0.55592\tvalidation_0-logloss:0.61448\tvalidation_0-error:0.29096\n",
      "[69]\tvalidation_0-auc:0.55629\tvalidation_0-logloss:0.61404\tvalidation_0-error:0.29096\n",
      "[70]\tvalidation_0-auc:0.55614\tvalidation_0-logloss:0.61364\tvalidation_0-error:0.29096\n",
      "[71]\tvalidation_0-auc:0.55632\tvalidation_0-logloss:0.61322\tvalidation_0-error:0.29096\n",
      "[72]\tvalidation_0-auc:0.55621\tvalidation_0-logloss:0.61284\tvalidation_0-error:0.29096\n",
      "[73]\tvalidation_0-auc:0.55646\tvalidation_0-logloss:0.61243\tvalidation_0-error:0.29096\n",
      "[74]\tvalidation_0-auc:0.55649\tvalidation_0-logloss:0.61206\tvalidation_0-error:0.29096\n",
      "[75]\tvalidation_0-auc:0.55623\tvalidation_0-logloss:0.61171\tvalidation_0-error:0.29096\n",
      "[76]\tvalidation_0-auc:0.55622\tvalidation_0-logloss:0.61137\tvalidation_0-error:0.29096\n",
      "[77]\tvalidation_0-auc:0.55636\tvalidation_0-logloss:0.61100\tvalidation_0-error:0.29096\n",
      "[78]\tvalidation_0-auc:0.55607\tvalidation_0-logloss:0.61069\tvalidation_0-error:0.29096\n",
      "[79]\tvalidation_0-auc:0.55671\tvalidation_0-logloss:0.61033\tvalidation_0-error:0.29096\n",
      "[80]\tvalidation_0-auc:0.55666\tvalidation_0-logloss:0.61001\tvalidation_0-error:0.29096\n",
      "[81]\tvalidation_0-auc:0.55638\tvalidation_0-logloss:0.60971\tvalidation_0-error:0.29096\n",
      "[82]\tvalidation_0-auc:0.55617\tvalidation_0-logloss:0.60942\tvalidation_0-error:0.29096\n",
      "[83]\tvalidation_0-auc:0.55611\tvalidation_0-logloss:0.60916\tvalidation_0-error:0.29096\n",
      "[84]\tvalidation_0-auc:0.55570\tvalidation_0-logloss:0.60890\tvalidation_0-error:0.29096\n",
      "[85]\tvalidation_0-auc:0.55554\tvalidation_0-logloss:0.60865\tvalidation_0-error:0.29096\n",
      "[86]\tvalidation_0-auc:0.55614\tvalidation_0-logloss:0.60834\tvalidation_0-error:0.29096\n",
      "[87]\tvalidation_0-auc:0.55599\tvalidation_0-logloss:0.60806\tvalidation_0-error:0.29096\n",
      "[88]\tvalidation_0-auc:0.55547\tvalidation_0-logloss:0.60784\tvalidation_0-error:0.29096\n",
      "[89]\tvalidation_0-auc:0.55510\tvalidation_0-logloss:0.60762\tvalidation_0-error:0.29096\n",
      "[90]\tvalidation_0-auc:0.55534\tvalidation_0-logloss:0.60734\tvalidation_0-error:0.29096\n",
      "[91]\tvalidation_0-auc:0.55544\tvalidation_0-logloss:0.60708\tvalidation_0-error:0.29096\n",
      "[92]\tvalidation_0-auc:0.55556\tvalidation_0-logloss:0.60683\tvalidation_0-error:0.29096\n",
      "[93]\tvalidation_0-auc:0.55527\tvalidation_0-logloss:0.60660\tvalidation_0-error:0.29096\n",
      "[94]\tvalidation_0-auc:0.55496\tvalidation_0-logloss:0.60641\tvalidation_0-error:0.29096\n",
      "[95]\tvalidation_0-auc:0.55494\tvalidation_0-logloss:0.60617\tvalidation_0-error:0.29096\n",
      "[96]\tvalidation_0-auc:0.55472\tvalidation_0-logloss:0.60595\tvalidation_0-error:0.29096\n"
     ]
    },
    {
     "name": "stdout",
     "output_type": "stream",
     "text": [
      "[97]\tvalidation_0-auc:0.55473\tvalidation_0-logloss:0.60573\tvalidation_0-error:0.29096\n",
      "[98]\tvalidation_0-auc:0.55494\tvalidation_0-logloss:0.60552\tvalidation_0-error:0.29096\n",
      "[99]\tvalidation_0-auc:0.55467\tvalidation_0-logloss:0.60535\tvalidation_0-error:0.29096\n",
      "[100]\tvalidation_0-auc:0.55495\tvalidation_0-logloss:0.60515\tvalidation_0-error:0.29096\n",
      "[101]\tvalidation_0-auc:0.55510\tvalidation_0-logloss:0.60494\tvalidation_0-error:0.29096\n",
      "[102]\tvalidation_0-auc:0.55519\tvalidation_0-logloss:0.60476\tvalidation_0-error:0.29096\n",
      "[103]\tvalidation_0-auc:0.55565\tvalidation_0-logloss:0.60452\tvalidation_0-error:0.29096\n",
      "[104]\tvalidation_0-auc:0.55583\tvalidation_0-logloss:0.60434\tvalidation_0-error:0.29096\n",
      "[105]\tvalidation_0-auc:0.55578\tvalidation_0-logloss:0.60417\tvalidation_0-error:0.29096\n",
      "[106]\tvalidation_0-auc:0.55544\tvalidation_0-logloss:0.60403\tvalidation_0-error:0.29096\n",
      "[107]\tvalidation_0-auc:0.55515\tvalidation_0-logloss:0.60389\tvalidation_0-error:0.29096\n",
      "[108]\tvalidation_0-auc:0.55490\tvalidation_0-logloss:0.60378\tvalidation_0-error:0.29096\n",
      "[109]\tvalidation_0-auc:0.55474\tvalidation_0-logloss:0.60364\tvalidation_0-error:0.29096\n",
      "[110]\tvalidation_0-auc:0.55500\tvalidation_0-logloss:0.60346\tvalidation_0-error:0.29096\n",
      "[111]\tvalidation_0-auc:0.55475\tvalidation_0-logloss:0.60334\tvalidation_0-error:0.29096\n",
      "[112]\tvalidation_0-auc:0.55457\tvalidation_0-logloss:0.60322\tvalidation_0-error:0.29096\n",
      "[113]\tvalidation_0-auc:0.55441\tvalidation_0-logloss:0.60310\tvalidation_0-error:0.29096\n",
      "[114]\tvalidation_0-auc:0.55431\tvalidation_0-logloss:0.60300\tvalidation_0-error:0.29096\n",
      "[115]\tvalidation_0-auc:0.55402\tvalidation_0-logloss:0.60289\tvalidation_0-error:0.29096\n",
      "[116]\tvalidation_0-auc:0.55406\tvalidation_0-logloss:0.60275\tvalidation_0-error:0.29096\n",
      "[117]\tvalidation_0-auc:0.55410\tvalidation_0-logloss:0.60261\tvalidation_0-error:0.29096\n",
      "[118]\tvalidation_0-auc:0.55385\tvalidation_0-logloss:0.60251\tvalidation_0-error:0.29096\n",
      "[119]\tvalidation_0-auc:0.55419\tvalidation_0-logloss:0.60234\tvalidation_0-error:0.29096\n",
      "[120]\tvalidation_0-auc:0.55371\tvalidation_0-logloss:0.60226\tvalidation_0-error:0.29096\n",
      "[121]\tvalidation_0-auc:0.55353\tvalidation_0-logloss:0.60216\tvalidation_0-error:0.29096\n",
      "[122]\tvalidation_0-auc:0.55303\tvalidation_0-logloss:0.60211\tvalidation_0-error:0.29096\n",
      "[123]\tvalidation_0-auc:0.55324\tvalidation_0-logloss:0.60196\tvalidation_0-error:0.29096\n",
      "[124]\tvalidation_0-auc:0.55346\tvalidation_0-logloss:0.60185\tvalidation_0-error:0.29096\n",
      "[125]\tvalidation_0-auc:0.55382\tvalidation_0-logloss:0.60172\tvalidation_0-error:0.29096\n",
      "[126]\tvalidation_0-auc:0.55370\tvalidation_0-logloss:0.60164\tvalidation_0-error:0.29096\n",
      "[127]\tvalidation_0-auc:0.55343\tvalidation_0-logloss:0.60157\tvalidation_0-error:0.29096\n",
      "[128]\tvalidation_0-auc:0.55343\tvalidation_0-logloss:0.60148\tvalidation_0-error:0.29096\n",
      "[129]\tvalidation_0-auc:0.55318\tvalidation_0-logloss:0.60143\tvalidation_0-error:0.29096\n"
     ]
    },
    {
     "data": {
      "text/plain": [
       "XGBClassifier(base_score=0.5, booster='gbtree', colsample_bylevel=1,\n",
       "              colsample_bynode=1, colsample_bytree=0.65,\n",
       "              enable_categorical=False, eta=0.015,\n",
       "              eval_metric=['auc', 'logloss', 'error'], gamma=1.25, gpu_id=-1,\n",
       "              importance_type=None, interaction_constraints='',\n",
       "              learning_rate=0.0149999997, max_delta_step=0, max_depth=6,\n",
       "              min_child_weight=30, missing=nan, monotone_constraints='()',\n",
       "              n_estimators=130, n_jobs=12, num_parallel_tree=1,\n",
       "              predictor='auto', random_state=123, reg_alpha=0, reg_lambda=1,\n",
       "              scale_pos_weight=1, subsample=1, tree_method='exact',\n",
       "              validate_parameters=1, verbosity=None)"
      ]
     },
     "execution_count": 85,
     "metadata": {},
     "output_type": "execute_result"
    }
   ],
   "source": [
    "model = xgb.XGBClassifier(objective='binary:logistic', n_estimators=130, max_depth=6, gamma=1.25, eta=0.015,\n",
    "                          min_child_weight=30, colsample_bytree=0.65, \n",
    "                          random_state=123, eval_metric=[\"auc\", \"logloss\", \"error\"])\n",
    "model.fit(X_train, y_train, eval_set=[(X_test, y_test)])"
   ]
  },
  {
   "cell_type": "code",
   "execution_count": 86,
   "id": "fd60cb85",
   "metadata": {},
   "outputs": [
    {
     "data": {
      "text/plain": [
       "<AxesSubplot:>"
      ]
     },
     "execution_count": 86,
     "metadata": {},
     "output_type": "execute_result"
    },
    {
     "data": {
      "image/png": "[encoded data removed]",
      "text/plain": [
       "<Figure size 432x288 with 1 Axes>"
      ]
     },
     "metadata": {
      "needs_background": "light"
     },
     "output_type": "display_data"
    }
   ],
   "source": [
    "fu_dict = dict(zip(X_train.columns, model.feature_importances_))\n",
    "fi = pd.DataFrame(fu_dict.values(), index=fu_dict.keys(), columns=[\"importance\"])\n",
    "fi = fi.sort_values(by=\"importance\", ascending=False)\n",
    "\n",
    "fi.plot.bar()"
   ]
  },
  {
   "cell_type": "code",
   "execution_count": 87,
   "id": "ff8a7a70",
   "metadata": {},
   "outputs": [
    {
     "data": {
      "text/plain": [
       "array([[   0,  634],\n",
       "       [   0, 1545]])"
      ]
     },
     "execution_count": 87,
     "metadata": {},
     "output_type": "execute_result"
    }
   ],
   "source": [
    "y_pred1 = model.predict(X_test)\n",
    "cm = confusion_matrix(y_test, y_pred1)\n",
    "cm"
   ]
  },
  {
   "cell_type": "code",
   "execution_count": 124,
   "id": "55f7e0eb",
   "metadata": {},
   "outputs": [],
   "source": [
    "y_pred_proba = model.predict_proba(X_test)[:,1]\n",
    "predict_mine = np.where(y_pred_proba > 0.68, 1, 0)\n",
    "cm1 = confusion_matrix(y_test, predict_mine)"
   ]
  },
  {
   "cell_type": "code",
   "execution_count": 125,
   "id": "38f19818",
   "metadata": {},
   "outputs": [
    {
     "data": {
      "text/plain": [
       "array([[ 502,  132],\n",
       "       [1108,  437]])"
      ]
     },
     "execution_count": 125,
     "metadata": {},
     "output_type": "execute_result"
    }
   ],
   "source": [
    "cm1"
   ]
  },
  {
   "cell_type": "code",
   "execution_count": 126,
   "id": "2a080435",
   "metadata": {},
   "outputs": [
    {
     "data": {
      "text/plain": [
       "0.7090408444240477"
      ]
     },
     "execution_count": 126,
     "metadata": {},
     "output_type": "execute_result"
    }
   ],
   "source": [
    "metrics.accuracy_score(y_test, y_pred1)"
   ]
  },
  {
   "cell_type": "code",
   "execution_count": 127,
   "id": "2a85372f",
   "metadata": {},
   "outputs": [
    {
     "name": "stderr",
     "output_type": "stream",
     "text": [
      "/home/root/opt/python3.7.11/lib/python3.7/site-packages/ipykernel_launcher.py:1: RuntimeWarning: invalid value encountered in long_scalars\n",
      "  \"\"\"Entry point for launching an IPython kernel.\n"
     ]
    },
    {
     "data": {
      "text/plain": [
       "(0.7680140597539543, nan)"
      ]
     },
     "execution_count": 127,
     "metadata": {},
     "output_type": "execute_result"
    }
   ],
   "source": [
    "cm1[1][1]/(cm1[1][1]+cm1[0][1]), cm[0][0]/(cm[1][0]+cm[0][0])"
   ]
  },
  {
   "cell_type": "code",
   "execution_count": 128,
   "id": "7e46167a",
   "metadata": {},
   "outputs": [
    {
     "data": {
      "text/plain": [
       "(26.112895823772377, 0.0)"
      ]
     },
     "execution_count": 128,
     "metadata": {},
     "output_type": "execute_result"
    }
   ],
   "source": [
    "(cm1[1][1]+cm1[0][1])/len(y_test)*100, (cm[0][0]+cm[1][0])/len(y_test)*100"
   ]
  },
  {
   "cell_type": "markdown",
   "id": "bd2cf07a",
   "metadata": {},
   "source": [
    "# VALIDATION - BEST MODEL --> 70% accuracy in 17% of matches"
   ]
  },
  {
   "cell_type": "code",
   "execution_count": 129,
   "id": "31566b6c",
   "metadata": {},
   "outputs": [
    {
     "data": {
      "text/plain": [
       "array([[  0, 236],\n",
       "       [  0, 636]])"
      ]
     },
     "execution_count": 129,
     "metadata": {},
     "output_type": "execute_result"
    }
   ],
   "source": [
    "y_pred = model.predict(X_validation)\n",
    "cm = confusion_matrix(y_validation, y_pred)\n",
    "cm"
   ]
  },
  {
   "cell_type": "code",
   "execution_count": 130,
   "id": "960fa297",
   "metadata": {},
   "outputs": [
    {
     "data": {
      "text/plain": [
       "0.7293577981651376"
      ]
     },
     "execution_count": 130,
     "metadata": {},
     "output_type": "execute_result"
    }
   ],
   "source": [
    "metrics.accuracy_score(y_validation, y_pred)"
   ]
  },
  {
   "cell_type": "code",
   "execution_count": 131,
   "id": "e849fc15",
   "metadata": {},
   "outputs": [],
   "source": [
    "y_pred_proba = model.predict_proba(X_validation)[:,1]\n",
    "predict_mine = np.where(y_pred_proba > 0.68, 1, 0)\n",
    "cm1 = confusion_matrix(y_validation, predict_mine)"
   ]
  },
  {
   "cell_type": "code",
   "execution_count": 132,
   "id": "8792d422",
   "metadata": {},
   "outputs": [
    {
     "name": "stderr",
     "output_type": "stream",
     "text": [
      "/home/root/opt/python3.7.11/lib/python3.7/site-packages/ipykernel_launcher.py:1: RuntimeWarning: invalid value encountered in long_scalars\n",
      "  \"\"\"Entry point for launching an IPython kernel.\n"
     ]
    },
    {
     "data": {
      "text/plain": [
       "(0.7947761194029851, nan)"
      ]
     },
     "execution_count": 132,
     "metadata": {},
     "output_type": "execute_result"
    }
   ],
   "source": [
    "cm1[1][1]/(cm1[1][1]+cm1[0][1]), cm[0][0]/(cm[1][0]+cm[0][0])"
   ]
  },
  {
   "cell_type": "code",
   "execution_count": 133,
   "id": "e19d4fb4",
   "metadata": {},
   "outputs": [
    {
     "data": {
      "text/plain": [
       "(30.73394495412844, 0.0)"
      ]
     },
     "execution_count": 133,
     "metadata": {},
     "output_type": "execute_result"
    }
   ],
   "source": [
    "(cm1[1][1]+cm1[0][1])/len(y_validation)*100, (cm[0][0]+cm[1][0])/len(y_validation)*100"
   ]
  },
  {
   "cell_type": "code",
   "execution_count": 134,
   "id": "dbd587ba",
   "metadata": {},
   "outputs": [
    {
     "data": {
      "text/plain": [
       "array([[181,  55],\n",
       "       [423, 213]])"
      ]
     },
     "execution_count": 134,
     "metadata": {},
     "output_type": "execute_result"
    }
   ],
   "source": [
    "cm1"
   ]
  },
  {
   "cell_type": "code",
   "execution_count": null,
   "id": "ed65eb0a",
   "metadata": {},
   "outputs": [],
   "source": []
  },
  {
   "cell_type": "markdown",
   "id": "ad7f885b",
   "metadata": {},
   "source": [
    "## FINAL VALIDATION - NOVEMBER 2021"
   ]
  },
  {
   "cell_type": "code",
   "execution_count": 135,
   "id": "1a51fe2b",
   "metadata": {},
   "outputs": [
    {
     "ename": "KeyError",
     "evalue": "'output'",
     "output_type": "error",
     "traceback": [
      "\u001b[0;31m---------------------------------------------------------------------------\u001b[0m",
      "\u001b[0;31mKeyError\u001b[0m                                  Traceback (most recent call last)",
      "\u001b[0;32m/home/root/opt/python3.7.11/lib/python3.7/site-packages/pandas/core/indexes/base.py\u001b[0m in \u001b[0;36mget_loc\u001b[0;34m(self, key, method, tolerance)\u001b[0m\n\u001b[1;32m   2897\u001b[0m             \u001b[0;32mtry\u001b[0m\u001b[0;34m:\u001b[0m\u001b[0;34m\u001b[0m\u001b[0;34m\u001b[0m\u001b[0m\n\u001b[0;32m-> 2898\u001b[0;31m                 \u001b[0;32mreturn\u001b[0m \u001b[0mself\u001b[0m\u001b[0;34m.\u001b[0m\u001b[0m_engine\u001b[0m\u001b[0;34m.\u001b[0m\u001b[0mget_loc\u001b[0m\u001b[0;34m(\u001b[0m\u001b[0mcasted_key\u001b[0m\u001b[0;34m)\u001b[0m\u001b[0;34m\u001b[0m\u001b[0;34m\u001b[0m\u001b[0m\n\u001b[0m\u001b[1;32m   2899\u001b[0m             \u001b[0;32mexcept\u001b[0m \u001b[0mKeyError\u001b[0m \u001b[0;32mas\u001b[0m \u001b[0merr\u001b[0m\u001b[0;34m:\u001b[0m\u001b[0;34m\u001b[0m\u001b[0;34m\u001b[0m\u001b[0m\n",
      "\u001b[0;32mpandas/_libs/index.pyx\u001b[0m in \u001b[0;36mpandas._libs.index.IndexEngine.get_loc\u001b[0;34m()\u001b[0m\n",
      "\u001b[0;32mpandas/_libs/index.pyx\u001b[0m in \u001b[0;36mpandas._libs.index.IndexEngine.get_loc\u001b[0;34m()\u001b[0m\n",
      "\u001b[0;32mpandas/_libs/hashtable_class_helper.pxi\u001b[0m in \u001b[0;36mpandas._libs.hashtable.PyObjectHashTable.get_item\u001b[0;34m()\u001b[0m\n",
      "\u001b[0;32mpandas/_libs/hashtable_class_helper.pxi\u001b[0m in \u001b[0;36mpandas._libs.hashtable.PyObjectHashTable.get_item\u001b[0;34m()\u001b[0m\n",
      "\u001b[0;31mKeyError\u001b[0m: 'output'",
      "\nThe above exception was the direct cause of the following exception:\n",
      "\u001b[0;31mKeyError\u001b[0m                                  Traceback (most recent call last)",
      "\u001b[0;32m/tmp/ipykernel_27268/203643418.py\u001b[0m in \u001b[0;36m<module>\u001b[0;34m\u001b[0m\n\u001b[0;32m----> 1\u001b[0;31m \u001b[0my_validation_november\u001b[0m \u001b[0;34m=\u001b[0m \u001b[0mX_validation_november\u001b[0m\u001b[0;34m.\u001b[0m\u001b[0mpop\u001b[0m\u001b[0;34m(\u001b[0m\u001b[0;34m\"output\"\u001b[0m\u001b[0;34m)\u001b[0m\u001b[0;34m\u001b[0m\u001b[0;34m\u001b[0m\u001b[0m\n\u001b[0m",
      "\u001b[0;32m/home/root/opt/python3.7.11/lib/python3.7/site-packages/pandas/core/frame.py\u001b[0m in \u001b[0;36mpop\u001b[0;34m(self, item)\u001b[0m\n\u001b[1;32m   4369\u001b[0m         \u001b[0;36m3\u001b[0m  \u001b[0mmonkey\u001b[0m        \u001b[0mNaN\u001b[0m\u001b[0;34m\u001b[0m\u001b[0;34m\u001b[0m\u001b[0m\n\u001b[1;32m   4370\u001b[0m         \"\"\"\n\u001b[0;32m-> 4371\u001b[0;31m         \u001b[0;32mreturn\u001b[0m \u001b[0msuper\u001b[0m\u001b[0;34m(\u001b[0m\u001b[0;34m)\u001b[0m\u001b[0;34m.\u001b[0m\u001b[0mpop\u001b[0m\u001b[0;34m(\u001b[0m\u001b[0mitem\u001b[0m\u001b[0;34m=\u001b[0m\u001b[0mitem\u001b[0m\u001b[0;34m)\u001b[0m\u001b[0;34m\u001b[0m\u001b[0;34m\u001b[0m\u001b[0m\n\u001b[0m\u001b[1;32m   4372\u001b[0m \u001b[0;34m\u001b[0m\u001b[0m\n\u001b[1;32m   4373\u001b[0m     \u001b[0;34m@\u001b[0m\u001b[0mdoc\u001b[0m\u001b[0;34m(\u001b[0m\u001b[0mNDFrame\u001b[0m\u001b[0;34m.\u001b[0m\u001b[0mreplace\u001b[0m\u001b[0;34m,\u001b[0m \u001b[0;34m**\u001b[0m\u001b[0m_shared_doc_kwargs\u001b[0m\u001b[0;34m)\u001b[0m\u001b[0;34m\u001b[0m\u001b[0;34m\u001b[0m\u001b[0m\n",
      "\u001b[0;32m/home/root/opt/python3.7.11/lib/python3.7/site-packages/pandas/core/generic.py\u001b[0m in \u001b[0;36mpop\u001b[0;34m(self, item)\u001b[0m\n\u001b[1;32m    659\u001b[0m \u001b[0;34m\u001b[0m\u001b[0m\n\u001b[1;32m    660\u001b[0m     \u001b[0;32mdef\u001b[0m \u001b[0mpop\u001b[0m\u001b[0;34m(\u001b[0m\u001b[0mself\u001b[0m\u001b[0;34m,\u001b[0m \u001b[0mitem\u001b[0m\u001b[0;34m:\u001b[0m \u001b[0mLabel\u001b[0m\u001b[0;34m)\u001b[0m \u001b[0;34m->\u001b[0m \u001b[0mUnion\u001b[0m\u001b[0;34m[\u001b[0m\u001b[0;34m\"Series\"\u001b[0m\u001b[0;34m,\u001b[0m \u001b[0mAny\u001b[0m\u001b[0;34m]\u001b[0m\u001b[0;34m:\u001b[0m\u001b[0;34m\u001b[0m\u001b[0;34m\u001b[0m\u001b[0m\n\u001b[0;32m--> 661\u001b[0;31m         \u001b[0mresult\u001b[0m \u001b[0;34m=\u001b[0m \u001b[0mself\u001b[0m\u001b[0;34m[\u001b[0m\u001b[0mitem\u001b[0m\u001b[0;34m]\u001b[0m\u001b[0;34m\u001b[0m\u001b[0;34m\u001b[0m\u001b[0m\n\u001b[0m\u001b[1;32m    662\u001b[0m         \u001b[0;32mdel\u001b[0m \u001b[0mself\u001b[0m\u001b[0;34m[\u001b[0m\u001b[0mitem\u001b[0m\u001b[0;34m]\u001b[0m\u001b[0;34m\u001b[0m\u001b[0;34m\u001b[0m\u001b[0m\n\u001b[1;32m    663\u001b[0m         \u001b[0;32mif\u001b[0m \u001b[0mself\u001b[0m\u001b[0;34m.\u001b[0m\u001b[0mndim\u001b[0m \u001b[0;34m==\u001b[0m \u001b[0;36m2\u001b[0m\u001b[0;34m:\u001b[0m\u001b[0;34m\u001b[0m\u001b[0;34m\u001b[0m\u001b[0m\n",
      "\u001b[0;32m/home/root/opt/python3.7.11/lib/python3.7/site-packages/pandas/core/frame.py\u001b[0m in \u001b[0;36m__getitem__\u001b[0;34m(self, key)\u001b[0m\n\u001b[1;32m   2904\u001b[0m             \u001b[0;32mif\u001b[0m \u001b[0mself\u001b[0m\u001b[0;34m.\u001b[0m\u001b[0mcolumns\u001b[0m\u001b[0;34m.\u001b[0m\u001b[0mnlevels\u001b[0m \u001b[0;34m>\u001b[0m \u001b[0;36m1\u001b[0m\u001b[0;34m:\u001b[0m\u001b[0;34m\u001b[0m\u001b[0;34m\u001b[0m\u001b[0m\n\u001b[1;32m   2905\u001b[0m                 \u001b[0;32mreturn\u001b[0m \u001b[0mself\u001b[0m\u001b[0;34m.\u001b[0m\u001b[0m_getitem_multilevel\u001b[0m\u001b[0;34m(\u001b[0m\u001b[0mkey\u001b[0m\u001b[0;34m)\u001b[0m\u001b[0;34m\u001b[0m\u001b[0;34m\u001b[0m\u001b[0m\n\u001b[0;32m-> 2906\u001b[0;31m             \u001b[0mindexer\u001b[0m \u001b[0;34m=\u001b[0m \u001b[0mself\u001b[0m\u001b[0;34m.\u001b[0m\u001b[0mcolumns\u001b[0m\u001b[0;34m.\u001b[0m\u001b[0mget_loc\u001b[0m\u001b[0;34m(\u001b[0m\u001b[0mkey\u001b[0m\u001b[0;34m)\u001b[0m\u001b[0;34m\u001b[0m\u001b[0;34m\u001b[0m\u001b[0m\n\u001b[0m\u001b[1;32m   2907\u001b[0m             \u001b[0;32mif\u001b[0m \u001b[0mis_integer\u001b[0m\u001b[0;34m(\u001b[0m\u001b[0mindexer\u001b[0m\u001b[0;34m)\u001b[0m\u001b[0;34m:\u001b[0m\u001b[0;34m\u001b[0m\u001b[0;34m\u001b[0m\u001b[0m\n\u001b[1;32m   2908\u001b[0m                 \u001b[0mindexer\u001b[0m \u001b[0;34m=\u001b[0m \u001b[0;34m[\u001b[0m\u001b[0mindexer\u001b[0m\u001b[0;34m]\u001b[0m\u001b[0;34m\u001b[0m\u001b[0;34m\u001b[0m\u001b[0m\n",
      "\u001b[0;32m/home/root/opt/python3.7.11/lib/python3.7/site-packages/pandas/core/indexes/base.py\u001b[0m in \u001b[0;36mget_loc\u001b[0;34m(self, key, method, tolerance)\u001b[0m\n\u001b[1;32m   2898\u001b[0m                 \u001b[0;32mreturn\u001b[0m \u001b[0mself\u001b[0m\u001b[0;34m.\u001b[0m\u001b[0m_engine\u001b[0m\u001b[0;34m.\u001b[0m\u001b[0mget_loc\u001b[0m\u001b[0;34m(\u001b[0m\u001b[0mcasted_key\u001b[0m\u001b[0;34m)\u001b[0m\u001b[0;34m\u001b[0m\u001b[0;34m\u001b[0m\u001b[0m\n\u001b[1;32m   2899\u001b[0m             \u001b[0;32mexcept\u001b[0m \u001b[0mKeyError\u001b[0m \u001b[0;32mas\u001b[0m \u001b[0merr\u001b[0m\u001b[0;34m:\u001b[0m\u001b[0;34m\u001b[0m\u001b[0;34m\u001b[0m\u001b[0m\n\u001b[0;32m-> 2900\u001b[0;31m                 \u001b[0;32mraise\u001b[0m \u001b[0mKeyError\u001b[0m\u001b[0;34m(\u001b[0m\u001b[0mkey\u001b[0m\u001b[0;34m)\u001b[0m \u001b[0;32mfrom\u001b[0m \u001b[0merr\u001b[0m\u001b[0;34m\u001b[0m\u001b[0;34m\u001b[0m\u001b[0m\n\u001b[0m\u001b[1;32m   2901\u001b[0m \u001b[0;34m\u001b[0m\u001b[0m\n\u001b[1;32m   2902\u001b[0m         \u001b[0;32mif\u001b[0m \u001b[0mtolerance\u001b[0m \u001b[0;32mis\u001b[0m \u001b[0;32mnot\u001b[0m \u001b[0;32mNone\u001b[0m\u001b[0;34m:\u001b[0m\u001b[0;34m\u001b[0m\u001b[0;34m\u001b[0m\u001b[0m\n",
      "\u001b[0;31mKeyError\u001b[0m: 'output'"
     ]
    }
   ],
   "source": [
    "y_validation_november = X_validation_november.pop(\"output\")"
   ]
  },
  {
   "cell_type": "code",
   "execution_count": 136,
   "id": "2ff81e36",
   "metadata": {},
   "outputs": [
    {
     "data": {
      "text/plain": [
       "array([[ 0, 25],\n",
       "       [ 0, 62]])"
      ]
     },
     "execution_count": 136,
     "metadata": {},
     "output_type": "execute_result"
    }
   ],
   "source": [
    "y_pred = model.predict(X_validation_november)\n",
    "cm = confusion_matrix(y_validation_november, y_pred)\n",
    "cm"
   ]
  },
  {
   "cell_type": "code",
   "execution_count": 137,
   "id": "6d5e72bf",
   "metadata": {},
   "outputs": [
    {
     "data": {
      "text/plain": [
       "0.7126436781609196"
      ]
     },
     "execution_count": 137,
     "metadata": {},
     "output_type": "execute_result"
    }
   ],
   "source": [
    "metrics.accuracy_score(y_validation_november, y_pred)"
   ]
  },
  {
   "cell_type": "code",
   "execution_count": 138,
   "id": "2bd44841",
   "metadata": {},
   "outputs": [],
   "source": [
    "y_pred_proba = model.predict_proba(X_validation_november)[:,1]\n",
    "predict_mine = np.where(y_pred_proba > 0.68, 1, 0)\n",
    "cm1 = confusion_matrix(y_validation_november, predict_mine)"
   ]
  },
  {
   "cell_type": "code",
   "execution_count": 139,
   "id": "b0f47d24",
   "metadata": {},
   "outputs": [
    {
     "data": {
      "text/plain": [
       "array([[17,  8],\n",
       "       [47, 15]])"
      ]
     },
     "execution_count": 139,
     "metadata": {},
     "output_type": "execute_result"
    }
   ],
   "source": [
    "cm1"
   ]
  },
  {
   "cell_type": "code",
   "execution_count": 140,
   "id": "8c44788e",
   "metadata": {},
   "outputs": [
    {
     "name": "stderr",
     "output_type": "stream",
     "text": [
      "/home/root/opt/python3.7.11/lib/python3.7/site-packages/ipykernel_launcher.py:1: RuntimeWarning: invalid value encountered in long_scalars\n",
      "  \"\"\"Entry point for launching an IPython kernel.\n"
     ]
    },
    {
     "data": {
      "text/plain": [
       "(0.6521739130434783, nan)"
      ]
     },
     "execution_count": 140,
     "metadata": {},
     "output_type": "execute_result"
    }
   ],
   "source": [
    "cm1[1][1]/(cm1[1][1]+cm1[0][1]), cm[0][0]/(cm[1][0]+cm[0][0])"
   ]
  },
  {
   "cell_type": "code",
   "execution_count": 141,
   "id": "9f8859f0",
   "metadata": {},
   "outputs": [
    {
     "data": {
      "text/plain": [
       "(26.436781609195403, 0.0)"
      ]
     },
     "execution_count": 141,
     "metadata": {},
     "output_type": "execute_result"
    }
   ],
   "source": [
    "(cm1[1][1]+cm1[0][1])/len(y_validation_november)*100, (cm[0][0]+cm[1][0])/len(y_validation_november)*100"
   ]
  },
  {
   "cell_type": "code",
   "execution_count": 142,
   "id": "433abf23",
   "metadata": {},
   "outputs": [],
   "source": [
    "#umbral --> 0.68; Condition --> TOTAL_CORNERS > 3\n",
    "import pickle\n",
    "file_name = \"model_under5_58.pkl\"\n",
    "\n",
    "# save\n",
    "pickle.dump(model, open(file_name, \"wb\"))\n",
    "\n",
    "# load\n",
    "#xgb_model_loaded = pickle.load(open(file_name, \"rb\"))\n"
   ]
  },
  {
   "cell_type": "code",
   "execution_count": null,
   "id": "74594fdf",
   "metadata": {},
   "outputs": [],
   "source": []
  },
  {
   "cell_type": "markdown",
   "id": "fd483e1a",
   "metadata": {},
   "source": [
    "# OUTPUT"
   ]
  },
  {
   "cell_type": "code",
   "execution_count": 130,
   "id": "e438cbca",
   "metadata": {},
   "outputs": [],
   "source": [
    "output = data[(data.YEARMONTH>=202111 )& (data.TOTAL_CORNERS>3)][[\"ID\", \"output\", \"CORNERS_H\", \"CORNERS_A\", \"TOTAL_CORNERS\"]].reset_index(drop=True)"
   ]
  },
  {
   "cell_type": "code",
   "execution_count": 131,
   "id": "a9ace64f",
   "metadata": {},
   "outputs": [],
   "source": [
    "output[\"PROB_CORNERS\"] = pd.DataFrame(model.predict_proba(X_validation_november)[:,1]).iloc[:, 0]\\\n",
    "    .apply(lambda x: 1 if x>0.6 else 0)"
   ]
  },
  {
   "cell_type": "code",
   "execution_count": 132,
   "id": "a8486cc5",
   "metadata": {},
   "outputs": [
    {
     "data": {
      "text/html": [
       "<div>\n",
       "<style scoped>\n",
       "    .dataframe tbody tr th:only-of-type {\n",
       "        vertical-align: middle;\n",
       "    }\n",
       "\n",
       "    .dataframe tbody tr th {\n",
       "        vertical-align: top;\n",
       "    }\n",
       "\n",
       "    .dataframe thead th {\n",
       "        text-align: right;\n",
       "    }\n",
       "</style>\n",
       "<table border=\"1\" class=\"dataframe\">\n",
       "  <thead>\n",
       "    <tr style=\"text-align: right;\">\n",
       "      <th></th>\n",
       "      <th>ID</th>\n",
       "      <th>output</th>\n",
       "      <th>CORNERS_H</th>\n",
       "      <th>CORNERS_A</th>\n",
       "      <th>TOTAL_CORNERS</th>\n",
       "      <th>PROB_CORNERS</th>\n",
       "    </tr>\n",
       "  </thead>\n",
       "  <tbody>\n",
       "    <tr>\n",
       "      <th>0</th>\n",
       "      <td>E30fSmrc</td>\n",
       "      <td>1</td>\n",
       "      <td>5</td>\n",
       "      <td>0</td>\n",
       "      <td>5</td>\n",
       "      <td>1</td>\n",
       "    </tr>\n",
       "    <tr>\n",
       "      <th>1</th>\n",
       "      <td>nsYoAO57</td>\n",
       "      <td>1</td>\n",
       "      <td>5</td>\n",
       "      <td>1</td>\n",
       "      <td>6</td>\n",
       "      <td>1</td>\n",
       "    </tr>\n",
       "    <tr>\n",
       "      <th>2</th>\n",
       "      <td>p0AwSvlE</td>\n",
       "      <td>1</td>\n",
       "      <td>4</td>\n",
       "      <td>4</td>\n",
       "      <td>8</td>\n",
       "      <td>1</td>\n",
       "    </tr>\n",
       "    <tr>\n",
       "      <th>7</th>\n",
       "      <td>Oj9sRb3K</td>\n",
       "      <td>1</td>\n",
       "      <td>4</td>\n",
       "      <td>3</td>\n",
       "      <td>7</td>\n",
       "      <td>1</td>\n",
       "    </tr>\n",
       "    <tr>\n",
       "      <th>8</th>\n",
       "      <td>dCFxXoDK</td>\n",
       "      <td>1</td>\n",
       "      <td>2</td>\n",
       "      <td>4</td>\n",
       "      <td>6</td>\n",
       "      <td>1</td>\n",
       "    </tr>\n",
       "    <tr>\n",
       "      <th>9</th>\n",
       "      <td>vyLXXRcE</td>\n",
       "      <td>1</td>\n",
       "      <td>4</td>\n",
       "      <td>2</td>\n",
       "      <td>6</td>\n",
       "      <td>1</td>\n",
       "    </tr>\n",
       "    <tr>\n",
       "      <th>14</th>\n",
       "      <td>80vLFh5r</td>\n",
       "      <td>0</td>\n",
       "      <td>2</td>\n",
       "      <td>5</td>\n",
       "      <td>7</td>\n",
       "      <td>1</td>\n",
       "    </tr>\n",
       "    <tr>\n",
       "      <th>15</th>\n",
       "      <td>fZaDLxRs</td>\n",
       "      <td>0</td>\n",
       "      <td>1</td>\n",
       "      <td>7</td>\n",
       "      <td>8</td>\n",
       "      <td>1</td>\n",
       "    </tr>\n",
       "    <tr>\n",
       "      <th>16</th>\n",
       "      <td>ID8oQIIQ</td>\n",
       "      <td>1</td>\n",
       "      <td>5</td>\n",
       "      <td>1</td>\n",
       "      <td>6</td>\n",
       "      <td>1</td>\n",
       "    </tr>\n",
       "    <tr>\n",
       "      <th>17</th>\n",
       "      <td>GllMJGef</td>\n",
       "      <td>1</td>\n",
       "      <td>5</td>\n",
       "      <td>4</td>\n",
       "      <td>9</td>\n",
       "      <td>1</td>\n",
       "    </tr>\n",
       "    <tr>\n",
       "      <th>19</th>\n",
       "      <td>0S6SM1kD</td>\n",
       "      <td>1</td>\n",
       "      <td>2</td>\n",
       "      <td>2</td>\n",
       "      <td>4</td>\n",
       "      <td>1</td>\n",
       "    </tr>\n",
       "    <tr>\n",
       "      <th>20</th>\n",
       "      <td>0pMTY7r8</td>\n",
       "      <td>1</td>\n",
       "      <td>3</td>\n",
       "      <td>2</td>\n",
       "      <td>5</td>\n",
       "      <td>1</td>\n",
       "    </tr>\n",
       "    <tr>\n",
       "      <th>21</th>\n",
       "      <td>lAfHP35f</td>\n",
       "      <td>1</td>\n",
       "      <td>9</td>\n",
       "      <td>3</td>\n",
       "      <td>12</td>\n",
       "      <td>1</td>\n",
       "    </tr>\n",
       "    <tr>\n",
       "      <th>22</th>\n",
       "      <td>jRSOwxmQ</td>\n",
       "      <td>1</td>\n",
       "      <td>3</td>\n",
       "      <td>6</td>\n",
       "      <td>9</td>\n",
       "      <td>1</td>\n",
       "    </tr>\n",
       "    <tr>\n",
       "      <th>23</th>\n",
       "      <td>G8C3Wgu0</td>\n",
       "      <td>1</td>\n",
       "      <td>3</td>\n",
       "      <td>1</td>\n",
       "      <td>4</td>\n",
       "      <td>1</td>\n",
       "    </tr>\n",
       "    <tr>\n",
       "      <th>24</th>\n",
       "      <td>C6zouq5s</td>\n",
       "      <td>1</td>\n",
       "      <td>5</td>\n",
       "      <td>0</td>\n",
       "      <td>5</td>\n",
       "      <td>1</td>\n",
       "    </tr>\n",
       "    <tr>\n",
       "      <th>28</th>\n",
       "      <td>EVW1y146</td>\n",
       "      <td>0</td>\n",
       "      <td>3</td>\n",
       "      <td>3</td>\n",
       "      <td>6</td>\n",
       "      <td>1</td>\n",
       "    </tr>\n",
       "    <tr>\n",
       "      <th>29</th>\n",
       "      <td>zoLAZvZI</td>\n",
       "      <td>1</td>\n",
       "      <td>5</td>\n",
       "      <td>3</td>\n",
       "      <td>8</td>\n",
       "      <td>1</td>\n",
       "    </tr>\n",
       "    <tr>\n",
       "      <th>30</th>\n",
       "      <td>O0EhbOBJ</td>\n",
       "      <td>1</td>\n",
       "      <td>7</td>\n",
       "      <td>2</td>\n",
       "      <td>9</td>\n",
       "      <td>1</td>\n",
       "    </tr>\n",
       "    <tr>\n",
       "      <th>33</th>\n",
       "      <td>GhUwadeM</td>\n",
       "      <td>0</td>\n",
       "      <td>4</td>\n",
       "      <td>2</td>\n",
       "      <td>6</td>\n",
       "      <td>1</td>\n",
       "    </tr>\n",
       "    <tr>\n",
       "      <th>35</th>\n",
       "      <td>8MwJ3Kti</td>\n",
       "      <td>0</td>\n",
       "      <td>4</td>\n",
       "      <td>4</td>\n",
       "      <td>8</td>\n",
       "      <td>1</td>\n",
       "    </tr>\n",
       "    <tr>\n",
       "      <th>36</th>\n",
       "      <td>UySR1bB3</td>\n",
       "      <td>0</td>\n",
       "      <td>5</td>\n",
       "      <td>0</td>\n",
       "      <td>5</td>\n",
       "      <td>1</td>\n",
       "    </tr>\n",
       "    <tr>\n",
       "      <th>40</th>\n",
       "      <td>xO0CUX9C</td>\n",
       "      <td>1</td>\n",
       "      <td>4</td>\n",
       "      <td>4</td>\n",
       "      <td>8</td>\n",
       "      <td>1</td>\n",
       "    </tr>\n",
       "    <tr>\n",
       "      <th>41</th>\n",
       "      <td>dfM6zLJC</td>\n",
       "      <td>1</td>\n",
       "      <td>4</td>\n",
       "      <td>6</td>\n",
       "      <td>10</td>\n",
       "      <td>1</td>\n",
       "    </tr>\n",
       "    <tr>\n",
       "      <th>42</th>\n",
       "      <td>8YTgwNZg</td>\n",
       "      <td>1</td>\n",
       "      <td>7</td>\n",
       "      <td>0</td>\n",
       "      <td>7</td>\n",
       "      <td>1</td>\n",
       "    </tr>\n",
       "    <tr>\n",
       "      <th>43</th>\n",
       "      <td>ruWV0IQ9</td>\n",
       "      <td>0</td>\n",
       "      <td>2</td>\n",
       "      <td>6</td>\n",
       "      <td>8</td>\n",
       "      <td>1</td>\n",
       "    </tr>\n",
       "    <tr>\n",
       "      <th>44</th>\n",
       "      <td>nDxN2vdc</td>\n",
       "      <td>0</td>\n",
       "      <td>4</td>\n",
       "      <td>4</td>\n",
       "      <td>8</td>\n",
       "      <td>1</td>\n",
       "    </tr>\n",
       "    <tr>\n",
       "      <th>45</th>\n",
       "      <td>WKAiZees</td>\n",
       "      <td>1</td>\n",
       "      <td>1</td>\n",
       "      <td>5</td>\n",
       "      <td>6</td>\n",
       "      <td>1</td>\n",
       "    </tr>\n",
       "    <tr>\n",
       "      <th>46</th>\n",
       "      <td>ruh1GcQd</td>\n",
       "      <td>1</td>\n",
       "      <td>3</td>\n",
       "      <td>5</td>\n",
       "      <td>8</td>\n",
       "      <td>1</td>\n",
       "    </tr>\n",
       "    <tr>\n",
       "      <th>48</th>\n",
       "      <td>z19YlKY5</td>\n",
       "      <td>1</td>\n",
       "      <td>4</td>\n",
       "      <td>3</td>\n",
       "      <td>7</td>\n",
       "      <td>1</td>\n",
       "    </tr>\n",
       "    <tr>\n",
       "      <th>51</th>\n",
       "      <td>2iDdcrRP</td>\n",
       "      <td>1</td>\n",
       "      <td>3</td>\n",
       "      <td>2</td>\n",
       "      <td>5</td>\n",
       "      <td>1</td>\n",
       "    </tr>\n",
       "    <tr>\n",
       "      <th>53</th>\n",
       "      <td>UefDDeAF</td>\n",
       "      <td>1</td>\n",
       "      <td>1</td>\n",
       "      <td>6</td>\n",
       "      <td>7</td>\n",
       "      <td>1</td>\n",
       "    </tr>\n",
       "    <tr>\n",
       "      <th>55</th>\n",
       "      <td>CKqICFPL</td>\n",
       "      <td>1</td>\n",
       "      <td>3</td>\n",
       "      <td>6</td>\n",
       "      <td>9</td>\n",
       "      <td>1</td>\n",
       "    </tr>\n",
       "    <tr>\n",
       "      <th>56</th>\n",
       "      <td>MVj5FHu3</td>\n",
       "      <td>1</td>\n",
       "      <td>2</td>\n",
       "      <td>4</td>\n",
       "      <td>6</td>\n",
       "      <td>1</td>\n",
       "    </tr>\n",
       "    <tr>\n",
       "      <th>59</th>\n",
       "      <td>8YkPh2Zt</td>\n",
       "      <td>1</td>\n",
       "      <td>3</td>\n",
       "      <td>2</td>\n",
       "      <td>5</td>\n",
       "      <td>1</td>\n",
       "    </tr>\n",
       "    <tr>\n",
       "      <th>61</th>\n",
       "      <td>KjzAVVXp</td>\n",
       "      <td>0</td>\n",
       "      <td>3</td>\n",
       "      <td>3</td>\n",
       "      <td>6</td>\n",
       "      <td>1</td>\n",
       "    </tr>\n",
       "    <tr>\n",
       "      <th>62</th>\n",
       "      <td>zwBAgzJq</td>\n",
       "      <td>1</td>\n",
       "      <td>7</td>\n",
       "      <td>1</td>\n",
       "      <td>8</td>\n",
       "      <td>1</td>\n",
       "    </tr>\n",
       "    <tr>\n",
       "      <th>64</th>\n",
       "      <td>Y7ekMDA0</td>\n",
       "      <td>1</td>\n",
       "      <td>2</td>\n",
       "      <td>6</td>\n",
       "      <td>8</td>\n",
       "      <td>1</td>\n",
       "    </tr>\n",
       "    <tr>\n",
       "      <th>67</th>\n",
       "      <td>8CG4iDf4</td>\n",
       "      <td>0</td>\n",
       "      <td>2</td>\n",
       "      <td>3</td>\n",
       "      <td>5</td>\n",
       "      <td>1</td>\n",
       "    </tr>\n",
       "    <tr>\n",
       "      <th>70</th>\n",
       "      <td>lMOCkiPG</td>\n",
       "      <td>1</td>\n",
       "      <td>5</td>\n",
       "      <td>4</td>\n",
       "      <td>9</td>\n",
       "      <td>1</td>\n",
       "    </tr>\n",
       "    <tr>\n",
       "      <th>71</th>\n",
       "      <td>rqOGlBvN</td>\n",
       "      <td>1</td>\n",
       "      <td>3</td>\n",
       "      <td>4</td>\n",
       "      <td>7</td>\n",
       "      <td>1</td>\n",
       "    </tr>\n",
       "    <tr>\n",
       "      <th>72</th>\n",
       "      <td>6FGUr2cI</td>\n",
       "      <td>1</td>\n",
       "      <td>6</td>\n",
       "      <td>5</td>\n",
       "      <td>11</td>\n",
       "      <td>1</td>\n",
       "    </tr>\n",
       "    <tr>\n",
       "      <th>73</th>\n",
       "      <td>0nDdgZPi</td>\n",
       "      <td>1</td>\n",
       "      <td>3</td>\n",
       "      <td>10</td>\n",
       "      <td>13</td>\n",
       "      <td>1</td>\n",
       "    </tr>\n",
       "    <tr>\n",
       "      <th>74</th>\n",
       "      <td>MgZi6D2k</td>\n",
       "      <td>0</td>\n",
       "      <td>4</td>\n",
       "      <td>4</td>\n",
       "      <td>8</td>\n",
       "      <td>1</td>\n",
       "    </tr>\n",
       "    <tr>\n",
       "      <th>76</th>\n",
       "      <td>GSpmQYgL</td>\n",
       "      <td>1</td>\n",
       "      <td>5</td>\n",
       "      <td>0</td>\n",
       "      <td>5</td>\n",
       "      <td>1</td>\n",
       "    </tr>\n",
       "    <tr>\n",
       "      <th>77</th>\n",
       "      <td>xxnqREvF</td>\n",
       "      <td>0</td>\n",
       "      <td>6</td>\n",
       "      <td>6</td>\n",
       "      <td>12</td>\n",
       "      <td>1</td>\n",
       "    </tr>\n",
       "    <tr>\n",
       "      <th>83</th>\n",
       "      <td>xI3tKroU</td>\n",
       "      <td>0</td>\n",
       "      <td>4</td>\n",
       "      <td>5</td>\n",
       "      <td>9</td>\n",
       "      <td>1</td>\n",
       "    </tr>\n",
       "    <tr>\n",
       "      <th>84</th>\n",
       "      <td>lG5l5XHe</td>\n",
       "      <td>1</td>\n",
       "      <td>2</td>\n",
       "      <td>2</td>\n",
       "      <td>4</td>\n",
       "      <td>1</td>\n",
       "    </tr>\n",
       "    <tr>\n",
       "      <th>86</th>\n",
       "      <td>EFCLO6Wb</td>\n",
       "      <td>1</td>\n",
       "      <td>6</td>\n",
       "      <td>2</td>\n",
       "      <td>8</td>\n",
       "      <td>1</td>\n",
       "    </tr>\n",
       "    <tr>\n",
       "      <th>87</th>\n",
       "      <td>445YL4GH</td>\n",
       "      <td>1</td>\n",
       "      <td>5</td>\n",
       "      <td>1</td>\n",
       "      <td>6</td>\n",
       "      <td>1</td>\n",
       "    </tr>\n",
       "    <tr>\n",
       "      <th>88</th>\n",
       "      <td>Ewe8F2go</td>\n",
       "      <td>1</td>\n",
       "      <td>6</td>\n",
       "      <td>2</td>\n",
       "      <td>8</td>\n",
       "      <td>1</td>\n",
       "    </tr>\n",
       "  </tbody>\n",
       "</table>\n",
       "</div>"
      ],
      "text/plain": [
       "          ID  output  CORNERS_H  CORNERS_A  TOTAL_CORNERS  PROB_CORNERS\n",
       "0   E30fSmrc       1          5          0              5             1\n",
       "1   nsYoAO57       1          5          1              6             1\n",
       "2   p0AwSvlE       1          4          4              8             1\n",
       "7   Oj9sRb3K       1          4          3              7             1\n",
       "8   dCFxXoDK       1          2          4              6             1\n",
       "9   vyLXXRcE       1          4          2              6             1\n",
       "14  80vLFh5r       0          2          5              7             1\n",
       "15  fZaDLxRs       0          1          7              8             1\n",
       "16  ID8oQIIQ       1          5          1              6             1\n",
       "17  GllMJGef       1          5          4              9             1\n",
       "19  0S6SM1kD       1          2          2              4             1\n",
       "20  0pMTY7r8       1          3          2              5             1\n",
       "21  lAfHP35f       1          9          3             12             1\n",
       "22  jRSOwxmQ       1          3          6              9             1\n",
       "23  G8C3Wgu0       1          3          1              4             1\n",
       "24  C6zouq5s       1          5          0              5             1\n",
       "28  EVW1y146       0          3          3              6             1\n",
       "29  zoLAZvZI       1          5          3              8             1\n",
       "30  O0EhbOBJ       1          7          2              9             1\n",
       "33  GhUwadeM       0          4          2              6             1\n",
       "35  8MwJ3Kti       0          4          4              8             1\n",
       "36  UySR1bB3       0          5          0              5             1\n",
       "40  xO0CUX9C       1          4          4              8             1\n",
       "41  dfM6zLJC       1          4          6             10             1\n",
       "42  8YTgwNZg       1          7          0              7             1\n",
       "43  ruWV0IQ9       0          2          6              8             1\n",
       "44  nDxN2vdc       0          4          4              8             1\n",
       "45  WKAiZees       1          1          5              6             1\n",
       "46  ruh1GcQd       1          3          5              8             1\n",
       "48  z19YlKY5       1          4          3              7             1\n",
       "51  2iDdcrRP       1          3          2              5             1\n",
       "53  UefDDeAF       1          1          6              7             1\n",
       "55  CKqICFPL       1          3          6              9             1\n",
       "56  MVj5FHu3       1          2          4              6             1\n",
       "59  8YkPh2Zt       1          3          2              5             1\n",
       "61  KjzAVVXp       0          3          3              6             1\n",
       "62  zwBAgzJq       1          7          1              8             1\n",
       "64  Y7ekMDA0       1          2          6              8             1\n",
       "67  8CG4iDf4       0          2          3              5             1\n",
       "70  lMOCkiPG       1          5          4              9             1\n",
       "71  rqOGlBvN       1          3          4              7             1\n",
       "72  6FGUr2cI       1          6          5             11             1\n",
       "73  0nDdgZPi       1          3         10             13             1\n",
       "74  MgZi6D2k       0          4          4              8             1\n",
       "76  GSpmQYgL       1          5          0              5             1\n",
       "77  xxnqREvF       0          6          6             12             1\n",
       "83  xI3tKroU       0          4          5              9             1\n",
       "84  lG5l5XHe       1          2          2              4             1\n",
       "86  EFCLO6Wb       1          6          2              8             1\n",
       "87  445YL4GH       1          5          1              6             1\n",
       "88  Ewe8F2go       1          6          2              8             1"
      ]
     },
     "execution_count": 132,
     "metadata": {},
     "output_type": "execute_result"
    }
   ],
   "source": [
    "output[output.PROB_CORNERS==1]"
   ]
  },
  {
   "cell_type": "code",
   "execution_count": null,
   "id": "c616056a",
   "metadata": {},
   "outputs": [],
   "source": []
  }
 ],
 "metadata": {
  "kernelspec": {
   "display_name": "Python 3 (ipykernel)",
   "language": "python",
   "name": "python3"
  },
  "language_info": {
   "codemirror_mode": {
    "name": "ipython",
    "version": 3
   },
   "file_extension": ".py",
   "mimetype": "text/x-python",
   "name": "python",
   "nbconvert_exporter": "python",
   "pygments_lexer": "ipython3",
   "version": "3.7.11"
  }
 },
 "nbformat": 4,
 "nbformat_minor": 5
}
