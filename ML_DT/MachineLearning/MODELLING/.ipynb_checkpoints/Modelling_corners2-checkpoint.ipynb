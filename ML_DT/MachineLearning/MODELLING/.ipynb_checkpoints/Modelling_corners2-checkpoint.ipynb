{
 "cells": [
  {
   "cell_type": "code",
   "execution_count": 15,
   "id": "0705929c",
   "metadata": {},
   "outputs": [],
   "source": [
    "import pymysql\n",
    "from sklearn.ensemble import RandomForestClassifier\n",
    "from sqlalchemy import create_engine\n",
    "import pandas as pd\n",
    "import matplotlib.pyplot as plt\n",
    "%matplotlib inline\n",
    "import numpy as np\n",
    "from pandasql import sqldf\n",
    "from sklearn import metrics\n",
    "\n",
    "import xgboost as xgb\n",
    "from sklearn.metrics import accuracy_score, confusion_matrix"
   ]
  },
  {
   "cell_type": "code",
   "execution_count": 199,
   "id": "b12a3810",
   "metadata": {},
   "outputs": [],
   "source": [
    "data = pd.read_csv(\"../FEATURE_ENGINEER/tablon.csv\")\n",
    "\n",
    "tablon = data[data.YEARMONTH<202111][[\"AVG_CORNERSHOMED1_L3\",\"AVG_CORNERSHOMED2_L5\", \"AVG_CORNERSAWAYD1_L5\",\n",
    "                                      \"CORNERS_DIV_SHOTS\",\"AVG_CORNERSAWAYD2_L5\", \"LEAGUE_INGLATERRA\", \"TOTAL_CORNERS\",\n",
    "                                      \"LAST_MINUTECORNER_H_L60\", \"LAST_MINUTECORNER_A_L60\", \n",
    "                                      \"AVG_CORNERS_LOSE_HOME\",\"CORNERS_A\", \"AVG_CORNERSHOMED1_L5\", \n",
    "                                      \"NUM_MATCHESHOME_POSITIVE_L5\", \"output\",\"TOTAL_CORNERS_45_60\"]]\n",
    "\n",
    "X_validation_november = data[data.YEARMONTH>=202111][[\"AVG_CORNERSHOMED1_L3\",\"AVG_CORNERSHOMED2_L5\", \"AVG_CORNERSAWAYD1_L5\",\n",
    "                                      \"CORNERS_DIV_SHOTS\",\"AVG_CORNERSAWAYD2_L5\", \"LEAGUE_INGLATERRA\", \"TOTAL_CORNERS\",\n",
    "                                      \"LAST_MINUTECORNER_H_L60\", \"LAST_MINUTECORNER_A_L60\", \n",
    "                                      \"AVG_CORNERS_LOSE_HOME\",\"CORNERS_A\", \"AVG_CORNERSHOMED1_L5\", \n",
    "                                      \"NUM_MATCHESHOME_POSITIVE_L5\", \"output\",\"TOTAL_CORNERS_45_60\"]]"
   ]
  },
  {
   "cell_type": "code",
   "execution_count": 200,
   "id": "5ad0b69b",
   "metadata": {},
   "outputs": [],
   "source": [
    "len_test = int(round(len(tablon)*0.25, 0))\n",
    "len_train = int(round(len(tablon)*0.6, 0))"
   ]
  },
  {
   "cell_type": "code",
   "execution_count": 201,
   "id": "b3d8b56c",
   "metadata": {},
   "outputs": [],
   "source": [
    "X_train = tablon[:len_train]\n",
    "y_train = X_train.pop(\"output\")\n",
    "X_test = tablon[len_train:(len_train+len_test)]\n",
    "y_test = X_test.pop(\"output\")\n",
    "X_validation = tablon[(len_train+len_test):]\n",
    "y_validation = X_validation.pop(\"output\")"
   ]
  },
  {
   "cell_type": "code",
   "execution_count": 202,
   "id": "3fe938f9",
   "metadata": {},
   "outputs": [
    {
     "data": {
      "text/plain": [
       "((6928, 14), (2887, 14), (1732, 14))"
      ]
     },
     "execution_count": 202,
     "metadata": {},
     "output_type": "execute_result"
    }
   ],
   "source": [
    "X_train.shape, X_test.shape, X_validation.shape"
   ]
  },
  {
   "cell_type": "code",
   "execution_count": 203,
   "id": "e4371695",
   "metadata": {},
   "outputs": [
    {
     "data": {
      "text/plain": [
       "1    5502\n",
       "0    1426\n",
       "Name: output, dtype: int64"
      ]
     },
     "execution_count": 203,
     "metadata": {},
     "output_type": "execute_result"
    }
   ],
   "source": [
    "y_train.value_counts()"
   ]
  },
  {
   "cell_type": "code",
   "execution_count": 204,
   "id": "f73ee8e1",
   "metadata": {},
   "outputs": [
    {
     "data": {
      "text/plain": [
       "1    2248\n",
       "0     639\n",
       "Name: output, dtype: int64"
      ]
     },
     "execution_count": 204,
     "metadata": {},
     "output_type": "execute_result"
    }
   ],
   "source": [
    "y_test.value_counts()"
   ]
  },
  {
   "cell_type": "code",
   "execution_count": 205,
   "id": "b178d2af",
   "metadata": {},
   "outputs": [
    {
     "data": {
      "text/plain": [
       "1    1346\n",
       "0     386\n",
       "Name: output, dtype: int64"
      ]
     },
     "execution_count": 205,
     "metadata": {},
     "output_type": "execute_result"
    }
   ],
   "source": [
    "y_validation.value_counts()"
   ]
  },
  {
   "cell_type": "markdown",
   "id": "35058c53",
   "metadata": {},
   "source": [
    "## EXECUTING BEST MODEL"
   ]
  },
  {
   "cell_type": "code",
   "execution_count": 234,
   "id": "9353c5e4",
   "metadata": {},
   "outputs": [
    {
     "name": "stdout",
     "output_type": "stream",
     "text": [
      "[0]\tvalidation_0-auc:0.66578\tvalidation_0-logloss:0.68709\tvalidation_0-error:0.20506\n",
      "[1]\tvalidation_0-auc:0.66948\tvalidation_0-logloss:0.68121\tvalidation_0-error:0.20506\n"
     ]
    },
    {
     "name": "stderr",
     "output_type": "stream",
     "text": [
      "/home/root/opt/python3.7.11/lib/python3.7/site-packages/xgboost/sklearn.py:1224: UserWarning: The use of label encoder in XGBClassifier is deprecated and will be removed in a future release. To remove this warning, do the following: 1) Pass option use_label_encoder=False when constructing XGBClassifier object; and 2) Encode your labels (y) as integers starting with 0, i.e. 0, 1, 2, ..., [num_class - 1].\n",
      "  warnings.warn(label_encoder_deprecation_msg, UserWarning)\n"
     ]
    },
    {
     "name": "stdout",
     "output_type": "stream",
     "text": [
      "[2]\tvalidation_0-auc:0.67357\tvalidation_0-logloss:0.67549\tvalidation_0-error:0.20506\n",
      "[3]\tvalidation_0-auc:0.68346\tvalidation_0-logloss:0.67013\tvalidation_0-error:0.20436\n",
      "[4]\tvalidation_0-auc:0.68310\tvalidation_0-logloss:0.66477\tvalidation_0-error:0.20506\n",
      "[5]\tvalidation_0-auc:0.68353\tvalidation_0-logloss:0.65955\tvalidation_0-error:0.20540\n",
      "[6]\tvalidation_0-auc:0.68192\tvalidation_0-logloss:0.65451\tvalidation_0-error:0.20506\n",
      "[7]\tvalidation_0-auc:0.68219\tvalidation_0-logloss:0.64961\tvalidation_0-error:0.20506\n",
      "[8]\tvalidation_0-auc:0.68155\tvalidation_0-logloss:0.64498\tvalidation_0-error:0.20506\n",
      "[9]\tvalidation_0-auc:0.68239\tvalidation_0-logloss:0.64034\tvalidation_0-error:0.20506\n",
      "[10]\tvalidation_0-auc:0.68130\tvalidation_0-logloss:0.63586\tvalidation_0-error:0.20506\n",
      "[11]\tvalidation_0-auc:0.68279\tvalidation_0-logloss:0.63145\tvalidation_0-error:0.20506\n",
      "[12]\tvalidation_0-auc:0.68211\tvalidation_0-logloss:0.62719\tvalidation_0-error:0.20506\n",
      "[13]\tvalidation_0-auc:0.68206\tvalidation_0-logloss:0.62308\tvalidation_0-error:0.20506\n",
      "[14]\tvalidation_0-auc:0.68243\tvalidation_0-logloss:0.61903\tvalidation_0-error:0.20506\n",
      "[15]\tvalidation_0-auc:0.68163\tvalidation_0-logloss:0.61516\tvalidation_0-error:0.20506\n",
      "[16]\tvalidation_0-auc:0.68323\tvalidation_0-logloss:0.61137\tvalidation_0-error:0.20506\n",
      "[17]\tvalidation_0-auc:0.68370\tvalidation_0-logloss:0.60768\tvalidation_0-error:0.20506\n",
      "[18]\tvalidation_0-auc:0.68379\tvalidation_0-logloss:0.60412\tvalidation_0-error:0.20506\n",
      "[19]\tvalidation_0-auc:0.68270\tvalidation_0-logloss:0.60067\tvalidation_0-error:0.20506\n",
      "[20]\tvalidation_0-auc:0.68184\tvalidation_0-logloss:0.59728\tvalidation_0-error:0.20506\n",
      "[21]\tvalidation_0-auc:0.68098\tvalidation_0-logloss:0.59399\tvalidation_0-error:0.20506\n",
      "[22]\tvalidation_0-auc:0.68136\tvalidation_0-logloss:0.59081\tvalidation_0-error:0.20506\n",
      "[23]\tvalidation_0-auc:0.68215\tvalidation_0-logloss:0.58765\tvalidation_0-error:0.20506\n",
      "[24]\tvalidation_0-auc:0.68362\tvalidation_0-logloss:0.58463\tvalidation_0-error:0.20506\n",
      "[25]\tvalidation_0-auc:0.68403\tvalidation_0-logloss:0.58165\tvalidation_0-error:0.20436\n",
      "[26]\tvalidation_0-auc:0.68403\tvalidation_0-logloss:0.57876\tvalidation_0-error:0.20471\n",
      "[27]\tvalidation_0-auc:0.68388\tvalidation_0-logloss:0.57596\tvalidation_0-error:0.20436\n",
      "[28]\tvalidation_0-auc:0.68393\tvalidation_0-logloss:0.57324\tvalidation_0-error:0.20436\n",
      "[29]\tvalidation_0-auc:0.68271\tvalidation_0-logloss:0.57061\tvalidation_0-error:0.20402\n",
      "[30]\tvalidation_0-auc:0.68352\tvalidation_0-logloss:0.56801\tvalidation_0-error:0.20436\n",
      "[31]\tvalidation_0-auc:0.68362\tvalidation_0-logloss:0.56550\tvalidation_0-error:0.20402\n",
      "[32]\tvalidation_0-auc:0.68412\tvalidation_0-logloss:0.56306\tvalidation_0-error:0.20402\n",
      "[33]\tvalidation_0-auc:0.68466\tvalidation_0-logloss:0.56066\tvalidation_0-error:0.20402\n",
      "[34]\tvalidation_0-auc:0.68540\tvalidation_0-logloss:0.55834\tvalidation_0-error:0.20402\n",
      "[35]\tvalidation_0-auc:0.68541\tvalidation_0-logloss:0.55605\tvalidation_0-error:0.20402\n",
      "[36]\tvalidation_0-auc:0.68600\tvalidation_0-logloss:0.55383\tvalidation_0-error:0.20402\n",
      "[37]\tvalidation_0-auc:0.68549\tvalidation_0-logloss:0.55171\tvalidation_0-error:0.20402\n",
      "[38]\tvalidation_0-auc:0.68554\tvalidation_0-logloss:0.54963\tvalidation_0-error:0.20402\n",
      "[39]\tvalidation_0-auc:0.68570\tvalidation_0-logloss:0.54762\tvalidation_0-error:0.20436\n",
      "[40]\tvalidation_0-auc:0.68580\tvalidation_0-logloss:0.54566\tvalidation_0-error:0.20471\n",
      "[41]\tvalidation_0-auc:0.68590\tvalidation_0-logloss:0.54373\tvalidation_0-error:0.20471\n",
      "[42]\tvalidation_0-auc:0.68620\tvalidation_0-logloss:0.54183\tvalidation_0-error:0.20471\n",
      "[43]\tvalidation_0-auc:0.68647\tvalidation_0-logloss:0.54004\tvalidation_0-error:0.20471\n",
      "[44]\tvalidation_0-auc:0.68636\tvalidation_0-logloss:0.53823\tvalidation_0-error:0.20540\n",
      "[45]\tvalidation_0-auc:0.68646\tvalidation_0-logloss:0.53651\tvalidation_0-error:0.20506\n",
      "[46]\tvalidation_0-auc:0.68624\tvalidation_0-logloss:0.53483\tvalidation_0-error:0.20540\n",
      "[47]\tvalidation_0-auc:0.68648\tvalidation_0-logloss:0.53317\tvalidation_0-error:0.20471\n",
      "[48]\tvalidation_0-auc:0.68632\tvalidation_0-logloss:0.53156\tvalidation_0-error:0.20471\n",
      "[49]\tvalidation_0-auc:0.68679\tvalidation_0-logloss:0.53002\tvalidation_0-error:0.20540\n",
      "[50]\tvalidation_0-auc:0.68699\tvalidation_0-logloss:0.52844\tvalidation_0-error:0.20540\n",
      "[51]\tvalidation_0-auc:0.68628\tvalidation_0-logloss:0.52691\tvalidation_0-error:0.20575\n",
      "[52]\tvalidation_0-auc:0.68714\tvalidation_0-logloss:0.52546\tvalidation_0-error:0.20575\n",
      "[53]\tvalidation_0-auc:0.68662\tvalidation_0-logloss:0.52399\tvalidation_0-error:0.20575\n",
      "[54]\tvalidation_0-auc:0.68721\tvalidation_0-logloss:0.52258\tvalidation_0-error:0.20575\n",
      "[55]\tvalidation_0-auc:0.68673\tvalidation_0-logloss:0.52126\tvalidation_0-error:0.20575\n",
      "[56]\tvalidation_0-auc:0.68687\tvalidation_0-logloss:0.51992\tvalidation_0-error:0.20610\n",
      "[57]\tvalidation_0-auc:0.68685\tvalidation_0-logloss:0.51861\tvalidation_0-error:0.20610\n",
      "[58]\tvalidation_0-auc:0.68631\tvalidation_0-logloss:0.51734\tvalidation_0-error:0.20610\n",
      "[59]\tvalidation_0-auc:0.68661\tvalidation_0-logloss:0.51615\tvalidation_0-error:0.20610\n",
      "[60]\tvalidation_0-auc:0.68693\tvalidation_0-logloss:0.51497\tvalidation_0-error:0.20610\n",
      "[61]\tvalidation_0-auc:0.68703\tvalidation_0-logloss:0.51378\tvalidation_0-error:0.20644\n",
      "[62]\tvalidation_0-auc:0.68678\tvalidation_0-logloss:0.51264\tvalidation_0-error:0.20644\n",
      "[63]\tvalidation_0-auc:0.68770\tvalidation_0-logloss:0.51150\tvalidation_0-error:0.20644\n",
      "[64]\tvalidation_0-auc:0.68711\tvalidation_0-logloss:0.51041\tvalidation_0-error:0.20229\n",
      "[65]\tvalidation_0-auc:0.68728\tvalidation_0-logloss:0.50935\tvalidation_0-error:0.20229\n",
      "[66]\tvalidation_0-auc:0.68718\tvalidation_0-logloss:0.50831\tvalidation_0-error:0.20055\n",
      "[67]\tvalidation_0-auc:0.68738\tvalidation_0-logloss:0.50730\tvalidation_0-error:0.20055\n",
      "[68]\tvalidation_0-auc:0.68752\tvalidation_0-logloss:0.50631\tvalidation_0-error:0.20055\n",
      "[69]\tvalidation_0-auc:0.68747\tvalidation_0-logloss:0.50533\tvalidation_0-error:0.20055\n",
      "[70]\tvalidation_0-auc:0.68707\tvalidation_0-logloss:0.50442\tvalidation_0-error:0.20055\n",
      "[71]\tvalidation_0-auc:0.68730\tvalidation_0-logloss:0.50352\tvalidation_0-error:0.20055\n",
      "[72]\tvalidation_0-auc:0.68754\tvalidation_0-logloss:0.50266\tvalidation_0-error:0.20055\n",
      "[73]\tvalidation_0-auc:0.68743\tvalidation_0-logloss:0.50181\tvalidation_0-error:0.20055\n",
      "[74]\tvalidation_0-auc:0.68767\tvalidation_0-logloss:0.50096\tvalidation_0-error:0.20055\n",
      "[75]\tvalidation_0-auc:0.68800\tvalidation_0-logloss:0.50014\tvalidation_0-error:0.20055\n",
      "[76]\tvalidation_0-auc:0.68803\tvalidation_0-logloss:0.49933\tvalidation_0-error:0.20055\n",
      "[77]\tvalidation_0-auc:0.68780\tvalidation_0-logloss:0.49862\tvalidation_0-error:0.20055\n",
      "[78]\tvalidation_0-auc:0.68719\tvalidation_0-logloss:0.49788\tvalidation_0-error:0.20055\n",
      "[79]\tvalidation_0-auc:0.68733\tvalidation_0-logloss:0.49714\tvalidation_0-error:0.20055\n",
      "[80]\tvalidation_0-auc:0.68722\tvalidation_0-logloss:0.49648\tvalidation_0-error:0.20055\n",
      "[81]\tvalidation_0-auc:0.68727\tvalidation_0-logloss:0.49581\tvalidation_0-error:0.20090\n",
      "[82]\tvalidation_0-auc:0.68724\tvalidation_0-logloss:0.49516\tvalidation_0-error:0.20055\n",
      "[83]\tvalidation_0-auc:0.68692\tvalidation_0-logloss:0.49453\tvalidation_0-error:0.20055\n",
      "[84]\tvalidation_0-auc:0.68669\tvalidation_0-logloss:0.49394\tvalidation_0-error:0.20055\n",
      "[85]\tvalidation_0-auc:0.68693\tvalidation_0-logloss:0.49329\tvalidation_0-error:0.20055\n",
      "[86]\tvalidation_0-auc:0.68699\tvalidation_0-logloss:0.49269\tvalidation_0-error:0.20055\n",
      "[87]\tvalidation_0-auc:0.68728\tvalidation_0-logloss:0.49213\tvalidation_0-error:0.20055\n",
      "[88]\tvalidation_0-auc:0.68681\tvalidation_0-logloss:0.49161\tvalidation_0-error:0.20055\n",
      "[89]\tvalidation_0-auc:0.68676\tvalidation_0-logloss:0.49107\tvalidation_0-error:0.20021\n",
      "[90]\tvalidation_0-auc:0.68671\tvalidation_0-logloss:0.49058\tvalidation_0-error:0.20021\n",
      "[91]\tvalidation_0-auc:0.68604\tvalidation_0-logloss:0.49009\tvalidation_0-error:0.20021\n",
      "[92]\tvalidation_0-auc:0.68578\tvalidation_0-logloss:0.48959\tvalidation_0-error:0.20021\n",
      "[93]\tvalidation_0-auc:0.68578\tvalidation_0-logloss:0.48912\tvalidation_0-error:0.20021\n",
      "[94]\tvalidation_0-auc:0.68554\tvalidation_0-logloss:0.48869\tvalidation_0-error:0.20021\n",
      "[95]\tvalidation_0-auc:0.68631\tvalidation_0-logloss:0.48818\tvalidation_0-error:0.20021\n",
      "[96]\tvalidation_0-auc:0.68628\tvalidation_0-logloss:0.48775\tvalidation_0-error:0.20021\n",
      "[97]\tvalidation_0-auc:0.68689\tvalidation_0-logloss:0.48729\tvalidation_0-error:0.20021\n"
     ]
    },
    {
     "name": "stdout",
     "output_type": "stream",
     "text": [
      "[98]\tvalidation_0-auc:0.68660\tvalidation_0-logloss:0.48688\tvalidation_0-error:0.20021\n",
      "[99]\tvalidation_0-auc:0.68656\tvalidation_0-logloss:0.48646\tvalidation_0-error:0.20021\n",
      "[100]\tvalidation_0-auc:0.68638\tvalidation_0-logloss:0.48607\tvalidation_0-error:0.20021\n",
      "[101]\tvalidation_0-auc:0.68651\tvalidation_0-logloss:0.48565\tvalidation_0-error:0.20021\n",
      "[102]\tvalidation_0-auc:0.68632\tvalidation_0-logloss:0.48530\tvalidation_0-error:0.20021\n",
      "[103]\tvalidation_0-auc:0.68622\tvalidation_0-logloss:0.48494\tvalidation_0-error:0.20021\n",
      "[104]\tvalidation_0-auc:0.68641\tvalidation_0-logloss:0.48456\tvalidation_0-error:0.20021\n",
      "[105]\tvalidation_0-auc:0.68648\tvalidation_0-logloss:0.48420\tvalidation_0-error:0.19986\n",
      "[106]\tvalidation_0-auc:0.68651\tvalidation_0-logloss:0.48388\tvalidation_0-error:0.19986\n",
      "[107]\tvalidation_0-auc:0.68656\tvalidation_0-logloss:0.48356\tvalidation_0-error:0.19951\n",
      "[108]\tvalidation_0-auc:0.68662\tvalidation_0-logloss:0.48324\tvalidation_0-error:0.19951\n",
      "[109]\tvalidation_0-auc:0.68673\tvalidation_0-logloss:0.48291\tvalidation_0-error:0.19951\n",
      "[110]\tvalidation_0-auc:0.68679\tvalidation_0-logloss:0.48260\tvalidation_0-error:0.19951\n",
      "[111]\tvalidation_0-auc:0.68671\tvalidation_0-logloss:0.48231\tvalidation_0-error:0.19951\n",
      "[112]\tvalidation_0-auc:0.68659\tvalidation_0-logloss:0.48206\tvalidation_0-error:0.19986\n",
      "[113]\tvalidation_0-auc:0.68658\tvalidation_0-logloss:0.48178\tvalidation_0-error:0.19986\n",
      "[114]\tvalidation_0-auc:0.68669\tvalidation_0-logloss:0.48148\tvalidation_0-error:0.19951\n",
      "[115]\tvalidation_0-auc:0.68733\tvalidation_0-logloss:0.48116\tvalidation_0-error:0.19986\n",
      "[116]\tvalidation_0-auc:0.68737\tvalidation_0-logloss:0.48088\tvalidation_0-error:0.19986\n",
      "[117]\tvalidation_0-auc:0.68731\tvalidation_0-logloss:0.48063\tvalidation_0-error:0.19986\n",
      "[118]\tvalidation_0-auc:0.68741\tvalidation_0-logloss:0.48038\tvalidation_0-error:0.19986\n",
      "[119]\tvalidation_0-auc:0.68758\tvalidation_0-logloss:0.48012\tvalidation_0-error:0.19986\n",
      "[120]\tvalidation_0-auc:0.68722\tvalidation_0-logloss:0.47993\tvalidation_0-error:0.19986\n",
      "[121]\tvalidation_0-auc:0.68724\tvalidation_0-logloss:0.47969\tvalidation_0-error:0.19951\n",
      "[122]\tvalidation_0-auc:0.68701\tvalidation_0-logloss:0.47947\tvalidation_0-error:0.19951\n",
      "[123]\tvalidation_0-auc:0.68696\tvalidation_0-logloss:0.47928\tvalidation_0-error:0.19951\n",
      "[124]\tvalidation_0-auc:0.68701\tvalidation_0-logloss:0.47907\tvalidation_0-error:0.19951\n",
      "[125]\tvalidation_0-auc:0.68712\tvalidation_0-logloss:0.47887\tvalidation_0-error:0.19951\n",
      "[126]\tvalidation_0-auc:0.68675\tvalidation_0-logloss:0.47871\tvalidation_0-error:0.19951\n",
      "[127]\tvalidation_0-auc:0.68665\tvalidation_0-logloss:0.47854\tvalidation_0-error:0.19951\n",
      "[128]\tvalidation_0-auc:0.68683\tvalidation_0-logloss:0.47834\tvalidation_0-error:0.19951\n",
      "[129]\tvalidation_0-auc:0.68651\tvalidation_0-logloss:0.47819\tvalidation_0-error:0.19951\n"
     ]
    },
    {
     "data": {
      "text/plain": [
       "XGBClassifier(base_score=0.5, booster='gbtree', colsample_bylevel=1,\n",
       "              colsample_bynode=1, colsample_bytree=0.65,\n",
       "              enable_categorical=False, eta=0.015,\n",
       "              eval_metric=['auc', 'logloss', 'error'], gamma=1.25, gpu_id=-1,\n",
       "              importance_type=None, interaction_constraints='',\n",
       "              learning_rate=0.0149999997, max_delta_step=0, max_depth=6,\n",
       "              min_child_weight=30, missing=nan, monotone_constraints='()',\n",
       "              n_estimators=130, n_jobs=12, num_parallel_tree=1,\n",
       "              predictor='auto', random_state=123, reg_alpha=0, reg_lambda=1,\n",
       "              scale_pos_weight=1, subsample=1, tree_method='exact',\n",
       "              validate_parameters=1, verbosity=None)"
      ]
     },
     "execution_count": 234,
     "metadata": {},
     "output_type": "execute_result"
    }
   ],
   "source": [
    "model1 = xgb.XGBClassifier(objective='binary:logistic', n_estimators=130, max_depth=6, gamma=1.25, eta=0.015,\n",
    "                          min_child_weight=30, colsample_bytree=0.65, \n",
    "                          random_state=123, eval_metric=[\"auc\", \"logloss\", \"error\"])\n",
    "model1.fit(X_train, y_train, eval_set=[(X_test, y_test)])"
   ]
  },
  {
   "cell_type": "code",
   "execution_count": 235,
   "id": "4f3c1421",
   "metadata": {},
   "outputs": [
    {
     "name": "stdout",
     "output_type": "stream",
     "text": [
      "[0]\tvalidation_0-auc:0.67275\tvalidation_0-logloss:0.68763\tvalidation_0-error:0.20055\n",
      "[1]\tvalidation_0-auc:0.67289\tvalidation_0-logloss:0.68224\tvalidation_0-error:0.20055\n",
      "[2]\tvalidation_0-auc:0.67717\tvalidation_0-logloss:0.67699\tvalidation_0-error:0.20055\n",
      "[3]\tvalidation_0-auc:0.68261\tvalidation_0-logloss:0.67204\tvalidation_0-error:0.19951\n",
      "[4]\tvalidation_0-auc:0.68272\tvalidation_0-logloss:0.66711\tvalidation_0-error:0.20055\n",
      "[5]\tvalidation_0-auc:0.68178\tvalidation_0-logloss:0.66229\tvalidation_0-error:0.19951\n",
      "[6]\tvalidation_0-auc:0.68245\tvalidation_0-logloss:0.65766\tvalidation_0-error:0.20263\n",
      "[7]\tvalidation_0-auc:0.68317\tvalidation_0-logloss:0.65315\tvalidation_0-error:0.20402\n",
      "[8]\tvalidation_0-auc:0.68349\tvalidation_0-logloss:0.64887\tvalidation_0-error:0.20263\n",
      "[9]\tvalidation_0-auc:0.68449\tvalidation_0-logloss:0.64462\tvalidation_0-error:0.20367\n",
      "[10]\tvalidation_0-auc:0.68478\tvalidation_0-logloss:0.64049\tvalidation_0-error:0.20402\n",
      "[11]\tvalidation_0-auc:0.68505\tvalidation_0-logloss:0.63644\tvalidation_0-error:0.20402\n",
      "[12]\tvalidation_0-auc:0.68414\tvalidation_0-logloss:0.63253\tvalidation_0-error:0.20402\n",
      "[13]\tvalidation_0-auc:0.68483\tvalidation_0-logloss:0.62870\tvalidation_0-error:0.20402\n",
      "[14]\tvalidation_0-auc:0.68513\tvalidation_0-logloss:0.62495\tvalidation_0-error:0.20402\n",
      "[15]\tvalidation_0-auc:0.68386\tvalidation_0-logloss:0.62133\tvalidation_0-error:0.20367\n",
      "[16]\tvalidation_0-auc:0.68505\tvalidation_0-logloss:0.61777\tvalidation_0-error:0.20367\n",
      "[17]\tvalidation_0-auc:0.68481\tvalidation_0-logloss:0.61431\tvalidation_0-error:0.20436\n",
      "[18]\tvalidation_0-auc:0.68468\tvalidation_0-logloss:0.61095\tvalidation_0-error:0.20436\n",
      "[19]\tvalidation_0-auc:0.68340\tvalidation_0-logloss:0.60769\tvalidation_0-error:0.20436\n",
      "[20]\tvalidation_0-auc:0.68310\tvalidation_0-logloss:0.60450\tvalidation_0-error:0.20471\n",
      "[21]\tvalidation_0-auc:0.68345\tvalidation_0-logloss:0.60137\tvalidation_0-error:0.20471\n",
      "[22]\tvalidation_0-auc:0.68325\tvalidation_0-logloss:0.59839\tvalidation_0-error:0.20402\n",
      "[23]\tvalidation_0-auc:0.68416\tvalidation_0-logloss:0.59541\tvalidation_0-error:0.20436\n",
      "[24]\tvalidation_0-auc:0.68501\tvalidation_0-logloss:0.59256\tvalidation_0-error:0.20471\n",
      "[25]\tvalidation_0-auc:0.68531\tvalidation_0-logloss:0.58975\tvalidation_0-error:0.20436\n",
      "[26]\tvalidation_0-auc:0.68577\tvalidation_0-logloss:0.58699\tvalidation_0-error:0.20367\n",
      "[27]\tvalidation_0-auc:0.68645\tvalidation_0-logloss:0.58427\tvalidation_0-error:0.19744\n",
      "[28]\tvalidation_0-auc:0.68675\tvalidation_0-logloss:0.58169\tvalidation_0-error:0.19744\n",
      "[29]\tvalidation_0-auc:0.68590\tvalidation_0-logloss:0.57917\tvalidation_0-error:0.19674\n",
      "[30]\tvalidation_0-auc:0.68591\tvalidation_0-logloss:0.57670\tvalidation_0-error:0.19640\n",
      "[31]\tvalidation_0-auc:0.68566\tvalidation_0-logloss:0.57429\tvalidation_0-error:0.20298\n",
      "[32]\tvalidation_0-auc:0.68611\tvalidation_0-logloss:0.57195\tvalidation_0-error:0.20263\n",
      "[33]\tvalidation_0-auc:0.68735\tvalidation_0-logloss:0.56963\tvalidation_0-error:0.19813\n",
      "[34]\tvalidation_0-auc:0.68821\tvalidation_0-logloss:0.56741\tvalidation_0-error:0.20125\n",
      "[35]\tvalidation_0-auc:0.68820\tvalidation_0-logloss:0.56520\tvalidation_0-error:0.19744\n",
      "[36]\tvalidation_0-auc:0.68875\tvalidation_0-logloss:0.56307\tvalidation_0-error:0.19778\n",
      "[37]\tvalidation_0-auc:0.68825\tvalidation_0-logloss:0.56102\tvalidation_0-error:0.20194\n",
      "[38]\tvalidation_0-auc:0.68895\tvalidation_0-logloss:0.55901\tvalidation_0-error:0.20159\n",
      "[39]\tvalidation_0-auc:0.68861\tvalidation_0-logloss:0.55708\tvalidation_0-error:0.20194\n",
      "[40]\tvalidation_0-auc:0.68915\tvalidation_0-logloss:0.55515\tvalidation_0-error:0.20194\n",
      "[41]\tvalidation_0-auc:0.68874\tvalidation_0-logloss:0.55332\tvalidation_0-error:0.20159\n",
      "[42]\tvalidation_0-auc:0.68901\tvalidation_0-logloss:0.55149\tvalidation_0-error:0.20194\n",
      "[43]\tvalidation_0-auc:0.68911\tvalidation_0-logloss:0.54972\tvalidation_0-error:0.20263\n",
      "[44]\tvalidation_0-auc:0.68846\tvalidation_0-logloss:0.54798\tvalidation_0-error:0.20194\n",
      "[45]\tvalidation_0-auc:0.68884\tvalidation_0-logloss:0.54629\tvalidation_0-error:0.20194\n",
      "[46]\tvalidation_0-auc:0.68850\tvalidation_0-logloss:0.54463\tvalidation_0-error:0.20194\n",
      "[47]\tvalidation_0-auc:0.68858\tvalidation_0-logloss:0.54301\tvalidation_0-error:0.20194\n",
      "[48]\tvalidation_0-auc:0.68856\tvalidation_0-logloss:0.54143\tvalidation_0-error:0.20194\n",
      "[49]\tvalidation_0-auc:0.68844\tvalidation_0-logloss:0.53991\tvalidation_0-error:0.20194\n",
      "[50]\tvalidation_0-auc:0.68839\tvalidation_0-logloss:0.53834\tvalidation_0-error:0.19744\n",
      "[51]\tvalidation_0-auc:0.68787\tvalidation_0-logloss:0.53679\tvalidation_0-error:0.19605\n",
      "[52]\tvalidation_0-auc:0.68792\tvalidation_0-logloss:0.53527\tvalidation_0-error:0.19570\n",
      "[53]\tvalidation_0-auc:0.68793\tvalidation_0-logloss:0.53381\tvalidation_0-error:0.19570\n",
      "[54]\tvalidation_0-auc:0.68778\tvalidation_0-logloss:0.53239\tvalidation_0-error:0.19605\n",
      "[55]\tvalidation_0-auc:0.68731\tvalidation_0-logloss:0.53107\tvalidation_0-error:0.19674\n",
      "[56]\tvalidation_0-auc:0.68737\tvalidation_0-logloss:0.52971\tvalidation_0-error:0.19674\n",
      "[57]\tvalidation_0-auc:0.68733\tvalidation_0-logloss:0.52839\tvalidation_0-error:0.19744\n",
      "[58]\tvalidation_0-auc:0.68707\tvalidation_0-logloss:0.52710\tvalidation_0-error:0.19709\n",
      "[59]\tvalidation_0-auc:0.68616\tvalidation_0-logloss:0.52593\tvalidation_0-error:0.19709\n",
      "[60]\tvalidation_0-auc:0.68554\tvalidation_0-logloss:0.52475\tvalidation_0-error:0.19744\n",
      "[61]\tvalidation_0-auc:0.68482\tvalidation_0-logloss:0.52356\tvalidation_0-error:0.19744\n",
      "[62]\tvalidation_0-auc:0.68425\tvalidation_0-logloss:0.52240\tvalidation_0-error:0.19709\n",
      "[63]\tvalidation_0-auc:0.68431\tvalidation_0-logloss:0.52127\tvalidation_0-error:0.19778\n",
      "[64]\tvalidation_0-auc:0.68442\tvalidation_0-logloss:0.52015\tvalidation_0-error:0.19674\n",
      "[65]\tvalidation_0-auc:0.68431\tvalidation_0-logloss:0.51906\tvalidation_0-error:0.19744\n",
      "[66]\tvalidation_0-auc:0.68481\tvalidation_0-logloss:0.51797\tvalidation_0-error:0.19674\n",
      "[67]\tvalidation_0-auc:0.68475\tvalidation_0-logloss:0.51693\tvalidation_0-error:0.19674\n",
      "[68]\tvalidation_0-auc:0.68496\tvalidation_0-logloss:0.51597\tvalidation_0-error:0.19744\n",
      "[69]\tvalidation_0-auc:0.68467\tvalidation_0-logloss:0.51502\tvalidation_0-error:0.19813\n",
      "[70]\tvalidation_0-auc:0.68479\tvalidation_0-logloss:0.51403\tvalidation_0-error:0.19813\n",
      "[71]\tvalidation_0-auc:0.68477\tvalidation_0-logloss:0.51310\tvalidation_0-error:0.19813\n",
      "[72]\tvalidation_0-auc:0.68510\tvalidation_0-logloss:0.51220\tvalidation_0-error:0.19813\n",
      "[73]\tvalidation_0-auc:0.68512\tvalidation_0-logloss:0.51136\tvalidation_0-error:0.19813\n",
      "[74]\tvalidation_0-auc:0.68523\tvalidation_0-logloss:0.51047\tvalidation_0-error:0.19813\n",
      "[75]\tvalidation_0-auc:0.68544\tvalidation_0-logloss:0.50962\tvalidation_0-error:0.19813\n",
      "[76]\tvalidation_0-auc:0.68555\tvalidation_0-logloss:0.50881\tvalidation_0-error:0.19813\n",
      "[77]\tvalidation_0-auc:0.68569\tvalidation_0-logloss:0.50806\tvalidation_0-error:0.19848\n",
      "[78]\tvalidation_0-auc:0.68571\tvalidation_0-logloss:0.50723\tvalidation_0-error:0.19848\n",
      "[79]\tvalidation_0-auc:0.68603\tvalidation_0-logloss:0.50644\tvalidation_0-error:0.19848\n",
      "[80]\tvalidation_0-auc:0.68599\tvalidation_0-logloss:0.50568\tvalidation_0-error:0.19848\n",
      "[81]\tvalidation_0-auc:0.68615\tvalidation_0-logloss:0.50496\tvalidation_0-error:0.19848\n",
      "[82]\tvalidation_0-auc:0.68630\tvalidation_0-logloss:0.50426\tvalidation_0-error:0.19848\n",
      "[83]\tvalidation_0-auc:0.68637\tvalidation_0-logloss:0.50353\tvalidation_0-error:0.19848\n",
      "[84]\tvalidation_0-auc:0.68719\tvalidation_0-logloss:0.50281\tvalidation_0-error:0.19848\n",
      "[85]\tvalidation_0-auc:0.68738\tvalidation_0-logloss:0.50218\tvalidation_0-error:0.19882\n",
      "[86]\tvalidation_0-auc:0.68719\tvalidation_0-logloss:0.50154\tvalidation_0-error:0.19917\n",
      "[87]\tvalidation_0-auc:0.68716\tvalidation_0-logloss:0.50088\tvalidation_0-error:0.19917\n",
      "[88]\tvalidation_0-auc:0.68715\tvalidation_0-logloss:0.50028\tvalidation_0-error:0.19882\n",
      "[89]\tvalidation_0-auc:0.68750\tvalidation_0-logloss:0.49965\tvalidation_0-error:0.19882\n",
      "[90]\tvalidation_0-auc:0.68761\tvalidation_0-logloss:0.49907\tvalidation_0-error:0.19882\n",
      "[91]\tvalidation_0-auc:0.68752\tvalidation_0-logloss:0.49849\tvalidation_0-error:0.19917\n",
      "[92]\tvalidation_0-auc:0.68706\tvalidation_0-logloss:0.49797\tvalidation_0-error:0.19917\n",
      "[93]\tvalidation_0-auc:0.68651\tvalidation_0-logloss:0.49744\tvalidation_0-error:0.19917\n",
      "[94]\tvalidation_0-auc:0.68639\tvalidation_0-logloss:0.49694\tvalidation_0-error:0.19917\n",
      "[95]\tvalidation_0-auc:0.68705\tvalidation_0-logloss:0.49638\tvalidation_0-error:0.19917\n"
     ]
    },
    {
     "name": "stdout",
     "output_type": "stream",
     "text": [
      "[96]\tvalidation_0-auc:0.68711\tvalidation_0-logloss:0.49586\tvalidation_0-error:0.20021\n",
      "[97]\tvalidation_0-auc:0.68763\tvalidation_0-logloss:0.49534\tvalidation_0-error:0.19986\n",
      "[98]\tvalidation_0-auc:0.68745\tvalidation_0-logloss:0.49486\tvalidation_0-error:0.19986\n",
      "[99]\tvalidation_0-auc:0.68756\tvalidation_0-logloss:0.49436\tvalidation_0-error:0.19951\n",
      "[100]\tvalidation_0-auc:0.68734\tvalidation_0-logloss:0.49392\tvalidation_0-error:0.20021\n",
      "[101]\tvalidation_0-auc:0.68767\tvalidation_0-logloss:0.49346\tvalidation_0-error:0.20125\n",
      "[102]\tvalidation_0-auc:0.68777\tvalidation_0-logloss:0.49301\tvalidation_0-error:0.20125\n",
      "[103]\tvalidation_0-auc:0.68800\tvalidation_0-logloss:0.49257\tvalidation_0-error:0.20125\n",
      "[104]\tvalidation_0-auc:0.68825\tvalidation_0-logloss:0.49214\tvalidation_0-error:0.20159\n",
      "[105]\tvalidation_0-auc:0.68833\tvalidation_0-logloss:0.49171\tvalidation_0-error:0.20090\n",
      "[106]\tvalidation_0-auc:0.68844\tvalidation_0-logloss:0.49133\tvalidation_0-error:0.20090\n",
      "[107]\tvalidation_0-auc:0.68889\tvalidation_0-logloss:0.49092\tvalidation_0-error:0.20090\n",
      "[108]\tvalidation_0-auc:0.68900\tvalidation_0-logloss:0.49054\tvalidation_0-error:0.20090\n",
      "[109]\tvalidation_0-auc:0.68902\tvalidation_0-logloss:0.49014\tvalidation_0-error:0.20125\n",
      "[110]\tvalidation_0-auc:0.68898\tvalidation_0-logloss:0.48976\tvalidation_0-error:0.20055\n",
      "[111]\tvalidation_0-auc:0.68934\tvalidation_0-logloss:0.48941\tvalidation_0-error:0.20090\n",
      "[112]\tvalidation_0-auc:0.68879\tvalidation_0-logloss:0.48910\tvalidation_0-error:0.20090\n",
      "[113]\tvalidation_0-auc:0.68872\tvalidation_0-logloss:0.48876\tvalidation_0-error:0.20125\n",
      "[114]\tvalidation_0-auc:0.68848\tvalidation_0-logloss:0.48841\tvalidation_0-error:0.20090\n",
      "[115]\tvalidation_0-auc:0.68900\tvalidation_0-logloss:0.48805\tvalidation_0-error:0.20125\n",
      "[116]\tvalidation_0-auc:0.68899\tvalidation_0-logloss:0.48771\tvalidation_0-error:0.20125\n",
      "[117]\tvalidation_0-auc:0.68905\tvalidation_0-logloss:0.48740\tvalidation_0-error:0.20125\n",
      "[118]\tvalidation_0-auc:0.68922\tvalidation_0-logloss:0.48708\tvalidation_0-error:0.20125\n",
      "[119]\tvalidation_0-auc:0.68929\tvalidation_0-logloss:0.48675\tvalidation_0-error:0.20055\n",
      "[120]\tvalidation_0-auc:0.68900\tvalidation_0-logloss:0.48650\tvalidation_0-error:0.20055\n",
      "[121]\tvalidation_0-auc:0.68909\tvalidation_0-logloss:0.48620\tvalidation_0-error:0.20125\n",
      "[122]\tvalidation_0-auc:0.68917\tvalidation_0-logloss:0.48593\tvalidation_0-error:0.20159\n",
      "[123]\tvalidation_0-auc:0.68894\tvalidation_0-logloss:0.48566\tvalidation_0-error:0.20090\n",
      "[124]\tvalidation_0-auc:0.68914\tvalidation_0-logloss:0.48540\tvalidation_0-error:0.20090\n",
      "[125]\tvalidation_0-auc:0.68930\tvalidation_0-logloss:0.48517\tvalidation_0-error:0.20125\n",
      "[126]\tvalidation_0-auc:0.68900\tvalidation_0-logloss:0.48493\tvalidation_0-error:0.20055\n",
      "[127]\tvalidation_0-auc:0.68876\tvalidation_0-logloss:0.48469\tvalidation_0-error:0.20125\n",
      "[128]\tvalidation_0-auc:0.68842\tvalidation_0-logloss:0.48447\tvalidation_0-error:0.20021\n",
      "[129]\tvalidation_0-auc:0.68812\tvalidation_0-logloss:0.48425\tvalidation_0-error:0.20055\n"
     ]
    },
    {
     "data": {
      "text/plain": [
       "XGBClassifier(base_score=0.5, booster='gbtree', colsample_bylevel=1,\n",
       "              colsample_bynode=1, colsample_bytree=0.65,\n",
       "              enable_categorical=False, eta=0.015,\n",
       "              eval_metric=['auc', 'logloss', 'error'], gamma=1.25, gpu_id=-1,\n",
       "              importance_type=None, interaction_constraints='',\n",
       "              learning_rate=0.0149999997, max_delta_step=0, max_depth=6,\n",
       "              min_child_weight=30, missing=nan, monotone_constraints='()',\n",
       "              n_estimators=130, n_jobs=12, num_parallel_tree=1,\n",
       "              predictor='auto', random_state=123, reg_alpha=0, reg_lambda=1,\n",
       "              scale_pos_weight=0.8, subsample=1, tree_method='exact',\n",
       "              validate_parameters=1, verbosity=None)"
      ]
     },
     "execution_count": 235,
     "metadata": {},
     "output_type": "execute_result"
    }
   ],
   "source": [
    "model2 = xgb.XGBClassifier(objective='binary:logistic', n_estimators=130, max_depth=6, gamma=1.25, eta=0.015,\n",
    "                          min_child_weight=30, colsample_bytree=0.65, scale_pos_weight=0.8,\n",
    "                          random_state=123, eval_metric=[\"auc\", \"logloss\", \"error\"])\n",
    "model2.fit(X_train, y_train, eval_set=[(X_test, y_test)])"
   ]
  },
  {
   "cell_type": "code",
   "execution_count": 216,
   "id": "fd60cb85",
   "metadata": {},
   "outputs": [
    {
     "data": {
      "text/plain": [
       "<AxesSubplot:>"
      ]
     },
     "execution_count": 216,
     "metadata": {},
     "output_type": "execute_result"
    },
    {
     "data": {
      "image/png": "[encoded data removed]",
      "text/plain": [
       "<Figure size 432x288 with 1 Axes>"
      ]
     },
     "metadata": {
      "needs_background": "light"
     },
     "output_type": "display_data"
    }
   ],
   "source": [
    "fu_dict = dict(zip(X_train.columns, model1.feature_importances_))\n",
    "fi = pd.DataFrame(fu_dict.values(), index=fu_dict.keys(), columns=[\"importance\"])\n",
    "fi = fi.sort_values(by=\"importance\", ascending=False)\n",
    "\n",
    "fi.plot.bar()"
   ]
  },
  {
   "cell_type": "code",
   "execution_count": 217,
   "id": "b08d57a7",
   "metadata": {},
   "outputs": [],
   "source": [
    "fi.to_csv(\"feature_importance.csv\")"
   ]
  },
  {
   "cell_type": "code",
   "execution_count": 236,
   "id": "ff8a7a70",
   "metadata": {},
   "outputs": [
    {
     "data": {
      "text/plain": [
       "array([[ 150,  489],\n",
       "       [  87, 2161]])"
      ]
     },
     "execution_count": 236,
     "metadata": {},
     "output_type": "execute_result"
    }
   ],
   "source": [
    "y_pred1 = model1.predict(X_test)\n",
    "confusion_matrix(y_test, y_pred1)"
   ]
  },
  {
   "cell_type": "code",
   "execution_count": 237,
   "id": "2d85978f",
   "metadata": {},
   "outputs": [
    {
     "data": {
      "text/plain": [
       "array([[ 156,  483],\n",
       "       [  96, 2152]])"
      ]
     },
     "execution_count": 237,
     "metadata": {},
     "output_type": "execute_result"
    }
   ],
   "source": [
    "y_pred2 = model2.predict(X_test)\n",
    "confusion_matrix(y_test, y_pred2)"
   ]
  },
  {
   "cell_type": "code",
   "execution_count": 238,
   "id": "55f7e0eb",
   "metadata": {},
   "outputs": [],
   "source": [
    "y_pred_proba = model1.predict_proba(X_test)[:,1]\n",
    "predict_mine = np.where(y_pred_proba > 0.75, 1, 0)\n",
    "cm1 = confusion_matrix(y_test, predict_mine)"
   ]
  },
  {
   "cell_type": "code",
   "execution_count": 239,
   "id": "83ea3557",
   "metadata": {},
   "outputs": [],
   "source": [
    "y_pred_proba = model2.predict_proba(X_test)[:,1]\n",
    "predict_mine = np.where(y_pred_proba > 0.75, 1, 0)\n",
    "cm2 = confusion_matrix(y_test, predict_mine)"
   ]
  },
  {
   "cell_type": "code",
   "execution_count": 240,
   "id": "2a080435",
   "metadata": {},
   "outputs": [
    {
     "data": {
      "text/plain": [
       "(0.8004849324558365, 0.799445791479044)"
      ]
     },
     "execution_count": 240,
     "metadata": {},
     "output_type": "execute_result"
    }
   ],
   "source": [
    "metrics.accuracy_score(y_test, y_pred1), metrics.accuracy_score(y_test, y_pred2)"
   ]
  },
  {
   "cell_type": "code",
   "execution_count": 241,
   "id": "2a85372f",
   "metadata": {},
   "outputs": [
    {
     "data": {
      "text/plain": [
       "(0.8391521197007481, 0.8465160075329566)"
      ]
     },
     "execution_count": 241,
     "metadata": {},
     "output_type": "execute_result"
    }
   ],
   "source": [
    "cm1[1][1]/(cm1[1][1]+cm1[0][1]), cm2[1][1]/(cm2[1][1]+cm2[0][1])"
   ]
  },
  {
   "cell_type": "code",
   "execution_count": 242,
   "id": "7e46167a",
   "metadata": {},
   "outputs": [
    {
     "data": {
      "text/plain": [
       "(83.33910633875996, 73.5711811569103)"
      ]
     },
     "execution_count": 242,
     "metadata": {},
     "output_type": "execute_result"
    }
   ],
   "source": [
    "(cm1[1][1]+cm1[0][1])/len(y_test)*100, (cm2[1][1]+cm2[0][1])/len(y_test)*100"
   ]
  },
  {
   "cell_type": "markdown",
   "id": "bd2cf07a",
   "metadata": {},
   "source": [
    "# VALIDATION - BEST MODEL --> 70% accuracy in 17% of matches"
   ]
  },
  {
   "cell_type": "code",
   "execution_count": 243,
   "id": "31566b6c",
   "metadata": {},
   "outputs": [
    {
     "data": {
      "text/plain": [
       "array([[  81,  305],\n",
       "       [  44, 1302]])"
      ]
     },
     "execution_count": 243,
     "metadata": {},
     "output_type": "execute_result"
    }
   ],
   "source": [
    "y_pred = model1.predict(X_validation)\n",
    "confusion_matrix(y_validation, y_pred)"
   ]
  },
  {
   "cell_type": "code",
   "execution_count": 244,
   "id": "960fa297",
   "metadata": {},
   "outputs": [
    {
     "data": {
      "text/plain": [
       "0.7984988452655889"
      ]
     },
     "execution_count": 244,
     "metadata": {},
     "output_type": "execute_result"
    }
   ],
   "source": [
    "metrics.accuracy_score(y_validation, y_pred)"
   ]
  },
  {
   "cell_type": "code",
   "execution_count": 245,
   "id": "e849fc15",
   "metadata": {},
   "outputs": [],
   "source": [
    "y_pred_proba = model1.predict_proba(X_validation)[:,1]\n",
    "predict_mine = np.where(y_pred_proba > 0.665, 1, 0)\n",
    "cm1 = confusion_matrix(y_validation, predict_mine)"
   ]
  },
  {
   "cell_type": "code",
   "execution_count": 246,
   "id": "9fe60820",
   "metadata": {},
   "outputs": [],
   "source": [
    "y_pred_proba = model2.predict_proba(X_validation)[:,1]\n",
    "predict_mine = np.where(y_pred_proba > 0.62, 1, 0)\n",
    "cm2=confusion_matrix(y_validation, predict_mine)"
   ]
  },
  {
   "cell_type": "code",
   "execution_count": 247,
   "id": "8792d422",
   "metadata": {},
   "outputs": [
    {
     "data": {
      "text/plain": [
       "(0.829219479653102, 0.8301260783012607)"
      ]
     },
     "execution_count": 247,
     "metadata": {},
     "output_type": "execute_result"
    }
   ],
   "source": [
    "cm1[1][1]/(cm1[1][1]+cm1[0][1]), cm2[1][1]/(cm2[1][1]+cm2[0][1])"
   ]
  },
  {
   "cell_type": "code",
   "execution_count": 248,
   "id": "e19d4fb4",
   "metadata": {},
   "outputs": [
    {
     "data": {
      "text/plain": [
       "(86.54734411085451, 87.00923787528868)"
      ]
     },
     "execution_count": 248,
     "metadata": {},
     "output_type": "execute_result"
    }
   ],
   "source": [
    "(cm1[1][1]+cm1[0][1])/len(y_validation)*100, (cm2[1][1]+cm2[0][1])/len(y_validation)*100"
   ]
  },
  {
   "cell_type": "code",
   "execution_count": null,
   "id": "dbd587ba",
   "metadata": {},
   "outputs": [],
   "source": []
  },
  {
   "cell_type": "code",
   "execution_count": null,
   "id": "eb67a68e",
   "metadata": {},
   "outputs": [],
   "source": []
  },
  {
   "cell_type": "markdown",
   "id": "ad7f885b",
   "metadata": {},
   "source": [
    "## FINAL VALIDATION - NOVEMBER 2021"
   ]
  },
  {
   "cell_type": "code",
   "execution_count": 249,
   "id": "1a51fe2b",
   "metadata": {},
   "outputs": [],
   "source": [
    "y_validation_november = X_validation_november.pop(\"output\")"
   ]
  },
  {
   "cell_type": "code",
   "execution_count": 250,
   "id": "2ff81e36",
   "metadata": {},
   "outputs": [
    {
     "data": {
      "text/plain": [
       "array([[ 2, 20],\n",
       "       [ 2, 80]])"
      ]
     },
     "execution_count": 250,
     "metadata": {},
     "output_type": "execute_result"
    }
   ],
   "source": [
    "y_pred = model1.predict(X_validation_november)\n",
    "confusion_matrix(y_validation_november, y_pred)"
   ]
  },
  {
   "cell_type": "code",
   "execution_count": 251,
   "id": "6d5e72bf",
   "metadata": {},
   "outputs": [
    {
     "data": {
      "text/plain": [
       "0.7884615384615384"
      ]
     },
     "execution_count": 251,
     "metadata": {},
     "output_type": "execute_result"
    }
   ],
   "source": [
    "metrics.accuracy_score(y_validation_november, y_pred)"
   ]
  },
  {
   "cell_type": "code",
   "execution_count": 252,
   "id": "5390bd2e",
   "metadata": {},
   "outputs": [
    {
     "data": {
      "text/plain": [
       "array([[ 2, 20],\n",
       "       [ 2, 80]])"
      ]
     },
     "execution_count": 252,
     "metadata": {},
     "output_type": "execute_result"
    }
   ],
   "source": [
    "y_pred = model2.predict(X_validation_november)\n",
    "confusion_matrix(y_validation_november, y_pred)"
   ]
  },
  {
   "cell_type": "code",
   "execution_count": 253,
   "id": "2d03aa59",
   "metadata": {},
   "outputs": [
    {
     "data": {
      "text/plain": [
       "0.7884615384615384"
      ]
     },
     "execution_count": 253,
     "metadata": {},
     "output_type": "execute_result"
    }
   ],
   "source": [
    "metrics.accuracy_score(y_validation_november, y_pred)"
   ]
  },
  {
   "cell_type": "code",
   "execution_count": 254,
   "id": "2bd44841",
   "metadata": {},
   "outputs": [],
   "source": [
    "y_pred_proba = model1.predict_proba(X_validation_november)[:,1]\n",
    "predict_mine = np.where(y_pred_proba > 0.665, 1, 0)\n",
    "cm1 = confusion_matrix(y_validation_november, predict_mine)\n",
    "\n",
    "y_pred_proba = model2.predict_proba(X_validation_november)[:,1]\n",
    "predict_mine = np.where(y_pred_proba > 0.62, 1, 0)\n",
    "cm2=confusion_matrix(y_validation_november, predict_mine)"
   ]
  },
  {
   "cell_type": "code",
   "execution_count": 255,
   "id": "b0f47d24",
   "metadata": {},
   "outputs": [
    {
     "data": {
      "text/plain": [
       "array([[ 6, 16],\n",
       "       [ 2, 80]])"
      ]
     },
     "execution_count": 255,
     "metadata": {},
     "output_type": "execute_result"
    }
   ],
   "source": [
    "cm1"
   ]
  },
  {
   "cell_type": "code",
   "execution_count": 256,
   "id": "e8e63e38",
   "metadata": {},
   "outputs": [
    {
     "data": {
      "text/plain": [
       "array([[ 6, 16],\n",
       "       [ 2, 80]])"
      ]
     },
     "execution_count": 256,
     "metadata": {},
     "output_type": "execute_result"
    }
   ],
   "source": [
    "cm2"
   ]
  },
  {
   "cell_type": "code",
   "execution_count": 257,
   "id": "8c44788e",
   "metadata": {},
   "outputs": [
    {
     "data": {
      "text/plain": [
       "(0.8333333333333334, 0.8333333333333334)"
      ]
     },
     "execution_count": 257,
     "metadata": {},
     "output_type": "execute_result"
    }
   ],
   "source": [
    "cm1[1][1]/(cm1[1][1]+cm1[0][1]), cm2[1][1]/(cm2[1][1]+cm2[0][1])"
   ]
  },
  {
   "cell_type": "code",
   "execution_count": 258,
   "id": "9f8859f0",
   "metadata": {},
   "outputs": [
    {
     "data": {
      "text/plain": [
       "(92.3076923076923, 92.3076923076923)"
      ]
     },
     "execution_count": 258,
     "metadata": {},
     "output_type": "execute_result"
    }
   ],
   "source": [
    "(cm1[1][1]+cm1[0][1])/len(y_validation_november)*100, (cm2[1][1]+cm2[0][1])/len(y_validation_november)*100"
   ]
  },
  {
   "cell_type": "code",
   "execution_count": null,
   "id": "433abf23",
   "metadata": {},
   "outputs": [],
   "source": []
  }
 ],
 "metadata": {
  "kernelspec": {
   "display_name": "Python 3 (ipykernel)",
   "language": "python",
   "name": "python3"
  },
  "language_info": {
   "codemirror_mode": {
    "name": "ipython",
    "version": 3
   },
   "file_extension": ".py",
   "mimetype": "text/x-python",
   "name": "python",
   "nbconvert_exporter": "python",
   "pygments_lexer": "ipython3",
   "version": "3.7.11"
  }
 },
 "nbformat": 4,
 "nbformat_minor": 5
}
