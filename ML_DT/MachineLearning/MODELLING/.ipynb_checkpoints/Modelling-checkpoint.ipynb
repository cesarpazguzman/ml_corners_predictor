{
 "cells": [
  {
   "cell_type": "code",
   "execution_count": 62,
   "id": "0705929c",
   "metadata": {},
   "outputs": [],
   "source": [
    "import pymysql\n",
    "from sklearn.ensemble import RandomForestClassifier\n",
    "from sqlalchemy import create_engine\n",
    "import pandas as pd\n",
    "import matplotlib.pyplot as plt\n",
    "%matplotlib inline\n",
    "import numpy as np\n",
    "from pandasql import sqldf\n",
    "\n",
    "import xgboost as xgb\n",
    "from sklearn.metrics import accuracy_score, confusion_matrix"
   ]
  },
  {
   "cell_type": "code",
   "execution_count": 663,
   "id": "8c9eb2dc",
   "metadata": {},
   "outputs": [],
   "source": [
    "data = pd.read_csv(\"../FEATURE_ENGINEER/tablon3.csv\")\n",
    "\n",
    "tablon = data[data.YEARMONTH<202111][[\"AVG_CORNERSHOMED1_L3\",\"AVG_CORNERSHOMED2_L5\",\n",
    "                                                         \"AVG_CORNERSAWAYD1_L5\",\"CORNERS_DIV_SHOTS\",\"AVG_CORNERSAWAYD2_L5\",\n",
    "                                                         \"LEAGUE_INGLATERRA\",\"TOTAL_CORNERS\",\"LAST_MINUTECORNER_H_L60\",\n",
    "                                                         \"LEAGUE_ESPANA\",\"CORNERS_DIV_DANGATTACKS\",\n",
    "                                                         \"LAST_MINUTECORNER_A_L60\",\"AVG_CORNERSHOMER2_L5\",\n",
    "                                                         \"AVG_CORNERS_LOSE_HOME\",\"CORNERS_A\",\n",
    "                                                         \"AVG_CORNERSHOMER1_L3\",\"GOALS/DANGATTACKS_L45\",\"ODDS_AWAY\",\n",
    "                                                         \"AVG_CORNERSHOMED1_L5\",\"RANK_HOMELEAGUE_L5\",\n",
    "                                                         \"NUM_MATCHESHOME_POSITIVE_L5\",\"NUM_ATTACKSHOME_L45\",\"DIF_ODDS\",\n",
    "                                                         \"GOALS_A\",\"output\"]]\n",
    "\n",
    "X_validation_november = data[data.YEARMONTH>=202111][[\"AVG_CORNERSHOMED1_L3\",\"AVG_CORNERSHOMED2_L5\",\n",
    "                                                         \"AVG_CORNERSAWAYD1_L5\",\"CORNERS_DIV_SHOTS\",\"AVG_CORNERSAWAYD2_L5\",\n",
    "                                                         \"LEAGUE_INGLATERRA\",\"TOTAL_CORNERS\",\"LAST_MINUTECORNER_H_L60\",\n",
    "                                                         \"LEAGUE_ESPANA\",\"CORNERS_DIV_DANGATTACKS\",\n",
    "                                                         \"LAST_MINUTECORNER_A_L60\",\"AVG_CORNERSHOMER2_L5\",\n",
    "                                                         \"AVG_CORNERS_LOSE_HOME\",\"CORNERS_A\",\n",
    "                                                         \"AVG_CORNERSHOMER1_L3\",\"GOALS/DANGATTACKS_L45\",\"ODDS_AWAY\",\n",
    "                                                         \"AVG_CORNERSHOMED1_L5\",\"RANK_HOMELEAGUE_L5\",\n",
    "                                                         \"NUM_MATCHESHOME_POSITIVE_L5\",\"NUM_ATTACKSHOME_L45\",\"DIF_ODDS\",\n",
    "                                                         \"GOALS_A\",\"output\"]]"
   ]
  },
  {
   "cell_type": "code",
   "execution_count": 664,
   "id": "5ad0b69b",
   "metadata": {},
   "outputs": [],
   "source": [
    "len_test = int(round(len(tablon)*0.25, 0))\n",
    "len_train = int(round(len(tablon)*0.6, 0))"
   ]
  },
  {
   "cell_type": "code",
   "execution_count": 665,
   "id": "b3d8b56c",
   "metadata": {},
   "outputs": [],
   "source": [
    "X_train = tablon[:len_train]\n",
    "y_train = X_train.pop(\"output\")\n",
    "X_test = tablon[len_train:(len_train+len_test)]\n",
    "y_test = X_test.pop(\"output\")\n",
    "X_validation = tablon[(len_train+len_test):]\n",
    "y_validation = X_validation.pop(\"output\")"
   ]
  },
  {
   "cell_type": "code",
   "execution_count": 666,
   "id": "3fe938f9",
   "metadata": {},
   "outputs": [
    {
     "data": {
      "text/plain": [
       "((6928, 23), (2887, 23), (1732, 23))"
      ]
     },
     "execution_count": 666,
     "metadata": {},
     "output_type": "execute_result"
    }
   ],
   "source": [
    "X_train.shape, X_test.shape, X_validation.shape"
   ]
  },
  {
   "cell_type": "code",
   "execution_count": 667,
   "id": "e4371695",
   "metadata": {},
   "outputs": [
    {
     "data": {
      "text/plain": [
       "0    3493\n",
       "1    3435\n",
       "Name: output, dtype: int64"
      ]
     },
     "execution_count": 667,
     "metadata": {},
     "output_type": "execute_result"
    }
   ],
   "source": [
    "y_train.value_counts()"
   ]
  },
  {
   "cell_type": "code",
   "execution_count": 668,
   "id": "f73ee8e1",
   "metadata": {},
   "outputs": [
    {
     "data": {
      "text/plain": [
       "1    1518\n",
       "0    1369\n",
       "Name: output, dtype: int64"
      ]
     },
     "execution_count": 668,
     "metadata": {},
     "output_type": "execute_result"
    }
   ],
   "source": [
    "y_test.value_counts()"
   ]
  },
  {
   "cell_type": "code",
   "execution_count": 669,
   "id": "b178d2af",
   "metadata": {},
   "outputs": [
    {
     "data": {
      "text/plain": [
       "1    943\n",
       "0    789\n",
       "Name: output, dtype: int64"
      ]
     },
     "execution_count": 669,
     "metadata": {},
     "output_type": "execute_result"
    }
   ],
   "source": [
    "y_validation.value_counts()"
   ]
  },
  {
   "cell_type": "markdown",
   "id": "35058c53",
   "metadata": {},
   "source": [
    "## EXECUTING BEST MODEL"
   ]
  },
  {
   "cell_type": "code",
   "execution_count": 670,
   "id": "9353c5e4",
   "metadata": {},
   "outputs": [
    {
     "name": "stdout",
     "output_type": "stream",
     "text": [
      "[0]\tvalidation_0-auc:0.59422\tvalidation_0-logloss:0.69223\tvalidation_0-error:0.43332\n",
      "[1]\tvalidation_0-auc:0.59758\tvalidation_0-logloss:0.69130\tvalidation_0-error:0.42813\n",
      "[2]\tvalidation_0-auc:0.60215\tvalidation_0-logloss:0.69039\tvalidation_0-error:0.42016\n"
     ]
    },
    {
     "name": "stderr",
     "output_type": "stream",
     "text": [
      "/home/root/opt/python3.7.11/lib/python3.7/site-packages/xgboost/sklearn.py:1224: UserWarning: The use of label encoder in XGBClassifier is deprecated and will be removed in a future release. To remove this warning, do the following: 1) Pass option use_label_encoder=False when constructing XGBClassifier object; and 2) Encode your labels (y) as integers starting with 0, i.e. 0, 1, 2, ..., [num_class - 1].\n",
      "  warnings.warn(label_encoder_deprecation_msg, UserWarning)\n"
     ]
    },
    {
     "name": "stdout",
     "output_type": "stream",
     "text": [
      "[3]\tvalidation_0-auc:0.60260\tvalidation_0-logloss:0.68954\tvalidation_0-error:0.42813\n",
      "[4]\tvalidation_0-auc:0.60231\tvalidation_0-logloss:0.68871\tvalidation_0-error:0.41808\n",
      "[5]\tvalidation_0-auc:0.60727\tvalidation_0-logloss:0.68784\tvalidation_0-error:0.41774\n",
      "[6]\tvalidation_0-auc:0.60588\tvalidation_0-logloss:0.68712\tvalidation_0-error:0.42535\n",
      "[7]\tvalidation_0-auc:0.60432\tvalidation_0-logloss:0.68637\tvalidation_0-error:0.42501\n",
      "[8]\tvalidation_0-auc:0.60447\tvalidation_0-logloss:0.68563\tvalidation_0-error:0.42258\n",
      "[9]\tvalidation_0-auc:0.60706\tvalidation_0-logloss:0.68491\tvalidation_0-error:0.42016\n",
      "[10]\tvalidation_0-auc:0.60709\tvalidation_0-logloss:0.68422\tvalidation_0-error:0.42535\n",
      "[11]\tvalidation_0-auc:0.60775\tvalidation_0-logloss:0.68361\tvalidation_0-error:0.41808\n",
      "[12]\tvalidation_0-auc:0.60793\tvalidation_0-logloss:0.68295\tvalidation_0-error:0.41947\n",
      "[13]\tvalidation_0-auc:0.60842\tvalidation_0-logloss:0.68233\tvalidation_0-error:0.41981\n",
      "[14]\tvalidation_0-auc:0.60825\tvalidation_0-logloss:0.68173\tvalidation_0-error:0.42051\n",
      "[15]\tvalidation_0-auc:0.60974\tvalidation_0-logloss:0.68107\tvalidation_0-error:0.42016\n",
      "[16]\tvalidation_0-auc:0.61041\tvalidation_0-logloss:0.68046\tvalidation_0-error:0.42016\n",
      "[17]\tvalidation_0-auc:0.61018\tvalidation_0-logloss:0.67992\tvalidation_0-error:0.42155\n",
      "[18]\tvalidation_0-auc:0.61323\tvalidation_0-logloss:0.67938\tvalidation_0-error:0.41947\n",
      "[19]\tvalidation_0-auc:0.61363\tvalidation_0-logloss:0.67883\tvalidation_0-error:0.41947\n",
      "[20]\tvalidation_0-auc:0.61418\tvalidation_0-logloss:0.67827\tvalidation_0-error:0.42085\n",
      "[21]\tvalidation_0-auc:0.61507\tvalidation_0-logloss:0.67770\tvalidation_0-error:0.42189\n",
      "[22]\tvalidation_0-auc:0.61594\tvalidation_0-logloss:0.67722\tvalidation_0-error:0.42224\n",
      "[23]\tvalidation_0-auc:0.61542\tvalidation_0-logloss:0.67673\tvalidation_0-error:0.42570\n",
      "[24]\tvalidation_0-auc:0.61584\tvalidation_0-logloss:0.67622\tvalidation_0-error:0.42466\n",
      "[25]\tvalidation_0-auc:0.61581\tvalidation_0-logloss:0.67576\tvalidation_0-error:0.42501\n",
      "[26]\tvalidation_0-auc:0.61660\tvalidation_0-logloss:0.67525\tvalidation_0-error:0.42397\n",
      "[27]\tvalidation_0-auc:0.61643\tvalidation_0-logloss:0.67486\tvalidation_0-error:0.42432\n",
      "[28]\tvalidation_0-auc:0.61697\tvalidation_0-logloss:0.67440\tvalidation_0-error:0.42328\n",
      "[29]\tvalidation_0-auc:0.61639\tvalidation_0-logloss:0.67398\tvalidation_0-error:0.42466\n",
      "[30]\tvalidation_0-auc:0.61633\tvalidation_0-logloss:0.67356\tvalidation_0-error:0.42397\n",
      "[31]\tvalidation_0-auc:0.61647\tvalidation_0-logloss:0.67323\tvalidation_0-error:0.42535\n",
      "[32]\tvalidation_0-auc:0.61780\tvalidation_0-logloss:0.67279\tvalidation_0-error:0.42501\n",
      "[33]\tvalidation_0-auc:0.61760\tvalidation_0-logloss:0.67242\tvalidation_0-error:0.42362\n",
      "[34]\tvalidation_0-auc:0.61802\tvalidation_0-logloss:0.67197\tvalidation_0-error:0.42120\n",
      "[35]\tvalidation_0-auc:0.61659\tvalidation_0-logloss:0.67167\tvalidation_0-error:0.42328\n",
      "[36]\tvalidation_0-auc:0.61719\tvalidation_0-logloss:0.67126\tvalidation_0-error:0.42258\n",
      "[37]\tvalidation_0-auc:0.61793\tvalidation_0-logloss:0.67088\tvalidation_0-error:0.42362\n",
      "[38]\tvalidation_0-auc:0.61832\tvalidation_0-logloss:0.67058\tvalidation_0-error:0.42293\n",
      "[39]\tvalidation_0-auc:0.61841\tvalidation_0-logloss:0.67024\tvalidation_0-error:0.42258\n",
      "[40]\tvalidation_0-auc:0.61875\tvalidation_0-logloss:0.66995\tvalidation_0-error:0.42293\n",
      "[41]\tvalidation_0-auc:0.61886\tvalidation_0-logloss:0.66961\tvalidation_0-error:0.42224\n",
      "[42]\tvalidation_0-auc:0.61921\tvalidation_0-logloss:0.66927\tvalidation_0-error:0.42120\n",
      "[43]\tvalidation_0-auc:0.61958\tvalidation_0-logloss:0.66897\tvalidation_0-error:0.42085\n",
      "[44]\tvalidation_0-auc:0.61973\tvalidation_0-logloss:0.66866\tvalidation_0-error:0.42120\n",
      "[45]\tvalidation_0-auc:0.61957\tvalidation_0-logloss:0.66836\tvalidation_0-error:0.42189\n",
      "[46]\tvalidation_0-auc:0.61957\tvalidation_0-logloss:0.66803\tvalidation_0-error:0.42466\n",
      "[47]\tvalidation_0-auc:0.61963\tvalidation_0-logloss:0.66771\tvalidation_0-error:0.42501\n",
      "[48]\tvalidation_0-auc:0.61994\tvalidation_0-logloss:0.66740\tvalidation_0-error:0.42258\n",
      "[49]\tvalidation_0-auc:0.62009\tvalidation_0-logloss:0.66712\tvalidation_0-error:0.42397\n",
      "[50]\tvalidation_0-auc:0.62002\tvalidation_0-logloss:0.66686\tvalidation_0-error:0.42397\n",
      "[51]\tvalidation_0-auc:0.61985\tvalidation_0-logloss:0.66658\tvalidation_0-error:0.42224\n",
      "[52]\tvalidation_0-auc:0.62026\tvalidation_0-logloss:0.66626\tvalidation_0-error:0.42189\n",
      "[53]\tvalidation_0-auc:0.62013\tvalidation_0-logloss:0.66604\tvalidation_0-error:0.42120\n",
      "[54]\tvalidation_0-auc:0.61999\tvalidation_0-logloss:0.66578\tvalidation_0-error:0.42224\n",
      "[55]\tvalidation_0-auc:0.62037\tvalidation_0-logloss:0.66551\tvalidation_0-error:0.42085\n",
      "[56]\tvalidation_0-auc:0.61997\tvalidation_0-logloss:0.66529\tvalidation_0-error:0.42016\n",
      "[57]\tvalidation_0-auc:0.62011\tvalidation_0-logloss:0.66506\tvalidation_0-error:0.42085\n",
      "[58]\tvalidation_0-auc:0.62037\tvalidation_0-logloss:0.66481\tvalidation_0-error:0.41981\n",
      "[59]\tvalidation_0-auc:0.61991\tvalidation_0-logloss:0.66457\tvalidation_0-error:0.42155\n",
      "[60]\tvalidation_0-auc:0.62057\tvalidation_0-logloss:0.66429\tvalidation_0-error:0.41947\n",
      "[61]\tvalidation_0-auc:0.62047\tvalidation_0-logloss:0.66406\tvalidation_0-error:0.41912\n",
      "[62]\tvalidation_0-auc:0.62092\tvalidation_0-logloss:0.66381\tvalidation_0-error:0.42085\n",
      "[63]\tvalidation_0-auc:0.62120\tvalidation_0-logloss:0.66361\tvalidation_0-error:0.42258\n",
      "[64]\tvalidation_0-auc:0.62116\tvalidation_0-logloss:0.66337\tvalidation_0-error:0.42258\n",
      "[65]\tvalidation_0-auc:0.62115\tvalidation_0-logloss:0.66315\tvalidation_0-error:0.42120\n",
      "[66]\tvalidation_0-auc:0.62147\tvalidation_0-logloss:0.66292\tvalidation_0-error:0.42120\n",
      "[67]\tvalidation_0-auc:0.62169\tvalidation_0-logloss:0.66270\tvalidation_0-error:0.42120\n",
      "[68]\tvalidation_0-auc:0.62182\tvalidation_0-logloss:0.66257\tvalidation_0-error:0.42016\n",
      "[69]\tvalidation_0-auc:0.62173\tvalidation_0-logloss:0.66234\tvalidation_0-error:0.42120\n",
      "[70]\tvalidation_0-auc:0.62211\tvalidation_0-logloss:0.66213\tvalidation_0-error:0.42085\n",
      "[71]\tvalidation_0-auc:0.62202\tvalidation_0-logloss:0.66195\tvalidation_0-error:0.42085\n",
      "[72]\tvalidation_0-auc:0.62201\tvalidation_0-logloss:0.66179\tvalidation_0-error:0.42085\n",
      "[73]\tvalidation_0-auc:0.62213\tvalidation_0-logloss:0.66160\tvalidation_0-error:0.42016\n",
      "[74]\tvalidation_0-auc:0.62211\tvalidation_0-logloss:0.66139\tvalidation_0-error:0.42085\n",
      "[75]\tvalidation_0-auc:0.62252\tvalidation_0-logloss:0.66118\tvalidation_0-error:0.42328\n",
      "[76]\tvalidation_0-auc:0.62282\tvalidation_0-logloss:0.66099\tvalidation_0-error:0.42293\n",
      "[77]\tvalidation_0-auc:0.62296\tvalidation_0-logloss:0.66080\tvalidation_0-error:0.42258\n",
      "[78]\tvalidation_0-auc:0.62290\tvalidation_0-logloss:0.66063\tvalidation_0-error:0.42189\n",
      "[79]\tvalidation_0-auc:0.62299\tvalidation_0-logloss:0.66044\tvalidation_0-error:0.42224\n",
      "[80]\tvalidation_0-auc:0.62350\tvalidation_0-logloss:0.66024\tvalidation_0-error:0.41981\n",
      "[81]\tvalidation_0-auc:0.62319\tvalidation_0-logloss:0.66008\tvalidation_0-error:0.41947\n",
      "[82]\tvalidation_0-auc:0.62299\tvalidation_0-logloss:0.65997\tvalidation_0-error:0.42085\n",
      "[83]\tvalidation_0-auc:0.62320\tvalidation_0-logloss:0.65982\tvalidation_0-error:0.41981\n",
      "[84]\tvalidation_0-auc:0.62333\tvalidation_0-logloss:0.65966\tvalidation_0-error:0.42085\n",
      "[85]\tvalidation_0-auc:0.62373\tvalidation_0-logloss:0.65954\tvalidation_0-error:0.42051\n",
      "[86]\tvalidation_0-auc:0.62363\tvalidation_0-logloss:0.65939\tvalidation_0-error:0.42085\n",
      "[87]\tvalidation_0-auc:0.62341\tvalidation_0-logloss:0.65930\tvalidation_0-error:0.42224\n",
      "[88]\tvalidation_0-auc:0.62305\tvalidation_0-logloss:0.65921\tvalidation_0-error:0.42155\n",
      "[89]\tvalidation_0-auc:0.62288\tvalidation_0-logloss:0.65910\tvalidation_0-error:0.42120\n",
      "[90]\tvalidation_0-auc:0.62337\tvalidation_0-logloss:0.65896\tvalidation_0-error:0.42155\n",
      "[91]\tvalidation_0-auc:0.62336\tvalidation_0-logloss:0.65883\tvalidation_0-error:0.42224\n",
      "[92]\tvalidation_0-auc:0.62332\tvalidation_0-logloss:0.65870\tvalidation_0-error:0.42328\n",
      "[93]\tvalidation_0-auc:0.62331\tvalidation_0-logloss:0.65860\tvalidation_0-error:0.42258\n",
      "[94]\tvalidation_0-auc:0.62335\tvalidation_0-logloss:0.65846\tvalidation_0-error:0.42051\n",
      "[95]\tvalidation_0-auc:0.62362\tvalidation_0-logloss:0.65833\tvalidation_0-error:0.42224\n",
      "[96]\tvalidation_0-auc:0.62343\tvalidation_0-logloss:0.65824\tvalidation_0-error:0.42328\n",
      "[97]\tvalidation_0-auc:0.62338\tvalidation_0-logloss:0.65811\tvalidation_0-error:0.42328\n",
      "[98]\tvalidation_0-auc:0.62333\tvalidation_0-logloss:0.65802\tvalidation_0-error:0.42120\n"
     ]
    },
    {
     "name": "stdout",
     "output_type": "stream",
     "text": [
      "[99]\tvalidation_0-auc:0.62344\tvalidation_0-logloss:0.65791\tvalidation_0-error:0.41947\n",
      "[100]\tvalidation_0-auc:0.62314\tvalidation_0-logloss:0.65787\tvalidation_0-error:0.42016\n",
      "[101]\tvalidation_0-auc:0.62318\tvalidation_0-logloss:0.65777\tvalidation_0-error:0.42016\n",
      "[102]\tvalidation_0-auc:0.62322\tvalidation_0-logloss:0.65765\tvalidation_0-error:0.42051\n",
      "[103]\tvalidation_0-auc:0.62329\tvalidation_0-logloss:0.65756\tvalidation_0-error:0.42016\n",
      "[104]\tvalidation_0-auc:0.62340\tvalidation_0-logloss:0.65746\tvalidation_0-error:0.41808\n",
      "[105]\tvalidation_0-auc:0.62319\tvalidation_0-logloss:0.65742\tvalidation_0-error:0.41912\n",
      "[106]\tvalidation_0-auc:0.62327\tvalidation_0-logloss:0.65730\tvalidation_0-error:0.41877\n",
      "[107]\tvalidation_0-auc:0.62350\tvalidation_0-logloss:0.65719\tvalidation_0-error:0.41877\n",
      "[108]\tvalidation_0-auc:0.62330\tvalidation_0-logloss:0.65709\tvalidation_0-error:0.41808\n",
      "[109]\tvalidation_0-auc:0.62338\tvalidation_0-logloss:0.65697\tvalidation_0-error:0.41877\n",
      "[110]\tvalidation_0-auc:0.62317\tvalidation_0-logloss:0.65695\tvalidation_0-error:0.41843\n",
      "[111]\tvalidation_0-auc:0.62328\tvalidation_0-logloss:0.65684\tvalidation_0-error:0.41981\n",
      "[112]\tvalidation_0-auc:0.62326\tvalidation_0-logloss:0.65676\tvalidation_0-error:0.41877\n",
      "[113]\tvalidation_0-auc:0.62292\tvalidation_0-logloss:0.65670\tvalidation_0-error:0.41947\n",
      "[114]\tvalidation_0-auc:0.62311\tvalidation_0-logloss:0.65661\tvalidation_0-error:0.42016\n",
      "[115]\tvalidation_0-auc:0.62310\tvalidation_0-logloss:0.65650\tvalidation_0-error:0.41808\n",
      "[116]\tvalidation_0-auc:0.62321\tvalidation_0-logloss:0.65642\tvalidation_0-error:0.41774\n",
      "[117]\tvalidation_0-auc:0.62327\tvalidation_0-logloss:0.65629\tvalidation_0-error:0.41774\n",
      "[118]\tvalidation_0-auc:0.62338\tvalidation_0-logloss:0.65622\tvalidation_0-error:0.41635\n",
      "[119]\tvalidation_0-auc:0.62360\tvalidation_0-logloss:0.65611\tvalidation_0-error:0.41566\n",
      "[120]\tvalidation_0-auc:0.62342\tvalidation_0-logloss:0.65601\tvalidation_0-error:0.41635\n",
      "[121]\tvalidation_0-auc:0.62361\tvalidation_0-logloss:0.65594\tvalidation_0-error:0.41774\n",
      "[122]\tvalidation_0-auc:0.62362\tvalidation_0-logloss:0.65586\tvalidation_0-error:0.41739\n",
      "[123]\tvalidation_0-auc:0.62360\tvalidation_0-logloss:0.65578\tvalidation_0-error:0.41739\n",
      "[124]\tvalidation_0-auc:0.62357\tvalidation_0-logloss:0.65571\tvalidation_0-error:0.41774\n",
      "[125]\tvalidation_0-auc:0.62365\tvalidation_0-logloss:0.65565\tvalidation_0-error:0.41739\n",
      "[126]\tvalidation_0-auc:0.62347\tvalidation_0-logloss:0.65561\tvalidation_0-error:0.41843\n",
      "[127]\tvalidation_0-auc:0.62334\tvalidation_0-logloss:0.65553\tvalidation_0-error:0.41808\n",
      "[128]\tvalidation_0-auc:0.62356\tvalidation_0-logloss:0.65546\tvalidation_0-error:0.41843\n",
      "[129]\tvalidation_0-auc:0.62370\tvalidation_0-logloss:0.65536\tvalidation_0-error:0.42016\n",
      "[130]\tvalidation_0-auc:0.62376\tvalidation_0-logloss:0.65527\tvalidation_0-error:0.42155\n",
      "[131]\tvalidation_0-auc:0.62379\tvalidation_0-logloss:0.65517\tvalidation_0-error:0.42155\n",
      "[132]\tvalidation_0-auc:0.62383\tvalidation_0-logloss:0.65509\tvalidation_0-error:0.42051\n",
      "[133]\tvalidation_0-auc:0.62415\tvalidation_0-logloss:0.65499\tvalidation_0-error:0.41912\n",
      "[134]\tvalidation_0-auc:0.62424\tvalidation_0-logloss:0.65490\tvalidation_0-error:0.41877\n",
      "[135]\tvalidation_0-auc:0.62440\tvalidation_0-logloss:0.65483\tvalidation_0-error:0.42016\n",
      "[136]\tvalidation_0-auc:0.62454\tvalidation_0-logloss:0.65477\tvalidation_0-error:0.42085\n",
      "[137]\tvalidation_0-auc:0.62437\tvalidation_0-logloss:0.65473\tvalidation_0-error:0.42016\n",
      "[138]\tvalidation_0-auc:0.62403\tvalidation_0-logloss:0.65472\tvalidation_0-error:0.41947\n",
      "[139]\tvalidation_0-auc:0.62384\tvalidation_0-logloss:0.65467\tvalidation_0-error:0.41877\n",
      "[140]\tvalidation_0-auc:0.62393\tvalidation_0-logloss:0.65460\tvalidation_0-error:0.41877\n",
      "[141]\tvalidation_0-auc:0.62390\tvalidation_0-logloss:0.65455\tvalidation_0-error:0.41843\n",
      "[142]\tvalidation_0-auc:0.62403\tvalidation_0-logloss:0.65449\tvalidation_0-error:0.41843\n",
      "[143]\tvalidation_0-auc:0.62400\tvalidation_0-logloss:0.65443\tvalidation_0-error:0.41843\n",
      "[144]\tvalidation_0-auc:0.62410\tvalidation_0-logloss:0.65436\tvalidation_0-error:0.41947\n",
      "[145]\tvalidation_0-auc:0.62441\tvalidation_0-logloss:0.65427\tvalidation_0-error:0.42085\n",
      "[146]\tvalidation_0-auc:0.62447\tvalidation_0-logloss:0.65421\tvalidation_0-error:0.42016\n",
      "[147]\tvalidation_0-auc:0.62477\tvalidation_0-logloss:0.65412\tvalidation_0-error:0.42016\n",
      "[148]\tvalidation_0-auc:0.62504\tvalidation_0-logloss:0.65405\tvalidation_0-error:0.41981\n",
      "[149]\tvalidation_0-auc:0.62516\tvalidation_0-logloss:0.65398\tvalidation_0-error:0.41981\n"
     ]
    },
    {
     "data": {
      "text/plain": [
       "XGBClassifier(base_score=0.5, booster='gbtree', colsample_bylevel=1,\n",
       "              colsample_bynode=1, colsample_bytree=0.65,\n",
       "              enable_categorical=False, eta=0.015,\n",
       "              eval_metric=['auc', 'logloss', 'error'], gamma=1.25, gpu_id=-1,\n",
       "              importance_type=None, interaction_constraints='',\n",
       "              learning_rate=0.0149999997, max_delta_step=0, max_depth=6,\n",
       "              min_child_weight=30, missing=nan, monotone_constraints='()',\n",
       "              n_estimators=150, n_jobs=12, num_parallel_tree=1,\n",
       "              predictor='auto', random_state=123, reg_alpha=0, reg_lambda=1,\n",
       "              scale_pos_weight=1, subsample=1, tree_method='exact',\n",
       "              validate_parameters=1, verbosity=None)"
      ]
     },
     "execution_count": 670,
     "metadata": {},
     "output_type": "execute_result"
    }
   ],
   "source": [
    "model1 = xgb.XGBClassifier(objective='binary:logistic', n_estimators=150, max_depth=6, gamma=1.25, eta=0.015,\n",
    "                          min_child_weight=30, colsample_bytree=0.65, \n",
    "                          random_state=123, eval_metric=[\"auc\", \"logloss\", \"error\"])\n",
    "model1.fit(X_train, y_train, eval_set=[(X_test, y_test)])"
   ]
  },
  {
   "cell_type": "code",
   "execution_count": 671,
   "id": "4f3c1421",
   "metadata": {},
   "outputs": [
    {
     "name": "stdout",
     "output_type": "stream",
     "text": [
      "[0]\tvalidation_0-auc:0.59459\tvalidation_0-logloss:0.69227\tvalidation_0-error:0.42882\n",
      "[1]\tvalidation_0-auc:0.60227\tvalidation_0-logloss:0.69138\tvalidation_0-error:0.42639\n",
      "[2]\tvalidation_0-auc:0.60629\tvalidation_0-logloss:0.69051\tvalidation_0-error:0.42674\n",
      "[3]\tvalidation_0-auc:0.60899\tvalidation_0-logloss:0.68970\tvalidation_0-error:0.42674\n",
      "[4]\tvalidation_0-auc:0.60767\tvalidation_0-logloss:0.68892\tvalidation_0-error:0.42674\n",
      "[5]\tvalidation_0-auc:0.60862\tvalidation_0-logloss:0.68815\tvalidation_0-error:0.42709\n",
      "[6]\tvalidation_0-auc:0.60610\tvalidation_0-logloss:0.68748\tvalidation_0-error:0.42743\n",
      "[7]\tvalidation_0-auc:0.60582\tvalidation_0-logloss:0.68676\tvalidation_0-error:0.42674\n",
      "[8]\tvalidation_0-auc:0.60566\tvalidation_0-logloss:0.68607\tvalidation_0-error:0.42743\n",
      "[9]\tvalidation_0-auc:0.60689\tvalidation_0-logloss:0.68542\tvalidation_0-error:0.42743\n",
      "[10]\tvalidation_0-auc:0.60793\tvalidation_0-logloss:0.68479\tvalidation_0-error:0.42813\n",
      "[11]\tvalidation_0-auc:0.60913\tvalidation_0-logloss:0.68425\tvalidation_0-error:0.42917\n",
      "[12]\tvalidation_0-auc:0.60900\tvalidation_0-logloss:0.68363\tvalidation_0-error:0.42847\n",
      "[13]\tvalidation_0-auc:0.60928\tvalidation_0-logloss:0.68315\tvalidation_0-error:0.42778\n",
      "[14]\tvalidation_0-auc:0.60844\tvalidation_0-logloss:0.68264\tvalidation_0-error:0.42813\n",
      "[15]\tvalidation_0-auc:0.61074\tvalidation_0-logloss:0.68208\tvalidation_0-error:0.42813\n",
      "[16]\tvalidation_0-auc:0.61177\tvalidation_0-logloss:0.68153\tvalidation_0-error:0.42917\n",
      "[17]\tvalidation_0-auc:0.61388\tvalidation_0-logloss:0.68101\tvalidation_0-error:0.42986\n",
      "[18]\tvalidation_0-auc:0.61668\tvalidation_0-logloss:0.68049\tvalidation_0-error:0.42986\n",
      "[19]\tvalidation_0-auc:0.61692\tvalidation_0-logloss:0.67999\tvalidation_0-error:0.42986\n",
      "[20]\tvalidation_0-auc:0.61727\tvalidation_0-logloss:0.67952\tvalidation_0-error:0.42986\n",
      "[21]\tvalidation_0-auc:0.61726\tvalidation_0-logloss:0.67904\tvalidation_0-error:0.42847\n",
      "[22]\tvalidation_0-auc:0.61799\tvalidation_0-logloss:0.67859\tvalidation_0-error:0.42917\n",
      "[23]\tvalidation_0-auc:0.61720\tvalidation_0-logloss:0.67816\tvalidation_0-error:0.42917\n",
      "[24]\tvalidation_0-auc:0.61743\tvalidation_0-logloss:0.67774\tvalidation_0-error:0.42917\n",
      "[25]\tvalidation_0-auc:0.61735\tvalidation_0-logloss:0.67733\tvalidation_0-error:0.42882\n",
      "[26]\tvalidation_0-auc:0.61877\tvalidation_0-logloss:0.67688\tvalidation_0-error:0.42778\n",
      "[27]\tvalidation_0-auc:0.61882\tvalidation_0-logloss:0.67652\tvalidation_0-error:0.42847\n",
      "[28]\tvalidation_0-auc:0.61964\tvalidation_0-logloss:0.67612\tvalidation_0-error:0.42882\n",
      "[29]\tvalidation_0-auc:0.61880\tvalidation_0-logloss:0.67578\tvalidation_0-error:0.42882\n",
      "[30]\tvalidation_0-auc:0.61883\tvalidation_0-logloss:0.67543\tvalidation_0-error:0.42986\n",
      "[31]\tvalidation_0-auc:0.61916\tvalidation_0-logloss:0.67511\tvalidation_0-error:0.42882\n",
      "[32]\tvalidation_0-auc:0.61974\tvalidation_0-logloss:0.67475\tvalidation_0-error:0.42847\n",
      "[33]\tvalidation_0-auc:0.62043\tvalidation_0-logloss:0.67437\tvalidation_0-error:0.42917\n",
      "[34]\tvalidation_0-auc:0.62089\tvalidation_0-logloss:0.67406\tvalidation_0-error:0.42778\n",
      "[35]\tvalidation_0-auc:0.61949\tvalidation_0-logloss:0.67383\tvalidation_0-error:0.42847\n",
      "[36]\tvalidation_0-auc:0.61961\tvalidation_0-logloss:0.67353\tvalidation_0-error:0.42917\n",
      "[37]\tvalidation_0-auc:0.62048\tvalidation_0-logloss:0.67319\tvalidation_0-error:0.42882\n",
      "[38]\tvalidation_0-auc:0.62075\tvalidation_0-logloss:0.67294\tvalidation_0-error:0.42882\n",
      "[39]\tvalidation_0-auc:0.62041\tvalidation_0-logloss:0.67267\tvalidation_0-error:0.42882\n",
      "[40]\tvalidation_0-auc:0.62170\tvalidation_0-logloss:0.67233\tvalidation_0-error:0.42847\n",
      "[41]\tvalidation_0-auc:0.62158\tvalidation_0-logloss:0.67214\tvalidation_0-error:0.42917\n",
      "[42]\tvalidation_0-auc:0.62072\tvalidation_0-logloss:0.67193\tvalidation_0-error:0.42917\n",
      "[43]\tvalidation_0-auc:0.62121\tvalidation_0-logloss:0.67169\tvalidation_0-error:0.42847\n",
      "[44]\tvalidation_0-auc:0.62160\tvalidation_0-logloss:0.67142\tvalidation_0-error:0.42882\n",
      "[45]\tvalidation_0-auc:0.62138\tvalidation_0-logloss:0.67120\tvalidation_0-error:0.42917\n",
      "[46]\tvalidation_0-auc:0.62164\tvalidation_0-logloss:0.67092\tvalidation_0-error:0.42847\n",
      "[47]\tvalidation_0-auc:0.62159\tvalidation_0-logloss:0.67071\tvalidation_0-error:0.42813\n",
      "[48]\tvalidation_0-auc:0.62199\tvalidation_0-logloss:0.67046\tvalidation_0-error:0.42813\n",
      "[49]\tvalidation_0-auc:0.62204\tvalidation_0-logloss:0.67027\tvalidation_0-error:0.42813\n",
      "[50]\tvalidation_0-auc:0.62196\tvalidation_0-logloss:0.67012\tvalidation_0-error:0.42882\n",
      "[51]\tvalidation_0-auc:0.62176\tvalidation_0-logloss:0.66993\tvalidation_0-error:0.42917\n",
      "[52]\tvalidation_0-auc:0.62215\tvalidation_0-logloss:0.66969\tvalidation_0-error:0.42917\n",
      "[53]\tvalidation_0-auc:0.62205\tvalidation_0-logloss:0.66953\tvalidation_0-error:0.42882\n",
      "[54]\tvalidation_0-auc:0.62258\tvalidation_0-logloss:0.66929\tvalidation_0-error:0.42847\n",
      "[55]\tvalidation_0-auc:0.62260\tvalidation_0-logloss:0.66912\tvalidation_0-error:0.42882\n",
      "[56]\tvalidation_0-auc:0.62223\tvalidation_0-logloss:0.66897\tvalidation_0-error:0.42847\n",
      "[57]\tvalidation_0-auc:0.62227\tvalidation_0-logloss:0.66881\tvalidation_0-error:0.42847\n",
      "[58]\tvalidation_0-auc:0.62209\tvalidation_0-logloss:0.66866\tvalidation_0-error:0.42847\n",
      "[59]\tvalidation_0-auc:0.62182\tvalidation_0-logloss:0.66851\tvalidation_0-error:0.42813\n",
      "[60]\tvalidation_0-auc:0.62305\tvalidation_0-logloss:0.66828\tvalidation_0-error:0.42917\n",
      "[61]\tvalidation_0-auc:0.62286\tvalidation_0-logloss:0.66813\tvalidation_0-error:0.42882\n",
      "[62]\tvalidation_0-auc:0.62356\tvalidation_0-logloss:0.66793\tvalidation_0-error:0.42847\n",
      "[63]\tvalidation_0-auc:0.62379\tvalidation_0-logloss:0.66775\tvalidation_0-error:0.42847\n",
      "[64]\tvalidation_0-auc:0.62404\tvalidation_0-logloss:0.66757\tvalidation_0-error:0.42917\n",
      "[65]\tvalidation_0-auc:0.62387\tvalidation_0-logloss:0.66747\tvalidation_0-error:0.42951\n",
      "[66]\tvalidation_0-auc:0.62391\tvalidation_0-logloss:0.66732\tvalidation_0-error:0.42951\n",
      "[67]\tvalidation_0-auc:0.62376\tvalidation_0-logloss:0.66723\tvalidation_0-error:0.42917\n",
      "[68]\tvalidation_0-auc:0.62387\tvalidation_0-logloss:0.66710\tvalidation_0-error:0.42882\n",
      "[69]\tvalidation_0-auc:0.62370\tvalidation_0-logloss:0.66695\tvalidation_0-error:0.42882\n",
      "[70]\tvalidation_0-auc:0.62363\tvalidation_0-logloss:0.66683\tvalidation_0-error:0.42882\n",
      "[71]\tvalidation_0-auc:0.62358\tvalidation_0-logloss:0.66672\tvalidation_0-error:0.42847\n",
      "[72]\tvalidation_0-auc:0.62316\tvalidation_0-logloss:0.66666\tvalidation_0-error:0.42847\n",
      "[73]\tvalidation_0-auc:0.62327\tvalidation_0-logloss:0.66655\tvalidation_0-error:0.42813\n",
      "[74]\tvalidation_0-auc:0.62318\tvalidation_0-logloss:0.66645\tvalidation_0-error:0.42813\n",
      "[75]\tvalidation_0-auc:0.62323\tvalidation_0-logloss:0.66630\tvalidation_0-error:0.42813\n",
      "[76]\tvalidation_0-auc:0.62350\tvalidation_0-logloss:0.66615\tvalidation_0-error:0.42813\n",
      "[77]\tvalidation_0-auc:0.62333\tvalidation_0-logloss:0.66609\tvalidation_0-error:0.42778\n",
      "[78]\tvalidation_0-auc:0.62358\tvalidation_0-logloss:0.66597\tvalidation_0-error:0.42778\n",
      "[79]\tvalidation_0-auc:0.62388\tvalidation_0-logloss:0.66585\tvalidation_0-error:0.42743\n",
      "[80]\tvalidation_0-auc:0.62426\tvalidation_0-logloss:0.66571\tvalidation_0-error:0.42709\n",
      "[81]\tvalidation_0-auc:0.62404\tvalidation_0-logloss:0.66559\tvalidation_0-error:0.42709\n",
      "[82]\tvalidation_0-auc:0.62361\tvalidation_0-logloss:0.66554\tvalidation_0-error:0.42743\n",
      "[83]\tvalidation_0-auc:0.62352\tvalidation_0-logloss:0.66549\tvalidation_0-error:0.42743\n",
      "[84]\tvalidation_0-auc:0.62341\tvalidation_0-logloss:0.66541\tvalidation_0-error:0.42743\n",
      "[85]\tvalidation_0-auc:0.62293\tvalidation_0-logloss:0.66539\tvalidation_0-error:0.42674\n",
      "[86]\tvalidation_0-auc:0.62278\tvalidation_0-logloss:0.66533\tvalidation_0-error:0.42674\n",
      "[87]\tvalidation_0-auc:0.62242\tvalidation_0-logloss:0.66529\tvalidation_0-error:0.42674\n",
      "[88]\tvalidation_0-auc:0.62225\tvalidation_0-logloss:0.66521\tvalidation_0-error:0.42709\n",
      "[89]\tvalidation_0-auc:0.62224\tvalidation_0-logloss:0.66516\tvalidation_0-error:0.42709\n",
      "[90]\tvalidation_0-auc:0.62232\tvalidation_0-logloss:0.66507\tvalidation_0-error:0.42743\n",
      "[91]\tvalidation_0-auc:0.62268\tvalidation_0-logloss:0.66495\tvalidation_0-error:0.42570\n",
      "[92]\tvalidation_0-auc:0.62285\tvalidation_0-logloss:0.66483\tvalidation_0-error:0.42570\n",
      "[93]\tvalidation_0-auc:0.62280\tvalidation_0-logloss:0.66478\tvalidation_0-error:0.42570\n",
      "[94]\tvalidation_0-auc:0.62299\tvalidation_0-logloss:0.66474\tvalidation_0-error:0.42535\n",
      "[95]\tvalidation_0-auc:0.62308\tvalidation_0-logloss:0.66470\tvalidation_0-error:0.42466\n"
     ]
    },
    {
     "name": "stdout",
     "output_type": "stream",
     "text": [
      "[96]\tvalidation_0-auc:0.62347\tvalidation_0-logloss:0.66462\tvalidation_0-error:0.42639\n",
      "[97]\tvalidation_0-auc:0.62337\tvalidation_0-logloss:0.66458\tvalidation_0-error:0.42605\n",
      "[98]\tvalidation_0-auc:0.62333\tvalidation_0-logloss:0.66457\tvalidation_0-error:0.42605\n",
      "[99]\tvalidation_0-auc:0.62311\tvalidation_0-logloss:0.66449\tvalidation_0-error:0.42535\n",
      "[100]\tvalidation_0-auc:0.62279\tvalidation_0-logloss:0.66451\tvalidation_0-error:0.42535\n",
      "[101]\tvalidation_0-auc:0.62276\tvalidation_0-logloss:0.66446\tvalidation_0-error:0.42535\n",
      "[102]\tvalidation_0-auc:0.62309\tvalidation_0-logloss:0.66441\tvalidation_0-error:0.42639\n",
      "[103]\tvalidation_0-auc:0.62310\tvalidation_0-logloss:0.66438\tvalidation_0-error:0.42639\n",
      "[104]\tvalidation_0-auc:0.62330\tvalidation_0-logloss:0.66427\tvalidation_0-error:0.42605\n",
      "[105]\tvalidation_0-auc:0.62352\tvalidation_0-logloss:0.66422\tvalidation_0-error:0.42605\n",
      "[106]\tvalidation_0-auc:0.62369\tvalidation_0-logloss:0.66416\tvalidation_0-error:0.42570\n",
      "[107]\tvalidation_0-auc:0.62389\tvalidation_0-logloss:0.66413\tvalidation_0-error:0.42605\n",
      "[108]\tvalidation_0-auc:0.62369\tvalidation_0-logloss:0.66407\tvalidation_0-error:0.42570\n",
      "[109]\tvalidation_0-auc:0.62381\tvalidation_0-logloss:0.66400\tvalidation_0-error:0.42605\n",
      "[110]\tvalidation_0-auc:0.62375\tvalidation_0-logloss:0.66401\tvalidation_0-error:0.42605\n",
      "[111]\tvalidation_0-auc:0.62372\tvalidation_0-logloss:0.66395\tvalidation_0-error:0.42709\n",
      "[112]\tvalidation_0-auc:0.62371\tvalidation_0-logloss:0.66391\tvalidation_0-error:0.42674\n",
      "[113]\tvalidation_0-auc:0.62383\tvalidation_0-logloss:0.66386\tvalidation_0-error:0.42709\n",
      "[114]\tvalidation_0-auc:0.62362\tvalidation_0-logloss:0.66383\tvalidation_0-error:0.42674\n",
      "[115]\tvalidation_0-auc:0.62395\tvalidation_0-logloss:0.66380\tvalidation_0-error:0.42674\n",
      "[116]\tvalidation_0-auc:0.62404\tvalidation_0-logloss:0.66378\tvalidation_0-error:0.42778\n",
      "[117]\tvalidation_0-auc:0.62393\tvalidation_0-logloss:0.66373\tvalidation_0-error:0.42778\n",
      "[118]\tvalidation_0-auc:0.62422\tvalidation_0-logloss:0.66368\tvalidation_0-error:0.42709\n",
      "[119]\tvalidation_0-auc:0.62399\tvalidation_0-logloss:0.66364\tvalidation_0-error:0.42709\n",
      "[120]\tvalidation_0-auc:0.62389\tvalidation_0-logloss:0.66356\tvalidation_0-error:0.42639\n",
      "[121]\tvalidation_0-auc:0.62348\tvalidation_0-logloss:0.66361\tvalidation_0-error:0.42674\n",
      "[122]\tvalidation_0-auc:0.62340\tvalidation_0-logloss:0.66360\tvalidation_0-error:0.42674\n",
      "[123]\tvalidation_0-auc:0.62330\tvalidation_0-logloss:0.66360\tvalidation_0-error:0.42709\n",
      "[124]\tvalidation_0-auc:0.62313\tvalidation_0-logloss:0.66361\tvalidation_0-error:0.42674\n",
      "[125]\tvalidation_0-auc:0.62314\tvalidation_0-logloss:0.66360\tvalidation_0-error:0.42674\n",
      "[126]\tvalidation_0-auc:0.62299\tvalidation_0-logloss:0.66357\tvalidation_0-error:0.42605\n",
      "[127]\tvalidation_0-auc:0.62321\tvalidation_0-logloss:0.66346\tvalidation_0-error:0.42674\n",
      "[128]\tvalidation_0-auc:0.62334\tvalidation_0-logloss:0.66341\tvalidation_0-error:0.42674\n",
      "[129]\tvalidation_0-auc:0.62357\tvalidation_0-logloss:0.66332\tvalidation_0-error:0.42709\n",
      "[130]\tvalidation_0-auc:0.62380\tvalidation_0-logloss:0.66325\tvalidation_0-error:0.42605\n",
      "[131]\tvalidation_0-auc:0.62396\tvalidation_0-logloss:0.66321\tvalidation_0-error:0.42535\n",
      "[132]\tvalidation_0-auc:0.62394\tvalidation_0-logloss:0.66317\tvalidation_0-error:0.42535\n",
      "[133]\tvalidation_0-auc:0.62428\tvalidation_0-logloss:0.66312\tvalidation_0-error:0.42466\n",
      "[134]\tvalidation_0-auc:0.62425\tvalidation_0-logloss:0.66309\tvalidation_0-error:0.42466\n",
      "[135]\tvalidation_0-auc:0.62437\tvalidation_0-logloss:0.66304\tvalidation_0-error:0.42501\n",
      "[136]\tvalidation_0-auc:0.62442\tvalidation_0-logloss:0.66304\tvalidation_0-error:0.42570\n",
      "[137]\tvalidation_0-auc:0.62424\tvalidation_0-logloss:0.66301\tvalidation_0-error:0.42535\n",
      "[138]\tvalidation_0-auc:0.62348\tvalidation_0-logloss:0.66308\tvalidation_0-error:0.42570\n",
      "[139]\tvalidation_0-auc:0.62366\tvalidation_0-logloss:0.66304\tvalidation_0-error:0.42605\n",
      "[140]\tvalidation_0-auc:0.62386\tvalidation_0-logloss:0.66299\tvalidation_0-error:0.42570\n",
      "[141]\tvalidation_0-auc:0.62363\tvalidation_0-logloss:0.66301\tvalidation_0-error:0.42501\n",
      "[142]\tvalidation_0-auc:0.62330\tvalidation_0-logloss:0.66305\tvalidation_0-error:0.42432\n",
      "[143]\tvalidation_0-auc:0.62345\tvalidation_0-logloss:0.66300\tvalidation_0-error:0.42535\n",
      "[144]\tvalidation_0-auc:0.62389\tvalidation_0-logloss:0.66288\tvalidation_0-error:0.42535\n",
      "[145]\tvalidation_0-auc:0.62461\tvalidation_0-logloss:0.66276\tvalidation_0-error:0.42501\n",
      "[146]\tvalidation_0-auc:0.62441\tvalidation_0-logloss:0.66275\tvalidation_0-error:0.42432\n",
      "[147]\tvalidation_0-auc:0.62465\tvalidation_0-logloss:0.66273\tvalidation_0-error:0.42466\n",
      "[148]\tvalidation_0-auc:0.62468\tvalidation_0-logloss:0.66269\tvalidation_0-error:0.42432\n",
      "[149]\tvalidation_0-auc:0.62462\tvalidation_0-logloss:0.66271\tvalidation_0-error:0.42570\n"
     ]
    },
    {
     "data": {
      "text/plain": [
       "XGBClassifier(base_score=0.5, booster='gbtree', colsample_bylevel=1,\n",
       "              colsample_bynode=1, colsample_bytree=0.65,\n",
       "              enable_categorical=False, eta=0.015,\n",
       "              eval_metric=['auc', 'logloss', 'error'], gamma=1.25, gpu_id=-1,\n",
       "              importance_type=None, interaction_constraints='',\n",
       "              learning_rate=0.0149999997, max_delta_step=0, max_depth=6,\n",
       "              min_child_weight=30, missing=nan, monotone_constraints='()',\n",
       "              n_estimators=150, n_jobs=12, num_parallel_tree=1,\n",
       "              predictor='auto', random_state=123, reg_alpha=0, reg_lambda=1,\n",
       "              scale_pos_weight=0.8, subsample=1, tree_method='exact',\n",
       "              validate_parameters=1, verbosity=None)"
      ]
     },
     "execution_count": 671,
     "metadata": {},
     "output_type": "execute_result"
    }
   ],
   "source": [
    "model2 = xgb.XGBClassifier(objective='binary:logistic', n_estimators=150, max_depth=6, gamma=1.25, eta=0.015,\n",
    "                          min_child_weight=30, colsample_bytree=0.65, scale_pos_weight=0.8,\n",
    "                          random_state=123, eval_metric=[\"auc\", \"logloss\", \"error\"])\n",
    "model2.fit(X_train, y_train, eval_set=[(X_test, y_test)])"
   ]
  },
  {
   "cell_type": "code",
   "execution_count": 672,
   "id": "fd60cb85",
   "metadata": {},
   "outputs": [
    {
     "data": {
      "text/plain": [
       "<AxesSubplot:>"
      ]
     },
     "execution_count": 672,
     "metadata": {},
     "output_type": "execute_result"
    },
    {
     "data": {
      "image/png": "[encoded data removed]",
      "text/plain": [
       "<Figure size 432x288 with 1 Axes>"
      ]
     },
     "metadata": {
      "needs_background": "light"
     },
     "output_type": "display_data"
    }
   ],
   "source": [
    "fu_dict = dict(zip(X_train.columns, model1.feature_importances_))\n",
    "fi = pd.DataFrame(fu_dict.values(), index=fu_dict.keys(), columns=[\"importance\"])\n",
    "fi = fi.sort_values(by=\"importance\", ascending=False)\n",
    "fi = fi[fi.importance > 0.01]\n",
    "\n",
    "fi.plot.bar()"
   ]
  },
  {
   "cell_type": "code",
   "execution_count": 134,
   "id": "b08d57a7",
   "metadata": {},
   "outputs": [],
   "source": [
    "fi.to_csv(\"feature_importance.csv\")"
   ]
  },
  {
   "cell_type": "code",
   "execution_count": 673,
   "id": "ff8a7a70",
   "metadata": {},
   "outputs": [
    {
     "data": {
      "text/plain": [
       "array([[1097,  272],\n",
       "       [ 940,  578]])"
      ]
     },
     "execution_count": 673,
     "metadata": {},
     "output_type": "execute_result"
    }
   ],
   "source": [
    "y_pred1 = model1.predict(X_test)\n",
    "confusion_matrix(y_test, y_pred1)"
   ]
  },
  {
   "cell_type": "code",
   "execution_count": 616,
   "id": "2d85978f",
   "metadata": {},
   "outputs": [
    {
     "data": {
      "text/plain": [
       "array([[1581,   82],\n",
       "       [ 917,  307]])"
      ]
     },
     "execution_count": 616,
     "metadata": {},
     "output_type": "execute_result"
    }
   ],
   "source": [
    "y_pred2 = model2.predict(X_test)\n",
    "confusion_matrix(y_test, y_pred2)"
   ]
  },
  {
   "cell_type": "code",
   "execution_count": 638,
   "id": "55f7e0eb",
   "metadata": {},
   "outputs": [],
   "source": [
    "y_pred_proba = model1.predict_proba(X_test)[:,1]\n",
    "predict_mine = np.where(y_pred_proba > 0.5, 1, 0)\n",
    "cm1 = confusion_matrix(y_test, predict_mine)"
   ]
  },
  {
   "cell_type": "code",
   "execution_count": 639,
   "id": "83ea3557",
   "metadata": {},
   "outputs": [],
   "source": [
    "y_pred_proba = model2.predict_proba(X_test)[:,1]\n",
    "predict_mine = np.where(y_pred_proba > 0.5, 1, 0)\n",
    "cm2 = confusion_matrix(y_test, predict_mine)"
   ]
  },
  {
   "cell_type": "code",
   "execution_count": 640,
   "id": "2a080435",
   "metadata": {},
   "outputs": [
    {
     "data": {
      "text/plain": [
       "(0.654312435053689, 0.6539660547280914)"
      ]
     },
     "execution_count": 640,
     "metadata": {},
     "output_type": "execute_result"
    }
   ],
   "source": [
    "metrics.accuracy_score(y_test, y_pred1), metrics.accuracy_score(y_test, y_pred2)"
   ]
  },
  {
   "cell_type": "code",
   "execution_count": 641,
   "id": "2a85372f",
   "metadata": {},
   "outputs": [
    {
     "data": {
      "text/plain": [
       "(0.7665094339622641, 0.7892030848329049)"
      ]
     },
     "execution_count": 641,
     "metadata": {},
     "output_type": "execute_result"
    }
   ],
   "source": [
    "cm1[1][1]/(cm1[1][1]+cm1[0][1]), cm2[1][1]/(cm2[1][1]+cm2[0][1])"
   ]
  },
  {
   "cell_type": "code",
   "execution_count": 643,
   "id": "91038c30",
   "metadata": {},
   "outputs": [
    {
     "data": {
      "text/plain": [
       "(14.686525805334258, 13.474194665742987)"
      ]
     },
     "execution_count": 643,
     "metadata": {},
     "output_type": "execute_result"
    }
   ],
   "source": [
    "(cm1[1][1]+cm1[0][1])/len(y_test)*100, (cm2[1][1]+cm2[0][1])/len(y_test)*100"
   ]
  },
  {
   "cell_type": "markdown",
   "id": "bd2cf07a",
   "metadata": {},
   "source": [
    "# VALIDATION - BEST MODEL --> 70% accuracy in 17% of matches"
   ]
  },
  {
   "cell_type": "code",
   "execution_count": 622,
   "id": "31566b6c",
   "metadata": {},
   "outputs": [
    {
     "data": {
      "text/plain": [
       "array([[928,  58],\n",
       "       [555, 191]])"
      ]
     },
     "execution_count": 622,
     "metadata": {},
     "output_type": "execute_result"
    }
   ],
   "source": [
    "y_pred = model1.predict(X_validation)\n",
    "confusion_matrix(y_validation, y_pred)"
   ]
  },
  {
   "cell_type": "code",
   "execution_count": 623,
   "id": "960fa297",
   "metadata": {},
   "outputs": [
    {
     "data": {
      "text/plain": [
       "0.6460739030023095"
      ]
     },
     "execution_count": 623,
     "metadata": {},
     "output_type": "execute_result"
    }
   ],
   "source": [
    "metrics.accuracy_score(y_validation, y_pred)"
   ]
  },
  {
   "cell_type": "code",
   "execution_count": 644,
   "id": "e849fc15",
   "metadata": {},
   "outputs": [],
   "source": [
    "y_pred_proba = model1.predict_proba(X_validation)[:,1]\n",
    "predict_mine = np.where(y_pred_proba > 0.5, 1, 0)\n",
    "cm1 = confusion_matrix(y_validation, predict_mine)"
   ]
  },
  {
   "cell_type": "code",
   "execution_count": 645,
   "id": "9fe60820",
   "metadata": {},
   "outputs": [],
   "source": [
    "y_pred_proba = model2.predict_proba(X_validation)[:,1]\n",
    "predict_mine = np.where(y_pred_proba > 0.5, 1, 0)\n",
    "cm2=confusion_matrix(y_validation, predict_mine)"
   ]
  },
  {
   "cell_type": "code",
   "execution_count": 646,
   "id": "bc7884c9",
   "metadata": {},
   "outputs": [
    {
     "data": {
      "text/plain": [
       "(0.7670682730923695, 0.7946428571428571)"
      ]
     },
     "execution_count": 646,
     "metadata": {},
     "output_type": "execute_result"
    }
   ],
   "source": [
    "cm1[1][1]/(cm1[1][1]+cm1[0][1]), cm2[1][1]/(cm2[1][1]+cm2[0][1])"
   ]
  },
  {
   "cell_type": "code",
   "execution_count": 647,
   "id": "3a00fd10",
   "metadata": {},
   "outputs": [
    {
     "data": {
      "text/plain": [
       "(14.376443418013857, 12.933025404157044)"
      ]
     },
     "execution_count": 647,
     "metadata": {},
     "output_type": "execute_result"
    }
   ],
   "source": [
    "(cm1[1][1]+cm1[0][1])/len(y_validation)*100, (cm2[1][1]+cm2[0][1])/len(y_validation)*100"
   ]
  },
  {
   "cell_type": "code",
   "execution_count": null,
   "id": "61015d51",
   "metadata": {},
   "outputs": [],
   "source": []
  },
  {
   "cell_type": "code",
   "execution_count": null,
   "id": "3081c0c3",
   "metadata": {},
   "outputs": [],
   "source": []
  },
  {
   "cell_type": "markdown",
   "id": "c0f55180",
   "metadata": {},
   "source": [
    "## FINAL VALIDATION - NOVEMBER 2021"
   ]
  },
  {
   "cell_type": "code",
   "execution_count": 648,
   "id": "925a1a4e",
   "metadata": {},
   "outputs": [],
   "source": [
    "y_validation_november = X_validation_november.pop(\"output\")"
   ]
  },
  {
   "cell_type": "code",
   "execution_count": 649,
   "id": "4b632fc1",
   "metadata": {},
   "outputs": [
    {
     "data": {
      "text/plain": [
       "array([[55,  1],\n",
       "       [39,  9]])"
      ]
     },
     "execution_count": 649,
     "metadata": {},
     "output_type": "execute_result"
    }
   ],
   "source": [
    "y_pred = model1.predict(X_validation_november)\n",
    "confusion_matrix(y_validation_november, y_pred)"
   ]
  },
  {
   "cell_type": "code",
   "execution_count": 650,
   "id": "2bd0210f",
   "metadata": {},
   "outputs": [
    {
     "data": {
      "text/plain": [
       "0.6153846153846154"
      ]
     },
     "execution_count": 650,
     "metadata": {},
     "output_type": "execute_result"
    }
   ],
   "source": [
    "metrics.accuracy_score(y_validation_november, y_pred)"
   ]
  },
  {
   "cell_type": "code",
   "execution_count": 651,
   "id": "e0f77dc4",
   "metadata": {},
   "outputs": [
    {
     "data": {
      "text/plain": [
       "array([[56,  0],\n",
       "       [40,  8]])"
      ]
     },
     "execution_count": 651,
     "metadata": {},
     "output_type": "execute_result"
    }
   ],
   "source": [
    "y_pred = model2.predict(X_validation_november)\n",
    "confusion_matrix(y_validation_november, y_pred)"
   ]
  },
  {
   "cell_type": "code",
   "execution_count": 652,
   "id": "add2a0a7",
   "metadata": {},
   "outputs": [
    {
     "data": {
      "text/plain": [
       "0.6153846153846154"
      ]
     },
     "execution_count": 652,
     "metadata": {},
     "output_type": "execute_result"
    }
   ],
   "source": [
    "metrics.accuracy_score(y_validation_november, y_pred)"
   ]
  },
  {
   "cell_type": "code",
   "execution_count": 658,
   "id": "57bbf15b",
   "metadata": {},
   "outputs": [],
   "source": [
    "y_pred_proba = model1.predict_proba(X_validation_november)[:,1]\n",
    "predict_mine = np.where(y_pred_proba > 0.5, 1, 0)\n",
    "cm1 = confusion_matrix(y_validation_november, predict_mine)\n",
    "\n",
    "y_pred_proba = model2.predict_proba(X_validation_november)[:,1]\n",
    "predict_mine = np.where(y_pred_proba > 0.5, 1, 0)\n",
    "cm2=confusion_matrix(y_validation_november, predict_mine)"
   ]
  },
  {
   "cell_type": "code",
   "execution_count": 659,
   "id": "8bcd2b0c",
   "metadata": {},
   "outputs": [
    {
     "data": {
      "text/plain": [
       "array([[55,  1],\n",
       "       [39,  9]])"
      ]
     },
     "execution_count": 659,
     "metadata": {},
     "output_type": "execute_result"
    }
   ],
   "source": [
    "cm1"
   ]
  },
  {
   "cell_type": "code",
   "execution_count": 660,
   "id": "ee762be8",
   "metadata": {},
   "outputs": [
    {
     "data": {
      "text/plain": [
       "array([[56,  0],\n",
       "       [40,  8]])"
      ]
     },
     "execution_count": 660,
     "metadata": {},
     "output_type": "execute_result"
    }
   ],
   "source": [
    "cm2"
   ]
  },
  {
   "cell_type": "code",
   "execution_count": 661,
   "id": "4959cd81",
   "metadata": {},
   "outputs": [
    {
     "data": {
      "text/plain": [
       "(0.9, 1.0)"
      ]
     },
     "execution_count": 661,
     "metadata": {},
     "output_type": "execute_result"
    }
   ],
   "source": [
    "cm1[1][1]/(cm1[1][1]+cm1[0][1]), cm2[1][1]/(cm2[1][1]+cm2[0][1])"
   ]
  },
  {
   "cell_type": "code",
   "execution_count": 662,
   "id": "af3183c3",
   "metadata": {},
   "outputs": [
    {
     "data": {
      "text/plain": [
       "(9.615384615384617, 7.6923076923076925)"
      ]
     },
     "execution_count": 662,
     "metadata": {},
     "output_type": "execute_result"
    }
   ],
   "source": [
    "(cm1[1][1]+cm1[0][1])/len(y_validation_november)*100, (cm2[1][1]+cm2[0][1])/len(y_validation_november)*100"
   ]
  },
  {
   "cell_type": "code",
   "execution_count": null,
   "id": "1652ea66",
   "metadata": {},
   "outputs": [],
   "source": []
  }
 ],
 "metadata": {
  "kernelspec": {
   "display_name": "Python 3 (ipykernel)",
   "language": "python",
   "name": "python3"
  },
  "language_info": {
   "codemirror_mode": {
    "name": "ipython",
    "version": 3
   },
   "file_extension": ".py",
   "mimetype": "text/x-python",
   "name": "python",
   "nbconvert_exporter": "python",
   "pygments_lexer": "ipython3",
   "version": "3.7.11"
  }
 },
 "nbformat": 4,
 "nbformat_minor": 5
}
