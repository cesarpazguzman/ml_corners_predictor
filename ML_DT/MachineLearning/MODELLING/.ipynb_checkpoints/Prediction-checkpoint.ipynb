{
 "cells": [
  {
   "cell_type": "code",
   "execution_count": 1,
   "id": "0705929c",
   "metadata": {},
   "outputs": [],
   "source": [
    "import pymysql\n",
    "from sklearn.ensemble import RandomForestClassifier\n",
    "from sqlalchemy import create_engine\n",
    "import pandas as pd\n",
    "import matplotlib.pyplot as plt\n",
    "%matplotlib inline\n",
    "import numpy as np\n",
    "from pandasql import sqldf\n",
    "from sklearn import metrics\n",
    "\n",
    "import xgboost as xgb\n",
    "from sklearn.metrics import accuracy_score, confusion_matrix"
   ]
  },
  {
   "cell_type": "code",
   "execution_count": 56,
   "id": "0121f51f",
   "metadata": {},
   "outputs": [],
   "source": [
    "data = pd.read_csv(\"../../FEATURE_ENGINEER/tablon_uppert_60_q2.csv\")\n",
    "\n",
    "X_data = data[data.YEARMONTH>=202109][[\"AVG_CORNERSHOMED1_L3\",\n",
    "                                                                 \"AVG_CORNERSHOMED2_L5\", \"AVG_CORNERSAWAYD1_L5\",\n",
    "                                      \"CORNERS_DIV_SHOTS\",\"AVG_CORNERSAWAYD2_L5\", \"LEAGUE_INGLATERRA\", \"TOTAL_CORNERS\",\n",
    "                                      \"LAST_MINUTECORNER_H_L60\", \"LAST_MINUTECORNER_A_L60\", \"SUM_CORNERS_L60\",\n",
    "                                      \"AVG_CORNERS_LOSE_HOME\",\"CORNERS_A\", \"AVG_CORNERSHOMED1_L5\", \n",
    "                                      \"NUM_MATCHESHOME_POSITIVE_L5\",\"TOTAL_CORNERS_45_60\"]]\n",
    "\n",
    "\n",
    "y_data = X_data.pop(\"output\")"
   ]
  },
  {
   "cell_type": "code",
   "execution_count": 57,
   "id": "5ad0b69b",
   "metadata": {},
   "outputs": [],
   "source": [
    "len_test = int(round(len(tablon)*0.3, 0))\n",
    "len_train = int(round(len(tablon)*0.7, 0))"
   ]
  },
  {
   "cell_type": "code",
   "execution_count": 58,
   "id": "b3d8b56c",
   "metadata": {},
   "outputs": [],
   "source": [
    "X_train = tablon[:len_train]\n",
    "y_train = X_train.pop(\"output\")\n",
    "X_test = tablon[len_train:(len_train+len_test)]\n",
    "y_test = X_test.pop(\"output\")"
   ]
  },
  {
   "cell_type": "code",
   "execution_count": 59,
   "id": "3fe938f9",
   "metadata": {},
   "outputs": [
    {
     "data": {
      "text/plain": [
       "((7818, 15), (3351, 15), (378, 15))"
      ]
     },
     "execution_count": 59,
     "metadata": {},
     "output_type": "execute_result"
    }
   ],
   "source": [
    "X_train.shape, X_test.shape, X_validation.shape"
   ]
  },
  {
   "cell_type": "code",
   "execution_count": 60,
   "id": "e4371695",
   "metadata": {},
   "outputs": [
    {
     "data": {
      "text/plain": [
       "1    4763\n",
       "0    3055\n",
       "Name: output, dtype: int64"
      ]
     },
     "execution_count": 60,
     "metadata": {},
     "output_type": "execute_result"
    }
   ],
   "source": [
    "y_train.value_counts()"
   ]
  },
  {
   "cell_type": "code",
   "execution_count": 61,
   "id": "f73ee8e1",
   "metadata": {},
   "outputs": [
    {
     "data": {
      "text/plain": [
       "1    1906\n",
       "0    1445\n",
       "Name: output, dtype: int64"
      ]
     },
     "execution_count": 61,
     "metadata": {},
     "output_type": "execute_result"
    }
   ],
   "source": [
    "y_test.value_counts()"
   ]
  },
  {
   "cell_type": "code",
   "execution_count": 62,
   "id": "b178d2af",
   "metadata": {},
   "outputs": [
    {
     "data": {
      "text/plain": [
       "1    220\n",
       "0    158\n",
       "Name: output, dtype: int64"
      ]
     },
     "execution_count": 62,
     "metadata": {},
     "output_type": "execute_result"
    }
   ],
   "source": [
    "y_validation.value_counts()"
   ]
  },
  {
   "cell_type": "markdown",
   "id": "35058c53",
   "metadata": {},
   "source": [
    "## EXECUTING BEST MODEL"
   ]
  },
  {
   "cell_type": "code",
   "execution_count": 63,
   "id": "9353c5e4",
   "metadata": {},
   "outputs": [
    {
     "name": "stderr",
     "output_type": "stream",
     "text": [
      "/home/root/opt/python3.7.11/lib/python3.7/site-packages/xgboost/sklearn.py:1224: UserWarning: The use of label encoder in XGBClassifier is deprecated and will be removed in a future release. To remove this warning, do the following: 1) Pass option use_label_encoder=False when constructing XGBClassifier object; and 2) Encode your labels (y) as integers starting with 0, i.e. 0, 1, 2, ..., [num_class - 1].\n",
      "  warnings.warn(label_encoder_deprecation_msg, UserWarning)\n"
     ]
    },
    {
     "name": "stdout",
     "output_type": "stream",
     "text": [
      "[0]\tvalidation_0-auc:0.62509\tvalidation_0-logloss:0.69147\tvalidation_0-error:0.35482\n",
      "[1]\tvalidation_0-auc:0.63121\tvalidation_0-logloss:0.68985\tvalidation_0-error:0.35452\n",
      "[2]\tvalidation_0-auc:0.63316\tvalidation_0-logloss:0.68833\tvalidation_0-error:0.35572\n",
      "[3]\tvalidation_0-auc:0.63296\tvalidation_0-logloss:0.68699\tvalidation_0-error:0.35601\n",
      "[4]\tvalidation_0-auc:0.63254\tvalidation_0-logloss:0.68553\tvalidation_0-error:0.35512\n",
      "[5]\tvalidation_0-auc:0.63424\tvalidation_0-logloss:0.68411\tvalidation_0-error:0.35631\n",
      "[6]\tvalidation_0-auc:0.63198\tvalidation_0-logloss:0.68291\tvalidation_0-error:0.35572\n",
      "[7]\tvalidation_0-auc:0.63290\tvalidation_0-logloss:0.68155\tvalidation_0-error:0.35482\n",
      "[8]\tvalidation_0-auc:0.63278\tvalidation_0-logloss:0.68030\tvalidation_0-error:0.35452\n",
      "[9]\tvalidation_0-auc:0.63170\tvalidation_0-logloss:0.67918\tvalidation_0-error:0.35542\n",
      "[10]\tvalidation_0-auc:0.63143\tvalidation_0-logloss:0.67798\tvalidation_0-error:0.35482\n",
      "[11]\tvalidation_0-auc:0.63158\tvalidation_0-logloss:0.67680\tvalidation_0-error:0.35452\n",
      "[12]\tvalidation_0-auc:0.63046\tvalidation_0-logloss:0.67566\tvalidation_0-error:0.35422\n",
      "[13]\tvalidation_0-auc:0.62890\tvalidation_0-logloss:0.67458\tvalidation_0-error:0.35482\n",
      "[14]\tvalidation_0-auc:0.62858\tvalidation_0-logloss:0.67351\tvalidation_0-error:0.35422\n",
      "[15]\tvalidation_0-auc:0.62850\tvalidation_0-logloss:0.67248\tvalidation_0-error:0.35542\n",
      "[16]\tvalidation_0-auc:0.62923\tvalidation_0-logloss:0.67144\tvalidation_0-error:0.35452\n",
      "[17]\tvalidation_0-auc:0.62989\tvalidation_0-logloss:0.67045\tvalidation_0-error:0.35482\n",
      "[18]\tvalidation_0-auc:0.62924\tvalidation_0-logloss:0.66952\tvalidation_0-error:0.35422\n",
      "[19]\tvalidation_0-auc:0.62926\tvalidation_0-logloss:0.66860\tvalidation_0-error:0.35452\n",
      "[20]\tvalidation_0-auc:0.62905\tvalidation_0-logloss:0.66769\tvalidation_0-error:0.35452\n",
      "[21]\tvalidation_0-auc:0.62849\tvalidation_0-logloss:0.66685\tvalidation_0-error:0.35422\n",
      "[22]\tvalidation_0-auc:0.62857\tvalidation_0-logloss:0.66602\tvalidation_0-error:0.35452\n",
      "[23]\tvalidation_0-auc:0.62889\tvalidation_0-logloss:0.66522\tvalidation_0-error:0.35422\n",
      "[24]\tvalidation_0-auc:0.62871\tvalidation_0-logloss:0.66442\tvalidation_0-error:0.35452\n",
      "[25]\tvalidation_0-auc:0.62936\tvalidation_0-logloss:0.66366\tvalidation_0-error:0.35452\n",
      "[26]\tvalidation_0-auc:0.62949\tvalidation_0-logloss:0.66291\tvalidation_0-error:0.35512\n",
      "[27]\tvalidation_0-auc:0.62927\tvalidation_0-logloss:0.66218\tvalidation_0-error:0.35512\n",
      "[28]\tvalidation_0-auc:0.62879\tvalidation_0-logloss:0.66154\tvalidation_0-error:0.35422\n",
      "[29]\tvalidation_0-auc:0.62840\tvalidation_0-logloss:0.66086\tvalidation_0-error:0.35422\n",
      "[30]\tvalidation_0-auc:0.62882\tvalidation_0-logloss:0.66026\tvalidation_0-error:0.35452\n",
      "[31]\tvalidation_0-auc:0.62818\tvalidation_0-logloss:0.65968\tvalidation_0-error:0.35452\n",
      "[32]\tvalidation_0-auc:0.62850\tvalidation_0-logloss:0.65904\tvalidation_0-error:0.35482\n",
      "[33]\tvalidation_0-auc:0.62831\tvalidation_0-logloss:0.65843\tvalidation_0-error:0.35452\n",
      "[34]\tvalidation_0-auc:0.62848\tvalidation_0-logloss:0.65784\tvalidation_0-error:0.35452\n",
      "[35]\tvalidation_0-auc:0.62867\tvalidation_0-logloss:0.65727\tvalidation_0-error:0.35482\n",
      "[36]\tvalidation_0-auc:0.62832\tvalidation_0-logloss:0.65672\tvalidation_0-error:0.35482\n",
      "[37]\tvalidation_0-auc:0.62940\tvalidation_0-logloss:0.65622\tvalidation_0-error:0.35512\n",
      "[38]\tvalidation_0-auc:0.62944\tvalidation_0-logloss:0.65574\tvalidation_0-error:0.35482\n",
      "[39]\tvalidation_0-auc:0.62978\tvalidation_0-logloss:0.65522\tvalidation_0-error:0.35512\n",
      "[40]\tvalidation_0-auc:0.63000\tvalidation_0-logloss:0.65472\tvalidation_0-error:0.35482\n",
      "[41]\tvalidation_0-auc:0.63008\tvalidation_0-logloss:0.65422\tvalidation_0-error:0.35452\n",
      "[42]\tvalidation_0-auc:0.63042\tvalidation_0-logloss:0.65374\tvalidation_0-error:0.35482\n",
      "[43]\tvalidation_0-auc:0.63033\tvalidation_0-logloss:0.65327\tvalidation_0-error:0.35482\n",
      "[44]\tvalidation_0-auc:0.63059\tvalidation_0-logloss:0.65282\tvalidation_0-error:0.35512\n",
      "[45]\tvalidation_0-auc:0.63024\tvalidation_0-logloss:0.65247\tvalidation_0-error:0.35482\n",
      "[46]\tvalidation_0-auc:0.63034\tvalidation_0-logloss:0.65209\tvalidation_0-error:0.35482\n",
      "[47]\tvalidation_0-auc:0.63009\tvalidation_0-logloss:0.65170\tvalidation_0-error:0.35452\n",
      "[48]\tvalidation_0-auc:0.63047\tvalidation_0-logloss:0.65130\tvalidation_0-error:0.35482\n",
      "[49]\tvalidation_0-auc:0.63069\tvalidation_0-logloss:0.65090\tvalidation_0-error:0.35482\n",
      "[50]\tvalidation_0-auc:0.63069\tvalidation_0-logloss:0.65055\tvalidation_0-error:0.35452\n",
      "[51]\tvalidation_0-auc:0.63094\tvalidation_0-logloss:0.65018\tvalidation_0-error:0.35512\n",
      "[52]\tvalidation_0-auc:0.63129\tvalidation_0-logloss:0.64981\tvalidation_0-error:0.35512\n",
      "[53]\tvalidation_0-auc:0.63156\tvalidation_0-logloss:0.64949\tvalidation_0-error:0.35482\n",
      "[54]\tvalidation_0-auc:0.63124\tvalidation_0-logloss:0.64920\tvalidation_0-error:0.35452\n",
      "[55]\tvalidation_0-auc:0.63135\tvalidation_0-logloss:0.64889\tvalidation_0-error:0.35452\n",
      "[56]\tvalidation_0-auc:0.63160\tvalidation_0-logloss:0.64858\tvalidation_0-error:0.35452\n",
      "[57]\tvalidation_0-auc:0.63147\tvalidation_0-logloss:0.64829\tvalidation_0-error:0.35482\n",
      "[58]\tvalidation_0-auc:0.63128\tvalidation_0-logloss:0.64801\tvalidation_0-error:0.35512\n",
      "[59]\tvalidation_0-auc:0.63131\tvalidation_0-logloss:0.64776\tvalidation_0-error:0.35482\n",
      "[60]\tvalidation_0-auc:0.63126\tvalidation_0-logloss:0.64750\tvalidation_0-error:0.35512\n",
      "[61]\tvalidation_0-auc:0.63121\tvalidation_0-logloss:0.64724\tvalidation_0-error:0.35482\n",
      "[62]\tvalidation_0-auc:0.63133\tvalidation_0-logloss:0.64700\tvalidation_0-error:0.35482\n",
      "[63]\tvalidation_0-auc:0.63138\tvalidation_0-logloss:0.64677\tvalidation_0-error:0.35452\n",
      "[64]\tvalidation_0-auc:0.63119\tvalidation_0-logloss:0.64655\tvalidation_0-error:0.35452\n",
      "[65]\tvalidation_0-auc:0.63127\tvalidation_0-logloss:0.64634\tvalidation_0-error:0.35422\n",
      "[66]\tvalidation_0-auc:0.63113\tvalidation_0-logloss:0.64616\tvalidation_0-error:0.35452\n",
      "[67]\tvalidation_0-auc:0.63136\tvalidation_0-logloss:0.64593\tvalidation_0-error:0.35452\n",
      "[68]\tvalidation_0-auc:0.63156\tvalidation_0-logloss:0.64571\tvalidation_0-error:0.35422\n",
      "[69]\tvalidation_0-auc:0.63143\tvalidation_0-logloss:0.64552\tvalidation_0-error:0.35422\n",
      "[70]\tvalidation_0-auc:0.63144\tvalidation_0-logloss:0.64533\tvalidation_0-error:0.35452\n",
      "[71]\tvalidation_0-auc:0.63150\tvalidation_0-logloss:0.64512\tvalidation_0-error:0.35422\n",
      "[72]\tvalidation_0-auc:0.63150\tvalidation_0-logloss:0.64494\tvalidation_0-error:0.35422\n",
      "[73]\tvalidation_0-auc:0.63173\tvalidation_0-logloss:0.64474\tvalidation_0-error:0.35422\n",
      "[74]\tvalidation_0-auc:0.63163\tvalidation_0-logloss:0.64458\tvalidation_0-error:0.35452\n",
      "[75]\tvalidation_0-auc:0.63155\tvalidation_0-logloss:0.64440\tvalidation_0-error:0.35392\n",
      "[76]\tvalidation_0-auc:0.63162\tvalidation_0-logloss:0.64422\tvalidation_0-error:0.35392\n",
      "[77]\tvalidation_0-auc:0.63174\tvalidation_0-logloss:0.64405\tvalidation_0-error:0.35392\n",
      "[78]\tvalidation_0-auc:0.63162\tvalidation_0-logloss:0.64391\tvalidation_0-error:0.35392\n",
      "[79]\tvalidation_0-auc:0.63161\tvalidation_0-logloss:0.64380\tvalidation_0-error:0.35392\n",
      "[80]\tvalidation_0-auc:0.63169\tvalidation_0-logloss:0.64364\tvalidation_0-error:0.35422\n",
      "[81]\tvalidation_0-auc:0.63178\tvalidation_0-logloss:0.64348\tvalidation_0-error:0.35363\n",
      "[82]\tvalidation_0-auc:0.63168\tvalidation_0-logloss:0.64335\tvalidation_0-error:0.35363\n",
      "[83]\tvalidation_0-auc:0.63136\tvalidation_0-logloss:0.64328\tvalidation_0-error:0.35363\n",
      "[84]\tvalidation_0-auc:0.63135\tvalidation_0-logloss:0.64317\tvalidation_0-error:0.35363\n",
      "[85]\tvalidation_0-auc:0.63143\tvalidation_0-logloss:0.64304\tvalidation_0-error:0.35392\n",
      "[86]\tvalidation_0-auc:0.63134\tvalidation_0-logloss:0.64294\tvalidation_0-error:0.35363\n",
      "[87]\tvalidation_0-auc:0.63125\tvalidation_0-logloss:0.64286\tvalidation_0-error:0.35392\n",
      "[88]\tvalidation_0-auc:0.63120\tvalidation_0-logloss:0.64275\tvalidation_0-error:0.35392\n",
      "[89]\tvalidation_0-auc:0.63124\tvalidation_0-logloss:0.64266\tvalidation_0-error:0.35392\n",
      "[90]\tvalidation_0-auc:0.63138\tvalidation_0-logloss:0.64256\tvalidation_0-error:0.35392\n",
      "[91]\tvalidation_0-auc:0.63122\tvalidation_0-logloss:0.64248\tvalidation_0-error:0.35392\n",
      "[92]\tvalidation_0-auc:0.63111\tvalidation_0-logloss:0.64241\tvalidation_0-error:0.35392\n",
      "[93]\tvalidation_0-auc:0.63129\tvalidation_0-logloss:0.64229\tvalidation_0-error:0.35392\n",
      "[94]\tvalidation_0-auc:0.63118\tvalidation_0-logloss:0.64220\tvalidation_0-error:0.35392\n",
      "[95]\tvalidation_0-auc:0.63110\tvalidation_0-logloss:0.64215\tvalidation_0-error:0.35392\n"
     ]
    },
    {
     "name": "stdout",
     "output_type": "stream",
     "text": [
      "[96]\tvalidation_0-auc:0.63103\tvalidation_0-logloss:0.64206\tvalidation_0-error:0.35392\n",
      "[97]\tvalidation_0-auc:0.63100\tvalidation_0-logloss:0.64200\tvalidation_0-error:0.35392\n",
      "[98]\tvalidation_0-auc:0.63090\tvalidation_0-logloss:0.64193\tvalidation_0-error:0.35392\n",
      "[99]\tvalidation_0-auc:0.63098\tvalidation_0-logloss:0.64184\tvalidation_0-error:0.35392\n",
      "[100]\tvalidation_0-auc:0.63102\tvalidation_0-logloss:0.64177\tvalidation_0-error:0.35422\n",
      "[101]\tvalidation_0-auc:0.63089\tvalidation_0-logloss:0.64172\tvalidation_0-error:0.35392\n",
      "[102]\tvalidation_0-auc:0.63089\tvalidation_0-logloss:0.64167\tvalidation_0-error:0.35422\n",
      "[103]\tvalidation_0-auc:0.63080\tvalidation_0-logloss:0.64160\tvalidation_0-error:0.35392\n",
      "[104]\tvalidation_0-auc:0.63067\tvalidation_0-logloss:0.64155\tvalidation_0-error:0.35333\n",
      "[105]\tvalidation_0-auc:0.63061\tvalidation_0-logloss:0.64148\tvalidation_0-error:0.35333\n",
      "[106]\tvalidation_0-auc:0.63079\tvalidation_0-logloss:0.64139\tvalidation_0-error:0.35333\n",
      "[107]\tvalidation_0-auc:0.63065\tvalidation_0-logloss:0.64136\tvalidation_0-error:0.35333\n",
      "[108]\tvalidation_0-auc:0.63073\tvalidation_0-logloss:0.64131\tvalidation_0-error:0.35333\n",
      "[109]\tvalidation_0-auc:0.63078\tvalidation_0-logloss:0.64126\tvalidation_0-error:0.35333\n",
      "[110]\tvalidation_0-auc:0.63056\tvalidation_0-logloss:0.64124\tvalidation_0-error:0.35333\n",
      "[111]\tvalidation_0-auc:0.63028\tvalidation_0-logloss:0.64124\tvalidation_0-error:0.35333\n",
      "[112]\tvalidation_0-auc:0.63032\tvalidation_0-logloss:0.64121\tvalidation_0-error:0.35333\n",
      "[113]\tvalidation_0-auc:0.63013\tvalidation_0-logloss:0.64118\tvalidation_0-error:0.35363\n",
      "[114]\tvalidation_0-auc:0.63001\tvalidation_0-logloss:0.64117\tvalidation_0-error:0.35363\n",
      "[115]\tvalidation_0-auc:0.63005\tvalidation_0-logloss:0.64112\tvalidation_0-error:0.35363\n",
      "[116]\tvalidation_0-auc:0.63000\tvalidation_0-logloss:0.64111\tvalidation_0-error:0.35333\n",
      "[117]\tvalidation_0-auc:0.62982\tvalidation_0-logloss:0.64110\tvalidation_0-error:0.35333\n",
      "[118]\tvalidation_0-auc:0.62974\tvalidation_0-logloss:0.64109\tvalidation_0-error:0.35333\n",
      "[119]\tvalidation_0-auc:0.62964\tvalidation_0-logloss:0.64107\tvalidation_0-error:0.35333\n",
      "[120]\tvalidation_0-auc:0.62960\tvalidation_0-logloss:0.64106\tvalidation_0-error:0.35333\n",
      "[121]\tvalidation_0-auc:0.62957\tvalidation_0-logloss:0.64101\tvalidation_0-error:0.35363\n",
      "[122]\tvalidation_0-auc:0.62966\tvalidation_0-logloss:0.64098\tvalidation_0-error:0.35363\n",
      "[123]\tvalidation_0-auc:0.62970\tvalidation_0-logloss:0.64094\tvalidation_0-error:0.35363\n",
      "[124]\tvalidation_0-auc:0.62978\tvalidation_0-logloss:0.64092\tvalidation_0-error:0.35363\n",
      "[125]\tvalidation_0-auc:0.62966\tvalidation_0-logloss:0.64091\tvalidation_0-error:0.35333\n",
      "[126]\tvalidation_0-auc:0.62992\tvalidation_0-logloss:0.64087\tvalidation_0-error:0.35333\n",
      "[127]\tvalidation_0-auc:0.62980\tvalidation_0-logloss:0.64086\tvalidation_0-error:0.35333\n",
      "[128]\tvalidation_0-auc:0.62972\tvalidation_0-logloss:0.64085\tvalidation_0-error:0.35333\n",
      "[129]\tvalidation_0-auc:0.62965\tvalidation_0-logloss:0.64085\tvalidation_0-error:0.35333\n"
     ]
    },
    {
     "data": {
      "text/plain": [
       "XGBClassifier(base_score=0.5, booster='gbtree', colsample_bylevel=1,\n",
       "              colsample_bynode=1, colsample_bytree=0.65,\n",
       "              enable_categorical=False, eta=0.015,\n",
       "              eval_metric=['auc', 'logloss', 'error'], gamma=1.25, gpu_id=-1,\n",
       "              importance_type=None, interaction_constraints='',\n",
       "              learning_rate=0.0149999997, max_delta_step=0, max_depth=6,\n",
       "              min_child_weight=30, missing=nan, monotone_constraints='()',\n",
       "              n_estimators=130, n_jobs=12, num_parallel_tree=1,\n",
       "              predictor='auto', random_state=123, reg_alpha=0, reg_lambda=1,\n",
       "              scale_pos_weight=1, subsample=1, tree_method='exact',\n",
       "              validate_parameters=1, verbosity=None)"
      ]
     },
     "execution_count": 63,
     "metadata": {},
     "output_type": "execute_result"
    }
   ],
   "source": [
    "model = xgb.XGBClassifier(objective='binary:logistic', n_estimators=130, max_depth=6, gamma=1.25, eta=0.015,\n",
    "                          min_child_weight=30, colsample_bytree=0.65, \n",
    "                          random_state=123, eval_metric=[\"auc\", \"logloss\", \"error\"])\n",
    "model.fit(X_train, y_train, eval_set=[(X_test, y_test)])"
   ]
  },
  {
   "cell_type": "code",
   "execution_count": 64,
   "id": "fd60cb85",
   "metadata": {},
   "outputs": [
    {
     "data": {
      "text/plain": [
       "<AxesSubplot:>"
      ]
     },
     "execution_count": 64,
     "metadata": {},
     "output_type": "execute_result"
    },
    {
     "data": {
      "image/png": "[encoded data removed]",
      "text/plain": [
       "<Figure size 432x288 with 1 Axes>"
      ]
     },
     "metadata": {
      "needs_background": "light"
     },
     "output_type": "display_data"
    }
   ],
   "source": [
    "fu_dict = dict(zip(X_train.columns, model.feature_importances_))\n",
    "fi = pd.DataFrame(fu_dict.values(), index=fu_dict.keys(), columns=[\"importance\"])\n",
    "fi = fi.sort_values(by=\"importance\", ascending=False)\n",
    "\n",
    "fi.plot.bar()"
   ]
  },
  {
   "cell_type": "code",
   "execution_count": 65,
   "id": "ff8a7a70",
   "metadata": {},
   "outputs": [
    {
     "data": {
      "text/plain": [
       "array([[ 366, 1079],\n",
       "       [ 105, 1801]])"
      ]
     },
     "execution_count": 65,
     "metadata": {},
     "output_type": "execute_result"
    }
   ],
   "source": [
    "y_pred1 = model.predict(X_test)\n",
    "cm = confusion_matrix(y_test, y_pred1)\n",
    "cm"
   ]
  },
  {
   "cell_type": "code",
   "execution_count": 81,
   "id": "2a85372f",
   "metadata": {},
   "outputs": [
    {
     "data": {
      "text/plain": [
       "0.7770700636942676"
      ]
     },
     "execution_count": 81,
     "metadata": {},
     "output_type": "execute_result"
    }
   ],
   "source": [
    "cm[0][0]/(cm[1][0]+cm[0][0])"
   ]
  },
  {
   "cell_type": "code",
   "execution_count": 82,
   "id": "7e46167a",
   "metadata": {},
   "outputs": [
    {
     "data": {
      "text/plain": [
       "14.055505819158459"
      ]
     },
     "execution_count": 82,
     "metadata": {},
     "output_type": "execute_result"
    }
   ],
   "source": [
    "(cm[0][0]+cm[1][0])/len(y_test)*100"
   ]
  },
  {
   "cell_type": "markdown",
   "id": "bd2cf07a",
   "metadata": {},
   "source": [
    "# VALIDATION - BEST MODEL --> 70% accuracy in 17% of matches"
   ]
  },
  {
   "cell_type": "code",
   "execution_count": 83,
   "id": "31566b6c",
   "metadata": {},
   "outputs": [
    {
     "data": {
      "text/plain": [
       "array([[ 47, 111],\n",
       "       [ 13, 207]])"
      ]
     },
     "execution_count": 83,
     "metadata": {},
     "output_type": "execute_result"
    }
   ],
   "source": [
    "y_pred = model.predict(X_validation)\n",
    "cm = confusion_matrix(y_validation, y_pred)\n",
    "cm"
   ]
  },
  {
   "cell_type": "code",
   "execution_count": 84,
   "id": "8792d422",
   "metadata": {},
   "outputs": [
    {
     "data": {
      "text/plain": [
       "0.7833333333333333"
      ]
     },
     "execution_count": 84,
     "metadata": {},
     "output_type": "execute_result"
    }
   ],
   "source": [
    "cm[0][0]/(cm[1][0]+cm[0][0])"
   ]
  },
  {
   "cell_type": "code",
   "execution_count": 85,
   "id": "e19d4fb4",
   "metadata": {},
   "outputs": [
    {
     "data": {
      "text/plain": [
       "15.873015873015872"
      ]
     },
     "execution_count": 85,
     "metadata": {},
     "output_type": "execute_result"
    }
   ],
   "source": [
    "(cm[0][0]+cm[1][0])/len(y_validation)*100"
   ]
  },
  {
   "cell_type": "code",
   "execution_count": 86,
   "id": "dbd587ba",
   "metadata": {},
   "outputs": [
    {
     "data": {
      "text/plain": [
       "array([[1361,   84],\n",
       "       [1732,  174]])"
      ]
     },
     "execution_count": 86,
     "metadata": {},
     "output_type": "execute_result"
    }
   ],
   "source": [
    "cm1"
   ]
  },
  {
   "cell_type": "markdown",
   "id": "ad7f885b",
   "metadata": {},
   "source": [
    "## FINAL VALIDATION - NOVEMBER 2021"
   ]
  },
  {
   "cell_type": "code",
   "execution_count": 87,
   "id": "2ff81e36",
   "metadata": {},
   "outputs": [
    {
     "data": {
      "text/plain": [
       "array([[ 9, 39],\n",
       "       [ 0, 56]])"
      ]
     },
     "execution_count": 87,
     "metadata": {},
     "output_type": "execute_result"
    }
   ],
   "source": [
    "y_pred = model.predict(X_validation_november)\n",
    "cm = confusion_matrix(y_validation_november, y_pred)\n",
    "cm"
   ]
  },
  {
   "cell_type": "code",
   "execution_count": 88,
   "id": "8c44788e",
   "metadata": {},
   "outputs": [
    {
     "data": {
      "text/plain": [
       "1.0"
      ]
     },
     "execution_count": 88,
     "metadata": {},
     "output_type": "execute_result"
    }
   ],
   "source": [
    "cm[0][0]/(cm[1][0]+cm[0][0])"
   ]
  },
  {
   "cell_type": "code",
   "execution_count": 89,
   "id": "9f8859f0",
   "metadata": {},
   "outputs": [
    {
     "data": {
      "text/plain": [
       "8.653846153846153"
      ]
     },
     "execution_count": 89,
     "metadata": {},
     "output_type": "execute_result"
    }
   ],
   "source": [
    "(cm[0][0]+cm[1][0])/len(y_validation_november)*100"
   ]
  },
  {
   "cell_type": "code",
   "execution_count": 90,
   "id": "433abf23",
   "metadata": {},
   "outputs": [],
   "source": [
    "#umbral --> 0.58; Condition --> TOTAL_CORNERS > 3\n",
    "import pickle\n",
    "file_name = \"model_under3_60.pkl\"\n",
    "\n",
    "# save\n",
    "pickle.dump(model, open(file_name, \"wb\"))\n",
    "\n",
    "# load\n",
    "#xgb_model_loaded = pickle.load(open(file_name, \"rb\"))\n"
   ]
  },
  {
   "cell_type": "code",
   "execution_count": null,
   "id": "74594fdf",
   "metadata": {},
   "outputs": [],
   "source": []
  },
  {
   "cell_type": "markdown",
   "id": "fd483e1a",
   "metadata": {},
   "source": [
    "# OUTPUT"
   ]
  },
  {
   "cell_type": "code",
   "execution_count": 69,
   "id": "e438cbca",
   "metadata": {},
   "outputs": [],
   "source": [
    "output = data[(data.YEARMONTH>=202111 )& (data.TOTAL_CORNERS>3)][[\"ID\", \"output\", \"CORNERS_H\", \"CORNERS_A\", \"TOTAL_CORNERS\"]].reset_index(drop=True)"
   ]
  },
  {
   "cell_type": "code",
   "execution_count": 70,
   "id": "a9ace64f",
   "metadata": {},
   "outputs": [],
   "source": [
    "output[\"PROB_CORNERS\"] = pd.DataFrame(model.predict_proba(X_validation_november)[:,1]).iloc[:, 0]\\\n",
    "    .apply(lambda x: 1 if x>0.6 else 0)"
   ]
  },
  {
   "cell_type": "code",
   "execution_count": 71,
   "id": "a8486cc5",
   "metadata": {},
   "outputs": [
    {
     "data": {
      "text/html": [
       "<div>\n",
       "<style scoped>\n",
       "    .dataframe tbody tr th:only-of-type {\n",
       "        vertical-align: middle;\n",
       "    }\n",
       "\n",
       "    .dataframe tbody tr th {\n",
       "        vertical-align: top;\n",
       "    }\n",
       "\n",
       "    .dataframe thead th {\n",
       "        text-align: right;\n",
       "    }\n",
       "</style>\n",
       "<table border=\"1\" class=\"dataframe\">\n",
       "  <thead>\n",
       "    <tr style=\"text-align: right;\">\n",
       "      <th></th>\n",
       "      <th>ID</th>\n",
       "      <th>output</th>\n",
       "      <th>CORNERS_H</th>\n",
       "      <th>CORNERS_A</th>\n",
       "      <th>TOTAL_CORNERS</th>\n",
       "      <th>PROB_CORNERS</th>\n",
       "    </tr>\n",
       "  </thead>\n",
       "  <tbody>\n",
       "    <tr>\n",
       "      <th>1</th>\n",
       "      <td>nsYoAO57</td>\n",
       "      <td>0</td>\n",
       "      <td>5</td>\n",
       "      <td>1</td>\n",
       "      <td>6</td>\n",
       "      <td>1</td>\n",
       "    </tr>\n",
       "    <tr>\n",
       "      <th>2</th>\n",
       "      <td>p0AwSvlE</td>\n",
       "      <td>0</td>\n",
       "      <td>4</td>\n",
       "      <td>5</td>\n",
       "      <td>9</td>\n",
       "      <td>1</td>\n",
       "    </tr>\n",
       "    <tr>\n",
       "      <th>3</th>\n",
       "      <td>My8ONsz7</td>\n",
       "      <td>0</td>\n",
       "      <td>10</td>\n",
       "      <td>7</td>\n",
       "      <td>17</td>\n",
       "      <td>1</td>\n",
       "    </tr>\n",
       "    <tr>\n",
       "      <th>4</th>\n",
       "      <td>G2atNzD8</td>\n",
       "      <td>1</td>\n",
       "      <td>7</td>\n",
       "      <td>5</td>\n",
       "      <td>12</td>\n",
       "      <td>1</td>\n",
       "    </tr>\n",
       "    <tr>\n",
       "      <th>5</th>\n",
       "      <td>CUhkLEsL</td>\n",
       "      <td>0</td>\n",
       "      <td>2</td>\n",
       "      <td>7</td>\n",
       "      <td>9</td>\n",
       "      <td>1</td>\n",
       "    </tr>\n",
       "    <tr>\n",
       "      <th>...</th>\n",
       "      <td>...</td>\n",
       "      <td>...</td>\n",
       "      <td>...</td>\n",
       "      <td>...</td>\n",
       "      <td>...</td>\n",
       "      <td>...</td>\n",
       "    </tr>\n",
       "    <tr>\n",
       "      <th>85</th>\n",
       "      <td>xI3tKroU</td>\n",
       "      <td>1</td>\n",
       "      <td>4</td>\n",
       "      <td>5</td>\n",
       "      <td>9</td>\n",
       "      <td>1</td>\n",
       "    </tr>\n",
       "    <tr>\n",
       "      <th>86</th>\n",
       "      <td>lG5l5XHe</td>\n",
       "      <td>1</td>\n",
       "      <td>2</td>\n",
       "      <td>2</td>\n",
       "      <td>4</td>\n",
       "      <td>1</td>\n",
       "    </tr>\n",
       "    <tr>\n",
       "      <th>88</th>\n",
       "      <td>EFCLO6Wb</td>\n",
       "      <td>1</td>\n",
       "      <td>6</td>\n",
       "      <td>2</td>\n",
       "      <td>8</td>\n",
       "      <td>1</td>\n",
       "    </tr>\n",
       "    <tr>\n",
       "      <th>89</th>\n",
       "      <td>445YL4GH</td>\n",
       "      <td>1</td>\n",
       "      <td>5</td>\n",
       "      <td>1</td>\n",
       "      <td>6</td>\n",
       "      <td>1</td>\n",
       "    </tr>\n",
       "    <tr>\n",
       "      <th>90</th>\n",
       "      <td>Ewe8F2go</td>\n",
       "      <td>0</td>\n",
       "      <td>6</td>\n",
       "      <td>3</td>\n",
       "      <td>9</td>\n",
       "      <td>1</td>\n",
       "    </tr>\n",
       "  </tbody>\n",
       "</table>\n",
       "<p>81 rows × 6 columns</p>\n",
       "</div>"
      ],
      "text/plain": [
       "          ID  output  CORNERS_H  CORNERS_A  TOTAL_CORNERS  PROB_CORNERS\n",
       "1   nsYoAO57       0          5          1              6             1\n",
       "2   p0AwSvlE       0          4          5              9             1\n",
       "3   My8ONsz7       0         10          7             17             1\n",
       "4   G2atNzD8       1          7          5             12             1\n",
       "5   CUhkLEsL       0          2          7              9             1\n",
       "..       ...     ...        ...        ...            ...           ...\n",
       "85  xI3tKroU       1          4          5              9             1\n",
       "86  lG5l5XHe       1          2          2              4             1\n",
       "88  EFCLO6Wb       1          6          2              8             1\n",
       "89  445YL4GH       1          5          1              6             1\n",
       "90  Ewe8F2go       0          6          3              9             1\n",
       "\n",
       "[81 rows x 6 columns]"
      ]
     },
     "execution_count": 71,
     "metadata": {},
     "output_type": "execute_result"
    }
   ],
   "source": [
    "output[output.PROB_CORNERS==1]"
   ]
  },
  {
   "cell_type": "code",
   "execution_count": null,
   "id": "c616056a",
   "metadata": {},
   "outputs": [],
   "source": []
  }
 ],
 "metadata": {
  "kernelspec": {
   "display_name": "Python 3 (ipykernel)",
   "language": "python",
   "name": "python3"
  },
  "language_info": {
   "codemirror_mode": {
    "name": "ipython",
    "version": 3
   },
   "file_extension": ".py",
   "mimetype": "text/x-python",
   "name": "python",
   "nbconvert_exporter": "python",
   "pygments_lexer": "ipython3",
   "version": "3.7.11"
  }
 },
 "nbformat": 4,
 "nbformat_minor": 5
}
