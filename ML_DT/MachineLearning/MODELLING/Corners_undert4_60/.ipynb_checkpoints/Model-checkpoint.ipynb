{
 "cells": [
  {
   "cell_type": "code",
   "execution_count": 1,
   "id": "0705929c",
   "metadata": {},
   "outputs": [],
   "source": [
    "import pymysql\n",
    "from sklearn.ensemble import RandomForestClassifier\n",
    "from sqlalchemy import create_engine\n",
    "import pandas as pd\n",
    "import matplotlib.pyplot as plt\n",
    "%matplotlib inline\n",
    "import numpy as np\n",
    "from pandasql import sqldf\n",
    "from sklearn import metrics\n",
    "\n",
    "import xgboost as xgb\n",
    "from sklearn.metrics import accuracy_score, confusion_matrix"
   ]
  },
  {
   "cell_type": "code",
   "execution_count": 201,
   "id": "0121f51f",
   "metadata": {},
   "outputs": [],
   "source": [
    "data = pd.read_csv(\"../../FEATURE_ENGINEER/tablon_undert_60_q4.csv\")\n",
    "\n",
    "tablon = data[(data.YEARMONTH<202111) & (data.TOTAL_CORNERS>3)][[\"AVG_CORNERSHOMED1_L3\",\n",
    "                                                                 \"AVG_CORNERSHOMED2_L5\", \"AVG_CORNERSAWAYD1_L5\",\n",
    "                                      \"CORNERS_DIV_SHOTS\",\"AVG_CORNERSAWAYD2_L5\", \"LEAGUE_INGLATERRA\", \"TOTAL_CORNERS\",\n",
    "                                      \"LAST_MINUTECORNER_H_L60\", \"LAST_MINUTECORNER_A_L60\", \"SUM_CORNERS_L60\",\n",
    "                                      \"AVG_CORNERS_LOSE_HOME\",\"CORNERS_A\", \"AVG_CORNERSHOMED1_L5\", \n",
    "                                      \"NUM_MATCHESHOME_POSITIVE_L5\", \"output\",\"TOTAL_CORNERS_45_60\"]]\n",
    "\n",
    "X_validation_november = data[(data.YEARMONTH>=202111 )& (data.TOTAL_CORNERS>3)][[\"AVG_CORNERSHOMED1_L3\",\"AVG_CORNERSHOMED2_L5\", \"AVG_CORNERSAWAYD1_L5\",\n",
    "                                      \"CORNERS_DIV_SHOTS\",\"AVG_CORNERSAWAYD2_L5\", \"LEAGUE_INGLATERRA\", \"TOTAL_CORNERS\",\n",
    "                                      \"LAST_MINUTECORNER_H_L60\", \"LAST_MINUTECORNER_A_L60\", \"SUM_CORNERS_L60\",\n",
    "                                      \"AVG_CORNERS_LOSE_HOME\",\"CORNERS_A\", \"AVG_CORNERSHOMED1_L5\", \n",
    "                                      \"NUM_MATCHESHOME_POSITIVE_L5\", \"output\",\"TOTAL_CORNERS_45_60\"]]"
   ]
  },
  {
   "cell_type": "code",
   "execution_count": 202,
   "id": "5ad0b69b",
   "metadata": {},
   "outputs": [],
   "source": [
    "len_test = int(round(len(tablon)*0.25, 0))\n",
    "len_train = int(round(len(tablon)*0.6, 0))"
   ]
  },
  {
   "cell_type": "code",
   "execution_count": 203,
   "id": "b3d8b56c",
   "metadata": {},
   "outputs": [],
   "source": [
    "X_train = tablon[:len_train]\n",
    "y_train = X_train.pop(\"output\")\n",
    "X_test = tablon[len_train:(len_train+len_test)]\n",
    "y_test = X_test.pop(\"output\")\n",
    "X_validation = tablon[(len_train+len_test):]\n",
    "y_validation = X_validation.pop(\"output\")"
   ]
  },
  {
   "cell_type": "code",
   "execution_count": 204,
   "id": "3fe938f9",
   "metadata": {},
   "outputs": [
    {
     "data": {
      "text/plain": [
       "((5366, 22), (2236, 22), (1342, 22))"
      ]
     },
     "execution_count": 204,
     "metadata": {},
     "output_type": "execute_result"
    }
   ],
   "source": [
    "X_train.shape, X_test.shape, X_validation.shape"
   ]
  },
  {
   "cell_type": "code",
   "execution_count": 205,
   "id": "e4371695",
   "metadata": {},
   "outputs": [
    {
     "data": {
      "text/plain": [
       "1    2936\n",
       "0    2430\n",
       "Name: output, dtype: int64"
      ]
     },
     "execution_count": 205,
     "metadata": {},
     "output_type": "execute_result"
    }
   ],
   "source": [
    "y_train.value_counts()"
   ]
  },
  {
   "cell_type": "code",
   "execution_count": 206,
   "id": "f73ee8e1",
   "metadata": {},
   "outputs": [
    {
     "data": {
      "text/plain": [
       "1    1271\n",
       "0     965\n",
       "Name: output, dtype: int64"
      ]
     },
     "execution_count": 206,
     "metadata": {},
     "output_type": "execute_result"
    }
   ],
   "source": [
    "y_test.value_counts()"
   ]
  },
  {
   "cell_type": "code",
   "execution_count": 207,
   "id": "b178d2af",
   "metadata": {},
   "outputs": [
    {
     "data": {
      "text/plain": [
       "1    812\n",
       "0    530\n",
       "Name: output, dtype: int64"
      ]
     },
     "execution_count": 207,
     "metadata": {},
     "output_type": "execute_result"
    }
   ],
   "source": [
    "y_validation.value_counts()"
   ]
  },
  {
   "cell_type": "markdown",
   "id": "8edc9f26",
   "metadata": {},
   "source": [
    "# GRID SEARCH"
   ]
  },
  {
   "cell_type": "code",
   "execution_count": 56,
   "id": "10abb6cc",
   "metadata": {},
   "outputs": [],
   "source": [
    "params = {\n",
    "        'min_child_weight': [40, 50, 60],\n",
    "        'colsample_bytree': [0.6, 0.8, 1.0]\n",
    "        }"
   ]
  },
  {
   "cell_type": "code",
   "execution_count": 57,
   "id": "f85edb08",
   "metadata": {},
   "outputs": [],
   "source": [
    "model_grid = xgb.XGBClassifier(n_estimators=130, objective='binary:logistic', gamma=1.25, eta=0.01)"
   ]
  },
  {
   "cell_type": "code",
   "execution_count": 58,
   "id": "78979395",
   "metadata": {},
   "outputs": [
    {
     "name": "stdout",
     "output_type": "stream",
     "text": [
      "Fitting 3 folds for each of 9 candidates, totalling 27 fits\n"
     ]
    },
    {
     "name": "stderr",
     "output_type": "stream",
     "text": [
      "/home/root/opt/python3.7.11/lib/python3.7/site-packages/xgboost/sklearn.py:1224: UserWarning: The use of label encoder in XGBClassifier is deprecated and will be removed in a future release. To remove this warning, do the following: 1) Pass option use_label_encoder=False when constructing XGBClassifier object; and 2) Encode your labels (y) as integers starting with 0, i.e. 0, 1, 2, ..., [num_class - 1].\n",
      "  warnings.warn(label_encoder_deprecation_msg, UserWarning)\n"
     ]
    },
    {
     "name": "stdout",
     "output_type": "stream",
     "text": [
      "[13:09:24] WARNING: ../src/learner.cc:1115: Starting in XGBoost 1.3.0, the default evaluation metric used with the objective 'binary:logistic' was changed from 'error' to 'logloss'. Explicitly set eval_metric if you'd like to restore the old behavior.\n"
     ]
    },
    {
     "data": {
      "text/plain": [
       "GridSearchCV(cv=<generator object _BaseKFold.split at 0x7fcb51e551d0>,\n",
       "             estimator=XGBClassifier(base_score=None, booster=None,\n",
       "                                     colsample_bylevel=None,\n",
       "                                     colsample_bynode=None,\n",
       "                                     colsample_bytree=None,\n",
       "                                     enable_categorical=False, eta=0.01,\n",
       "                                     gamma=1.25, gpu_id=None,\n",
       "                                     importance_type=None,\n",
       "                                     interaction_constraints=None,\n",
       "                                     learning_rate=None, max_delta_step=None,\n",
       "                                     max_depth=None, min...\n",
       "                                     missing=nan, monotone_constraints=None,\n",
       "                                     n_estimators=130, n_jobs=None,\n",
       "                                     num_parallel_tree=None, predictor=None,\n",
       "                                     random_state=None, reg_alpha=None,\n",
       "                                     reg_lambda=None, scale_pos_weight=None,\n",
       "                                     subsample=None, tree_method=None,\n",
       "                                     validate_parameters=None, verbosity=None),\n",
       "             n_jobs=4,\n",
       "             param_grid={'colsample_bytree': [0.6, 0.8, 1.0],\n",
       "                         'min_child_weight': [40, 50, 60]},\n",
       "             scoring='roc_auc', verbose=3)"
      ]
     },
     "execution_count": 58,
     "metadata": {},
     "output_type": "execute_result"
    }
   ],
   "source": [
    "from sklearn.model_selection import GridSearchCV\n",
    "from sklearn.model_selection import StratifiedKFold\n",
    "\n",
    "skf = StratifiedKFold(n_splits=3, shuffle = True, random_state = 1001)\n",
    "grid_search = GridSearchCV(estimator=model_grid, param_grid=params, scoring='roc_auc', n_jobs=4, \n",
    "                           cv=skf.split(X_train, y_train), verbose=3 )\n",
    "grid_search.fit(X_train, y_train)"
   ]
  },
  {
   "cell_type": "code",
   "execution_count": 59,
   "id": "771fba0b",
   "metadata": {},
   "outputs": [
    {
     "data": {
      "text/html": [
       "<div>\n",
       "<style scoped>\n",
       "    .dataframe tbody tr th:only-of-type {\n",
       "        vertical-align: middle;\n",
       "    }\n",
       "\n",
       "    .dataframe tbody tr th {\n",
       "        vertical-align: top;\n",
       "    }\n",
       "\n",
       "    .dataframe thead th {\n",
       "        text-align: right;\n",
       "    }\n",
       "</style>\n",
       "<table border=\"1\" class=\"dataframe\">\n",
       "  <thead>\n",
       "    <tr style=\"text-align: right;\">\n",
       "      <th></th>\n",
       "      <th>mean_fit_time</th>\n",
       "      <th>std_fit_time</th>\n",
       "      <th>mean_score_time</th>\n",
       "      <th>std_score_time</th>\n",
       "      <th>param_colsample_bytree</th>\n",
       "      <th>param_min_child_weight</th>\n",
       "      <th>params</th>\n",
       "      <th>split0_test_score</th>\n",
       "      <th>split1_test_score</th>\n",
       "      <th>split2_test_score</th>\n",
       "      <th>mean_test_score</th>\n",
       "      <th>std_test_score</th>\n",
       "      <th>rank_test_score</th>\n",
       "    </tr>\n",
       "  </thead>\n",
       "  <tbody>\n",
       "    <tr>\n",
       "      <th>0</th>\n",
       "      <td>75.161387</td>\n",
       "      <td>1.061480</td>\n",
       "      <td>0.055721</td>\n",
       "      <td>0.017507</td>\n",
       "      <td>0.6</td>\n",
       "      <td>40</td>\n",
       "      <td>{'colsample_bytree': 0.6, 'min_child_weight': 40}</td>\n",
       "      <td>0.557876</td>\n",
       "      <td>0.514394</td>\n",
       "      <td>0.548919</td>\n",
       "      <td>0.540397</td>\n",
       "      <td>0.018746</td>\n",
       "      <td>8</td>\n",
       "    </tr>\n",
       "    <tr>\n",
       "      <th>1</th>\n",
       "      <td>75.511618</td>\n",
       "      <td>0.831772</td>\n",
       "      <td>0.037132</td>\n",
       "      <td>0.003660</td>\n",
       "      <td>0.6</td>\n",
       "      <td>50</td>\n",
       "      <td>{'colsample_bytree': 0.6, 'min_child_weight': 50}</td>\n",
       "      <td>0.548892</td>\n",
       "      <td>0.525855</td>\n",
       "      <td>0.549006</td>\n",
       "      <td>0.541251</td>\n",
       "      <td>0.010887</td>\n",
       "      <td>7</td>\n",
       "    </tr>\n",
       "    <tr>\n",
       "      <th>2</th>\n",
       "      <td>73.057254</td>\n",
       "      <td>0.449249</td>\n",
       "      <td>0.051238</td>\n",
       "      <td>0.002758</td>\n",
       "      <td>0.6</td>\n",
       "      <td>60</td>\n",
       "      <td>{'colsample_bytree': 0.6, 'min_child_weight': 60}</td>\n",
       "      <td>0.550418</td>\n",
       "      <td>0.527972</td>\n",
       "      <td>0.549954</td>\n",
       "      <td>0.542781</td>\n",
       "      <td>0.010473</td>\n",
       "      <td>4</td>\n",
       "    </tr>\n",
       "    <tr>\n",
       "      <th>3</th>\n",
       "      <td>76.867495</td>\n",
       "      <td>0.852079</td>\n",
       "      <td>0.075493</td>\n",
       "      <td>0.035052</td>\n",
       "      <td>0.8</td>\n",
       "      <td>40</td>\n",
       "      <td>{'colsample_bytree': 0.8, 'min_child_weight': 40}</td>\n",
       "      <td>0.560247</td>\n",
       "      <td>0.512856</td>\n",
       "      <td>0.545712</td>\n",
       "      <td>0.539605</td>\n",
       "      <td>0.019823</td>\n",
       "      <td>9</td>\n",
       "    </tr>\n",
       "    <tr>\n",
       "      <th>4</th>\n",
       "      <td>76.861753</td>\n",
       "      <td>1.422546</td>\n",
       "      <td>0.073259</td>\n",
       "      <td>0.013010</td>\n",
       "      <td>0.8</td>\n",
       "      <td>50</td>\n",
       "      <td>{'colsample_bytree': 0.8, 'min_child_weight': 50}</td>\n",
       "      <td>0.551163</td>\n",
       "      <td>0.527220</td>\n",
       "      <td>0.551977</td>\n",
       "      <td>0.543454</td>\n",
       "      <td>0.011483</td>\n",
       "      <td>3</td>\n",
       "    </tr>\n",
       "    <tr>\n",
       "      <th>5</th>\n",
       "      <td>79.420800</td>\n",
       "      <td>4.326385</td>\n",
       "      <td>0.066067</td>\n",
       "      <td>0.009590</td>\n",
       "      <td>0.8</td>\n",
       "      <td>60</td>\n",
       "      <td>{'colsample_bytree': 0.8, 'min_child_weight': 60}</td>\n",
       "      <td>0.552863</td>\n",
       "      <td>0.533146</td>\n",
       "      <td>0.551683</td>\n",
       "      <td>0.545897</td>\n",
       "      <td>0.009029</td>\n",
       "      <td>1</td>\n",
       "    </tr>\n",
       "    <tr>\n",
       "      <th>6</th>\n",
       "      <td>88.208282</td>\n",
       "      <td>3.539882</td>\n",
       "      <td>0.097715</td>\n",
       "      <td>0.034604</td>\n",
       "      <td>1</td>\n",
       "      <td>40</td>\n",
       "      <td>{'colsample_bytree': 1.0, 'min_child_weight': 40}</td>\n",
       "      <td>0.563857</td>\n",
       "      <td>0.516353</td>\n",
       "      <td>0.546069</td>\n",
       "      <td>0.542093</td>\n",
       "      <td>0.019596</td>\n",
       "      <td>6</td>\n",
       "    </tr>\n",
       "    <tr>\n",
       "      <th>7</th>\n",
       "      <td>82.925890</td>\n",
       "      <td>2.227632</td>\n",
       "      <td>0.058169</td>\n",
       "      <td>0.019346</td>\n",
       "      <td>1</td>\n",
       "      <td>50</td>\n",
       "      <td>{'colsample_bytree': 1.0, 'min_child_weight': 50}</td>\n",
       "      <td>0.551352</td>\n",
       "      <td>0.528022</td>\n",
       "      <td>0.548680</td>\n",
       "      <td>0.542685</td>\n",
       "      <td>0.010425</td>\n",
       "      <td>5</td>\n",
       "    </tr>\n",
       "    <tr>\n",
       "      <th>8</th>\n",
       "      <td>66.344632</td>\n",
       "      <td>2.517661</td>\n",
       "      <td>0.030932</td>\n",
       "      <td>0.009531</td>\n",
       "      <td>1</td>\n",
       "      <td>60</td>\n",
       "      <td>{'colsample_bytree': 1.0, 'min_child_weight': 60}</td>\n",
       "      <td>0.551454</td>\n",
       "      <td>0.528544</td>\n",
       "      <td>0.554538</td>\n",
       "      <td>0.544846</td>\n",
       "      <td>0.011595</td>\n",
       "      <td>2</td>\n",
       "    </tr>\n",
       "  </tbody>\n",
       "</table>\n",
       "</div>"
      ],
      "text/plain": [
       "   mean_fit_time  std_fit_time  mean_score_time  std_score_time param_colsample_bytree param_min_child_weight                                             params  split0_test_score  split1_test_score  split2_test_score  mean_test_score  std_test_score  rank_test_score\n",
       "0      75.161387      1.061480         0.055721        0.017507                    0.6                     40  {'colsample_bytree': 0.6, 'min_child_weight': 40}           0.557876           0.514394           0.548919         0.540397        0.018746                8\n",
       "1      75.511618      0.831772         0.037132        0.003660                    0.6                     50  {'colsample_bytree': 0.6, 'min_child_weight': 50}           0.548892           0.525855           0.549006         0.541251        0.010887                7\n",
       "2      73.057254      0.449249         0.051238        0.002758                    0.6                     60  {'colsample_bytree': 0.6, 'min_child_weight': 60}           0.550418           0.527972           0.549954         0.542781        0.010473                4\n",
       "3      76.867495      0.852079         0.075493        0.035052                    0.8                     40  {'colsample_bytree': 0.8, 'min_child_weight': 40}           0.560247           0.512856           0.545712         0.539605        0.019823                9\n",
       "4      76.861753      1.422546         0.073259        0.013010                    0.8                     50  {'colsample_bytree': 0.8, 'min_child_weight': 50}           0.551163           0.527220           0.551977         0.543454        0.011483                3\n",
       "5      79.420800      4.326385         0.066067        0.009590                    0.8                     60  {'colsample_bytree': 0.8, 'min_child_weight': 60}           0.552863           0.533146           0.551683         0.545897        0.009029                1\n",
       "6      88.208282      3.539882         0.097715        0.034604                      1                     40  {'colsample_bytree': 1.0, 'min_child_weight': 40}           0.563857           0.516353           0.546069         0.542093        0.019596                6\n",
       "7      82.925890      2.227632         0.058169        0.019346                      1                     50  {'colsample_bytree': 1.0, 'min_child_weight': 50}           0.551352           0.528022           0.548680         0.542685        0.010425                5\n",
       "8      66.344632      2.517661         0.030932        0.009531                      1                     60  {'colsample_bytree': 1.0, 'min_child_weight': 60}           0.551454           0.528544           0.554538         0.544846        0.011595                2"
      ]
     },
     "execution_count": 59,
     "metadata": {},
     "output_type": "execute_result"
    }
   ],
   "source": [
    "pd.set_option('display.max_rows', 500)\n",
    "pd.set_option('display.max_columns', 500)\n",
    "pd.set_option('display.width', 1000)\n",
    "\n",
    "pd.DataFrame(grid_search.cv_results_)"
   ]
  },
  {
   "cell_type": "markdown",
   "id": "35058c53",
   "metadata": {},
   "source": [
    "## EXECUTING BEST MODEL"
   ]
  },
  {
   "cell_type": "code",
   "execution_count": null,
   "id": "5a896d8f",
   "metadata": {},
   "outputs": [],
   "source": []
  },
  {
   "cell_type": "code",
   "execution_count": 208,
   "id": "9353c5e4",
   "metadata": {},
   "outputs": [
    {
     "name": "stdout",
     "output_type": "stream",
     "text": [
      "[0]\tvalidation_0-auc:0.55866\tvalidation_0-logloss:0.69257\tvalidation_0-error:0.44991\n",
      "[1]\tvalidation_0-auc:0.56133\tvalidation_0-logloss:0.69204\tvalidation_0-error:0.43157\n",
      "[2]\tvalidation_0-auc:0.57146\tvalidation_0-logloss:0.69150\tvalidation_0-error:0.43068\n",
      "[3]\tvalidation_0-auc:0.57269\tvalidation_0-logloss:0.69097\tvalidation_0-error:0.42352\n"
     ]
    },
    {
     "name": "stderr",
     "output_type": "stream",
     "text": [
      "/home/root/opt/python3.7.11/lib/python3.7/site-packages/xgboost/sklearn.py:1224: UserWarning: The use of label encoder in XGBClassifier is deprecated and will be removed in a future release. To remove this warning, do the following: 1) Pass option use_label_encoder=False when constructing XGBClassifier object; and 2) Encode your labels (y) as integers starting with 0, i.e. 0, 1, 2, ..., [num_class - 1].\n",
      "  warnings.warn(label_encoder_deprecation_msg, UserWarning)\n"
     ]
    },
    {
     "name": "stdout",
     "output_type": "stream",
     "text": [
      "[4]\tvalidation_0-auc:0.58072\tvalidation_0-logloss:0.69043\tvalidation_0-error:0.42218\n",
      "[5]\tvalidation_0-auc:0.57623\tvalidation_0-logloss:0.68999\tvalidation_0-error:0.42218\n",
      "[6]\tvalidation_0-auc:0.58310\tvalidation_0-logloss:0.68947\tvalidation_0-error:0.42844\n",
      "[7]\tvalidation_0-auc:0.58214\tvalidation_0-logloss:0.68900\tvalidation_0-error:0.43247\n",
      "[8]\tvalidation_0-auc:0.58378\tvalidation_0-logloss:0.68850\tvalidation_0-error:0.42755\n",
      "[9]\tvalidation_0-auc:0.58405\tvalidation_0-logloss:0.68805\tvalidation_0-error:0.42666\n",
      "[10]\tvalidation_0-auc:0.57986\tvalidation_0-logloss:0.68765\tvalidation_0-error:0.42442\n",
      "[11]\tvalidation_0-auc:0.57961\tvalidation_0-logloss:0.68719\tvalidation_0-error:0.42487\n",
      "[12]\tvalidation_0-auc:0.57774\tvalidation_0-logloss:0.68680\tvalidation_0-error:0.42308\n",
      "[13]\tvalidation_0-auc:0.58172\tvalidation_0-logloss:0.68634\tvalidation_0-error:0.42889\n",
      "[14]\tvalidation_0-auc:0.58141\tvalidation_0-logloss:0.68596\tvalidation_0-error:0.42666\n",
      "[15]\tvalidation_0-auc:0.58252\tvalidation_0-logloss:0.68553\tvalidation_0-error:0.42844\n",
      "[16]\tvalidation_0-auc:0.58376\tvalidation_0-logloss:0.68513\tvalidation_0-error:0.43023\n",
      "[17]\tvalidation_0-auc:0.58379\tvalidation_0-logloss:0.68476\tvalidation_0-error:0.42978\n",
      "[18]\tvalidation_0-auc:0.58384\tvalidation_0-logloss:0.68438\tvalidation_0-error:0.42710\n",
      "[19]\tvalidation_0-auc:0.58452\tvalidation_0-logloss:0.68402\tvalidation_0-error:0.42710\n",
      "[20]\tvalidation_0-auc:0.58319\tvalidation_0-logloss:0.68372\tvalidation_0-error:0.42755\n",
      "[21]\tvalidation_0-auc:0.58418\tvalidation_0-logloss:0.68334\tvalidation_0-error:0.42800\n",
      "[22]\tvalidation_0-auc:0.58193\tvalidation_0-logloss:0.68307\tvalidation_0-error:0.42621\n",
      "[23]\tvalidation_0-auc:0.58111\tvalidation_0-logloss:0.68279\tvalidation_0-error:0.42576\n",
      "[24]\tvalidation_0-auc:0.58252\tvalidation_0-logloss:0.68243\tvalidation_0-error:0.42621\n",
      "[25]\tvalidation_0-auc:0.58185\tvalidation_0-logloss:0.68218\tvalidation_0-error:0.42934\n",
      "[26]\tvalidation_0-auc:0.58315\tvalidation_0-logloss:0.68186\tvalidation_0-error:0.43068\n",
      "[27]\tvalidation_0-auc:0.58293\tvalidation_0-logloss:0.68156\tvalidation_0-error:0.43202\n",
      "[28]\tvalidation_0-auc:0.58366\tvalidation_0-logloss:0.68121\tvalidation_0-error:0.43023\n",
      "[29]\tvalidation_0-auc:0.58329\tvalidation_0-logloss:0.68093\tvalidation_0-error:0.43068\n",
      "[30]\tvalidation_0-auc:0.58263\tvalidation_0-logloss:0.68067\tvalidation_0-error:0.43068\n",
      "[31]\tvalidation_0-auc:0.58302\tvalidation_0-logloss:0.68038\tvalidation_0-error:0.42710\n",
      "[32]\tvalidation_0-auc:0.58239\tvalidation_0-logloss:0.68013\tvalidation_0-error:0.42978\n",
      "[33]\tvalidation_0-auc:0.58121\tvalidation_0-logloss:0.67993\tvalidation_0-error:0.42889\n",
      "[34]\tvalidation_0-auc:0.58284\tvalidation_0-logloss:0.67968\tvalidation_0-error:0.43694\n",
      "[35]\tvalidation_0-auc:0.58301\tvalidation_0-logloss:0.67944\tvalidation_0-error:0.43560\n",
      "[36]\tvalidation_0-auc:0.58426\tvalidation_0-logloss:0.67913\tvalidation_0-error:0.43515\n",
      "[37]\tvalidation_0-auc:0.58399\tvalidation_0-logloss:0.67892\tvalidation_0-error:0.43336\n",
      "[38]\tvalidation_0-auc:0.58320\tvalidation_0-logloss:0.67873\tvalidation_0-error:0.43471\n",
      "[39]\tvalidation_0-auc:0.58239\tvalidation_0-logloss:0.67853\tvalidation_0-error:0.43515\n",
      "[40]\tvalidation_0-auc:0.58329\tvalidation_0-logloss:0.67829\tvalidation_0-error:0.43292\n",
      "[41]\tvalidation_0-auc:0.58315\tvalidation_0-logloss:0.67807\tvalidation_0-error:0.43247\n",
      "[42]\tvalidation_0-auc:0.58315\tvalidation_0-logloss:0.67788\tvalidation_0-error:0.43247\n",
      "[43]\tvalidation_0-auc:0.58359\tvalidation_0-logloss:0.67763\tvalidation_0-error:0.43381\n",
      "[44]\tvalidation_0-auc:0.58398\tvalidation_0-logloss:0.67741\tvalidation_0-error:0.43336\n",
      "[45]\tvalidation_0-auc:0.58461\tvalidation_0-logloss:0.67719\tvalidation_0-error:0.43515\n",
      "[46]\tvalidation_0-auc:0.58431\tvalidation_0-logloss:0.67706\tvalidation_0-error:0.43247\n",
      "[47]\tvalidation_0-auc:0.58436\tvalidation_0-logloss:0.67690\tvalidation_0-error:0.43247\n",
      "[48]\tvalidation_0-auc:0.58350\tvalidation_0-logloss:0.67674\tvalidation_0-error:0.43068\n",
      "[49]\tvalidation_0-auc:0.58389\tvalidation_0-logloss:0.67651\tvalidation_0-error:0.43157\n",
      "[50]\tvalidation_0-auc:0.58340\tvalidation_0-logloss:0.67634\tvalidation_0-error:0.43202\n",
      "[51]\tvalidation_0-auc:0.58360\tvalidation_0-logloss:0.67619\tvalidation_0-error:0.43292\n",
      "[52]\tvalidation_0-auc:0.58280\tvalidation_0-logloss:0.67604\tvalidation_0-error:0.43113\n",
      "[53]\tvalidation_0-auc:0.58249\tvalidation_0-logloss:0.67590\tvalidation_0-error:0.42844\n",
      "[54]\tvalidation_0-auc:0.58216\tvalidation_0-logloss:0.67577\tvalidation_0-error:0.42844\n",
      "[55]\tvalidation_0-auc:0.58093\tvalidation_0-logloss:0.67568\tvalidation_0-error:0.42800\n",
      "[56]\tvalidation_0-auc:0.58044\tvalidation_0-logloss:0.67558\tvalidation_0-error:0.42710\n",
      "[57]\tvalidation_0-auc:0.58012\tvalidation_0-logloss:0.67546\tvalidation_0-error:0.42576\n",
      "[58]\tvalidation_0-auc:0.57959\tvalidation_0-logloss:0.67536\tvalidation_0-error:0.42889\n",
      "[59]\tvalidation_0-auc:0.57924\tvalidation_0-logloss:0.67522\tvalidation_0-error:0.43292\n",
      "[60]\tvalidation_0-auc:0.57861\tvalidation_0-logloss:0.67508\tvalidation_0-error:0.43426\n",
      "[61]\tvalidation_0-auc:0.57934\tvalidation_0-logloss:0.67490\tvalidation_0-error:0.43336\n",
      "[62]\tvalidation_0-auc:0.57870\tvalidation_0-logloss:0.67480\tvalidation_0-error:0.43023\n",
      "[63]\tvalidation_0-auc:0.57909\tvalidation_0-logloss:0.67464\tvalidation_0-error:0.43023\n",
      "[64]\tvalidation_0-auc:0.57829\tvalidation_0-logloss:0.67456\tvalidation_0-error:0.43157\n",
      "[65]\tvalidation_0-auc:0.57850\tvalidation_0-logloss:0.67441\tvalidation_0-error:0.42978\n",
      "[66]\tvalidation_0-auc:0.57828\tvalidation_0-logloss:0.67429\tvalidation_0-error:0.42844\n",
      "[67]\tvalidation_0-auc:0.57733\tvalidation_0-logloss:0.67424\tvalidation_0-error:0.42978\n",
      "[68]\tvalidation_0-auc:0.57643\tvalidation_0-logloss:0.67418\tvalidation_0-error:0.42978\n",
      "[69]\tvalidation_0-auc:0.57615\tvalidation_0-logloss:0.67407\tvalidation_0-error:0.42844\n",
      "[70]\tvalidation_0-auc:0.57593\tvalidation_0-logloss:0.67398\tvalidation_0-error:0.42710\n",
      "[71]\tvalidation_0-auc:0.57560\tvalidation_0-logloss:0.67388\tvalidation_0-error:0.42710\n",
      "[72]\tvalidation_0-auc:0.57598\tvalidation_0-logloss:0.67375\tvalidation_0-error:0.42755\n",
      "[73]\tvalidation_0-auc:0.57588\tvalidation_0-logloss:0.67367\tvalidation_0-error:0.42889\n",
      "[74]\tvalidation_0-auc:0.57506\tvalidation_0-logloss:0.67363\tvalidation_0-error:0.42755\n",
      "[75]\tvalidation_0-auc:0.57415\tvalidation_0-logloss:0.67360\tvalidation_0-error:0.42844\n",
      "[76]\tvalidation_0-auc:0.57453\tvalidation_0-logloss:0.67346\tvalidation_0-error:0.42755\n",
      "[77]\tvalidation_0-auc:0.57440\tvalidation_0-logloss:0.67339\tvalidation_0-error:0.42755\n",
      "[78]\tvalidation_0-auc:0.57444\tvalidation_0-logloss:0.67331\tvalidation_0-error:0.42844\n",
      "[79]\tvalidation_0-auc:0.57358\tvalidation_0-logloss:0.67330\tvalidation_0-error:0.42934\n",
      "[80]\tvalidation_0-auc:0.57338\tvalidation_0-logloss:0.67320\tvalidation_0-error:0.42844\n",
      "[81]\tvalidation_0-auc:0.57269\tvalidation_0-logloss:0.67318\tvalidation_0-error:0.42800\n",
      "[82]\tvalidation_0-auc:0.57245\tvalidation_0-logloss:0.67312\tvalidation_0-error:0.42755\n",
      "[83]\tvalidation_0-auc:0.57179\tvalidation_0-logloss:0.67308\tvalidation_0-error:0.42844\n",
      "[84]\tvalidation_0-auc:0.57119\tvalidation_0-logloss:0.67304\tvalidation_0-error:0.42978\n",
      "[85]\tvalidation_0-auc:0.57170\tvalidation_0-logloss:0.67291\tvalidation_0-error:0.43068\n",
      "[86]\tvalidation_0-auc:0.57124\tvalidation_0-logloss:0.67291\tvalidation_0-error:0.43068\n",
      "[87]\tvalidation_0-auc:0.57110\tvalidation_0-logloss:0.67283\tvalidation_0-error:0.43157\n",
      "[88]\tvalidation_0-auc:0.57050\tvalidation_0-logloss:0.67278\tvalidation_0-error:0.42889\n",
      "[89]\tvalidation_0-auc:0.57010\tvalidation_0-logloss:0.67273\tvalidation_0-error:0.42755\n",
      "[90]\tvalidation_0-auc:0.56995\tvalidation_0-logloss:0.67270\tvalidation_0-error:0.42934\n",
      "[91]\tvalidation_0-auc:0.57037\tvalidation_0-logloss:0.67261\tvalidation_0-error:0.43113\n",
      "[92]\tvalidation_0-auc:0.57066\tvalidation_0-logloss:0.67257\tvalidation_0-error:0.43068\n",
      "[93]\tvalidation_0-auc:0.56996\tvalidation_0-logloss:0.67254\tvalidation_0-error:0.43068\n",
      "[94]\tvalidation_0-auc:0.56919\tvalidation_0-logloss:0.67255\tvalidation_0-error:0.43113\n",
      "[95]\tvalidation_0-auc:0.56965\tvalidation_0-logloss:0.67244\tvalidation_0-error:0.43157\n",
      "[96]\tvalidation_0-auc:0.56977\tvalidation_0-logloss:0.67237\tvalidation_0-error:0.43068\n",
      "[97]\tvalidation_0-auc:0.57005\tvalidation_0-logloss:0.67231\tvalidation_0-error:0.42978\n",
      "[98]\tvalidation_0-auc:0.56927\tvalidation_0-logloss:0.67230\tvalidation_0-error:0.43157\n",
      "[99]\tvalidation_0-auc:0.56987\tvalidation_0-logloss:0.67222\tvalidation_0-error:0.43157\n"
     ]
    },
    {
     "name": "stdout",
     "output_type": "stream",
     "text": [
      "[100]\tvalidation_0-auc:0.56901\tvalidation_0-logloss:0.67223\tvalidation_0-error:0.43023\n",
      "[101]\tvalidation_0-auc:0.56916\tvalidation_0-logloss:0.67222\tvalidation_0-error:0.43292\n",
      "[102]\tvalidation_0-auc:0.56952\tvalidation_0-logloss:0.67215\tvalidation_0-error:0.43426\n",
      "[103]\tvalidation_0-auc:0.57016\tvalidation_0-logloss:0.67203\tvalidation_0-error:0.43426\n",
      "[104]\tvalidation_0-auc:0.57055\tvalidation_0-logloss:0.67194\tvalidation_0-error:0.43247\n",
      "[105]\tvalidation_0-auc:0.57055\tvalidation_0-logloss:0.67190\tvalidation_0-error:0.43336\n",
      "[106]\tvalidation_0-auc:0.57073\tvalidation_0-logloss:0.67185\tvalidation_0-error:0.43202\n",
      "[107]\tvalidation_0-auc:0.57077\tvalidation_0-logloss:0.67178\tvalidation_0-error:0.42889\n",
      "[108]\tvalidation_0-auc:0.57091\tvalidation_0-logloss:0.67176\tvalidation_0-error:0.42978\n",
      "[109]\tvalidation_0-auc:0.57109\tvalidation_0-logloss:0.67171\tvalidation_0-error:0.43157\n",
      "[110]\tvalidation_0-auc:0.57139\tvalidation_0-logloss:0.67164\tvalidation_0-error:0.42934\n",
      "[111]\tvalidation_0-auc:0.57172\tvalidation_0-logloss:0.67159\tvalidation_0-error:0.43202\n",
      "[112]\tvalidation_0-auc:0.57169\tvalidation_0-logloss:0.67156\tvalidation_0-error:0.43113\n",
      "[113]\tvalidation_0-auc:0.57135\tvalidation_0-logloss:0.67156\tvalidation_0-error:0.43068\n",
      "[114]\tvalidation_0-auc:0.57081\tvalidation_0-logloss:0.67159\tvalidation_0-error:0.43247\n",
      "[115]\tvalidation_0-auc:0.57098\tvalidation_0-logloss:0.67150\tvalidation_0-error:0.43247\n",
      "[116]\tvalidation_0-auc:0.57113\tvalidation_0-logloss:0.67146\tvalidation_0-error:0.43068\n",
      "[117]\tvalidation_0-auc:0.57104\tvalidation_0-logloss:0.67145\tvalidation_0-error:0.43202\n",
      "[118]\tvalidation_0-auc:0.57106\tvalidation_0-logloss:0.67141\tvalidation_0-error:0.42978\n",
      "[119]\tvalidation_0-auc:0.57137\tvalidation_0-logloss:0.67133\tvalidation_0-error:0.43113\n",
      "[120]\tvalidation_0-auc:0.57129\tvalidation_0-logloss:0.67132\tvalidation_0-error:0.43157\n",
      "[121]\tvalidation_0-auc:0.57138\tvalidation_0-logloss:0.67129\tvalidation_0-error:0.42978\n",
      "[122]\tvalidation_0-auc:0.57094\tvalidation_0-logloss:0.67129\tvalidation_0-error:0.42978\n",
      "[123]\tvalidation_0-auc:0.57112\tvalidation_0-logloss:0.67124\tvalidation_0-error:0.42889\n",
      "[124]\tvalidation_0-auc:0.57080\tvalidation_0-logloss:0.67125\tvalidation_0-error:0.43068\n",
      "[125]\tvalidation_0-auc:0.57079\tvalidation_0-logloss:0.67122\tvalidation_0-error:0.43068\n",
      "[126]\tvalidation_0-auc:0.57094\tvalidation_0-logloss:0.67116\tvalidation_0-error:0.43113\n",
      "[127]\tvalidation_0-auc:0.57098\tvalidation_0-logloss:0.67117\tvalidation_0-error:0.43068\n",
      "[128]\tvalidation_0-auc:0.57061\tvalidation_0-logloss:0.67119\tvalidation_0-error:0.43202\n",
      "[129]\tvalidation_0-auc:0.56979\tvalidation_0-logloss:0.67128\tvalidation_0-error:0.43113\n"
     ]
    },
    {
     "data": {
      "text/plain": [
       "XGBClassifier(base_score=0.5, booster='gbtree', colsample_bylevel=1,\n",
       "              colsample_bynode=1, colsample_bytree=0.65,\n",
       "              enable_categorical=False, eta=0.015,\n",
       "              eval_metric=['auc', 'logloss', 'error'], gamma=1.25, gpu_id=-1,\n",
       "              importance_type=None, interaction_constraints='',\n",
       "              learning_rate=0.0149999997, max_delta_step=0, max_depth=6,\n",
       "              min_child_weight=30, missing=nan, monotone_constraints='()',\n",
       "              n_estimators=130, n_jobs=12, num_parallel_tree=1,\n",
       "              predictor='auto', random_state=123, reg_alpha=0, reg_lambda=1,\n",
       "              scale_pos_weight=1, subsample=1, tree_method='exact',\n",
       "              validate_parameters=1, verbosity=None)"
      ]
     },
     "execution_count": 208,
     "metadata": {},
     "output_type": "execute_result"
    }
   ],
   "source": [
    "model = xgb.XGBClassifier(objective='binary:logistic', n_estimators=130, max_depth=6, gamma=1.25, eta=0.015,\n",
    "                          min_child_weight=30, colsample_bytree=0.65, \n",
    "                          random_state=123, eval_metric=[\"auc\", \"logloss\", \"error\"])\n",
    "model.fit(X_train, y_train, eval_set=[(X_test, y_test)])"
   ]
  },
  {
   "cell_type": "code",
   "execution_count": 209,
   "id": "fd60cb85",
   "metadata": {},
   "outputs": [
    {
     "data": {
      "text/plain": [
       "<AxesSubplot:>"
      ]
     },
     "execution_count": 209,
     "metadata": {},
     "output_type": "execute_result"
    },
    {
     "data": {
      "image/png": "[encoded data removed]",
      "text/plain": [
       "<Figure size 432x288 with 1 Axes>"
      ]
     },
     "metadata": {
      "needs_background": "light"
     },
     "output_type": "display_data"
    }
   ],
   "source": [
    "fu_dict = dict(zip(X_train.columns, model.feature_importances_))\n",
    "fi = pd.DataFrame(fu_dict.values(), index=fu_dict.keys(), columns=[\"importance\"])\n",
    "fi = fi.sort_values(by=\"importance\", ascending=False)\n",
    "\n",
    "fi.plot.bar()"
   ]
  },
  {
   "cell_type": "code",
   "execution_count": 210,
   "id": "ff8a7a70",
   "metadata": {},
   "outputs": [
    {
     "data": {
      "text/plain": [
       "array([[ 139,  826],\n",
       "       [ 138, 1133]])"
      ]
     },
     "execution_count": 210,
     "metadata": {},
     "output_type": "execute_result"
    }
   ],
   "source": [
    "y_pred1 = model.predict(X_test)\n",
    "confusion_matrix(y_test, y_pred1)"
   ]
  },
  {
   "cell_type": "code",
   "execution_count": 216,
   "id": "55f7e0eb",
   "metadata": {},
   "outputs": [],
   "source": [
    "y_pred_proba = model.predict_proba(X_test)[:,1]\n",
    "predict_mine = np.where(y_pred_proba > 0.6, 1, 0)\n",
    "cm1 = confusion_matrix(y_test, predict_mine)"
   ]
  },
  {
   "cell_type": "code",
   "execution_count": 217,
   "id": "6cf03856",
   "metadata": {},
   "outputs": [
    {
     "data": {
      "text/plain": [
       "array([[ 913,   52],\n",
       "       [1112,  159]])"
      ]
     },
     "execution_count": 217,
     "metadata": {},
     "output_type": "execute_result"
    }
   ],
   "source": [
    "cm1"
   ]
  },
  {
   "cell_type": "code",
   "execution_count": 218,
   "id": "2a080435",
   "metadata": {},
   "outputs": [
    {
     "data": {
      "text/plain": [
       "0.5688729874776386"
      ]
     },
     "execution_count": 218,
     "metadata": {},
     "output_type": "execute_result"
    }
   ],
   "source": [
    "metrics.accuracy_score(y_test, y_pred1)"
   ]
  },
  {
   "cell_type": "code",
   "execution_count": 219,
   "id": "2a85372f",
   "metadata": {},
   "outputs": [
    {
     "data": {
      "text/plain": [
       "0.7535545023696683"
      ]
     },
     "execution_count": 219,
     "metadata": {},
     "output_type": "execute_result"
    }
   ],
   "source": [
    "cm1[1][1]/(cm1[1][1]+cm1[0][1])"
   ]
  },
  {
   "cell_type": "code",
   "execution_count": 220,
   "id": "7e46167a",
   "metadata": {},
   "outputs": [
    {
     "data": {
      "text/plain": [
       "9.436493738819319"
      ]
     },
     "execution_count": 220,
     "metadata": {},
     "output_type": "execute_result"
    }
   ],
   "source": [
    "(cm1[1][1]+cm1[0][1])/len(y_test)*100"
   ]
  },
  {
   "cell_type": "markdown",
   "id": "bd2cf07a",
   "metadata": {},
   "source": [
    "# VALIDATION - BEST MODEL --> 70% accuracy in 17% of matches"
   ]
  },
  {
   "cell_type": "code",
   "execution_count": 221,
   "id": "31566b6c",
   "metadata": {},
   "outputs": [
    {
     "data": {
      "text/plain": [
       "array([[ 60, 470],\n",
       "       [ 73, 739]])"
      ]
     },
     "execution_count": 221,
     "metadata": {},
     "output_type": "execute_result"
    }
   ],
   "source": [
    "y_pred = model.predict(X_validation)\n",
    "confusion_matrix(y_validation, y_pred)"
   ]
  },
  {
   "cell_type": "code",
   "execution_count": 222,
   "id": "960fa297",
   "metadata": {},
   "outputs": [
    {
     "data": {
      "text/plain": [
       "0.5953800298062594"
      ]
     },
     "execution_count": 222,
     "metadata": {},
     "output_type": "execute_result"
    }
   ],
   "source": [
    "metrics.accuracy_score(y_validation, y_pred)"
   ]
  },
  {
   "cell_type": "code",
   "execution_count": 223,
   "id": "e849fc15",
   "metadata": {},
   "outputs": [],
   "source": [
    "y_pred_proba = model.predict_proba(X_validation)[:,1]\n",
    "predict_mine = np.where(y_pred_proba > 0.6, 1, 0)\n",
    "cm1 = confusion_matrix(y_validation, predict_mine)"
   ]
  },
  {
   "cell_type": "code",
   "execution_count": 224,
   "id": "8792d422",
   "metadata": {},
   "outputs": [
    {
     "data": {
      "text/plain": [
       "0.7285714285714285"
      ]
     },
     "execution_count": 224,
     "metadata": {},
     "output_type": "execute_result"
    }
   ],
   "source": [
    "cm1[1][1]/(cm1[1][1]+cm1[0][1])"
   ]
  },
  {
   "cell_type": "code",
   "execution_count": 225,
   "id": "e19d4fb4",
   "metadata": {},
   "outputs": [
    {
     "data": {
      "text/plain": [
       "10.432190760059612"
      ]
     },
     "execution_count": 225,
     "metadata": {},
     "output_type": "execute_result"
    }
   ],
   "source": [
    "(cm1[1][1]+cm1[0][1])/len(y_validation)*100"
   ]
  },
  {
   "cell_type": "code",
   "execution_count": 226,
   "id": "dbd587ba",
   "metadata": {},
   "outputs": [
    {
     "data": {
      "text/plain": [
       "array([[492,  38],\n",
       "       [710, 102]])"
      ]
     },
     "execution_count": 226,
     "metadata": {},
     "output_type": "execute_result"
    }
   ],
   "source": [
    "cm1"
   ]
  },
  {
   "cell_type": "code",
   "execution_count": null,
   "id": "e067fde4",
   "metadata": {},
   "outputs": [],
   "source": []
  },
  {
   "cell_type": "code",
   "execution_count": 227,
   "id": "eb67a68e",
   "metadata": {},
   "outputs": [],
   "source": [
    "X_validation_copy = X_validation.copy().reset_index(drop=True)\n",
    "X_validation_copy[\"PROB\"] = pd.DataFrame(model.predict_proba(X_validation)[:,1]).iloc[:, 0]\\\n",
    "    .apply(lambda x: 1 if x>0.6 else 0)"
   ]
  },
  {
   "cell_type": "code",
   "execution_count": 146,
   "id": "e17028dc",
   "metadata": {},
   "outputs": [
    {
     "data": {
      "text/html": [
       "<div>\n",
       "<style scoped>\n",
       "    .dataframe tbody tr th:only-of-type {\n",
       "        vertical-align: middle;\n",
       "    }\n",
       "\n",
       "    .dataframe tbody tr th {\n",
       "        vertical-align: top;\n",
       "    }\n",
       "\n",
       "    .dataframe thead th {\n",
       "        text-align: right;\n",
       "    }\n",
       "</style>\n",
       "<table border=\"1\" class=\"dataframe\">\n",
       "  <thead>\n",
       "    <tr style=\"text-align: right;\">\n",
       "      <th></th>\n",
       "      <th>AVG_CORNERSHOMED1_L3</th>\n",
       "      <th>AVG_CORNERSHOMED2_L5</th>\n",
       "      <th>AVG_CORNERSAWAYD1_L5</th>\n",
       "      <th>CORNERS_DIV_SHOTS</th>\n",
       "      <th>AVG_CORNERSAWAYD2_L5</th>\n",
       "      <th>LEAGUE_INGLATERRA</th>\n",
       "      <th>TOTAL_CORNERS</th>\n",
       "      <th>LAST_MINUTECORNER_H_L60</th>\n",
       "      <th>LAST_MINUTECORNER_A_L60</th>\n",
       "      <th>SUM_CORNERS_L60</th>\n",
       "      <th>AVG_CORNERS_LOSE_HOME</th>\n",
       "      <th>CORNERS_A</th>\n",
       "      <th>AVG_CORNERSHOMED1_L5</th>\n",
       "      <th>NUM_MATCHESHOME_POSITIVE_L5</th>\n",
       "      <th>TOTAL_CORNERS_45_60</th>\n",
       "      <th>PROB</th>\n",
       "    </tr>\n",
       "  </thead>\n",
       "  <tbody>\n",
       "    <tr>\n",
       "      <th>count</th>\n",
       "      <td>91.000000</td>\n",
       "      <td>91.000000</td>\n",
       "      <td>91.000000</td>\n",
       "      <td>91.000000</td>\n",
       "      <td>91.000000</td>\n",
       "      <td>91.000000</td>\n",
       "      <td>91.000000</td>\n",
       "      <td>91.000000</td>\n",
       "      <td>91.000000</td>\n",
       "      <td>91.000000</td>\n",
       "      <td>91.000000</td>\n",
       "      <td>91.000000</td>\n",
       "      <td>91.000000</td>\n",
       "      <td>91.000000</td>\n",
       "      <td>91.000000</td>\n",
       "      <td>91.0</td>\n",
       "    </tr>\n",
       "    <tr>\n",
       "      <th>mean</th>\n",
       "      <td>1.930403</td>\n",
       "      <td>0.973626</td>\n",
       "      <td>1.373810</td>\n",
       "      <td>0.732772</td>\n",
       "      <td>0.593223</td>\n",
       "      <td>0.010989</td>\n",
       "      <td>5.593407</td>\n",
       "      <td>30.153846</td>\n",
       "      <td>26.384615</td>\n",
       "      <td>5.593407</td>\n",
       "      <td>1.230769</td>\n",
       "      <td>2.560440</td>\n",
       "      <td>2.010989</td>\n",
       "      <td>3.703297</td>\n",
       "      <td>1.153846</td>\n",
       "      <td>1.0</td>\n",
       "    </tr>\n",
       "    <tr>\n",
       "      <th>std</th>\n",
       "      <td>1.770483</td>\n",
       "      <td>0.850207</td>\n",
       "      <td>1.436087</td>\n",
       "      <td>0.346210</td>\n",
       "      <td>0.792390</td>\n",
       "      <td>0.104828</td>\n",
       "      <td>1.712555</td>\n",
       "      <td>24.690044</td>\n",
       "      <td>25.098371</td>\n",
       "      <td>1.712555</td>\n",
       "      <td>1.222921</td>\n",
       "      <td>2.708869</td>\n",
       "      <td>1.757868</td>\n",
       "      <td>1.016470</td>\n",
       "      <td>1.134539</td>\n",
       "      <td>0.0</td>\n",
       "    </tr>\n",
       "    <tr>\n",
       "      <th>min</th>\n",
       "      <td>0.000000</td>\n",
       "      <td>0.000000</td>\n",
       "      <td>0.000000</td>\n",
       "      <td>0.307692</td>\n",
       "      <td>0.000000</td>\n",
       "      <td>0.000000</td>\n",
       "      <td>4.000000</td>\n",
       "      <td>0.000000</td>\n",
       "      <td>0.000000</td>\n",
       "      <td>4.000000</td>\n",
       "      <td>-1.000000</td>\n",
       "      <td>0.000000</td>\n",
       "      <td>0.000000</td>\n",
       "      <td>1.000000</td>\n",
       "      <td>0.000000</td>\n",
       "      <td>1.0</td>\n",
       "    </tr>\n",
       "    <tr>\n",
       "      <th>25%</th>\n",
       "      <td>0.000000</td>\n",
       "      <td>0.000000</td>\n",
       "      <td>0.000000</td>\n",
       "      <td>0.483333</td>\n",
       "      <td>0.000000</td>\n",
       "      <td>0.000000</td>\n",
       "      <td>4.000000</td>\n",
       "      <td>0.000000</td>\n",
       "      <td>0.000000</td>\n",
       "      <td>4.000000</td>\n",
       "      <td>0.000000</td>\n",
       "      <td>0.000000</td>\n",
       "      <td>0.000000</td>\n",
       "      <td>3.000000</td>\n",
       "      <td>0.000000</td>\n",
       "      <td>1.0</td>\n",
       "    </tr>\n",
       "    <tr>\n",
       "      <th>50%</th>\n",
       "      <td>2.000000</td>\n",
       "      <td>1.000000</td>\n",
       "      <td>1.400000</td>\n",
       "      <td>0.647059</td>\n",
       "      <td>0.200000</td>\n",
       "      <td>0.000000</td>\n",
       "      <td>5.000000</td>\n",
       "      <td>41.000000</td>\n",
       "      <td>36.000000</td>\n",
       "      <td>5.000000</td>\n",
       "      <td>1.333333</td>\n",
       "      <td>2.000000</td>\n",
       "      <td>2.400000</td>\n",
       "      <td>4.000000</td>\n",
       "      <td>1.000000</td>\n",
       "      <td>1.0</td>\n",
       "    </tr>\n",
       "    <tr>\n",
       "      <th>75%</th>\n",
       "      <td>3.000000</td>\n",
       "      <td>1.800000</td>\n",
       "      <td>2.400000</td>\n",
       "      <td>0.866071</td>\n",
       "      <td>1.100000</td>\n",
       "      <td>0.000000</td>\n",
       "      <td>6.000000</td>\n",
       "      <td>53.000000</td>\n",
       "      <td>51.000000</td>\n",
       "      <td>6.000000</td>\n",
       "      <td>2.000000</td>\n",
       "      <td>5.000000</td>\n",
       "      <td>3.400000</td>\n",
       "      <td>4.000000</td>\n",
       "      <td>2.000000</td>\n",
       "      <td>1.0</td>\n",
       "    </tr>\n",
       "    <tr>\n",
       "      <th>max</th>\n",
       "      <td>6.333333</td>\n",
       "      <td>2.600000</td>\n",
       "      <td>5.000000</td>\n",
       "      <td>2.500000</td>\n",
       "      <td>3.000000</td>\n",
       "      <td>1.000000</td>\n",
       "      <td>11.000000</td>\n",
       "      <td>59.000000</td>\n",
       "      <td>59.000000</td>\n",
       "      <td>11.000000</td>\n",
       "      <td>4.000000</td>\n",
       "      <td>11.000000</td>\n",
       "      <td>6.200000</td>\n",
       "      <td>5.000000</td>\n",
       "      <td>5.000000</td>\n",
       "      <td>1.0</td>\n",
       "    </tr>\n",
       "  </tbody>\n",
       "</table>\n",
       "</div>"
      ],
      "text/plain": [
       "       AVG_CORNERSHOMED1_L3  AVG_CORNERSHOMED2_L5  AVG_CORNERSAWAYD1_L5  CORNERS_DIV_SHOTS  AVG_CORNERSAWAYD2_L5  LEAGUE_INGLATERRA  TOTAL_CORNERS  LAST_MINUTECORNER_H_L60  LAST_MINUTECORNER_A_L60  SUM_CORNERS_L60  AVG_CORNERS_LOSE_HOME  CORNERS_A  AVG_CORNERSHOMED1_L5  NUM_MATCHESHOME_POSITIVE_L5  TOTAL_CORNERS_45_60  PROB\n",
       "count             91.000000             91.000000             91.000000          91.000000             91.000000          91.000000      91.000000                91.000000                91.000000        91.000000              91.000000  91.000000             91.000000                    91.000000            91.000000  91.0\n",
       "mean               1.930403              0.973626              1.373810           0.732772              0.593223           0.010989       5.593407                30.153846                26.384615         5.593407               1.230769   2.560440              2.010989                     3.703297             1.153846   1.0\n",
       "std                1.770483              0.850207              1.436087           0.346210              0.792390           0.104828       1.712555                24.690044                25.098371         1.712555               1.222921   2.708869              1.757868                     1.016470             1.134539   0.0\n",
       "min                0.000000              0.000000              0.000000           0.307692              0.000000           0.000000       4.000000                 0.000000                 0.000000         4.000000              -1.000000   0.000000              0.000000                     1.000000             0.000000   1.0\n",
       "25%                0.000000              0.000000              0.000000           0.483333              0.000000           0.000000       4.000000                 0.000000                 0.000000         4.000000               0.000000   0.000000              0.000000                     3.000000             0.000000   1.0\n",
       "50%                2.000000              1.000000              1.400000           0.647059              0.200000           0.000000       5.000000                41.000000                36.000000         5.000000               1.333333   2.000000              2.400000                     4.000000             1.000000   1.0\n",
       "75%                3.000000              1.800000              2.400000           0.866071              1.100000           0.000000       6.000000                53.000000                51.000000         6.000000               2.000000   5.000000              3.400000                     4.000000             2.000000   1.0\n",
       "max                6.333333              2.600000              5.000000           2.500000              3.000000           1.000000      11.000000                59.000000                59.000000        11.000000               4.000000  11.000000              6.200000                     5.000000             5.000000   1.0"
      ]
     },
     "execution_count": 146,
     "metadata": {},
     "output_type": "execute_result"
    }
   ],
   "source": [
    "X_validation_copy[X_validation_copy.PROB==1].describe()"
   ]
  },
  {
   "cell_type": "markdown",
   "id": "ad7f885b",
   "metadata": {},
   "source": [
    "## FINAL VALIDATION - NOVEMBER 2021"
   ]
  },
  {
   "cell_type": "code",
   "execution_count": 229,
   "id": "1a51fe2b",
   "metadata": {},
   "outputs": [],
   "source": [
    "y_validation_november = X_validation_november.pop(\"output\")"
   ]
  },
  {
   "cell_type": "code",
   "execution_count": 230,
   "id": "2ff81e36",
   "metadata": {},
   "outputs": [
    {
     "data": {
      "text/plain": [
       "array([[ 4, 35],\n",
       "       [ 9, 39]])"
      ]
     },
     "execution_count": 230,
     "metadata": {},
     "output_type": "execute_result"
    }
   ],
   "source": [
    "y_pred = model.predict(X_validation_november)\n",
    "confusion_matrix(y_validation_november, y_pred)"
   ]
  },
  {
   "cell_type": "code",
   "execution_count": 231,
   "id": "6d5e72bf",
   "metadata": {},
   "outputs": [
    {
     "data": {
      "text/plain": [
       "0.4942528735632184"
      ]
     },
     "execution_count": 231,
     "metadata": {},
     "output_type": "execute_result"
    }
   ],
   "source": [
    "metrics.accuracy_score(y_validation_november, y_pred)"
   ]
  },
  {
   "cell_type": "code",
   "execution_count": 232,
   "id": "2bd44841",
   "metadata": {},
   "outputs": [],
   "source": [
    "y_pred_proba = model.predict_proba(X_validation_november)[:,1]\n",
    "predict_mine = np.where(y_pred_proba > 0.6, 1, 0)\n",
    "cm1 = confusion_matrix(y_validation_november, predict_mine)"
   ]
  },
  {
   "cell_type": "code",
   "execution_count": 233,
   "id": "b0f47d24",
   "metadata": {},
   "outputs": [
    {
     "data": {
      "text/plain": [
       "array([[38,  1],\n",
       "       [45,  3]])"
      ]
     },
     "execution_count": 233,
     "metadata": {},
     "output_type": "execute_result"
    }
   ],
   "source": [
    "cm1"
   ]
  },
  {
   "cell_type": "code",
   "execution_count": 234,
   "id": "8c44788e",
   "metadata": {},
   "outputs": [
    {
     "data": {
      "text/plain": [
       "0.75"
      ]
     },
     "execution_count": 234,
     "metadata": {},
     "output_type": "execute_result"
    }
   ],
   "source": [
    "cm1[1][1]/(cm1[1][1]+cm1[0][1])"
   ]
  },
  {
   "cell_type": "code",
   "execution_count": 235,
   "id": "9f8859f0",
   "metadata": {},
   "outputs": [
    {
     "data": {
      "text/plain": [
       "4.597701149425287"
      ]
     },
     "execution_count": 235,
     "metadata": {},
     "output_type": "execute_result"
    }
   ],
   "source": [
    "(cm1[1][1]+cm1[0][1])/len(y_validation_november)*100"
   ]
  },
  {
   "cell_type": "code",
   "execution_count": null,
   "id": "433abf23",
   "metadata": {},
   "outputs": [],
   "source": []
  },
  {
   "cell_type": "code",
   "execution_count": null,
   "id": "b2915e8e",
   "metadata": {},
   "outputs": [],
   "source": []
  },
  {
   "cell_type": "markdown",
   "id": "a223252a",
   "metadata": {},
   "source": [
    "# OUTPUT"
   ]
  },
  {
   "cell_type": "code",
   "execution_count": 41,
   "id": "ea728580",
   "metadata": {},
   "outputs": [],
   "source": [
    "output = data[(data.YEARMONTH>=202111 )& (data.TOTAL_CORNERS>3)][[\"ID\", \"output\", \"CORNERS_H\", \"CORNERS_A\", \"TOTAL_CORNERS\"]].reset_index(drop=True)"
   ]
  },
  {
   "cell_type": "code",
   "execution_count": 42,
   "id": "d5279e1e",
   "metadata": {},
   "outputs": [],
   "source": [
    "output[\"PROB_CORNERS\"] = pd.DataFrame(model.predict_proba(X_validation_november)[:,1]).iloc[:, 0]\\\n",
    "    .apply(lambda x: 1 if x>0.6 else 0)"
   ]
  },
  {
   "cell_type": "code",
   "execution_count": 43,
   "id": "238bf892",
   "metadata": {},
   "outputs": [
    {
     "data": {
      "text/html": [
       "<div>\n",
       "<style scoped>\n",
       "    .dataframe tbody tr th:only-of-type {\n",
       "        vertical-align: middle;\n",
       "    }\n",
       "\n",
       "    .dataframe tbody tr th {\n",
       "        vertical-align: top;\n",
       "    }\n",
       "\n",
       "    .dataframe thead th {\n",
       "        text-align: right;\n",
       "    }\n",
       "</style>\n",
       "<table border=\"1\" class=\"dataframe\">\n",
       "  <thead>\n",
       "    <tr style=\"text-align: right;\">\n",
       "      <th></th>\n",
       "      <th>ID</th>\n",
       "      <th>output</th>\n",
       "      <th>CORNERS_H</th>\n",
       "      <th>CORNERS_A</th>\n",
       "      <th>TOTAL_CORNERS</th>\n",
       "      <th>PROB_CORNERS</th>\n",
       "    </tr>\n",
       "  </thead>\n",
       "  <tbody>\n",
       "    <tr>\n",
       "      <th>13</th>\n",
       "      <td>S0oXCjk1</td>\n",
       "      <td>1</td>\n",
       "      <td>4</td>\n",
       "      <td>0</td>\n",
       "      <td>4</td>\n",
       "      <td>1</td>\n",
       "    </tr>\n",
       "    <tr>\n",
       "      <th>37</th>\n",
       "      <td>4Y8aXZPg</td>\n",
       "      <td>1</td>\n",
       "      <td>4</td>\n",
       "      <td>0</td>\n",
       "      <td>4</td>\n",
       "      <td>1</td>\n",
       "    </tr>\n",
       "    <tr>\n",
       "      <th>81</th>\n",
       "      <td>Y54DQS1n</td>\n",
       "      <td>1</td>\n",
       "      <td>0</td>\n",
       "      <td>4</td>\n",
       "      <td>4</td>\n",
       "      <td>1</td>\n",
       "    </tr>\n",
       "  </tbody>\n",
       "</table>\n",
       "</div>"
      ],
      "text/plain": [
       "          ID  output  CORNERS_H  CORNERS_A  TOTAL_CORNERS  PROB_CORNERS\n",
       "13  S0oXCjk1       1          4          0              4             1\n",
       "37  4Y8aXZPg       1          4          0              4             1\n",
       "81  Y54DQS1n       1          0          4              4             1"
      ]
     },
     "execution_count": 43,
     "metadata": {},
     "output_type": "execute_result"
    }
   ],
   "source": [
    "output[output.PROB_CORNERS==1]"
   ]
  },
  {
   "cell_type": "code",
   "execution_count": null,
   "id": "dbd9992c",
   "metadata": {},
   "outputs": [],
   "source": []
  }
 ],
 "metadata": {
  "kernelspec": {
   "display_name": "Python 3 (ipykernel)",
   "language": "python",
   "name": "python3"
  },
  "language_info": {
   "codemirror_mode": {
    "name": "ipython",
    "version": 3
   },
   "file_extension": ".py",
   "mimetype": "text/x-python",
   "name": "python",
   "nbconvert_exporter": "python",
   "pygments_lexer": "ipython3",
   "version": "3.7.11"
  }
 },
 "nbformat": 4,
 "nbformat_minor": 5
}
