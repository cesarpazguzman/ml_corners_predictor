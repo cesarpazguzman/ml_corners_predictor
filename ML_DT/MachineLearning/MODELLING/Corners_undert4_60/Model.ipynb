{
 "cells": [
  {
   "cell_type": "code",
   "execution_count": 318,
   "id": "0705929c",
   "metadata": {},
   "outputs": [],
   "source": [
    "import pymysql\n",
    "from sklearn.ensemble import RandomForestClassifier\n",
    "from sqlalchemy import create_engine\n",
    "import pandas as pd\n",
    "import matplotlib.pyplot as plt\n",
    "%matplotlib inline\n",
    "import numpy as np\n",
    "from pandasql import sqldf\n",
    "from sklearn import metrics\n",
    "\n",
    "import xgboost as xgb\n",
    "from sklearn.metrics import accuracy_score, confusion_matrix"
   ]
  },
  {
   "cell_type": "code",
   "execution_count": 347,
   "id": "0121f51f",
   "metadata": {},
   "outputs": [],
   "source": [
    "data = pd.read_csv(\"../../FEATURE_ENGINEER/tablon_undert_58_q4.csv\")\n",
    "\n",
    "data = data[(data.TOTAL_CORNERS>2) & (data.TOTAL_CORNERS<8)]\n",
    "\n",
    "tablon = data[data.YEARMONTH<202109][[\"AVG_CORNERSHOMED1_L3\",\n",
    "                                                                 \"AVG_CORNERSHOMED2_L5\", \"AVG_CORNERSAWAYD1_L5\",\n",
    "                                      \"CORNERS_DIV_SHOTS\",\"AVG_CORNERSAWAYD2_L5\", \"LEAGUE_INGLATERRA\", \"TOTAL_CORNERS\",\n",
    "                                      \"LAST_MINUTECORNER_H_L60\", \"LAST_MINUTECORNER_A_L60\", \"SUM_CORNERS_L60\",\n",
    "                                      \"AVG_CORNERS_LOSE_HOME\",\"CORNERS_A\", \"AVG_CORNERSHOMED1_L5\", \n",
    "                                      \"output\",\"TOTAL_CORNERS_45_60\"]]\n",
    "\n",
    "\n",
    "X_validation = data[(data.YEARMONTH>=202109) & (data.YEARMONTH<202111)][[\"AVG_CORNERSHOMED1_L3\",\"AVG_CORNERSHOMED2_L5\",\n",
    "                                                                          \"AVG_CORNERSAWAYD1_L5\",\n",
    "                                      \"CORNERS_DIV_SHOTS\",\"AVG_CORNERSAWAYD2_L5\", \"LEAGUE_INGLATERRA\", \"TOTAL_CORNERS\",\n",
    "                                      \"LAST_MINUTECORNER_H_L60\", \"LAST_MINUTECORNER_A_L60\", \"SUM_CORNERS_L60\",\n",
    "                                      \"AVG_CORNERS_LOSE_HOME\",\"CORNERS_A\", \"AVG_CORNERSHOMED1_L5\", \n",
    "                                      \"output\",\"TOTAL_CORNERS_45_60\"]]\n",
    "y_validation = X_validation.pop(\"output\")\n",
    "\n",
    "\n",
    "X_validation_november = data[data.YEARMONTH>=202111][[\"AVG_CORNERSHOMED1_L3\",\"AVG_CORNERSHOMED2_L5\", \"AVG_CORNERSAWAYD1_L5\",\n",
    "                                      \"CORNERS_DIV_SHOTS\",\"AVG_CORNERSAWAYD2_L5\", \"LEAGUE_INGLATERRA\", \"TOTAL_CORNERS\",\n",
    "                                      \"LAST_MINUTECORNER_H_L60\", \"LAST_MINUTECORNER_A_L60\", \"SUM_CORNERS_L60\",\n",
    "                                      \"AVG_CORNERS_LOSE_HOME\",\"CORNERS_A\", \"AVG_CORNERSHOMED1_L5\", \n",
    "                                      \"output\",\"TOTAL_CORNERS_45_60\"]]\n",
    "y_validation_november = X_validation_november.pop(\"output\")"
   ]
  },
  {
   "cell_type": "code",
   "execution_count": 348,
   "id": "5ad0b69b",
   "metadata": {},
   "outputs": [],
   "source": [
    "len_test = int(round(len(tablon)*0.3, 0))\n",
    "len_train = int(round(len(tablon)*0.7, 0))"
   ]
  },
  {
   "cell_type": "code",
   "execution_count": 349,
   "id": "b3d8b56c",
   "metadata": {},
   "outputs": [],
   "source": [
    "X_train = tablon[:len_train]\n",
    "y_train = X_train.pop(\"output\")\n",
    "X_test = tablon[len_train:(len_train+len_test)]\n",
    "y_test = X_test.pop(\"output\")"
   ]
  },
  {
   "cell_type": "code",
   "execution_count": 350,
   "id": "3fe938f9",
   "metadata": {},
   "outputs": [
    {
     "data": {
      "text/plain": [
       "((5162, 14), (2212, 14), (254, 14))"
      ]
     },
     "execution_count": 350,
     "metadata": {},
     "output_type": "execute_result"
    }
   ],
   "source": [
    "X_train.shape, X_test.shape, X_validation.shape"
   ]
  },
  {
   "cell_type": "code",
   "execution_count": 351,
   "id": "e4371695",
   "metadata": {},
   "outputs": [
    {
     "data": {
      "text/plain": [
       "1    2705\n",
       "0    2457\n",
       "Name: output, dtype: int64"
      ]
     },
     "execution_count": 351,
     "metadata": {},
     "output_type": "execute_result"
    }
   ],
   "source": [
    "y_train.value_counts()"
   ]
  },
  {
   "cell_type": "code",
   "execution_count": 352,
   "id": "f73ee8e1",
   "metadata": {},
   "outputs": [
    {
     "data": {
      "text/plain": [
       "1    1251\n",
       "0     961\n",
       "Name: output, dtype: int64"
      ]
     },
     "execution_count": 352,
     "metadata": {},
     "output_type": "execute_result"
    }
   ],
   "source": [
    "y_test.value_counts()"
   ]
  },
  {
   "cell_type": "code",
   "execution_count": 353,
   "id": "b178d2af",
   "metadata": {},
   "outputs": [
    {
     "data": {
      "text/plain": [
       "1    151\n",
       "0    103\n",
       "Name: output, dtype: int64"
      ]
     },
     "execution_count": 353,
     "metadata": {},
     "output_type": "execute_result"
    }
   ],
   "source": [
    "y_validation.value_counts()"
   ]
  },
  {
   "cell_type": "markdown",
   "id": "35058c53",
   "metadata": {},
   "source": [
    "## EXECUTING BEST MODEL"
   ]
  },
  {
   "cell_type": "code",
   "execution_count": null,
   "id": "dd847c24",
   "metadata": {},
   "outputs": [],
   "source": []
  },
  {
   "cell_type": "code",
   "execution_count": 354,
   "id": "9353c5e4",
   "metadata": {},
   "outputs": [
    {
     "name": "stdout",
     "output_type": "stream",
     "text": [
      "[0]\tvalidation_0-auc:0.55591\tvalidation_0-logloss:0.69263\tvalidation_0-error:0.47197\n"
     ]
    },
    {
     "name": "stderr",
     "output_type": "stream",
     "text": [
      "/home/root/opt/python3.7.11/lib/python3.7/site-packages/xgboost/sklearn.py:1224: UserWarning: The use of label encoder in XGBClassifier is deprecated and will be removed in a future release. To remove this warning, do the following: 1) Pass option use_label_encoder=False when constructing XGBClassifier object; and 2) Encode your labels (y) as integers starting with 0, i.e. 0, 1, 2, ..., [num_class - 1].\n",
      "  warnings.warn(label_encoder_deprecation_msg, UserWarning)\n"
     ]
    },
    {
     "name": "stdout",
     "output_type": "stream",
     "text": [
      "[1]\tvalidation_0-auc:0.55245\tvalidation_0-logloss:0.69220\tvalidation_0-error:0.46926\n",
      "[2]\tvalidation_0-auc:0.55695\tvalidation_0-logloss:0.69172\tvalidation_0-error:0.45976\n",
      "[3]\tvalidation_0-auc:0.56171\tvalidation_0-logloss:0.69135\tvalidation_0-error:0.46248\n",
      "[4]\tvalidation_0-auc:0.56491\tvalidation_0-logloss:0.69089\tvalidation_0-error:0.46745\n",
      "[5]\tvalidation_0-auc:0.56518\tvalidation_0-logloss:0.69044\tvalidation_0-error:0.45570\n",
      "[6]\tvalidation_0-auc:0.56682\tvalidation_0-logloss:0.68997\tvalidation_0-error:0.44439\n",
      "[7]\tvalidation_0-auc:0.56502\tvalidation_0-logloss:0.68956\tvalidation_0-error:0.45117\n",
      "[8]\tvalidation_0-auc:0.56625\tvalidation_0-logloss:0.68922\tvalidation_0-error:0.44982\n",
      "[9]\tvalidation_0-auc:0.56724\tvalidation_0-logloss:0.68881\tvalidation_0-error:0.44892\n",
      "[10]\tvalidation_0-auc:0.56789\tvalidation_0-logloss:0.68840\tvalidation_0-error:0.45208\n",
      "[11]\tvalidation_0-auc:0.56639\tvalidation_0-logloss:0.68805\tvalidation_0-error:0.45163\n",
      "[12]\tvalidation_0-auc:0.56779\tvalidation_0-logloss:0.68764\tvalidation_0-error:0.45253\n",
      "[13]\tvalidation_0-auc:0.56767\tvalidation_0-logloss:0.68729\tvalidation_0-error:0.44892\n",
      "[14]\tvalidation_0-auc:0.56812\tvalidation_0-logloss:0.68690\tvalidation_0-error:0.45298\n",
      "[15]\tvalidation_0-auc:0.56915\tvalidation_0-logloss:0.68656\tvalidation_0-error:0.45253\n",
      "[16]\tvalidation_0-auc:0.56885\tvalidation_0-logloss:0.68621\tvalidation_0-error:0.45253\n",
      "[17]\tvalidation_0-auc:0.56873\tvalidation_0-logloss:0.68589\tvalidation_0-error:0.45660\n",
      "[18]\tvalidation_0-auc:0.56907\tvalidation_0-logloss:0.68555\tvalidation_0-error:0.45660\n",
      "[19]\tvalidation_0-auc:0.56887\tvalidation_0-logloss:0.68524\tvalidation_0-error:0.45570\n",
      "[20]\tvalidation_0-auc:0.56923\tvalidation_0-logloss:0.68494\tvalidation_0-error:0.45570\n",
      "[21]\tvalidation_0-auc:0.57029\tvalidation_0-logloss:0.68461\tvalidation_0-error:0.45253\n",
      "[22]\tvalidation_0-auc:0.57163\tvalidation_0-logloss:0.68433\tvalidation_0-error:0.44711\n",
      "[23]\tvalidation_0-auc:0.57181\tvalidation_0-logloss:0.68405\tvalidation_0-error:0.44711\n",
      "[24]\tvalidation_0-auc:0.57212\tvalidation_0-logloss:0.68379\tvalidation_0-error:0.44620\n",
      "[25]\tvalidation_0-auc:0.57184\tvalidation_0-logloss:0.68353\tvalidation_0-error:0.44892\n",
      "[26]\tvalidation_0-auc:0.57214\tvalidation_0-logloss:0.68324\tvalidation_0-error:0.44485\n",
      "[27]\tvalidation_0-auc:0.57300\tvalidation_0-logloss:0.68295\tvalidation_0-error:0.44846\n",
      "[28]\tvalidation_0-auc:0.57318\tvalidation_0-logloss:0.68268\tvalidation_0-error:0.44666\n",
      "[29]\tvalidation_0-auc:0.57387\tvalidation_0-logloss:0.68241\tvalidation_0-error:0.44711\n",
      "[30]\tvalidation_0-auc:0.57341\tvalidation_0-logloss:0.68218\tvalidation_0-error:0.44666\n",
      "[31]\tvalidation_0-auc:0.57292\tvalidation_0-logloss:0.68195\tvalidation_0-error:0.44937\n",
      "[32]\tvalidation_0-auc:0.57315\tvalidation_0-logloss:0.68171\tvalidation_0-error:0.44620\n",
      "[33]\tvalidation_0-auc:0.57302\tvalidation_0-logloss:0.68150\tvalidation_0-error:0.44168\n",
      "[34]\tvalidation_0-auc:0.57355\tvalidation_0-logloss:0.68127\tvalidation_0-error:0.44033\n",
      "[35]\tvalidation_0-auc:0.57315\tvalidation_0-logloss:0.68111\tvalidation_0-error:0.44349\n",
      "[36]\tvalidation_0-auc:0.57354\tvalidation_0-logloss:0.68089\tvalidation_0-error:0.43987\n",
      "[37]\tvalidation_0-auc:0.57378\tvalidation_0-logloss:0.68068\tvalidation_0-error:0.44078\n",
      "[38]\tvalidation_0-auc:0.57351\tvalidation_0-logloss:0.68048\tvalidation_0-error:0.44213\n",
      "[39]\tvalidation_0-auc:0.57307\tvalidation_0-logloss:0.68031\tvalidation_0-error:0.44575\n",
      "[40]\tvalidation_0-auc:0.57351\tvalidation_0-logloss:0.68010\tvalidation_0-error:0.44666\n",
      "[41]\tvalidation_0-auc:0.57264\tvalidation_0-logloss:0.67997\tvalidation_0-error:0.44620\n",
      "[42]\tvalidation_0-auc:0.57225\tvalidation_0-logloss:0.67981\tvalidation_0-error:0.44846\n",
      "[43]\tvalidation_0-auc:0.57164\tvalidation_0-logloss:0.67968\tvalidation_0-error:0.44892\n",
      "[44]\tvalidation_0-auc:0.57194\tvalidation_0-logloss:0.67950\tvalidation_0-error:0.44937\n",
      "[45]\tvalidation_0-auc:0.57261\tvalidation_0-logloss:0.67934\tvalidation_0-error:0.44485\n",
      "[46]\tvalidation_0-auc:0.57202\tvalidation_0-logloss:0.67922\tvalidation_0-error:0.44666\n",
      "[47]\tvalidation_0-auc:0.57170\tvalidation_0-logloss:0.67909\tvalidation_0-error:0.44485\n",
      "[48]\tvalidation_0-auc:0.57235\tvalidation_0-logloss:0.67890\tvalidation_0-error:0.44620\n",
      "[49]\tvalidation_0-auc:0.57252\tvalidation_0-logloss:0.67873\tvalidation_0-error:0.44620\n",
      "[50]\tvalidation_0-auc:0.57291\tvalidation_0-logloss:0.67855\tvalidation_0-error:0.44530\n",
      "[51]\tvalidation_0-auc:0.57341\tvalidation_0-logloss:0.67834\tvalidation_0-error:0.44485\n",
      "[52]\tvalidation_0-auc:0.57368\tvalidation_0-logloss:0.67819\tvalidation_0-error:0.44666\n",
      "[53]\tvalidation_0-auc:0.57376\tvalidation_0-logloss:0.67807\tvalidation_0-error:0.44485\n",
      "[54]\tvalidation_0-auc:0.57363\tvalidation_0-logloss:0.67798\tvalidation_0-error:0.44666\n",
      "[55]\tvalidation_0-auc:0.57324\tvalidation_0-logloss:0.67788\tvalidation_0-error:0.44620\n",
      "[56]\tvalidation_0-auc:0.57333\tvalidation_0-logloss:0.67774\tvalidation_0-error:0.44575\n",
      "[57]\tvalidation_0-auc:0.57334\tvalidation_0-logloss:0.67761\tvalidation_0-error:0.44575\n",
      "[58]\tvalidation_0-auc:0.57302\tvalidation_0-logloss:0.67753\tvalidation_0-error:0.44711\n",
      "[59]\tvalidation_0-auc:0.57265\tvalidation_0-logloss:0.67745\tvalidation_0-error:0.44620\n",
      "[60]\tvalidation_0-auc:0.57258\tvalidation_0-logloss:0.67733\tvalidation_0-error:0.44756\n",
      "[61]\tvalidation_0-auc:0.57241\tvalidation_0-logloss:0.67725\tvalidation_0-error:0.44666\n",
      "[62]\tvalidation_0-auc:0.57212\tvalidation_0-logloss:0.67717\tvalidation_0-error:0.44620\n",
      "[63]\tvalidation_0-auc:0.57216\tvalidation_0-logloss:0.67704\tvalidation_0-error:0.44756\n",
      "[64]\tvalidation_0-auc:0.57186\tvalidation_0-logloss:0.67695\tvalidation_0-error:0.44485\n",
      "[65]\tvalidation_0-auc:0.57225\tvalidation_0-logloss:0.67681\tvalidation_0-error:0.44530\n",
      "[66]\tvalidation_0-auc:0.57191\tvalidation_0-logloss:0.67676\tvalidation_0-error:0.44394\n",
      "[67]\tvalidation_0-auc:0.57230\tvalidation_0-logloss:0.67664\tvalidation_0-error:0.44394\n",
      "[68]\tvalidation_0-auc:0.57283\tvalidation_0-logloss:0.67651\tvalidation_0-error:0.44801\n",
      "[69]\tvalidation_0-auc:0.57321\tvalidation_0-logloss:0.67638\tvalidation_0-error:0.44801\n",
      "[70]\tvalidation_0-auc:0.57304\tvalidation_0-logloss:0.67631\tvalidation_0-error:0.44892\n",
      "[71]\tvalidation_0-auc:0.57329\tvalidation_0-logloss:0.67618\tvalidation_0-error:0.44711\n",
      "[72]\tvalidation_0-auc:0.57330\tvalidation_0-logloss:0.67610\tvalidation_0-error:0.44756\n",
      "[73]\tvalidation_0-auc:0.57348\tvalidation_0-logloss:0.67599\tvalidation_0-error:0.44756\n",
      "[74]\tvalidation_0-auc:0.57321\tvalidation_0-logloss:0.67593\tvalidation_0-error:0.44666\n",
      "[75]\tvalidation_0-auc:0.57315\tvalidation_0-logloss:0.67584\tvalidation_0-error:0.44801\n",
      "[76]\tvalidation_0-auc:0.57281\tvalidation_0-logloss:0.67582\tvalidation_0-error:0.44711\n",
      "[77]\tvalidation_0-auc:0.57279\tvalidation_0-logloss:0.67574\tvalidation_0-error:0.44711\n",
      "[78]\tvalidation_0-auc:0.57258\tvalidation_0-logloss:0.67567\tvalidation_0-error:0.44620\n",
      "[79]\tvalidation_0-auc:0.57275\tvalidation_0-logloss:0.67557\tvalidation_0-error:0.44394\n",
      "[80]\tvalidation_0-auc:0.57301\tvalidation_0-logloss:0.67548\tvalidation_0-error:0.44213\n",
      "[81]\tvalidation_0-auc:0.57304\tvalidation_0-logloss:0.67540\tvalidation_0-error:0.44394\n",
      "[82]\tvalidation_0-auc:0.57302\tvalidation_0-logloss:0.67534\tvalidation_0-error:0.44485\n",
      "[83]\tvalidation_0-auc:0.57294\tvalidation_0-logloss:0.67529\tvalidation_0-error:0.44394\n",
      "[84]\tvalidation_0-auc:0.57300\tvalidation_0-logloss:0.67521\tvalidation_0-error:0.44711\n",
      "[85]\tvalidation_0-auc:0.57291\tvalidation_0-logloss:0.67516\tvalidation_0-error:0.44801\n",
      "[86]\tvalidation_0-auc:0.57298\tvalidation_0-logloss:0.67508\tvalidation_0-error:0.44620\n",
      "[87]\tvalidation_0-auc:0.57275\tvalidation_0-logloss:0.67504\tvalidation_0-error:0.44575\n",
      "[88]\tvalidation_0-auc:0.57276\tvalidation_0-logloss:0.67498\tvalidation_0-error:0.44485\n",
      "[89]\tvalidation_0-auc:0.57277\tvalidation_0-logloss:0.67492\tvalidation_0-error:0.44485\n",
      "[90]\tvalidation_0-auc:0.57248\tvalidation_0-logloss:0.67492\tvalidation_0-error:0.44575\n",
      "[91]\tvalidation_0-auc:0.57265\tvalidation_0-logloss:0.67485\tvalidation_0-error:0.44485\n",
      "[92]\tvalidation_0-auc:0.57228\tvalidation_0-logloss:0.67485\tvalidation_0-error:0.44575\n",
      "[93]\tvalidation_0-auc:0.57240\tvalidation_0-logloss:0.67479\tvalidation_0-error:0.44756\n",
      "[94]\tvalidation_0-auc:0.57228\tvalidation_0-logloss:0.67476\tvalidation_0-error:0.44711\n",
      "[95]\tvalidation_0-auc:0.57203\tvalidation_0-logloss:0.67474\tvalidation_0-error:0.44620\n",
      "[96]\tvalidation_0-auc:0.57255\tvalidation_0-logloss:0.67463\tvalidation_0-error:0.44439\n"
     ]
    },
    {
     "name": "stdout",
     "output_type": "stream",
     "text": [
      "[97]\tvalidation_0-auc:0.57268\tvalidation_0-logloss:0.67458\tvalidation_0-error:0.44394\n",
      "[98]\tvalidation_0-auc:0.57278\tvalidation_0-logloss:0.67453\tvalidation_0-error:0.44439\n",
      "[99]\tvalidation_0-auc:0.57264\tvalidation_0-logloss:0.67451\tvalidation_0-error:0.44530\n",
      "[100]\tvalidation_0-auc:0.57235\tvalidation_0-logloss:0.67448\tvalidation_0-error:0.44530\n",
      "[101]\tvalidation_0-auc:0.57250\tvalidation_0-logloss:0.67445\tvalidation_0-error:0.44756\n",
      "[102]\tvalidation_0-auc:0.57253\tvalidation_0-logloss:0.67441\tvalidation_0-error:0.44756\n",
      "[103]\tvalidation_0-auc:0.57241\tvalidation_0-logloss:0.67439\tvalidation_0-error:0.44620\n",
      "[104]\tvalidation_0-auc:0.57269\tvalidation_0-logloss:0.67432\tvalidation_0-error:0.44756\n",
      "[105]\tvalidation_0-auc:0.57286\tvalidation_0-logloss:0.67427\tvalidation_0-error:0.44846\n",
      "[106]\tvalidation_0-auc:0.57304\tvalidation_0-logloss:0.67421\tvalidation_0-error:0.44756\n",
      "[107]\tvalidation_0-auc:0.57312\tvalidation_0-logloss:0.67417\tvalidation_0-error:0.44711\n",
      "[108]\tvalidation_0-auc:0.57328\tvalidation_0-logloss:0.67412\tvalidation_0-error:0.44801\n",
      "[109]\tvalidation_0-auc:0.57285\tvalidation_0-logloss:0.67414\tvalidation_0-error:0.44620\n",
      "[110]\tvalidation_0-auc:0.57256\tvalidation_0-logloss:0.67415\tvalidation_0-error:0.44756\n",
      "[111]\tvalidation_0-auc:0.57262\tvalidation_0-logloss:0.67410\tvalidation_0-error:0.44756\n",
      "[112]\tvalidation_0-auc:0.57290\tvalidation_0-logloss:0.67404\tvalidation_0-error:0.44485\n",
      "[113]\tvalidation_0-auc:0.57292\tvalidation_0-logloss:0.67400\tvalidation_0-error:0.44439\n",
      "[114]\tvalidation_0-auc:0.57247\tvalidation_0-logloss:0.67400\tvalidation_0-error:0.44666\n",
      "[115]\tvalidation_0-auc:0.57218\tvalidation_0-logloss:0.67399\tvalidation_0-error:0.44892\n",
      "[116]\tvalidation_0-auc:0.57215\tvalidation_0-logloss:0.67397\tvalidation_0-error:0.44711\n",
      "[117]\tvalidation_0-auc:0.57246\tvalidation_0-logloss:0.67392\tvalidation_0-error:0.44620\n",
      "[118]\tvalidation_0-auc:0.57226\tvalidation_0-logloss:0.67391\tvalidation_0-error:0.44620\n",
      "[119]\tvalidation_0-auc:0.57236\tvalidation_0-logloss:0.67388\tvalidation_0-error:0.44892\n",
      "[120]\tvalidation_0-auc:0.57203\tvalidation_0-logloss:0.67387\tvalidation_0-error:0.44711\n",
      "[121]\tvalidation_0-auc:0.57191\tvalidation_0-logloss:0.67385\tvalidation_0-error:0.44846\n",
      "[122]\tvalidation_0-auc:0.57196\tvalidation_0-logloss:0.67380\tvalidation_0-error:0.44801\n",
      "[123]\tvalidation_0-auc:0.57209\tvalidation_0-logloss:0.67378\tvalidation_0-error:0.44892\n",
      "[124]\tvalidation_0-auc:0.57197\tvalidation_0-logloss:0.67373\tvalidation_0-error:0.44801\n",
      "[125]\tvalidation_0-auc:0.57225\tvalidation_0-logloss:0.67365\tvalidation_0-error:0.44711\n",
      "[126]\tvalidation_0-auc:0.57230\tvalidation_0-logloss:0.67363\tvalidation_0-error:0.44711\n",
      "[127]\tvalidation_0-auc:0.57250\tvalidation_0-logloss:0.67359\tvalidation_0-error:0.44575\n",
      "[128]\tvalidation_0-auc:0.57219\tvalidation_0-logloss:0.67361\tvalidation_0-error:0.44575\n",
      "[129]\tvalidation_0-auc:0.57201\tvalidation_0-logloss:0.67361\tvalidation_0-error:0.45027\n"
     ]
    },
    {
     "data": {
      "text/plain": [
       "XGBClassifier(base_score=0.5, booster='gbtree', colsample_bylevel=1,\n",
       "              colsample_bynode=1, colsample_bytree=0.65,\n",
       "              enable_categorical=False, eta=0.015,\n",
       "              eval_metric=['auc', 'logloss', 'error'], gamma=1.25, gpu_id=-1,\n",
       "              importance_type=None, interaction_constraints='',\n",
       "              learning_rate=0.0149999997, max_delta_step=0, max_depth=6,\n",
       "              min_child_weight=30, missing=nan, monotone_constraints='()',\n",
       "              n_estimators=130, n_jobs=12, num_parallel_tree=1,\n",
       "              predictor='auto', random_state=123, reg_alpha=0, reg_lambda=1,\n",
       "              scale_pos_weight=1, subsample=1, tree_method='exact',\n",
       "              validate_parameters=1, verbosity=None)"
      ]
     },
     "execution_count": 354,
     "metadata": {},
     "output_type": "execute_result"
    }
   ],
   "source": [
    "model = xgb.XGBClassifier(objective='binary:logistic', n_estimators=130, max_depth=6, gamma=1.25, eta=0.015,\n",
    "                          min_child_weight=30, colsample_bytree=0.65, \n",
    "                          random_state=123, eval_metric=[\"auc\", \"logloss\", \"error\"])\n",
    "model.fit(X_train, y_train, eval_set=[(X_test, y_test)])"
   ]
  },
  {
   "cell_type": "code",
   "execution_count": 355,
   "id": "fd60cb85",
   "metadata": {},
   "outputs": [
    {
     "data": {
      "text/plain": [
       "<AxesSubplot:>"
      ]
     },
     "execution_count": 355,
     "metadata": {},
     "output_type": "execute_result"
    },
    {
     "data": {
      "image/png": "[encoded data removed]",
      "text/plain": [
       "<Figure size 432x288 with 1 Axes>"
      ]
     },
     "metadata": {
      "needs_background": "light"
     },
     "output_type": "display_data"
    }
   ],
   "source": [
    "fu_dict = dict(zip(X_train.columns, model.feature_importances_))\n",
    "fi = pd.DataFrame(fu_dict.values(), index=fu_dict.keys(), columns=[\"importance\"])\n",
    "fi = fi.sort_values(by=\"importance\", ascending=False)\n",
    "\n",
    "fi.plot.bar()"
   ]
  },
  {
   "cell_type": "code",
   "execution_count": 356,
   "id": "ff8a7a70",
   "metadata": {},
   "outputs": [
    {
     "data": {
      "text/plain": [
       "array([[459, 502],\n",
       "       [494, 757]])"
      ]
     },
     "execution_count": 356,
     "metadata": {},
     "output_type": "execute_result"
    }
   ],
   "source": [
    "y_pred1 = model.predict(X_test)\n",
    "confusion_matrix(y_test, y_pred1)"
   ]
  },
  {
   "cell_type": "code",
   "execution_count": 357,
   "id": "55f7e0eb",
   "metadata": {},
   "outputs": [],
   "source": [
    "y_pred_proba = model.predict_proba(X_test)[:,1]\n",
    "predict_mine = np.where(y_pred_proba > 0.55, 1, 0)\n",
    "cm1 = confusion_matrix(y_test, predict_mine)"
   ]
  },
  {
   "cell_type": "code",
   "execution_count": 358,
   "id": "6cf03856",
   "metadata": {},
   "outputs": [
    {
     "data": {
      "text/plain": [
       "array([[854, 107],\n",
       "       [994, 257]])"
      ]
     },
     "execution_count": 358,
     "metadata": {},
     "output_type": "execute_result"
    }
   ],
   "source": [
    "cm1"
   ]
  },
  {
   "cell_type": "code",
   "execution_count": 359,
   "id": "2a080435",
   "metadata": {},
   "outputs": [
    {
     "data": {
      "text/plain": [
       "0.5497287522603979"
      ]
     },
     "execution_count": 359,
     "metadata": {},
     "output_type": "execute_result"
    }
   ],
   "source": [
    "metrics.accuracy_score(y_test, y_pred1)"
   ]
  },
  {
   "cell_type": "code",
   "execution_count": 360,
   "id": "2a85372f",
   "metadata": {},
   "outputs": [
    {
     "data": {
      "text/plain": [
       "0.7060439560439561"
      ]
     },
     "execution_count": 360,
     "metadata": {},
     "output_type": "execute_result"
    }
   ],
   "source": [
    "cm1[1][1]/(cm1[1][1]+cm1[0][1])"
   ]
  },
  {
   "cell_type": "code",
   "execution_count": 361,
   "id": "7e46167a",
   "metadata": {},
   "outputs": [
    {
     "data": {
      "text/plain": [
       "16.455696202531644"
      ]
     },
     "execution_count": 361,
     "metadata": {},
     "output_type": "execute_result"
    }
   ],
   "source": [
    "(cm1[1][1]+cm1[0][1])/len(y_test)*100"
   ]
  },
  {
   "cell_type": "markdown",
   "id": "bd2cf07a",
   "metadata": {},
   "source": [
    "# VALIDATION - BEST MODEL --> 70% accuracy in 17% of matches"
   ]
  },
  {
   "cell_type": "code",
   "execution_count": 362,
   "id": "31566b6c",
   "metadata": {},
   "outputs": [
    {
     "data": {
      "text/plain": [
       "array([[53, 50],\n",
       "       [53, 98]])"
      ]
     },
     "execution_count": 362,
     "metadata": {},
     "output_type": "execute_result"
    }
   ],
   "source": [
    "y_pred = model.predict(X_validation)\n",
    "confusion_matrix(y_validation, y_pred)"
   ]
  },
  {
   "cell_type": "code",
   "execution_count": 363,
   "id": "960fa297",
   "metadata": {},
   "outputs": [
    {
     "data": {
      "text/plain": [
       "0.594488188976378"
      ]
     },
     "execution_count": 363,
     "metadata": {},
     "output_type": "execute_result"
    }
   ],
   "source": [
    "metrics.accuracy_score(y_validation, y_pred)"
   ]
  },
  {
   "cell_type": "code",
   "execution_count": 364,
   "id": "e849fc15",
   "metadata": {},
   "outputs": [],
   "source": [
    "y_pred_proba = model.predict_proba(X_validation)[:,1]\n",
    "predict_mine = np.where(y_pred_proba > 0.55, 1, 0)\n",
    "cm1 = confusion_matrix(y_validation, predict_mine)"
   ]
  },
  {
   "cell_type": "code",
   "execution_count": 365,
   "id": "8792d422",
   "metadata": {},
   "outputs": [
    {
     "data": {
      "text/plain": [
       "0.7755102040816326"
      ]
     },
     "execution_count": 365,
     "metadata": {},
     "output_type": "execute_result"
    }
   ],
   "source": [
    "cm1[1][1]/(cm1[1][1]+cm1[0][1])"
   ]
  },
  {
   "cell_type": "code",
   "execution_count": 366,
   "id": "e19d4fb4",
   "metadata": {},
   "outputs": [
    {
     "data": {
      "text/plain": [
       "19.291338582677163"
      ]
     },
     "execution_count": 366,
     "metadata": {},
     "output_type": "execute_result"
    }
   ],
   "source": [
    "(cm1[1][1]+cm1[0][1])/len(y_validation)*100"
   ]
  },
  {
   "cell_type": "code",
   "execution_count": 367,
   "id": "dbd587ba",
   "metadata": {},
   "outputs": [
    {
     "data": {
      "text/plain": [
       "array([[ 92,  11],\n",
       "       [113,  38]])"
      ]
     },
     "execution_count": 367,
     "metadata": {},
     "output_type": "execute_result"
    }
   ],
   "source": [
    "cm1"
   ]
  },
  {
   "cell_type": "code",
   "execution_count": null,
   "id": "e067fde4",
   "metadata": {},
   "outputs": [],
   "source": []
  },
  {
   "cell_type": "markdown",
   "id": "ad7f885b",
   "metadata": {},
   "source": [
    "## FINAL VALIDATION - NOVEMBER 2021"
   ]
  },
  {
   "cell_type": "code",
   "execution_count": 368,
   "id": "2ff81e36",
   "metadata": {},
   "outputs": [
    {
     "data": {
      "text/plain": [
       "array([[29, 41],\n",
       "       [33, 50]])"
      ]
     },
     "execution_count": 368,
     "metadata": {},
     "output_type": "execute_result"
    }
   ],
   "source": [
    "y_pred = model.predict(X_validation_november)\n",
    "confusion_matrix(y_validation_november, y_pred)"
   ]
  },
  {
   "cell_type": "code",
   "execution_count": 369,
   "id": "6d5e72bf",
   "metadata": {},
   "outputs": [
    {
     "data": {
      "text/plain": [
       "0.5163398692810458"
      ]
     },
     "execution_count": 369,
     "metadata": {},
     "output_type": "execute_result"
    }
   ],
   "source": [
    "metrics.accuracy_score(y_validation_november, y_pred)"
   ]
  },
  {
   "cell_type": "code",
   "execution_count": 370,
   "id": "2bd44841",
   "metadata": {},
   "outputs": [],
   "source": [
    "y_pred_proba = model.predict_proba(X_validation_november)[:,1]\n",
    "predict_mine = np.where(y_pred_proba > 0.55, 1, 0)\n",
    "cm1 = confusion_matrix(y_validation_november, predict_mine)"
   ]
  },
  {
   "cell_type": "code",
   "execution_count": 371,
   "id": "b0f47d24",
   "metadata": {},
   "outputs": [
    {
     "data": {
      "text/plain": [
       "array([[62,  8],\n",
       "       [67, 16]])"
      ]
     },
     "execution_count": 371,
     "metadata": {},
     "output_type": "execute_result"
    }
   ],
   "source": [
    "cm1"
   ]
  },
  {
   "cell_type": "code",
   "execution_count": 372,
   "id": "8c44788e",
   "metadata": {},
   "outputs": [
    {
     "data": {
      "text/plain": [
       "0.6666666666666666"
      ]
     },
     "execution_count": 372,
     "metadata": {},
     "output_type": "execute_result"
    }
   ],
   "source": [
    "cm1[1][1]/(cm1[1][1]+cm1[0][1])"
   ]
  },
  {
   "cell_type": "code",
   "execution_count": 373,
   "id": "9f8859f0",
   "metadata": {},
   "outputs": [
    {
     "data": {
      "text/plain": [
       "15.686274509803921"
      ]
     },
     "execution_count": 373,
     "metadata": {},
     "output_type": "execute_result"
    }
   ],
   "source": [
    "(cm1[1][1]+cm1[0][1])/len(y_validation_november)*100"
   ]
  },
  {
   "cell_type": "code",
   "execution_count": 374,
   "id": "433abf23",
   "metadata": {},
   "outputs": [],
   "source": [
    "#umbral --> 0.58; Condition --> TOTAL_CORNERS > 3\n",
    "import pickle\n",
    "file_name = \"model_under4_60.pkl\"\n",
    "\n",
    "# save\n",
    "pickle.dump(model, open(file_name, \"wb\"))\n",
    "\n",
    "# load\n",
    "#xgb_model_loaded = pickle.load(open(file_name, \"rb\"))\n"
   ]
  },
  {
   "cell_type": "code",
   "execution_count": null,
   "id": "b2915e8e",
   "metadata": {},
   "outputs": [],
   "source": []
  },
  {
   "cell_type": "markdown",
   "id": "a223252a",
   "metadata": {},
   "source": [
    "# OUTPUT"
   ]
  },
  {
   "cell_type": "code",
   "execution_count": 41,
   "id": "ea728580",
   "metadata": {},
   "outputs": [],
   "source": [
    "output = data[(data.YEARMONTH>=202111 )& (data.TOTAL_CORNERS>3)][[\"ID\", \"output\", \"CORNERS_H\", \"CORNERS_A\", \"TOTAL_CORNERS\"]].reset_index(drop=True)"
   ]
  },
  {
   "cell_type": "code",
   "execution_count": 42,
   "id": "d5279e1e",
   "metadata": {},
   "outputs": [],
   "source": [
    "output[\"PROB_CORNERS\"] = pd.DataFrame(model.predict_proba(X_validation_november)[:,1]).iloc[:, 0]\\\n",
    "    .apply(lambda x: 1 if x>0.6 else 0)"
   ]
  },
  {
   "cell_type": "code",
   "execution_count": 43,
   "id": "238bf892",
   "metadata": {},
   "outputs": [
    {
     "data": {
      "text/html": [
       "<div>\n",
       "<style scoped>\n",
       "    .dataframe tbody tr th:only-of-type {\n",
       "        vertical-align: middle;\n",
       "    }\n",
       "\n",
       "    .dataframe tbody tr th {\n",
       "        vertical-align: top;\n",
       "    }\n",
       "\n",
       "    .dataframe thead th {\n",
       "        text-align: right;\n",
       "    }\n",
       "</style>\n",
       "<table border=\"1\" class=\"dataframe\">\n",
       "  <thead>\n",
       "    <tr style=\"text-align: right;\">\n",
       "      <th></th>\n",
       "      <th>ID</th>\n",
       "      <th>output</th>\n",
       "      <th>CORNERS_H</th>\n",
       "      <th>CORNERS_A</th>\n",
       "      <th>TOTAL_CORNERS</th>\n",
       "      <th>PROB_CORNERS</th>\n",
       "    </tr>\n",
       "  </thead>\n",
       "  <tbody>\n",
       "    <tr>\n",
       "      <th>13</th>\n",
       "      <td>S0oXCjk1</td>\n",
       "      <td>1</td>\n",
       "      <td>4</td>\n",
       "      <td>0</td>\n",
       "      <td>4</td>\n",
       "      <td>1</td>\n",
       "    </tr>\n",
       "    <tr>\n",
       "      <th>37</th>\n",
       "      <td>4Y8aXZPg</td>\n",
       "      <td>1</td>\n",
       "      <td>4</td>\n",
       "      <td>0</td>\n",
       "      <td>4</td>\n",
       "      <td>1</td>\n",
       "    </tr>\n",
       "    <tr>\n",
       "      <th>81</th>\n",
       "      <td>Y54DQS1n</td>\n",
       "      <td>1</td>\n",
       "      <td>0</td>\n",
       "      <td>4</td>\n",
       "      <td>4</td>\n",
       "      <td>1</td>\n",
       "    </tr>\n",
       "  </tbody>\n",
       "</table>\n",
       "</div>"
      ],
      "text/plain": [
       "          ID  output  CORNERS_H  CORNERS_A  TOTAL_CORNERS  PROB_CORNERS\n",
       "13  S0oXCjk1       1          4          0              4             1\n",
       "37  4Y8aXZPg       1          4          0              4             1\n",
       "81  Y54DQS1n       1          0          4              4             1"
      ]
     },
     "execution_count": 43,
     "metadata": {},
     "output_type": "execute_result"
    }
   ],
   "source": [
    "output[output.PROB_CORNERS==1]"
   ]
  },
  {
   "cell_type": "code",
   "execution_count": null,
   "id": "dbd9992c",
   "metadata": {},
   "outputs": [],
   "source": []
  }
 ],
 "metadata": {
  "kernelspec": {
   "display_name": "Python 3 (ipykernel)",
   "language": "python",
   "name": "python3"
  },
  "language_info": {
   "codemirror_mode": {
    "name": "ipython",
    "version": 3
   },
   "file_extension": ".py",
   "mimetype": "text/x-python",
   "name": "python",
   "nbconvert_exporter": "python",
   "pygments_lexer": "ipython3",
   "version": "3.7.11"
  }
 },
 "nbformat": 4,
 "nbformat_minor": 5
}
